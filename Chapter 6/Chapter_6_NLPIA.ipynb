{
  "nbformat": 4,
  "nbformat_minor": 0,
  "metadata": {
    "colab": {
      "name": "Chapter 6 - NLPIA.ipynb",
      "provenance": [],
      "collapsed_sections": []
    },
    "kernelspec": {
      "name": "python3",
      "display_name": "Python 3"
    }
  },
  "cells": [
    {
      "cell_type": "code",
      "metadata": {
        "colab": {
          "base_uri": "https://localhost:8080/"
        },
        "id": "04VoO752yVzl",
        "outputId": "627f6457-2276-4566-b494-a17550085e29"
      },
      "source": [
        "!pip install nlpia"
      ],
      "execution_count": null,
      "outputs": [
        {
          "output_type": "stream",
          "text": [
            "Collecting nlpia\n",
            "\u001b[?25l  Downloading https://files.pythonhosted.org/packages/89/f6/ab35e962dd0b19f1008e88e788b202d45a90d9cd70b9bbf0ac26489ee260/nlpia-0.5.2-py2.py3-none-any.whl (32.0MB)\n",
            "\u001b[K     |████████████████████████████████| 32.0MB 153kB/s \n",
            "\u001b[?25hRequirement already satisfied: h5py in /usr/local/lib/python3.6/dist-packages (from nlpia) (2.10.0)\n",
            "Requirement already satisfied: tensorflow in /usr/local/lib/python3.6/dist-packages (from nlpia) (2.3.0)\n",
            "Requirement already satisfied: html5lib in /usr/local/lib/python3.6/dist-packages (from nlpia) (1.0.1)\n",
            "Collecting pypandoc\n",
            "  Downloading https://files.pythonhosted.org/packages/d6/b7/5050dc1769c8a93d3ec7c4bd55be161991c94b8b235f88bf7c764449e708/pypandoc-1.5.tar.gz\n",
            "Requirement already satisfied: pandas in /usr/local/lib/python3.6/dist-packages (from nlpia) (1.1.4)\n",
            "Collecting pugnlp\n",
            "\u001b[?25l  Downloading https://files.pythonhosted.org/packages/f7/20/a9f0b1f45c074c63da716fc1b301916cc3b64c11d5cbf7cb305eafaf158a/pugnlp-0.2.6-py2.py3-none-any.whl (706kB)\n",
            "\u001b[K     |████████████████████████████████| 716kB 40.8MB/s \n",
            "\u001b[?25hRequirement already satisfied: matplotlib in /usr/local/lib/python3.6/dist-packages (from nlpia) (3.2.2)\n",
            "Requirement already satisfied: jupyter in /usr/local/lib/python3.6/dist-packages (from nlpia) (1.0.0)\n",
            "Requirement already satisfied: lxml in /usr/local/lib/python3.6/dist-packages (from nlpia) (4.2.6)\n",
            "Requirement already satisfied: seaborn in /usr/local/lib/python3.6/dist-packages (from nlpia) (0.11.0)\n",
            "Requirement already satisfied: regex in /usr/local/lib/python3.6/dist-packages (from nlpia) (2019.12.20)\n",
            "Requirement already satisfied: nltk in /usr/local/lib/python3.6/dist-packages (from nlpia) (3.2.5)\n",
            "Collecting html2text\n",
            "  Downloading https://files.pythonhosted.org/packages/ae/88/14655f727f66b3e3199f4467bafcc88283e6c31b562686bf606264e09181/html2text-2020.1.16-py3-none-any.whl\n",
            "Collecting python-Levenshtein\n",
            "\u001b[?25l  Downloading https://files.pythonhosted.org/packages/42/a9/d1785c85ebf9b7dfacd08938dd028209c34a0ea3b1bcdb895208bd40a67d/python-Levenshtein-0.12.0.tar.gz (48kB)\n",
            "\u001b[K     |████████████████████████████████| 51kB 6.5MB/s \n",
            "\u001b[?25hRequirement already satisfied: keras in /usr/local/lib/python3.6/dist-packages (from nlpia) (2.4.3)\n",
            "Requirement already satisfied: scikit-learn in /usr/local/lib/python3.6/dist-packages (from nlpia) (0.22.2.post1)\n",
            "Requirement already satisfied: tqdm in /usr/local/lib/python3.6/dist-packages (from nlpia) (4.41.1)\n",
            "Requirement already satisfied: spacy in /usr/local/lib/python3.6/dist-packages (from nlpia) (2.2.4)\n",
            "Requirement already satisfied: future in /usr/local/lib/python3.6/dist-packages (from nlpia) (0.16.0)\n",
            "Requirement already satisfied: pandas-datareader in /usr/local/lib/python3.6/dist-packages (from nlpia) (0.9.0)\n",
            "Requirement already satisfied: plotly in /usr/local/lib/python3.6/dist-packages (from nlpia) (4.4.1)\n",
            "Requirement already satisfied: gensim in /usr/local/lib/python3.6/dist-packages (from nlpia) (3.6.0)\n",
            "Requirement already satisfied: six in /usr/local/lib/python3.6/dist-packages (from h5py->nlpia) (1.15.0)\n",
            "Requirement already satisfied: numpy>=1.7 in /usr/local/lib/python3.6/dist-packages (from h5py->nlpia) (1.18.5)\n",
            "Requirement already satisfied: keras-preprocessing<1.2,>=1.1.1 in /usr/local/lib/python3.6/dist-packages (from tensorflow->nlpia) (1.1.2)\n",
            "Requirement already satisfied: opt-einsum>=2.3.2 in /usr/local/lib/python3.6/dist-packages (from tensorflow->nlpia) (3.3.0)\n",
            "Requirement already satisfied: wheel>=0.26 in /usr/local/lib/python3.6/dist-packages (from tensorflow->nlpia) (0.35.1)\n",
            "Requirement already satisfied: absl-py>=0.7.0 in /usr/local/lib/python3.6/dist-packages (from tensorflow->nlpia) (0.10.0)\n",
            "Requirement already satisfied: tensorboard<3,>=2.3.0 in /usr/local/lib/python3.6/dist-packages (from tensorflow->nlpia) (2.3.0)\n",
            "Requirement already satisfied: tensorflow-estimator<2.4.0,>=2.3.0 in /usr/local/lib/python3.6/dist-packages (from tensorflow->nlpia) (2.3.0)\n",
            "Requirement already satisfied: protobuf>=3.9.2 in /usr/local/lib/python3.6/dist-packages (from tensorflow->nlpia) (3.12.4)\n",
            "Requirement already satisfied: wrapt>=1.11.1 in /usr/local/lib/python3.6/dist-packages (from tensorflow->nlpia) (1.12.1)\n",
            "Requirement already satisfied: google-pasta>=0.1.8 in /usr/local/lib/python3.6/dist-packages (from tensorflow->nlpia) (0.2.0)\n",
            "Requirement already satisfied: scipy==1.4.1 in /usr/local/lib/python3.6/dist-packages (from tensorflow->nlpia) (1.4.1)\n",
            "Requirement already satisfied: grpcio>=1.8.6 in /usr/local/lib/python3.6/dist-packages (from tensorflow->nlpia) (1.33.2)\n",
            "Requirement already satisfied: termcolor>=1.1.0 in /usr/local/lib/python3.6/dist-packages (from tensorflow->nlpia) (1.1.0)\n",
            "Requirement already satisfied: astunparse==1.6.3 in /usr/local/lib/python3.6/dist-packages (from tensorflow->nlpia) (1.6.3)\n",
            "Requirement already satisfied: gast==0.3.3 in /usr/local/lib/python3.6/dist-packages (from tensorflow->nlpia) (0.3.3)\n",
            "Requirement already satisfied: webencodings in /usr/local/lib/python3.6/dist-packages (from html5lib->nlpia) (0.5.1)\n",
            "Requirement already satisfied: setuptools in /usr/local/lib/python3.6/dist-packages (from pypandoc->nlpia) (50.3.2)\n",
            "Requirement already satisfied: pip>=8.1.0 in /usr/local/lib/python3.6/dist-packages (from pypandoc->nlpia) (19.3.1)\n",
            "Requirement already satisfied: python-dateutil>=2.7.3 in /usr/local/lib/python3.6/dist-packages (from pandas->nlpia) (2.8.1)\n",
            "Requirement already satisfied: pytz>=2017.2 in /usr/local/lib/python3.6/dist-packages (from pandas->nlpia) (2018.9)\n",
            "Requirement already satisfied: coverage in /usr/local/lib/python3.6/dist-packages (from pugnlp->nlpia) (3.7.1)\n",
            "Requirement already satisfied: python-slugify in /usr/local/lib/python3.6/dist-packages (from pugnlp->nlpia) (4.0.1)\n",
            "Collecting fuzzywuzzy\n",
            "  Downloading https://files.pythonhosted.org/packages/43/ff/74f23998ad2f93b945c0309f825be92e04e0348e062026998b5eefef4c33/fuzzywuzzy-0.18.0-py2.py3-none-any.whl\n",
            "Requirement already satisfied: pyparsing!=2.0.4,!=2.1.2,!=2.1.6,>=2.0.1 in /usr/local/lib/python3.6/dist-packages (from matplotlib->nlpia) (2.4.7)\n",
            "Requirement already satisfied: kiwisolver>=1.0.1 in /usr/local/lib/python3.6/dist-packages (from matplotlib->nlpia) (1.3.1)\n",
            "Requirement already satisfied: cycler>=0.10 in /usr/local/lib/python3.6/dist-packages (from matplotlib->nlpia) (0.10.0)\n",
            "Requirement already satisfied: ipykernel in /usr/local/lib/python3.6/dist-packages (from jupyter->nlpia) (4.10.1)\n",
            "Requirement already satisfied: jupyter-console in /usr/local/lib/python3.6/dist-packages (from jupyter->nlpia) (5.2.0)\n",
            "Requirement already satisfied: qtconsole in /usr/local/lib/python3.6/dist-packages (from jupyter->nlpia) (4.7.7)\n",
            "Requirement already satisfied: notebook in /usr/local/lib/python3.6/dist-packages (from jupyter->nlpia) (5.3.1)\n",
            "Requirement already satisfied: nbconvert in /usr/local/lib/python3.6/dist-packages (from jupyter->nlpia) (5.6.1)\n",
            "Requirement already satisfied: ipywidgets in /usr/local/lib/python3.6/dist-packages (from jupyter->nlpia) (7.5.1)\n",
            "Requirement already satisfied: pyyaml in /usr/local/lib/python3.6/dist-packages (from keras->nlpia) (3.13)\n",
            "Requirement already satisfied: joblib>=0.11 in /usr/local/lib/python3.6/dist-packages (from scikit-learn->nlpia) (0.17.0)\n",
            "Requirement already satisfied: blis<0.5.0,>=0.4.0 in /usr/local/lib/python3.6/dist-packages (from spacy->nlpia) (0.4.1)\n",
            "Requirement already satisfied: wasabi<1.1.0,>=0.4.0 in /usr/local/lib/python3.6/dist-packages (from spacy->nlpia) (0.8.0)\n",
            "Requirement already satisfied: thinc==7.4.0 in /usr/local/lib/python3.6/dist-packages (from spacy->nlpia) (7.4.0)\n",
            "Requirement already satisfied: srsly<1.1.0,>=1.0.2 in /usr/local/lib/python3.6/dist-packages (from spacy->nlpia) (1.0.4)\n",
            "Requirement already satisfied: catalogue<1.1.0,>=0.0.7 in /usr/local/lib/python3.6/dist-packages (from spacy->nlpia) (1.0.0)\n",
            "Requirement already satisfied: cymem<2.1.0,>=2.0.2 in /usr/local/lib/python3.6/dist-packages (from spacy->nlpia) (2.0.4)\n",
            "Requirement already satisfied: preshed<3.1.0,>=3.0.2 in /usr/local/lib/python3.6/dist-packages (from spacy->nlpia) (3.0.4)\n",
            "Requirement already satisfied: plac<1.2.0,>=0.9.6 in /usr/local/lib/python3.6/dist-packages (from spacy->nlpia) (1.1.3)\n",
            "Requirement already satisfied: requests<3.0.0,>=2.13.0 in /usr/local/lib/python3.6/dist-packages (from spacy->nlpia) (2.23.0)\n",
            "Requirement already satisfied: murmurhash<1.1.0,>=0.28.0 in /usr/local/lib/python3.6/dist-packages (from spacy->nlpia) (1.0.4)\n",
            "Requirement already satisfied: retrying>=1.3.3 in /usr/local/lib/python3.6/dist-packages (from plotly->nlpia) (1.3.3)\n",
            "Requirement already satisfied: smart-open>=1.2.1 in /usr/local/lib/python3.6/dist-packages (from gensim->nlpia) (3.0.0)\n",
            "Requirement already satisfied: markdown>=2.6.8 in /usr/local/lib/python3.6/dist-packages (from tensorboard<3,>=2.3.0->tensorflow->nlpia) (3.3.3)\n",
            "Requirement already satisfied: google-auth-oauthlib<0.5,>=0.4.1 in /usr/local/lib/python3.6/dist-packages (from tensorboard<3,>=2.3.0->tensorflow->nlpia) (0.4.2)\n",
            "Requirement already satisfied: tensorboard-plugin-wit>=1.6.0 in /usr/local/lib/python3.6/dist-packages (from tensorboard<3,>=2.3.0->tensorflow->nlpia) (1.7.0)\n",
            "Requirement already satisfied: google-auth<2,>=1.6.3 in /usr/local/lib/python3.6/dist-packages (from tensorboard<3,>=2.3.0->tensorflow->nlpia) (1.17.2)\n",
            "Requirement already satisfied: werkzeug>=0.11.15 in /usr/local/lib/python3.6/dist-packages (from tensorboard<3,>=2.3.0->tensorflow->nlpia) (1.0.1)\n",
            "Requirement already satisfied: text-unidecode>=1.3 in /usr/local/lib/python3.6/dist-packages (from python-slugify->pugnlp->nlpia) (1.3)\n",
            "Requirement already satisfied: jupyter-client in /usr/local/lib/python3.6/dist-packages (from ipykernel->jupyter->nlpia) (5.3.5)\n",
            "Requirement already satisfied: ipython>=4.0.0 in /usr/local/lib/python3.6/dist-packages (from ipykernel->jupyter->nlpia) (5.5.0)\n",
            "Requirement already satisfied: traitlets>=4.1.0 in /usr/local/lib/python3.6/dist-packages (from ipykernel->jupyter->nlpia) (4.3.3)\n",
            "Requirement already satisfied: tornado>=4.0 in /usr/local/lib/python3.6/dist-packages (from ipykernel->jupyter->nlpia) (5.1.1)\n",
            "Requirement already satisfied: pygments in /usr/local/lib/python3.6/dist-packages (from jupyter-console->jupyter->nlpia) (2.6.1)\n",
            "Requirement already satisfied: prompt-toolkit<2.0.0,>=1.0.0 in /usr/local/lib/python3.6/dist-packages (from jupyter-console->jupyter->nlpia) (1.0.18)\n",
            "Requirement already satisfied: pyzmq>=17.1 in /usr/local/lib/python3.6/dist-packages (from qtconsole->jupyter->nlpia) (20.0.0)\n",
            "Requirement already satisfied: ipython-genutils in /usr/local/lib/python3.6/dist-packages (from qtconsole->jupyter->nlpia) (0.2.0)\n",
            "Requirement already satisfied: jupyter-core in /usr/local/lib/python3.6/dist-packages (from qtconsole->jupyter->nlpia) (4.7.0)\n",
            "Requirement already satisfied: qtpy in /usr/local/lib/python3.6/dist-packages (from qtconsole->jupyter->nlpia) (1.9.0)\n",
            "Requirement already satisfied: terminado>=0.8.1 in /usr/local/lib/python3.6/dist-packages (from notebook->jupyter->nlpia) (0.9.1)\n",
            "Requirement already satisfied: jinja2 in /usr/local/lib/python3.6/dist-packages (from notebook->jupyter->nlpia) (2.11.2)\n",
            "Requirement already satisfied: Send2Trash in /usr/local/lib/python3.6/dist-packages (from notebook->jupyter->nlpia) (1.5.0)\n",
            "Requirement already satisfied: nbformat in /usr/local/lib/python3.6/dist-packages (from notebook->jupyter->nlpia) (5.0.8)\n",
            "Requirement already satisfied: mistune<2,>=0.8.1 in /usr/local/lib/python3.6/dist-packages (from nbconvert->jupyter->nlpia) (0.8.4)\n",
            "Requirement already satisfied: testpath in /usr/local/lib/python3.6/dist-packages (from nbconvert->jupyter->nlpia) (0.4.4)\n",
            "Requirement already satisfied: defusedxml in /usr/local/lib/python3.6/dist-packages (from nbconvert->jupyter->nlpia) (0.6.0)\n",
            "Requirement already satisfied: entrypoints>=0.2.2 in /usr/local/lib/python3.6/dist-packages (from nbconvert->jupyter->nlpia) (0.3)\n",
            "Requirement already satisfied: bleach in /usr/local/lib/python3.6/dist-packages (from nbconvert->jupyter->nlpia) (3.2.1)\n",
            "Requirement already satisfied: pandocfilters>=1.4.1 in /usr/local/lib/python3.6/dist-packages (from nbconvert->jupyter->nlpia) (1.4.3)\n",
            "Requirement already satisfied: widgetsnbextension~=3.5.0 in /usr/local/lib/python3.6/dist-packages (from ipywidgets->jupyter->nlpia) (3.5.1)\n",
            "Requirement already satisfied: importlib-metadata>=0.20; python_version < \"3.8\" in /usr/local/lib/python3.6/dist-packages (from catalogue<1.1.0,>=0.0.7->spacy->nlpia) (2.0.0)\n",
            "Requirement already satisfied: idna<3,>=2.5 in /usr/local/lib/python3.6/dist-packages (from requests<3.0.0,>=2.13.0->spacy->nlpia) (2.10)\n",
            "Requirement already satisfied: urllib3!=1.25.0,!=1.25.1,<1.26,>=1.21.1 in /usr/local/lib/python3.6/dist-packages (from requests<3.0.0,>=2.13.0->spacy->nlpia) (1.24.3)\n",
            "Requirement already satisfied: chardet<4,>=3.0.2 in /usr/local/lib/python3.6/dist-packages (from requests<3.0.0,>=2.13.0->spacy->nlpia) (3.0.4)\n",
            "Requirement already satisfied: certifi>=2017.4.17 in /usr/local/lib/python3.6/dist-packages (from requests<3.0.0,>=2.13.0->spacy->nlpia) (2020.11.8)\n",
            "Requirement already satisfied: requests-oauthlib>=0.7.0 in /usr/local/lib/python3.6/dist-packages (from google-auth-oauthlib<0.5,>=0.4.1->tensorboard<3,>=2.3.0->tensorflow->nlpia) (1.3.0)\n",
            "Requirement already satisfied: rsa<5,>=3.1.4; python_version >= \"3\" in /usr/local/lib/python3.6/dist-packages (from google-auth<2,>=1.6.3->tensorboard<3,>=2.3.0->tensorflow->nlpia) (4.6)\n",
            "Requirement already satisfied: cachetools<5.0,>=2.0.0 in /usr/local/lib/python3.6/dist-packages (from google-auth<2,>=1.6.3->tensorboard<3,>=2.3.0->tensorflow->nlpia) (4.1.1)\n",
            "Requirement already satisfied: pyasn1-modules>=0.2.1 in /usr/local/lib/python3.6/dist-packages (from google-auth<2,>=1.6.3->tensorboard<3,>=2.3.0->tensorflow->nlpia) (0.2.8)\n",
            "Requirement already satisfied: simplegeneric>0.8 in /usr/local/lib/python3.6/dist-packages (from ipython>=4.0.0->ipykernel->jupyter->nlpia) (0.8.1)\n",
            "Requirement already satisfied: pickleshare in /usr/local/lib/python3.6/dist-packages (from ipython>=4.0.0->ipykernel->jupyter->nlpia) (0.7.5)\n",
            "Requirement already satisfied: decorator in /usr/local/lib/python3.6/dist-packages (from ipython>=4.0.0->ipykernel->jupyter->nlpia) (4.4.2)\n",
            "Requirement already satisfied: pexpect; sys_platform != \"win32\" in /usr/local/lib/python3.6/dist-packages (from ipython>=4.0.0->ipykernel->jupyter->nlpia) (4.8.0)\n",
            "Requirement already satisfied: wcwidth in /usr/local/lib/python3.6/dist-packages (from prompt-toolkit<2.0.0,>=1.0.0->jupyter-console->jupyter->nlpia) (0.2.5)\n",
            "Requirement already satisfied: ptyprocess; os_name != \"nt\" in /usr/local/lib/python3.6/dist-packages (from terminado>=0.8.1->notebook->jupyter->nlpia) (0.6.0)\n",
            "Requirement already satisfied: MarkupSafe>=0.23 in /usr/local/lib/python3.6/dist-packages (from jinja2->notebook->jupyter->nlpia) (1.1.1)\n",
            "Requirement already satisfied: jsonschema!=2.5.0,>=2.4 in /usr/local/lib/python3.6/dist-packages (from nbformat->notebook->jupyter->nlpia) (2.6.0)\n",
            "Requirement already satisfied: packaging in /usr/local/lib/python3.6/dist-packages (from bleach->nbconvert->jupyter->nlpia) (20.4)\n",
            "Requirement already satisfied: zipp>=0.5 in /usr/local/lib/python3.6/dist-packages (from importlib-metadata>=0.20; python_version < \"3.8\"->catalogue<1.1.0,>=0.0.7->spacy->nlpia) (3.4.0)\n",
            "Requirement already satisfied: oauthlib>=3.0.0 in /usr/local/lib/python3.6/dist-packages (from requests-oauthlib>=0.7.0->google-auth-oauthlib<0.5,>=0.4.1->tensorboard<3,>=2.3.0->tensorflow->nlpia) (3.1.0)\n",
            "Requirement already satisfied: pyasn1>=0.1.3 in /usr/local/lib/python3.6/dist-packages (from rsa<5,>=3.1.4; python_version >= \"3\"->google-auth<2,>=1.6.3->tensorboard<3,>=2.3.0->tensorflow->nlpia) (0.4.8)\n",
            "Building wheels for collected packages: pypandoc, python-Levenshtein\n",
            "  Building wheel for pypandoc (setup.py) ... \u001b[?25l\u001b[?25hdone\n",
            "  Created wheel for pypandoc: filename=pypandoc-1.5-cp36-none-any.whl size=17038 sha256=f4cf9c04dd33cc5047d893977e090f3973ee3728202c159abad1f6bb54ac2d1d\n",
            "  Stored in directory: /root/.cache/pip/wheels/bb/7d/d6/2f9af55e800d37e42e546106bcbd36a86e24e725e303d17e04\n",
            "  Building wheel for python-Levenshtein (setup.py) ... \u001b[?25l\u001b[?25hdone\n",
            "  Created wheel for python-Levenshtein: filename=python_Levenshtein-0.12.0-cp36-cp36m-linux_x86_64.whl size=144795 sha256=d32553aaa8352140d3a140e22d5bdb917aeb090ab239d3ffb4383abd91c05047\n",
            "  Stored in directory: /root/.cache/pip/wheels/de/c2/93/660fd5f7559049268ad2dc6d81c4e39e9e36518766eaf7e342\n",
            "Successfully built pypandoc python-Levenshtein\n",
            "Installing collected packages: pypandoc, python-Levenshtein, fuzzywuzzy, pugnlp, html2text, nlpia\n",
            "Successfully installed fuzzywuzzy-0.18.0 html2text-2020.1.16 nlpia-0.5.2 pugnlp-0.2.6 pypandoc-1.5 python-Levenshtein-0.12.0\n"
          ],
          "name": "stdout"
        }
      ]
    },
    {
      "cell_type": "code",
      "metadata": {
        "id": "HjIPKKND9XK3"
      },
      "source": [
        "from nlpia.data.loaders import get_data"
      ],
      "execution_count": null,
      "outputs": []
    },
    {
      "cell_type": "code",
      "metadata": {
        "id": "RShN4e2B-auR",
        "colab": {
          "base_uri": "https://localhost:8080/",
          "height": 343
        },
        "outputId": "82269275-4dff-4ae3-ffa1-e5a7a8127332"
      },
      "source": [
        "word_vectors = get_data('word2vec')"
      ],
      "execution_count": null,
      "outputs": [
        {
          "output_type": "stream",
          "text": [
            "2020-11-30 00:38:20,719 WARNING:  nlpia.loaders:528:normalize_ext_rename normalize_ext.filepath=/usr/local/lib/python3.6/dist-packages/nlpia/bigdata/googlenews-vectors-negative300.bin.gz\n"
          ],
          "name": "stdout"
        },
        {
          "output_type": "error",
          "ename": "KeyboardInterrupt",
          "evalue": "ignored",
          "traceback": [
            "\u001b[0;31m---------------------------------------------------------------------------\u001b[0m",
            "\u001b[0;31mKeyboardInterrupt\u001b[0m                         Traceback (most recent call last)",
            "\u001b[0;32m<ipython-input-6-9a2728d0b66b>\u001b[0m in \u001b[0;36m<module>\u001b[0;34m()\u001b[0m\n\u001b[0;32m----> 1\u001b[0;31m \u001b[0mword_vectors\u001b[0m \u001b[0;34m=\u001b[0m \u001b[0mget_data\u001b[0m\u001b[0;34m(\u001b[0m\u001b[0;34m'word2vec'\u001b[0m\u001b[0;34m)\u001b[0m\u001b[0;34m\u001b[0m\u001b[0;34m\u001b[0m\u001b[0m\n\u001b[0m",
            "\u001b[0;32m/usr/local/lib/python3.6/dist-packages/nlpia/loaders.py\u001b[0m in \u001b[0;36mget_data\u001b[0;34m(name, nrows, limit)\u001b[0m\n\u001b[1;32m   1077\u001b[0m     \u001b[0;32mif\u001b[0m \u001b[0mname\u001b[0m \u001b[0;32min\u001b[0m \u001b[0mBIG_URLS\u001b[0m\u001b[0;34m:\u001b[0m\u001b[0;34m\u001b[0m\u001b[0;34m\u001b[0m\u001b[0m\n\u001b[1;32m   1078\u001b[0m         \u001b[0mlog\u001b[0m\u001b[0;34m.\u001b[0m\u001b[0minfo\u001b[0m\u001b[0;34m(\u001b[0m\u001b[0;34m'Downloading {}'\u001b[0m\u001b[0;34m.\u001b[0m\u001b[0mformat\u001b[0m\u001b[0;34m(\u001b[0m\u001b[0mname\u001b[0m\u001b[0;34m)\u001b[0m\u001b[0;34m)\u001b[0m\u001b[0;34m\u001b[0m\u001b[0;34m\u001b[0m\u001b[0m\n\u001b[0;32m-> 1079\u001b[0;31m         \u001b[0mfilepaths\u001b[0m \u001b[0;34m=\u001b[0m \u001b[0mdownload_unzip\u001b[0m\u001b[0;34m(\u001b[0m\u001b[0mname\u001b[0m\u001b[0;34m,\u001b[0m \u001b[0mnormalize_filenames\u001b[0m\u001b[0;34m=\u001b[0m\u001b[0;32mTrue\u001b[0m\u001b[0;34m)\u001b[0m\u001b[0;34m\u001b[0m\u001b[0;34m\u001b[0m\u001b[0m\n\u001b[0m\u001b[1;32m   1080\u001b[0m         \u001b[0mlog\u001b[0m\u001b[0;34m.\u001b[0m\u001b[0mdebug\u001b[0m\u001b[0;34m(\u001b[0m\u001b[0;34m'nlpia.loaders.get_data.filepaths='\u001b[0m \u001b[0;34m+\u001b[0m \u001b[0mstr\u001b[0m\u001b[0;34m(\u001b[0m\u001b[0mfilepaths\u001b[0m\u001b[0;34m)\u001b[0m\u001b[0;34m)\u001b[0m\u001b[0;34m\u001b[0m\u001b[0;34m\u001b[0m\u001b[0m\n\u001b[1;32m   1081\u001b[0m         \u001b[0mfilepath\u001b[0m \u001b[0;34m=\u001b[0m \u001b[0mfilepaths\u001b[0m\u001b[0;34m[\u001b[0m\u001b[0mname\u001b[0m\u001b[0;34m]\u001b[0m\u001b[0;34m[\u001b[0m\u001b[0;36m0\u001b[0m\u001b[0;34m]\u001b[0m \u001b[0;32mif\u001b[0m \u001b[0misinstance\u001b[0m\u001b[0;34m(\u001b[0m\u001b[0mfilepaths\u001b[0m\u001b[0;34m[\u001b[0m\u001b[0mname\u001b[0m\u001b[0;34m]\u001b[0m\u001b[0;34m,\u001b[0m \u001b[0;34m(\u001b[0m\u001b[0mlist\u001b[0m\u001b[0;34m,\u001b[0m \u001b[0mtuple\u001b[0m\u001b[0;34m)\u001b[0m\u001b[0;34m)\u001b[0m \u001b[0;32melse\u001b[0m \u001b[0mfilepaths\u001b[0m\u001b[0;34m[\u001b[0m\u001b[0mname\u001b[0m\u001b[0;34m]\u001b[0m\u001b[0;34m\u001b[0m\u001b[0;34m\u001b[0m\u001b[0m\n",
            "\u001b[0;32m/usr/local/lib/python3.6/dist-packages/nlpia/loaders.py\u001b[0m in \u001b[0;36mdownload_unzip\u001b[0;34m(names, normalize_filenames, verbose)\u001b[0m\n\u001b[1;32m    855\u001b[0m             \u001b[0;32mif\u001b[0m \u001b[0;32mnot\u001b[0m \u001b[0mfilepath\u001b[0m\u001b[0;34m:\u001b[0m\u001b[0;34m\u001b[0m\u001b[0;34m\u001b[0m\u001b[0m\n\u001b[1;32m    856\u001b[0m                 \u001b[0;32mcontinue\u001b[0m\u001b[0;34m\u001b[0m\u001b[0;34m\u001b[0m\u001b[0m\n\u001b[0;32m--> 857\u001b[0;31m             \u001b[0mfile_paths\u001b[0m\u001b[0;34m[\u001b[0m\u001b[0mname\u001b[0m\u001b[0;34m]\u001b[0m \u001b[0;34m=\u001b[0m \u001b[0mnormalize_ext_rename\u001b[0m\u001b[0;34m(\u001b[0m\u001b[0mfilepath\u001b[0m\u001b[0;34m)\u001b[0m\u001b[0;34m\u001b[0m\u001b[0;34m\u001b[0m\u001b[0m\n\u001b[0m\u001b[1;32m    858\u001b[0m             \u001b[0mlog\u001b[0m\u001b[0;34m.\u001b[0m\u001b[0mdebug\u001b[0m\u001b[0;34m(\u001b[0m\u001b[0;34m'downloaded name={} to filepath={}'\u001b[0m\u001b[0;34m.\u001b[0m\u001b[0mformat\u001b[0m\u001b[0;34m(\u001b[0m\u001b[0mname\u001b[0m\u001b[0;34m,\u001b[0m \u001b[0mfile_paths\u001b[0m\u001b[0;34m[\u001b[0m\u001b[0mname\u001b[0m\u001b[0;34m]\u001b[0m\u001b[0;34m)\u001b[0m\u001b[0;34m)\u001b[0m\u001b[0;34m\u001b[0m\u001b[0;34m\u001b[0m\u001b[0m\n\u001b[1;32m    859\u001b[0m             \u001b[0mfplower\u001b[0m \u001b[0;34m=\u001b[0m \u001b[0mfile_paths\u001b[0m\u001b[0;34m[\u001b[0m\u001b[0mname\u001b[0m\u001b[0;34m]\u001b[0m\u001b[0;34m.\u001b[0m\u001b[0mlower\u001b[0m\u001b[0;34m(\u001b[0m\u001b[0;34m)\u001b[0m\u001b[0;34m\u001b[0m\u001b[0;34m\u001b[0m\u001b[0m\n",
            "\u001b[0;32m/usr/local/lib/python3.6/dist-packages/nlpia/loaders.py\u001b[0m in \u001b[0;36mnormalize_ext_rename\u001b[0;34m(filepath)\u001b[0m\n\u001b[1;32m    527\u001b[0m     \"\"\"\n\u001b[1;32m    528\u001b[0m     \u001b[0mlog\u001b[0m\u001b[0;34m.\u001b[0m\u001b[0mwarning\u001b[0m\u001b[0;34m(\u001b[0m\u001b[0;34m'normalize_ext.filepath='\u001b[0m \u001b[0;34m+\u001b[0m \u001b[0mstr\u001b[0m\u001b[0;34m(\u001b[0m\u001b[0mfilepath\u001b[0m\u001b[0;34m)\u001b[0m\u001b[0;34m)\u001b[0m\u001b[0;34m\u001b[0m\u001b[0;34m\u001b[0m\u001b[0m\n\u001b[0;32m--> 529\u001b[0;31m     \u001b[0mnew_file_path\u001b[0m \u001b[0;34m=\u001b[0m \u001b[0mnormalize_ext\u001b[0m\u001b[0;34m(\u001b[0m\u001b[0mfilepath\u001b[0m\u001b[0;34m)\u001b[0m\u001b[0;34m\u001b[0m\u001b[0;34m\u001b[0m\u001b[0m\n\u001b[0m\u001b[1;32m    530\u001b[0m     \u001b[0mlog\u001b[0m\u001b[0;34m.\u001b[0m\u001b[0mwarning\u001b[0m\u001b[0;34m(\u001b[0m\u001b[0;34m'download_unzip.new_filepaths='\u001b[0m \u001b[0;34m+\u001b[0m \u001b[0mstr\u001b[0m\u001b[0;34m(\u001b[0m\u001b[0mnew_file_path\u001b[0m\u001b[0;34m)\u001b[0m\u001b[0;34m)\u001b[0m\u001b[0;34m\u001b[0m\u001b[0;34m\u001b[0m\u001b[0m\n\u001b[1;32m    531\u001b[0m     \u001b[0;31m# FIXME: fails when name is a url filename\u001b[0m\u001b[0;34m\u001b[0m\u001b[0;34m\u001b[0m\u001b[0;34m\u001b[0m\u001b[0m\n",
            "\u001b[0;32m/usr/local/lib/python3.6/dist-packages/nlpia/futil.py\u001b[0m in \u001b[0;36mnormalize_ext\u001b[0;34m(filepath)\u001b[0m\n\u001b[1;32m    273\u001b[0m         \u001b[0mr\u001b[0m \u001b[0;34m=\u001b[0m \u001b[0;34mr'^[.]?([^.]*)\\.([^.]{1,10})*'\u001b[0m \u001b[0;34m+\u001b[0m \u001b[0mr\u001b[0m\u001b[0;34m\u001b[0m\u001b[0;34m\u001b[0m\u001b[0m\n\u001b[1;32m    274\u001b[0m         \u001b[0mlog\u001b[0m\u001b[0;34m.\u001b[0m\u001b[0mdebug\u001b[0m\u001b[0;34m(\u001b[0m\u001b[0;34mf'regex pattern = {r}, string={filepath}'\u001b[0m\u001b[0;34m)\u001b[0m\u001b[0;34m\u001b[0m\u001b[0;34m\u001b[0m\u001b[0m\n\u001b[0;32m--> 275\u001b[0;31m         \u001b[0;32mif\u001b[0m \u001b[0mre\u001b[0m\u001b[0;34m.\u001b[0m\u001b[0mmatch\u001b[0m\u001b[0;34m(\u001b[0m\u001b[0mr\u001b[0m\u001b[0;34m,\u001b[0m \u001b[0mfplower\u001b[0m\u001b[0;34m)\u001b[0m \u001b[0;32mand\u001b[0m \u001b[0;32mnot\u001b[0m \u001b[0mfplower\u001b[0m\u001b[0;34m.\u001b[0m\u001b[0mendswith\u001b[0m\u001b[0;34m(\u001b[0m\u001b[0mnewext\u001b[0m\u001b[0;34m)\u001b[0m\u001b[0;34m:\u001b[0m\u001b[0;34m\u001b[0m\u001b[0;34m\u001b[0m\u001b[0m\n\u001b[0m\u001b[1;32m    276\u001b[0m             \u001b[0mfilepath\u001b[0m \u001b[0;34m=\u001b[0m \u001b[0mfilepath\u001b[0m\u001b[0;34m[\u001b[0m\u001b[0;34m:\u001b[0m\u001b[0;34m-\u001b[0m\u001b[0mlen\u001b[0m\u001b[0;34m(\u001b[0m\u001b[0mext\u001b[0m\u001b[0;34m)\u001b[0m\u001b[0;34m]\u001b[0m \u001b[0;34m+\u001b[0m \u001b[0mnewext\u001b[0m\u001b[0;34m\u001b[0m\u001b[0;34m\u001b[0m\u001b[0m\n\u001b[1;32m    277\u001b[0m     \u001b[0;32mreturn\u001b[0m \u001b[0mfilepath\u001b[0m\u001b[0;34m\u001b[0m\u001b[0;34m\u001b[0m\u001b[0m\n",
            "\u001b[0;32m/usr/lib/python3.6/re.py\u001b[0m in \u001b[0;36mmatch\u001b[0;34m(pattern, string, flags)\u001b[0m\n\u001b[1;32m    170\u001b[0m     \"\"\"Try to apply the pattern at the start of the string, returning\n\u001b[1;32m    171\u001b[0m     a match object, or None if no match was found.\"\"\"\n\u001b[0;32m--> 172\u001b[0;31m     \u001b[0;32mreturn\u001b[0m \u001b[0m_compile\u001b[0m\u001b[0;34m(\u001b[0m\u001b[0mpattern\u001b[0m\u001b[0;34m,\u001b[0m \u001b[0mflags\u001b[0m\u001b[0;34m)\u001b[0m\u001b[0;34m.\u001b[0m\u001b[0mmatch\u001b[0m\u001b[0;34m(\u001b[0m\u001b[0mstring\u001b[0m\u001b[0;34m)\u001b[0m\u001b[0;34m\u001b[0m\u001b[0;34m\u001b[0m\u001b[0m\n\u001b[0m\u001b[1;32m    173\u001b[0m \u001b[0;34m\u001b[0m\u001b[0m\n\u001b[1;32m    174\u001b[0m \u001b[0;32mdef\u001b[0m \u001b[0mfullmatch\u001b[0m\u001b[0;34m(\u001b[0m\u001b[0mpattern\u001b[0m\u001b[0;34m,\u001b[0m \u001b[0mstring\u001b[0m\u001b[0;34m,\u001b[0m \u001b[0mflags\u001b[0m\u001b[0;34m=\u001b[0m\u001b[0;36m0\u001b[0m\u001b[0;34m)\u001b[0m\u001b[0;34m:\u001b[0m\u001b[0;34m\u001b[0m\u001b[0;34m\u001b[0m\u001b[0m\n",
            "\u001b[0;31mKeyboardInterrupt\u001b[0m: "
          ]
        }
      ]
    },
    {
      "cell_type": "code",
      "metadata": {
        "id": "tVN0b_FQ8OoQ"
      },
      "source": [
        ""
      ],
      "execution_count": null,
      "outputs": []
    },
    {
      "cell_type": "code",
      "metadata": {
        "id": "lJf4a3GTltQn"
      },
      "source": [
        "import gensim.downloader as api"
      ],
      "execution_count": null,
      "outputs": []
    },
    {
      "cell_type": "code",
      "metadata": {
        "colab": {
          "base_uri": "https://localhost:8080/"
        },
        "id": "Kq7SPWZLoQ0l",
        "outputId": "927a3c66-cf8c-41d6-be14-9691c78010ec"
      },
      "source": [
        "word_vectors = api.load(\"word2vec-google-news-300\", return_path=True)"
      ],
      "execution_count": null,
      "outputs": [
        {
          "output_type": "stream",
          "text": [
            "[=================================================-] 99.7% 1657.6/1662.8MB downloaded\n"
          ],
          "name": "stdout"
        }
      ]
    },
    {
      "cell_type": "code",
      "metadata": {
        "colab": {
          "base_uri": "https://localhost:8080/"
        },
        "id": "W6i_DB_8qrJ3",
        "outputId": "4d3812db-16de-4be7-bd19-7f80480f8a1d"
      },
      "source": [
        "print(word_vectors)"
      ],
      "execution_count": null,
      "outputs": [
        {
          "output_type": "stream",
          "text": [
            "/root/gensim-data/word2vec-google-news-300/word2vec-google-news-300.gz\n"
          ],
          "name": "stdout"
        }
      ]
    },
    {
      "cell_type": "code",
      "metadata": {
        "id": "_ytHHJOdq9t1"
      },
      "source": [
        "from gensim.models.keyedvectors import KeyedVectors"
      ],
      "execution_count": null,
      "outputs": []
    },
    {
      "cell_type": "code",
      "metadata": {
        "id": "OGw628ZPq3mG"
      },
      "source": [
        "word_vectors1 = KeyedVectors.load_word2vec_format(word_vectors, binary=True)"
      ],
      "execution_count": null,
      "outputs": []
    },
    {
      "cell_type": "code",
      "metadata": {
        "colab": {
          "base_uri": "https://localhost:8080/"
        },
        "id": "-LHlXBRsoYiE",
        "outputId": "f11914ef-f023-4236-8905-8e2ad3e9c5a1"
      },
      "source": [
        "word_vectors1.most_similar(positive=['cooking', 'potatoes'], topn=5)"
      ],
      "execution_count": null,
      "outputs": [
        {
          "output_type": "stream",
          "text": [
            "/usr/local/lib/python3.6/dist-packages/gensim/matutils.py:737: FutureWarning: Conversion of the second argument of issubdtype from `int` to `np.signedinteger` is deprecated. In future, it will be treated as `np.int64 == np.dtype(int).type`.\n",
            "  if np.issubdtype(vec.dtype, np.int):\n"
          ],
          "name": "stderr"
        },
        {
          "output_type": "execute_result",
          "data": {
            "text/plain": [
              "[('cook', 0.6973531246185303),\n",
              " ('oven_roasting', 0.6754531860351562),\n",
              " ('Slow_cooker', 0.6742031574249268),\n",
              " ('sweet_potatoes', 0.6600280404090881),\n",
              " ('stir_fry_vegetables', 0.6548759341239929)]"
            ]
          },
          "metadata": {
            "tags": []
          },
          "execution_count": 14
        }
      ]
    },
    {
      "cell_type": "code",
      "metadata": {
        "colab": {
          "base_uri": "https://localhost:8080/",
          "height": 123
        },
        "id": "qvvWm3vcqd9T",
        "outputId": "2551d822-320b-40bf-ab6f-788480c0f93c"
      },
      "source": [
        "word_vectors1.doesnt_match(\"potatoes milk cake computer\".split())"
      ],
      "execution_count": null,
      "outputs": [
        {
          "output_type": "stream",
          "text": [
            "/usr/local/lib/python3.6/dist-packages/gensim/models/keyedvectors.py:895: FutureWarning: arrays to stack must be passed as a \"sequence\" type such as list or tuple. Support for non-sequence iterables such as generators is deprecated as of NumPy 1.16 and will raise an error in the future.\n",
            "  vectors = vstack(self.word_vec(word, use_norm=True) for word in used_words).astype(REAL)\n",
            "/usr/local/lib/python3.6/dist-packages/gensim/matutils.py:737: FutureWarning: Conversion of the second argument of issubdtype from `int` to `np.signedinteger` is deprecated. In future, it will be treated as `np.int64 == np.dtype(int).type`.\n",
            "  if np.issubdtype(vec.dtype, np.int):\n"
          ],
          "name": "stderr"
        },
        {
          "output_type": "execute_result",
          "data": {
            "application/vnd.google.colaboratory.intrinsic+json": {
              "type": "string"
            },
            "text/plain": [
              "'computer'"
            ]
          },
          "metadata": {
            "tags": []
          },
          "execution_count": 15
        }
      ]
    },
    {
      "cell_type": "code",
      "metadata": {
        "colab": {
          "base_uri": "https://localhost:8080/"
        },
        "id": "vrdjLabytgMl",
        "outputId": "e843c20f-fde0-4024-e2cc-d03b9b45aa7c"
      },
      "source": [
        "word_vectors1.most_similar(positive=['king', 'queen'], negative=['man'], topn=2)"
      ],
      "execution_count": null,
      "outputs": [
        {
          "output_type": "stream",
          "text": [
            "/usr/local/lib/python3.6/dist-packages/gensim/matutils.py:737: FutureWarning: Conversion of the second argument of issubdtype from `int` to `np.signedinteger` is deprecated. In future, it will be treated as `np.int64 == np.dtype(int).type`.\n",
            "  if np.issubdtype(vec.dtype, np.int):\n"
          ],
          "name": "stderr"
        },
        {
          "output_type": "execute_result",
          "data": {
            "text/plain": [
              "[('queens', 0.595018744468689), ('monarch', 0.5815044641494751)]"
            ]
          },
          "metadata": {
            "tags": []
          },
          "execution_count": 16
        }
      ]
    },
    {
      "cell_type": "code",
      "metadata": {
        "colab": {
          "base_uri": "https://localhost:8080/"
        },
        "id": "WxEo7xHhx0tu",
        "outputId": "0e4bb0cf-a2c4-4cef-92e2-a0c9d356f38d"
      },
      "source": [
        "word_vectors1.similarity('princess', 'queen')"
      ],
      "execution_count": null,
      "outputs": [
        {
          "output_type": "stream",
          "text": [
            "/usr/local/lib/python3.6/dist-packages/gensim/matutils.py:737: FutureWarning: Conversion of the second argument of issubdtype from `int` to `np.signedinteger` is deprecated. In future, it will be treated as `np.int64 == np.dtype(int).type`.\n",
            "  if np.issubdtype(vec.dtype, np.int):\n"
          ],
          "name": "stderr"
        },
        {
          "output_type": "execute_result",
          "data": {
            "text/plain": [
              "0.7070532"
            ]
          },
          "metadata": {
            "tags": []
          },
          "execution_count": 17
        }
      ]
    },
    {
      "cell_type": "code",
      "metadata": {
        "colab": {
          "base_uri": "https://localhost:8080/"
        },
        "id": "DGz7EaRryI9C",
        "outputId": "7697e050-f5f7-4a78-d4b4-00e1b57ee5a7"
      },
      "source": [
        "word_vectors1['phone']"
      ],
      "execution_count": null,
      "outputs": [
        {
          "output_type": "execute_result",
          "data": {
            "text/plain": [
              "array([-0.01446533, -0.12792969, -0.11572266, -0.22167969, -0.07373047,\n",
              "       -0.05981445, -0.10009766, -0.06884766,  0.14941406,  0.10107422,\n",
              "       -0.03076172, -0.03271484, -0.03125   , -0.10791016,  0.12158203,\n",
              "        0.16015625,  0.19335938,  0.0065918 , -0.15429688,  0.03710938,\n",
              "        0.22753906,  0.1953125 ,  0.08300781,  0.03686523, -0.02148438,\n",
              "        0.01483154, -0.21289062,  0.16015625,  0.29101562, -0.03149414,\n",
              "       -0.05883789,  0.04418945, -0.11767578, -0.12597656,  0.08447266,\n",
              "       -0.10791016, -0.11279297,  0.17871094,  0.04467773,  0.17675781,\n",
              "       -0.17089844, -0.02160645, -0.00061417, -0.17480469, -0.04760742,\n",
              "        0.06835938, -0.0546875 ,  0.04467773, -0.19628906, -0.18554688,\n",
              "       -0.10839844, -0.06030273,  0.11474609,  0.08544922,  0.05859375,\n",
              "        0.23925781, -0.07080078,  0.11816406, -0.11132812,  0.08300781,\n",
              "       -0.04394531,  0.00970459, -0.1484375 ,  0.265625  , -0.13769531,\n",
              "        0.23535156, -0.19824219,  0.31445312,  0.02734375,  0.16894531,\n",
              "        0.20898438, -0.0480957 ,  0.16015625, -0.00147247, -0.13085938,\n",
              "       -0.01312256,  0.07763672,  0.22851562,  0.13867188, -0.2578125 ,\n",
              "        0.06176758,  0.03955078,  0.13867188,  0.08154297,  0.00210571,\n",
              "       -0.05297852,  0.03222656,  0.02148438, -0.21582031,  0.30664062,\n",
              "       -0.05761719,  0.02722168, -0.28320312, -0.4140625 ,  0.01745605,\n",
              "        0.04101562,  0.00352478,  0.11279297,  0.046875  , -0.09960938,\n",
              "       -0.18945312, -0.24707031,  0.10058594,  0.35546875,  0.15625   ,\n",
              "        0.02319336,  0.125     , -0.12402344,  0.13378906,  0.17578125,\n",
              "        0.06494141, -0.10644531,  0.00714111, -0.40234375,  0.01989746,\n",
              "        0.11376953, -0.10644531, -0.19921875,  0.29492188,  0.15527344,\n",
              "       -0.13574219,  0.16601562, -0.18457031,  0.28125   ,  0.16992188,\n",
              "       -0.04345703, -0.203125  ,  0.02380371,  0.00268555,  0.125     ,\n",
              "       -0.14550781, -0.24121094, -0.125     , -0.12304688, -0.01251221,\n",
              "       -0.203125  ,  0.11132812,  0.04858398, -0.02246094, -0.19238281,\n",
              "        0.00221252, -0.13378906, -0.11035156,  0.1796875 ,  0.14648438,\n",
              "        0.11914062, -0.05419922, -0.3046875 , -0.14257812, -0.0019455 ,\n",
              "        0.296875  ,  0.34179688, -0.06396484, -0.00958252,  0.15527344,\n",
              "       -0.06494141, -0.12792969,  0.04736328,  0.00686646,  0.07910156,\n",
              "       -0.31445312,  0.15039062, -0.00558472, -0.00854492, -0.19726562,\n",
              "        0.0456543 , -0.0859375 , -0.3125    , -0.04931641, -0.17480469,\n",
              "        0.23632812,  0.0189209 , -0.01470947, -0.23632812, -0.48828125,\n",
              "       -0.09667969,  0.26953125,  0.2265625 , -0.33007812,  0.01855469,\n",
              "       -0.15332031, -0.13769531, -0.24316406,  0.12109375,  0.43945312,\n",
              "        0.05078125, -0.01574707,  0.14550781, -0.27148438,  0.05249023,\n",
              "       -0.12060547, -0.10742188, -0.22070312,  0.11132812,  0.00765991,\n",
              "        0.234375  , -0.2734375 ,  0.00512695, -0.01708984,  0.02258301,\n",
              "       -0.01031494,  0.19433594,  0.07226562,  0.02185059,  0.00915527,\n",
              "        0.15722656, -0.01733398, -0.01928711, -0.08837891,  0.01269531,\n",
              "        0.04125977, -0.05615234, -0.08105469, -0.40625   ,  0.04882812,\n",
              "        0.15136719, -0.06030273, -0.10791016, -0.3125    ,  0.00247192,\n",
              "        0.08007812,  0.203125  , -0.08789062,  0.06640625,  0.03417969,\n",
              "        0.20898438, -0.29101562,  0.20703125, -0.23730469, -0.05517578,\n",
              "        0.05737305, -0.13769531, -0.34960938, -0.20214844,  0.13671875,\n",
              "       -0.28710938,  0.00592041, -0.21289062, -0.25585938,  0.01397705,\n",
              "        0.3203125 , -0.01123047, -0.08544922, -0.16210938,  0.22558594,\n",
              "        0.05126953,  0.21386719, -0.00552368,  0.05932617, -0.06396484,\n",
              "       -0.04003906,  0.21191406,  0.12255859, -0.02954102,  0.18554688,\n",
              "        0.07421875,  0.20605469, -0.40429688, -0.05761719, -0.09521484,\n",
              "       -0.00830078, -0.14257812, -0.22265625, -0.22363281, -0.16601562,\n",
              "        0.29492188, -0.01190186, -0.11132812, -0.08642578, -0.19140625,\n",
              "        0.01818848,  0.17675781,  0.04077148, -0.2734375 , -0.00708008,\n",
              "       -0.09472656,  0.32421875,  0.05322266,  0.046875  ,  0.11376953,\n",
              "        0.15722656,  0.06201172,  0.07275391, -0.09179688, -0.09521484,\n",
              "       -0.10839844,  0.07470703,  0.10742188, -0.02856445,  0.16015625,\n",
              "       -0.07910156,  0.15722656, -0.06152344, -0.17480469,  0.08007812,\n",
              "       -0.13671875, -0.18359375, -0.05200195, -0.00585938, -0.15625   ],\n",
              "      dtype=float32)"
            ]
          },
          "metadata": {
            "tags": []
          },
          "execution_count": 18
        }
      ]
    },
    {
      "cell_type": "code",
      "metadata": {
        "colab": {
          "base_uri": "https://localhost:8080/"
        },
        "id": "K4reBPRqywqh",
        "outputId": "adea02f3-5d88-4766-d6a5-d8b78d4ec6d0"
      },
      "source": [
        "word_vectors1['phone'].shape"
      ],
      "execution_count": null,
      "outputs": [
        {
          "output_type": "execute_result",
          "data": {
            "text/plain": [
              "(300,)"
            ]
          },
          "metadata": {
            "tags": []
          },
          "execution_count": 19
        }
      ]
    },
    {
      "cell_type": "code",
      "metadata": {
        "id": "-ImNqSXsy5mh"
      },
      "source": [
        "import gensim.downloader as api"
      ],
      "execution_count": null,
      "outputs": []
    },
    {
      "cell_type": "code",
      "metadata": {
        "colab": {
          "base_uri": "https://localhost:8080/"
        },
        "id": "IlYOkID3P_Jq",
        "outputId": "f364d655-0fc3-4d9b-be86-26828594f179"
      },
      "source": [
        "word_vectors = api.load(\"word2vec-google-news-300\", return_path=True)"
      ],
      "execution_count": null,
      "outputs": [
        {
          "output_type": "stream",
          "text": [
            "[==================================================] 100.0% 1662.8/1662.8MB downloaded\n"
          ],
          "name": "stdout"
        }
      ]
    },
    {
      "cell_type": "code",
      "metadata": {
        "colab": {
          "base_uri": "https://localhost:8080/"
        },
        "id": "5bvVHW0CQDlI",
        "outputId": "e07544dd-fb88-4caa-f092-77a0a0379856"
      },
      "source": [
        "print(word_vectors)"
      ],
      "execution_count": null,
      "outputs": [
        {
          "output_type": "stream",
          "text": [
            "/root/gensim-data/word2vec-google-news-300/word2vec-google-news-300.gz\n"
          ],
          "name": "stdout"
        }
      ]
    },
    {
      "cell_type": "code",
      "metadata": {
        "id": "eqVQEXl5Rh5Y"
      },
      "source": [
        "from gensim.models.keyedvectors import KeyedVectors"
      ],
      "execution_count": null,
      "outputs": []
    },
    {
      "cell_type": "code",
      "metadata": {
        "id": "Xa6IQutpRr5F"
      },
      "source": [
        "import os"
      ],
      "execution_count": null,
      "outputs": []
    },
    {
      "cell_type": "code",
      "metadata": {
        "id": "M930KQcdRs4k"
      },
      "source": [
        "wv = KeyedVectors.load_word2vec_format(word_vectors, binary=True)"
      ],
      "execution_count": null,
      "outputs": []
    },
    {
      "cell_type": "code",
      "metadata": {
        "colab": {
          "base_uri": "https://localhost:8080/"
        },
        "id": "ZjiQvyRCR0-U",
        "outputId": "90d7c3b4-cff6-4437-de94-68754275a401"
      },
      "source": [
        "len(wv.vocab)"
      ],
      "execution_count": null,
      "outputs": [
        {
          "output_type": "execute_result",
          "data": {
            "text/plain": [
              "3000000"
            ]
          },
          "metadata": {
            "tags": []
          },
          "execution_count": 8
        }
      ]
    },
    {
      "cell_type": "code",
      "metadata": {
        "id": "LTP88u2YS5jl"
      },
      "source": [
        "import pandas as pd"
      ],
      "execution_count": null,
      "outputs": []
    },
    {
      "cell_type": "code",
      "metadata": {
        "id": "cmDeAGfTTIUS"
      },
      "source": [
        "vocab = pd.Series(wv.vocab)"
      ],
      "execution_count": null,
      "outputs": []
    },
    {
      "cell_type": "code",
      "metadata": {
        "colab": {
          "base_uri": "https://localhost:8080/"
        },
        "id": "4WQbObnvTPBS",
        "outputId": "9517b7cd-e812-4bc3-e0b4-21b30cf27864"
      },
      "source": [
        "vocab.iloc[100000:100006]"
      ],
      "execution_count": null,
      "outputs": [
        {
          "output_type": "execute_result",
          "data": {
            "text/plain": [
              "distinctiveness    Vocab(count:2900000, index:100000)\n",
              "Namco_Bandai       Vocab(count:2899999, index:100001)\n",
              "ramparts           Vocab(count:2899998, index:100002)\n",
              "Linden_Lab         Vocab(count:2899997, index:100003)\n",
              "Revolutions        Vocab(count:2899996, index:100004)\n",
              "Henderson_Nev.     Vocab(count:2899995, index:100005)\n",
              "dtype: object"
            ]
          },
          "metadata": {
            "tags": []
          },
          "execution_count": 17
        }
      ]
    },
    {
      "cell_type": "code",
      "metadata": {
        "colab": {
          "base_uri": "https://localhost:8080/"
        },
        "id": "VkIODsvHTgCR",
        "outputId": "98a6d11c-922e-4cd7-89a2-1f25ba0220c3"
      },
      "source": [
        "wv['Illini']"
      ],
      "execution_count": null,
      "outputs": [
        {
          "output_type": "execute_result",
          "data": {
            "text/plain": [
              "array([ 0.15625   ,  0.18652344,  0.33203125,  0.55859375,  0.03637695,\n",
              "       -0.09375   , -0.05029297,  0.16796875, -0.0625    ,  0.09912109,\n",
              "       -0.0291748 ,  0.39257812,  0.05395508,  0.35351562, -0.02270508,\n",
              "        0.05957031,  0.06640625, -0.24511719,  0.32617188, -0.00149536,\n",
              "        0.46875   , -0.00534058,  0.03271484,  0.36523438, -0.3046875 ,\n",
              "       -0.08984375,  0.04956055,  0.08691406,  0.18847656, -0.16992188,\n",
              "       -0.1328125 , -0.19433594,  0.11230469, -0.33984375,  0.03588867,\n",
              "        0.07373047,  0.1328125 ,  0.02270508, -0.06005859,  0.421875  ,\n",
              "        0.25195312, -0.39257812,  0.01733398, -0.28320312, -0.33203125,\n",
              "        0.12890625, -0.16992188,  0.21289062,  0.15039062,  0.12207031,\n",
              "        0.15820312,  0.02307129, -0.359375  , -0.046875  ,  0.01672363,\n",
              "        0.14257812, -0.01477051,  0.3828125 , -0.06079102, -0.390625  ,\n",
              "        0.06176758, -0.06738281, -0.06884766,  0.1640625 , -0.08007812,\n",
              "        0.2421875 ,  0.02380371,  0.07177734, -0.03808594,  0.51953125,\n",
              "       -0.12255859,  0.10498047, -0.43945312, -0.30273438, -0.01733398,\n",
              "       -0.19238281, -0.34765625, -0.30664062, -0.21972656, -0.06079102,\n",
              "       -0.34570312, -0.55078125, -0.13867188, -0.11621094, -0.02038574,\n",
              "        0.18066406, -0.08789062, -0.00268555,  0.00848389, -0.171875  ,\n",
              "       -0.51171875, -0.36132812, -0.20214844,  0.15429688,  0.28320312,\n",
              "       -0.234375  ,  0.23925781, -0.18945312, -0.06787109, -0.1640625 ,\n",
              "        0.08935547, -0.19726562,  0.19628906,  0.09130859, -0.27539062,\n",
              "        0.17285156, -0.01428223,  0.00527954, -0.04638672, -0.22460938,\n",
              "        0.23535156, -0.05371094,  0.02844238,  0.3046875 ,  0.44921875,\n",
              "        0.06494141, -0.140625  , -0.00878906, -0.04614258, -0.19921875,\n",
              "       -0.75      , -0.3515625 , -0.25      , -0.33789062, -0.00167084,\n",
              "       -0.00994873,  0.11474609,  0.09228516, -0.21484375,  0.31445312,\n",
              "        0.13378906,  0.25976562, -0.00270081,  0.09570312, -0.03222656,\n",
              "       -0.16894531,  0.19433594,  0.453125  , -0.15527344, -0.02270508,\n",
              "       -0.05053711, -0.234375  , -0.05004883, -0.20019531, -0.18359375,\n",
              "        0.28515625, -0.23339844, -0.17089844,  0.05444336, -0.18847656,\n",
              "       -0.00357056,  0.28710938, -0.1015625 ,  0.13085938, -0.10302734,\n",
              "       -0.37890625,  0.25195312,  0.00289917, -0.24121094, -0.06640625,\n",
              "        0.20019531,  0.03540039,  0.296875  ,  0.22167969, -0.02563477,\n",
              "       -0.56640625,  0.21289062,  0.24707031,  0.17773438,  0.17382812,\n",
              "       -0.0534668 ,  0.1484375 ,  0.11474609,  0.03613281, -0.33789062,\n",
              "       -0.25585938,  0.0480957 , -0.10742188, -0.05126953, -0.15820312,\n",
              "       -0.09814453,  0.26757812,  0.5703125 , -0.25390625, -0.21484375,\n",
              "       -0.03320312, -0.16796875,  0.26171875,  0.29492188,  0.13671875,\n",
              "        0.26757812, -0.01416016,  0.06445312, -0.00787354, -0.14941406,\n",
              "        0.01721191, -0.07177734, -0.16601562,  0.15527344, -0.22167969,\n",
              "        0.00469971, -0.2578125 , -0.0703125 , -0.12109375,  0.234375  ,\n",
              "       -0.06933594,  0.32617188, -0.39648438, -0.21679688,  0.06030273,\n",
              "       -0.01495361,  0.09619141,  0.04248047, -0.10253906, -0.24707031,\n",
              "       -0.06298828,  0.44726562,  0.13378906,  0.14648438, -0.30859375,\n",
              "       -0.40625   ,  0.31640625, -0.18847656, -0.20703125,  0.16601562,\n",
              "        0.22851562,  0.25976562,  0.38867188, -0.09472656, -0.51953125,\n",
              "       -0.265625  ,  0.11083984,  0.05395508,  0.25585938, -0.34765625,\n",
              "       -0.18164062,  0.32421875, -0.21289062, -0.02307129, -0.03662109,\n",
              "        0.359375  , -0.05419922,  0.20019531, -0.75390625,  0.18457031,\n",
              "        0.359375  , -0.53515625, -0.03442383, -0.203125  , -0.24023438,\n",
              "        0.09326172, -0.11474609, -0.12988281,  0.02880859, -0.02270508,\n",
              "       -0.19824219,  0.14648438, -0.08056641,  0.1796875 , -0.234375  ,\n",
              "       -0.09619141,  0.01043701,  0.03833008,  0.07666016,  0.17871094,\n",
              "        0.46289062, -0.05004883, -0.21972656, -0.07080078,  0.06787109,\n",
              "       -0.08398438, -0.328125  ,  0.02600098,  0.07080078,  0.00157928,\n",
              "        0.19042969,  0.49804688, -0.23632812,  0.07617188, -0.22070312,\n",
              "        0.11474609, -0.06103516,  0.34179688, -0.18945312,  0.3671875 ,\n",
              "       -0.18164062,  0.48632812,  0.12402344,  0.04150391,  0.12695312,\n",
              "       -0.15722656,  0.16210938, -0.21386719, -0.24316406,  0.15917969,\n",
              "        0.17480469, -0.06396484, -0.10693359,  0.07617188,  0.20410156],\n",
              "      dtype=float32)"
            ]
          },
          "metadata": {
            "tags": []
          },
          "execution_count": 16
        }
      ]
    },
    {
      "cell_type": "code",
      "metadata": {
        "id": "mCksaKetUfLQ"
      },
      "source": [
        "import numpy as np"
      ],
      "execution_count": null,
      "outputs": []
    },
    {
      "cell_type": "code",
      "metadata": {
        "colab": {
          "base_uri": "https://localhost:8080/"
        },
        "id": "SAz8BuVMU9Kf",
        "outputId": "a893cf27-5ec2-42a7-e9a2-f77ec54f9ec1"
      },
      "source": [
        "np.linalg.norm(wv['Illinois'] - wv['Illini'])"
      ],
      "execution_count": null,
      "outputs": [
        {
          "output_type": "execute_result",
          "data": {
            "text/plain": [
              "3.36538"
            ]
          },
          "metadata": {
            "tags": []
          },
          "execution_count": 19
        }
      ]
    },
    {
      "cell_type": "code",
      "metadata": {
        "id": "yOwdZMfOVHp-"
      },
      "source": [
        "cos_similarity = np.dot(wv['Illinois'], wv['Illini']) / (np.linalg.norm(wv['Illinois']) * np.linalg.norm(wv['Illini']))\n"
      ],
      "execution_count": null,
      "outputs": []
    },
    {
      "cell_type": "code",
      "metadata": {
        "colab": {
          "base_uri": "https://localhost:8080/"
        },
        "id": "shryJaO-Vyr9",
        "outputId": "d1b579c5-19c4-429d-8644-4ec5c058c1eb"
      },
      "source": [
        "cos_similarity"
      ],
      "execution_count": null,
      "outputs": [
        {
          "output_type": "execute_result",
          "data": {
            "text/plain": [
              "0.5501352"
            ]
          },
          "metadata": {
            "tags": []
          },
          "execution_count": 21
        }
      ]
    },
    {
      "cell_type": "code",
      "metadata": {
        "colab": {
          "base_uri": "https://localhost:8080/"
        },
        "id": "WgNKTz3YV1l9",
        "outputId": "fd28a6c5-7593-41ae-ca40-61d0a7ad38fb"
      },
      "source": [
        "cosine_distance = 1 -  cos_similarity\n",
        "cosine_distance"
      ],
      "execution_count": null,
      "outputs": [
        {
          "output_type": "execute_result",
          "data": {
            "text/plain": [
              "0.44986480474472046"
            ]
          },
          "metadata": {
            "tags": []
          },
          "execution_count": 22
        }
      ]
    },
    {
      "cell_type": "code",
      "metadata": {
        "id": "4x8mv67RV-gc"
      },
      "source": [
        "from nlpia.data.loaders import get_data"
      ],
      "execution_count": null,
      "outputs": []
    },
    {
      "cell_type": "code",
      "metadata": {
        "id": "H4AzuMWkWbg8"
      },
      "source": [
        "cities = \"/content/cities_us.csv\""
      ],
      "execution_count": null,
      "outputs": []
    },
    {
      "cell_type": "code",
      "metadata": {
        "id": "cOn7MxpxWfDM"
      },
      "source": [
        "import pandas as pd"
      ],
      "execution_count": null,
      "outputs": []
    },
    {
      "cell_type": "code",
      "metadata": {
        "id": "iHgQn2dXiya1"
      },
      "source": [
        "cities = pd.read_csv(cities)"
      ],
      "execution_count": null,
      "outputs": []
    },
    {
      "cell_type": "code",
      "metadata": {
        "colab": {
          "base_uri": "https://localhost:8080/",
          "height": 168
        },
        "id": "dGTfkKVui_4V",
        "outputId": "5c3a4ea2-32c3-494f-cf34-68db70386581"
      },
      "source": [
        "cities.head(1)"
      ],
      "execution_count": null,
      "outputs": [
        {
          "output_type": "execute_result",
          "data": {
            "text/html": [
              "<div>\n",
              "<style scoped>\n",
              "    .dataframe tbody tr th:only-of-type {\n",
              "        vertical-align: middle;\n",
              "    }\n",
              "\n",
              "    .dataframe tbody tr th {\n",
              "        vertical-align: top;\n",
              "    }\n",
              "\n",
              "    .dataframe thead th {\n",
              "        text-align: right;\n",
              "    }\n",
              "</style>\n",
              "<table border=\"1\" class=\"dataframe\">\n",
              "  <thead>\n",
              "    <tr style=\"text-align: right;\">\n",
              "      <th></th>\n",
              "      <th>Unnamed: 0</th>\n",
              "      <th>geonameid</th>\n",
              "      <th>city</th>\n",
              "      <th>asciiname</th>\n",
              "      <th>alternatenames</th>\n",
              "      <th>latitude</th>\n",
              "      <th>longitude</th>\n",
              "      <th>feature_class</th>\n",
              "      <th>feature_code</th>\n",
              "      <th>country_code</th>\n",
              "      <th>cc2</th>\n",
              "      <th>admin1_code</th>\n",
              "      <th>admin2_code</th>\n",
              "      <th>admin3_code</th>\n",
              "      <th>admin4_code</th>\n",
              "      <th>population</th>\n",
              "      <th>elevation</th>\n",
              "      <th>dem</th>\n",
              "      <th>timezone</th>\n",
              "      <th>state</th>\n",
              "      <th>state_abbreviation</th>\n",
              "      <th>state_</th>\n",
              "      <th>city_</th>\n",
              "      <th>full_name</th>\n",
              "    </tr>\n",
              "  </thead>\n",
              "  <tbody>\n",
              "    <tr>\n",
              "      <th>0</th>\n",
              "      <td>131484</td>\n",
              "      <td>4295856</td>\n",
              "      <td>Indian Hills Cherokee Section</td>\n",
              "      <td>Indian Hills Cherokee Section</td>\n",
              "      <td>Cherokee,Indian Hills Cherokee Section</td>\n",
              "      <td>38.27951</td>\n",
              "      <td>-85.64996</td>\n",
              "      <td>P</td>\n",
              "      <td>PPL</td>\n",
              "      <td>US</td>\n",
              "      <td>NaN</td>\n",
              "      <td>KY</td>\n",
              "      <td>111.0</td>\n",
              "      <td>NaN</td>\n",
              "      <td>NaN</td>\n",
              "      <td>1011</td>\n",
              "      <td>180.0</td>\n",
              "      <td>184</td>\n",
              "      <td>America/Kentucky/Louisville</td>\n",
              "      <td>Kentucky</td>\n",
              "      <td>KY</td>\n",
              "      <td>Kentucky</td>\n",
              "      <td>Indian_Hills_Cherokee_Section</td>\n",
              "      <td>Indian Hills Cherokee Section, KY</td>\n",
              "    </tr>\n",
              "  </tbody>\n",
              "</table>\n",
              "</div>"
            ],
            "text/plain": [
              "   Unnamed: 0  ...                          full_name\n",
              "0      131484  ...  Indian Hills Cherokee Section, KY\n",
              "\n",
              "[1 rows x 24 columns]"
            ]
          },
          "metadata": {
            "tags": []
          },
          "execution_count": 29
        }
      ]
    },
    {
      "cell_type": "code",
      "metadata": {
        "colab": {
          "base_uri": "https://localhost:8080/",
          "height": 793
        },
        "id": "gNz4b7orjBaV",
        "outputId": "24af0d71-d372-4cba-ad13-11137a42697e"
      },
      "source": [
        "cities.head(1).T"
      ],
      "execution_count": null,
      "outputs": [
        {
          "output_type": "execute_result",
          "data": {
            "text/html": [
              "<div>\n",
              "<style scoped>\n",
              "    .dataframe tbody tr th:only-of-type {\n",
              "        vertical-align: middle;\n",
              "    }\n",
              "\n",
              "    .dataframe tbody tr th {\n",
              "        vertical-align: top;\n",
              "    }\n",
              "\n",
              "    .dataframe thead th {\n",
              "        text-align: right;\n",
              "    }\n",
              "</style>\n",
              "<table border=\"1\" class=\"dataframe\">\n",
              "  <thead>\n",
              "    <tr style=\"text-align: right;\">\n",
              "      <th></th>\n",
              "      <th>0</th>\n",
              "    </tr>\n",
              "  </thead>\n",
              "  <tbody>\n",
              "    <tr>\n",
              "      <th>Unnamed: 0</th>\n",
              "      <td>131484</td>\n",
              "    </tr>\n",
              "    <tr>\n",
              "      <th>geonameid</th>\n",
              "      <td>4295856</td>\n",
              "    </tr>\n",
              "    <tr>\n",
              "      <th>city</th>\n",
              "      <td>Indian Hills Cherokee Section</td>\n",
              "    </tr>\n",
              "    <tr>\n",
              "      <th>asciiname</th>\n",
              "      <td>Indian Hills Cherokee Section</td>\n",
              "    </tr>\n",
              "    <tr>\n",
              "      <th>alternatenames</th>\n",
              "      <td>Cherokee,Indian Hills Cherokee Section</td>\n",
              "    </tr>\n",
              "    <tr>\n",
              "      <th>latitude</th>\n",
              "      <td>38.2795</td>\n",
              "    </tr>\n",
              "    <tr>\n",
              "      <th>longitude</th>\n",
              "      <td>-85.65</td>\n",
              "    </tr>\n",
              "    <tr>\n",
              "      <th>feature_class</th>\n",
              "      <td>P</td>\n",
              "    </tr>\n",
              "    <tr>\n",
              "      <th>feature_code</th>\n",
              "      <td>PPL</td>\n",
              "    </tr>\n",
              "    <tr>\n",
              "      <th>country_code</th>\n",
              "      <td>US</td>\n",
              "    </tr>\n",
              "    <tr>\n",
              "      <th>cc2</th>\n",
              "      <td>NaN</td>\n",
              "    </tr>\n",
              "    <tr>\n",
              "      <th>admin1_code</th>\n",
              "      <td>KY</td>\n",
              "    </tr>\n",
              "    <tr>\n",
              "      <th>admin2_code</th>\n",
              "      <td>111</td>\n",
              "    </tr>\n",
              "    <tr>\n",
              "      <th>admin3_code</th>\n",
              "      <td>NaN</td>\n",
              "    </tr>\n",
              "    <tr>\n",
              "      <th>admin4_code</th>\n",
              "      <td>NaN</td>\n",
              "    </tr>\n",
              "    <tr>\n",
              "      <th>population</th>\n",
              "      <td>1011</td>\n",
              "    </tr>\n",
              "    <tr>\n",
              "      <th>elevation</th>\n",
              "      <td>180</td>\n",
              "    </tr>\n",
              "    <tr>\n",
              "      <th>dem</th>\n",
              "      <td>184</td>\n",
              "    </tr>\n",
              "    <tr>\n",
              "      <th>timezone</th>\n",
              "      <td>America/Kentucky/Louisville</td>\n",
              "    </tr>\n",
              "    <tr>\n",
              "      <th>state</th>\n",
              "      <td>Kentucky</td>\n",
              "    </tr>\n",
              "    <tr>\n",
              "      <th>state_abbreviation</th>\n",
              "      <td>KY</td>\n",
              "    </tr>\n",
              "    <tr>\n",
              "      <th>state_</th>\n",
              "      <td>Kentucky</td>\n",
              "    </tr>\n",
              "    <tr>\n",
              "      <th>city_</th>\n",
              "      <td>Indian_Hills_Cherokee_Section</td>\n",
              "    </tr>\n",
              "    <tr>\n",
              "      <th>full_name</th>\n",
              "      <td>Indian Hills Cherokee Section, KY</td>\n",
              "    </tr>\n",
              "  </tbody>\n",
              "</table>\n",
              "</div>"
            ],
            "text/plain": [
              "                                                         0\n",
              "Unnamed: 0                                          131484\n",
              "geonameid                                          4295856\n",
              "city                         Indian Hills Cherokee Section\n",
              "asciiname                    Indian Hills Cherokee Section\n",
              "alternatenames      Cherokee,Indian Hills Cherokee Section\n",
              "latitude                                           38.2795\n",
              "longitude                                           -85.65\n",
              "feature_class                                            P\n",
              "feature_code                                           PPL\n",
              "country_code                                            US\n",
              "cc2                                                    NaN\n",
              "admin1_code                                             KY\n",
              "admin2_code                                            111\n",
              "admin3_code                                            NaN\n",
              "admin4_code                                            NaN\n",
              "population                                            1011\n",
              "elevation                                              180\n",
              "dem                                                    184\n",
              "timezone                       America/Kentucky/Louisville\n",
              "state                                             Kentucky\n",
              "state_abbreviation                                      KY\n",
              "state_                                            Kentucky\n",
              "city_                        Indian_Hills_Cherokee_Section\n",
              "full_name                Indian Hills Cherokee Section, KY"
            ]
          },
          "metadata": {
            "tags": []
          },
          "execution_count": 30
        }
      ]
    },
    {
      "cell_type": "code",
      "metadata": {
        "id": "tFgpM-TejDwU"
      },
      "source": [
        "us = cities[(cities.country_code == 'US') & (cities.admin1_code.notnull())].copy()"
      ],
      "execution_count": null,
      "outputs": []
    },
    {
      "cell_type": "code",
      "metadata": {
        "colab": {
          "base_uri": "https://localhost:8080/",
          "height": 377
        },
        "id": "W7uZebU5kOUX",
        "outputId": "e74f00dc-4818-4ddd-ffa5-19eda63ae643"
      },
      "source": [
        "us.head()"
      ],
      "execution_count": null,
      "outputs": [
        {
          "output_type": "execute_result",
          "data": {
            "text/html": [
              "<div>\n",
              "<style scoped>\n",
              "    .dataframe tbody tr th:only-of-type {\n",
              "        vertical-align: middle;\n",
              "    }\n",
              "\n",
              "    .dataframe tbody tr th {\n",
              "        vertical-align: top;\n",
              "    }\n",
              "\n",
              "    .dataframe thead th {\n",
              "        text-align: right;\n",
              "    }\n",
              "</style>\n",
              "<table border=\"1\" class=\"dataframe\">\n",
              "  <thead>\n",
              "    <tr style=\"text-align: right;\">\n",
              "      <th></th>\n",
              "      <th>Unnamed: 0</th>\n",
              "      <th>geonameid</th>\n",
              "      <th>city</th>\n",
              "      <th>asciiname</th>\n",
              "      <th>alternatenames</th>\n",
              "      <th>latitude</th>\n",
              "      <th>longitude</th>\n",
              "      <th>feature_class</th>\n",
              "      <th>feature_code</th>\n",
              "      <th>country_code</th>\n",
              "      <th>cc2</th>\n",
              "      <th>admin1_code</th>\n",
              "      <th>admin2_code</th>\n",
              "      <th>admin3_code</th>\n",
              "      <th>admin4_code</th>\n",
              "      <th>population</th>\n",
              "      <th>elevation</th>\n",
              "      <th>dem</th>\n",
              "      <th>timezone</th>\n",
              "      <th>state</th>\n",
              "      <th>state_abbreviation</th>\n",
              "      <th>state_</th>\n",
              "      <th>city_</th>\n",
              "      <th>full_name</th>\n",
              "    </tr>\n",
              "  </thead>\n",
              "  <tbody>\n",
              "    <tr>\n",
              "      <th>0</th>\n",
              "      <td>131484</td>\n",
              "      <td>4295856</td>\n",
              "      <td>Indian Hills Cherokee Section</td>\n",
              "      <td>Indian Hills Cherokee Section</td>\n",
              "      <td>Cherokee,Indian Hills Cherokee Section</td>\n",
              "      <td>38.27951</td>\n",
              "      <td>-85.64996</td>\n",
              "      <td>P</td>\n",
              "      <td>PPL</td>\n",
              "      <td>US</td>\n",
              "      <td>NaN</td>\n",
              "      <td>KY</td>\n",
              "      <td>111.0</td>\n",
              "      <td>NaN</td>\n",
              "      <td>NaN</td>\n",
              "      <td>1011</td>\n",
              "      <td>180.0</td>\n",
              "      <td>184</td>\n",
              "      <td>America/Kentucky/Louisville</td>\n",
              "      <td>Kentucky</td>\n",
              "      <td>KY</td>\n",
              "      <td>Kentucky</td>\n",
              "      <td>Indian_Hills_Cherokee_Section</td>\n",
              "      <td>Indian Hills Cherokee Section, KY</td>\n",
              "    </tr>\n",
              "    <tr>\n",
              "      <th>1</th>\n",
              "      <td>137549</td>\n",
              "      <td>5322551</td>\n",
              "      <td>Agoura</td>\n",
              "      <td>Agoura</td>\n",
              "      <td>Agoura,Agoura Hills,Picture City</td>\n",
              "      <td>34.14306</td>\n",
              "      <td>-118.73787</td>\n",
              "      <td>P</td>\n",
              "      <td>PPL</td>\n",
              "      <td>US</td>\n",
              "      <td>NaN</td>\n",
              "      <td>CA</td>\n",
              "      <td>37.0</td>\n",
              "      <td>NaN</td>\n",
              "      <td>NaN</td>\n",
              "      <td>20537</td>\n",
              "      <td>281.0</td>\n",
              "      <td>283</td>\n",
              "      <td>America/Los_Angeles</td>\n",
              "      <td>California</td>\n",
              "      <td>CA</td>\n",
              "      <td>California</td>\n",
              "      <td>Agoura</td>\n",
              "      <td>Agoura, CA</td>\n",
              "    </tr>\n",
              "    <tr>\n",
              "      <th>2</th>\n",
              "      <td>134468</td>\n",
              "      <td>4641562</td>\n",
              "      <td>Midway</td>\n",
              "      <td>Midway</td>\n",
              "      <td>NaN</td>\n",
              "      <td>36.30011</td>\n",
              "      <td>-82.42375</td>\n",
              "      <td>P</td>\n",
              "      <td>PPL</td>\n",
              "      <td>US</td>\n",
              "      <td>NaN</td>\n",
              "      <td>TN</td>\n",
              "      <td>179.0</td>\n",
              "      <td>NaN</td>\n",
              "      <td>NaN</td>\n",
              "      <td>2491</td>\n",
              "      <td>572.0</td>\n",
              "      <td>576</td>\n",
              "      <td>America/New_York</td>\n",
              "      <td>Tennessee</td>\n",
              "      <td>TN</td>\n",
              "      <td>Tennessee</td>\n",
              "      <td>Midway</td>\n",
              "      <td>Midway, TN</td>\n",
              "    </tr>\n",
              "    <tr>\n",
              "      <th>3</th>\n",
              "      <td>129252</td>\n",
              "      <td>4062523</td>\n",
              "      <td>Flint City</td>\n",
              "      <td>Flint City</td>\n",
              "      <td>Flint,Flint City,Morganburgh,Morgansburg</td>\n",
              "      <td>34.52315</td>\n",
              "      <td>-86.97029</td>\n",
              "      <td>P</td>\n",
              "      <td>PPL</td>\n",
              "      <td>US</td>\n",
              "      <td>NaN</td>\n",
              "      <td>AL</td>\n",
              "      <td>103.0</td>\n",
              "      <td>NaN</td>\n",
              "      <td>NaN</td>\n",
              "      <td>1033</td>\n",
              "      <td>184.0</td>\n",
              "      <td>188</td>\n",
              "      <td>America/Chicago</td>\n",
              "      <td>Alabama</td>\n",
              "      <td>AL</td>\n",
              "      <td>Alabama</td>\n",
              "      <td>Flint_City</td>\n",
              "      <td>Flint City, AL</td>\n",
              "    </tr>\n",
              "    <tr>\n",
              "      <th>4</th>\n",
              "      <td>138038</td>\n",
              "      <td>5368618</td>\n",
              "      <td>Los Serranos</td>\n",
              "      <td>Los Serranos</td>\n",
              "      <td>Los Seranos,Los Serranos</td>\n",
              "      <td>33.97279</td>\n",
              "      <td>-117.70811</td>\n",
              "      <td>P</td>\n",
              "      <td>PPL</td>\n",
              "      <td>US</td>\n",
              "      <td>NaN</td>\n",
              "      <td>CA</td>\n",
              "      <td>71.0</td>\n",
              "      <td>NaN</td>\n",
              "      <td>NaN</td>\n",
              "      <td>7099</td>\n",
              "      <td>204.0</td>\n",
              "      <td>206</td>\n",
              "      <td>America/Los_Angeles</td>\n",
              "      <td>California</td>\n",
              "      <td>CA</td>\n",
              "      <td>California</td>\n",
              "      <td>Los_Serranos</td>\n",
              "      <td>Los Serranos, CA</td>\n",
              "    </tr>\n",
              "  </tbody>\n",
              "</table>\n",
              "</div>"
            ],
            "text/plain": [
              "   Unnamed: 0  ...                          full_name\n",
              "0      131484  ...  Indian Hills Cherokee Section, KY\n",
              "1      137549  ...                         Agoura, CA\n",
              "2      134468  ...                         Midway, TN\n",
              "3      129252  ...                     Flint City, AL\n",
              "4      138038  ...                   Los Serranos, CA\n",
              "\n",
              "[5 rows x 24 columns]"
            ]
          },
          "metadata": {
            "tags": []
          },
          "execution_count": 33
        }
      ]
    },
    {
      "cell_type": "code",
      "metadata": {
        "id": "Xfrs4X-8mqvS"
      },
      "source": [
        "states = pd.read_csv('http://www.fonz.net/blog/wp-content/uploads/2008/04/states.csv')"
      ],
      "execution_count": null,
      "outputs": []
    },
    {
      "cell_type": "code",
      "metadata": {
        "id": "aZtGUkbWmzou"
      },
      "source": [
        "states = dict(zip(states.Abbreviation, states.State))"
      ],
      "execution_count": null,
      "outputs": []
    },
    {
      "cell_type": "code",
      "metadata": {
        "colab": {
          "base_uri": "https://localhost:8080/"
        },
        "id": "iyPjHeLAm-ge",
        "outputId": "10030451-0ffd-4bfc-c21a-faedf3ce1300"
      },
      "source": [
        "states"
      ],
      "execution_count": null,
      "outputs": [
        {
          "output_type": "execute_result",
          "data": {
            "text/plain": [
              "{'AK': 'Alaska',\n",
              " 'AL': 'Alabama',\n",
              " 'AR': 'Arkansas',\n",
              " 'AZ': 'Arizona',\n",
              " 'CA': 'California',\n",
              " 'CO': 'Colorado',\n",
              " 'CT': 'Connecticut',\n",
              " 'DC': 'District of Columbia',\n",
              " 'DE': 'Delaware',\n",
              " 'FL': 'Florida',\n",
              " 'GA': 'Georgia',\n",
              " 'HI': 'Hawaii',\n",
              " 'IA': 'Iowa',\n",
              " 'ID': 'Idaho',\n",
              " 'IL': 'Illinois',\n",
              " 'IN': 'Indiana',\n",
              " 'KS': 'Kansas',\n",
              " 'KY': 'Kentucky',\n",
              " 'LA': 'Louisiana',\n",
              " 'MA': 'Massachusetts',\n",
              " 'MD': 'Maryland',\n",
              " 'ME': 'Maine',\n",
              " 'MI': 'Michigan',\n",
              " 'MN': 'Minnesota',\n",
              " 'MO': 'Missouri',\n",
              " 'MS': 'Mississippi',\n",
              " 'MT': 'Montana',\n",
              " 'NC': 'North Carolina',\n",
              " 'ND': 'North Dakota',\n",
              " 'NE': 'Nebraska',\n",
              " 'NH': 'New Hampshire',\n",
              " 'NJ': 'New Jersey',\n",
              " 'NM': 'New Mexico',\n",
              " 'NV': 'Nevada',\n",
              " 'NY': 'New York',\n",
              " 'OH': 'Ohio',\n",
              " 'OK': 'Oklahoma',\n",
              " 'OR': 'Oregon',\n",
              " 'PA': 'Pennsylvania',\n",
              " 'RI': 'Rhode Island',\n",
              " 'SC': 'South Carolina',\n",
              " 'SD': 'South Dakota',\n",
              " 'TN': 'Tennessee',\n",
              " 'TX': 'Texas',\n",
              " 'UT': 'Utah',\n",
              " 'VA': 'Virginia',\n",
              " 'VT': 'Vermont',\n",
              " 'WA': 'Washington',\n",
              " 'WI': 'Wisconsin',\n",
              " 'WV': 'West Virginia',\n",
              " 'WY': 'Wyoming'}"
            ]
          },
          "metadata": {
            "tags": []
          },
          "execution_count": 36
        }
      ]
    },
    {
      "cell_type": "code",
      "metadata": {
        "colab": {
          "base_uri": "https://localhost:8080/"
        },
        "id": "9FpxbgTPnDTf",
        "outputId": "d0d4c0db-bae1-4e08-e907-d8e761628752"
      },
      "source": [
        "us['admin1_code'].iloc[0:5]"
      ],
      "execution_count": null,
      "outputs": [
        {
          "output_type": "execute_result",
          "data": {
            "text/plain": [
              "0    KY\n",
              "1    CA\n",
              "2    TN\n",
              "3    AL\n",
              "4    CA\n",
              "Name: admin1_code, dtype: object"
            ]
          },
          "metadata": {
            "tags": []
          },
          "execution_count": 40
        }
      ]
    },
    {
      "cell_type": "code",
      "metadata": {
        "id": "Iio3IdH8nLJe"
      },
      "source": [
        "us['st'] = us.admin1_code.copy()"
      ],
      "execution_count": null,
      "outputs": []
    },
    {
      "cell_type": "code",
      "metadata": {
        "colab": {
          "base_uri": "https://localhost:8080/"
        },
        "id": "dFdjxxtdnsLt",
        "outputId": "f4d3888d-9be0-472f-97a1-189d1c212edd"
      },
      "source": [
        "us['state'].iloc[0:5]"
      ],
      "execution_count": null,
      "outputs": [
        {
          "output_type": "execute_result",
          "data": {
            "text/plain": [
              "0      Kentucky\n",
              "1    California\n",
              "2     Tennessee\n",
              "3       Alabama\n",
              "4    California\n",
              "Name: state, dtype: object"
            ]
          },
          "metadata": {
            "tags": []
          },
          "execution_count": 42
        }
      ]
    },
    {
      "cell_type": "code",
      "metadata": {
        "colab": {
          "base_uri": "https://localhost:8080/",
          "height": 204
        },
        "id": "0lMJN_TloDKs",
        "outputId": "06606cb1-b986-4abf-b234-418f39d35ba2"
      },
      "source": [
        "us[us.columns[-5:]].head()"
      ],
      "execution_count": null,
      "outputs": [
        {
          "output_type": "execute_result",
          "data": {
            "text/html": [
              "<div>\n",
              "<style scoped>\n",
              "    .dataframe tbody tr th:only-of-type {\n",
              "        vertical-align: middle;\n",
              "    }\n",
              "\n",
              "    .dataframe tbody tr th {\n",
              "        vertical-align: top;\n",
              "    }\n",
              "\n",
              "    .dataframe thead th {\n",
              "        text-align: right;\n",
              "    }\n",
              "</style>\n",
              "<table border=\"1\" class=\"dataframe\">\n",
              "  <thead>\n",
              "    <tr style=\"text-align: right;\">\n",
              "      <th></th>\n",
              "      <th>state_abbreviation</th>\n",
              "      <th>state_</th>\n",
              "      <th>city_</th>\n",
              "      <th>full_name</th>\n",
              "      <th>st</th>\n",
              "    </tr>\n",
              "  </thead>\n",
              "  <tbody>\n",
              "    <tr>\n",
              "      <th>0</th>\n",
              "      <td>KY</td>\n",
              "      <td>Kentucky</td>\n",
              "      <td>Indian_Hills_Cherokee_Section</td>\n",
              "      <td>Indian Hills Cherokee Section, KY</td>\n",
              "      <td>KY</td>\n",
              "    </tr>\n",
              "    <tr>\n",
              "      <th>1</th>\n",
              "      <td>CA</td>\n",
              "      <td>California</td>\n",
              "      <td>Agoura</td>\n",
              "      <td>Agoura, CA</td>\n",
              "      <td>CA</td>\n",
              "    </tr>\n",
              "    <tr>\n",
              "      <th>2</th>\n",
              "      <td>TN</td>\n",
              "      <td>Tennessee</td>\n",
              "      <td>Midway</td>\n",
              "      <td>Midway, TN</td>\n",
              "      <td>TN</td>\n",
              "    </tr>\n",
              "    <tr>\n",
              "      <th>3</th>\n",
              "      <td>AL</td>\n",
              "      <td>Alabama</td>\n",
              "      <td>Flint_City</td>\n",
              "      <td>Flint City, AL</td>\n",
              "      <td>AL</td>\n",
              "    </tr>\n",
              "    <tr>\n",
              "      <th>4</th>\n",
              "      <td>CA</td>\n",
              "      <td>California</td>\n",
              "      <td>Los_Serranos</td>\n",
              "      <td>Los Serranos, CA</td>\n",
              "      <td>CA</td>\n",
              "    </tr>\n",
              "  </tbody>\n",
              "</table>\n",
              "</div>"
            ],
            "text/plain": [
              "  state_abbreviation      state_  ...                          full_name  st\n",
              "0                 KY    Kentucky  ...  Indian Hills Cherokee Section, KY  KY\n",
              "1                 CA  California  ...                         Agoura, CA  CA\n",
              "2                 TN   Tennessee  ...                         Midway, TN  TN\n",
              "3                 AL     Alabama  ...                     Flint City, AL  AL\n",
              "4                 CA  California  ...                   Los Serranos, CA  CA\n",
              "\n",
              "[5 rows x 5 columns]"
            ]
          },
          "metadata": {
            "tags": []
          },
          "execution_count": 44
        }
      ]
    },
    {
      "cell_type": "code",
      "metadata": {
        "colab": {
          "base_uri": "https://localhost:8080/",
          "height": 377
        },
        "id": "QY-kgfUXoP2M",
        "outputId": "9a494377-81ec-47a4-f103-953c45c65e1a"
      },
      "source": [
        "us.head()"
      ],
      "execution_count": null,
      "outputs": [
        {
          "output_type": "execute_result",
          "data": {
            "text/html": [
              "<div>\n",
              "<style scoped>\n",
              "    .dataframe tbody tr th:only-of-type {\n",
              "        vertical-align: middle;\n",
              "    }\n",
              "\n",
              "    .dataframe tbody tr th {\n",
              "        vertical-align: top;\n",
              "    }\n",
              "\n",
              "    .dataframe thead th {\n",
              "        text-align: right;\n",
              "    }\n",
              "</style>\n",
              "<table border=\"1\" class=\"dataframe\">\n",
              "  <thead>\n",
              "    <tr style=\"text-align: right;\">\n",
              "      <th></th>\n",
              "      <th>Unnamed: 0</th>\n",
              "      <th>geonameid</th>\n",
              "      <th>city</th>\n",
              "      <th>asciiname</th>\n",
              "      <th>alternatenames</th>\n",
              "      <th>latitude</th>\n",
              "      <th>longitude</th>\n",
              "      <th>feature_class</th>\n",
              "      <th>feature_code</th>\n",
              "      <th>country_code</th>\n",
              "      <th>cc2</th>\n",
              "      <th>admin1_code</th>\n",
              "      <th>admin2_code</th>\n",
              "      <th>admin3_code</th>\n",
              "      <th>admin4_code</th>\n",
              "      <th>population</th>\n",
              "      <th>elevation</th>\n",
              "      <th>dem</th>\n",
              "      <th>timezone</th>\n",
              "      <th>state</th>\n",
              "      <th>state_abbreviation</th>\n",
              "      <th>state_</th>\n",
              "      <th>city_</th>\n",
              "      <th>full_name</th>\n",
              "      <th>st</th>\n",
              "    </tr>\n",
              "  </thead>\n",
              "  <tbody>\n",
              "    <tr>\n",
              "      <th>0</th>\n",
              "      <td>131484</td>\n",
              "      <td>4295856</td>\n",
              "      <td>Indian Hills Cherokee Section</td>\n",
              "      <td>Indian Hills Cherokee Section</td>\n",
              "      <td>Cherokee,Indian Hills Cherokee Section</td>\n",
              "      <td>38.27951</td>\n",
              "      <td>-85.64996</td>\n",
              "      <td>P</td>\n",
              "      <td>PPL</td>\n",
              "      <td>US</td>\n",
              "      <td>NaN</td>\n",
              "      <td>KY</td>\n",
              "      <td>111.0</td>\n",
              "      <td>NaN</td>\n",
              "      <td>NaN</td>\n",
              "      <td>1011</td>\n",
              "      <td>180.0</td>\n",
              "      <td>184</td>\n",
              "      <td>America/Kentucky/Louisville</td>\n",
              "      <td>Kentucky</td>\n",
              "      <td>KY</td>\n",
              "      <td>Kentucky</td>\n",
              "      <td>Indian_Hills_Cherokee_Section</td>\n",
              "      <td>Indian Hills Cherokee Section, KY</td>\n",
              "      <td>KY</td>\n",
              "    </tr>\n",
              "    <tr>\n",
              "      <th>1</th>\n",
              "      <td>137549</td>\n",
              "      <td>5322551</td>\n",
              "      <td>Agoura</td>\n",
              "      <td>Agoura</td>\n",
              "      <td>Agoura,Agoura Hills,Picture City</td>\n",
              "      <td>34.14306</td>\n",
              "      <td>-118.73787</td>\n",
              "      <td>P</td>\n",
              "      <td>PPL</td>\n",
              "      <td>US</td>\n",
              "      <td>NaN</td>\n",
              "      <td>CA</td>\n",
              "      <td>37.0</td>\n",
              "      <td>NaN</td>\n",
              "      <td>NaN</td>\n",
              "      <td>20537</td>\n",
              "      <td>281.0</td>\n",
              "      <td>283</td>\n",
              "      <td>America/Los_Angeles</td>\n",
              "      <td>California</td>\n",
              "      <td>CA</td>\n",
              "      <td>California</td>\n",
              "      <td>Agoura</td>\n",
              "      <td>Agoura, CA</td>\n",
              "      <td>CA</td>\n",
              "    </tr>\n",
              "    <tr>\n",
              "      <th>2</th>\n",
              "      <td>134468</td>\n",
              "      <td>4641562</td>\n",
              "      <td>Midway</td>\n",
              "      <td>Midway</td>\n",
              "      <td>NaN</td>\n",
              "      <td>36.30011</td>\n",
              "      <td>-82.42375</td>\n",
              "      <td>P</td>\n",
              "      <td>PPL</td>\n",
              "      <td>US</td>\n",
              "      <td>NaN</td>\n",
              "      <td>TN</td>\n",
              "      <td>179.0</td>\n",
              "      <td>NaN</td>\n",
              "      <td>NaN</td>\n",
              "      <td>2491</td>\n",
              "      <td>572.0</td>\n",
              "      <td>576</td>\n",
              "      <td>America/New_York</td>\n",
              "      <td>Tennessee</td>\n",
              "      <td>TN</td>\n",
              "      <td>Tennessee</td>\n",
              "      <td>Midway</td>\n",
              "      <td>Midway, TN</td>\n",
              "      <td>TN</td>\n",
              "    </tr>\n",
              "    <tr>\n",
              "      <th>3</th>\n",
              "      <td>129252</td>\n",
              "      <td>4062523</td>\n",
              "      <td>Flint City</td>\n",
              "      <td>Flint City</td>\n",
              "      <td>Flint,Flint City,Morganburgh,Morgansburg</td>\n",
              "      <td>34.52315</td>\n",
              "      <td>-86.97029</td>\n",
              "      <td>P</td>\n",
              "      <td>PPL</td>\n",
              "      <td>US</td>\n",
              "      <td>NaN</td>\n",
              "      <td>AL</td>\n",
              "      <td>103.0</td>\n",
              "      <td>NaN</td>\n",
              "      <td>NaN</td>\n",
              "      <td>1033</td>\n",
              "      <td>184.0</td>\n",
              "      <td>188</td>\n",
              "      <td>America/Chicago</td>\n",
              "      <td>Alabama</td>\n",
              "      <td>AL</td>\n",
              "      <td>Alabama</td>\n",
              "      <td>Flint_City</td>\n",
              "      <td>Flint City, AL</td>\n",
              "      <td>AL</td>\n",
              "    </tr>\n",
              "    <tr>\n",
              "      <th>4</th>\n",
              "      <td>138038</td>\n",
              "      <td>5368618</td>\n",
              "      <td>Los Serranos</td>\n",
              "      <td>Los Serranos</td>\n",
              "      <td>Los Seranos,Los Serranos</td>\n",
              "      <td>33.97279</td>\n",
              "      <td>-117.70811</td>\n",
              "      <td>P</td>\n",
              "      <td>PPL</td>\n",
              "      <td>US</td>\n",
              "      <td>NaN</td>\n",
              "      <td>CA</td>\n",
              "      <td>71.0</td>\n",
              "      <td>NaN</td>\n",
              "      <td>NaN</td>\n",
              "      <td>7099</td>\n",
              "      <td>204.0</td>\n",
              "      <td>206</td>\n",
              "      <td>America/Los_Angeles</td>\n",
              "      <td>California</td>\n",
              "      <td>CA</td>\n",
              "      <td>California</td>\n",
              "      <td>Los_Serranos</td>\n",
              "      <td>Los Serranos, CA</td>\n",
              "      <td>CA</td>\n",
              "    </tr>\n",
              "  </tbody>\n",
              "</table>\n",
              "</div>"
            ],
            "text/plain": [
              "   Unnamed: 0  geonameid  ...                          full_name  st\n",
              "0      131484    4295856  ...  Indian Hills Cherokee Section, KY  KY\n",
              "1      137549    5322551  ...                         Agoura, CA  CA\n",
              "2      134468    4641562  ...                         Midway, TN  TN\n",
              "3      129252    4062523  ...                     Flint City, AL  AL\n",
              "4      138038    5368618  ...                   Los Serranos, CA  CA\n",
              "\n",
              "[5 rows x 25 columns]"
            ]
          },
          "metadata": {
            "tags": []
          },
          "execution_count": 45
        }
      ]
    },
    {
      "cell_type": "code",
      "metadata": {
        "colab": {
          "base_uri": "https://localhost:8080/"
        },
        "id": "s_83AS2oopSL",
        "outputId": "ec0d63e4-a4ec-43b8-da57-c7e4d6571c70"
      },
      "source": [
        "vocab = pd.np.concatenate([us.city, us.st, us.state])"
      ],
      "execution_count": null,
      "outputs": [
        {
          "output_type": "stream",
          "text": [
            "/usr/local/lib/python3.6/dist-packages/ipykernel_launcher.py:1: FutureWarning: The pandas.np module is deprecated and will be removed from pandas in a future version. Import numpy directly instead\n",
            "  \"\"\"Entry point for launching an IPython kernel.\n"
          ],
          "name": "stderr"
        }
      ]
    },
    {
      "cell_type": "code",
      "metadata": {
        "colab": {
          "base_uri": "https://localhost:8080/"
        },
        "id": "V9845xOXo9m6",
        "outputId": "6ae57693-ac14-46d6-f200-5fe3ebf30666"
      },
      "source": [
        "vocab[1:5]"
      ],
      "execution_count": null,
      "outputs": [
        {
          "output_type": "execute_result",
          "data": {
            "text/plain": [
              "array(['Agoura', 'Midway', 'Flint City', 'Los Serranos'], dtype=object)"
            ]
          },
          "metadata": {
            "tags": []
          },
          "execution_count": 48
        }
      ]
    },
    {
      "cell_type": "code",
      "metadata": {
        "colab": {
          "base_uri": "https://localhost:8080/"
        },
        "id": "eddqKq9qpCNL",
        "outputId": "17986905-e545-41c1-9691-123a1293e432"
      },
      "source": [
        "vocab.shape"
      ],
      "execution_count": null,
      "outputs": [
        {
          "output_type": "execute_result",
          "data": {
            "text/plain": [
              "(35370,)"
            ]
          },
          "metadata": {
            "tags": []
          },
          "execution_count": 49
        }
      ]
    },
    {
      "cell_type": "code",
      "metadata": {
        "colab": {
          "base_uri": "https://localhost:8080/"
        },
        "id": "AszL_WMrpPTq",
        "outputId": "4c37fc30-d7cd-4a17-a70c-7ea769df085e"
      },
      "source": [
        "vocab = np.array([word for word in vocab if word in wv.wv])"
      ],
      "execution_count": null,
      "outputs": [
        {
          "output_type": "stream",
          "text": [
            "/usr/local/lib/python3.6/dist-packages/ipykernel_launcher.py:1: DeprecationWarning: Call to deprecated `wv` (Attribute will be removed in 4.0.0, use self instead).\n",
            "  \"\"\"Entry point for launching an IPython kernel.\n"
          ],
          "name": "stderr"
        }
      ]
    },
    {
      "cell_type": "code",
      "metadata": {
        "colab": {
          "base_uri": "https://localhost:8080/"
        },
        "id": "_avZzMKLpk2Z",
        "outputId": "a44c6005-0787-4e0f-e930-77c9101b3fba"
      },
      "source": [
        "vocab[:5]"
      ],
      "execution_count": null,
      "outputs": [
        {
          "output_type": "execute_result",
          "data": {
            "text/plain": [
              "array(['Agoura', 'Midway', 'Plantation', 'Carville', 'Johnsonville'],\n",
              "      dtype='<U15')"
            ]
          },
          "metadata": {
            "tags": []
          },
          "execution_count": 51
        }
      ]
    },
    {
      "cell_type": "code",
      "metadata": {
        "id": "ncHydA4ypnCZ"
      },
      "source": [
        "city_plus_state = []\n",
        "for c, state, st in zip(us.city, us.state, us.st):\n",
        "  if c not in vocab:\n",
        "    continue\n",
        "  row = []\n",
        "  if state in vocab:\n",
        "    row.extend(wv[c] + wv[state])\n",
        "  else:\n",
        "    row.extend(wv[c] + wv[st])\n",
        "  city_plus_state.append(row)\n",
        "  \n",
        "\n"
      ],
      "execution_count": null,
      "outputs": []
    },
    {
      "cell_type": "code",
      "metadata": {
        "id": "hBU2sU86vl9J"
      },
      "source": [
        "us_300D = pd.DataFrame(city_plus_state)"
      ],
      "execution_count": null,
      "outputs": []
    },
    {
      "cell_type": "code",
      "metadata": {
        "id": "XqtDNiaIvt6O"
      },
      "source": [
        "from sklearn.decomposition import PCA\n",
        "pca = PCA(n_components=2)\n",
        "us_300D = get_data('/content/cities_us_wordvectors.csv')\n",
        "us_2D = pca.fit_transform(us_300D.iloc[:, :300])"
      ],
      "execution_count": null,
      "outputs": []
    },
    {
      "cell_type": "code",
      "metadata": {
        "id": "eREZsacvA0E6"
      },
      "source": [
        "import seaborn"
      ],
      "execution_count": null,
      "outputs": []
    },
    {
      "cell_type": "code",
      "metadata": {
        "colab": {
          "base_uri": "https://localhost:8080/"
        },
        "id": "tNSBY7PgGJN6",
        "outputId": "25829116-92d8-4258-a771-6aed4fc03832"
      },
      "source": [
        "!pip install chart-studio"
      ],
      "execution_count": null,
      "outputs": [
        {
          "output_type": "stream",
          "text": [
            "Collecting chart-studio\n",
            "\u001b[?25l  Downloading https://files.pythonhosted.org/packages/ca/ce/330794a6b6ca4b9182c38fc69dd2a9cbff60fd49421cb8648ee5fee352dc/chart_studio-1.1.0-py3-none-any.whl (64kB)\n",
            "\r\u001b[K     |█████                           | 10kB 14.5MB/s eta 0:00:01\r\u001b[K     |██████████▏                     | 20kB 20.3MB/s eta 0:00:01\r\u001b[K     |███████████████▎                | 30kB 11.0MB/s eta 0:00:01\r\u001b[K     |████████████████████▍           | 40kB 10.5MB/s eta 0:00:01\r\u001b[K     |█████████████████████████▍      | 51kB 5.1MB/s eta 0:00:01\r\u001b[K     |██████████████████████████████▌ | 61kB 5.4MB/s eta 0:00:01\r\u001b[K     |████████████████████████████████| 71kB 3.6MB/s \n",
            "\u001b[?25hRequirement already satisfied: requests in /usr/local/lib/python3.6/dist-packages (from chart-studio) (2.23.0)\n",
            "Requirement already satisfied: retrying>=1.3.3 in /usr/local/lib/python3.6/dist-packages (from chart-studio) (1.3.3)\n",
            "Requirement already satisfied: six in /usr/local/lib/python3.6/dist-packages (from chart-studio) (1.15.0)\n",
            "Requirement already satisfied: plotly in /usr/local/lib/python3.6/dist-packages (from chart-studio) (4.4.1)\n",
            "Requirement already satisfied: certifi>=2017.4.17 in /usr/local/lib/python3.6/dist-packages (from requests->chart-studio) (2020.11.8)\n",
            "Requirement already satisfied: idna<3,>=2.5 in /usr/local/lib/python3.6/dist-packages (from requests->chart-studio) (2.10)\n",
            "Requirement already satisfied: chardet<4,>=3.0.2 in /usr/local/lib/python3.6/dist-packages (from requests->chart-studio) (3.0.4)\n",
            "Requirement already satisfied: urllib3!=1.25.0,!=1.25.1,<1.26,>=1.21.1 in /usr/local/lib/python3.6/dist-packages (from requests->chart-studio) (1.24.3)\n",
            "Installing collected packages: chart-studio\n",
            "Successfully installed chart-studio-1.1.0\n"
          ],
          "name": "stdout"
        }
      ]
    },
    {
      "cell_type": "code",
      "metadata": {
        "id": "Fv9Pf1umGUFS"
      },
      "source": [
        "import chart_studio"
      ],
      "execution_count": null,
      "outputs": []
    },
    {
      "cell_type": "code",
      "metadata": {
        "id": "I-nf5zLLEt3M"
      },
      "source": [
        "from matplotlib import pyplot as plt \n",
        "df = get_data('/content/cities_us_wordvectors_pca2_meta.csv')\n"
      ],
      "execution_count": null,
      "outputs": []
    },
    {
      "cell_type": "code",
      "metadata": {
        "colab": {
          "base_uri": "https://localhost:8080/",
          "height": 258
        },
        "id": "SNfNafCsH7mz",
        "outputId": "935104a5-1128-4480-ca7c-3019acaeaacb"
      },
      "source": [
        "df.head()"
      ],
      "execution_count": null,
      "outputs": [
        {
          "output_type": "execute_result",
          "data": {
            "text/html": [
              "<div>\n",
              "<style scoped>\n",
              "    .dataframe tbody tr th:only-of-type {\n",
              "        vertical-align: middle;\n",
              "    }\n",
              "\n",
              "    .dataframe tbody tr th {\n",
              "        vertical-align: top;\n",
              "    }\n",
              "\n",
              "    .dataframe thead th {\n",
              "        text-align: right;\n",
              "    }\n",
              "</style>\n",
              "<table border=\"1\" class=\"dataframe\">\n",
              "  <thead>\n",
              "    <tr style=\"text-align: right;\">\n",
              "      <th></th>\n",
              "      <th>x</th>\n",
              "      <th>y</th>\n",
              "      <th>name</th>\n",
              "      <th>population</th>\n",
              "      <th>timezone</th>\n",
              "      <th>state</th>\n",
              "      <th>state_abbreviation</th>\n",
              "      <th>elevation</th>\n",
              "      <th>latitude</th>\n",
              "      <th>longitude</th>\n",
              "      <th>elevation_m</th>\n",
              "      <th>country_code</th>\n",
              "    </tr>\n",
              "  </thead>\n",
              "  <tbody>\n",
              "    <tr>\n",
              "      <th>Los Angeles, CA</th>\n",
              "      <td>4.930810</td>\n",
              "      <td>-0.936239</td>\n",
              "      <td>Los Angeles, CA</td>\n",
              "      <td>3971883</td>\n",
              "      <td>America/Los_Angeles</td>\n",
              "      <td>California</td>\n",
              "      <td>CA</td>\n",
              "      <td>89.0</td>\n",
              "      <td>34.05223</td>\n",
              "      <td>-118.24368</td>\n",
              "      <td>96</td>\n",
              "      <td>US</td>\n",
              "    </tr>\n",
              "    <tr>\n",
              "      <th>Chicago, IL</th>\n",
              "      <td>-2.021456</td>\n",
              "      <td>-2.615556</td>\n",
              "      <td>Chicago, IL</td>\n",
              "      <td>2720546</td>\n",
              "      <td>America/Chicago</td>\n",
              "      <td>Illinois</td>\n",
              "      <td>IL</td>\n",
              "      <td>179.0</td>\n",
              "      <td>41.85003</td>\n",
              "      <td>-87.65005</td>\n",
              "      <td>180</td>\n",
              "      <td>US</td>\n",
              "    </tr>\n",
              "    <tr>\n",
              "      <th>Houston, TX</th>\n",
              "      <td>1.339572</td>\n",
              "      <td>2.576390</td>\n",
              "      <td>Houston, TX</td>\n",
              "      <td>2296224</td>\n",
              "      <td>America/Chicago</td>\n",
              "      <td>Texas</td>\n",
              "      <td>TX</td>\n",
              "      <td>12.0</td>\n",
              "      <td>29.76328</td>\n",
              "      <td>-95.36327</td>\n",
              "      <td>30</td>\n",
              "      <td>US</td>\n",
              "    </tr>\n",
              "    <tr>\n",
              "      <th>Philadelphia, PA</th>\n",
              "      <td>-1.217258</td>\n",
              "      <td>-1.380793</td>\n",
              "      <td>Philadelphia, PA</td>\n",
              "      <td>1567442</td>\n",
              "      <td>America/New_York</td>\n",
              "      <td>Pennsylvania</td>\n",
              "      <td>PA</td>\n",
              "      <td>12.0</td>\n",
              "      <td>39.95233</td>\n",
              "      <td>-75.16379</td>\n",
              "      <td>40</td>\n",
              "      <td>US</td>\n",
              "    </tr>\n",
              "    <tr>\n",
              "      <th>Phoenix, AZ</th>\n",
              "      <td>2.046930</td>\n",
              "      <td>-0.480845</td>\n",
              "      <td>Phoenix, AZ</td>\n",
              "      <td>1563025</td>\n",
              "      <td>America/Phoenix</td>\n",
              "      <td>Arizona</td>\n",
              "      <td>AZ</td>\n",
              "      <td>331.0</td>\n",
              "      <td>33.44838</td>\n",
              "      <td>-112.07404</td>\n",
              "      <td>366</td>\n",
              "      <td>US</td>\n",
              "    </tr>\n",
              "  </tbody>\n",
              "</table>\n",
              "</div>"
            ],
            "text/plain": [
              "                         x         y  ... elevation_m  country_code\n",
              "Los Angeles, CA   4.930810 -0.936239  ...          96            US\n",
              "Chicago, IL      -2.021456 -2.615556  ...         180            US\n",
              "Houston, TX       1.339572  2.576390  ...          30            US\n",
              "Philadelphia, PA -1.217258 -1.380793  ...          40            US\n",
              "Phoenix, AZ       2.046930 -0.480845  ...         366            US\n",
              "\n",
              "[5 rows x 12 columns]"
            ]
          },
          "metadata": {
            "tags": []
          },
          "execution_count": 68
        }
      ]
    },
    {
      "cell_type": "code",
      "metadata": {
        "id": "uAT6nHMsHyGc"
      },
      "source": [
        "df = df.sort_values('population', ascending=False)[:350].copy()\n",
        "# <1> flip East/West & North/South axes to match geography better\n",
        "flip_east_west, flip_north_south = -1, -1\n",
        "df['x'] = flip_east_west * df['x']\n",
        "df['y'] = flip_north_south * df['y']\n",
        "df = df.sort_values('population', ascending=True)\n"
      ],
      "execution_count": null,
      "outputs": []
    },
    {
      "cell_type": "code",
      "metadata": {
        "colab": {
          "base_uri": "https://localhost:8080/",
          "height": 197
        },
        "id": "9wppcV1RFfyI",
        "outputId": "2b351973-e162-4302-c681-c14edde5fcd4"
      },
      "source": [
        "\n",
        "html = chart_studio.plotly(\n",
        "    df, x='x', y='y',\n",
        "    size_col='population', text_col='name', category_col='timezone',\n",
        "    xscale=None, yscale=None,  # 'log' or None\n",
        "    layout={}, marker={'sizeref': 3000})"
      ],
      "execution_count": null,
      "outputs": [
        {
          "output_type": "error",
          "ename": "TypeError",
          "evalue": "ignored",
          "traceback": [
            "\u001b[0;31m---------------------------------------------------------------------------\u001b[0m",
            "\u001b[0;31mTypeError\u001b[0m                                 Traceback (most recent call last)",
            "\u001b[0;32m<ipython-input-71-7f3277782780>\u001b[0m in \u001b[0;36m<module>\u001b[0;34m()\u001b[0m\n\u001b[1;32m      4\u001b[0m     \u001b[0msize_col\u001b[0m\u001b[0;34m=\u001b[0m\u001b[0;34m'population'\u001b[0m\u001b[0;34m,\u001b[0m \u001b[0mtext_col\u001b[0m\u001b[0;34m=\u001b[0m\u001b[0;34m'name'\u001b[0m\u001b[0;34m,\u001b[0m \u001b[0mcategory_col\u001b[0m\u001b[0;34m=\u001b[0m\u001b[0;34m'timezone'\u001b[0m\u001b[0;34m,\u001b[0m\u001b[0;34m\u001b[0m\u001b[0;34m\u001b[0m\u001b[0m\n\u001b[1;32m      5\u001b[0m     \u001b[0mxscale\u001b[0m\u001b[0;34m=\u001b[0m\u001b[0;32mNone\u001b[0m\u001b[0;34m,\u001b[0m \u001b[0myscale\u001b[0m\u001b[0;34m=\u001b[0m\u001b[0;32mNone\u001b[0m\u001b[0;34m,\u001b[0m  \u001b[0;31m# 'log' or None\u001b[0m\u001b[0;34m\u001b[0m\u001b[0;34m\u001b[0m\u001b[0m\n\u001b[0;32m----> 6\u001b[0;31m     layout={}, marker={'sizeref': 3000})\n\u001b[0m",
            "\u001b[0;31mTypeError\u001b[0m: 'module' object is not callable"
          ]
        }
      ]
    },
    {
      "cell_type": "code",
      "metadata": {
        "id": "fC_9NjDEIN8k"
      },
      "source": [
        "import multiprocessing"
      ],
      "execution_count": null,
      "outputs": []
    },
    {
      "cell_type": "code",
      "metadata": {
        "id": "x-VWYMPQP32h"
      },
      "source": [
        "num_cores = multiprocessing.cpu_count()"
      ],
      "execution_count": null,
      "outputs": []
    },
    {
      "cell_type": "code",
      "metadata": {
        "id": "maM9jgsKQCLV"
      },
      "source": [
        "from gensim.models.doc2vec import TaggedDocument"
      ],
      "execution_count": null,
      "outputs": []
    },
    {
      "cell_type": "code",
      "metadata": {
        "id": "h9kME-eu-xz-"
      },
      "source": [
        ""
      ],
      "execution_count": null,
      "outputs": []
    }
  ]
}