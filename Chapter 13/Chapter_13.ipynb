{
  "nbformat": 4,
  "nbformat_minor": 0,
  "metadata": {
    "colab": {
      "name": "Chapter - 13.ipynb",
      "provenance": [],
      "collapsed_sections": []
    },
    "kernelspec": {
      "name": "python3",
      "display_name": "Python 3"
    }
  },
  "cells": [
    {
      "cell_type": "code",
      "metadata": {
        "colab": {
          "base_uri": "https://localhost:8080/"
        },
        "id": "ArbCGJbZTdYK",
        "outputId": "725bbc63-257b-4bc8-87f3-8b16cb8023a4"
      },
      "source": [
        "!pip install nlpia"
      ],
      "execution_count": null,
      "outputs": [
        {
          "output_type": "stream",
          "text": [
            "Collecting nlpia\n",
            "\u001b[?25l  Downloading https://files.pythonhosted.org/packages/89/f6/ab35e962dd0b19f1008e88e788b202d45a90d9cd70b9bbf0ac26489ee260/nlpia-0.5.2-py2.py3-none-any.whl (32.0MB)\n",
            "\u001b[K     |████████████████████████████████| 32.0MB 147kB/s \n",
            "\u001b[?25hRequirement already satisfied: pandas in /usr/local/lib/python3.6/dist-packages (from nlpia) (1.1.5)\n",
            "Collecting python-Levenshtein\n",
            "\u001b[?25l  Downloading https://files.pythonhosted.org/packages/42/a9/d1785c85ebf9b7dfacd08938dd028209c34a0ea3b1bcdb895208bd40a67d/python-Levenshtein-0.12.0.tar.gz (48kB)\n",
            "\u001b[K     |████████████████████████████████| 51kB 6.6MB/s \n",
            "\u001b[?25hRequirement already satisfied: matplotlib in /usr/local/lib/python3.6/dist-packages (from nlpia) (3.2.2)\n",
            "Collecting html2text\n",
            "  Downloading https://files.pythonhosted.org/packages/ae/88/14655f727f66b3e3199f4467bafcc88283e6c31b562686bf606264e09181/html2text-2020.1.16-py3-none-any.whl\n",
            "Requirement already satisfied: nltk in /usr/local/lib/python3.6/dist-packages (from nlpia) (3.2.5)\n",
            "Collecting pypandoc\n",
            "  Downloading https://files.pythonhosted.org/packages/d6/b7/5050dc1769c8a93d3ec7c4bd55be161991c94b8b235f88bf7c764449e708/pypandoc-1.5.tar.gz\n",
            "Requirement already satisfied: h5py in /usr/local/lib/python3.6/dist-packages (from nlpia) (2.10.0)\n",
            "Requirement already satisfied: regex in /usr/local/lib/python3.6/dist-packages (from nlpia) (2019.12.20)\n",
            "Requirement already satisfied: pandas-datareader in /usr/local/lib/python3.6/dist-packages (from nlpia) (0.9.0)\n",
            "Requirement already satisfied: tqdm in /usr/local/lib/python3.6/dist-packages (from nlpia) (4.41.1)\n",
            "Requirement already satisfied: future in /usr/local/lib/python3.6/dist-packages (from nlpia) (0.16.0)\n",
            "Requirement already satisfied: lxml in /usr/local/lib/python3.6/dist-packages (from nlpia) (4.2.6)\n",
            "Collecting pugnlp\n",
            "\u001b[?25l  Downloading https://files.pythonhosted.org/packages/f7/20/a9f0b1f45c074c63da716fc1b301916cc3b64c11d5cbf7cb305eafaf158a/pugnlp-0.2.6-py2.py3-none-any.whl (706kB)\n",
            "\u001b[K     |████████████████████████████████| 716kB 48.0MB/s \n",
            "\u001b[?25hRequirement already satisfied: keras in /usr/local/lib/python3.6/dist-packages (from nlpia) (2.4.3)\n",
            "Requirement already satisfied: html5lib in /usr/local/lib/python3.6/dist-packages (from nlpia) (1.0.1)\n",
            "Requirement already satisfied: jupyter in /usr/local/lib/python3.6/dist-packages (from nlpia) (1.0.0)\n",
            "Requirement already satisfied: plotly in /usr/local/lib/python3.6/dist-packages (from nlpia) (4.4.1)\n",
            "Requirement already satisfied: gensim in /usr/local/lib/python3.6/dist-packages (from nlpia) (3.6.0)\n",
            "Requirement already satisfied: scikit-learn in /usr/local/lib/python3.6/dist-packages (from nlpia) (0.22.2.post1)\n",
            "Requirement already satisfied: tensorflow in /usr/local/lib/python3.6/dist-packages (from nlpia) (2.4.0)\n",
            "Requirement already satisfied: spacy in /usr/local/lib/python3.6/dist-packages (from nlpia) (2.2.4)\n",
            "Requirement already satisfied: seaborn in /usr/local/lib/python3.6/dist-packages (from nlpia) (0.11.0)\n",
            "Requirement already satisfied: numpy>=1.15.4 in /usr/local/lib/python3.6/dist-packages (from pandas->nlpia) (1.19.4)\n",
            "Requirement already satisfied: python-dateutil>=2.7.3 in /usr/local/lib/python3.6/dist-packages (from pandas->nlpia) (2.8.1)\n",
            "Requirement already satisfied: pytz>=2017.2 in /usr/local/lib/python3.6/dist-packages (from pandas->nlpia) (2018.9)\n",
            "Requirement already satisfied: setuptools in /usr/local/lib/python3.6/dist-packages (from python-Levenshtein->nlpia) (51.0.0)\n",
            "Requirement already satisfied: kiwisolver>=1.0.1 in /usr/local/lib/python3.6/dist-packages (from matplotlib->nlpia) (1.3.1)\n",
            "Requirement already satisfied: pyparsing!=2.0.4,!=2.1.2,!=2.1.6,>=2.0.1 in /usr/local/lib/python3.6/dist-packages (from matplotlib->nlpia) (2.4.7)\n",
            "Requirement already satisfied: cycler>=0.10 in /usr/local/lib/python3.6/dist-packages (from matplotlib->nlpia) (0.10.0)\n",
            "Requirement already satisfied: six in /usr/local/lib/python3.6/dist-packages (from nltk->nlpia) (1.15.0)\n",
            "Requirement already satisfied: pip>=8.1.0 in /usr/local/lib/python3.6/dist-packages (from pypandoc->nlpia) (19.3.1)\n",
            "Requirement already satisfied: wheel>=0.25.0 in /usr/local/lib/python3.6/dist-packages (from pypandoc->nlpia) (0.36.2)\n",
            "Requirement already satisfied: requests>=2.19.0 in /usr/local/lib/python3.6/dist-packages (from pandas-datareader->nlpia) (2.23.0)\n",
            "Requirement already satisfied: scipy in /usr/local/lib/python3.6/dist-packages (from pugnlp->nlpia) (1.4.1)\n",
            "Requirement already satisfied: coverage in /usr/local/lib/python3.6/dist-packages (from pugnlp->nlpia) (3.7.1)\n",
            "Requirement already satisfied: python-slugify in /usr/local/lib/python3.6/dist-packages (from pugnlp->nlpia) (4.0.1)\n",
            "Collecting fuzzywuzzy\n",
            "  Downloading https://files.pythonhosted.org/packages/43/ff/74f23998ad2f93b945c0309f825be92e04e0348e062026998b5eefef4c33/fuzzywuzzy-0.18.0-py2.py3-none-any.whl\n",
            "Requirement already satisfied: pyyaml in /usr/local/lib/python3.6/dist-packages (from keras->nlpia) (3.13)\n",
            "Requirement already satisfied: webencodings in /usr/local/lib/python3.6/dist-packages (from html5lib->nlpia) (0.5.1)\n",
            "Requirement already satisfied: qtconsole in /usr/local/lib/python3.6/dist-packages (from jupyter->nlpia) (5.0.1)\n",
            "Requirement already satisfied: ipykernel in /usr/local/lib/python3.6/dist-packages (from jupyter->nlpia) (4.10.1)\n",
            "Requirement already satisfied: jupyter-console in /usr/local/lib/python3.6/dist-packages (from jupyter->nlpia) (5.2.0)\n",
            "Requirement already satisfied: ipywidgets in /usr/local/lib/python3.6/dist-packages (from jupyter->nlpia) (7.5.1)\n",
            "Requirement already satisfied: nbconvert in /usr/local/lib/python3.6/dist-packages (from jupyter->nlpia) (5.6.1)\n",
            "Requirement already satisfied: notebook in /usr/local/lib/python3.6/dist-packages (from jupyter->nlpia) (5.3.1)\n",
            "Requirement already satisfied: retrying>=1.3.3 in /usr/local/lib/python3.6/dist-packages (from plotly->nlpia) (1.3.3)\n",
            "Requirement already satisfied: smart-open>=1.2.1 in /usr/local/lib/python3.6/dist-packages (from gensim->nlpia) (4.0.1)\n",
            "Requirement already satisfied: joblib>=0.11 in /usr/local/lib/python3.6/dist-packages (from scikit-learn->nlpia) (1.0.0)\n",
            "Requirement already satisfied: tensorflow-estimator<2.5.0,>=2.4.0rc0 in /usr/local/lib/python3.6/dist-packages (from tensorflow->nlpia) (2.4.0)\n",
            "Requirement already satisfied: termcolor~=1.1.0 in /usr/local/lib/python3.6/dist-packages (from tensorflow->nlpia) (1.1.0)\n",
            "Requirement already satisfied: flatbuffers~=1.12.0 in /usr/local/lib/python3.6/dist-packages (from tensorflow->nlpia) (1.12)\n",
            "Requirement already satisfied: absl-py~=0.10 in /usr/local/lib/python3.6/dist-packages (from tensorflow->nlpia) (0.10.0)\n",
            "Requirement already satisfied: gast==0.3.3 in /usr/local/lib/python3.6/dist-packages (from tensorflow->nlpia) (0.3.3)\n",
            "Requirement already satisfied: astunparse~=1.6.3 in /usr/local/lib/python3.6/dist-packages (from tensorflow->nlpia) (1.6.3)\n",
            "Requirement already satisfied: wrapt~=1.12.1 in /usr/local/lib/python3.6/dist-packages (from tensorflow->nlpia) (1.12.1)\n",
            "Requirement already satisfied: grpcio~=1.32.0 in /usr/local/lib/python3.6/dist-packages (from tensorflow->nlpia) (1.32.0)\n",
            "Requirement already satisfied: google-pasta~=0.2 in /usr/local/lib/python3.6/dist-packages (from tensorflow->nlpia) (0.2.0)\n",
            "Requirement already satisfied: tensorboard~=2.4 in /usr/local/lib/python3.6/dist-packages (from tensorflow->nlpia) (2.4.0)\n",
            "Requirement already satisfied: keras-preprocessing~=1.1.2 in /usr/local/lib/python3.6/dist-packages (from tensorflow->nlpia) (1.1.2)\n",
            "Requirement already satisfied: protobuf>=3.9.2 in /usr/local/lib/python3.6/dist-packages (from tensorflow->nlpia) (3.12.4)\n",
            "Requirement already satisfied: opt-einsum~=3.3.0 in /usr/local/lib/python3.6/dist-packages (from tensorflow->nlpia) (3.3.0)\n",
            "Requirement already satisfied: typing-extensions~=3.7.4 in /usr/local/lib/python3.6/dist-packages (from tensorflow->nlpia) (3.7.4.3)\n",
            "Requirement already satisfied: wasabi<1.1.0,>=0.4.0 in /usr/local/lib/python3.6/dist-packages (from spacy->nlpia) (0.8.0)\n",
            "Requirement already satisfied: srsly<1.1.0,>=1.0.2 in /usr/local/lib/python3.6/dist-packages (from spacy->nlpia) (1.0.5)\n",
            "Requirement already satisfied: preshed<3.1.0,>=3.0.2 in /usr/local/lib/python3.6/dist-packages (from spacy->nlpia) (3.0.5)\n",
            "Requirement already satisfied: blis<0.5.0,>=0.4.0 in /usr/local/lib/python3.6/dist-packages (from spacy->nlpia) (0.4.1)\n",
            "Requirement already satisfied: thinc==7.4.0 in /usr/local/lib/python3.6/dist-packages (from spacy->nlpia) (7.4.0)\n",
            "Requirement already satisfied: cymem<2.1.0,>=2.0.2 in /usr/local/lib/python3.6/dist-packages (from spacy->nlpia) (2.0.5)\n",
            "Requirement already satisfied: murmurhash<1.1.0,>=0.28.0 in /usr/local/lib/python3.6/dist-packages (from spacy->nlpia) (1.0.5)\n",
            "Requirement already satisfied: plac<1.2.0,>=0.9.6 in /usr/local/lib/python3.6/dist-packages (from spacy->nlpia) (1.1.3)\n",
            "Requirement already satisfied: catalogue<1.1.0,>=0.0.7 in /usr/local/lib/python3.6/dist-packages (from spacy->nlpia) (1.0.0)\n",
            "Requirement already satisfied: idna<3,>=2.5 in /usr/local/lib/python3.6/dist-packages (from requests>=2.19.0->pandas-datareader->nlpia) (2.10)\n",
            "Requirement already satisfied: chardet<4,>=3.0.2 in /usr/local/lib/python3.6/dist-packages (from requests>=2.19.0->pandas-datareader->nlpia) (3.0.4)\n",
            "Requirement already satisfied: urllib3!=1.25.0,!=1.25.1,<1.26,>=1.21.1 in /usr/local/lib/python3.6/dist-packages (from requests>=2.19.0->pandas-datareader->nlpia) (1.24.3)\n",
            "Requirement already satisfied: certifi>=2017.4.17 in /usr/local/lib/python3.6/dist-packages (from requests>=2.19.0->pandas-datareader->nlpia) (2020.12.5)\n",
            "Requirement already satisfied: text-unidecode>=1.3 in /usr/local/lib/python3.6/dist-packages (from python-slugify->pugnlp->nlpia) (1.3)\n",
            "Requirement already satisfied: jupyter-client>=4.1 in /usr/local/lib/python3.6/dist-packages (from qtconsole->jupyter->nlpia) (5.3.5)\n",
            "Requirement already satisfied: traitlets in /usr/local/lib/python3.6/dist-packages (from qtconsole->jupyter->nlpia) (4.3.3)\n",
            "Requirement already satisfied: ipython-genutils in /usr/local/lib/python3.6/dist-packages (from qtconsole->jupyter->nlpia) (0.2.0)\n",
            "Requirement already satisfied: pyzmq>=17.1 in /usr/local/lib/python3.6/dist-packages (from qtconsole->jupyter->nlpia) (20.0.0)\n",
            "Requirement already satisfied: pygments in /usr/local/lib/python3.6/dist-packages (from qtconsole->jupyter->nlpia) (2.6.1)\n",
            "Requirement already satisfied: qtpy in /usr/local/lib/python3.6/dist-packages (from qtconsole->jupyter->nlpia) (1.9.0)\n",
            "Requirement already satisfied: jupyter-core in /usr/local/lib/python3.6/dist-packages (from qtconsole->jupyter->nlpia) (4.7.0)\n",
            "Requirement already satisfied: ipython>=4.0.0 in /usr/local/lib/python3.6/dist-packages (from ipykernel->jupyter->nlpia) (5.5.0)\n",
            "Requirement already satisfied: tornado>=4.0 in /usr/local/lib/python3.6/dist-packages (from ipykernel->jupyter->nlpia) (5.1.1)\n",
            "Requirement already satisfied: prompt-toolkit<2.0.0,>=1.0.0 in /usr/local/lib/python3.6/dist-packages (from jupyter-console->jupyter->nlpia) (1.0.18)\n",
            "Requirement already satisfied: nbformat>=4.2.0 in /usr/local/lib/python3.6/dist-packages (from ipywidgets->jupyter->nlpia) (5.0.8)\n",
            "Requirement already satisfied: widgetsnbextension~=3.5.0 in /usr/local/lib/python3.6/dist-packages (from ipywidgets->jupyter->nlpia) (3.5.1)\n",
            "Requirement already satisfied: testpath in /usr/local/lib/python3.6/dist-packages (from nbconvert->jupyter->nlpia) (0.4.4)\n",
            "Requirement already satisfied: pandocfilters>=1.4.1 in /usr/local/lib/python3.6/dist-packages (from nbconvert->jupyter->nlpia) (1.4.3)\n",
            "Requirement already satisfied: mistune<2,>=0.8.1 in /usr/local/lib/python3.6/dist-packages (from nbconvert->jupyter->nlpia) (0.8.4)\n",
            "Requirement already satisfied: defusedxml in /usr/local/lib/python3.6/dist-packages (from nbconvert->jupyter->nlpia) (0.6.0)\n",
            "Requirement already satisfied: entrypoints>=0.2.2 in /usr/local/lib/python3.6/dist-packages (from nbconvert->jupyter->nlpia) (0.3)\n",
            "Requirement already satisfied: bleach in /usr/local/lib/python3.6/dist-packages (from nbconvert->jupyter->nlpia) (3.2.1)\n",
            "Requirement already satisfied: jinja2>=2.4 in /usr/local/lib/python3.6/dist-packages (from nbconvert->jupyter->nlpia) (2.11.2)\n",
            "Requirement already satisfied: Send2Trash in /usr/local/lib/python3.6/dist-packages (from notebook->jupyter->nlpia) (1.5.0)\n",
            "Requirement already satisfied: terminado>=0.8.1 in /usr/local/lib/python3.6/dist-packages (from notebook->jupyter->nlpia) (0.9.1)\n",
            "Requirement already satisfied: google-auth-oauthlib<0.5,>=0.4.1 in /usr/local/lib/python3.6/dist-packages (from tensorboard~=2.4->tensorflow->nlpia) (0.4.2)\n",
            "Requirement already satisfied: google-auth<2,>=1.6.3 in /usr/local/lib/python3.6/dist-packages (from tensorboard~=2.4->tensorflow->nlpia) (1.17.2)\n",
            "Requirement already satisfied: werkzeug>=0.11.15 in /usr/local/lib/python3.6/dist-packages (from tensorboard~=2.4->tensorflow->nlpia) (1.0.1)\n",
            "Requirement already satisfied: tensorboard-plugin-wit>=1.6.0 in /usr/local/lib/python3.6/dist-packages (from tensorboard~=2.4->tensorflow->nlpia) (1.7.0)\n",
            "Requirement already satisfied: markdown>=2.6.8 in /usr/local/lib/python3.6/dist-packages (from tensorboard~=2.4->tensorflow->nlpia) (3.3.3)\n",
            "Requirement already satisfied: importlib-metadata>=0.20; python_version < \"3.8\" in /usr/local/lib/python3.6/dist-packages (from catalogue<1.1.0,>=0.0.7->spacy->nlpia) (3.3.0)\n",
            "Requirement already satisfied: decorator in /usr/local/lib/python3.6/dist-packages (from traitlets->qtconsole->jupyter->nlpia) (4.4.2)\n",
            "Requirement already satisfied: pickleshare in /usr/local/lib/python3.6/dist-packages (from ipython>=4.0.0->ipykernel->jupyter->nlpia) (0.7.5)\n",
            "Requirement already satisfied: simplegeneric>0.8 in /usr/local/lib/python3.6/dist-packages (from ipython>=4.0.0->ipykernel->jupyter->nlpia) (0.8.1)\n",
            "Requirement already satisfied: pexpect; sys_platform != \"win32\" in /usr/local/lib/python3.6/dist-packages (from ipython>=4.0.0->ipykernel->jupyter->nlpia) (4.8.0)\n",
            "Requirement already satisfied: wcwidth in /usr/local/lib/python3.6/dist-packages (from prompt-toolkit<2.0.0,>=1.0.0->jupyter-console->jupyter->nlpia) (0.2.5)\n",
            "Requirement already satisfied: jsonschema!=2.5.0,>=2.4 in /usr/local/lib/python3.6/dist-packages (from nbformat>=4.2.0->ipywidgets->jupyter->nlpia) (2.6.0)\n",
            "Requirement already satisfied: packaging in /usr/local/lib/python3.6/dist-packages (from bleach->nbconvert->jupyter->nlpia) (20.8)\n",
            "Requirement already satisfied: MarkupSafe>=0.23 in /usr/local/lib/python3.6/dist-packages (from jinja2>=2.4->nbconvert->jupyter->nlpia) (1.1.1)\n",
            "Requirement already satisfied: ptyprocess; os_name != \"nt\" in /usr/local/lib/python3.6/dist-packages (from terminado>=0.8.1->notebook->jupyter->nlpia) (0.6.0)\n",
            "Requirement already satisfied: requests-oauthlib>=0.7.0 in /usr/local/lib/python3.6/dist-packages (from google-auth-oauthlib<0.5,>=0.4.1->tensorboard~=2.4->tensorflow->nlpia) (1.3.0)\n",
            "Requirement already satisfied: rsa<5,>=3.1.4; python_version >= \"3\" in /usr/local/lib/python3.6/dist-packages (from google-auth<2,>=1.6.3->tensorboard~=2.4->tensorflow->nlpia) (4.6)\n",
            "Requirement already satisfied: pyasn1-modules>=0.2.1 in /usr/local/lib/python3.6/dist-packages (from google-auth<2,>=1.6.3->tensorboard~=2.4->tensorflow->nlpia) (0.2.8)\n",
            "Requirement already satisfied: cachetools<5.0,>=2.0.0 in /usr/local/lib/python3.6/dist-packages (from google-auth<2,>=1.6.3->tensorboard~=2.4->tensorflow->nlpia) (4.2.0)\n",
            "Requirement already satisfied: zipp>=0.5 in /usr/local/lib/python3.6/dist-packages (from importlib-metadata>=0.20; python_version < \"3.8\"->catalogue<1.1.0,>=0.0.7->spacy->nlpia) (3.4.0)\n",
            "Requirement already satisfied: oauthlib>=3.0.0 in /usr/local/lib/python3.6/dist-packages (from requests-oauthlib>=0.7.0->google-auth-oauthlib<0.5,>=0.4.1->tensorboard~=2.4->tensorflow->nlpia) (3.1.0)\n",
            "Requirement already satisfied: pyasn1>=0.1.3 in /usr/local/lib/python3.6/dist-packages (from rsa<5,>=3.1.4; python_version >= \"3\"->google-auth<2,>=1.6.3->tensorboard~=2.4->tensorflow->nlpia) (0.4.8)\n",
            "Building wheels for collected packages: python-Levenshtein, pypandoc\n",
            "  Building wheel for python-Levenshtein (setup.py) ... \u001b[?25l\u001b[?25hdone\n",
            "  Created wheel for python-Levenshtein: filename=python_Levenshtein-0.12.0-cp36-cp36m-linux_x86_64.whl size=144801 sha256=18d5f69254bf91933134531cd9065b9fb4d39834085d26e48f98ea48d5798de0\n",
            "  Stored in directory: /root/.cache/pip/wheels/de/c2/93/660fd5f7559049268ad2dc6d81c4e39e9e36518766eaf7e342\n",
            "  Building wheel for pypandoc (setup.py) ... \u001b[?25l\u001b[?25hdone\n",
            "  Created wheel for pypandoc: filename=pypandoc-1.5-cp36-none-any.whl size=17037 sha256=85432313a9b0f39e1ee0829395f8515958fa8c4f2d705a1708de1b81a6c4a767\n",
            "  Stored in directory: /root/.cache/pip/wheels/bb/7d/d6/2f9af55e800d37e42e546106bcbd36a86e24e725e303d17e04\n",
            "Successfully built python-Levenshtein pypandoc\n",
            "Installing collected packages: python-Levenshtein, html2text, pypandoc, fuzzywuzzy, pugnlp, nlpia\n",
            "Successfully installed fuzzywuzzy-0.18.0 html2text-2020.1.16 nlpia-0.5.2 pugnlp-0.2.6 pypandoc-1.5 python-Levenshtein-0.12.0\n"
          ],
          "name": "stdout"
        }
      ]
    },
    {
      "cell_type": "code",
      "metadata": {
        "colab": {
          "base_uri": "https://localhost:8080/"
        },
        "id": "Wb2tE89xTq36",
        "outputId": "860130b2-89cf-421e-cdbb-61609216a69e"
      },
      "source": [
        "from nlpia.loaders import get_data"
      ],
      "execution_count": null,
      "outputs": [
        {
          "output_type": "stream",
          "text": [
            "/usr/local/lib/python3.6/dist-packages/pugnlp/constants.py:158: FutureWarning: The pandas.datetime class is deprecated and will be removed from pandas in a future version. Import from datetime instead.\n",
            "  MIN_TIMESTAMP = pd.Timestamp(pd.datetime(1677, 9, 22, 0, 12, 44), tz='utc')\n"
          ],
          "name": "stderr"
        }
      ]
    },
    {
      "cell_type": "code",
      "metadata": {
        "id": "-TZLAYJ3TmCS"
      },
      "source": [
        "import gensim.downloader as api"
      ],
      "execution_count": null,
      "outputs": []
    },
    {
      "cell_type": "code",
      "metadata": {
        "colab": {
          "base_uri": "https://localhost:8080/"
        },
        "id": "sxuR0VoRU9rl",
        "outputId": "1a8c79b6-4e88-4eb9-b0a3-b43fc7fa0b6e"
      },
      "source": [
        "word_vectors = api.load(\"word2vec-google-news-300\", return_path=True)"
      ],
      "execution_count": null,
      "outputs": [
        {
          "output_type": "stream",
          "text": [
            "[=================================================-] 98.1% 1631.8/1662.8MB downloaded\n"
          ],
          "name": "stdout"
        }
      ]
    },
    {
      "cell_type": "code",
      "metadata": {
        "colab": {
          "base_uri": "https://localhost:8080/"
        },
        "id": "BjLNFjajV5a8",
        "outputId": "9d1aad57-54e2-42d8-90fc-3590fc438e91"
      },
      "source": [
        "print(word_vectors)"
      ],
      "execution_count": null,
      "outputs": [
        {
          "output_type": "stream",
          "text": [
            "/root/gensim-data/word2vec-google-news-300/word2vec-google-news-300.gz\n"
          ],
          "name": "stdout"
        }
      ]
    },
    {
      "cell_type": "code",
      "metadata": {
        "id": "rMQbR6n2Xkht"
      },
      "source": [
        "from gensim.models.keyedvectors import KeyedVectors"
      ],
      "execution_count": null,
      "outputs": []
    },
    {
      "cell_type": "code",
      "metadata": {
        "id": "aOsFtzlrXsu5"
      },
      "source": [
        "word_vectors1 = KeyedVectors.load_word2vec_format(word_vectors, binary=True, limit=200000)"
      ],
      "execution_count": null,
      "outputs": []
    },
    {
      "cell_type": "code",
      "metadata": {
        "colab": {
          "base_uri": "https://localhost:8080/"
        },
        "id": "xGwcbJ9pX8WJ",
        "outputId": "d88ecc3c-24b9-414c-d72c-b91a360434e9"
      },
      "source": [
        "len(word_vectors1.vocab), len(word_vectors1[next(iter(word_vectors1.vocab))])"
      ],
      "execution_count": null,
      "outputs": [
        {
          "output_type": "execute_result",
          "data": {
            "text/plain": [
              "(200000, 300)"
            ]
          },
          "metadata": {
            "tags": []
          },
          "execution_count": 7
        }
      ]
    },
    {
      "cell_type": "code",
      "metadata": {
        "colab": {
          "base_uri": "https://localhost:8080/"
        },
        "id": "VgVW2dqSYoBo",
        "outputId": "f9ec14a9-3a31-46cb-a029-bb94629bdc2d"
      },
      "source": [
        "iter([1, 2, 3, 4, 5, 6, 7, 8, 9, 10])"
      ],
      "execution_count": null,
      "outputs": [
        {
          "output_type": "execute_result",
          "data": {
            "text/plain": [
              "<list_iterator at 0x7ff844291898>"
            ]
          },
          "metadata": {
            "tags": []
          },
          "execution_count": 8
        }
      ]
    },
    {
      "cell_type": "code",
      "metadata": {
        "colab": {
          "base_uri": "https://localhost:8080/"
        },
        "id": "NPG6rUdVZCK3",
        "outputId": "efe821c8-96bb-4efa-a407-9222f8d30d49"
      },
      "source": [
        "len(next(iter([\"1, 2, 3, 4, 5, 6, 7, 8, 9, 10\"])))"
      ],
      "execution_count": null,
      "outputs": [
        {
          "output_type": "execute_result",
          "data": {
            "text/plain": [
              "29"
            ]
          },
          "metadata": {
            "tags": []
          },
          "execution_count": 9
        }
      ]
    },
    {
      "cell_type": "code",
      "metadata": {
        "colab": {
          "base_uri": "https://localhost:8080/",
          "height": 35
        },
        "id": "Ro7m0M_rZImX",
        "outputId": "9c2989ea-4678-4a41-da15-0fa9cfe0fa82"
      },
      "source": [
        "next(iter([\"1, 2, 3, 4, 5, 6, 7, 8, 9, 10\"]))"
      ],
      "execution_count": null,
      "outputs": [
        {
          "output_type": "execute_result",
          "data": {
            "application/vnd.google.colaboratory.intrinsic+json": {
              "type": "string"
            },
            "text/plain": [
              "'1, 2, 3, 4, 5, 6, 7, 8, 9, 10'"
            ]
          },
          "metadata": {
            "tags": []
          },
          "execution_count": 10
        }
      ]
    },
    {
      "cell_type": "code",
      "metadata": {
        "colab": {
          "base_uri": "https://localhost:8080/",
          "height": 35
        },
        "id": "9mFiBMPnZogH",
        "outputId": "ec4f0c21-7ce0-47ef-ee59-117890324c8e"
      },
      "source": [
        "next(iter([\"1, 2, 3, 4, 5, 6, 7, 8, 9, 10\"]))"
      ],
      "execution_count": null,
      "outputs": [
        {
          "output_type": "execute_result",
          "data": {
            "application/vnd.google.colaboratory.intrinsic+json": {
              "type": "string"
            },
            "text/plain": [
              "'1, 2, 3, 4, 5, 6, 7, 8, 9, 10'"
            ]
          },
          "metadata": {
            "tags": []
          },
          "execution_count": 11
        }
      ]
    },
    {
      "cell_type": "code",
      "metadata": {
        "colab": {
          "base_uri": "https://localhost:8080/"
        },
        "id": "gOVAy15vZsdW",
        "outputId": "842131a1-283b-4b2d-b383-db6b56df60bb"
      },
      "source": [
        "len(next(iter([\"1, 2, 3, 4, 5, 6, 7, 8, 9, 10\"])))"
      ],
      "execution_count": null,
      "outputs": [
        {
          "output_type": "execute_result",
          "data": {
            "text/plain": [
              "29"
            ]
          },
          "metadata": {
            "tags": []
          },
          "execution_count": 12
        }
      ]
    },
    {
      "cell_type": "code",
      "metadata": {
        "colab": {
          "base_uri": "https://localhost:8080/"
        },
        "id": "2SvTFl9zZ3OG",
        "outputId": "9e6a4972-cfb1-4b45-a50b-ce8853136f4d"
      },
      "source": [
        "word_vectors1.vectors.shape"
      ],
      "execution_count": null,
      "outputs": [
        {
          "output_type": "execute_result",
          "data": {
            "text/plain": [
              "(200000, 300)"
            ]
          },
          "metadata": {
            "tags": []
          },
          "execution_count": 13
        }
      ]
    },
    {
      "cell_type": "code",
      "metadata": {
        "colab": {
          "base_uri": "https://localhost:8080/"
        },
        "id": "J9wGqDeHaAy1",
        "outputId": "8d884afe-7563-4435-a071-20d4d7acda3e"
      },
      "source": [
        "!pip install annoy"
      ],
      "execution_count": null,
      "outputs": [
        {
          "output_type": "stream",
          "text": [
            "Collecting annoy\n",
            "\u001b[?25l  Downloading https://files.pythonhosted.org/packages/a1/5b/1c22129f608b3f438713b91cd880dc681d747a860afe3e8e0af86e921942/annoy-1.17.0.tar.gz (646kB)\n",
            "\r\u001b[K     |▌                               | 10kB 19.9MB/s eta 0:00:01\r\u001b[K     |█                               | 20kB 20.1MB/s eta 0:00:01\r\u001b[K     |█▌                              | 30kB 14.6MB/s eta 0:00:01\r\u001b[K     |██                              | 40kB 13.2MB/s eta 0:00:01\r\u001b[K     |██▌                             | 51kB 8.9MB/s eta 0:00:01\r\u001b[K     |███                             | 61kB 9.1MB/s eta 0:00:01\r\u001b[K     |███▌                            | 71kB 9.7MB/s eta 0:00:01\r\u001b[K     |████                            | 81kB 10.8MB/s eta 0:00:01\r\u001b[K     |████▋                           | 92kB 9.2MB/s eta 0:00:01\r\u001b[K     |█████                           | 102kB 8.6MB/s eta 0:00:01\r\u001b[K     |█████▋                          | 112kB 8.6MB/s eta 0:00:01\r\u001b[K     |██████                          | 122kB 8.6MB/s eta 0:00:01\r\u001b[K     |██████▋                         | 133kB 8.6MB/s eta 0:00:01\r\u001b[K     |███████                         | 143kB 8.6MB/s eta 0:00:01\r\u001b[K     |███████▋                        | 153kB 8.6MB/s eta 0:00:01\r\u001b[K     |████████▏                       | 163kB 8.6MB/s eta 0:00:01\r\u001b[K     |████████▋                       | 174kB 8.6MB/s eta 0:00:01\r\u001b[K     |█████████▏                      | 184kB 8.6MB/s eta 0:00:01\r\u001b[K     |█████████▋                      | 194kB 8.6MB/s eta 0:00:01\r\u001b[K     |██████████▏                     | 204kB 8.6MB/s eta 0:00:01\r\u001b[K     |██████████▋                     | 215kB 8.6MB/s eta 0:00:01\r\u001b[K     |███████████▏                    | 225kB 8.6MB/s eta 0:00:01\r\u001b[K     |███████████▋                    | 235kB 8.6MB/s eta 0:00:01\r\u001b[K     |████████████▏                   | 245kB 8.6MB/s eta 0:00:01\r\u001b[K     |████████████▊                   | 256kB 8.6MB/s eta 0:00:01\r\u001b[K     |█████████████▏                  | 266kB 8.6MB/s eta 0:00:01\r\u001b[K     |█████████████▊                  | 276kB 8.6MB/s eta 0:00:01\r\u001b[K     |██████████████▏                 | 286kB 8.6MB/s eta 0:00:01\r\u001b[K     |██████████████▊                 | 296kB 8.6MB/s eta 0:00:01\r\u001b[K     |███████████████▏                | 307kB 8.6MB/s eta 0:00:01\r\u001b[K     |███████████████▊                | 317kB 8.6MB/s eta 0:00:01\r\u001b[K     |████████████████▎               | 327kB 8.6MB/s eta 0:00:01\r\u001b[K     |████████████████▊               | 337kB 8.6MB/s eta 0:00:01\r\u001b[K     |█████████████████▎              | 348kB 8.6MB/s eta 0:00:01\r\u001b[K     |█████████████████▊              | 358kB 8.6MB/s eta 0:00:01\r\u001b[K     |██████████████████▎             | 368kB 8.6MB/s eta 0:00:01\r\u001b[K     |██████████████████▊             | 378kB 8.6MB/s eta 0:00:01\r\u001b[K     |███████████████████▎            | 389kB 8.6MB/s eta 0:00:01\r\u001b[K     |███████████████████▊            | 399kB 8.6MB/s eta 0:00:01\r\u001b[K     |████████████████████▎           | 409kB 8.6MB/s eta 0:00:01\r\u001b[K     |████████████████████▉           | 419kB 8.6MB/s eta 0:00:01\r\u001b[K     |█████████████████████▎          | 430kB 8.6MB/s eta 0:00:01\r\u001b[K     |█████████████████████▉          | 440kB 8.6MB/s eta 0:00:01\r\u001b[K     |██████████████████████▎         | 450kB 8.6MB/s eta 0:00:01\r\u001b[K     |██████████████████████▉         | 460kB 8.6MB/s eta 0:00:01\r\u001b[K     |███████████████████████▎        | 471kB 8.6MB/s eta 0:00:01\r\u001b[K     |███████████████████████▉        | 481kB 8.6MB/s eta 0:00:01\r\u001b[K     |████████████████████████▍       | 491kB 8.6MB/s eta 0:00:01\r\u001b[K     |████████████████████████▉       | 501kB 8.6MB/s eta 0:00:01\r\u001b[K     |█████████████████████████▍      | 512kB 8.6MB/s eta 0:00:01\r\u001b[K     |█████████████████████████▉      | 522kB 8.6MB/s eta 0:00:01\r\u001b[K     |██████████████████████████▍     | 532kB 8.6MB/s eta 0:00:01\r\u001b[K     |██████████████████████████▉     | 542kB 8.6MB/s eta 0:00:01\r\u001b[K     |███████████████████████████▍    | 552kB 8.6MB/s eta 0:00:01\r\u001b[K     |███████████████████████████▉    | 563kB 8.6MB/s eta 0:00:01\r\u001b[K     |████████████████████████████▍   | 573kB 8.6MB/s eta 0:00:01\r\u001b[K     |█████████████████████████████   | 583kB 8.6MB/s eta 0:00:01\r\u001b[K     |█████████████████████████████▍  | 593kB 8.6MB/s eta 0:00:01\r\u001b[K     |██████████████████████████████  | 604kB 8.6MB/s eta 0:00:01\r\u001b[K     |██████████████████████████████▍ | 614kB 8.6MB/s eta 0:00:01\r\u001b[K     |███████████████████████████████ | 624kB 8.6MB/s eta 0:00:01\r\u001b[K     |███████████████████████████████▍| 634kB 8.6MB/s eta 0:00:01\r\u001b[K     |████████████████████████████████| 645kB 8.6MB/s eta 0:00:01\r\u001b[K     |████████████████████████████████| 655kB 8.6MB/s \n",
            "\u001b[?25hBuilding wheels for collected packages: annoy\n",
            "  Building wheel for annoy (setup.py) ... \u001b[?25l\u001b[?25hdone\n",
            "  Created wheel for annoy: filename=annoy-1.17.0-cp36-cp36m-linux_x86_64.whl size=390378 sha256=90e9707230feb78c74a779991fee23bd17ac631f8ce535fb492caa1605d4c0ad\n",
            "  Stored in directory: /root/.cache/pip/wheels/3a/c5/59/cce7e67b52c8e987389e53f917b6bb2a9d904a03246fadcb1e\n",
            "Successfully built annoy\n",
            "Installing collected packages: annoy\n",
            "Successfully installed annoy-1.17.0\n"
          ],
          "name": "stdout"
        }
      ]
    },
    {
      "cell_type": "code",
      "metadata": {
        "colab": {
          "base_uri": "https://localhost:8080/"
        },
        "id": "3mfMiCmMb1Sj",
        "outputId": "33e0339e-a556-4cdf-9b6d-682127282799"
      },
      "source": [
        "from annoy import AnnoyIndex\r\n",
        "num_words, num_dimensions = word_vectors1.vectors.shape\r\n",
        "index = AnnoyIndex(num_dimensions)"
      ],
      "execution_count": null,
      "outputs": [
        {
          "output_type": "stream",
          "text": [
            "/usr/local/lib/python3.6/dist-packages/ipykernel_launcher.py:3: FutureWarning: The default argument for metric will be removed in future version of Annoy. Please pass metric='angular' explicitly.\n",
            "  This is separate from the ipykernel package so we can avoid doing imports until\n"
          ],
          "name": "stderr"
        }
      ]
    },
    {
      "cell_type": "code",
      "metadata": {
        "colab": {
          "base_uri": "https://localhost:8080/"
        },
        "id": "tj8ZBpqjcMJC",
        "outputId": "a8816c37-ff3a-44e0-9c57-9a38b9713b95"
      },
      "source": [
        "!pip install tqdm"
      ],
      "execution_count": null,
      "outputs": [
        {
          "output_type": "stream",
          "text": [
            "Requirement already satisfied: tqdm in /usr/local/lib/python3.6/dist-packages (4.41.1)\n"
          ],
          "name": "stdout"
        }
      ]
    },
    {
      "cell_type": "code",
      "metadata": {
        "colab": {
          "base_uri": "https://localhost:8080/"
        },
        "id": "DsXapjDcdJQR",
        "outputId": "cc121250-8ebe-4c2c-b2c1-e18eaa379c57"
      },
      "source": [
        "from tqdm import tqdm\r\n",
        "for i, word in enumerate(tqdm(word_vectors1.index2word)):\r\n",
        "  index.add_item(i, word_vectors1[word])"
      ],
      "execution_count": null,
      "outputs": [
        {
          "output_type": "stream",
          "text": [
            "100%|██████████| 200000/200000 [00:08<00:00, 22625.10it/s]\n"
          ],
          "name": "stderr"
        }
      ]
    },
    {
      "cell_type": "code",
      "metadata": {
        "colab": {
          "base_uri": "https://localhost:8080/"
        },
        "id": "hRRM6mBDdrxT",
        "outputId": "1ea031a3-4f82-4caf-be15-042373d2e948"
      },
      "source": [
        "import numpy as np\r\n",
        "num_trees = int(np.log(num_words).round(0))\r\n",
        "num_trees"
      ],
      "execution_count": null,
      "outputs": [
        {
          "output_type": "execute_result",
          "data": {
            "text/plain": [
              "12"
            ]
          },
          "metadata": {
            "tags": []
          },
          "execution_count": 18
        }
      ]
    },
    {
      "cell_type": "code",
      "metadata": {
        "colab": {
          "base_uri": "https://localhost:8080/"
        },
        "id": "Km8ROnBgivbB",
        "outputId": "3da7d2af-3f5b-48e4-b417-7d6d13d56e3b"
      },
      "source": [
        "index.build(num_trees)"
      ],
      "execution_count": null,
      "outputs": [
        {
          "output_type": "execute_result",
          "data": {
            "text/plain": [
              "True"
            ]
          },
          "metadata": {
            "tags": []
          },
          "execution_count": 19
        }
      ]
    },
    {
      "cell_type": "code",
      "metadata": {
        "colab": {
          "base_uri": "https://localhost:8080/"
        },
        "id": "0LguPt4KiyjG",
        "outputId": "c391d3ec-69f7-46ae-9244-64256ba79bf4"
      },
      "source": [
        "index.save('Word2vec_euc_index.ann')"
      ],
      "execution_count": null,
      "outputs": [
        {
          "output_type": "execute_result",
          "data": {
            "text/plain": [
              "True"
            ]
          },
          "metadata": {
            "tags": []
          },
          "execution_count": 20
        }
      ]
    },
    {
      "cell_type": "code",
      "metadata": {
        "id": "4Hi8Ouymmo7x"
      },
      "source": [
        "id2w = dict(zip(range(len(word_vectors1.vocab)), word_vectors1.vocab))"
      ],
      "execution_count": null,
      "outputs": []
    },
    {
      "cell_type": "code",
      "metadata": {
        "colab": {
          "base_uri": "https://localhost:8080/"
        },
        "id": "CP5OXpXAotgh",
        "outputId": "cc59488e-944d-4dce-a83e-9f3e28b2af74"
      },
      "source": [
        "word_vectors1.vocab['Harry_Potter'].index"
      ],
      "execution_count": null,
      "outputs": [
        {
          "output_type": "execute_result",
          "data": {
            "text/plain": [
              "9494"
            ]
          },
          "metadata": {
            "tags": []
          },
          "execution_count": 22
        }
      ]
    },
    {
      "cell_type": "code",
      "metadata": {
        "colab": {
          "base_uri": "https://localhost:8080/"
        },
        "id": "spavclbNpdEs",
        "outputId": "6f13360f-7894-4fe0-f1d9-5cdccfaa37ca"
      },
      "source": [
        "word_vectors1.vocab['Harry_Potter'].count"
      ],
      "execution_count": null,
      "outputs": [
        {
          "output_type": "execute_result",
          "data": {
            "text/plain": [
              "190506"
            ]
          },
          "metadata": {
            "tags": []
          },
          "execution_count": 23
        }
      ]
    },
    {
      "cell_type": "code",
      "metadata": {
        "id": "FMWTix-Epnms"
      },
      "source": [
        "w2id = dict(zip(word_vectors1.vocab, range(len(word_vectors1.vocab))))"
      ],
      "execution_count": null,
      "outputs": []
    },
    {
      "cell_type": "code",
      "metadata": {
        "colab": {
          "base_uri": "https://localhost:8080/"
        },
        "id": "Pw2f0RCE5LM-",
        "outputId": "7bf787eb-5371-48c0-8505-516598c82c8f"
      },
      "source": [
        "w2id['Harry_Potter']"
      ],
      "execution_count": null,
      "outputs": [
        {
          "output_type": "execute_result",
          "data": {
            "text/plain": [
              "9494"
            ]
          },
          "metadata": {
            "tags": []
          },
          "execution_count": 25
        }
      ]
    },
    {
      "cell_type": "code",
      "metadata": {
        "id": "TQn2-MuH6I8R"
      },
      "source": [
        "ids = index.get_nns_by_item(w2id['Harry_Potter'], 10)"
      ],
      "execution_count": null,
      "outputs": []
    },
    {
      "cell_type": "code",
      "metadata": {
        "colab": {
          "base_uri": "https://localhost:8080/"
        },
        "id": "kY8GY_Lt6ZFx",
        "outputId": "ea304327-d1fa-47e6-86ce-9c10e33543ac"
      },
      "source": [
        "ids"
      ],
      "execution_count": null,
      "outputs": [
        {
          "output_type": "execute_result",
          "data": {
            "text/plain": [
              "[9494, 193309, 37681, 71557, 40544, 14273, 32643, 84628, 45530, 147151]"
            ]
          },
          "metadata": {
            "tags": []
          },
          "execution_count": 58
        }
      ]
    },
    {
      "cell_type": "code",
      "metadata": {
        "colab": {
          "base_uri": "https://localhost:8080/"
        },
        "id": "4d6FlJqS62HP",
        "outputId": "c281c2ed-ae99-4e5b-c796-aabbbac3c524"
      },
      "source": [
        "[word_vectors1.index2word[i] for i in ids]"
      ],
      "execution_count": null,
      "outputs": [
        {
          "output_type": "execute_result",
          "data": {
            "text/plain": [
              "['Harry_Potter',\n",
              " 'JK_Rowling_Harry_Potter',\n",
              " 'JK_Rowling',\n",
              " 'boy_wizard',\n",
              " 'Deathly_Hallows',\n",
              " 'Twilight',\n",
              " 'Narnia',\n",
              " 'Stephenie_Meyer',\n",
              " 'Hogwarts',\n",
              " 'Hermione_Granger']"
            ]
          },
          "metadata": {
            "tags": []
          },
          "execution_count": 59
        }
      ]
    },
    {
      "cell_type": "code",
      "metadata": {
        "id": "x9S58U6HatEu"
      },
      "source": [
        "annoy_12trees = [word_vectors1.index2word[i] for i in ids]"
      ],
      "execution_count": null,
      "outputs": []
    },
    {
      "cell_type": "code",
      "metadata": {
        "colab": {
          "base_uri": "https://localhost:8080/"
        },
        "id": "BTI_3dGia29m",
        "outputId": "e1809009-bc85-48ea-9a0c-60f988f514ad"
      },
      "source": [
        "annoy_12trees"
      ],
      "execution_count": null,
      "outputs": [
        {
          "output_type": "execute_result",
          "data": {
            "text/plain": [
              "['Harry_Potter',\n",
              " 'JK_Rowling_Harry_Potter',\n",
              " 'JK_Rowling',\n",
              " 'boy_wizard',\n",
              " 'Deathly_Hallows',\n",
              " 'Twilight',\n",
              " 'Narnia',\n",
              " 'Stephenie_Meyer',\n",
              " 'Hogwarts',\n",
              " 'Hermione_Granger']"
            ]
          },
          "metadata": {
            "tags": []
          },
          "execution_count": 61
        }
      ]
    },
    {
      "cell_type": "code",
      "metadata": {
        "id": "PXA2yjys7Jsu",
        "colab": {
          "base_uri": "https://localhost:8080/"
        },
        "outputId": "600cde00-e07f-4047-bf0f-1416c0b99776"
      },
      "source": [
        "[word for word, similarity in word_vectors1.most_similar('Harry_Potter', topn=10)]"
      ],
      "execution_count": null,
      "outputs": [
        {
          "output_type": "execute_result",
          "data": {
            "text/plain": [
              "['JK_Rowling_Harry_Potter',\n",
              " 'JK_Rowling',\n",
              " 'boy_wizard',\n",
              " 'Deathly_Hallows',\n",
              " 'Half_Blood_Prince',\n",
              " 'Rowling',\n",
              " 'Twilight',\n",
              " 'Twilight_saga',\n",
              " 'author_JK_Rowling',\n",
              " 'Narnia']"
            ]
          },
          "metadata": {
            "tags": []
          },
          "execution_count": 29
        }
      ]
    },
    {
      "cell_type": "code",
      "metadata": {
        "id": "8OUKadIw8CAW"
      },
      "source": [
        "index_cos = AnnoyIndex(f=num_dimensions, metric='angular')"
      ],
      "execution_count": null,
      "outputs": []
    },
    {
      "cell_type": "code",
      "metadata": {
        "id": "ehDc-xffV75c"
      },
      "source": [
        "for i, word in enumerate(word_vectors1.index2word):\r\n",
        "  index_cos.add_item(i, word_vectors1[word])"
      ],
      "execution_count": null,
      "outputs": []
    },
    {
      "cell_type": "code",
      "metadata": {
        "colab": {
          "base_uri": "https://localhost:8080/"
        },
        "id": "TZcH0uSVWxFv",
        "outputId": "fed533c6-9728-4cb7-8092-b262741bd4bc"
      },
      "source": [
        "index_cos.build(24)"
      ],
      "execution_count": null,
      "outputs": [
        {
          "output_type": "execute_result",
          "data": {
            "text/plain": [
              "True"
            ]
          },
          "metadata": {
            "tags": []
          },
          "execution_count": 33
        }
      ]
    },
    {
      "cell_type": "code",
      "metadata": {
        "id": "djTOb7J5X3h8"
      },
      "source": [
        "ids_cos = index_cos.get_nns_by_item(w2id['Harry_Potter'], 10)"
      ],
      "execution_count": null,
      "outputs": []
    },
    {
      "cell_type": "code",
      "metadata": {
        "colab": {
          "base_uri": "https://localhost:8080/"
        },
        "id": "_Qr4IeWcYcmc",
        "outputId": "e85c2bf2-d4fd-431e-81b7-3689b378f0de"
      },
      "source": [
        "ids_cos"
      ],
      "execution_count": null,
      "outputs": [
        {
          "output_type": "execute_result",
          "data": {
            "text/plain": [
              "[9494, 193309, 37681, 71557, 40544, 14273, 32643, 84628, 45530, 147151]"
            ]
          },
          "metadata": {
            "tags": []
          },
          "execution_count": 63
        }
      ]
    },
    {
      "cell_type": "code",
      "metadata": {
        "colab": {
          "base_uri": "https://localhost:8080/"
        },
        "id": "M6g7VtjlYw1r",
        "outputId": "9d607e03-6ae0-4826-b7bc-613286342096"
      },
      "source": [
        "[word_vectors1.index2word[i] for i in ids_cos]"
      ],
      "execution_count": null,
      "outputs": [
        {
          "output_type": "execute_result",
          "data": {
            "text/plain": [
              "['Harry_Potter',\n",
              " 'JK_Rowling_Harry_Potter',\n",
              " 'JK_Rowling',\n",
              " 'boy_wizard',\n",
              " 'Deathly_Hallows',\n",
              " 'Twilight',\n",
              " 'Narnia',\n",
              " 'Stephenie_Meyer',\n",
              " 'Hogwarts',\n",
              " 'Hermione_Granger']"
            ]
          },
          "metadata": {
            "tags": []
          },
          "execution_count": 64
        }
      ]
    },
    {
      "cell_type": "code",
      "metadata": {
        "id": "sn19BZNfa-jw"
      },
      "source": [
        "annoy_24trees = [word_vectors1.index2word[i] for i in ids_cos]"
      ],
      "execution_count": null,
      "outputs": []
    },
    {
      "cell_type": "code",
      "metadata": {
        "colab": {
          "base_uri": "https://localhost:8080/"
        },
        "id": "2nmUVerRa-ui",
        "outputId": "ee469092-5659-4199-bdc4-264d608a1f93"
      },
      "source": [
        "annoy_24trees"
      ],
      "execution_count": null,
      "outputs": [
        {
          "output_type": "execute_result",
          "data": {
            "text/plain": [
              "['Harry_Potter',\n",
              " 'JK_Rowling_Harry_Potter',\n",
              " 'JK_Rowling',\n",
              " 'boy_wizard',\n",
              " 'Deathly_Hallows',\n",
              " 'Twilight',\n",
              " 'Narnia',\n",
              " 'Stephenie_Meyer',\n",
              " 'Hogwarts',\n",
              " 'Hermione_Granger']"
            ]
          },
          "metadata": {
            "tags": []
          },
          "execution_count": 66
        }
      ]
    },
    {
      "cell_type": "code",
      "metadata": {
        "id": "F4xSa-HwZDsc"
      },
      "source": [
        "import pandas as pd\r\n",
        "\r\n",
        "\r\n",
        "annoy_top10 = {'annoy_12trees': annoy_12trees, 'annoy_24trees': annoy_24trees}\r\n"
      ],
      "execution_count": null,
      "outputs": []
    },
    {
      "cell_type": "code",
      "metadata": {
        "colab": {
          "base_uri": "https://localhost:8080/",
          "height": 359
        },
        "id": "BN_rIjX6bclg",
        "outputId": "7bb4fce9-cfd9-4367-8f2e-589f120c6329"
      },
      "source": [
        "pd.DataFrame(annoy_top10, columns=['annoy_12trees', 'annoy_24trees'])"
      ],
      "execution_count": null,
      "outputs": [
        {
          "output_type": "execute_result",
          "data": {
            "text/html": [
              "<div>\n",
              "<style scoped>\n",
              "    .dataframe tbody tr th:only-of-type {\n",
              "        vertical-align: middle;\n",
              "    }\n",
              "\n",
              "    .dataframe tbody tr th {\n",
              "        vertical-align: top;\n",
              "    }\n",
              "\n",
              "    .dataframe thead th {\n",
              "        text-align: right;\n",
              "    }\n",
              "</style>\n",
              "<table border=\"1\" class=\"dataframe\">\n",
              "  <thead>\n",
              "    <tr style=\"text-align: right;\">\n",
              "      <th></th>\n",
              "      <th>annoy_12trees</th>\n",
              "      <th>annoy_24trees</th>\n",
              "    </tr>\n",
              "  </thead>\n",
              "  <tbody>\n",
              "    <tr>\n",
              "      <th>0</th>\n",
              "      <td>Harry_Potter</td>\n",
              "      <td>Harry_Potter</td>\n",
              "    </tr>\n",
              "    <tr>\n",
              "      <th>1</th>\n",
              "      <td>JK_Rowling_Harry_Potter</td>\n",
              "      <td>JK_Rowling_Harry_Potter</td>\n",
              "    </tr>\n",
              "    <tr>\n",
              "      <th>2</th>\n",
              "      <td>JK_Rowling</td>\n",
              "      <td>JK_Rowling</td>\n",
              "    </tr>\n",
              "    <tr>\n",
              "      <th>3</th>\n",
              "      <td>boy_wizard</td>\n",
              "      <td>boy_wizard</td>\n",
              "    </tr>\n",
              "    <tr>\n",
              "      <th>4</th>\n",
              "      <td>Deathly_Hallows</td>\n",
              "      <td>Deathly_Hallows</td>\n",
              "    </tr>\n",
              "    <tr>\n",
              "      <th>5</th>\n",
              "      <td>Twilight</td>\n",
              "      <td>Twilight</td>\n",
              "    </tr>\n",
              "    <tr>\n",
              "      <th>6</th>\n",
              "      <td>Narnia</td>\n",
              "      <td>Narnia</td>\n",
              "    </tr>\n",
              "    <tr>\n",
              "      <th>7</th>\n",
              "      <td>Stephenie_Meyer</td>\n",
              "      <td>Stephenie_Meyer</td>\n",
              "    </tr>\n",
              "    <tr>\n",
              "      <th>8</th>\n",
              "      <td>Hogwarts</td>\n",
              "      <td>Hogwarts</td>\n",
              "    </tr>\n",
              "    <tr>\n",
              "      <th>9</th>\n",
              "      <td>Hermione_Granger</td>\n",
              "      <td>Hermione_Granger</td>\n",
              "    </tr>\n",
              "  </tbody>\n",
              "</table>\n",
              "</div>"
            ],
            "text/plain": [
              "             annoy_12trees            annoy_24trees\n",
              "0             Harry_Potter             Harry_Potter\n",
              "1  JK_Rowling_Harry_Potter  JK_Rowling_Harry_Potter\n",
              "2               JK_Rowling               JK_Rowling\n",
              "3               boy_wizard               boy_wizard\n",
              "4          Deathly_Hallows          Deathly_Hallows\n",
              "5                 Twilight                 Twilight\n",
              "6                   Narnia                   Narnia\n",
              "7          Stephenie_Meyer          Stephenie_Meyer\n",
              "8                 Hogwarts                 Hogwarts\n",
              "9         Hermione_Granger         Hermione_Granger"
            ]
          },
          "metadata": {
            "tags": []
          },
          "execution_count": 68
        }
      ]
    },
    {
      "cell_type": "code",
      "metadata": {
        "colab": {
          "base_uri": "https://localhost:8080/"
        },
        "id": "EWI6aPjSbu22",
        "outputId": "569f77c8-4848-4f4b-a00a-57f36763e48a"
      },
      "source": [
        "word_vectors1.most_similar('Harry_Potter')"
      ],
      "execution_count": null,
      "outputs": [
        {
          "output_type": "execute_result",
          "data": {
            "text/plain": [
              "('JK_Rowling_Harry_Potter', 0.8099108934402466)"
            ]
          },
          "metadata": {
            "tags": []
          },
          "execution_count": 73
        }
      ]
    },
    {
      "cell_type": "code",
      "metadata": {
        "id": "Vi_iZ36Scnpm"
      },
      "source": [
        "gensim = word_vectors1.most_similar('Harry_Potter')"
      ],
      "execution_count": null,
      "outputs": []
    },
    {
      "cell_type": "code",
      "metadata": {
        "colab": {
          "base_uri": "https://localhost:8080/"
        },
        "id": "A0IydZwqesEC",
        "outputId": "7da5d2c0-11c1-4a7c-b433-55b302e42e44"
      },
      "source": [
        "gensim"
      ],
      "execution_count": null,
      "outputs": [
        {
          "output_type": "execute_result",
          "data": {
            "text/plain": [
              "[('JK_Rowling_Harry_Potter', 0.8099108934402466),\n",
              " ('JK_Rowling', 0.7601271867752075),\n",
              " ('boy_wizard', 0.7601091265678406),\n",
              " ('Deathly_Hallows', 0.7433497309684753),\n",
              " ('Half_Blood_Prince', 0.7220073342323303),\n",
              " ('Rowling', 0.6777119040489197),\n",
              " ('Twilight', 0.6438896656036377),\n",
              " ('Twilight_saga', 0.6369121670722961),\n",
              " ('author_JK_Rowling', 0.6251192092895508),\n",
              " ('Narnia', 0.6173084378242493)]"
            ]
          },
          "metadata": {
            "tags": []
          },
          "execution_count": 75
        }
      ]
    },
    {
      "cell_type": "code",
      "metadata": {
        "id": "CF8NjgBRetVD",
        "colab": {
          "base_uri": "https://localhost:8080/"
        },
        "outputId": "f7c4d5f9-da20-44e7-a6f5-1fd2356e0a06"
      },
      "source": [
        "for i in gensim:\r\n",
        "  for j in i:\r\n",
        "    print(j)"
      ],
      "execution_count": null,
      "outputs": [
        {
          "output_type": "stream",
          "text": [
            "JK_Rowling_Harry_Potter\n",
            "0.8099108934402466\n",
            "JK_Rowling\n",
            "0.7601271867752075\n",
            "boy_wizard\n",
            "0.7601091265678406\n",
            "Deathly_Hallows\n",
            "0.7433497309684753\n",
            "Half_Blood_Prince\n",
            "0.7220073342323303\n",
            "Rowling\n",
            "0.6777119040489197\n",
            "Twilight\n",
            "0.6438896656036377\n",
            "Twilight_saga\n",
            "0.6369121670722961\n",
            "author_JK_Rowling\n",
            "0.6251192092895508\n",
            "Narnia\n",
            "0.6173084378242493\n"
          ],
          "name": "stdout"
        }
      ]
    },
    {
      "cell_type": "code",
      "metadata": {
        "id": "-XAT4EJce0OS"
      },
      "source": [
        "gensim1 = [('JK_Rowling_Harry_Potter', 0.8099108934402466),\r\n",
        " ('JK_Rowling', 0.7601271867752075),\r\n",
        " ('boy_wizard', 0.7601091265678406),\r\n",
        " ('Deathly_Hallows', 0.7433497309684753),\r\n",
        " ('Half_Blood_Prince', 0.7220073342323303),\r\n",
        " ('Rowling', 0.6777119040489197),\r\n",
        " ('Twilight', 0.6438896656036377),\r\n",
        " ('Twilight_saga', 0.6369121670722961),\r\n",
        " ('author_JK_Rowling', 0.6251192092895508),\r\n",
        " ('Narnia', 0.6173084378242493)]"
      ],
      "execution_count": null,
      "outputs": []
    },
    {
      "cell_type": "code",
      "metadata": {
        "id": "YZKDhoWCf0WL",
        "colab": {
          "base_uri": "https://localhost:8080/"
        },
        "outputId": "de701521-7812-4b5d-99c6-93af231b4810"
      },
      "source": [
        "gensim2 = []\r\n",
        "for i in gensim:\r\n",
        "  gensim2.append(i[0])\r\n",
        "\r\n",
        "print(gensim2)"
      ],
      "execution_count": null,
      "outputs": [
        {
          "output_type": "stream",
          "text": [
            "['JK_Rowling_Harry_Potter', 'JK_Rowling', 'boy_wizard', 'Deathly_Hallows', 'Half_Blood_Prince', 'Rowling', 'Twilight', 'Twilight_saga', 'author_JK_Rowling', 'Narnia']\n"
          ],
          "name": "stdout"
        }
      ]
    },
    {
      "cell_type": "code",
      "metadata": {
        "id": "DbfN2ESdggRw"
      },
      "source": [
        "annoy_top10a = {'gensim': gensim2, 'annoy_12trees': annoy_12trees, 'annoy_24trees': annoy_24trees}"
      ],
      "execution_count": null,
      "outputs": []
    },
    {
      "cell_type": "code",
      "metadata": {
        "id": "aXUwLtLxhHBv"
      },
      "source": [
        "df = pd.DataFrame(annoy_top10a, columns=['gensim' ,'annoy_12trees', 'annoy_24trees'])"
      ],
      "execution_count": null,
      "outputs": []
    },
    {
      "cell_type": "code",
      "metadata": {
        "colab": {
          "base_uri": "https://localhost:8080/",
          "height": 390
        },
        "id": "GWeGRM7chQs9",
        "outputId": "1b3a68dc-9067-41ae-cce0-9264ef858da5"
      },
      "source": [
        "df.set_index('gensim')"
      ],
      "execution_count": null,
      "outputs": [
        {
          "output_type": "execute_result",
          "data": {
            "text/html": [
              "<div>\n",
              "<style scoped>\n",
              "    .dataframe tbody tr th:only-of-type {\n",
              "        vertical-align: middle;\n",
              "    }\n",
              "\n",
              "    .dataframe tbody tr th {\n",
              "        vertical-align: top;\n",
              "    }\n",
              "\n",
              "    .dataframe thead th {\n",
              "        text-align: right;\n",
              "    }\n",
              "</style>\n",
              "<table border=\"1\" class=\"dataframe\">\n",
              "  <thead>\n",
              "    <tr style=\"text-align: right;\">\n",
              "      <th></th>\n",
              "      <th>annoy_12trees</th>\n",
              "      <th>annoy_24trees</th>\n",
              "    </tr>\n",
              "    <tr>\n",
              "      <th>gensim</th>\n",
              "      <th></th>\n",
              "      <th></th>\n",
              "    </tr>\n",
              "  </thead>\n",
              "  <tbody>\n",
              "    <tr>\n",
              "      <th>JK_Rowling_Harry_Potter</th>\n",
              "      <td>Harry_Potter</td>\n",
              "      <td>Harry_Potter</td>\n",
              "    </tr>\n",
              "    <tr>\n",
              "      <th>JK_Rowling</th>\n",
              "      <td>JK_Rowling_Harry_Potter</td>\n",
              "      <td>JK_Rowling_Harry_Potter</td>\n",
              "    </tr>\n",
              "    <tr>\n",
              "      <th>boy_wizard</th>\n",
              "      <td>JK_Rowling</td>\n",
              "      <td>JK_Rowling</td>\n",
              "    </tr>\n",
              "    <tr>\n",
              "      <th>Deathly_Hallows</th>\n",
              "      <td>boy_wizard</td>\n",
              "      <td>boy_wizard</td>\n",
              "    </tr>\n",
              "    <tr>\n",
              "      <th>Half_Blood_Prince</th>\n",
              "      <td>Deathly_Hallows</td>\n",
              "      <td>Deathly_Hallows</td>\n",
              "    </tr>\n",
              "    <tr>\n",
              "      <th>Rowling</th>\n",
              "      <td>Twilight</td>\n",
              "      <td>Twilight</td>\n",
              "    </tr>\n",
              "    <tr>\n",
              "      <th>Twilight</th>\n",
              "      <td>Narnia</td>\n",
              "      <td>Narnia</td>\n",
              "    </tr>\n",
              "    <tr>\n",
              "      <th>Twilight_saga</th>\n",
              "      <td>Stephenie_Meyer</td>\n",
              "      <td>Stephenie_Meyer</td>\n",
              "    </tr>\n",
              "    <tr>\n",
              "      <th>author_JK_Rowling</th>\n",
              "      <td>Hogwarts</td>\n",
              "      <td>Hogwarts</td>\n",
              "    </tr>\n",
              "    <tr>\n",
              "      <th>Narnia</th>\n",
              "      <td>Hermione_Granger</td>\n",
              "      <td>Hermione_Granger</td>\n",
              "    </tr>\n",
              "  </tbody>\n",
              "</table>\n",
              "</div>"
            ],
            "text/plain": [
              "                                   annoy_12trees            annoy_24trees\n",
              "gensim                                                                   \n",
              "JK_Rowling_Harry_Potter             Harry_Potter             Harry_Potter\n",
              "JK_Rowling               JK_Rowling_Harry_Potter  JK_Rowling_Harry_Potter\n",
              "boy_wizard                            JK_Rowling               JK_Rowling\n",
              "Deathly_Hallows                       boy_wizard               boy_wizard\n",
              "Half_Blood_Prince                Deathly_Hallows          Deathly_Hallows\n",
              "Rowling                                 Twilight                 Twilight\n",
              "Twilight                                  Narnia                   Narnia\n",
              "Twilight_saga                    Stephenie_Meyer          Stephenie_Meyer\n",
              "author_JK_Rowling                       Hogwarts                 Hogwarts\n",
              "Narnia                          Hermione_Granger         Hermione_Granger"
            ]
          },
          "metadata": {
            "tags": []
          },
          "execution_count": 85
        }
      ]
    },
    {
      "cell_type": "code",
      "metadata": {
        "id": "aVwrRrgRhg7v"
      },
      "source": [
        "from sklearn.preprocessing import MinMaxScaler"
      ],
      "execution_count": null,
      "outputs": []
    },
    {
      "cell_type": "code",
      "metadata": {
        "id": "ldw6yWplnJco"
      },
      "source": [
        "real_values = asarray([[-1.2], [3.4], [5.6], [-7.8], [9.0]])"
      ],
      "execution_count": null,
      "outputs": []
    },
    {
      "cell_type": "code",
      "metadata": {
        "id": "vYHLN0FCnSIT"
      },
      "source": [
        "scaler = MinMaxScaler()"
      ],
      "execution_count": null,
      "outputs": []
    },
    {
      "cell_type": "code",
      "metadata": {
        "colab": {
          "base_uri": "https://localhost:8080/"
        },
        "id": "U7zKWMWOnUo0",
        "outputId": "693b0693-793a-47d0-d894-0dc7a7200ef9"
      },
      "source": [
        "scaler.fit(real_values)"
      ],
      "execution_count": null,
      "outputs": [
        {
          "output_type": "execute_result",
          "data": {
            "text/plain": [
              "MinMaxScaler(copy=True, feature_range=(0, 1))"
            ]
          },
          "metadata": {
            "tags": []
          },
          "execution_count": 108
        }
      ]
    },
    {
      "cell_type": "code",
      "metadata": {
        "colab": {
          "base_uri": "https://localhost:8080/"
        },
        "id": "0z4Rxl9inYQz",
        "outputId": "931b8b1d-1c26-406c-9ec1-e054886f7785"
      },
      "source": [
        "scaler.transform(real_values)"
      ],
      "execution_count": null,
      "outputs": [
        {
          "output_type": "execute_result",
          "data": {
            "text/plain": [
              "array([[0.39285714],\n",
              "       [0.66666667],\n",
              "       [0.79761905],\n",
              "       [0.        ],\n",
              "       [1.        ]])"
            ]
          },
          "metadata": {
            "tags": []
          },
          "execution_count": 109
        }
      ]
    },
    {
      "cell_type": "code",
      "metadata": {
        "colab": {
          "base_uri": "https://localhost:8080/"
        },
        "id": "fdeZ0K34nuRD",
        "outputId": "f2dc5a70-524b-482f-c831-a18e3c9060c9"
      },
      "source": [
        "for x in scaler.transform(real_values):\r\n",
        "  for j in x:\r\n",
        "    print(j*100)"
      ],
      "execution_count": null,
      "outputs": [
        {
          "output_type": "stream",
          "text": [
            "39.28571428571428\n",
            "66.66666666666666\n",
            "79.76190476190476\n",
            "0.0\n",
            "100.0\n"
          ],
          "name": "stdout"
        }
      ]
    },
    {
      "cell_type": "code",
      "metadata": {
        "colab": {
          "base_uri": "https://localhost:8080/"
        },
        "id": "zgSdZobtn-FC",
        "outputId": "98d91a53-f5a0-404c-dbd5-d3bf2cbbde89"
      },
      "source": [
        "print()"
      ],
      "execution_count": null,
      "outputs": [
        {
          "output_type": "stream",
          "text": [
            "[1.]\n"
          ],
          "name": "stdout"
        }
      ]
    },
    {
      "cell_type": "code",
      "metadata": {
        "colab": {
          "base_uri": "https://localhost:8080/"
        },
        "id": "Na5r0ulnoOhy",
        "outputId": "8421f439-75dd-4b92-a648-a401b91c6f4e"
      },
      "source": [
        "[int(x*100) for x in ]"
      ],
      "execution_count": null,
      "outputs": [
        {
          "output_type": "execute_result",
          "data": {
            "text/plain": [
              "[0, 0, 0, 0, 0]"
            ]
          },
          "metadata": {
            "tags": []
          },
          "execution_count": 97
        }
      ]
    },
    {
      "cell_type": "code",
      "metadata": {
        "colab": {
          "base_uri": "https://localhost:8080/"
        },
        "id": "Qcwv0EzwoUNC",
        "outputId": "c99a9948-c424-4b67-ad61-a3a4d7b8a655"
      },
      "source": [
        "# example of a normalization\r\n",
        "from numpy import asarray\r\n",
        "from sklearn.preprocessing import MinMaxScaler\r\n",
        "# define data\r\n",
        "data = asarray([[100, 0.001],\r\n",
        "\t\t\t\t[8, 0.05],\r\n",
        "\t\t\t\t[50, 0.005],\r\n",
        "\t\t\t\t[88, 0.07],\r\n",
        "\t\t\t\t[4, 0.1]])\r\n",
        "print(data)\r\n",
        "# define min max scaler\r\n",
        "scaler = MinMaxScaler()\r\n",
        "# transform data\r\n",
        "scaled = scaler.fit_transform(data)\r\n",
        "print(scaled)"
      ],
      "execution_count": null,
      "outputs": [
        {
          "output_type": "stream",
          "text": [
            "[[1.0e+02 1.0e-03]\n",
            " [8.0e+00 5.0e-02]\n",
            " [5.0e+01 5.0e-03]\n",
            " [8.8e+01 7.0e-02]\n",
            " [4.0e+00 1.0e-01]]\n",
            "[[1.         0.        ]\n",
            " [0.04166667 0.49494949]\n",
            " [0.47916667 0.04040404]\n",
            " [0.875      0.6969697 ]\n",
            " [0.         1.        ]]\n"
          ],
          "name": "stdout"
        }
      ]
    },
    {
      "cell_type": "code",
      "metadata": {
        "id": "83oyl2pro2yF"
      },
      "source": [
        "data_store = \"These are the top tech stocks to buy for 2021.The year 2020 was one of the best years in recent memory for tech stocks. Through Dec. 21, the information technology sector of the S&P 500 was up about 40% in the calendar year. The S&P 500 itself was up 14.8% over the same period. Investors can't expect technology names to always trounce the market like that, but the rapid digitization of shopping, working and entertainment that the pandemic kicked into high gear will continue to reap rewards for many tech names in 2021. Here are 10 of the best tech stocks to buy for 2021. Apple, the largest publicly traded company in the world, is worth about $2.2 trillion. Not including state-owned businesses like Saudi Aramco, it's also the most profitable, raking in $57.41 billion in profit in the last 12 months. A price-earnings ratio around 40 is a little high for such an already massive company, but investors are paying up in part for the financial security that comes with that size. Although AAPL is slowly diversifying away from its reliance on the iPhone, the hit smartphone still remains Apple's major source of revenue, and recent reports from Nikkei Asia claim Apple is planning to increase its iPhone production by almost 30% in the first half of 2021 alone. Excluding companies running index funds, Berkshire Hathaway (BRK.B, BRK.A) is Apples single-largest shareholder, owning more than 5% of total outstanding shares.Named one of U.S. News & World Report's 10 best stocks to buy for 2021, this home electronics company earned an automatic spot among the list of the best tech stocks to buy for the coming year. Its sleek, easy-to-use speakers can be voice-controlled and wirelessly connected across the house, and the Sonos app is compatible with the major music-streaming services like Spotify (SPOT) and Apple Music. Sonos is the smallest company on this list with a valuation around $2.7 billion, so some investors may be hesitant to bet on SONO stock given the competition in the connected home market, such as Apple, Alphabet's (GOOG, GOOGL) Google and Amazon.com (AMZN), but Sonos has managed to thrive in the competitive environment since it was founded in 2002 – and could even be an acquisition target for these larger players in time. Analysts expect sales to grow roughly 10% in fiscal 2021.Match Group is the premier online dating company in the market – and as of December 2020, it's essentially the sole option for investors looking to bet on the emergence of online matchmaking. Early reports indicate that may change, with Bumble reportedly going public in February 2021. Regardless of Bumble's plans, the parent company of Tinder, Match, OkCupid, Hinge, Plenty of Fish and other services is all-in on an industry with little sign of declining anytime soon. At more than 70 times earnings, are there cheaper tech stocks to buy out there? Sure. But MTCH isnt just a stock to buy and hold for 2021 – its a long-term bet on a core part of humanity in todays digital age. Match shares may be more attractive on a pullback, but theyre long-term winners. Another wager on the core parts of humanity, Adobe is arguably the most appropriate tech stock to buy in order to bet on the endurance of human creativity. Its Adobe Creative Cloud, which includes services like Acrobat Pro, Dreamweaver, Illustrator, InDesign, Photoshop and Premier, is a major revenue driver, contributing to 20% year over year growth in its dominant digital media segment last fiscal year. Its very difficult to find software companies of Adobes size – its worth more than $240 billion – with the ability to grow by 10% to 20% annually. Due to scale advantages that come with being a cloud-based software-as-a-service company, ADBE should be able to grow earnings more quickly than revenue going forward. Adobe was also named as one of U.S. News 10 best stocks to buy for One of the far less risky of the best tech stocks to buy for the coming year, Cisco is at its core a mature blue-chip communications equipment company bound not to make major waves in investor portfolios. Thats part of what makes it a top tech stock, particularly for more conservative investors. The company, which makes infrastructure like routers, data center products and switches powering much of todays digital highway, pays a solid 3.2% dividend and uses just 57% of profits to do so. Unlike so many other tech stocks heading into 2021, CSCO shares also trade for a muted multiple of just 18 times earnings and 14 times forward earnings. Another of the best tech stocks to buy for 2021, the Chinese equivalent of Amazon with a robust e-commerce segment and flourishing cloud division, is Alibaba. Unlike Amazon, which trades for a forward P/E of more than 70, Alibaba trades for just more than 20 times forward earnings – and its growing more quickly than the U.S.-based e-retailer. In the last five years, BABA has grown sales by 46.2% annually compared with the 25.8% compound sales growth at Amazon over the same period. With the massive and growing customer base that is the Chinese middle class supporting its growth, BABA shares have runway to keep thriving in 2021 and beyond.Music streaming platform Spotify has successfully turned digital music into a social experience, with friends able to easily curate and share playlists, as well as see what their connections are listening to in the moment. Theres just one thing to note about Spotify, which saw monthly active users (MAUs) grow 29% to 320 million last quarter: Its not yet profitable. Thats expected to change in the coming years, especially as Spotify pushes into podcasts, which should have better margins than the music licensing business. The most popular podcast on earth right now, The Joe Rogan Experience, is coming exclusively to Spotify by the end of 2020 in a licensing deal worth more than $100 million.Cloud storage and collaboration company Dropbox is, relative to many tech stocks, quite cheap. DBX plays for 24 times forward earnings; last quarter, its revenue rose 13.8% and non-GAAP earnings per share jumped 100% year over year. Paying users rose to 15.25 million from 14 million a year ago, while average revenue per paying user also ticked up to $128.03 from $123.15 a year ago. Dropbox, although operating in a competitive environment, has successfully stood up against the storage giants and consistently grown since its inception in 2007. Overall, the company has more than 600 million registered users across 180 countries.\""
      ],
      "execution_count": null,
      "outputs": []
    },
    {
      "cell_type": "code",
      "metadata": {
        "id": "OYCpfo8fKd8G"
      },
      "source": [
        "import numpy as np\r\n",
        "def training_set_generator(data_store, batch_size=32):\r\n",
        "  X, Y = [], []\r\n",
        "  while True:\r\n",
        "    with open(data_store) as f:\r\n",
        "      for i, line in enumerate(f):\r\n",
        "        if i % batch_size == 0 and X and Y:\r\n",
        "          yield np.array(X), np.array(Y)\r\n",
        "          X, Y = [], []\r\n",
        "        x, y = line.split('|')\r\n",
        "        X.append(x)\r\n",
        "        Y.append(y)"
      ],
      "execution_count": null,
      "outputs": []
    },
    {
      "cell_type": "code",
      "metadata": {
        "id": "4HrESsXuL4nL"
      },
      "source": [
        "training_set = training_set_generator(data_store)"
      ],
      "execution_count": null,
      "outputs": []
    },
    {
      "cell_type": "code",
      "metadata": {
        "colab": {
          "base_uri": "https://localhost:8080/"
        },
        "id": "K3fdNc7AMAXX",
        "outputId": "3811b815-8232-492e-bb87-8b9ce543a6f2"
      },
      "source": [
        "print(training_set)"
      ],
      "execution_count": null,
      "outputs": [
        {
          "output_type": "stream",
          "text": [
            "<generator object training_set_generator at 0x7faa40974620>\n"
          ],
          "name": "stdout"
        }
      ]
    },
    {
      "cell_type": "code",
      "metadata": {
        "id": "UrROYI5TMBzG"
      },
      "source": [
        "import numpy as np\r\n",
        "def training_set_generator1(data_store, batch_size=32):\r\n",
        "  X, Y = [], []\r\n",
        "  while True:\r\n",
        "    with open(data_store) as f:\r\n",
        "      for i, line in enumerate(f):\r\n",
        "        if i % batch_size == 0 and X and Y:\r\n",
        "          yield np.array(X), np.array(Y)\r\n",
        "          x, y = line.split('|')\r\n",
        "          X, Y = [], []\r\n",
        "        X.append(x)\r\n",
        "        Y.append(y)\r\n",
        "        print(X)\r\n",
        "        print(Y)"
      ],
      "execution_count": null,
      "outputs": []
    },
    {
      "cell_type": "code",
      "metadata": {
        "colab": {
          "base_uri": "https://localhost:8080/"
        },
        "id": "Z3XRQJoUMlH2",
        "outputId": "146e9d3d-b3f9-4d76-9cb5-59e9f28a818c"
      },
      "source": [
        "training_set_generator1(data_store)"
      ],
      "execution_count": null,
      "outputs": [
        {
          "output_type": "execute_result",
          "data": {
            "text/plain": [
              "<generator object training_set_generator1 at 0x7faa408d5af0>"
            ]
          },
          "metadata": {
            "tags": []
          },
          "execution_count": 13
        }
      ]
    },
    {
      "cell_type": "code",
      "metadata": {
        "id": "xrejPjxXMprW"
      },
      "source": [
        ""
      ],
      "execution_count": null,
      "outputs": []
    },
    {
      "cell_type": "markdown",
      "metadata": {
        "id": "L_H6MJdTQAvv"
      },
      "source": [
        "# **Word Emegging on TensorBoard**"
      ]
    },
    {
      "cell_type": "code",
      "metadata": {
        "colab": {
          "base_uri": "https://localhost:8080/"
        },
        "id": "8dU6Yq6mQq7N",
        "outputId": "1458a0be-0768-48cf-99f5-1737b809c8a6"
      },
      "source": [
        "pip install tensorflow==1.13.2"
      ],
      "execution_count": null,
      "outputs": [
        {
          "output_type": "stream",
          "text": [
            "Collecting tensorflow==1.13.2\n",
            "\u001b[?25l  Downloading https://files.pythonhosted.org/packages/db/d3/651f95288a6cd9094f7411cdd90ef12a3d01a268009e0e3cd66b5c8d65bd/tensorflow-1.13.2-cp36-cp36m-manylinux1_x86_64.whl (92.6MB)\n",
            "\u001b[K     |████████████████████████████████| 92.6MB 46kB/s \n",
            "\u001b[?25hRequirement already satisfied: gast>=0.2.0 in /usr/local/lib/python3.6/dist-packages (from tensorflow==1.13.2) (0.3.3)\n",
            "Requirement already satisfied: termcolor>=1.1.0 in /usr/local/lib/python3.6/dist-packages (from tensorflow==1.13.2) (1.1.0)\n",
            "Requirement already satisfied: numpy<2.0,>=1.16.0 in /usr/local/lib/python3.6/dist-packages (from tensorflow==1.13.2) (1.19.4)\n",
            "Requirement already satisfied: astor>=0.6.0 in /usr/local/lib/python3.6/dist-packages (from tensorflow==1.13.2) (0.8.1)\n",
            "Requirement already satisfied: keras-preprocessing>=1.0.5 in /usr/local/lib/python3.6/dist-packages (from tensorflow==1.13.2) (1.1.2)\n",
            "Collecting tensorflow-estimator<1.14.0rc0,>=1.13.0\n",
            "\u001b[?25l  Downloading https://files.pythonhosted.org/packages/bb/48/13f49fc3fa0fdf916aa1419013bb8f2ad09674c275b4046d5ee669a46873/tensorflow_estimator-1.13.0-py2.py3-none-any.whl (367kB)\n",
            "\u001b[K     |████████████████████████████████| 368kB 49.5MB/s \n",
            "\u001b[?25hRequirement already satisfied: grpcio>=1.8.6 in /usr/local/lib/python3.6/dist-packages (from tensorflow==1.13.2) (1.32.0)\n",
            "Requirement already satisfied: absl-py>=0.1.6 in /usr/local/lib/python3.6/dist-packages (from tensorflow==1.13.2) (0.10.0)\n",
            "Collecting keras-applications>=1.0.6\n",
            "\u001b[?25l  Downloading https://files.pythonhosted.org/packages/71/e3/19762fdfc62877ae9102edf6342d71b28fbfd9dea3d2f96a882ce099b03f/Keras_Applications-1.0.8-py3-none-any.whl (50kB)\n",
            "\u001b[K     |████████████████████████████████| 51kB 5.3MB/s \n",
            "\u001b[?25hRequirement already satisfied: wheel>=0.26 in /usr/local/lib/python3.6/dist-packages (from tensorflow==1.13.2) (0.36.2)\n",
            "Collecting tensorboard<1.14.0,>=1.13.0\n",
            "\u001b[?25l  Downloading https://files.pythonhosted.org/packages/0f/39/bdd75b08a6fba41f098b6cb091b9e8c7a80e1b4d679a581a0ccd17b10373/tensorboard-1.13.1-py3-none-any.whl (3.2MB)\n",
            "\u001b[K     |████████████████████████████████| 3.2MB 43.0MB/s \n",
            "\u001b[?25hRequirement already satisfied: protobuf>=3.6.1 in /usr/local/lib/python3.6/dist-packages (from tensorflow==1.13.2) (3.12.4)\n",
            "Requirement already satisfied: six>=1.10.0 in /usr/local/lib/python3.6/dist-packages (from tensorflow==1.13.2) (1.15.0)\n",
            "Collecting mock>=2.0.0\n",
            "  Downloading https://files.pythonhosted.org/packages/5c/03/b7e605db4a57c0f6fba744b11ef3ddf4ddebcada35022927a2b5fc623fdf/mock-4.0.3-py3-none-any.whl\n",
            "Requirement already satisfied: h5py in /usr/local/lib/python3.6/dist-packages (from keras-applications>=1.0.6->tensorflow==1.13.2) (2.10.0)\n",
            "Requirement already satisfied: markdown>=2.6.8 in /usr/local/lib/python3.6/dist-packages (from tensorboard<1.14.0,>=1.13.0->tensorflow==1.13.2) (3.3.3)\n",
            "Requirement already satisfied: werkzeug>=0.11.15 in /usr/local/lib/python3.6/dist-packages (from tensorboard<1.14.0,>=1.13.0->tensorflow==1.13.2) (1.0.1)\n",
            "Requirement already satisfied: setuptools in /usr/local/lib/python3.6/dist-packages (from protobuf>=3.6.1->tensorflow==1.13.2) (51.0.0)\n",
            "Requirement already satisfied: importlib-metadata; python_version < \"3.8\" in /usr/local/lib/python3.6/dist-packages (from markdown>=2.6.8->tensorboard<1.14.0,>=1.13.0->tensorflow==1.13.2) (3.3.0)\n",
            "Requirement already satisfied: zipp>=0.5 in /usr/local/lib/python3.6/dist-packages (from importlib-metadata; python_version < \"3.8\"->markdown>=2.6.8->tensorboard<1.14.0,>=1.13.0->tensorflow==1.13.2) (3.4.0)\n",
            "Requirement already satisfied: typing-extensions>=3.6.4; python_version < \"3.8\" in /usr/local/lib/python3.6/dist-packages (from importlib-metadata; python_version < \"3.8\"->markdown>=2.6.8->tensorboard<1.14.0,>=1.13.0->tensorflow==1.13.2) (3.7.4.3)\n",
            "Installing collected packages: mock, tensorflow-estimator, keras-applications, tensorboard, tensorflow\n",
            "  Found existing installation: tensorflow-estimator 2.4.0\n",
            "    Uninstalling tensorflow-estimator-2.4.0:\n",
            "      Successfully uninstalled tensorflow-estimator-2.4.0\n",
            "  Found existing installation: tensorboard 2.4.0\n",
            "    Uninstalling tensorboard-2.4.0:\n",
            "      Successfully uninstalled tensorboard-2.4.0\n",
            "  Found existing installation: tensorflow 2.4.0\n",
            "    Uninstalling tensorflow-2.4.0:\n",
            "      Successfully uninstalled tensorflow-2.4.0\n",
            "Successfully installed keras-applications-1.0.8 mock-4.0.3 tensorboard-1.13.1 tensorflow-1.13.2 tensorflow-estimator-1.13.0\n"
          ],
          "name": "stdout"
        }
      ]
    },
    {
      "cell_type": "code",
      "metadata": {
        "colab": {
          "base_uri": "https://localhost:8080/"
        },
        "id": "BpRQw_33QFXI",
        "outputId": "5ae04e50-ddc3-40f1-aed1-f89864521a83"
      },
      "source": [
        "import os\r\n",
        "import tensorflow as tf \r\n",
        "import numpy as np\r\n",
        "from io import open\r\n",
        "from tensorflow.contrib.tensorboard.plugins import projector"
      ],
      "execution_count": null,
      "outputs": [
        {
          "output_type": "stream",
          "text": [
            "/usr/local/lib/python3.6/dist-packages/tensorflow/python/framework/dtypes.py:526: FutureWarning: Passing (type, 1) or '1type' as a synonym of type is deprecated; in a future version of numpy, it will be understood as (type, (1,)) / '(1,)type'.\n",
            "  _np_qint8 = np.dtype([(\"qint8\", np.int8, 1)])\n",
            "/usr/local/lib/python3.6/dist-packages/tensorflow/python/framework/dtypes.py:527: FutureWarning: Passing (type, 1) or '1type' as a synonym of type is deprecated; in a future version of numpy, it will be understood as (type, (1,)) / '(1,)type'.\n",
            "  _np_quint8 = np.dtype([(\"quint8\", np.uint8, 1)])\n",
            "/usr/local/lib/python3.6/dist-packages/tensorflow/python/framework/dtypes.py:528: FutureWarning: Passing (type, 1) or '1type' as a synonym of type is deprecated; in a future version of numpy, it will be understood as (type, (1,)) / '(1,)type'.\n",
            "  _np_qint16 = np.dtype([(\"qint16\", np.int16, 1)])\n",
            "/usr/local/lib/python3.6/dist-packages/tensorflow/python/framework/dtypes.py:529: FutureWarning: Passing (type, 1) or '1type' as a synonym of type is deprecated; in a future version of numpy, it will be understood as (type, (1,)) / '(1,)type'.\n",
            "  _np_quint16 = np.dtype([(\"quint16\", np.uint16, 1)])\n",
            "/usr/local/lib/python3.6/dist-packages/tensorflow/python/framework/dtypes.py:530: FutureWarning: Passing (type, 1) or '1type' as a synonym of type is deprecated; in a future version of numpy, it will be understood as (type, (1,)) / '(1,)type'.\n",
            "  _np_qint32 = np.dtype([(\"qint32\", np.int32, 1)])\n",
            "/usr/local/lib/python3.6/dist-packages/tensorflow/python/framework/dtypes.py:535: FutureWarning: Passing (type, 1) or '1type' as a synonym of type is deprecated; in a future version of numpy, it will be understood as (type, (1,)) / '(1,)type'.\n",
            "  np_resource = np.dtype([(\"resource\", np.ubyte, 1)])\n"
          ],
          "name": "stderr"
        }
      ]
    },
    {
      "cell_type": "code",
      "metadata": {
        "id": "atjRD2K8QcB7"
      },
      "source": [
        "def create_projection(projection_data, projection_name='tensorboard_viz', path='/temp/'):\r\n",
        "  meta_file = \"{}.tsv\".format(projection_name)\r\n",
        "  vector_dim = len(projection_data[0][1])\r\n",
        "  samples = len(project_data)\r\n",
        "  projection_matrix = np.zeros((samples, vector_dim))\r\n",
        "\r\n",
        "  with open(os.path.join(path, meta_file), 'w') as file_metadata:\r\n",
        "    for i, row in enumerate(projection_data):\r\n",
        "      label, vector = row[0], row[1]\r\n",
        "      projection_matrix[i] = np.array(vector)\r\n",
        "      file_metadata.write(\"{}\\n\".format(label))\r\n",
        "\r\n",
        "  sess = tf.InteractiveSession()\r\n",
        "  embedding = tf.Variable(projection_matrix, trainable=False, name=projection_name)\r\n",
        "  tf.global_variables_initializer().run()\r\n",
        "\r\n",
        "  saver = tf.train.Saver()\r\n",
        "  writer = tf.summary.FileWriter(path, sess.graph)\r\n",
        "  config = projector.ProjectorConfig()\r\n",
        "  embed = config.embeddings.add()\r\n",
        "\r\n",
        "  embed.tensor_name = '{}'.format(projection_name)\r\n",
        "  embed.metadata_path = os.path.join(path, meta_file)\r\n",
        "\r\n",
        "  projector.visualize_embeddings(writer, config)\r\n",
        "  saver.save(sess, os.path.join(path, '{}.ckpt'.format(projection_name)))\r\n",
        "  print('Run `tensorboard --logdir={0}` to run visualize result on tensorboard'.format(path))"
      ],
      "execution_count": null,
      "outputs": []
    },
    {
      "cell_type": "code",
      "metadata": {
        "id": "fsWasifQXcSY"
      },
      "source": [
        ""
      ],
      "execution_count": null,
      "outputs": []
    }
  ]
}