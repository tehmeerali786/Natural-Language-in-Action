{
  "nbformat": 4,
  "nbformat_minor": 0,
  "metadata": {
    "colab": {
      "name": "Chapter 8 - NLPIA",
      "provenance": [],
      "collapsed_sections": []
    },
    "kernelspec": {
      "name": "python3",
      "display_name": "Python 3"
    }
  },
  "cells": [
    {
      "cell_type": "code",
      "metadata": {
        "id": "iITSybOVarCq"
      },
      "source": [
        "import glob\n",
        "import os\n",
        "\n",
        "from random import shuffle\n",
        "from nltk.tokenize import TreebankWordTokenizer"
      ],
      "execution_count": null,
      "outputs": []
    },
    {
      "cell_type": "code",
      "metadata": {
        "colab": {
          "base_uri": "https://localhost:8080/"
        },
        "id": "wRYTDI6wdipp",
        "outputId": "7bca71b3-6ff8-4c9e-ad89-7992a43577bb"
      },
      "source": [
        "!unzip /content/pos2.zip"
      ],
      "execution_count": null,
      "outputs": [
        {
          "output_type": "stream",
          "text": [
            "Archive:  /content/pos2.zip\n",
            "  inflating: pos2/0_9.txt            \n",
            "  inflating: pos2/1_7.txt            \n",
            "  inflating: pos2/10_9.txt           \n",
            "  inflating: pos2/100_7.txt          \n",
            "  inflating: pos2/101_8.txt          \n",
            "  inflating: pos2/102_10.txt         \n",
            "  inflating: pos2/103_7.txt          \n",
            "  inflating: pos2/104_10.txt         \n",
            "  inflating: pos2/105_7.txt          \n",
            "  inflating: pos2/106_10.txt         \n",
            "  inflating: pos2/107_10.txt         \n",
            "  inflating: pos2/108_10.txt         \n",
            "  inflating: pos2/109_10.txt         \n",
            "  inflating: pos2/11_9.txt           \n",
            "  inflating: pos2/110_10.txt         \n",
            "  inflating: pos2/111_10.txt         \n",
            "  inflating: pos2/112_10.txt         \n",
            "  inflating: pos2/113_10.txt         \n",
            "  inflating: pos2/114_10.txt         \n",
            "  inflating: pos2/115_10.txt         \n",
            "  inflating: pos2/116_10.txt         \n",
            "  inflating: pos2/117_10.txt         \n",
            "  inflating: pos2/118_8.txt          \n",
            "  inflating: pos2/119_10.txt         \n",
            "  inflating: pos2/12_9.txt           \n",
            "  inflating: pos2/120_8.txt          \n",
            "  inflating: pos2/121_10.txt         \n",
            "  inflating: pos2/122_9.txt          \n",
            "  inflating: pos2/123_10.txt         \n",
            "  inflating: pos2/124_10.txt         \n",
            "  inflating: pos2/125_7.txt          \n",
            "  inflating: pos2/126_10.txt         \n",
            "  inflating: pos2/127_7.txt          \n",
            "  inflating: pos2/128_7.txt          \n",
            "  inflating: pos2/129_9.txt          \n",
            "  inflating: pos2/13_7.txt           \n",
            "  inflating: pos2/130_9.txt          \n",
            "  inflating: pos2/131_10.txt         \n",
            "  inflating: pos2/132_9.txt          \n",
            "  inflating: pos2/133_10.txt         \n",
            "  inflating: pos2/134_10.txt         \n",
            "  inflating: pos2/135_7.txt          \n",
            "  inflating: pos2/136_10.txt         \n",
            "  inflating: pos2/137_7.txt          \n",
            "  inflating: pos2/138_7.txt          \n",
            "  inflating: pos2/139_10.txt         \n",
            "  inflating: pos2/14_10.txt          \n",
            "  inflating: pos2/140_8.txt          \n",
            "  inflating: pos2/141_9.txt          \n",
            "  inflating: pos2/142_8.txt          \n",
            "  inflating: pos2/143_7.txt          \n",
            "  inflating: pos2/144_8.txt          \n",
            "  inflating: pos2/145_10.txt         \n",
            "  inflating: pos2/146_10.txt         \n",
            "  inflating: pos2/147_9.txt          \n",
            "  inflating: pos2/148_9.txt          \n",
            "  inflating: pos2/149_10.txt         \n",
            "  inflating: pos2/15_7.txt           \n",
            "  inflating: pos2/150_8.txt          \n",
            "  inflating: pos2/151_10.txt         \n",
            "  inflating: pos2/152_9.txt          \n",
            "  inflating: pos2/153_10.txt         \n",
            "  inflating: pos2/154_8.txt          \n",
            "  inflating: pos2/155_10.txt         \n",
            "  inflating: pos2/156_8.txt          \n",
            "  inflating: pos2/157_9.txt          \n",
            "  inflating: pos2/158_10.txt         \n",
            "  inflating: pos2/159_10.txt         \n",
            "  inflating: pos2/16_7.txt           \n",
            "  inflating: pos2/160_9.txt          \n",
            "  inflating: pos2/161_8.txt          \n",
            "  inflating: pos2/162_8.txt          \n",
            "  inflating: pos2/163_10.txt         \n",
            "  inflating: pos2/164_10.txt         \n",
            "  inflating: pos2/165_7.txt          \n",
            "  inflating: pos2/166_7.txt          \n",
            "  inflating: pos2/167_7.txt          \n",
            "  inflating: pos2/168_9.txt          \n",
            "  inflating: pos2/169_8.txt          \n",
            "  inflating: pos2/17_9.txt           \n",
            "  inflating: pos2/170_10.txt         \n",
            "  inflating: pos2/171_8.txt          \n",
            "  inflating: pos2/172_10.txt         \n",
            "  inflating: pos2/173_7.txt          \n",
            "  inflating: pos2/174_7.txt          \n",
            "  inflating: pos2/175_7.txt          \n",
            "  inflating: pos2/176_7.txt          \n",
            "  inflating: pos2/177_9.txt          \n",
            "  inflating: pos2/178_7.txt          \n",
            "  inflating: pos2/179_8.txt          \n",
            "  inflating: pos2/18_7.txt           \n",
            "  inflating: pos2/180_9.txt          \n",
            "  inflating: pos2/181_10.txt         \n",
            "  inflating: pos2/182_10.txt         \n",
            "  inflating: pos2/183_8.txt          \n",
            "  inflating: pos2/184_8.txt          \n",
            "  inflating: pos2/185_9.txt          \n",
            "  inflating: pos2/186_8.txt          \n",
            "  inflating: pos2/187_8.txt          \n",
            "  inflating: pos2/188_7.txt          \n",
            "  inflating: pos2/189_9.txt          \n",
            "  inflating: pos2/19_10.txt          \n",
            "  inflating: pos2/190_10.txt         \n",
            "  inflating: pos2/191_9.txt          \n",
            "  inflating: pos2/192_9.txt          \n",
            "  inflating: pos2/193_7.txt          \n",
            "  inflating: pos2/194_8.txt          \n",
            "  inflating: pos2/195_8.txt          \n",
            "  inflating: pos2/196_9.txt          \n",
            "  inflating: pos2/197_9.txt          \n",
            "  inflating: pos2/198_8.txt          \n",
            "  inflating: pos2/199_10.txt         \n",
            "  inflating: pos2/2_9.txt            \n",
            "  inflating: pos2/20_9.txt           \n",
            "  inflating: pos2/200_10.txt         \n",
            "  inflating: pos2/201_10.txt         \n",
            "  inflating: pos2/202_10.txt         \n",
            "  inflating: pos2/203_7.txt          \n",
            "  inflating: pos2/204_10.txt         \n",
            "  inflating: pos2/205_8.txt          \n",
            "  inflating: pos2/206_10.txt         \n",
            "  inflating: pos2/207_8.txt          \n",
            "  inflating: pos2/208_9.txt          \n",
            "  inflating: pos2/209_8.txt          \n",
            "  inflating: pos2/21_7.txt           \n",
            "  inflating: pos2/210_10.txt         \n",
            "  inflating: pos2/211_9.txt          \n",
            "  inflating: pos2/212_9.txt          \n",
            "  inflating: pos2/213_9.txt          \n",
            "  inflating: pos2/214_7.txt          \n",
            "  inflating: pos2/215_8.txt          \n",
            "  inflating: pos2/216_8.txt          \n",
            "  inflating: pos2/217_8.txt          \n",
            "  inflating: pos2/218_9.txt          \n",
            "  inflating: pos2/219_8.txt          \n",
            "  inflating: pos2/22_8.txt           \n",
            "  inflating: pos2/220_10.txt         \n",
            "  inflating: pos2/221_9.txt          \n",
            "  inflating: pos2/222_10.txt         \n",
            "  inflating: pos2/223_9.txt          \n",
            "  inflating: pos2/224_10.txt         \n",
            "  inflating: pos2/225_9.txt          \n",
            "  inflating: pos2/226_10.txt         \n",
            "  inflating: pos2/227_10.txt         \n",
            "  inflating: pos2/228_7.txt          \n",
            "  inflating: pos2/229_10.txt         \n",
            "  inflating: pos2/23_7.txt           \n",
            "  inflating: pos2/230_9.txt          \n",
            "  inflating: pos2/231_10.txt         \n",
            "  inflating: pos2/232_10.txt         \n",
            "  inflating: pos2/233_7.txt          \n",
            "  inflating: pos2/234_10.txt         \n",
            "  inflating: pos2/235_10.txt         \n",
            "  inflating: pos2/236_9.txt          \n",
            "  inflating: pos2/237_10.txt         \n",
            "  inflating: pos2/238_10.txt         \n",
            "  inflating: pos2/239_7.txt          \n",
            "  inflating: pos2/24_8.txt           \n",
            "  inflating: pos2/240_10.txt         \n",
            "  inflating: pos2/241_8.txt          \n",
            "  inflating: pos2/242_8.txt          \n",
            "  inflating: pos2/243_10.txt         \n",
            "  inflating: pos2/244_10.txt         \n",
            "  inflating: pos2/245_9.txt          \n",
            "  inflating: pos2/246_7.txt          \n",
            "  inflating: pos2/247_10.txt         \n",
            "  inflating: pos2/248_10.txt         \n",
            "  inflating: pos2/249_10.txt         \n",
            "  inflating: pos2/25_7.txt           \n",
            "  inflating: pos2/250_7.txt          \n",
            "  inflating: pos2/251_10.txt         \n",
            "  inflating: pos2/252_9.txt          \n",
            "  inflating: pos2/253_7.txt          \n",
            "  inflating: pos2/254_8.txt          \n",
            "  inflating: pos2/255_10.txt         \n",
            "  inflating: pos2/256_9.txt          \n",
            "  inflating: pos2/257_7.txt          \n",
            "  inflating: pos2/258_7.txt          \n",
            "  inflating: pos2/259_8.txt          \n",
            "  inflating: pos2/26_9.txt           \n",
            "  inflating: pos2/260_7.txt          \n",
            "  inflating: pos2/261_8.txt          \n",
            "  inflating: pos2/262_8.txt          \n",
            "  inflating: pos2/263_9.txt          \n",
            "  inflating: pos2/264_7.txt          \n",
            "  inflating: pos2/265_7.txt          \n",
            "  inflating: pos2/266_7.txt          \n",
            "  inflating: pos2/267_7.txt          \n",
            "  inflating: pos2/268_8.txt          \n",
            "  inflating: pos2/269_8.txt          \n",
            "  inflating: pos2/27_10.txt          \n",
            "  inflating: pos2/270_10.txt         \n",
            "  inflating: pos2/271_10.txt         \n",
            "  inflating: pos2/272_10.txt         \n",
            "  inflating: pos2/273_9.txt          \n",
            "  inflating: pos2/274_7.txt          \n",
            "  inflating: pos2/275_10.txt         \n",
            "  inflating: pos2/276_10.txt         \n",
            "  inflating: pos2/277_8.txt          \n",
            "  inflating: pos2/278_9.txt          \n",
            "  inflating: pos2/279_9.txt          \n",
            "  inflating: pos2/28_10.txt          \n",
            "  inflating: pos2/280_8.txt          \n",
            "  inflating: pos2/281_10.txt         \n",
            "  inflating: pos2/282_9.txt          \n",
            "  inflating: pos2/283_8.txt          \n",
            "  inflating: pos2/284_10.txt         \n",
            "  inflating: pos2/285_10.txt         \n",
            "  inflating: pos2/286_10.txt         \n",
            "  inflating: pos2/287_9.txt          \n",
            "  inflating: pos2/288_10.txt         \n",
            "  inflating: pos2/289_10.txt         \n",
            "  inflating: pos2/29_10.txt          \n",
            "  inflating: pos2/290_9.txt          \n",
            "  inflating: pos2/291_10.txt         \n",
            "  inflating: pos2/292_10.txt         \n",
            "  inflating: pos2/293_7.txt          \n",
            "  inflating: pos2/294_10.txt         \n",
            "  inflating: pos2/295_10.txt         \n",
            "  inflating: pos2/296_10.txt         \n",
            "  inflating: pos2/297_10.txt         \n",
            "  inflating: pos2/298_8.txt          \n",
            "  inflating: pos2/299_10.txt         \n",
            "  inflating: pos2/3_10.txt           \n",
            "  inflating: pos2/30_7.txt           \n",
            "  inflating: pos2/300_9.txt          \n",
            "  inflating: pos2/301_10.txt         \n",
            "  inflating: pos2/302_10.txt         \n",
            "  inflating: pos2/303_10.txt         \n",
            "  inflating: pos2/304_10.txt         \n",
            "  inflating: pos2/305_8.txt          \n",
            "  inflating: pos2/306_10.txt         \n",
            "  inflating: pos2/307_8.txt          \n",
            "  inflating: pos2/308_8.txt          \n",
            "  inflating: pos2/309_9.txt          \n",
            "  inflating: pos2/31_8.txt           \n",
            "  inflating: pos2/310_7.txt          \n",
            "  inflating: pos2/311_9.txt          \n",
            "  inflating: pos2/312_10.txt         \n",
            "  inflating: pos2/313_10.txt         \n",
            "  inflating: pos2/314_10.txt         \n",
            "  inflating: pos2/315_10.txt         \n",
            "  inflating: pos2/316_10.txt         \n",
            "  inflating: pos2/317_10.txt         \n",
            "  inflating: pos2/318_10.txt         \n",
            "  inflating: pos2/319_9.txt          \n",
            "  inflating: pos2/32_10.txt          \n",
            "  inflating: pos2/320_8.txt          \n",
            "  inflating: pos2/321_10.txt         \n",
            "  inflating: pos2/322_10.txt         \n",
            "  inflating: pos2/323_10.txt         \n",
            "  inflating: pos2/324_8.txt          \n",
            "  inflating: pos2/325_9.txt          \n",
            "  inflating: pos2/326_10.txt         \n",
            "  inflating: pos2/327_8.txt          \n",
            "  inflating: pos2/328_10.txt         \n",
            "  inflating: pos2/329_10.txt         \n",
            "  inflating: pos2/33_7.txt           \n",
            "  inflating: pos2/330_10.txt         \n",
            "  inflating: pos2/331_10.txt         \n",
            "  inflating: pos2/332_10.txt         \n",
            "  inflating: pos2/333_10.txt         \n",
            "  inflating: pos2/334_10.txt         \n",
            "  inflating: pos2/335_10.txt         \n",
            "  inflating: pos2/336_10.txt         \n",
            "  inflating: pos2/337_9.txt          \n",
            "  inflating: pos2/338_10.txt         \n",
            "  inflating: pos2/339_10.txt         \n",
            "  inflating: pos2/34_8.txt           \n",
            "  inflating: pos2/340_10.txt         \n",
            "  inflating: pos2/341_10.txt         \n",
            "  inflating: pos2/342_10.txt         \n",
            "  inflating: pos2/343_10.txt         \n",
            "  inflating: pos2/344_8.txt          \n",
            "  inflating: pos2/345_7.txt          \n",
            "  inflating: pos2/346_10.txt         \n",
            "  inflating: pos2/347_10.txt         \n",
            "  inflating: pos2/348_7.txt          \n",
            "  inflating: pos2/349_10.txt         \n",
            "  inflating: pos2/35_8.txt           \n",
            "  inflating: pos2/350_9.txt          \n",
            "  inflating: pos2/351_10.txt         \n",
            "  inflating: pos2/352_10.txt         \n",
            "  inflating: pos2/353_9.txt          \n",
            "  inflating: pos2/354_9.txt          \n",
            "  inflating: pos2/355_9.txt          \n",
            "  inflating: pos2/356_10.txt         \n",
            "  inflating: pos2/357_10.txt         \n",
            "  inflating: pos2/358_10.txt         \n",
            "  inflating: pos2/359_8.txt          \n",
            "  inflating: pos2/36_10.txt          \n",
            "  inflating: pos2/360_10.txt         \n",
            "  inflating: pos2/361_10.txt         \n",
            "  inflating: pos2/362_10.txt         \n",
            "  inflating: pos2/363_10.txt         \n",
            "  inflating: pos2/364_10.txt         \n",
            "  inflating: pos2/365_10.txt         \n",
            "  inflating: pos2/366_9.txt          \n",
            "  inflating: pos2/367_10.txt         \n",
            "  inflating: pos2/368_10.txt         \n",
            "  inflating: pos2/369_10.txt         \n",
            "  inflating: pos2/37_9.txt           \n",
            "  inflating: pos2/370_10.txt         \n",
            "  inflating: pos2/371_9.txt          \n",
            "  inflating: pos2/372_10.txt         \n",
            "  inflating: pos2/373_10.txt         \n",
            "  inflating: pos2/374_10.txt         \n",
            "  inflating: pos2/375_9.txt          \n",
            "  inflating: pos2/376_10.txt         \n",
            "  inflating: pos2/377_7.txt          \n",
            "  inflating: pos2/378_8.txt          \n",
            "  inflating: pos2/379_10.txt         \n",
            "  inflating: pos2/38_10.txt          \n",
            "  inflating: pos2/380_10.txt         \n",
            "  inflating: pos2/381_10.txt         \n",
            "  inflating: pos2/382_10.txt         \n",
            "  inflating: pos2/383_10.txt         \n",
            "  inflating: pos2/384_8.txt          \n",
            "  inflating: pos2/385_10.txt         \n",
            "  inflating: pos2/386_7.txt          \n",
            "  inflating: pos2/387_8.txt          \n",
            "  inflating: pos2/388_8.txt          \n",
            "  inflating: pos2/389_10.txt         \n",
            "  inflating: pos2/39_9.txt           \n",
            "  inflating: pos2/390_10.txt         \n",
            "  inflating: pos2/391_8.txt          \n",
            "  inflating: pos2/392_9.txt          \n",
            "  inflating: pos2/393_8.txt          \n",
            "  inflating: pos2/394_8.txt          \n",
            "  inflating: pos2/395_10.txt         \n",
            "  inflating: pos2/396_8.txt          \n",
            "  inflating: pos2/397_9.txt          \n",
            "  inflating: pos2/398_10.txt         \n",
            "  inflating: pos2/399_9.txt          \n",
            "  inflating: pos2/4_8.txt            \n",
            "  inflating: pos2/40_8.txt           \n",
            "  inflating: pos2/400_10.txt         \n",
            "  inflating: pos2/401_10.txt         \n",
            "  inflating: pos2/402_10.txt         \n",
            "  inflating: pos2/403_8.txt          \n",
            "  inflating: pos2/404_9.txt          \n",
            "  inflating: pos2/405_10.txt         \n",
            "  inflating: pos2/406_8.txt          \n",
            "  inflating: pos2/407_10.txt         \n",
            "  inflating: pos2/408_10.txt         \n",
            "  inflating: pos2/409_10.txt         \n",
            "  inflating: pos2/41_9.txt           \n",
            "  inflating: pos2/410_8.txt          \n",
            "  inflating: pos2/411_10.txt         \n",
            "  inflating: pos2/412_8.txt          \n",
            "  inflating: pos2/413_10.txt         \n",
            "  inflating: pos2/414_10.txt         \n",
            "  inflating: pos2/415_7.txt          \n",
            "  inflating: pos2/416_8.txt          \n",
            "  inflating: pos2/417_7.txt          \n",
            "  inflating: pos2/418_9.txt          \n",
            "  inflating: pos2/419_7.txt          \n",
            "  inflating: pos2/42_10.txt          \n",
            "  inflating: pos2/420_7.txt          \n",
            "  inflating: pos2/421_9.txt          \n",
            "  inflating: pos2/422_7.txt          \n",
            "  inflating: pos2/423_10.txt         \n",
            "  inflating: pos2/424_8.txt          \n",
            "  inflating: pos2/425_10.txt         \n",
            "  inflating: pos2/426_7.txt          \n",
            "  inflating: pos2/427_10.txt         \n",
            "  inflating: pos2/428_7.txt          \n",
            "  inflating: pos2/429_10.txt         \n",
            "  inflating: pos2/43_10.txt          \n",
            "  inflating: pos2/430_7.txt          \n",
            "  inflating: pos2/431_8.txt          \n",
            "  inflating: pos2/432_8.txt          \n",
            "  inflating: pos2/433_10.txt         \n",
            "  inflating: pos2/434_8.txt          \n",
            "  inflating: pos2/435_8.txt          \n",
            "  inflating: pos2/436_10.txt         \n",
            "  inflating: pos2/437_9.txt          \n",
            "  inflating: pos2/438_9.txt          \n",
            "  inflating: pos2/439_9.txt          \n",
            "  inflating: pos2/44_8.txt           \n",
            "  inflating: pos2/440_10.txt         \n",
            "  inflating: pos2/441_9.txt          \n",
            "  inflating: pos2/442_9.txt          \n",
            "  inflating: pos2/443_10.txt         \n",
            "  inflating: pos2/444_10.txt         \n",
            "  inflating: pos2/445_10.txt         \n",
            "  inflating: pos2/446_10.txt         \n",
            "  inflating: pos2/447_10.txt         \n",
            "  inflating: pos2/448_10.txt         \n",
            "  inflating: pos2/449_10.txt         \n",
            "  inflating: pos2/45_10.txt          \n",
            "  inflating: pos2/450_10.txt         \n",
            "  inflating: pos2/451_10.txt         \n",
            "  inflating: pos2/452_10.txt         \n",
            "  inflating: pos2/453_10.txt         \n",
            "  inflating: pos2/454_8.txt          \n",
            "  inflating: pos2/455_10.txt         \n",
            "  inflating: pos2/456_10.txt         \n",
            "  inflating: pos2/457_10.txt         \n",
            "  inflating: pos2/458_10.txt         \n",
            "  inflating: pos2/459_10.txt         \n",
            "  inflating: pos2/46_9.txt           \n",
            "  inflating: pos2/460_9.txt          \n",
            "  inflating: pos2/461_8.txt          \n",
            "  inflating: pos2/462_8.txt          \n",
            "  inflating: pos2/463_7.txt          \n",
            "  inflating: pos2/464_10.txt         \n",
            "  inflating: pos2/465_10.txt         \n",
            "  inflating: pos2/466_8.txt          \n",
            "  inflating: pos2/467_7.txt          \n",
            "  inflating: pos2/468_7.txt          \n",
            "  inflating: pos2/469_7.txt          \n",
            "  inflating: pos2/47_8.txt           \n",
            "  inflating: pos2/470_10.txt         \n",
            "  inflating: pos2/471_7.txt          \n",
            "  inflating: pos2/472_10.txt         \n",
            "  inflating: pos2/473_9.txt          \n",
            "  inflating: pos2/474_7.txt          \n",
            "  inflating: pos2/475_10.txt         \n",
            "  inflating: pos2/476_7.txt          \n",
            "  inflating: pos2/477_10.txt         \n",
            "  inflating: pos2/478_7.txt          \n",
            "  inflating: pos2/479_10.txt         \n",
            "  inflating: pos2/48_7.txt           \n",
            "  inflating: pos2/480_10.txt         \n",
            "  inflating: pos2/481_10.txt         \n",
            "  inflating: pos2/482_8.txt          \n",
            "  inflating: pos2/483_8.txt          \n",
            "  inflating: pos2/484_8.txt          \n",
            "  inflating: pos2/485_8.txt          \n",
            "  inflating: pos2/486_9.txt          \n",
            "  inflating: pos2/487_8.txt          \n",
            "  inflating: pos2/488_9.txt          \n",
            "  inflating: pos2/489_7.txt          \n",
            "  inflating: pos2/49_10.txt          \n",
            "  inflating: pos2/490_9.txt          \n",
            "  inflating: pos2/491_7.txt          \n",
            "  inflating: pos2/492_7.txt          \n",
            "  inflating: pos2/493_10.txt         \n",
            "  inflating: pos2/494_9.txt          \n",
            "  inflating: pos2/495_7.txt          \n",
            "  inflating: pos2/496_10.txt         \n",
            "  inflating: pos2/497_10.txt         \n",
            "  inflating: pos2/498_10.txt         \n",
            "  inflating: pos2/499_8.txt          \n",
            "  inflating: pos2/5_10.txt           \n",
            "  inflating: pos2/50_10.txt          \n",
            "  inflating: pos2/500_9.txt          \n",
            "  inflating: pos2/51_10.txt          \n",
            "  inflating: pos2/52_10.txt          \n",
            "  inflating: pos2/53_10.txt          \n",
            "  inflating: pos2/54_10.txt          \n",
            "  inflating: pos2/55_9.txt           \n",
            "  inflating: pos2/56_10.txt          \n",
            "  inflating: pos2/57_10.txt          \n",
            "  inflating: pos2/58_9.txt           \n",
            "  inflating: pos2/59_7.txt           \n",
            "  inflating: pos2/6_10.txt           \n",
            "  inflating: pos2/60_8.txt           \n",
            "  inflating: pos2/61_10.txt          \n",
            "  inflating: pos2/62_10.txt          \n",
            "  inflating: pos2/63_10.txt          \n",
            "  inflating: pos2/64_7.txt           \n",
            "  inflating: pos2/65_10.txt          \n",
            "  inflating: pos2/66_8.txt           \n",
            "  inflating: pos2/67_10.txt          \n",
            "  inflating: pos2/68_10.txt          \n",
            "  inflating: pos2/69_10.txt          \n",
            "  inflating: pos2/7_7.txt            \n",
            "  inflating: pos2/70_9.txt           \n",
            "  inflating: pos2/71_10.txt          \n",
            "  inflating: pos2/72_7.txt           \n",
            "  inflating: pos2/73_7.txt           \n",
            "  inflating: pos2/74_8.txt           \n",
            "  inflating: pos2/75_8.txt           \n",
            "  inflating: pos2/76_7.txt           \n",
            "  inflating: pos2/77_7.txt           \n",
            "  inflating: pos2/78_10.txt          \n",
            "  inflating: pos2/79_10.txt          \n",
            "  inflating: pos2/8_7.txt            \n",
            "  inflating: pos2/80_9.txt           \n",
            "  inflating: pos2/81_10.txt          \n",
            "  inflating: pos2/82_8.txt           \n",
            "  inflating: pos2/83_10.txt          \n",
            "  inflating: pos2/84_10.txt          \n",
            "  inflating: pos2/85_10.txt          \n",
            "  inflating: pos2/86_10.txt          \n",
            "  inflating: pos2/87_10.txt          \n",
            "  inflating: pos2/88_9.txt           \n",
            "  inflating: pos2/89_7.txt           \n",
            "  inflating: pos2/9_7.txt            \n",
            "  inflating: pos2/90_7.txt           \n",
            "  inflating: pos2/91_8.txt           \n",
            "  inflating: pos2/92_9.txt           \n",
            "  inflating: pos2/93_10.txt          \n",
            "  inflating: pos2/94_10.txt          \n",
            "  inflating: pos2/95_10.txt          \n",
            "  inflating: pos2/96_10.txt          \n",
            "  inflating: pos2/97_9.txt           \n",
            "  inflating: pos2/98_10.txt          \n",
            "  inflating: pos2/99_8.txt           \n"
          ],
          "name": "stdout"
        }
      ]
    },
    {
      "cell_type": "code",
      "metadata": {
        "colab": {
          "base_uri": "https://localhost:8080/"
        },
        "id": "U8m1cEc2gIyt",
        "outputId": "de158d2b-0d9d-45d0-a156-d0c67c5ca55c"
      },
      "source": [
        "!unzip /content/neg2.zip"
      ],
      "execution_count": null,
      "outputs": [
        {
          "output_type": "stream",
          "text": [
            "Archive:  /content/neg2.zip\n",
            "  inflating: neg2/0_3.txt            \n",
            "  inflating: neg2/1_1.txt            \n",
            "  inflating: neg2/10_2.txt           \n",
            "  inflating: neg2/100_3.txt          \n",
            "  inflating: neg2/101_1.txt          \n",
            "  inflating: neg2/102_1.txt          \n",
            "  inflating: neg2/103_1.txt          \n",
            "  inflating: neg2/104_3.txt          \n",
            "  inflating: neg2/105_2.txt          \n",
            "  inflating: neg2/106_2.txt          \n",
            "  inflating: neg2/107_2.txt          \n",
            "  inflating: neg2/108_1.txt          \n",
            "  inflating: neg2/109_2.txt          \n",
            "  inflating: neg2/11_3.txt           \n",
            "  inflating: neg2/110_1.txt          \n",
            "  inflating: neg2/111_4.txt          \n",
            "  inflating: neg2/112_1.txt          \n",
            "  inflating: neg2/113_4.txt          \n",
            "  inflating: neg2/114_4.txt          \n",
            "  inflating: neg2/115_2.txt          \n",
            "  inflating: neg2/116_1.txt          \n",
            "  inflating: neg2/117_3.txt          \n",
            "  inflating: neg2/118_2.txt          \n",
            "  inflating: neg2/119_4.txt          \n",
            "  inflating: neg2/12_1.txt           \n",
            "  inflating: neg2/120_1.txt          \n",
            "  inflating: neg2/121_4.txt          \n",
            "  inflating: neg2/122_1.txt          \n",
            "  inflating: neg2/123_1.txt          \n",
            "  inflating: neg2/124_2.txt          \n",
            "  inflating: neg2/125_1.txt          \n",
            "  inflating: neg2/126_1.txt          \n",
            "  inflating: neg2/127_4.txt          \n",
            "  inflating: neg2/128_4.txt          \n",
            "  inflating: neg2/129_3.txt          \n",
            "  inflating: neg2/13_2.txt           \n",
            "  inflating: neg2/130_1.txt          \n",
            "  inflating: neg2/131_4.txt          \n",
            "  inflating: neg2/132_3.txt          \n",
            "  inflating: neg2/133_2.txt          \n",
            "  inflating: neg2/134_2.txt          \n",
            "  inflating: neg2/135_4.txt          \n",
            "  inflating: neg2/136_4.txt          \n",
            "  inflating: neg2/137_4.txt          \n",
            "  inflating: neg2/138_4.txt          \n",
            "  inflating: neg2/139_4.txt          \n",
            "  inflating: neg2/14_2.txt           \n",
            "  inflating: neg2/140_2.txt          \n",
            "  inflating: neg2/141_3.txt          \n",
            "  inflating: neg2/142_3.txt          \n",
            "  inflating: neg2/143_2.txt          \n",
            "  inflating: neg2/144_2.txt          \n",
            "  inflating: neg2/145_2.txt          \n",
            "  inflating: neg2/146_2.txt          \n",
            "  inflating: neg2/147_4.txt          \n",
            "  inflating: neg2/148_2.txt          \n",
            "  inflating: neg2/149_1.txt          \n",
            "  inflating: neg2/15_1.txt           \n",
            "  inflating: neg2/150_1.txt          \n",
            "  inflating: neg2/151_1.txt          \n",
            "  inflating: neg2/152_4.txt          \n",
            "  inflating: neg2/153_1.txt          \n",
            "  inflating: neg2/154_3.txt          \n",
            "  inflating: neg2/155_3.txt          \n",
            "  inflating: neg2/156_1.txt          \n",
            "  inflating: neg2/157_1.txt          \n",
            "  inflating: neg2/158_3.txt          \n",
            "  inflating: neg2/159_4.txt          \n",
            "  inflating: neg2/16_3.txt           \n",
            "  inflating: neg2/160_2.txt          \n",
            "  inflating: neg2/161_2.txt          \n",
            "  inflating: neg2/162_4.txt          \n",
            "  inflating: neg2/163_4.txt          \n",
            "  inflating: neg2/164_3.txt          \n",
            "  inflating: neg2/165_4.txt          \n",
            "  inflating: neg2/166_1.txt          \n",
            "  inflating: neg2/167_1.txt          \n",
            "  inflating: neg2/168_1.txt          \n",
            "  inflating: neg2/169_1.txt          \n",
            "  inflating: neg2/17_3.txt           \n",
            "  inflating: neg2/170_1.txt          \n",
            "  inflating: neg2/171_1.txt          \n",
            "  inflating: neg2/172_1.txt          \n",
            "  inflating: neg2/173_3.txt          \n",
            "  inflating: neg2/174_3.txt          \n",
            "  inflating: neg2/175_1.txt          \n",
            "  inflating: neg2/176_4.txt          \n",
            "  inflating: neg2/177_1.txt          \n",
            "  inflating: neg2/178_3.txt          \n",
            "  inflating: neg2/179_3.txt          \n",
            "  inflating: neg2/18_3.txt           \n",
            "  inflating: neg2/180_4.txt          \n",
            "  inflating: neg2/181_2.txt          \n",
            "  inflating: neg2/182_1.txt          \n",
            "  inflating: neg2/183_3.txt          \n",
            "  inflating: neg2/184_2.txt          \n",
            "  inflating: neg2/185_4.txt          \n",
            "  inflating: neg2/186_1.txt          \n",
            "  inflating: neg2/187_2.txt          \n",
            "  inflating: neg2/188_1.txt          \n",
            "  inflating: neg2/189_1.txt          \n",
            "  inflating: neg2/19_4.txt           \n",
            "  inflating: neg2/190_1.txt          \n",
            "  inflating: neg2/191_3.txt          \n",
            "  inflating: neg2/192_2.txt          \n",
            "  inflating: neg2/193_1.txt          \n",
            "  inflating: neg2/194_1.txt          \n",
            "  inflating: neg2/195_4.txt          \n",
            "  inflating: neg2/196_3.txt          \n",
            "  inflating: neg2/197_3.txt          \n",
            "  inflating: neg2/198_2.txt          \n",
            "  inflating: neg2/199_1.txt          \n",
            "  inflating: neg2/2_1.txt            \n",
            "  inflating: neg2/20_1.txt           \n",
            "  inflating: neg2/200_1.txt          \n",
            "  inflating: neg2/201_4.txt          \n",
            "  inflating: neg2/202_2.txt          \n",
            "  inflating: neg2/203_1.txt          \n",
            "  inflating: neg2/204_4.txt          \n",
            "  inflating: neg2/205_4.txt          \n",
            "  inflating: neg2/206_2.txt          \n",
            "  inflating: neg2/207_1.txt          \n",
            "  inflating: neg2/208_1.txt          \n",
            "  inflating: neg2/209_1.txt          \n",
            "  inflating: neg2/21_4.txt           \n",
            "  inflating: neg2/210_4.txt          \n",
            "  inflating: neg2/211_4.txt          \n",
            "  inflating: neg2/212_4.txt          \n",
            "  inflating: neg2/213_4.txt          \n",
            "  inflating: neg2/214_4.txt          \n",
            "  inflating: neg2/215_4.txt          \n",
            "  inflating: neg2/216_4.txt          \n",
            "  inflating: neg2/217_3.txt          \n",
            "  inflating: neg2/218_4.txt          \n",
            "  inflating: neg2/219_2.txt          \n",
            "  inflating: neg2/22_1.txt           \n",
            "  inflating: neg2/220_4.txt          \n",
            "  inflating: neg2/221_4.txt          \n",
            "  inflating: neg2/222_1.txt          \n",
            "  inflating: neg2/223_1.txt          \n",
            "  inflating: neg2/224_4.txt          \n",
            "  inflating: neg2/225_2.txt          \n",
            "  inflating: neg2/226_4.txt          \n",
            "  inflating: neg2/227_1.txt          \n",
            "  inflating: neg2/228_1.txt          \n",
            "  inflating: neg2/229_1.txt          \n",
            "  inflating: neg2/23_3.txt           \n",
            "  inflating: neg2/230_2.txt          \n",
            "  inflating: neg2/231_1.txt          \n",
            "  inflating: neg2/232_1.txt          \n",
            "  inflating: neg2/233_1.txt          \n",
            "  inflating: neg2/234_1.txt          \n",
            "  inflating: neg2/235_1.txt          \n",
            "  inflating: neg2/236_1.txt          \n",
            "  inflating: neg2/237_1.txt          \n",
            "  inflating: neg2/238_4.txt          \n",
            "  inflating: neg2/239_2.txt          \n",
            "  inflating: neg2/24_1.txt           \n",
            "  inflating: neg2/240_1.txt          \n",
            "  inflating: neg2/241_1.txt          \n",
            "  inflating: neg2/242_1.txt          \n",
            "  inflating: neg2/243_3.txt          \n",
            "  inflating: neg2/244_4.txt          \n",
            "  inflating: neg2/245_1.txt          \n",
            "  inflating: neg2/246_3.txt          \n",
            "  inflating: neg2/247_3.txt          \n",
            "  inflating: neg2/248_4.txt          \n",
            "  inflating: neg2/249_3.txt          \n",
            "  inflating: neg2/25_1.txt           \n",
            "  inflating: neg2/250_3.txt          \n",
            "  inflating: neg2/251_3.txt          \n",
            "  inflating: neg2/252_4.txt          \n",
            "  inflating: neg2/253_3.txt          \n",
            "  inflating: neg2/254_1.txt          \n",
            "  inflating: neg2/255_3.txt          \n",
            "  inflating: neg2/256_1.txt          \n",
            "  inflating: neg2/257_2.txt          \n",
            "  inflating: neg2/258_4.txt          \n",
            "  inflating: neg2/259_3.txt          \n",
            "  inflating: neg2/26_3.txt           \n",
            "  inflating: neg2/260_4.txt          \n",
            "  inflating: neg2/261_4.txt          \n",
            "  inflating: neg2/262_4.txt          \n",
            "  inflating: neg2/263_4.txt          \n",
            "  inflating: neg2/264_2.txt          \n",
            "  inflating: neg2/265_1.txt          \n",
            "  inflating: neg2/266_3.txt          \n",
            "  inflating: neg2/267_3.txt          \n",
            "  inflating: neg2/268_1.txt          \n",
            "  inflating: neg2/269_1.txt          \n",
            "  inflating: neg2/27_1.txt           \n",
            "  inflating: neg2/270_1.txt          \n",
            "  inflating: neg2/271_1.txt          \n",
            "  inflating: neg2/272_2.txt          \n",
            "  inflating: neg2/273_1.txt          \n",
            "  inflating: neg2/274_2.txt          \n",
            "  inflating: neg2/275_3.txt          \n",
            "  inflating: neg2/276_2.txt          \n",
            "  inflating: neg2/277_4.txt          \n",
            "  inflating: neg2/278_1.txt          \n",
            "  inflating: neg2/279_1.txt          \n",
            "  inflating: neg2/28_2.txt           \n",
            "  inflating: neg2/280_2.txt          \n",
            "  inflating: neg2/281_1.txt          \n",
            "  inflating: neg2/282_1.txt          \n",
            "  inflating: neg2/283_1.txt          \n",
            "  inflating: neg2/284_2.txt          \n",
            "  inflating: neg2/285_3.txt          \n",
            "  inflating: neg2/286_1.txt          \n",
            "  inflating: neg2/287_4.txt          \n",
            "  inflating: neg2/288_1.txt          \n",
            "  inflating: neg2/289_3.txt          \n",
            "  inflating: neg2/29_4.txt           \n",
            "  inflating: neg2/290_2.txt          \n",
            "  inflating: neg2/291_3.txt          \n",
            "  inflating: neg2/292_1.txt          \n",
            "  inflating: neg2/293_2.txt          \n",
            "  inflating: neg2/294_4.txt          \n",
            "  inflating: neg2/295_3.txt          \n",
            "  inflating: neg2/296_2.txt          \n",
            "  inflating: neg2/297_4.txt          \n",
            "  inflating: neg2/298_4.txt          \n",
            "  inflating: neg2/299_1.txt          \n",
            "  inflating: neg2/3_4.txt            \n",
            "  inflating: neg2/30_1.txt           \n",
            "  inflating: neg2/300_4.txt          \n",
            "  inflating: neg2/301_1.txt          \n",
            "  inflating: neg2/302_4.txt          \n",
            "  inflating: neg2/303_2.txt          \n",
            "  inflating: neg2/304_4.txt          \n",
            "  inflating: neg2/305_1.txt          \n",
            "  inflating: neg2/306_1.txt          \n",
            "  inflating: neg2/307_1.txt          \n",
            "  inflating: neg2/308_1.txt          \n",
            "  inflating: neg2/309_1.txt          \n",
            "  inflating: neg2/31_1.txt           \n",
            "  inflating: neg2/310_1.txt          \n",
            "  inflating: neg2/311_1.txt          \n",
            "  inflating: neg2/312_2.txt          \n",
            "  inflating: neg2/313_2.txt          \n",
            "  inflating: neg2/314_1.txt          \n",
            "  inflating: neg2/315_1.txt          \n",
            "  inflating: neg2/316_1.txt          \n",
            "  inflating: neg2/317_1.txt          \n",
            "  inflating: neg2/318_1.txt          \n",
            "  inflating: neg2/319_1.txt          \n",
            "  inflating: neg2/32_3.txt           \n",
            "  inflating: neg2/320_1.txt          \n",
            "  inflating: neg2/321_1.txt          \n",
            "  inflating: neg2/322_1.txt          \n",
            "  inflating: neg2/323_1.txt          \n",
            "  inflating: neg2/324_1.txt          \n",
            "  inflating: neg2/325_2.txt          \n",
            "  inflating: neg2/326_1.txt          \n",
            "  inflating: neg2/327_3.txt          \n",
            "  inflating: neg2/328_1.txt          \n",
            "  inflating: neg2/329_1.txt          \n",
            "  inflating: neg2/33_3.txt           \n",
            "  inflating: neg2/330_1.txt          \n",
            "  inflating: neg2/331_1.txt          \n",
            "  inflating: neg2/332_1.txt          \n",
            "  inflating: neg2/333_3.txt          \n",
            "  inflating: neg2/334_4.txt          \n",
            "  inflating: neg2/335_4.txt          \n",
            "  inflating: neg2/336_1.txt          \n",
            "  inflating: neg2/337_4.txt          \n",
            "  inflating: neg2/338_4.txt          \n",
            "  inflating: neg2/339_4.txt          \n",
            "  inflating: neg2/34_1.txt           \n",
            "  inflating: neg2/340_3.txt          \n",
            "  inflating: neg2/341_4.txt          \n",
            "  inflating: neg2/342_1.txt          \n",
            "  inflating: neg2/343_2.txt          \n",
            "  inflating: neg2/344_2.txt          \n",
            "  inflating: neg2/345_4.txt          \n",
            "  inflating: neg2/346_1.txt          \n",
            "  inflating: neg2/347_1.txt          \n",
            "  inflating: neg2/348_2.txt          \n",
            "  inflating: neg2/349_4.txt          \n",
            "  inflating: neg2/35_3.txt           \n",
            "  inflating: neg2/350_2.txt          \n",
            "  inflating: neg2/351_4.txt          \n",
            "  inflating: neg2/352_4.txt          \n",
            "  inflating: neg2/353_4.txt          \n",
            "  inflating: neg2/354_3.txt          \n",
            "  inflating: neg2/355_4.txt          \n",
            "  inflating: neg2/356_4.txt          \n",
            "  inflating: neg2/357_2.txt          \n",
            "  inflating: neg2/358_4.txt          \n",
            "  inflating: neg2/359_3.txt          \n",
            "  inflating: neg2/36_4.txt           \n",
            "  inflating: neg2/360_4.txt          \n",
            "  inflating: neg2/361_4.txt          \n",
            "  inflating: neg2/362_3.txt          \n",
            "  inflating: neg2/363_1.txt          \n",
            "  inflating: neg2/364_1.txt          \n",
            "  inflating: neg2/365_1.txt          \n",
            "  inflating: neg2/366_1.txt          \n",
            "  inflating: neg2/367_2.txt          \n",
            "  inflating: neg2/368_4.txt          \n",
            "  inflating: neg2/369_1.txt          \n",
            "  inflating: neg2/37_3.txt           \n",
            "  inflating: neg2/370_1.txt          \n",
            "  inflating: neg2/371_1.txt          \n",
            "  inflating: neg2/372_1.txt          \n",
            "  inflating: neg2/373_4.txt          \n",
            "  inflating: neg2/374_2.txt          \n",
            "  inflating: neg2/375_2.txt          \n",
            "  inflating: neg2/376_4.txt          \n",
            "  inflating: neg2/377_1.txt          \n",
            "  inflating: neg2/378_4.txt          \n",
            "  inflating: neg2/379_2.txt          \n",
            "  inflating: neg2/38_2.txt           \n",
            "  inflating: neg2/380_4.txt          \n",
            "  inflating: neg2/381_1.txt          \n",
            "  inflating: neg2/382_1.txt          \n",
            "  inflating: neg2/383_4.txt          \n",
            "  inflating: neg2/384_4.txt          \n",
            "  inflating: neg2/385_3.txt          \n",
            "  inflating: neg2/386_4.txt          \n",
            "  inflating: neg2/387_2.txt          \n",
            "  inflating: neg2/388_1.txt          \n",
            "  inflating: neg2/389_3.txt          \n",
            "  inflating: neg2/39_2.txt           \n",
            "  inflating: neg2/390_4.txt          \n",
            "  inflating: neg2/391_4.txt          \n",
            "  inflating: neg2/392_3.txt          \n",
            "  inflating: neg2/393_2.txt          \n",
            "  inflating: neg2/394_3.txt          \n",
            "  inflating: neg2/395_1.txt          \n",
            "  inflating: neg2/396_3.txt          \n",
            "  inflating: neg2/397_3.txt          \n",
            "  inflating: neg2/398_3.txt          \n",
            "  inflating: neg2/399_2.txt          \n",
            "  inflating: neg2/4_4.txt            \n",
            "  inflating: neg2/40_3.txt           \n",
            "  inflating: neg2/400_2.txt          \n",
            "  inflating: neg2/401_3.txt          \n",
            "  inflating: neg2/402_2.txt          \n",
            "  inflating: neg2/403_3.txt          \n",
            "  inflating: neg2/404_2.txt          \n",
            "  inflating: neg2/405_3.txt          \n",
            "  inflating: neg2/406_2.txt          \n",
            "  inflating: neg2/407_4.txt          \n",
            "  inflating: neg2/408_2.txt          \n",
            "  inflating: neg2/409_2.txt          \n",
            "  inflating: neg2/41_1.txt           \n",
            "  inflating: neg2/410_4.txt          \n",
            "  inflating: neg2/411_2.txt          \n",
            "  inflating: neg2/412_4.txt          \n",
            "  inflating: neg2/413_3.txt          \n",
            "  inflating: neg2/414_2.txt          \n",
            "  inflating: neg2/415_3.txt          \n",
            "  inflating: neg2/416_4.txt          \n",
            "  inflating: neg2/417_1.txt          \n",
            "  inflating: neg2/418_4.txt          \n",
            "  inflating: neg2/419_2.txt          \n",
            "  inflating: neg2/42_3.txt           \n",
            "  inflating: neg2/420_4.txt          \n",
            "  inflating: neg2/421_4.txt          \n",
            "  inflating: neg2/422_1.txt          \n",
            "  inflating: neg2/423_4.txt          \n",
            "  inflating: neg2/424_4.txt          \n",
            "  inflating: neg2/425_2.txt          \n",
            "  inflating: neg2/426_3.txt          \n",
            "  inflating: neg2/427_4.txt          \n",
            "  inflating: neg2/428_1.txt          \n",
            "  inflating: neg2/429_3.txt          \n",
            "  inflating: neg2/43_4.txt           \n",
            "  inflating: neg2/430_1.txt          \n",
            "  inflating: neg2/431_4.txt          \n",
            "  inflating: neg2/432_4.txt          \n",
            "  inflating: neg2/433_4.txt          \n",
            "  inflating: neg2/434_4.txt          \n",
            "  inflating: neg2/435_2.txt          \n",
            "  inflating: neg2/436_1.txt          \n",
            "  inflating: neg2/437_4.txt          \n",
            "  inflating: neg2/438_4.txt          \n",
            "  inflating: neg2/439_1.txt          \n",
            "  inflating: neg2/44_2.txt           \n",
            "  inflating: neg2/440_3.txt          \n",
            "  inflating: neg2/441_2.txt          \n",
            "  inflating: neg2/442_1.txt          \n",
            "  inflating: neg2/443_3.txt          \n",
            "  inflating: neg2/444_4.txt          \n",
            "  inflating: neg2/445_4.txt          \n",
            "  inflating: neg2/446_3.txt          \n",
            "  inflating: neg2/447_1.txt          \n",
            "  inflating: neg2/448_1.txt          \n",
            "  inflating: neg2/449_4.txt          \n",
            "  inflating: neg2/45_2.txt           \n",
            "  inflating: neg2/450_1.txt          \n",
            "  inflating: neg2/451_2.txt          \n",
            "  inflating: neg2/452_3.txt          \n",
            "  inflating: neg2/453_3.txt          \n",
            "  inflating: neg2/454_4.txt          \n",
            "  inflating: neg2/455_4.txt          \n",
            "  inflating: neg2/456_1.txt          \n",
            "  inflating: neg2/457_3.txt          \n",
            "  inflating: neg2/458_1.txt          \n",
            "  inflating: neg2/459_1.txt          \n",
            "  inflating: neg2/46_4.txt           \n",
            "  inflating: neg2/460_2.txt          \n",
            "  inflating: neg2/461_1.txt          \n",
            "  inflating: neg2/462_2.txt          \n",
            "  inflating: neg2/463_4.txt          \n",
            "  inflating: neg2/464_2.txt          \n",
            "  inflating: neg2/465_1.txt          \n",
            "  inflating: neg2/466_1.txt          \n",
            "  inflating: neg2/467_1.txt          \n",
            "  inflating: neg2/468_4.txt          \n",
            "  inflating: neg2/469_2.txt          \n",
            "  inflating: neg2/47_2.txt           \n",
            "  inflating: neg2/470_3.txt          \n",
            "  inflating: neg2/471_4.txt          \n",
            "  inflating: neg2/472_1.txt          \n",
            "  inflating: neg2/473_1.txt          \n",
            "  inflating: neg2/474_4.txt          \n",
            "  inflating: neg2/475_1.txt          \n",
            "  inflating: neg2/476_1.txt          \n",
            "  inflating: neg2/477_4.txt          \n",
            "  inflating: neg2/478_2.txt          \n",
            "  inflating: neg2/479_3.txt          \n",
            "  inflating: neg2/48_4.txt           \n",
            "  inflating: neg2/480_3.txt          \n",
            "  inflating: neg2/481_3.txt          \n",
            "  inflating: neg2/482_1.txt          \n",
            "  inflating: neg2/483_2.txt          \n",
            "  inflating: neg2/484_1.txt          \n",
            "  inflating: neg2/485_3.txt          \n",
            "  inflating: neg2/486_1.txt          \n",
            "  inflating: neg2/487_4.txt          \n",
            "  inflating: neg2/488_4.txt          \n",
            "  inflating: neg2/489_4.txt          \n",
            "  inflating: neg2/49_4.txt           \n",
            "  inflating: neg2/490_3.txt          \n",
            "  inflating: neg2/491_1.txt          \n",
            "  inflating: neg2/492_4.txt          \n",
            "  inflating: neg2/493_4.txt          \n",
            "  inflating: neg2/494_3.txt          \n",
            "  inflating: neg2/495_1.txt          \n",
            "  inflating: neg2/496_1.txt          \n",
            "  inflating: neg2/497_2.txt          \n",
            "  inflating: neg2/498_3.txt          \n",
            "  inflating: neg2/499_1.txt          \n",
            "  inflating: neg2/5_3.txt            \n",
            "  inflating: neg2/50_4.txt           \n",
            "  inflating: neg2/500_2.txt          \n",
            "  inflating: neg2/51_1.txt           \n",
            "  inflating: neg2/52_1.txt           \n",
            "  inflating: neg2/53_3.txt           \n",
            "  inflating: neg2/54_1.txt           \n",
            "  inflating: neg2/55_1.txt           \n",
            "  inflating: neg2/56_3.txt           \n",
            "  inflating: neg2/57_4.txt           \n",
            "  inflating: neg2/58_3.txt           \n",
            "  inflating: neg2/59_3.txt           \n",
            "  inflating: neg2/6_1.txt            \n",
            "  inflating: neg2/60_4.txt           \n",
            "  inflating: neg2/61_3.txt           \n",
            "  inflating: neg2/62_2.txt           \n",
            "  inflating: neg2/63_1.txt           \n",
            "  inflating: neg2/64_1.txt           \n",
            "  inflating: neg2/65_4.txt           \n",
            "  inflating: neg2/66_4.txt           \n",
            "  inflating: neg2/67_2.txt           \n",
            "  inflating: neg2/68_2.txt           \n",
            "  inflating: neg2/69_4.txt           \n",
            "  inflating: neg2/7_3.txt            \n",
            "  inflating: neg2/70_2.txt           \n",
            "  inflating: neg2/71_1.txt           \n",
            "  inflating: neg2/72_4.txt           \n",
            "  inflating: neg2/73_1.txt           \n",
            "  inflating: neg2/74_3.txt           \n",
            "  inflating: neg2/75_1.txt           \n",
            "  inflating: neg2/76_3.txt           \n",
            "  inflating: neg2/77_4.txt           \n",
            "  inflating: neg2/78_4.txt           \n",
            "  inflating: neg2/79_4.txt           \n",
            "  inflating: neg2/8_4.txt            \n",
            "  inflating: neg2/80_3.txt           \n",
            "  inflating: neg2/81_1.txt           \n",
            "  inflating: neg2/82_1.txt           \n",
            "  inflating: neg2/83_3.txt           \n",
            "  inflating: neg2/84_3.txt           \n",
            "  inflating: neg2/85_2.txt           \n",
            "  inflating: neg2/86_4.txt           \n",
            "  inflating: neg2/87_4.txt           \n",
            "  inflating: neg2/88_2.txt           \n",
            "  inflating: neg2/89_2.txt           \n",
            "  inflating: neg2/9_1.txt            \n",
            "  inflating: neg2/90_4.txt           \n",
            "  inflating: neg2/91_1.txt           \n",
            "  inflating: neg2/92_3.txt           \n",
            "  inflating: neg2/93_1.txt           \n",
            "  inflating: neg2/94_1.txt           \n",
            "  inflating: neg2/95_3.txt           \n",
            "  inflating: neg2/96_1.txt           \n",
            "  inflating: neg2/97_1.txt           \n",
            "  inflating: neg2/98_1.txt           \n",
            "  inflating: neg2/99_1.txt           \n"
          ],
          "name": "stdout"
        }
      ]
    },
    {
      "cell_type": "code",
      "metadata": {
        "id": "8ZDq2OOlgOiI"
      },
      "source": [
        "def pre_process_data(filepath):\n",
        "  \"\"\"\n",
        "    Load pos and neg examples from separate dirs then shuffle them together.\n",
        "\n",
        "  \"\"\"\n",
        "\n",
        "  positive_path = os.path.join(filepath, 'pos2')\n",
        "  negative_path = os.path.join(filepath, 'neg2')\n",
        "  \n",
        "  pos_label = 1\n",
        "  neg_label = 0\n",
        "\n",
        "  dataset = []\n",
        "  for filename in glob.glob(os.path.join(positive_path, '*.txt')):\n",
        "    with open(filename, 'r') as f:\n",
        "      dataset.append((pos_label, f.read()))\n",
        "\n",
        "  for filename in glob.glob(os.path.join(negative_path, '*.txt')):\n",
        "    with open(filename, 'r') as f:\n",
        "      dataset.append((neg_label, f.read()))\n",
        "\n",
        "  shuffle(dataset)\n",
        "  return dataset\n"
      ],
      "execution_count": null,
      "outputs": []
    },
    {
      "cell_type": "code",
      "metadata": {
        "id": "74ptMwuLja2d"
      },
      "source": [
        "dataset = pre_process_data(\"/content/\")"
      ],
      "execution_count": null,
      "outputs": []
    },
    {
      "cell_type": "code",
      "metadata": {
        "colab": {
          "base_uri": "https://localhost:8080/"
        },
        "id": "yhRkiHS1j-Th",
        "outputId": "72c7ca4f-a7b7-4a51-ea00-b1e912ec97c8"
      },
      "source": [
        "print(dataset[0])"
      ],
      "execution_count": null,
      "outputs": [
        {
          "output_type": "stream",
          "text": [
            "(0, 'I have to say I am really surprised at the high ratings for this movie. I found it to be absolutely idiotic. The mother gets \"visions\" when she touches certain things or people? And one thing she touched twice made her vision continue... Just seemed so ridiculous. Deedee Pfieffer\\'s performance was awful I thought. She was very irritating. The girl who played Lori did a good job and so did most of the supporting cast for what they had to work with.<br /><br />I usually love LMN and am very open minded when it comes to movies but this movie seemed to have a ridiculous plot and over the top acting and it just was not for me.')\n"
          ],
          "name": "stdout"
        }
      ]
    },
    {
      "cell_type": "code",
      "metadata": {
        "id": "mJb1OyImkJsB"
      },
      "source": [
        "from nltk.tokenize import TreebankWordTokenizer\n",
        "from gensim.models.keyedvectors import KeyedVectors"
      ],
      "execution_count": null,
      "outputs": []
    },
    {
      "cell_type": "code",
      "metadata": {
        "id": "L4nIe4DN-7ii"
      },
      "source": [
        "import gensim.downloader as api"
      ],
      "execution_count": null,
      "outputs": []
    },
    {
      "cell_type": "code",
      "metadata": {
        "colab": {
          "base_uri": "https://localhost:8080/"
        },
        "id": "WfQNRSVZ_8Nu",
        "outputId": "c8d7bb87-b4fa-4bf8-adae-d9582258a11a"
      },
      "source": [
        "word_vecs = api.load(\"word2vec-google-news-300\", return_path=True)"
      ],
      "execution_count": null,
      "outputs": [
        {
          "output_type": "stream",
          "text": [
            "[==================================================] 100.0% 1662.8/1662.8MB downloaded\n"
          ],
          "name": "stdout"
        }
      ]
    },
    {
      "cell_type": "code",
      "metadata": {
        "colab": {
          "base_uri": "https://localhost:8080/"
        },
        "id": "YTSVn0ImALWN",
        "outputId": "e16c4870-a786-4d3a-e027-2f92dd54b354"
      },
      "source": [
        "print(word_vecs)"
      ],
      "execution_count": null,
      "outputs": [
        {
          "output_type": "stream",
          "text": [
            "/root/gensim-data/word2vec-google-news-300/word2vec-google-news-300.gz\n"
          ],
          "name": "stdout"
        }
      ]
    },
    {
      "cell_type": "code",
      "metadata": {
        "id": "R_7fReprCFSd"
      },
      "source": [
        "word_vectors = KeyedVectors.load_word2vec_format(word_vecs, binary=True, limit=200000)"
      ],
      "execution_count": null,
      "outputs": []
    },
    {
      "cell_type": "code",
      "metadata": {
        "id": "p0WoHOHRCbtK"
      },
      "source": [
        "def tokenize_and_vectorize(dataset):\n",
        "  tokenizer = TreebankWordTokenizer()\n",
        "  vectorized_data = []\n",
        "  for sample in dataset:\n",
        "    tokens = tokenizer.tokenize(sample[1])\n",
        "    sample_vecs = []\n",
        "    for token in tokens:\n",
        "      try:\n",
        "        sample_vecs.append(word_vectors[token])\n",
        "      except:\n",
        "        pass\n",
        "\n",
        "    vectorized_data.append(sample_vecs)\n",
        "\n",
        "  return vectorized_data"
      ],
      "execution_count": null,
      "outputs": []
    },
    {
      "cell_type": "code",
      "metadata": {
        "id": "-0YcI1sFE3ef"
      },
      "source": [
        "def collect_expected(dataset):\n",
        "  \"\"\"Peel off the target values from the dataset\"\"\"\n",
        "  expected = []\n",
        "  for sample in dataset:\n",
        "    expected.append(sample[0])\n",
        "  return expected"
      ],
      "execution_count": null,
      "outputs": []
    },
    {
      "cell_type": "code",
      "metadata": {
        "id": "IOQzEPwPFm4j"
      },
      "source": [
        "vectorized_data = tokenize_and_vectorize(dataset)\n",
        "expected = collect_expected(dataset)"
      ],
      "execution_count": null,
      "outputs": []
    },
    {
      "cell_type": "code",
      "metadata": {
        "id": "-vt0IbyLHPWT"
      },
      "source": [
        "split_point = int(len(vectorized_data) * .8)"
      ],
      "execution_count": null,
      "outputs": []
    },
    {
      "cell_type": "code",
      "metadata": {
        "id": "aUuDN66iIDWC"
      },
      "source": [
        "X_train = vectorized_data[:split_point]\n",
        "y_train = expected[:split_point]\n",
        "X_test = vectorized_data[split_point:]\n",
        "y_test = expected[split_point:]"
      ],
      "execution_count": null,
      "outputs": []
    },
    {
      "cell_type": "code",
      "metadata": {
        "id": "-4f0I3HjIcnM"
      },
      "source": [
        "maxlen = 400\n",
        "batch_size = 32\n",
        "embedding_dims = 300\n",
        "epochs = 2"
      ],
      "execution_count": null,
      "outputs": []
    },
    {
      "cell_type": "code",
      "metadata": {
        "id": "hYhvd32vJvW_"
      },
      "source": [
        "def pad_trunc(data, maxlen):\n",
        "\n",
        "  \"\"\"\n",
        "      For a given dataset pad with zero vectors or truncate to maxlen\n",
        "  \"\"\"\n",
        "\n",
        "  new_data = []\n",
        "\n",
        "  # Create a vector of 0s the length of our word vectors\n",
        "\n",
        "  zero_vector = []\n",
        "  for _ in range(len(data[0][0])):\n",
        "    zero_vector.append(0.0)\n",
        "\n",
        "  for sample in data:\n",
        "    if len(sample) > maxlen:\n",
        "      temp = sample[:maxlen]\n",
        "    elif len(sample) < maxlen:\n",
        "      temp = sample\n",
        "      # Append the appropriate number 0 vectors to the list\n",
        "      additional_elems = maxlen - len(sample)\n",
        "      for _ in range(additional_elems):\n",
        "        temp.append(zero_vector)\n",
        "\n",
        "    else:\n",
        "      temp = sample\n",
        "\n",
        "    new_data.append(temp)\n",
        "\n",
        "  return new_data"
      ],
      "execution_count": null,
      "outputs": []
    },
    {
      "cell_type": "code",
      "metadata": {
        "colab": {
          "base_uri": "https://localhost:8080/"
        },
        "id": "hXIMA1DAMP2X",
        "outputId": "123dc7f5-b517-4763-c17b-59e35d966f0a"
      },
      "source": [
        "len(X_train[0][0])"
      ],
      "execution_count": null,
      "outputs": [
        {
          "output_type": "execute_result",
          "data": {
            "text/plain": [
              "300"
            ]
          },
          "metadata": {
            "tags": []
          },
          "execution_count": 19
        }
      ]
    },
    {
      "cell_type": "code",
      "metadata": {
        "id": "H3RnbfitJP3M"
      },
      "source": [
        "import numpy as np\n",
        "\n",
        "X_train = pad_trunc(X_train, maxlen)\n",
        "X_test = pad_trunc(X_test, maxlen)"
      ],
      "execution_count": null,
      "outputs": []
    },
    {
      "cell_type": "code",
      "metadata": {
        "colab": {
          "base_uri": "https://localhost:8080/"
        },
        "id": "FWIKSQJnNOTj",
        "outputId": "01eacba4-108b-4dea-a892-d206124b2ca3"
      },
      "source": [
        "len(X_train[0])"
      ],
      "execution_count": null,
      "outputs": [
        {
          "output_type": "execute_result",
          "data": {
            "text/plain": [
              "400"
            ]
          },
          "metadata": {
            "tags": []
          },
          "execution_count": 21
        }
      ]
    },
    {
      "cell_type": "code",
      "metadata": {
        "colab": {
          "base_uri": "https://localhost:8080/"
        },
        "id": "x_8X25SnOCq2",
        "outputId": "726b1067-c966-479c-934e-6cd0184681a4"
      },
      "source": [
        "len(X_test[0])"
      ],
      "execution_count": null,
      "outputs": [
        {
          "output_type": "execute_result",
          "data": {
            "text/plain": [
              "400"
            ]
          },
          "metadata": {
            "tags": []
          },
          "execution_count": 22
        }
      ]
    },
    {
      "cell_type": "code",
      "metadata": {
        "id": "fiRqXga0MyUc"
      },
      "source": [
        "X_train = np.reshape(X_train, (len(X_train), maxlen, embedding_dims))\n",
        "y_train = np.array(y_train)"
      ],
      "execution_count": null,
      "outputs": []
    },
    {
      "cell_type": "code",
      "metadata": {
        "id": "rXbikTcZND70"
      },
      "source": [
        "X_test = np.reshape(X_test, (len(X_test), maxlen, embedding_dims))\n",
        "y_test = np.array(y_test)"
      ],
      "execution_count": null,
      "outputs": []
    },
    {
      "cell_type": "code",
      "metadata": {
        "id": "AO8aN5D8N5mE"
      },
      "source": [
        "from keras.models import Sequential"
      ],
      "execution_count": null,
      "outputs": []
    },
    {
      "cell_type": "code",
      "metadata": {
        "id": "MxXcC__GPWrB"
      },
      "source": [
        "from keras.layers import Dense, Dropout, Flatten, SimpleRNN"
      ],
      "execution_count": null,
      "outputs": []
    },
    {
      "cell_type": "code",
      "metadata": {
        "id": "G5gUCrhtPdfR"
      },
      "source": [
        "num_neurons = 50"
      ],
      "execution_count": null,
      "outputs": []
    },
    {
      "cell_type": "code",
      "metadata": {
        "id": "jG7vB-aUPglw"
      },
      "source": [
        "model = Sequential()"
      ],
      "execution_count": null,
      "outputs": []
    },
    {
      "cell_type": "code",
      "metadata": {
        "id": "-Eh8d7B4PiwB"
      },
      "source": [
        "model.add(SimpleRNN(num_neurons, return_sequences=True, input_shape=(maxlen, embedding_dims)))"
      ],
      "execution_count": null,
      "outputs": []
    },
    {
      "cell_type": "code",
      "metadata": {
        "id": "tCGvVe32yxaM"
      },
      "source": [
        "model.add(Dropout(.2))"
      ],
      "execution_count": null,
      "outputs": []
    },
    {
      "cell_type": "code",
      "metadata": {
        "id": "bJNRTRQBzdpz"
      },
      "source": [
        "model.add(Flatten())\r\n",
        "model.add(Dense(1, activation='sigmoid'))"
      ],
      "execution_count": null,
      "outputs": []
    },
    {
      "cell_type": "code",
      "metadata": {
        "colab": {
          "base_uri": "https://localhost:8080/"
        },
        "id": "FxrWHGKNzn4j",
        "outputId": "b8abd450-d29e-4066-dc99-b9b11c7bd82b"
      },
      "source": [
        "model.compile('rmsprop', 'binary_crossentropy', metrics=['accuracy'])\r\n",
        "model.summary()"
      ],
      "execution_count": null,
      "outputs": [
        {
          "output_type": "stream",
          "text": [
            "Model: \"sequential\"\n",
            "_________________________________________________________________\n",
            "Layer (type)                 Output Shape              Param #   \n",
            "=================================================================\n",
            "simple_rnn (SimpleRNN)       (None, 400, 50)           17550     \n",
            "_________________________________________________________________\n",
            "dropout (Dropout)            (None, 400, 50)           0         \n",
            "_________________________________________________________________\n",
            "flatten (Flatten)            (None, 20000)             0         \n",
            "_________________________________________________________________\n",
            "dense (Dense)                (None, 1)                 20001     \n",
            "=================================================================\n",
            "Total params: 37,551\n",
            "Trainable params: 37,551\n",
            "Non-trainable params: 0\n",
            "_________________________________________________________________\n"
          ],
          "name": "stdout"
        }
      ]
    },
    {
      "cell_type": "code",
      "metadata": {
        "colab": {
          "base_uri": "https://localhost:8080/"
        },
        "id": "wn8W5tGRz-Dj",
        "outputId": "e6f77f95-d0da-49c5-bfa7-6e905d615695"
      },
      "source": [
        "model.fit(X_train, y_train, batch_size=batch_size, epochs=epochs, validation_data=(X_test, y_test))"
      ],
      "execution_count": null,
      "outputs": [
        {
          "output_type": "stream",
          "text": [
            "Epoch 1/2\n",
            "26/26 [==============================] - 3s 121ms/step - loss: 0.7583 - accuracy: 0.5268 - val_loss: 0.7883 - val_accuracy: 0.4876\n",
            "Epoch 2/2\n",
            "26/26 [==============================] - 3s 107ms/step - loss: 0.4778 - accuracy: 0.7865 - val_loss: 0.8594 - val_accuracy: 0.5124\n"
          ],
          "name": "stdout"
        },
        {
          "output_type": "execute_result",
          "data": {
            "text/plain": [
              "<tensorflow.python.keras.callbacks.History at 0x7f063709bcc0>"
            ]
          },
          "metadata": {
            "tags": []
          },
          "execution_count": 34
        }
      ]
    },
    {
      "cell_type": "code",
      "metadata": {
        "id": "wMmMV1Or0V6R"
      },
      "source": [
        "model_structure = model.to_json()\r\n",
        "with open(\"simplernn_modell.json\", \"w\") as json_file:\r\n",
        "  json_file.write(model_structure)"
      ],
      "execution_count": null,
      "outputs": []
    },
    {
      "cell_type": "code",
      "metadata": {
        "id": "S3agLotK04yg"
      },
      "source": [
        "model.save_weights(\"simplernn_weights1.h5\")"
      ],
      "execution_count": null,
      "outputs": []
    },
    {
      "cell_type": "code",
      "metadata": {
        "colab": {
          "base_uri": "https://localhost:8080/"
        },
        "id": "h1AlSoeT1BX_",
        "outputId": "bebfb1af-1381-42de-b041-1d5dca358e4f"
      },
      "source": [
        "num_neurons = 100\r\n",
        "model = Sequential()\r\n",
        "model.add(SimpleRNN(num_neurons, return_sequences=True, input_shape=(maxlen, embedding_dims)))\r\n",
        "model.add(Dropout(.2))\r\n",
        "model.add(Flatten())\r\n",
        "model.add(Dense(1, activation='sigmoid'))\r\n",
        "model.compile('rmsprop', 'binary_crossentropy', metrics=['accuracy'])\r\n",
        "model.summary()"
      ],
      "execution_count": null,
      "outputs": [
        {
          "output_type": "stream",
          "text": [
            "Model: \"sequential_1\"\n",
            "_________________________________________________________________\n",
            "Layer (type)                 Output Shape              Param #   \n",
            "=================================================================\n",
            "simple_rnn_1 (SimpleRNN)     (None, 400, 100)          40100     \n",
            "_________________________________________________________________\n",
            "dropout_1 (Dropout)          (None, 400, 100)          0         \n",
            "_________________________________________________________________\n",
            "flatten_1 (Flatten)          (None, 40000)             0         \n",
            "_________________________________________________________________\n",
            "dense_1 (Dense)              (None, 1)                 40001     \n",
            "=================================================================\n",
            "Total params: 80,101\n",
            "Trainable params: 80,101\n",
            "Non-trainable params: 0\n",
            "_________________________________________________________________\n"
          ],
          "name": "stdout"
        }
      ]
    },
    {
      "cell_type": "code",
      "metadata": {
        "colab": {
          "base_uri": "https://localhost:8080/"
        },
        "id": "4lRvtvqc15lh",
        "outputId": "ad32ac9a-a410-4db4-9db1-6d8779104798"
      },
      "source": [
        "model.fit(X_train, y_train, batch_size=batch_size, epochs=epochs, validation_data=(X_test, y_test))"
      ],
      "execution_count": null,
      "outputs": [
        {
          "output_type": "stream",
          "text": [
            "Epoch 1/2\n",
            "26/26 [==============================] - 4s 165ms/step - loss: 1.7310 - accuracy: 0.5169 - val_loss: 1.3965 - val_accuracy: 0.4527\n",
            "Epoch 2/2\n",
            "26/26 [==============================] - 4s 153ms/step - loss: 1.5416 - accuracy: 0.5755 - val_loss: 1.5101 - val_accuracy: 0.4776\n"
          ],
          "name": "stdout"
        },
        {
          "output_type": "execute_result",
          "data": {
            "text/plain": [
              "<tensorflow.python.keras.callbacks.History at 0x7f0633769550>"
            ]
          },
          "metadata": {
            "tags": []
          },
          "execution_count": 38
        }
      ]
    },
    {
      "cell_type": "code",
      "metadata": {
        "id": "vhlqbdbs2Lv_"
      },
      "source": [
        "model_structure = model.to_json()\r\n",
        "with open(\"simplernn_model2.json\", \"w\") as json_file:\r\n",
        "  json_file.write(model_structure)"
      ],
      "execution_count": null,
      "outputs": []
    },
    {
      "cell_type": "code",
      "metadata": {
        "id": "vzPhE5ea21NM"
      },
      "source": [
        "model.save_weights(\"simplernn_weights2.h5\")"
      ],
      "execution_count": null,
      "outputs": []
    },
    {
      "cell_type": "code",
      "metadata": {
        "colab": {
          "base_uri": "https://localhost:8080/"
        },
        "id": "Go1IDm_t28mM",
        "outputId": "6cc1f213-e20a-4c98-a8ff-16573652921a"
      },
      "source": [
        "word_vectors['dog']"
      ],
      "execution_count": null,
      "outputs": [
        {
          "output_type": "execute_result",
          "data": {
            "text/plain": [
              "array([ 5.12695312e-02, -2.23388672e-02, -1.72851562e-01,  1.61132812e-01,\n",
              "       -8.44726562e-02,  5.73730469e-02,  5.85937500e-02, -8.25195312e-02,\n",
              "       -1.53808594e-02, -6.34765625e-02,  1.79687500e-01, -4.23828125e-01,\n",
              "       -2.25830078e-02, -1.66015625e-01, -2.51464844e-02,  1.07421875e-01,\n",
              "       -1.99218750e-01,  1.59179688e-01, -1.87500000e-01, -1.20117188e-01,\n",
              "        1.55273438e-01, -9.91210938e-02,  1.42578125e-01, -1.64062500e-01,\n",
              "       -8.93554688e-02,  2.00195312e-01, -1.49414062e-01,  3.20312500e-01,\n",
              "        3.28125000e-01,  2.44140625e-02, -9.71679688e-02, -8.20312500e-02,\n",
              "       -3.63769531e-02, -8.59375000e-02, -9.86328125e-02,  7.78198242e-03,\n",
              "       -1.34277344e-02,  5.27343750e-02,  1.48437500e-01,  3.33984375e-01,\n",
              "        1.66015625e-02, -2.12890625e-01, -1.50756836e-02,  5.24902344e-02,\n",
              "       -1.07421875e-01, -8.88671875e-02,  2.49023438e-01, -7.03125000e-02,\n",
              "       -1.59912109e-02,  7.56835938e-02, -7.03125000e-02,  1.19140625e-01,\n",
              "        2.29492188e-01,  1.41601562e-02,  1.15234375e-01,  7.50732422e-03,\n",
              "        2.75390625e-01, -2.44140625e-01,  2.96875000e-01,  3.49121094e-02,\n",
              "        2.42187500e-01,  1.35742188e-01,  1.42578125e-01,  1.75781250e-02,\n",
              "        2.92968750e-02, -1.21582031e-01,  2.28271484e-02, -4.76074219e-02,\n",
              "       -1.55273438e-01,  3.14331055e-03,  3.45703125e-01,  1.22558594e-01,\n",
              "       -1.95312500e-01,  8.10546875e-02, -6.83593750e-02, -1.47094727e-02,\n",
              "        2.14843750e-01, -1.21093750e-01,  1.57226562e-01, -2.07031250e-01,\n",
              "        1.36718750e-01, -1.29882812e-01,  5.29785156e-02, -2.71484375e-01,\n",
              "       -2.98828125e-01, -1.84570312e-01, -2.29492188e-01,  1.19140625e-01,\n",
              "        1.53198242e-02, -2.61718750e-01, -1.23046875e-01, -1.86767578e-02,\n",
              "       -6.49414062e-02, -8.15429688e-02,  7.86132812e-02, -3.53515625e-01,\n",
              "        5.24902344e-02, -2.45361328e-02, -5.43212891e-03, -2.08984375e-01,\n",
              "       -2.10937500e-01, -1.79687500e-01,  2.42187500e-01,  2.57812500e-01,\n",
              "        1.37695312e-01, -2.10937500e-01, -2.17285156e-02, -1.38671875e-01,\n",
              "        1.84326172e-02, -1.23901367e-02, -1.59179688e-01,  1.61132812e-01,\n",
              "        2.08007812e-01,  1.03027344e-01,  9.81445312e-02, -6.83593750e-02,\n",
              "       -8.72802734e-03, -2.89062500e-01, -2.14843750e-01, -1.14257812e-01,\n",
              "       -2.21679688e-01,  4.12597656e-02, -3.12500000e-01, -5.59082031e-02,\n",
              "       -9.76562500e-02,  5.81054688e-02, -4.05273438e-02, -1.73828125e-01,\n",
              "        1.64062500e-01, -2.53906250e-01, -1.54296875e-01, -2.31933594e-02,\n",
              "       -2.38281250e-01,  2.07519531e-02, -2.73437500e-01,  3.90625000e-03,\n",
              "        1.13769531e-01, -1.73828125e-01,  2.57812500e-01,  2.35351562e-01,\n",
              "        5.22460938e-02,  6.83593750e-02, -1.75781250e-01,  1.60156250e-01,\n",
              "       -5.98907471e-04,  5.98144531e-02, -2.11914062e-01, -5.54199219e-02,\n",
              "       -7.51953125e-02, -3.06640625e-01,  4.27734375e-01,  5.32226562e-02,\n",
              "       -2.08984375e-01, -5.71289062e-02, -2.09960938e-01,  3.29589844e-02,\n",
              "        1.05468750e-01, -1.50390625e-01, -9.37500000e-02,  1.16699219e-01,\n",
              "        6.44531250e-02,  2.80761719e-02,  2.41210938e-01, -1.25976562e-01,\n",
              "       -1.00585938e-01, -1.22680664e-02, -3.26156616e-04,  1.58691406e-02,\n",
              "        1.27929688e-01, -3.32031250e-02,  4.07714844e-02, -1.31835938e-01,\n",
              "        9.81445312e-02,  1.74804688e-01, -2.36328125e-01,  5.17578125e-02,\n",
              "        1.83593750e-01,  2.42919922e-02, -4.31640625e-01,  2.46093750e-01,\n",
              "       -3.03955078e-02, -2.47802734e-02, -1.17187500e-01,  1.61132812e-01,\n",
              "       -5.71289062e-02,  1.16577148e-02,  2.81250000e-01,  4.27734375e-01,\n",
              "        4.56542969e-02,  1.01074219e-01, -3.95507812e-02,  1.77001953e-02,\n",
              "       -8.98437500e-02,  1.35742188e-01,  2.08007812e-01,  1.88476562e-01,\n",
              "       -1.52343750e-01, -2.37304688e-01, -1.90429688e-01,  7.12890625e-02,\n",
              "       -2.46093750e-01, -2.61718750e-01, -2.34375000e-01, -1.45507812e-01,\n",
              "       -1.17187500e-02, -1.50390625e-01, -1.13281250e-01,  1.82617188e-01,\n",
              "        2.63671875e-01, -1.37695312e-01, -4.58984375e-01, -4.68750000e-02,\n",
              "       -1.26953125e-01, -4.22363281e-02, -1.66992188e-01,  1.26953125e-01,\n",
              "        2.59765625e-01, -2.44140625e-01, -2.19726562e-01, -8.69140625e-02,\n",
              "        1.59179688e-01, -3.78417969e-02,  8.97216797e-03, -2.77343750e-01,\n",
              "       -1.04980469e-01, -1.75781250e-01,  2.28515625e-01, -2.70996094e-02,\n",
              "        2.85156250e-01, -2.73437500e-01,  1.61132812e-02,  5.90820312e-02,\n",
              "       -2.39257812e-01,  1.77734375e-01, -1.34765625e-01,  1.38671875e-01,\n",
              "        3.53515625e-01,  1.22070312e-01,  1.43554688e-01,  9.22851562e-02,\n",
              "        2.29492188e-01, -3.00781250e-01, -4.88281250e-02, -1.79687500e-01,\n",
              "        2.96875000e-01,  1.75781250e-01,  4.80957031e-02, -3.38745117e-03,\n",
              "        7.91015625e-02, -2.38281250e-01, -2.31445312e-01,  1.66015625e-01,\n",
              "       -2.13867188e-01, -7.03125000e-02, -7.56835938e-02,  1.96289062e-01,\n",
              "       -1.29882812e-01, -1.05957031e-01, -3.53515625e-01, -1.16699219e-01,\n",
              "       -5.10253906e-02,  3.39355469e-02, -1.43554688e-01, -3.90625000e-03,\n",
              "        1.73828125e-01, -9.96093750e-02, -1.66015625e-01, -8.54492188e-02,\n",
              "       -3.82812500e-01,  5.90820312e-02, -6.22558594e-02,  8.83789062e-02,\n",
              "       -8.88671875e-02,  3.28125000e-01,  6.83593750e-02, -1.91406250e-01,\n",
              "       -8.35418701e-04,  1.04003906e-01,  1.52343750e-01, -1.53350830e-03,\n",
              "        4.16015625e-01, -3.32031250e-02,  1.49414062e-01,  2.42187500e-01,\n",
              "       -1.76757812e-01, -4.93164062e-02, -1.24511719e-01,  1.25976562e-01,\n",
              "        1.74804688e-01,  2.81250000e-01, -1.80664062e-01,  1.03027344e-01,\n",
              "       -2.75390625e-01,  2.61718750e-01,  2.46093750e-01, -4.71191406e-02,\n",
              "        6.25000000e-02,  4.16015625e-01, -3.55468750e-01,  2.22656250e-01],\n",
              "      dtype=float32)"
            ]
          },
          "metadata": {
            "tags": []
          },
          "execution_count": 41
        }
      ]
    },
    {
      "cell_type": "code",
      "metadata": {
        "colab": {
          "base_uri": "https://localhost:8080/"
        },
        "id": "o-oXHjzA3Rw7",
        "outputId": "4a6f1bdf-5076-479f-9fdb-bcf91bc009a4"
      },
      "source": [
        "num_neurons = 25\r\n",
        "epochs=8\r\n",
        "batch_size=8\r\n",
        "model = Sequential()\r\n",
        "model.add(SimpleRNN(num_neurons, return_sequences=True, input_shape=(maxlen, embedding_dims)))\r\n",
        "model.add(Dropout(.4))\r\n",
        "model.add(Flatten())\r\n",
        "model.add(Dense(1, activation='sigmoid'))\r\n",
        "model.compile('rmsprop', 'binary_crossentropy', metrics=['accuracy'])\r\n",
        "model.summary()"
      ],
      "execution_count": null,
      "outputs": [
        {
          "output_type": "stream",
          "text": [
            "Model: \"sequential_11\"\n",
            "_________________________________________________________________\n",
            "Layer (type)                 Output Shape              Param #   \n",
            "=================================================================\n",
            "simple_rnn_11 (SimpleRNN)    (None, 400, 25)           8150      \n",
            "_________________________________________________________________\n",
            "dropout_11 (Dropout)         (None, 400, 25)           0         \n",
            "_________________________________________________________________\n",
            "flatten_11 (Flatten)         (None, 10000)             0         \n",
            "_________________________________________________________________\n",
            "dense_11 (Dense)             (None, 1)                 10001     \n",
            "=================================================================\n",
            "Total params: 18,151\n",
            "Trainable params: 18,151\n",
            "Non-trainable params: 0\n",
            "_________________________________________________________________\n"
          ],
          "name": "stdout"
        }
      ]
    },
    {
      "cell_type": "code",
      "metadata": {
        "colab": {
          "base_uri": "https://localhost:8080/"
        },
        "id": "3V8TAb1P34Pb",
        "outputId": "55722a5c-14d1-42df-cff0-d2cd1bcf953d"
      },
      "source": [
        "model.fit(X_train, y_train, batch_size=batch_size, epochs=epochs, validation_data=(X_test, y_test))"
      ],
      "execution_count": null,
      "outputs": [
        {
          "output_type": "stream",
          "text": [
            "Epoch 1/8\n",
            "101/101 [==============================] - 7s 66ms/step - loss: 0.7376 - accuracy: 0.5356 - val_loss: 1.2098 - val_accuracy: 0.5323\n",
            "Epoch 2/8\n",
            "101/101 [==============================] - 7s 68ms/step - loss: 0.5162 - accuracy: 0.7491 - val_loss: 0.7457 - val_accuracy: 0.5920\n",
            "Epoch 3/8\n",
            "101/101 [==============================] - 7s 68ms/step - loss: 0.3535 - accuracy: 0.8652 - val_loss: 0.6270 - val_accuracy: 0.6617\n",
            "Epoch 4/8\n",
            "101/101 [==============================] - 7s 68ms/step - loss: 0.2264 - accuracy: 0.9263 - val_loss: 0.9107 - val_accuracy: 0.6468\n",
            "Epoch 5/8\n",
            "101/101 [==============================] - 7s 68ms/step - loss: 0.1329 - accuracy: 0.9625 - val_loss: 1.0495 - val_accuracy: 0.6119\n",
            "Epoch 6/8\n",
            "101/101 [==============================] - 7s 68ms/step - loss: 0.0970 - accuracy: 0.9788 - val_loss: 0.6576 - val_accuracy: 0.7413\n",
            "Epoch 7/8\n",
            "101/101 [==============================] - 7s 68ms/step - loss: 0.0634 - accuracy: 0.9888 - val_loss: 0.7430 - val_accuracy: 0.7562\n",
            "Epoch 8/8\n",
            "101/101 [==============================] - 7s 67ms/step - loss: 0.0450 - accuracy: 0.9900 - val_loss: 0.7513 - val_accuracy: 0.7413\n"
          ],
          "name": "stdout"
        },
        {
          "output_type": "execute_result",
          "data": {
            "text/plain": [
              "<tensorflow.python.keras.callbacks.History at 0x7f0629c19ef0>"
            ]
          },
          "metadata": {
            "tags": []
          },
          "execution_count": 63
        }
      ]
    },
    {
      "cell_type": "code",
      "metadata": {
        "id": "u5XKbNSK3-O6"
      },
      "source": [
        "model_structure = model.to_json()\r\n",
        "with open(\"simplernn_model3.json\", \"w\") as json_file:\r\n",
        "  json_file.write(model_structure)"
      ],
      "execution_count": null,
      "outputs": []
    },
    {
      "cell_type": "code",
      "metadata": {
        "id": "LhjTt-Je5agP"
      },
      "source": [
        "model.save_weights(\"simplernn_weights3.h5\")"
      ],
      "execution_count": null,
      "outputs": []
    },
    {
      "cell_type": "code",
      "metadata": {
        "id": "XPrzWLmM5e2o"
      },
      "source": [
        "sample_1 = \"I'm hate that the dismal weather that had me down for so long, when will it break! Ugh, when does happiness return?  The sun is blinding and the puffy clouds are too thin.  I can't wait for the weekend.\""
      ],
      "execution_count": null,
      "outputs": []
    },
    {
      "cell_type": "code",
      "metadata": {
        "id": "ImmLTU9s7nx0"
      },
      "source": [
        "from keras.models import model_from_json\r\n",
        "with open(\"simplernn_model3.json\", \"r\") as json_file:\r\n",
        "  json_string = json_file.read()\r\n",
        "\r\n",
        "model = model_from_json(json_string)\r\n",
        "model.load_weights('simplernn_weights3.h5')"
      ],
      "execution_count": null,
      "outputs": []
    },
    {
      "cell_type": "code",
      "metadata": {
        "id": "YIodKi9j8jnk"
      },
      "source": [
        "vec_list = tokenize_and_vectorize([(1, sample_1)])\r\n",
        "test_vec_list = pad_trunc(vec_list, maxlen)\r\n",
        "test_vec = np.reshape(test_vec_list, (len(test_vec_list), maxlen, embedding_dims))"
      ],
      "execution_count": null,
      "outputs": []
    },
    {
      "cell_type": "code",
      "metadata": {
        "colab": {
          "base_uri": "https://localhost:8080/"
        },
        "id": "yn6wwBwc9Cch",
        "outputId": "6d26763d-9207-4fb6-c4f2-a5b722504a65"
      },
      "source": [
        "test_vec"
      ],
      "execution_count": null,
      "outputs": [
        {
          "output_type": "execute_result",
          "data": {
            "text/plain": [
              "array([[[ 0.07910156, -0.0050354 ,  0.11181641, ..., -0.0067749 ,\n",
              "          0.04272461, -0.10351562],\n",
              "        [ 0.19335938, -0.07128906,  0.10839844, ...,  0.0480957 ,\n",
              "          0.16503906,  0.04418945],\n",
              "        [ 0.1328125 ,  0.08007812,  0.28710938, ..., -0.02404785,\n",
              "         -0.02697754,  0.125     ],\n",
              "        ...,\n",
              "        [ 0.        ,  0.        ,  0.        , ...,  0.        ,\n",
              "          0.        ,  0.        ],\n",
              "        [ 0.        ,  0.        ,  0.        , ...,  0.        ,\n",
              "          0.        ,  0.        ],\n",
              "        [ 0.        ,  0.        ,  0.        , ...,  0.        ,\n",
              "          0.        ,  0.        ]]])"
            ]
          },
          "metadata": {
            "tags": []
          },
          "execution_count": 70
        }
      ]
    },
    {
      "cell_type": "code",
      "metadata": {
        "colab": {
          "base_uri": "https://localhost:8080/"
        },
        "id": "vMmk5FVX9G0g",
        "outputId": "e2b0a9b3-09c7-4ea1-82c2-d5453780281c"
      },
      "source": [
        "model.predict_classes(test_vec)"
      ],
      "execution_count": null,
      "outputs": [
        {
          "output_type": "stream",
          "text": [
            "WARNING:tensorflow:From <ipython-input-71-77f70a9dfb25>:1: Sequential.predict_classes (from tensorflow.python.keras.engine.sequential) is deprecated and will be removed after 2021-01-01.\n",
            "Instructions for updating:\n",
            "Please use instead:* `np.argmax(model.predict(x), axis=-1)`,   if your model does multi-class classification   (e.g. if it uses a `softmax` last-layer activation).* `(model.predict(x) > 0.5).astype(\"int32\")`,   if your model does binary classification   (e.g. if it uses a `sigmoid` last-layer activation).\n"
          ],
          "name": "stdout"
        },
        {
          "output_type": "execute_result",
          "data": {
            "text/plain": [
              "array([[0]], dtype=int32)"
            ]
          },
          "metadata": {
            "tags": []
          },
          "execution_count": 71
        }
      ]
    },
    {
      "cell_type": "code",
      "metadata": {
        "id": "7fzzeLHb9Okw"
      },
      "source": [
        ""
      ],
      "execution_count": null,
      "outputs": []
    }
  ]
}