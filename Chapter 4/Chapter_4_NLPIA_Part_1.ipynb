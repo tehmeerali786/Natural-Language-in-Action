{
  "nbformat": 4,
  "nbformat_minor": 0,
  "metadata": {
    "colab": {
      "name": "Chapter 4 - NLPIA -- Part 1.ipynb",
      "provenance": [],
      "collapsed_sections": []
    },
    "kernelspec": {
      "display_name": "Python 3",
      "name": "python3"
    }
  },
  "cells": [
    {
      "cell_type": "markdown",
      "metadata": {
        "id": "CXTowGjf54yD"
      },
      "source": [
        "## **Thought Experiment without Computer**"
      ]
    },
    {
      "cell_type": "code",
      "metadata": {
        "id": "FptscYWO6k1y"
      },
      "source": [
        "import numpy as np"
      ],
      "execution_count": null,
      "outputs": []
    },
    {
      "cell_type": "code",
      "metadata": {
        "id": "CzhO7ZGV5oXR"
      },
      "source": [
        "topic = {}"
      ],
      "execution_count": null,
      "outputs": []
    },
    {
      "cell_type": "code",
      "metadata": {
        "id": "yGYDuttH53vM"
      },
      "source": [
        "tfidf = dict(list(zip('cat dog apple lion NYC love'.split(), np.random.rand(6))))"
      ],
      "execution_count": null,
      "outputs": []
    },
    {
      "cell_type": "code",
      "metadata": {
        "colab": {
          "base_uri": "https://localhost:8080/"
        },
        "id": "3t2egQF86ok7",
        "outputId": "aa17b265-38bc-4b21-8c8c-c1fa6c320c42"
      },
      "source": [
        "tfidf"
      ],
      "execution_count": null,
      "outputs": [
        {
          "output_type": "execute_result",
          "data": {
            "text/plain": [
              "{'NYC': 0.33204203515139263,\n",
              " 'apple': 0.11808424360078185,\n",
              " 'cat': 0.4841629810528596,\n",
              " 'dog': 0.9648639291980327,\n",
              " 'lion': 0.5171759262649238,\n",
              " 'love': 0.8120541939014606}"
            ]
          },
          "metadata": {
            "tags": []
          },
          "execution_count": 4
        }
      ]
    },
    {
      "cell_type": "code",
      "metadata": {
        "id": "opxlkymn66Ny"
      },
      "source": [
        "topic['petness'] = (.3 * tfidf['cat'] +\\\n",
        "                    .3 * tfidf['dog'] +\\\n",
        "                    0 * tfidf['apple']+\\\n",
        "                    0 * tfidf['lion']-\\\n",
        "                    .2 * tfidf['NYC']+\\\n",
        "                    .2 * tfidf['love'])"
      ],
      "execution_count": null,
      "outputs": []
    },
    {
      "cell_type": "code",
      "metadata": {
        "id": "agTRRMjN8Cjp"
      },
      "source": [
        "topic['animalness'] = (.1 * tfidf['cat']+\\\n",
        "                       .1 * tfidf['dog']-\\\n",
        "                       .1 * tfidf['apple']+\\\n",
        "                       .5 * tfidf['lion']+\\\n",
        "                       .1 * tfidf['NYC']-\\\n",
        "                       .1 * tfidf['love'])"
      ],
      "execution_count": null,
      "outputs": []
    },
    {
      "cell_type": "code",
      "metadata": {
        "id": "ljc0eoOm9NrH"
      },
      "source": [
        "topic['cityness'] = (.0 * tfidf['cat']-\\\n",
        "                       .1 * tfidf['dog']+\\\n",
        "                       .2 * tfidf['apple']-\\\n",
        "                       .1 * tfidf['lion']+\\\n",
        "                       .5 * tfidf['NYC']+\\\n",
        "                       .1 * tfidf['love'])"
      ],
      "execution_count": null,
      "outputs": []
    },
    {
      "cell_type": "code",
      "metadata": {
        "colab": {
          "base_uri": "https://localhost:8080/"
        },
        "id": "fZN25v7I9ulV",
        "outputId": "061648f6-3656-4a08-c177-4f40b51d69ab"
      },
      "source": [
        "topic"
      ],
      "execution_count": null,
      "outputs": [
        {
          "output_type": "execute_result",
          "data": {
            "text/plain": [
              "{'animalness': 0.34368101392246614,\n",
              " 'cityness': 0.1226393001397031,\n",
              " 'petness': 0.5307105048252814}"
            ]
          },
          "metadata": {
            "tags": []
          },
          "execution_count": 8
        }
      ]
    },
    {
      "cell_type": "code",
      "metadata": {
        "id": "66_b8wJO-CKW"
      },
      "source": [
        "word_vector = {}"
      ],
      "execution_count": null,
      "outputs": []
    },
    {
      "cell_type": "code",
      "metadata": {
        "id": "B5XxA93swJRo"
      },
      "source": [
        "word_vector['cat'] = (.3 * topic['petness'] + .1 * topic['animalness'] + 0 * topic['cityness']) "
      ],
      "execution_count": null,
      "outputs": []
    },
    {
      "cell_type": "code",
      "metadata": {
        "id": "Yqcok0v0wrJc"
      },
      "source": [
        "word_vector['dog'] = (.3 * topic['petness'] + .1 * topic['animalness'] - .1 * topic['cityness'] )"
      ],
      "execution_count": null,
      "outputs": []
    },
    {
      "cell_type": "code",
      "metadata": {
        "id": "eM5nM5gHxadJ"
      },
      "source": [
        "word_vector['apple'] = (0 * topic['petness'] - .1 * topic['animalness'] + .2 * topic['cityness'] )"
      ],
      "execution_count": null,
      "outputs": []
    },
    {
      "cell_type": "code",
      "metadata": {
        "id": "hzPQ8gBOxwi3"
      },
      "source": [
        "word_vector['lion'] = (0* topic['petness'] + .5 * topic['animalness'] - .1 * topic['cityness'])"
      ],
      "execution_count": null,
      "outputs": []
    },
    {
      "cell_type": "code",
      "metadata": {
        "id": "4VlZErCSyOxW"
      },
      "source": [
        "word_vector['NYC'] = (- .2 * topic['petness'] + .1 * topic['animalness'] + .5 * topic['cityness'])"
      ],
      "execution_count": null,
      "outputs": []
    },
    {
      "cell_type": "code",
      "metadata": {
        "id": "0uNb-3t1yzi1"
      },
      "source": [
        "word_vector['love'] = (.2 * topic['petness'] - .1 * topic['animalness'] + .1 * topic['cityness'])"
      ],
      "execution_count": null,
      "outputs": []
    },
    {
      "cell_type": "code",
      "metadata": {
        "colab": {
          "base_uri": "https://localhost:8080/"
        },
        "id": "goM6WiMszpZq",
        "outputId": "da8cf09b-0458-4701-8ec1-f07f7fe0dbdc"
      },
      "source": [
        "word_vector"
      ],
      "execution_count": null,
      "outputs": [
        {
          "output_type": "execute_result",
          "data": {
            "text/plain": [
              "{'NYC': -0.010454349502958114,\n",
              " 'apple': -0.009840241364305995,\n",
              " 'cat': 0.19358125283983102,\n",
              " 'dog': 0.18131732282586072,\n",
              " 'lion': 0.15957657694726277,\n",
              " 'love': 0.08403792958677997}"
            ]
          },
          "metadata": {
            "tags": []
          },
          "execution_count": 16
        }
      ]
    },
    {
      "cell_type": "markdown",
      "metadata": {
        "id": "PGN75zTP4kzK"
      },
      "source": [
        "## **Linear Discriminant Analysis (LDA)**"
      ]
    },
    {
      "cell_type": "code",
      "metadata": {
        "id": "kR8ZZ6Gz4hHc"
      },
      "source": [
        "import pandas as pd"
      ],
      "execution_count": null,
      "outputs": []
    },
    {
      "cell_type": "code",
      "metadata": {
        "colab": {
          "base_uri": "https://localhost:8080/"
        },
        "id": "jAmoM3Skz5Oz",
        "outputId": "152a6396-0da5-4604-ac68-dc0dc8eb7e7e"
      },
      "source": [
        "!pip install nlpia"
      ],
      "execution_count": null,
      "outputs": [
        {
          "output_type": "stream",
          "text": [
            "Collecting nlpia\n",
            "\u001b[?25l  Downloading https://files.pythonhosted.org/packages/89/f6/ab35e962dd0b19f1008e88e788b202d45a90d9cd70b9bbf0ac26489ee260/nlpia-0.5.2-py2.py3-none-any.whl (32.0MB)\n",
            "\u001b[K     |████████████████████████████████| 32.0MB 140kB/s \n",
            "\u001b[?25hRequirement already satisfied: regex in /usr/local/lib/python3.6/dist-packages (from nlpia) (2019.12.20)\n",
            "Requirement already satisfied: pandas-datareader in /usr/local/lib/python3.6/dist-packages (from nlpia) (0.9.0)\n",
            "Collecting html2text\n",
            "  Downloading https://files.pythonhosted.org/packages/ae/88/14655f727f66b3e3199f4467bafcc88283e6c31b562686bf606264e09181/html2text-2020.1.16-py3-none-any.whl\n",
            "Requirement already satisfied: tqdm in /usr/local/lib/python3.6/dist-packages (from nlpia) (4.41.1)\n",
            "Requirement already satisfied: seaborn in /usr/local/lib/python3.6/dist-packages (from nlpia) (0.11.0)\n",
            "Requirement already satisfied: html5lib in /usr/local/lib/python3.6/dist-packages (from nlpia) (1.0.1)\n",
            "Requirement already satisfied: plotly in /usr/local/lib/python3.6/dist-packages (from nlpia) (4.4.1)\n",
            "Requirement already satisfied: scikit-learn in /usr/local/lib/python3.6/dist-packages (from nlpia) (0.22.2.post1)\n",
            "Requirement already satisfied: gensim in /usr/local/lib/python3.6/dist-packages (from nlpia) (3.6.0)\n",
            "Collecting python-Levenshtein\n",
            "\u001b[?25l  Downloading https://files.pythonhosted.org/packages/42/a9/d1785c85ebf9b7dfacd08938dd028209c34a0ea3b1bcdb895208bd40a67d/python-Levenshtein-0.12.0.tar.gz (48kB)\n",
            "\u001b[K     |████████████████████████████████| 51kB 6.4MB/s \n",
            "\u001b[?25hRequirement already satisfied: future in /usr/local/lib/python3.6/dist-packages (from nlpia) (0.16.0)\n",
            "Requirement already satisfied: spacy in /usr/local/lib/python3.6/dist-packages (from nlpia) (2.2.4)\n",
            "Collecting pugnlp\n",
            "\u001b[?25l  Downloading https://files.pythonhosted.org/packages/f7/20/a9f0b1f45c074c63da716fc1b301916cc3b64c11d5cbf7cb305eafaf158a/pugnlp-0.2.6-py2.py3-none-any.whl (706kB)\n",
            "\u001b[K     |████████████████████████████████| 716kB 45.0MB/s \n",
            "\u001b[?25hCollecting pypandoc\n",
            "  Downloading https://files.pythonhosted.org/packages/d6/b7/5050dc1769c8a93d3ec7c4bd55be161991c94b8b235f88bf7c764449e708/pypandoc-1.5.tar.gz\n",
            "Requirement already satisfied: tensorflow in /usr/local/lib/python3.6/dist-packages (from nlpia) (2.3.0)\n",
            "Requirement already satisfied: nltk in /usr/local/lib/python3.6/dist-packages (from nlpia) (3.2.5)\n",
            "Requirement already satisfied: lxml in /usr/local/lib/python3.6/dist-packages (from nlpia) (4.2.6)\n",
            "Requirement already satisfied: keras in /usr/local/lib/python3.6/dist-packages (from nlpia) (2.4.3)\n",
            "Requirement already satisfied: h5py in /usr/local/lib/python3.6/dist-packages (from nlpia) (2.10.0)\n",
            "Requirement already satisfied: matplotlib in /usr/local/lib/python3.6/dist-packages (from nlpia) (3.2.2)\n",
            "Requirement already satisfied: jupyter in /usr/local/lib/python3.6/dist-packages (from nlpia) (1.0.0)\n",
            "Requirement already satisfied: pandas in /usr/local/lib/python3.6/dist-packages (from nlpia) (1.1.4)\n",
            "Requirement already satisfied: requests>=2.19.0 in /usr/local/lib/python3.6/dist-packages (from pandas-datareader->nlpia) (2.23.0)\n",
            "Requirement already satisfied: numpy>=1.15 in /usr/local/lib/python3.6/dist-packages (from seaborn->nlpia) (1.18.5)\n",
            "Requirement already satisfied: scipy>=1.0 in /usr/local/lib/python3.6/dist-packages (from seaborn->nlpia) (1.4.1)\n",
            "Requirement already satisfied: six>=1.9 in /usr/local/lib/python3.6/dist-packages (from html5lib->nlpia) (1.15.0)\n",
            "Requirement already satisfied: webencodings in /usr/local/lib/python3.6/dist-packages (from html5lib->nlpia) (0.5.1)\n",
            "Requirement already satisfied: retrying>=1.3.3 in /usr/local/lib/python3.6/dist-packages (from plotly->nlpia) (1.3.3)\n",
            "Requirement already satisfied: joblib>=0.11 in /usr/local/lib/python3.6/dist-packages (from scikit-learn->nlpia) (0.17.0)\n",
            "Requirement already satisfied: smart-open>=1.2.1 in /usr/local/lib/python3.6/dist-packages (from gensim->nlpia) (3.0.0)\n",
            "Requirement already satisfied: setuptools in /usr/local/lib/python3.6/dist-packages (from python-Levenshtein->nlpia) (50.3.2)\n",
            "Requirement already satisfied: murmurhash<1.1.0,>=0.28.0 in /usr/local/lib/python3.6/dist-packages (from spacy->nlpia) (1.0.3)\n",
            "Requirement already satisfied: catalogue<1.1.0,>=0.0.7 in /usr/local/lib/python3.6/dist-packages (from spacy->nlpia) (1.0.0)\n",
            "Requirement already satisfied: wasabi<1.1.0,>=0.4.0 in /usr/local/lib/python3.6/dist-packages (from spacy->nlpia) (0.8.0)\n",
            "Requirement already satisfied: plac<1.2.0,>=0.9.6 in /usr/local/lib/python3.6/dist-packages (from spacy->nlpia) (1.1.3)\n",
            "Requirement already satisfied: preshed<3.1.0,>=3.0.2 in /usr/local/lib/python3.6/dist-packages (from spacy->nlpia) (3.0.2)\n",
            "Requirement already satisfied: srsly<1.1.0,>=1.0.2 in /usr/local/lib/python3.6/dist-packages (from spacy->nlpia) (1.0.2)\n",
            "Requirement already satisfied: blis<0.5.0,>=0.4.0 in /usr/local/lib/python3.6/dist-packages (from spacy->nlpia) (0.4.1)\n",
            "Requirement already satisfied: thinc==7.4.0 in /usr/local/lib/python3.6/dist-packages (from spacy->nlpia) (7.4.0)\n",
            "Requirement already satisfied: cymem<2.1.0,>=2.0.2 in /usr/local/lib/python3.6/dist-packages (from spacy->nlpia) (2.0.4)\n",
            "Requirement already satisfied: coverage in /usr/local/lib/python3.6/dist-packages (from pugnlp->nlpia) (3.7.1)\n",
            "Collecting fuzzywuzzy\n",
            "  Downloading https://files.pythonhosted.org/packages/43/ff/74f23998ad2f93b945c0309f825be92e04e0348e062026998b5eefef4c33/fuzzywuzzy-0.18.0-py2.py3-none-any.whl\n",
            "Requirement already satisfied: pip in /usr/local/lib/python3.6/dist-packages (from pugnlp->nlpia) (19.3.1)\n",
            "Requirement already satisfied: wheel in /usr/local/lib/python3.6/dist-packages (from pugnlp->nlpia) (0.35.1)\n",
            "Requirement already satisfied: python-slugify in /usr/local/lib/python3.6/dist-packages (from pugnlp->nlpia) (4.0.1)\n",
            "Requirement already satisfied: termcolor>=1.1.0 in /usr/local/lib/python3.6/dist-packages (from tensorflow->nlpia) (1.1.0)\n",
            "Requirement already satisfied: keras-preprocessing<1.2,>=1.1.1 in /usr/local/lib/python3.6/dist-packages (from tensorflow->nlpia) (1.1.2)\n",
            "Requirement already satisfied: tensorboard<3,>=2.3.0 in /usr/local/lib/python3.6/dist-packages (from tensorflow->nlpia) (2.3.0)\n",
            "Requirement already satisfied: gast==0.3.3 in /usr/local/lib/python3.6/dist-packages (from tensorflow->nlpia) (0.3.3)\n",
            "Requirement already satisfied: absl-py>=0.7.0 in /usr/local/lib/python3.6/dist-packages (from tensorflow->nlpia) (0.10.0)\n",
            "Requirement already satisfied: grpcio>=1.8.6 in /usr/local/lib/python3.6/dist-packages (from tensorflow->nlpia) (1.33.2)\n",
            "Requirement already satisfied: opt-einsum>=2.3.2 in /usr/local/lib/python3.6/dist-packages (from tensorflow->nlpia) (3.3.0)\n",
            "Requirement already satisfied: wrapt>=1.11.1 in /usr/local/lib/python3.6/dist-packages (from tensorflow->nlpia) (1.12.1)\n",
            "Requirement already satisfied: protobuf>=3.9.2 in /usr/local/lib/python3.6/dist-packages (from tensorflow->nlpia) (3.12.4)\n",
            "Requirement already satisfied: astunparse==1.6.3 in /usr/local/lib/python3.6/dist-packages (from tensorflow->nlpia) (1.6.3)\n",
            "Requirement already satisfied: tensorflow-estimator<2.4.0,>=2.3.0 in /usr/local/lib/python3.6/dist-packages (from tensorflow->nlpia) (2.3.0)\n",
            "Requirement already satisfied: google-pasta>=0.1.8 in /usr/local/lib/python3.6/dist-packages (from tensorflow->nlpia) (0.2.0)\n",
            "Requirement already satisfied: pyyaml in /usr/local/lib/python3.6/dist-packages (from keras->nlpia) (3.13)\n",
            "Requirement already satisfied: kiwisolver>=1.0.1 in /usr/local/lib/python3.6/dist-packages (from matplotlib->nlpia) (1.3.1)\n",
            "Requirement already satisfied: cycler>=0.10 in /usr/local/lib/python3.6/dist-packages (from matplotlib->nlpia) (0.10.0)\n",
            "Requirement already satisfied: pyparsing!=2.0.4,!=2.1.2,!=2.1.6,>=2.0.1 in /usr/local/lib/python3.6/dist-packages (from matplotlib->nlpia) (2.4.7)\n",
            "Requirement already satisfied: python-dateutil>=2.1 in /usr/local/lib/python3.6/dist-packages (from matplotlib->nlpia) (2.8.1)\n",
            "Requirement already satisfied: nbconvert in /usr/local/lib/python3.6/dist-packages (from jupyter->nlpia) (5.6.1)\n",
            "Requirement already satisfied: ipykernel in /usr/local/lib/python3.6/dist-packages (from jupyter->nlpia) (4.10.1)\n",
            "Requirement already satisfied: notebook in /usr/local/lib/python3.6/dist-packages (from jupyter->nlpia) (5.3.1)\n",
            "Requirement already satisfied: qtconsole in /usr/local/lib/python3.6/dist-packages (from jupyter->nlpia) (4.7.7)\n",
            "Requirement already satisfied: jupyter-console in /usr/local/lib/python3.6/dist-packages (from jupyter->nlpia) (5.2.0)\n",
            "Requirement already satisfied: ipywidgets in /usr/local/lib/python3.6/dist-packages (from jupyter->nlpia) (7.5.1)\n",
            "Requirement already satisfied: pytz>=2017.2 in /usr/local/lib/python3.6/dist-packages (from pandas->nlpia) (2018.9)\n",
            "Requirement already satisfied: certifi>=2017.4.17 in /usr/local/lib/python3.6/dist-packages (from requests>=2.19.0->pandas-datareader->nlpia) (2020.6.20)\n",
            "Requirement already satisfied: idna<3,>=2.5 in /usr/local/lib/python3.6/dist-packages (from requests>=2.19.0->pandas-datareader->nlpia) (2.10)\n",
            "Requirement already satisfied: urllib3!=1.25.0,!=1.25.1,<1.26,>=1.21.1 in /usr/local/lib/python3.6/dist-packages (from requests>=2.19.0->pandas-datareader->nlpia) (1.24.3)\n",
            "Requirement already satisfied: chardet<4,>=3.0.2 in /usr/local/lib/python3.6/dist-packages (from requests>=2.19.0->pandas-datareader->nlpia) (3.0.4)\n",
            "Requirement already satisfied: importlib-metadata>=0.20; python_version < \"3.8\" in /usr/local/lib/python3.6/dist-packages (from catalogue<1.1.0,>=0.0.7->spacy->nlpia) (2.0.0)\n",
            "Requirement already satisfied: text-unidecode>=1.3 in /usr/local/lib/python3.6/dist-packages (from python-slugify->pugnlp->nlpia) (1.3)\n",
            "Requirement already satisfied: markdown>=2.6.8 in /usr/local/lib/python3.6/dist-packages (from tensorboard<3,>=2.3.0->tensorflow->nlpia) (3.3.3)\n",
            "Requirement already satisfied: google-auth<2,>=1.6.3 in /usr/local/lib/python3.6/dist-packages (from tensorboard<3,>=2.3.0->tensorflow->nlpia) (1.17.2)\n",
            "Requirement already satisfied: tensorboard-plugin-wit>=1.6.0 in /usr/local/lib/python3.6/dist-packages (from tensorboard<3,>=2.3.0->tensorflow->nlpia) (1.7.0)\n",
            "Requirement already satisfied: google-auth-oauthlib<0.5,>=0.4.1 in /usr/local/lib/python3.6/dist-packages (from tensorboard<3,>=2.3.0->tensorflow->nlpia) (0.4.2)\n",
            "Requirement already satisfied: werkzeug>=0.11.15 in /usr/local/lib/python3.6/dist-packages (from tensorboard<3,>=2.3.0->tensorflow->nlpia) (1.0.1)\n",
            "Requirement already satisfied: defusedxml in /usr/local/lib/python3.6/dist-packages (from nbconvert->jupyter->nlpia) (0.6.0)\n",
            "Requirement already satisfied: jupyter-core in /usr/local/lib/python3.6/dist-packages (from nbconvert->jupyter->nlpia) (4.6.3)\n",
            "Requirement already satisfied: traitlets>=4.2 in /usr/local/lib/python3.6/dist-packages (from nbconvert->jupyter->nlpia) (4.3.3)\n",
            "Requirement already satisfied: jinja2>=2.4 in /usr/local/lib/python3.6/dist-packages (from nbconvert->jupyter->nlpia) (2.11.2)\n",
            "Requirement already satisfied: bleach in /usr/local/lib/python3.6/dist-packages (from nbconvert->jupyter->nlpia) (3.2.1)\n",
            "Requirement already satisfied: pygments in /usr/local/lib/python3.6/dist-packages (from nbconvert->jupyter->nlpia) (2.6.1)\n",
            "Requirement already satisfied: testpath in /usr/local/lib/python3.6/dist-packages (from nbconvert->jupyter->nlpia) (0.4.4)\n",
            "Requirement already satisfied: pandocfilters>=1.4.1 in /usr/local/lib/python3.6/dist-packages (from nbconvert->jupyter->nlpia) (1.4.3)\n",
            "Requirement already satisfied: mistune<2,>=0.8.1 in /usr/local/lib/python3.6/dist-packages (from nbconvert->jupyter->nlpia) (0.8.4)\n",
            "Requirement already satisfied: nbformat>=4.4 in /usr/local/lib/python3.6/dist-packages (from nbconvert->jupyter->nlpia) (5.0.8)\n",
            "Requirement already satisfied: entrypoints>=0.2.2 in /usr/local/lib/python3.6/dist-packages (from nbconvert->jupyter->nlpia) (0.3)\n",
            "Requirement already satisfied: tornado>=4.0 in /usr/local/lib/python3.6/dist-packages (from ipykernel->jupyter->nlpia) (5.1.1)\n",
            "Requirement already satisfied: ipython>=4.0.0 in /usr/local/lib/python3.6/dist-packages (from ipykernel->jupyter->nlpia) (5.5.0)\n",
            "Requirement already satisfied: jupyter-client in /usr/local/lib/python3.6/dist-packages (from ipykernel->jupyter->nlpia) (5.3.5)\n",
            "Requirement already satisfied: Send2Trash in /usr/local/lib/python3.6/dist-packages (from notebook->jupyter->nlpia) (1.5.0)\n",
            "Requirement already satisfied: ipython-genutils in /usr/local/lib/python3.6/dist-packages (from notebook->jupyter->nlpia) (0.2.0)\n",
            "Requirement already satisfied: terminado>=0.8.1 in /usr/local/lib/python3.6/dist-packages (from notebook->jupyter->nlpia) (0.9.1)\n",
            "Requirement already satisfied: qtpy in /usr/local/lib/python3.6/dist-packages (from qtconsole->jupyter->nlpia) (1.9.0)\n",
            "Requirement already satisfied: pyzmq>=17.1 in /usr/local/lib/python3.6/dist-packages (from qtconsole->jupyter->nlpia) (19.0.2)\n",
            "Requirement already satisfied: prompt-toolkit<2.0.0,>=1.0.0 in /usr/local/lib/python3.6/dist-packages (from jupyter-console->jupyter->nlpia) (1.0.18)\n",
            "Requirement already satisfied: widgetsnbextension~=3.5.0 in /usr/local/lib/python3.6/dist-packages (from ipywidgets->jupyter->nlpia) (3.5.1)\n",
            "Requirement already satisfied: zipp>=0.5 in /usr/local/lib/python3.6/dist-packages (from importlib-metadata>=0.20; python_version < \"3.8\"->catalogue<1.1.0,>=0.0.7->spacy->nlpia) (3.4.0)\n",
            "Requirement already satisfied: rsa<5,>=3.1.4; python_version >= \"3\" in /usr/local/lib/python3.6/dist-packages (from google-auth<2,>=1.6.3->tensorboard<3,>=2.3.0->tensorflow->nlpia) (4.6)\n",
            "Requirement already satisfied: pyasn1-modules>=0.2.1 in /usr/local/lib/python3.6/dist-packages (from google-auth<2,>=1.6.3->tensorboard<3,>=2.3.0->tensorflow->nlpia) (0.2.8)\n",
            "Requirement already satisfied: cachetools<5.0,>=2.0.0 in /usr/local/lib/python3.6/dist-packages (from google-auth<2,>=1.6.3->tensorboard<3,>=2.3.0->tensorflow->nlpia) (4.1.1)\n",
            "Requirement already satisfied: requests-oauthlib>=0.7.0 in /usr/local/lib/python3.6/dist-packages (from google-auth-oauthlib<0.5,>=0.4.1->tensorboard<3,>=2.3.0->tensorflow->nlpia) (1.3.0)\n",
            "Requirement already satisfied: decorator in /usr/local/lib/python3.6/dist-packages (from traitlets>=4.2->nbconvert->jupyter->nlpia) (4.4.2)\n",
            "Requirement already satisfied: MarkupSafe>=0.23 in /usr/local/lib/python3.6/dist-packages (from jinja2>=2.4->nbconvert->jupyter->nlpia) (1.1.1)\n",
            "Requirement already satisfied: packaging in /usr/local/lib/python3.6/dist-packages (from bleach->nbconvert->jupyter->nlpia) (20.4)\n",
            "Requirement already satisfied: jsonschema!=2.5.0,>=2.4 in /usr/local/lib/python3.6/dist-packages (from nbformat>=4.4->nbconvert->jupyter->nlpia) (2.6.0)\n",
            "Requirement already satisfied: pexpect; sys_platform != \"win32\" in /usr/local/lib/python3.6/dist-packages (from ipython>=4.0.0->ipykernel->jupyter->nlpia) (4.8.0)\n",
            "Requirement already satisfied: pickleshare in /usr/local/lib/python3.6/dist-packages (from ipython>=4.0.0->ipykernel->jupyter->nlpia) (0.7.5)\n",
            "Requirement already satisfied: simplegeneric>0.8 in /usr/local/lib/python3.6/dist-packages (from ipython>=4.0.0->ipykernel->jupyter->nlpia) (0.8.1)\n",
            "Requirement already satisfied: ptyprocess; os_name != \"nt\" in /usr/local/lib/python3.6/dist-packages (from terminado>=0.8.1->notebook->jupyter->nlpia) (0.6.0)\n",
            "Requirement already satisfied: wcwidth in /usr/local/lib/python3.6/dist-packages (from prompt-toolkit<2.0.0,>=1.0.0->jupyter-console->jupyter->nlpia) (0.2.5)\n",
            "Requirement already satisfied: pyasn1>=0.1.3 in /usr/local/lib/python3.6/dist-packages (from rsa<5,>=3.1.4; python_version >= \"3\"->google-auth<2,>=1.6.3->tensorboard<3,>=2.3.0->tensorflow->nlpia) (0.4.8)\n",
            "Requirement already satisfied: oauthlib>=3.0.0 in /usr/local/lib/python3.6/dist-packages (from requests-oauthlib>=0.7.0->google-auth-oauthlib<0.5,>=0.4.1->tensorboard<3,>=2.3.0->tensorflow->nlpia) (3.1.0)\n",
            "Building wheels for collected packages: python-Levenshtein, pypandoc\n",
            "  Building wheel for python-Levenshtein (setup.py) ... \u001b[?25l\u001b[?25hdone\n",
            "  Created wheel for python-Levenshtein: filename=python_Levenshtein-0.12.0-cp36-cp36m-linux_x86_64.whl size=144794 sha256=9f8b7ee11e53aaa6a009f33f0f6f273d180c385853ec482956980cefc6571d64\n",
            "  Stored in directory: /root/.cache/pip/wheels/de/c2/93/660fd5f7559049268ad2dc6d81c4e39e9e36518766eaf7e342\n",
            "  Building wheel for pypandoc (setup.py) ... \u001b[?25l\u001b[?25hdone\n",
            "  Created wheel for pypandoc: filename=pypandoc-1.5-cp36-none-any.whl size=17038 sha256=0bb613ce44cb695bde3791d857cde02df4af34729cfb20e9bc4e3b390fe902b0\n",
            "  Stored in directory: /root/.cache/pip/wheels/bb/7d/d6/2f9af55e800d37e42e546106bcbd36a86e24e725e303d17e04\n",
            "Successfully built python-Levenshtein pypandoc\n",
            "Installing collected packages: html2text, python-Levenshtein, fuzzywuzzy, pypandoc, pugnlp, nlpia\n",
            "Successfully installed fuzzywuzzy-0.18.0 html2text-2020.1.16 nlpia-0.5.2 pugnlp-0.2.6 pypandoc-1.5 python-Levenshtein-0.12.0\n"
          ],
          "name": "stdout"
        }
      ]
    },
    {
      "cell_type": "code",
      "metadata": {
        "colab": {
          "base_uri": "https://localhost:8080/"
        },
        "id": "zaRdPdRm4986",
        "outputId": "8f8283e7-26e4-461c-f4a9-ea72e7ead143"
      },
      "source": [
        "from nlpia.data.loaders import get_data"
      ],
      "execution_count": null,
      "outputs": [
        {
          "output_type": "stream",
          "text": [
            "/usr/local/lib/python3.6/dist-packages/pugnlp/constants.py:158: FutureWarning: The pandas.datetime class is deprecated and will be removed from pandas in a future version. Import from datetime instead.\n",
            "  MIN_TIMESTAMP = pd.Timestamp(pd.datetime(1677, 9, 22, 0, 12, 44), tz='utc')\n"
          ],
          "name": "stderr"
        }
      ]
    },
    {
      "cell_type": "code",
      "metadata": {
        "id": "ABMixDwZ5Ph5"
      },
      "source": [
        "pd.options.display.width = 120"
      ],
      "execution_count": null,
      "outputs": []
    },
    {
      "cell_type": "code",
      "metadata": {
        "id": "7JPcPHTp5a2Y"
      },
      "source": [
        "sms = get_data('sms-spam')"
      ],
      "execution_count": null,
      "outputs": []
    },
    {
      "cell_type": "code",
      "metadata": {
        "id": "z1ja_0_Y5hpZ"
      },
      "source": [
        "index = ['sms {}{}'.format(i, '!'*j) for (i, j) in zip(range(len(sms)), sms.spam)]"
      ],
      "execution_count": null,
      "outputs": []
    },
    {
      "cell_type": "code",
      "metadata": {
        "colab": {
          "base_uri": "https://localhost:8080/"
        },
        "id": "n8sGxA8J6WgH",
        "outputId": "f365b8ff-87fd-43d5-a36c-d7df74baddff"
      },
      "source": [
        "type(sms)"
      ],
      "execution_count": null,
      "outputs": [
        {
          "output_type": "execute_result",
          "data": {
            "text/plain": [
              "pandas.core.frame.DataFrame"
            ]
          },
          "metadata": {
            "tags": []
          },
          "execution_count": 23
        }
      ]
    },
    {
      "cell_type": "code",
      "metadata": {
        "colab": {
          "base_uri": "https://localhost:8080/",
          "height": 204
        },
        "id": "BM2v65a36cKG",
        "outputId": "e8736ece-318a-4173-ecbc-e5288450bc68"
      },
      "source": [
        "sms.head()"
      ],
      "execution_count": null,
      "outputs": [
        {
          "output_type": "execute_result",
          "data": {
            "text/html": [
              "<div>\n",
              "<style scoped>\n",
              "    .dataframe tbody tr th:only-of-type {\n",
              "        vertical-align: middle;\n",
              "    }\n",
              "\n",
              "    .dataframe tbody tr th {\n",
              "        vertical-align: top;\n",
              "    }\n",
              "\n",
              "    .dataframe thead th {\n",
              "        text-align: right;\n",
              "    }\n",
              "</style>\n",
              "<table border=\"1\" class=\"dataframe\">\n",
              "  <thead>\n",
              "    <tr style=\"text-align: right;\">\n",
              "      <th></th>\n",
              "      <th>spam</th>\n",
              "      <th>text</th>\n",
              "    </tr>\n",
              "  </thead>\n",
              "  <tbody>\n",
              "    <tr>\n",
              "      <th>0</th>\n",
              "      <td>0</td>\n",
              "      <td>Go until jurong point, crazy.. Available only ...</td>\n",
              "    </tr>\n",
              "    <tr>\n",
              "      <th>1</th>\n",
              "      <td>0</td>\n",
              "      <td>Ok lar... Joking wif u oni...</td>\n",
              "    </tr>\n",
              "    <tr>\n",
              "      <th>2</th>\n",
              "      <td>1</td>\n",
              "      <td>Free entry in 2 a wkly comp to win FA Cup fina...</td>\n",
              "    </tr>\n",
              "    <tr>\n",
              "      <th>3</th>\n",
              "      <td>0</td>\n",
              "      <td>U dun say so early hor... U c already then say...</td>\n",
              "    </tr>\n",
              "    <tr>\n",
              "      <th>4</th>\n",
              "      <td>0</td>\n",
              "      <td>Nah I don't think he goes to usf, he lives aro...</td>\n",
              "    </tr>\n",
              "  </tbody>\n",
              "</table>\n",
              "</div>"
            ],
            "text/plain": [
              "   spam                                               text\n",
              "0     0  Go until jurong point, crazy.. Available only ...\n",
              "1     0                      Ok lar... Joking wif u oni...\n",
              "2     1  Free entry in 2 a wkly comp to win FA Cup fina...\n",
              "3     0  U dun say so early hor... U c already then say...\n",
              "4     0  Nah I don't think he goes to usf, he lives aro..."
            ]
          },
          "metadata": {
            "tags": []
          },
          "execution_count": 24
        }
      ]
    },
    {
      "cell_type": "code",
      "metadata": {
        "colab": {
          "base_uri": "https://localhost:8080/"
        },
        "id": "ACo4WCQq6evW",
        "outputId": "37707ba2-9f06-4fd0-de7e-bf04dfecb5f1"
      },
      "source": [
        "index[:5]"
      ],
      "execution_count": null,
      "outputs": [
        {
          "output_type": "execute_result",
          "data": {
            "text/plain": [
              "['sms 0', 'sms 1', 'sms 2!', 'sms 3', 'sms 4']"
            ]
          },
          "metadata": {
            "tags": []
          },
          "execution_count": 25
        }
      ]
    },
    {
      "cell_type": "code",
      "metadata": {
        "id": "7evWlQcE6lXW"
      },
      "source": [
        "sms = pd.DataFrame(sms.values, columns=sms.columns, index=index)"
      ],
      "execution_count": null,
      "outputs": []
    },
    {
      "cell_type": "code",
      "metadata": {
        "colab": {
          "base_uri": "https://localhost:8080/",
          "height": 204
        },
        "id": "X5sP0V_C7pIU",
        "outputId": "d7be0d3a-2a0e-47f2-eca5-ef93e010a1b6"
      },
      "source": [
        "sms.head()"
      ],
      "execution_count": null,
      "outputs": [
        {
          "output_type": "execute_result",
          "data": {
            "text/html": [
              "<div>\n",
              "<style scoped>\n",
              "    .dataframe tbody tr th:only-of-type {\n",
              "        vertical-align: middle;\n",
              "    }\n",
              "\n",
              "    .dataframe tbody tr th {\n",
              "        vertical-align: top;\n",
              "    }\n",
              "\n",
              "    .dataframe thead th {\n",
              "        text-align: right;\n",
              "    }\n",
              "</style>\n",
              "<table border=\"1\" class=\"dataframe\">\n",
              "  <thead>\n",
              "    <tr style=\"text-align: right;\">\n",
              "      <th></th>\n",
              "      <th>spam</th>\n",
              "      <th>text</th>\n",
              "    </tr>\n",
              "  </thead>\n",
              "  <tbody>\n",
              "    <tr>\n",
              "      <th>sms 0</th>\n",
              "      <td>0</td>\n",
              "      <td>Go until jurong point, crazy.. Available only ...</td>\n",
              "    </tr>\n",
              "    <tr>\n",
              "      <th>sms 1</th>\n",
              "      <td>0</td>\n",
              "      <td>Ok lar... Joking wif u oni...</td>\n",
              "    </tr>\n",
              "    <tr>\n",
              "      <th>sms 2!</th>\n",
              "      <td>1</td>\n",
              "      <td>Free entry in 2 a wkly comp to win FA Cup fina...</td>\n",
              "    </tr>\n",
              "    <tr>\n",
              "      <th>sms 3</th>\n",
              "      <td>0</td>\n",
              "      <td>U dun say so early hor... U c already then say...</td>\n",
              "    </tr>\n",
              "    <tr>\n",
              "      <th>sms 4</th>\n",
              "      <td>0</td>\n",
              "      <td>Nah I don't think he goes to usf, he lives aro...</td>\n",
              "    </tr>\n",
              "  </tbody>\n",
              "</table>\n",
              "</div>"
            ],
            "text/plain": [
              "       spam                                               text\n",
              "sms 0     0  Go until jurong point, crazy.. Available only ...\n",
              "sms 1     0                      Ok lar... Joking wif u oni...\n",
              "sms 2!    1  Free entry in 2 a wkly comp to win FA Cup fina...\n",
              "sms 3     0  U dun say so early hor... U c already then say...\n",
              "sms 4     0  Nah I don't think he goes to usf, he lives aro..."
            ]
          },
          "metadata": {
            "tags": []
          },
          "execution_count": 27
        }
      ]
    },
    {
      "cell_type": "code",
      "metadata": {
        "id": "_WV9EaTV7tAk"
      },
      "source": [
        "sms['spam'] = sms.spam.astype(int)"
      ],
      "execution_count": null,
      "outputs": []
    },
    {
      "cell_type": "code",
      "metadata": {
        "colab": {
          "base_uri": "https://localhost:8080/"
        },
        "id": "lemDrz7i9Kfh",
        "outputId": "75356be3-474c-4831-8aad-775ef48878f0"
      },
      "source": [
        "len(sms)"
      ],
      "execution_count": null,
      "outputs": [
        {
          "output_type": "execute_result",
          "data": {
            "text/plain": [
              "4837"
            ]
          },
          "metadata": {
            "tags": []
          },
          "execution_count": 29
        }
      ]
    },
    {
      "cell_type": "code",
      "metadata": {
        "colab": {
          "base_uri": "https://localhost:8080/"
        },
        "id": "Q1jjTp8Y9QaB",
        "outputId": "ab47ad0e-cd77-4ef7-9aad-5e17c4d4c7da"
      },
      "source": [
        "sms.spam.sum()"
      ],
      "execution_count": null,
      "outputs": [
        {
          "output_type": "execute_result",
          "data": {
            "text/plain": [
              "638"
            ]
          },
          "metadata": {
            "tags": []
          },
          "execution_count": 30
        }
      ]
    },
    {
      "cell_type": "code",
      "metadata": {
        "colab": {
          "base_uri": "https://localhost:8080/",
          "height": 235
        },
        "id": "RvPZmY_O9UfD",
        "outputId": "4ca8abf2-516d-4ee9-c558-169b62c587c1"
      },
      "source": [
        "sms.head(6)"
      ],
      "execution_count": null,
      "outputs": [
        {
          "output_type": "execute_result",
          "data": {
            "text/html": [
              "<div>\n",
              "<style scoped>\n",
              "    .dataframe tbody tr th:only-of-type {\n",
              "        vertical-align: middle;\n",
              "    }\n",
              "\n",
              "    .dataframe tbody tr th {\n",
              "        vertical-align: top;\n",
              "    }\n",
              "\n",
              "    .dataframe thead th {\n",
              "        text-align: right;\n",
              "    }\n",
              "</style>\n",
              "<table border=\"1\" class=\"dataframe\">\n",
              "  <thead>\n",
              "    <tr style=\"text-align: right;\">\n",
              "      <th></th>\n",
              "      <th>spam</th>\n",
              "      <th>text</th>\n",
              "    </tr>\n",
              "  </thead>\n",
              "  <tbody>\n",
              "    <tr>\n",
              "      <th>sms 0</th>\n",
              "      <td>0</td>\n",
              "      <td>Go until jurong point, crazy.. Available only ...</td>\n",
              "    </tr>\n",
              "    <tr>\n",
              "      <th>sms 1</th>\n",
              "      <td>0</td>\n",
              "      <td>Ok lar... Joking wif u oni...</td>\n",
              "    </tr>\n",
              "    <tr>\n",
              "      <th>sms 2!</th>\n",
              "      <td>1</td>\n",
              "      <td>Free entry in 2 a wkly comp to win FA Cup fina...</td>\n",
              "    </tr>\n",
              "    <tr>\n",
              "      <th>sms 3</th>\n",
              "      <td>0</td>\n",
              "      <td>U dun say so early hor... U c already then say...</td>\n",
              "    </tr>\n",
              "    <tr>\n",
              "      <th>sms 4</th>\n",
              "      <td>0</td>\n",
              "      <td>Nah I don't think he goes to usf, he lives aro...</td>\n",
              "    </tr>\n",
              "    <tr>\n",
              "      <th>sms 5!</th>\n",
              "      <td>1</td>\n",
              "      <td>FreeMsg Hey there darling it's been 3 week's n...</td>\n",
              "    </tr>\n",
              "  </tbody>\n",
              "</table>\n",
              "</div>"
            ],
            "text/plain": [
              "        spam                                               text\n",
              "sms 0      0  Go until jurong point, crazy.. Available only ...\n",
              "sms 1      0                      Ok lar... Joking wif u oni...\n",
              "sms 2!     1  Free entry in 2 a wkly comp to win FA Cup fina...\n",
              "sms 3      0  U dun say so early hor... U c already then say...\n",
              "sms 4      0  Nah I don't think he goes to usf, he lives aro...\n",
              "sms 5!     1  FreeMsg Hey there darling it's been 3 week's n..."
            ]
          },
          "metadata": {
            "tags": []
          },
          "execution_count": 31
        }
      ]
    },
    {
      "cell_type": "code",
      "metadata": {
        "id": "9_NptdT59Xsx"
      },
      "source": [
        "from sklearn.feature_extraction.text import TfidfVectorizer"
      ],
      "execution_count": null,
      "outputs": []
    },
    {
      "cell_type": "code",
      "metadata": {
        "id": "EBzXEK33Av47"
      },
      "source": [
        "from nltk.tokenize.casual import casual_tokenize"
      ],
      "execution_count": null,
      "outputs": []
    },
    {
      "cell_type": "code",
      "metadata": {
        "id": "m1BewBICA3e6"
      },
      "source": [
        "tfidf_model = TfidfVectorizer(tokenizer=casual_tokenize)"
      ],
      "execution_count": null,
      "outputs": []
    },
    {
      "cell_type": "code",
      "metadata": {
        "id": "OMsyXgkhBET6"
      },
      "source": [
        "tfidf_docs = tfidf_model.fit_transform(raw_documents=sms.text).toarray()"
      ],
      "execution_count": null,
      "outputs": []
    },
    {
      "cell_type": "code",
      "metadata": {
        "colab": {
          "base_uri": "https://localhost:8080/"
        },
        "id": "1102vejbBclK",
        "outputId": "711c2dd9-b15e-4719-bba6-09f6b5d6b29e"
      },
      "source": [
        "tfidf_docs.shape"
      ],
      "execution_count": null,
      "outputs": [
        {
          "output_type": "execute_result",
          "data": {
            "text/plain": [
              "(4837, 9232)"
            ]
          },
          "metadata": {
            "tags": []
          },
          "execution_count": 36
        }
      ]
    },
    {
      "cell_type": "code",
      "metadata": {
        "colab": {
          "base_uri": "https://localhost:8080/"
        },
        "id": "EbUdiFDZBwX5",
        "outputId": "f73be697-8d14-4154-d0ec-aa5edf905e97"
      },
      "source": [
        "sms.spam.sum()"
      ],
      "execution_count": null,
      "outputs": [
        {
          "output_type": "execute_result",
          "data": {
            "text/plain": [
              "638"
            ]
          },
          "metadata": {
            "tags": []
          },
          "execution_count": 37
        }
      ]
    },
    {
      "cell_type": "code",
      "metadata": {
        "id": "CxTm3_E_B1qZ"
      },
      "source": [
        "mask = sms.spam.astype(bool).values"
      ],
      "execution_count": null,
      "outputs": []
    },
    {
      "cell_type": "code",
      "metadata": {
        "colab": {
          "base_uri": "https://localhost:8080/"
        },
        "id": "LRdLHNImGRVo",
        "outputId": "03ca468a-62b1-45bf-82f0-7fa9505633c2"
      },
      "source": [
        "mask"
      ],
      "execution_count": null,
      "outputs": [
        {
          "output_type": "execute_result",
          "data": {
            "text/plain": [
              "array([False, False,  True, ..., False, False, False])"
            ]
          },
          "metadata": {
            "tags": []
          },
          "execution_count": 39
        }
      ]
    },
    {
      "cell_type": "code",
      "metadata": {
        "id": "STm0AtENHKw_"
      },
      "source": [
        "spam_centroid = tfidf_docs[mask].mean(axis=0)"
      ],
      "execution_count": null,
      "outputs": []
    },
    {
      "cell_type": "code",
      "metadata": {
        "id": "xG5xKP7MHrnN"
      },
      "source": [
        "ham_centroid = tfidf_docs[~mask].mean(axis=0)"
      ],
      "execution_count": null,
      "outputs": []
    },
    {
      "cell_type": "code",
      "metadata": {
        "colab": {
          "base_uri": "https://localhost:8080/"
        },
        "id": "CQ8E-ip5IEVd",
        "outputId": "be6fa8a0-7a0c-49f0-dbd4-affac4a1380a"
      },
      "source": [
        "tfidf_docs[:1]"
      ],
      "execution_count": null,
      "outputs": [
        {
          "output_type": "execute_result",
          "data": {
            "text/plain": [
              "array([[0., 0., 0., ..., 0., 0., 0.]])"
            ]
          },
          "metadata": {
            "tags": []
          },
          "execution_count": 42
        }
      ]
    },
    {
      "cell_type": "code",
      "metadata": {
        "colab": {
          "base_uri": "https://localhost:8080/"
        },
        "id": "AhHABtAvIgyr",
        "outputId": "f16d136b-8995-4146-96e3-c736a6079037"
      },
      "source": [
        "spam_centroid.round(2)"
      ],
      "execution_count": null,
      "outputs": [
        {
          "output_type": "execute_result",
          "data": {
            "text/plain": [
              "array([0.06, 0.  , 0.  , ..., 0.  , 0.  , 0.  ])"
            ]
          },
          "metadata": {
            "tags": []
          },
          "execution_count": 43
        }
      ]
    },
    {
      "cell_type": "code",
      "metadata": {
        "colab": {
          "base_uri": "https://localhost:8080/"
        },
        "id": "BtTCMgyZJLn6",
        "outputId": "c8d42aac-df8c-404b-f408-1e84460dad36"
      },
      "source": [
        "ham_centroid.round(2)"
      ],
      "execution_count": null,
      "outputs": [
        {
          "output_type": "execute_result",
          "data": {
            "text/plain": [
              "array([0.02, 0.01, 0.  , ..., 0.  , 0.  , 0.  ])"
            ]
          },
          "metadata": {
            "tags": []
          },
          "execution_count": 44
        }
      ]
    },
    {
      "cell_type": "code",
      "metadata": {
        "id": "JXz8nEuHJOfa"
      },
      "source": [
        "spamminess_score = tfidf_docs.dot(spam_centroid - ham_centroid)"
      ],
      "execution_count": null,
      "outputs": []
    },
    {
      "cell_type": "code",
      "metadata": {
        "colab": {
          "base_uri": "https://localhost:8080/"
        },
        "id": "wIq9J3LPMndo",
        "outputId": "a26f7fa7-2f97-460d-c691-ea8c0c73e0d9"
      },
      "source": [
        "spamminess_score"
      ],
      "execution_count": null,
      "outputs": [
        {
          "output_type": "execute_result",
          "data": {
            "text/plain": [
              "array([-0.01469806, -0.02007376,  0.03856095, ..., -0.01014774,\n",
              "       -0.00344281,  0.00395752])"
            ]
          },
          "metadata": {
            "tags": []
          },
          "execution_count": 46
        }
      ]
    },
    {
      "cell_type": "code",
      "metadata": {
        "colab": {
          "base_uri": "https://localhost:8080/"
        },
        "id": "-WWQIuwzMuEU",
        "outputId": "dff477e1-a4ca-474c-85d3-26fbfdf589b0"
      },
      "source": [
        "spamminess_score.round(2)"
      ],
      "execution_count": null,
      "outputs": [
        {
          "output_type": "execute_result",
          "data": {
            "text/plain": [
              "array([-0.01, -0.02,  0.04, ..., -0.01, -0.  ,  0.  ])"
            ]
          },
          "metadata": {
            "tags": []
          },
          "execution_count": 47
        }
      ]
    },
    {
      "cell_type": "code",
      "metadata": {
        "id": "j_Wn9qXMM6ek"
      },
      "source": [
        "difference = spam_centroid - ham_centroid"
      ],
      "execution_count": null,
      "outputs": []
    },
    {
      "cell_type": "code",
      "metadata": {
        "colab": {
          "base_uri": "https://localhost:8080/"
        },
        "id": "AwkDoVHZOF6x",
        "outputId": "945cfa61-5c4f-4bf5-bb15-2c0a62c3161b"
      },
      "source": [
        "difference"
      ],
      "execution_count": null,
      "outputs": [
        {
          "output_type": "execute_result",
          "data": {
            "text/plain": [
              "array([ 4.39266024e-02, -1.92685506e-03,  3.84287194e-04, ...,\n",
              "       -6.31869803e-05, -6.31869803e-05, -6.31869803e-05])"
            ]
          },
          "metadata": {
            "tags": []
          },
          "execution_count": 49
        }
      ]
    },
    {
      "cell_type": "code",
      "metadata": {
        "colab": {
          "base_uri": "https://localhost:8080/"
        },
        "id": "u0QoQxS8OHVB",
        "outputId": "0f4ad058-f4e1-4457-b129-b8603e8d47c6"
      },
      "source": [
        "difference.shape"
      ],
      "execution_count": null,
      "outputs": [
        {
          "output_type": "execute_result",
          "data": {
            "text/plain": [
              "(9232,)"
            ]
          },
          "metadata": {
            "tags": []
          },
          "execution_count": 50
        }
      ]
    },
    {
      "cell_type": "code",
      "metadata": {
        "id": "yd-oeeurOfSU"
      },
      "source": [
        "import numpy as np"
      ],
      "execution_count": null,
      "outputs": []
    },
    {
      "cell_type": "code",
      "metadata": {
        "colab": {
          "base_uri": "https://localhost:8080/",
          "height": 197
        },
        "id": "T58L57XVOOKw",
        "outputId": "2cd81a56-9e54-4d2b-ef2d-f4178df731f3"
      },
      "source": [
        "np.dot(difference)"
      ],
      "execution_count": null,
      "outputs": [
        {
          "output_type": "error",
          "ename": "TypeError",
          "evalue": "ignored",
          "traceback": [
            "\u001b[0;31m---------------------------------------------------------------------------\u001b[0m",
            "\u001b[0;31mTypeError\u001b[0m                                 Traceback (most recent call last)",
            "\u001b[0;32m<ipython-input-52-975aacd1eb7e>\u001b[0m in \u001b[0;36m<module>\u001b[0;34m()\u001b[0m\n\u001b[0;32m----> 1\u001b[0;31m \u001b[0mnp\u001b[0m\u001b[0;34m.\u001b[0m\u001b[0mdot\u001b[0m\u001b[0;34m(\u001b[0m\u001b[0mdifference\u001b[0m\u001b[0;34m)\u001b[0m\u001b[0;34m\u001b[0m\u001b[0;34m\u001b[0m\u001b[0m\n\u001b[0m",
            "\u001b[0;32m<__array_function__ internals>\u001b[0m in \u001b[0;36mdot\u001b[0;34m(*args, **kwargs)\u001b[0m\n",
            "\u001b[0;31mTypeError\u001b[0m: dot() missing 1 required positional argument: 'b'"
          ]
        }
      ]
    },
    {
      "cell_type": "code",
      "metadata": {
        "colab": {
          "base_uri": "https://localhost:8080/",
          "height": 197
        },
        "id": "1NBDxAMkObrQ",
        "outputId": "381facde-0323-45c4-be43-9163a584b6d9"
      },
      "source": [
        "np.dot(spam_centroid - ham_centroid)"
      ],
      "execution_count": null,
      "outputs": [
        {
          "output_type": "error",
          "ename": "TypeError",
          "evalue": "ignored",
          "traceback": [
            "\u001b[0;31m---------------------------------------------------------------------------\u001b[0m",
            "\u001b[0;31mTypeError\u001b[0m                                 Traceback (most recent call last)",
            "\u001b[0;32m<ipython-input-53-edeb32773c6b>\u001b[0m in \u001b[0;36m<module>\u001b[0;34m()\u001b[0m\n\u001b[0;32m----> 1\u001b[0;31m \u001b[0mnp\u001b[0m\u001b[0;34m.\u001b[0m\u001b[0mdot\u001b[0m\u001b[0;34m(\u001b[0m\u001b[0mspam_centroid\u001b[0m \u001b[0;34m-\u001b[0m \u001b[0mham_centroid\u001b[0m\u001b[0;34m)\u001b[0m\u001b[0;34m\u001b[0m\u001b[0;34m\u001b[0m\u001b[0m\n\u001b[0m",
            "\u001b[0;32m<__array_function__ internals>\u001b[0m in \u001b[0;36mdot\u001b[0;34m(*args, **kwargs)\u001b[0m\n",
            "\u001b[0;31mTypeError\u001b[0m: dot() missing 1 required positional argument: 'b'"
          ]
        }
      ]
    },
    {
      "cell_type": "code",
      "metadata": {
        "id": "CnPB_aPfOohA"
      },
      "source": [
        "from sklearn.preprocessing import MinMaxScaler"
      ],
      "execution_count": null,
      "outputs": []
    },
    {
      "cell_type": "code",
      "metadata": {
        "id": "6YWTmzjEYMpL"
      },
      "source": [
        "sms['lda_score'] = MinMaxScaler().fit_transform(spamminess_score.reshape(-1, 1))"
      ],
      "execution_count": null,
      "outputs": []
    },
    {
      "cell_type": "code",
      "metadata": {
        "id": "psuKAmKuYbUI"
      },
      "source": [
        "sms['lda_predict'] = (sms.lda_score > .5).astype(int)"
      ],
      "execution_count": null,
      "outputs": []
    },
    {
      "cell_type": "code",
      "metadata": {
        "colab": {
          "base_uri": "https://localhost:8080/",
          "height": 235
        },
        "id": "qbdCpPykYnuI",
        "outputId": "4ef4b6a6-8484-4c53-f122-5104fae7f1d1"
      },
      "source": [
        "sms['spam lda_predict lda_score'.split()].round(2).head(6)"
      ],
      "execution_count": null,
      "outputs": [
        {
          "output_type": "execute_result",
          "data": {
            "text/html": [
              "<div>\n",
              "<style scoped>\n",
              "    .dataframe tbody tr th:only-of-type {\n",
              "        vertical-align: middle;\n",
              "    }\n",
              "\n",
              "    .dataframe tbody tr th {\n",
              "        vertical-align: top;\n",
              "    }\n",
              "\n",
              "    .dataframe thead th {\n",
              "        text-align: right;\n",
              "    }\n",
              "</style>\n",
              "<table border=\"1\" class=\"dataframe\">\n",
              "  <thead>\n",
              "    <tr style=\"text-align: right;\">\n",
              "      <th></th>\n",
              "      <th>spam</th>\n",
              "      <th>lda_predict</th>\n",
              "      <th>lda_score</th>\n",
              "    </tr>\n",
              "  </thead>\n",
              "  <tbody>\n",
              "    <tr>\n",
              "      <th>sms 0</th>\n",
              "      <td>0</td>\n",
              "      <td>0</td>\n",
              "      <td>0.23</td>\n",
              "    </tr>\n",
              "    <tr>\n",
              "      <th>sms 1</th>\n",
              "      <td>0</td>\n",
              "      <td>0</td>\n",
              "      <td>0.18</td>\n",
              "    </tr>\n",
              "    <tr>\n",
              "      <th>sms 2!</th>\n",
              "      <td>1</td>\n",
              "      <td>1</td>\n",
              "      <td>0.72</td>\n",
              "    </tr>\n",
              "    <tr>\n",
              "      <th>sms 3</th>\n",
              "      <td>0</td>\n",
              "      <td>0</td>\n",
              "      <td>0.18</td>\n",
              "    </tr>\n",
              "    <tr>\n",
              "      <th>sms 4</th>\n",
              "      <td>0</td>\n",
              "      <td>0</td>\n",
              "      <td>0.29</td>\n",
              "    </tr>\n",
              "    <tr>\n",
              "      <th>sms 5!</th>\n",
              "      <td>1</td>\n",
              "      <td>1</td>\n",
              "      <td>0.55</td>\n",
              "    </tr>\n",
              "  </tbody>\n",
              "</table>\n",
              "</div>"
            ],
            "text/plain": [
              "        spam  lda_predict  lda_score\n",
              "sms 0      0            0       0.23\n",
              "sms 1      0            0       0.18\n",
              "sms 2!     1            1       0.72\n",
              "sms 3      0            0       0.18\n",
              "sms 4      0            0       0.29\n",
              "sms 5!     1            1       0.55"
            ]
          },
          "metadata": {
            "tags": []
          },
          "execution_count": 57
        }
      ]
    },
    {
      "cell_type": "code",
      "metadata": {
        "colab": {
          "base_uri": "https://localhost:8080/"
        },
        "id": "G5K76KSQY0U4",
        "outputId": "395c1ea0-1554-4a8a-8bb2-dff90154e096"
      },
      "source": [
        "spamminess_score.reshape(-1, 1)"
      ],
      "execution_count": null,
      "outputs": [
        {
          "output_type": "execute_result",
          "data": {
            "text/plain": [
              "array([[-0.01469806],\n",
              "       [-0.02007376],\n",
              "       [ 0.03856095],\n",
              "       ...,\n",
              "       [-0.01014774],\n",
              "       [-0.00344281],\n",
              "       [ 0.00395752]])"
            ]
          },
          "metadata": {
            "tags": []
          },
          "execution_count": 58
        }
      ]
    },
    {
      "cell_type": "code",
      "metadata": {
        "colab": {
          "base_uri": "https://localhost:8080/"
        },
        "id": "TBRtu3fDZ7n2",
        "outputId": "347b03c5-f7da-410b-a63d-ace6641451cc"
      },
      "source": [
        "(sms.lda_score > .5).astype(int)"
      ],
      "execution_count": null,
      "outputs": [
        {
          "output_type": "execute_result",
          "data": {
            "text/plain": [
              "sms 0        0\n",
              "sms 1        0\n",
              "sms 2!       1\n",
              "sms 3        0\n",
              "sms 4        0\n",
              "            ..\n",
              "sms 4832!    1\n",
              "sms 4833     0\n",
              "sms 4834     0\n",
              "sms 4835     0\n",
              "sms 4836     0\n",
              "Name: lda_score, Length: 4837, dtype: int64"
            ]
          },
          "metadata": {
            "tags": []
          },
          "execution_count": 59
        }
      ]
    },
    {
      "cell_type": "code",
      "metadata": {
        "colab": {
          "base_uri": "https://localhost:8080/"
        },
        "id": "I3hGSsmyaLVV",
        "outputId": "f52ab5c1-82c0-4389-8520-1d52ff3aa822"
      },
      "source": [
        "(1. - (sms.spam - sms.lda_predict).abs().sum() / len(sms)).round(3)"
      ],
      "execution_count": null,
      "outputs": [
        {
          "output_type": "execute_result",
          "data": {
            "text/plain": [
              "0.977"
            ]
          },
          "metadata": {
            "tags": []
          },
          "execution_count": 60
        }
      ]
    },
    {
      "cell_type": "code",
      "metadata": {
        "id": "erraWrpQcHtl"
      },
      "source": [
        "from pugnlp.stats import Confusion"
      ],
      "execution_count": null,
      "outputs": []
    },
    {
      "cell_type": "code",
      "metadata": {
        "colab": {
          "base_uri": "https://localhost:8080/",
          "height": 400
        },
        "id": "qrk9xJwEg99N",
        "outputId": "763c2d86-1404-4dc9-ace4-338e8c006d43"
      },
      "source": [
        "Confusion(sms['spam lda_predict'.split()])"
      ],
      "execution_count": null,
      "outputs": [
        {
          "output_type": "stream",
          "text": [
            "/usr/local/lib/python3.6/dist-packages/pugnlp/stats.py:427: FutureWarning: The pandas.np module is deprecated and will be removed from pandas in a future version. Import numpy directly instead\n",
            "  index = pd.Index(np.concatenate([df[columns[0]], df[columns[1]]])).unique()\n",
            "/usr/local/lib/python3.6/dist-packages/pugnlp/stats.py:447: FutureWarning: The pandas.np module is deprecated and will be removed from pandas in a future version. Import numpy directly instead\n",
            "  setattr(self, '_colnums', np.arange(0, self._num_classes))\n",
            "/usr/local/lib/python3.6/dist-packages/pugnlp/stats.py:488: FutureWarning: The pandas.np module is deprecated and will be removed from pandas in a future version. Import numpy directly instead\n",
            "  setattr(self, '_colnums', np.arange(0, self._num_classes))\n",
            "/usr/local/lib/python3.6/dist-packages/pugnlp/stats.py:504: UserWarning: Pandas doesn't allow columns to be created via a new attribute name - see https://pandas.pydata.org/pandas-docs/stable/indexing.html#attribute-access\n",
            "  self.__setattr__('_hist_labels', self.sum().astype(int))\n",
            "/usr/local/lib/python3.6/dist-packages/pugnlp/stats.py:510: UserWarning: Pandas doesn't allow columns to be created via a new attribute name - see https://pandas.pydata.org/pandas-docs/stable/indexing.html#attribute-access\n",
            "  setattr(self, '_hist_classes', self.T.sum())\n",
            "/usr/local/lib/python3.6/dist-packages/pugnlp/stats.py:84: FutureWarning: The pandas.np module is deprecated and will be removed from pandas in a future version. Import numpy directly instead\n",
            "  with np.errstate(divide='raise', invalid='raise'):\n",
            "/usr/local/lib/python3.6/dist-packages/pugnlp/stats.py:515: FutureWarning: The pandas.np module is deprecated and will be removed from pandas in a future version. Import numpy directly instead\n",
            "  setattr(self, '_tn', np.diag(self).sum() - self._tp)\n"
          ],
          "name": "stderr"
        },
        {
          "output_type": "execute_result",
          "data": {
            "text/html": [
              "<div>\n",
              "<style scoped>\n",
              "    .dataframe tbody tr th:only-of-type {\n",
              "        vertical-align: middle;\n",
              "    }\n",
              "\n",
              "    .dataframe tbody tr th {\n",
              "        vertical-align: top;\n",
              "    }\n",
              "\n",
              "    .dataframe thead th {\n",
              "        text-align: right;\n",
              "    }\n",
              "</style>\n",
              "<table border=\"1\" class=\"dataframe\">\n",
              "  <thead>\n",
              "    <tr style=\"text-align: right;\">\n",
              "      <th>lda_predict</th>\n",
              "      <th>0</th>\n",
              "      <th>1</th>\n",
              "    </tr>\n",
              "    <tr>\n",
              "      <th>spam</th>\n",
              "      <th></th>\n",
              "      <th></th>\n",
              "    </tr>\n",
              "  </thead>\n",
              "  <tbody>\n",
              "    <tr>\n",
              "      <th>0</th>\n",
              "      <td>4135</td>\n",
              "      <td>64</td>\n",
              "    </tr>\n",
              "    <tr>\n",
              "      <th>1</th>\n",
              "      <td>45</td>\n",
              "      <td>593</td>\n",
              "    </tr>\n",
              "  </tbody>\n",
              "</table>\n",
              "</div>"
            ],
            "text/plain": [
              "lda_predict     0    1\n",
              "spam                  \n",
              "0            4135   64\n",
              "1              45  593"
            ]
          },
          "metadata": {
            "tags": []
          },
          "execution_count": 62
        }
      ]
    },
    {
      "cell_type": "code",
      "metadata": {
        "id": "MDqaR1BEhHUn"
      },
      "source": [
        ""
      ],
      "execution_count": null,
      "outputs": []
    },
    {
      "cell_type": "markdown",
      "metadata": {
        "id": "4V4ux0aoKJEm"
      },
      "source": [
        "## **Singular Value Decomposition**"
      ]
    },
    {
      "cell_type": "code",
      "metadata": {
        "colab": {
          "base_uri": "https://localhost:8080/"
        },
        "id": "A92CDKl_KGzk",
        "outputId": "28d23b03-b58d-4478-ad56-2d4011f420a8"
      },
      "source": [
        "!pip install nlpia"
      ],
      "execution_count": null,
      "outputs": [
        {
          "output_type": "stream",
          "text": [
            "Collecting nlpia\n",
            "\u001b[?25l  Downloading https://files.pythonhosted.org/packages/89/f6/ab35e962dd0b19f1008e88e788b202d45a90d9cd70b9bbf0ac26489ee260/nlpia-0.5.2-py2.py3-none-any.whl (32.0MB)\n",
            "\u001b[K     |████████████████████████████████| 32.0MB 130kB/s \n",
            "\u001b[?25hRequirement already satisfied: lxml in /usr/local/lib/python3.6/dist-packages (from nlpia) (4.2.6)\n",
            "Collecting pypandoc\n",
            "  Downloading https://files.pythonhosted.org/packages/d6/b7/5050dc1769c8a93d3ec7c4bd55be161991c94b8b235f88bf7c764449e708/pypandoc-1.5.tar.gz\n",
            "Collecting html2text\n",
            "  Downloading https://files.pythonhosted.org/packages/ae/88/14655f727f66b3e3199f4467bafcc88283e6c31b562686bf606264e09181/html2text-2020.1.16-py3-none-any.whl\n",
            "Requirement already satisfied: nltk in /usr/local/lib/python3.6/dist-packages (from nlpia) (3.2.5)\n",
            "Requirement already satisfied: future in /usr/local/lib/python3.6/dist-packages (from nlpia) (0.16.0)\n",
            "Requirement already satisfied: tensorflow in /usr/local/lib/python3.6/dist-packages (from nlpia) (2.3.0)\n",
            "Requirement already satisfied: html5lib in /usr/local/lib/python3.6/dist-packages (from nlpia) (1.0.1)\n",
            "Requirement already satisfied: plotly in /usr/local/lib/python3.6/dist-packages (from nlpia) (4.4.1)\n",
            "Collecting pugnlp\n",
            "\u001b[?25l  Downloading https://files.pythonhosted.org/packages/f7/20/a9f0b1f45c074c63da716fc1b301916cc3b64c11d5cbf7cb305eafaf158a/pugnlp-0.2.6-py2.py3-none-any.whl (706kB)\n",
            "\u001b[K     |████████████████████████████████| 716kB 32.1MB/s \n",
            "\u001b[?25hRequirement already satisfied: matplotlib in /usr/local/lib/python3.6/dist-packages (from nlpia) (3.2.2)\n",
            "Requirement already satisfied: tqdm in /usr/local/lib/python3.6/dist-packages (from nlpia) (4.41.1)\n",
            "Requirement already satisfied: scikit-learn in /usr/local/lib/python3.6/dist-packages (from nlpia) (0.22.2.post1)\n",
            "Requirement already satisfied: jupyter in /usr/local/lib/python3.6/dist-packages (from nlpia) (1.0.0)\n",
            "Requirement already satisfied: h5py in /usr/local/lib/python3.6/dist-packages (from nlpia) (2.10.0)\n",
            "Requirement already satisfied: spacy in /usr/local/lib/python3.6/dist-packages (from nlpia) (2.2.4)\n",
            "Requirement already satisfied: seaborn in /usr/local/lib/python3.6/dist-packages (from nlpia) (0.11.0)\n",
            "Requirement already satisfied: regex in /usr/local/lib/python3.6/dist-packages (from nlpia) (2019.12.20)\n",
            "Collecting python-Levenshtein\n",
            "\u001b[?25l  Downloading https://files.pythonhosted.org/packages/42/a9/d1785c85ebf9b7dfacd08938dd028209c34a0ea3b1bcdb895208bd40a67d/python-Levenshtein-0.12.0.tar.gz (48kB)\n",
            "\u001b[K     |████████████████████████████████| 51kB 3.7MB/s \n",
            "\u001b[?25hRequirement already satisfied: keras in /usr/local/lib/python3.6/dist-packages (from nlpia) (2.4.3)\n",
            "Requirement already satisfied: pandas in /usr/local/lib/python3.6/dist-packages (from nlpia) (1.1.4)\n",
            "Requirement already satisfied: pandas-datareader in /usr/local/lib/python3.6/dist-packages (from nlpia) (0.9.0)\n",
            "Requirement already satisfied: gensim in /usr/local/lib/python3.6/dist-packages (from nlpia) (3.6.0)\n",
            "Requirement already satisfied: setuptools in /usr/local/lib/python3.6/dist-packages (from pypandoc->nlpia) (50.3.2)\n",
            "Requirement already satisfied: pip>=8.1.0 in /usr/local/lib/python3.6/dist-packages (from pypandoc->nlpia) (19.3.1)\n",
            "Requirement already satisfied: wheel>=0.25.0 in /usr/local/lib/python3.6/dist-packages (from pypandoc->nlpia) (0.35.1)\n",
            "Requirement already satisfied: six in /usr/local/lib/python3.6/dist-packages (from nltk->nlpia) (1.15.0)\n",
            "Requirement already satisfied: termcolor>=1.1.0 in /usr/local/lib/python3.6/dist-packages (from tensorflow->nlpia) (1.1.0)\n",
            "Requirement already satisfied: numpy<1.19.0,>=1.16.0 in /usr/local/lib/python3.6/dist-packages (from tensorflow->nlpia) (1.18.5)\n",
            "Requirement already satisfied: protobuf>=3.9.2 in /usr/local/lib/python3.6/dist-packages (from tensorflow->nlpia) (3.12.4)\n",
            "Requirement already satisfied: tensorflow-estimator<2.4.0,>=2.3.0 in /usr/local/lib/python3.6/dist-packages (from tensorflow->nlpia) (2.3.0)\n",
            "Requirement already satisfied: opt-einsum>=2.3.2 in /usr/local/lib/python3.6/dist-packages (from tensorflow->nlpia) (3.3.0)\n",
            "Requirement already satisfied: google-pasta>=0.1.8 in /usr/local/lib/python3.6/dist-packages (from tensorflow->nlpia) (0.2.0)\n",
            "Requirement already satisfied: astunparse==1.6.3 in /usr/local/lib/python3.6/dist-packages (from tensorflow->nlpia) (1.6.3)\n",
            "Requirement already satisfied: absl-py>=0.7.0 in /usr/local/lib/python3.6/dist-packages (from tensorflow->nlpia) (0.10.0)\n",
            "Requirement already satisfied: tensorboard<3,>=2.3.0 in /usr/local/lib/python3.6/dist-packages (from tensorflow->nlpia) (2.3.0)\n",
            "Requirement already satisfied: gast==0.3.3 in /usr/local/lib/python3.6/dist-packages (from tensorflow->nlpia) (0.3.3)\n",
            "Requirement already satisfied: wrapt>=1.11.1 in /usr/local/lib/python3.6/dist-packages (from tensorflow->nlpia) (1.12.1)\n",
            "Requirement already satisfied: grpcio>=1.8.6 in /usr/local/lib/python3.6/dist-packages (from tensorflow->nlpia) (1.33.2)\n",
            "Requirement already satisfied: scipy==1.4.1 in /usr/local/lib/python3.6/dist-packages (from tensorflow->nlpia) (1.4.1)\n",
            "Requirement already satisfied: keras-preprocessing<1.2,>=1.1.1 in /usr/local/lib/python3.6/dist-packages (from tensorflow->nlpia) (1.1.2)\n",
            "Requirement already satisfied: webencodings in /usr/local/lib/python3.6/dist-packages (from html5lib->nlpia) (0.5.1)\n",
            "Requirement already satisfied: retrying>=1.3.3 in /usr/local/lib/python3.6/dist-packages (from plotly->nlpia) (1.3.3)\n",
            "Collecting fuzzywuzzy\n",
            "  Downloading https://files.pythonhosted.org/packages/43/ff/74f23998ad2f93b945c0309f825be92e04e0348e062026998b5eefef4c33/fuzzywuzzy-0.18.0-py2.py3-none-any.whl\n",
            "Requirement already satisfied: python-slugify in /usr/local/lib/python3.6/dist-packages (from pugnlp->nlpia) (4.0.1)\n",
            "Requirement already satisfied: coverage in /usr/local/lib/python3.6/dist-packages (from pugnlp->nlpia) (3.7.1)\n",
            "Requirement already satisfied: python-dateutil>=2.1 in /usr/local/lib/python3.6/dist-packages (from matplotlib->nlpia) (2.8.1)\n",
            "Requirement already satisfied: pyparsing!=2.0.4,!=2.1.2,!=2.1.6,>=2.0.1 in /usr/local/lib/python3.6/dist-packages (from matplotlib->nlpia) (2.4.7)\n",
            "Requirement already satisfied: cycler>=0.10 in /usr/local/lib/python3.6/dist-packages (from matplotlib->nlpia) (0.10.0)\n",
            "Requirement already satisfied: kiwisolver>=1.0.1 in /usr/local/lib/python3.6/dist-packages (from matplotlib->nlpia) (1.3.1)\n",
            "Requirement already satisfied: joblib>=0.11 in /usr/local/lib/python3.6/dist-packages (from scikit-learn->nlpia) (0.17.0)\n",
            "Requirement already satisfied: ipykernel in /usr/local/lib/python3.6/dist-packages (from jupyter->nlpia) (4.10.1)\n",
            "Requirement already satisfied: jupyter-console in /usr/local/lib/python3.6/dist-packages (from jupyter->nlpia) (5.2.0)\n",
            "Requirement already satisfied: ipywidgets in /usr/local/lib/python3.6/dist-packages (from jupyter->nlpia) (7.5.1)\n",
            "Requirement already satisfied: notebook in /usr/local/lib/python3.6/dist-packages (from jupyter->nlpia) (5.3.1)\n",
            "Requirement already satisfied: qtconsole in /usr/local/lib/python3.6/dist-packages (from jupyter->nlpia) (4.7.7)\n",
            "Requirement already satisfied: nbconvert in /usr/local/lib/python3.6/dist-packages (from jupyter->nlpia) (5.6.1)\n",
            "Requirement already satisfied: plac<1.2.0,>=0.9.6 in /usr/local/lib/python3.6/dist-packages (from spacy->nlpia) (1.1.3)\n",
            "Requirement already satisfied: wasabi<1.1.0,>=0.4.0 in /usr/local/lib/python3.6/dist-packages (from spacy->nlpia) (0.8.0)\n",
            "Requirement already satisfied: cymem<2.1.0,>=2.0.2 in /usr/local/lib/python3.6/dist-packages (from spacy->nlpia) (2.0.4)\n",
            "Requirement already satisfied: srsly<1.1.0,>=1.0.2 in /usr/local/lib/python3.6/dist-packages (from spacy->nlpia) (1.0.2)\n",
            "Requirement already satisfied: requests<3.0.0,>=2.13.0 in /usr/local/lib/python3.6/dist-packages (from spacy->nlpia) (2.23.0)\n",
            "Requirement already satisfied: catalogue<1.1.0,>=0.0.7 in /usr/local/lib/python3.6/dist-packages (from spacy->nlpia) (1.0.0)\n",
            "Requirement already satisfied: blis<0.5.0,>=0.4.0 in /usr/local/lib/python3.6/dist-packages (from spacy->nlpia) (0.4.1)\n",
            "Requirement already satisfied: murmurhash<1.1.0,>=0.28.0 in /usr/local/lib/python3.6/dist-packages (from spacy->nlpia) (1.0.3)\n",
            "Requirement already satisfied: preshed<3.1.0,>=3.0.2 in /usr/local/lib/python3.6/dist-packages (from spacy->nlpia) (3.0.2)\n",
            "Requirement already satisfied: thinc==7.4.0 in /usr/local/lib/python3.6/dist-packages (from spacy->nlpia) (7.4.0)\n",
            "Requirement already satisfied: pyyaml in /usr/local/lib/python3.6/dist-packages (from keras->nlpia) (3.13)\n",
            "Requirement already satisfied: pytz>=2017.2 in /usr/local/lib/python3.6/dist-packages (from pandas->nlpia) (2018.9)\n",
            "Requirement already satisfied: smart-open>=1.2.1 in /usr/local/lib/python3.6/dist-packages (from gensim->nlpia) (3.0.0)\n",
            "Requirement already satisfied: google-auth<2,>=1.6.3 in /usr/local/lib/python3.6/dist-packages (from tensorboard<3,>=2.3.0->tensorflow->nlpia) (1.17.2)\n",
            "Requirement already satisfied: markdown>=2.6.8 in /usr/local/lib/python3.6/dist-packages (from tensorboard<3,>=2.3.0->tensorflow->nlpia) (3.3.3)\n",
            "Requirement already satisfied: werkzeug>=0.11.15 in /usr/local/lib/python3.6/dist-packages (from tensorboard<3,>=2.3.0->tensorflow->nlpia) (1.0.1)\n",
            "Requirement already satisfied: google-auth-oauthlib<0.5,>=0.4.1 in /usr/local/lib/python3.6/dist-packages (from tensorboard<3,>=2.3.0->tensorflow->nlpia) (0.4.2)\n",
            "Requirement already satisfied: tensorboard-plugin-wit>=1.6.0 in /usr/local/lib/python3.6/dist-packages (from tensorboard<3,>=2.3.0->tensorflow->nlpia) (1.7.0)\n",
            "Requirement already satisfied: text-unidecode>=1.3 in /usr/local/lib/python3.6/dist-packages (from python-slugify->pugnlp->nlpia) (1.3)\n",
            "Requirement already satisfied: tornado>=4.0 in /usr/local/lib/python3.6/dist-packages (from ipykernel->jupyter->nlpia) (5.1.1)\n",
            "Requirement already satisfied: traitlets>=4.1.0 in /usr/local/lib/python3.6/dist-packages (from ipykernel->jupyter->nlpia) (4.3.3)\n",
            "Requirement already satisfied: jupyter-client in /usr/local/lib/python3.6/dist-packages (from ipykernel->jupyter->nlpia) (5.3.5)\n",
            "Requirement already satisfied: ipython>=4.0.0 in /usr/local/lib/python3.6/dist-packages (from ipykernel->jupyter->nlpia) (5.5.0)\n",
            "Requirement already satisfied: prompt-toolkit<2.0.0,>=1.0.0 in /usr/local/lib/python3.6/dist-packages (from jupyter-console->jupyter->nlpia) (1.0.18)\n",
            "Requirement already satisfied: pygments in /usr/local/lib/python3.6/dist-packages (from jupyter-console->jupyter->nlpia) (2.6.1)\n",
            "Requirement already satisfied: widgetsnbextension~=3.5.0 in /usr/local/lib/python3.6/dist-packages (from ipywidgets->jupyter->nlpia) (3.5.1)\n",
            "Requirement already satisfied: nbformat>=4.2.0 in /usr/local/lib/python3.6/dist-packages (from ipywidgets->jupyter->nlpia) (5.0.8)\n",
            "Requirement already satisfied: ipython-genutils in /usr/local/lib/python3.6/dist-packages (from notebook->jupyter->nlpia) (0.2.0)\n",
            "Requirement already satisfied: jinja2 in /usr/local/lib/python3.6/dist-packages (from notebook->jupyter->nlpia) (2.11.2)\n",
            "Requirement already satisfied: Send2Trash in /usr/local/lib/python3.6/dist-packages (from notebook->jupyter->nlpia) (1.5.0)\n",
            "Requirement already satisfied: terminado>=0.8.1 in /usr/local/lib/python3.6/dist-packages (from notebook->jupyter->nlpia) (0.9.1)\n",
            "Requirement already satisfied: jupyter-core>=4.4.0 in /usr/local/lib/python3.6/dist-packages (from notebook->jupyter->nlpia) (4.6.3)\n",
            "Requirement already satisfied: qtpy in /usr/local/lib/python3.6/dist-packages (from qtconsole->jupyter->nlpia) (1.9.0)\n",
            "Requirement already satisfied: pyzmq>=17.1 in /usr/local/lib/python3.6/dist-packages (from qtconsole->jupyter->nlpia) (19.0.2)\n",
            "Requirement already satisfied: entrypoints>=0.2.2 in /usr/local/lib/python3.6/dist-packages (from nbconvert->jupyter->nlpia) (0.3)\n",
            "Requirement already satisfied: bleach in /usr/local/lib/python3.6/dist-packages (from nbconvert->jupyter->nlpia) (3.2.1)\n",
            "Requirement already satisfied: pandocfilters>=1.4.1 in /usr/local/lib/python3.6/dist-packages (from nbconvert->jupyter->nlpia) (1.4.3)\n",
            "Requirement already satisfied: testpath in /usr/local/lib/python3.6/dist-packages (from nbconvert->jupyter->nlpia) (0.4.4)\n",
            "Requirement already satisfied: defusedxml in /usr/local/lib/python3.6/dist-packages (from nbconvert->jupyter->nlpia) (0.6.0)\n",
            "Requirement already satisfied: mistune<2,>=0.8.1 in /usr/local/lib/python3.6/dist-packages (from nbconvert->jupyter->nlpia) (0.8.4)\n",
            "Requirement already satisfied: idna<3,>=2.5 in /usr/local/lib/python3.6/dist-packages (from requests<3.0.0,>=2.13.0->spacy->nlpia) (2.10)\n",
            "Requirement already satisfied: urllib3!=1.25.0,!=1.25.1,<1.26,>=1.21.1 in /usr/local/lib/python3.6/dist-packages (from requests<3.0.0,>=2.13.0->spacy->nlpia) (1.24.3)\n",
            "Requirement already satisfied: certifi>=2017.4.17 in /usr/local/lib/python3.6/dist-packages (from requests<3.0.0,>=2.13.0->spacy->nlpia) (2020.6.20)\n",
            "Requirement already satisfied: chardet<4,>=3.0.2 in /usr/local/lib/python3.6/dist-packages (from requests<3.0.0,>=2.13.0->spacy->nlpia) (3.0.4)\n",
            "Requirement already satisfied: importlib-metadata>=0.20; python_version < \"3.8\" in /usr/local/lib/python3.6/dist-packages (from catalogue<1.1.0,>=0.0.7->spacy->nlpia) (2.0.0)\n",
            "Requirement already satisfied: cachetools<5.0,>=2.0.0 in /usr/local/lib/python3.6/dist-packages (from google-auth<2,>=1.6.3->tensorboard<3,>=2.3.0->tensorflow->nlpia) (4.1.1)\n",
            "Requirement already satisfied: pyasn1-modules>=0.2.1 in /usr/local/lib/python3.6/dist-packages (from google-auth<2,>=1.6.3->tensorboard<3,>=2.3.0->tensorflow->nlpia) (0.2.8)\n",
            "Requirement already satisfied: rsa<5,>=3.1.4; python_version >= \"3\" in /usr/local/lib/python3.6/dist-packages (from google-auth<2,>=1.6.3->tensorboard<3,>=2.3.0->tensorflow->nlpia) (4.6)\n",
            "Requirement already satisfied: requests-oauthlib>=0.7.0 in /usr/local/lib/python3.6/dist-packages (from google-auth-oauthlib<0.5,>=0.4.1->tensorboard<3,>=2.3.0->tensorflow->nlpia) (1.3.0)\n",
            "Requirement already satisfied: decorator in /usr/local/lib/python3.6/dist-packages (from traitlets>=4.1.0->ipykernel->jupyter->nlpia) (4.4.2)\n",
            "Requirement already satisfied: pickleshare in /usr/local/lib/python3.6/dist-packages (from ipython>=4.0.0->ipykernel->jupyter->nlpia) (0.7.5)\n",
            "Requirement already satisfied: simplegeneric>0.8 in /usr/local/lib/python3.6/dist-packages (from ipython>=4.0.0->ipykernel->jupyter->nlpia) (0.8.1)\n",
            "Requirement already satisfied: pexpect; sys_platform != \"win32\" in /usr/local/lib/python3.6/dist-packages (from ipython>=4.0.0->ipykernel->jupyter->nlpia) (4.8.0)\n",
            "Requirement already satisfied: wcwidth in /usr/local/lib/python3.6/dist-packages (from prompt-toolkit<2.0.0,>=1.0.0->jupyter-console->jupyter->nlpia) (0.2.5)\n",
            "Requirement already satisfied: jsonschema!=2.5.0,>=2.4 in /usr/local/lib/python3.6/dist-packages (from nbformat>=4.2.0->ipywidgets->jupyter->nlpia) (2.6.0)\n",
            "Requirement already satisfied: MarkupSafe>=0.23 in /usr/local/lib/python3.6/dist-packages (from jinja2->notebook->jupyter->nlpia) (1.1.1)\n",
            "Requirement already satisfied: ptyprocess; os_name != \"nt\" in /usr/local/lib/python3.6/dist-packages (from terminado>=0.8.1->notebook->jupyter->nlpia) (0.6.0)\n",
            "Requirement already satisfied: packaging in /usr/local/lib/python3.6/dist-packages (from bleach->nbconvert->jupyter->nlpia) (20.4)\n",
            "Requirement already satisfied: zipp>=0.5 in /usr/local/lib/python3.6/dist-packages (from importlib-metadata>=0.20; python_version < \"3.8\"->catalogue<1.1.0,>=0.0.7->spacy->nlpia) (3.4.0)\n",
            "Requirement already satisfied: pyasn1<0.5.0,>=0.4.6 in /usr/local/lib/python3.6/dist-packages (from pyasn1-modules>=0.2.1->google-auth<2,>=1.6.3->tensorboard<3,>=2.3.0->tensorflow->nlpia) (0.4.8)\n",
            "Requirement already satisfied: oauthlib>=3.0.0 in /usr/local/lib/python3.6/dist-packages (from requests-oauthlib>=0.7.0->google-auth-oauthlib<0.5,>=0.4.1->tensorboard<3,>=2.3.0->tensorflow->nlpia) (3.1.0)\n",
            "Building wheels for collected packages: pypandoc, python-Levenshtein\n",
            "  Building wheel for pypandoc (setup.py) ... \u001b[?25l\u001b[?25hdone\n",
            "  Created wheel for pypandoc: filename=pypandoc-1.5-cp36-none-any.whl size=17038 sha256=65bc63a4c62abd0cb50a0927c5053018deca5f230815f95c3cf54d3e776db7cd\n",
            "  Stored in directory: /root/.cache/pip/wheels/bb/7d/d6/2f9af55e800d37e42e546106bcbd36a86e24e725e303d17e04\n",
            "  Building wheel for python-Levenshtein (setup.py) ... \u001b[?25l\u001b[?25hdone\n",
            "  Created wheel for python-Levenshtein: filename=python_Levenshtein-0.12.0-cp36-cp36m-linux_x86_64.whl size=144789 sha256=bf8fbc9a43e0acdd92fcdf6a8921314af7b23831632674ef5158d17900eb0e51\n",
            "  Stored in directory: /root/.cache/pip/wheels/de/c2/93/660fd5f7559049268ad2dc6d81c4e39e9e36518766eaf7e342\n",
            "Successfully built pypandoc python-Levenshtein\n",
            "Installing collected packages: pypandoc, html2text, fuzzywuzzy, python-Levenshtein, pugnlp, nlpia\n",
            "Successfully installed fuzzywuzzy-0.18.0 html2text-2020.1.16 nlpia-0.5.2 pugnlp-0.2.6 pypandoc-1.5 python-Levenshtein-0.12.0\n"
          ],
          "name": "stdout"
        }
      ]
    },
    {
      "cell_type": "code",
      "metadata": {
        "colab": {
          "base_uri": "https://localhost:8080/"
        },
        "id": "xg--Y2F2LHVr",
        "outputId": "6b0c9e3b-25f1-40d3-e98a-0a4474d4e090"
      },
      "source": [
        "from nlpia.book.examples.ch04_catdog_lsa_sorted import lsa_models, prettify_tdm"
      ],
      "execution_count": null,
      "outputs": [
        {
          "output_type": "stream",
          "text": [
            "/usr/local/lib/python3.6/dist-packages/pugnlp/constants.py:158: FutureWarning: The pandas.datetime class is deprecated and will be removed from pandas in a future version. Import from datetime instead.\n",
            "  MIN_TIMESTAMP = pd.Timestamp(pd.datetime(1677, 9, 22, 0, 12, 44), tz='utc')\n",
            "/usr/local/lib/python3.6/dist-packages/nlpia/futil.py:421: FutureWarning: The pandas.np module is deprecated and will be removed from pandas in a future version. Import numpy directly instead\n",
            "  lines = np.empty(dtype=object, shape=nrows)\n",
            "100%|██████████| 263/263 [00:00<00:00, 124757.06it/s]\n"
          ],
          "name": "stderr"
        }
      ]
    },
    {
      "cell_type": "code",
      "metadata": {
        "colab": {
          "base_uri": "https://localhost:8080/"
        },
        "id": "CA2afMv-Ldrz",
        "outputId": "89dd9a39-6bb4-49a3-d646-9d98afefdae2"
      },
      "source": [
        "bow_svd, tfidf_svd = lsa_models()"
      ],
      "execution_count": null,
      "outputs": [
        {
          "output_type": "stream",
          "text": [
            "/usr/local/lib/python3.6/dist-packages/nlpia/futil.py:421: FutureWarning: The pandas.np module is deprecated and will be removed from pandas in a future version. Import numpy directly instead\n",
            "  lines = np.empty(dtype=object, shape=nrows)\n",
            "100%|██████████| 263/263 [00:00<00:00, 195689.54it/s]\n"
          ],
          "name": "stderr"
        }
      ]
    },
    {
      "cell_type": "code",
      "metadata": {
        "colab": {
          "base_uri": "https://localhost:8080/",
          "height": 390
        },
        "id": "hqdW4SalLrNi",
        "outputId": "0adeb9d1-334d-4dd7-8ca6-7ee91713d707"
      },
      "source": [
        "prettify_tdm(**bow_svd)"
      ],
      "execution_count": null,
      "outputs": [
        {
          "output_type": "execute_result",
          "data": {
            "text/html": [
              "<div>\n",
              "<style scoped>\n",
              "    .dataframe tbody tr th:only-of-type {\n",
              "        vertical-align: middle;\n",
              "    }\n",
              "\n",
              "    .dataframe tbody tr th {\n",
              "        vertical-align: top;\n",
              "    }\n",
              "\n",
              "    .dataframe thead th {\n",
              "        text-align: right;\n",
              "    }\n",
              "</style>\n",
              "<table border=\"1\" class=\"dataframe\">\n",
              "  <thead>\n",
              "    <tr style=\"text-align: right;\">\n",
              "      <th></th>\n",
              "      <th>cat</th>\n",
              "      <th>dog</th>\n",
              "      <th>apple</th>\n",
              "      <th>lion</th>\n",
              "      <th>nyc</th>\n",
              "      <th>love</th>\n",
              "      <th>text</th>\n",
              "    </tr>\n",
              "  </thead>\n",
              "  <tbody>\n",
              "    <tr>\n",
              "      <th>0</th>\n",
              "      <td></td>\n",
              "      <td></td>\n",
              "      <td>1</td>\n",
              "      <td></td>\n",
              "      <td>1</td>\n",
              "      <td></td>\n",
              "      <td>NYC is the Big Apple.</td>\n",
              "    </tr>\n",
              "    <tr>\n",
              "      <th>1</th>\n",
              "      <td></td>\n",
              "      <td></td>\n",
              "      <td>1</td>\n",
              "      <td></td>\n",
              "      <td>1</td>\n",
              "      <td></td>\n",
              "      <td>NYC is known as the Big Apple.</td>\n",
              "    </tr>\n",
              "    <tr>\n",
              "      <th>2</th>\n",
              "      <td></td>\n",
              "      <td></td>\n",
              "      <td></td>\n",
              "      <td></td>\n",
              "      <td>1</td>\n",
              "      <td>1</td>\n",
              "      <td>I love NYC!</td>\n",
              "    </tr>\n",
              "    <tr>\n",
              "      <th>3</th>\n",
              "      <td></td>\n",
              "      <td></td>\n",
              "      <td>1</td>\n",
              "      <td></td>\n",
              "      <td>1</td>\n",
              "      <td></td>\n",
              "      <td>I wore a hat to the Big Apple party in NYC.</td>\n",
              "    </tr>\n",
              "    <tr>\n",
              "      <th>4</th>\n",
              "      <td></td>\n",
              "      <td></td>\n",
              "      <td>1</td>\n",
              "      <td></td>\n",
              "      <td>1</td>\n",
              "      <td></td>\n",
              "      <td>Come to NYC. See the Big Apple!</td>\n",
              "    </tr>\n",
              "    <tr>\n",
              "      <th>5</th>\n",
              "      <td></td>\n",
              "      <td></td>\n",
              "      <td>1</td>\n",
              "      <td></td>\n",
              "      <td></td>\n",
              "      <td></td>\n",
              "      <td>Manhattan is called the Big Apple.</td>\n",
              "    </tr>\n",
              "    <tr>\n",
              "      <th>6</th>\n",
              "      <td>1</td>\n",
              "      <td></td>\n",
              "      <td></td>\n",
              "      <td></td>\n",
              "      <td></td>\n",
              "      <td></td>\n",
              "      <td>New York is a big city for a small cat.</td>\n",
              "    </tr>\n",
              "    <tr>\n",
              "      <th>7</th>\n",
              "      <td>1</td>\n",
              "      <td></td>\n",
              "      <td></td>\n",
              "      <td>1</td>\n",
              "      <td></td>\n",
              "      <td></td>\n",
              "      <td>The lion, a big cat, is the king of the jungle.</td>\n",
              "    </tr>\n",
              "    <tr>\n",
              "      <th>8</th>\n",
              "      <td>1</td>\n",
              "      <td></td>\n",
              "      <td></td>\n",
              "      <td></td>\n",
              "      <td></td>\n",
              "      <td>1</td>\n",
              "      <td>I love my pet cat.</td>\n",
              "    </tr>\n",
              "    <tr>\n",
              "      <th>9</th>\n",
              "      <td></td>\n",
              "      <td></td>\n",
              "      <td></td>\n",
              "      <td></td>\n",
              "      <td>1</td>\n",
              "      <td>1</td>\n",
              "      <td>I love New York City (NYC).</td>\n",
              "    </tr>\n",
              "    <tr>\n",
              "      <th>10</th>\n",
              "      <td>1</td>\n",
              "      <td>1</td>\n",
              "      <td></td>\n",
              "      <td></td>\n",
              "      <td></td>\n",
              "      <td></td>\n",
              "      <td>Your dog chased my cat.</td>\n",
              "    </tr>\n",
              "  </tbody>\n",
              "</table>\n",
              "</div>"
            ],
            "text/plain": [
              "   cat dog apple lion nyc love                                             text\n",
              "0              1        1                                 NYC is the Big Apple.\n",
              "1              1        1                        NYC is known as the Big Apple.\n",
              "2                       1    1                                      I love NYC!\n",
              "3              1        1           I wore a hat to the Big Apple party in NYC.\n",
              "4              1        1                       Come to NYC. See the Big Apple!\n",
              "5              1                             Manhattan is called the Big Apple.\n",
              "6    1                                  New York is a big city for a small cat.\n",
              "7    1              1           The lion, a big cat, is the king of the jungle.\n",
              "8    1                       1                               I love my pet cat.\n",
              "9                       1    1                      I love New York City (NYC).\n",
              "10   1   1                                              Your dog chased my cat."
            ]
          },
          "metadata": {
            "tags": []
          },
          "execution_count": 4
        }
      ]
    },
    {
      "cell_type": "code",
      "metadata": {
        "id": "QRrrBmO-L0hR"
      },
      "source": [
        "tdm = bow_svd['tdm']"
      ],
      "execution_count": null,
      "outputs": []
    },
    {
      "cell_type": "code",
      "metadata": {
        "colab": {
          "base_uri": "https://localhost:8080/",
          "height": 235
        },
        "id": "GGCalzXIODTc",
        "outputId": "ca076e9b-0b6c-427d-bcee-b37dd350048a"
      },
      "source": [
        "tdm"
      ],
      "execution_count": null,
      "outputs": [
        {
          "output_type": "execute_result",
          "data": {
            "text/html": [
              "<div>\n",
              "<style scoped>\n",
              "    .dataframe tbody tr th:only-of-type {\n",
              "        vertical-align: middle;\n",
              "    }\n",
              "\n",
              "    .dataframe tbody tr th {\n",
              "        vertical-align: top;\n",
              "    }\n",
              "\n",
              "    .dataframe thead th {\n",
              "        text-align: right;\n",
              "    }\n",
              "</style>\n",
              "<table border=\"1\" class=\"dataframe\">\n",
              "  <thead>\n",
              "    <tr style=\"text-align: right;\">\n",
              "      <th></th>\n",
              "      <th>0</th>\n",
              "      <th>1</th>\n",
              "      <th>2</th>\n",
              "      <th>3</th>\n",
              "      <th>4</th>\n",
              "      <th>5</th>\n",
              "      <th>6</th>\n",
              "      <th>7</th>\n",
              "      <th>8</th>\n",
              "      <th>9</th>\n",
              "      <th>10</th>\n",
              "    </tr>\n",
              "  </thead>\n",
              "  <tbody>\n",
              "    <tr>\n",
              "      <th>cat</th>\n",
              "      <td>0</td>\n",
              "      <td>0</td>\n",
              "      <td>0</td>\n",
              "      <td>0</td>\n",
              "      <td>0</td>\n",
              "      <td>0</td>\n",
              "      <td>1</td>\n",
              "      <td>1</td>\n",
              "      <td>1</td>\n",
              "      <td>0</td>\n",
              "      <td>1</td>\n",
              "    </tr>\n",
              "    <tr>\n",
              "      <th>dog</th>\n",
              "      <td>0</td>\n",
              "      <td>0</td>\n",
              "      <td>0</td>\n",
              "      <td>0</td>\n",
              "      <td>0</td>\n",
              "      <td>0</td>\n",
              "      <td>0</td>\n",
              "      <td>0</td>\n",
              "      <td>0</td>\n",
              "      <td>0</td>\n",
              "      <td>1</td>\n",
              "    </tr>\n",
              "    <tr>\n",
              "      <th>apple</th>\n",
              "      <td>1</td>\n",
              "      <td>1</td>\n",
              "      <td>0</td>\n",
              "      <td>1</td>\n",
              "      <td>1</td>\n",
              "      <td>1</td>\n",
              "      <td>0</td>\n",
              "      <td>0</td>\n",
              "      <td>0</td>\n",
              "      <td>0</td>\n",
              "      <td>0</td>\n",
              "    </tr>\n",
              "    <tr>\n",
              "      <th>lion</th>\n",
              "      <td>0</td>\n",
              "      <td>0</td>\n",
              "      <td>0</td>\n",
              "      <td>0</td>\n",
              "      <td>0</td>\n",
              "      <td>0</td>\n",
              "      <td>0</td>\n",
              "      <td>1</td>\n",
              "      <td>0</td>\n",
              "      <td>0</td>\n",
              "      <td>0</td>\n",
              "    </tr>\n",
              "    <tr>\n",
              "      <th>nyc</th>\n",
              "      <td>1</td>\n",
              "      <td>1</td>\n",
              "      <td>1</td>\n",
              "      <td>1</td>\n",
              "      <td>1</td>\n",
              "      <td>0</td>\n",
              "      <td>0</td>\n",
              "      <td>0</td>\n",
              "      <td>0</td>\n",
              "      <td>1</td>\n",
              "      <td>0</td>\n",
              "    </tr>\n",
              "    <tr>\n",
              "      <th>love</th>\n",
              "      <td>0</td>\n",
              "      <td>0</td>\n",
              "      <td>1</td>\n",
              "      <td>0</td>\n",
              "      <td>0</td>\n",
              "      <td>0</td>\n",
              "      <td>0</td>\n",
              "      <td>0</td>\n",
              "      <td>1</td>\n",
              "      <td>1</td>\n",
              "      <td>0</td>\n",
              "    </tr>\n",
              "  </tbody>\n",
              "</table>\n",
              "</div>"
            ],
            "text/plain": [
              "       0   1   2   3   4   5   6   7   8   9   10\n",
              "cat     0   0   0   0   0   0   1   1   1   0   1\n",
              "dog     0   0   0   0   0   0   0   0   0   0   1\n",
              "apple   1   1   0   1   1   1   0   0   0   0   0\n",
              "lion    0   0   0   0   0   0   0   1   0   0   0\n",
              "nyc     1   1   1   1   1   0   0   0   0   1   0\n",
              "love    0   0   1   0   0   0   0   0   1   1   0"
            ]
          },
          "metadata": {
            "tags": []
          },
          "execution_count": 6
        }
      ]
    },
    {
      "cell_type": "code",
      "metadata": {
        "id": "bT8Q6OG6OElN"
      },
      "source": [
        "import numpy as np"
      ],
      "execution_count": null,
      "outputs": []
    },
    {
      "cell_type": "code",
      "metadata": {
        "id": "G71VivcA4O1L"
      },
      "source": [
        "U, s, Vt = np.linalg.svd(tdm)"
      ],
      "execution_count": null,
      "outputs": []
    },
    {
      "cell_type": "code",
      "metadata": {
        "id": "kkfHB1R64WxJ"
      },
      "source": [
        "import pandas as pd"
      ],
      "execution_count": null,
      "outputs": []
    },
    {
      "cell_type": "code",
      "metadata": {
        "colab": {
          "base_uri": "https://localhost:8080/",
          "height": 235
        },
        "id": "6td3VufY4cjI",
        "outputId": "3591671b-c5df-4135-d611-3af814ffbf69"
      },
      "source": [
        "pd.DataFrame(U, index=tdm.index).round(2)"
      ],
      "execution_count": null,
      "outputs": [
        {
          "output_type": "execute_result",
          "data": {
            "text/html": [
              "<div>\n",
              "<style scoped>\n",
              "    .dataframe tbody tr th:only-of-type {\n",
              "        vertical-align: middle;\n",
              "    }\n",
              "\n",
              "    .dataframe tbody tr th {\n",
              "        vertical-align: top;\n",
              "    }\n",
              "\n",
              "    .dataframe thead th {\n",
              "        text-align: right;\n",
              "    }\n",
              "</style>\n",
              "<table border=\"1\" class=\"dataframe\">\n",
              "  <thead>\n",
              "    <tr style=\"text-align: right;\">\n",
              "      <th></th>\n",
              "      <th>0</th>\n",
              "      <th>1</th>\n",
              "      <th>2</th>\n",
              "      <th>3</th>\n",
              "      <th>4</th>\n",
              "      <th>5</th>\n",
              "    </tr>\n",
              "  </thead>\n",
              "  <tbody>\n",
              "    <tr>\n",
              "      <th>cat</th>\n",
              "      <td>-0.04</td>\n",
              "      <td>0.83</td>\n",
              "      <td>-0.38</td>\n",
              "      <td>-0.00</td>\n",
              "      <td>0.11</td>\n",
              "      <td>-0.38</td>\n",
              "    </tr>\n",
              "    <tr>\n",
              "      <th>dog</th>\n",
              "      <td>-0.00</td>\n",
              "      <td>0.21</td>\n",
              "      <td>-0.18</td>\n",
              "      <td>-0.71</td>\n",
              "      <td>-0.39</td>\n",
              "      <td>0.52</td>\n",
              "    </tr>\n",
              "    <tr>\n",
              "      <th>apple</th>\n",
              "      <td>-0.62</td>\n",
              "      <td>-0.21</td>\n",
              "      <td>-0.51</td>\n",
              "      <td>0.00</td>\n",
              "      <td>0.49</td>\n",
              "      <td>0.27</td>\n",
              "    </tr>\n",
              "    <tr>\n",
              "      <th>lion</th>\n",
              "      <td>-0.00</td>\n",
              "      <td>0.21</td>\n",
              "      <td>-0.18</td>\n",
              "      <td>0.71</td>\n",
              "      <td>-0.39</td>\n",
              "      <td>0.52</td>\n",
              "    </tr>\n",
              "    <tr>\n",
              "      <th>nyc</th>\n",
              "      <td>-0.75</td>\n",
              "      <td>0.00</td>\n",
              "      <td>0.24</td>\n",
              "      <td>-0.00</td>\n",
              "      <td>-0.52</td>\n",
              "      <td>-0.32</td>\n",
              "    </tr>\n",
              "    <tr>\n",
              "      <th>love</th>\n",
              "      <td>-0.22</td>\n",
              "      <td>0.42</td>\n",
              "      <td>0.69</td>\n",
              "      <td>0.00</td>\n",
              "      <td>0.41</td>\n",
              "      <td>0.37</td>\n",
              "    </tr>\n",
              "  </tbody>\n",
              "</table>\n",
              "</div>"
            ],
            "text/plain": [
              "          0     1     2     3     4     5\n",
              "cat   -0.04  0.83 -0.38 -0.00  0.11 -0.38\n",
              "dog   -0.00  0.21 -0.18 -0.71 -0.39  0.52\n",
              "apple -0.62 -0.21 -0.51  0.00  0.49  0.27\n",
              "lion  -0.00  0.21 -0.18  0.71 -0.39  0.52\n",
              "nyc   -0.75  0.00  0.24 -0.00 -0.52 -0.32\n",
              "love  -0.22  0.42  0.69  0.00  0.41  0.37"
            ]
          },
          "metadata": {
            "tags": []
          },
          "execution_count": 10
        }
      ]
    },
    {
      "cell_type": "code",
      "metadata": {
        "colab": {
          "base_uri": "https://localhost:8080/"
        },
        "id": "rj-GG8l04oC4",
        "outputId": "213e2122-e2b8-49ee-92f3-9a8e54eb3d21"
      },
      "source": [
        "s.round(1)"
      ],
      "execution_count": null,
      "outputs": [
        {
          "output_type": "execute_result",
          "data": {
            "text/plain": [
              "array([3.1, 2.2, 1.8, 1. , 0.8, 0.5])"
            ]
          },
          "metadata": {
            "tags": []
          },
          "execution_count": 11
        }
      ]
    },
    {
      "cell_type": "code",
      "metadata": {
        "id": "uz-i3LF49dbX"
      },
      "source": [
        "S = np.zeros((len(U), len(Vt)))"
      ],
      "execution_count": null,
      "outputs": []
    },
    {
      "cell_type": "code",
      "metadata": {
        "colab": {
          "base_uri": "https://localhost:8080/"
        },
        "id": "T-3u70Gv9qNO",
        "outputId": "4f69f4df-cbad-4a28-9b48-1658082facc9"
      },
      "source": [
        "pd.np.fill_diagonal(S, s)"
      ],
      "execution_count": null,
      "outputs": [
        {
          "output_type": "stream",
          "text": [
            "/usr/local/lib/python3.6/dist-packages/ipykernel_launcher.py:1: FutureWarning: The pandas.np module is deprecated and will be removed from pandas in a future version. Import numpy directly instead\n",
            "  \"\"\"Entry point for launching an IPython kernel.\n"
          ],
          "name": "stderr"
        }
      ]
    },
    {
      "cell_type": "code",
      "metadata": {
        "colab": {
          "base_uri": "https://localhost:8080/"
        },
        "id": "YCVDPbmWKCzW",
        "outputId": "519e221b-f88b-40f5-ff89-01c382935034"
      },
      "source": [
        "len(s)"
      ],
      "execution_count": null,
      "outputs": [
        {
          "output_type": "execute_result",
          "data": {
            "text/plain": [
              "6"
            ]
          },
          "metadata": {
            "tags": []
          },
          "execution_count": 15
        }
      ]
    },
    {
      "cell_type": "code",
      "metadata": {
        "colab": {
          "base_uri": "https://localhost:8080/",
          "height": 235
        },
        "id": "u-FDizjp94E-",
        "outputId": "72d34414-4fe9-4743-dccd-520d22d08eea"
      },
      "source": [
        "pd.DataFrame(S).round(1)"
      ],
      "execution_count": null,
      "outputs": [
        {
          "output_type": "execute_result",
          "data": {
            "text/html": [
              "<div>\n",
              "<style scoped>\n",
              "    .dataframe tbody tr th:only-of-type {\n",
              "        vertical-align: middle;\n",
              "    }\n",
              "\n",
              "    .dataframe tbody tr th {\n",
              "        vertical-align: top;\n",
              "    }\n",
              "\n",
              "    .dataframe thead th {\n",
              "        text-align: right;\n",
              "    }\n",
              "</style>\n",
              "<table border=\"1\" class=\"dataframe\">\n",
              "  <thead>\n",
              "    <tr style=\"text-align: right;\">\n",
              "      <th></th>\n",
              "      <th>0</th>\n",
              "      <th>1</th>\n",
              "      <th>2</th>\n",
              "      <th>3</th>\n",
              "      <th>4</th>\n",
              "      <th>5</th>\n",
              "      <th>6</th>\n",
              "      <th>7</th>\n",
              "      <th>8</th>\n",
              "      <th>9</th>\n",
              "      <th>10</th>\n",
              "    </tr>\n",
              "  </thead>\n",
              "  <tbody>\n",
              "    <tr>\n",
              "      <th>0</th>\n",
              "      <td>3.1</td>\n",
              "      <td>0.0</td>\n",
              "      <td>0.0</td>\n",
              "      <td>0.0</td>\n",
              "      <td>0.0</td>\n",
              "      <td>0.0</td>\n",
              "      <td>0.0</td>\n",
              "      <td>0.0</td>\n",
              "      <td>0.0</td>\n",
              "      <td>0.0</td>\n",
              "      <td>0.0</td>\n",
              "    </tr>\n",
              "    <tr>\n",
              "      <th>1</th>\n",
              "      <td>0.0</td>\n",
              "      <td>2.2</td>\n",
              "      <td>0.0</td>\n",
              "      <td>0.0</td>\n",
              "      <td>0.0</td>\n",
              "      <td>0.0</td>\n",
              "      <td>0.0</td>\n",
              "      <td>0.0</td>\n",
              "      <td>0.0</td>\n",
              "      <td>0.0</td>\n",
              "      <td>0.0</td>\n",
              "    </tr>\n",
              "    <tr>\n",
              "      <th>2</th>\n",
              "      <td>0.0</td>\n",
              "      <td>0.0</td>\n",
              "      <td>1.8</td>\n",
              "      <td>0.0</td>\n",
              "      <td>0.0</td>\n",
              "      <td>0.0</td>\n",
              "      <td>0.0</td>\n",
              "      <td>0.0</td>\n",
              "      <td>0.0</td>\n",
              "      <td>0.0</td>\n",
              "      <td>0.0</td>\n",
              "    </tr>\n",
              "    <tr>\n",
              "      <th>3</th>\n",
              "      <td>0.0</td>\n",
              "      <td>0.0</td>\n",
              "      <td>0.0</td>\n",
              "      <td>1.0</td>\n",
              "      <td>0.0</td>\n",
              "      <td>0.0</td>\n",
              "      <td>0.0</td>\n",
              "      <td>0.0</td>\n",
              "      <td>0.0</td>\n",
              "      <td>0.0</td>\n",
              "      <td>0.0</td>\n",
              "    </tr>\n",
              "    <tr>\n",
              "      <th>4</th>\n",
              "      <td>0.0</td>\n",
              "      <td>0.0</td>\n",
              "      <td>0.0</td>\n",
              "      <td>0.0</td>\n",
              "      <td>0.8</td>\n",
              "      <td>0.0</td>\n",
              "      <td>0.0</td>\n",
              "      <td>0.0</td>\n",
              "      <td>0.0</td>\n",
              "      <td>0.0</td>\n",
              "      <td>0.0</td>\n",
              "    </tr>\n",
              "    <tr>\n",
              "      <th>5</th>\n",
              "      <td>0.0</td>\n",
              "      <td>0.0</td>\n",
              "      <td>0.0</td>\n",
              "      <td>0.0</td>\n",
              "      <td>0.0</td>\n",
              "      <td>0.5</td>\n",
              "      <td>0.0</td>\n",
              "      <td>0.0</td>\n",
              "      <td>0.0</td>\n",
              "      <td>0.0</td>\n",
              "      <td>0.0</td>\n",
              "    </tr>\n",
              "  </tbody>\n",
              "</table>\n",
              "</div>"
            ],
            "text/plain": [
              "    0    1    2    3    4    5    6    7    8    9    10\n",
              "0  3.1  0.0  0.0  0.0  0.0  0.0  0.0  0.0  0.0  0.0  0.0\n",
              "1  0.0  2.2  0.0  0.0  0.0  0.0  0.0  0.0  0.0  0.0  0.0\n",
              "2  0.0  0.0  1.8  0.0  0.0  0.0  0.0  0.0  0.0  0.0  0.0\n",
              "3  0.0  0.0  0.0  1.0  0.0  0.0  0.0  0.0  0.0  0.0  0.0\n",
              "4  0.0  0.0  0.0  0.0  0.8  0.0  0.0  0.0  0.0  0.0  0.0\n",
              "5  0.0  0.0  0.0  0.0  0.0  0.5  0.0  0.0  0.0  0.0  0.0"
            ]
          },
          "metadata": {
            "tags": []
          },
          "execution_count": 16
        }
      ]
    },
    {
      "cell_type": "code",
      "metadata": {
        "colab": {
          "base_uri": "https://localhost:8080/",
          "height": 390
        },
        "id": "YVUrsPl3-LEe",
        "outputId": "c32adfc5-4473-44b4-8d96-a80a5f18e09a"
      },
      "source": [
        "pd.DataFrame(Vt).round(2)"
      ],
      "execution_count": null,
      "outputs": [
        {
          "output_type": "execute_result",
          "data": {
            "text/html": [
              "<div>\n",
              "<style scoped>\n",
              "    .dataframe tbody tr th:only-of-type {\n",
              "        vertical-align: middle;\n",
              "    }\n",
              "\n",
              "    .dataframe tbody tr th {\n",
              "        vertical-align: top;\n",
              "    }\n",
              "\n",
              "    .dataframe thead th {\n",
              "        text-align: right;\n",
              "    }\n",
              "</style>\n",
              "<table border=\"1\" class=\"dataframe\">\n",
              "  <thead>\n",
              "    <tr style=\"text-align: right;\">\n",
              "      <th></th>\n",
              "      <th>0</th>\n",
              "      <th>1</th>\n",
              "      <th>2</th>\n",
              "      <th>3</th>\n",
              "      <th>4</th>\n",
              "      <th>5</th>\n",
              "      <th>6</th>\n",
              "      <th>7</th>\n",
              "      <th>8</th>\n",
              "      <th>9</th>\n",
              "      <th>10</th>\n",
              "    </tr>\n",
              "  </thead>\n",
              "  <tbody>\n",
              "    <tr>\n",
              "      <th>0</th>\n",
              "      <td>-0.44</td>\n",
              "      <td>-0.44</td>\n",
              "      <td>-0.31</td>\n",
              "      <td>-0.44</td>\n",
              "      <td>-0.44</td>\n",
              "      <td>-0.20</td>\n",
              "      <td>-0.01</td>\n",
              "      <td>-0.01</td>\n",
              "      <td>-0.08</td>\n",
              "      <td>-0.31</td>\n",
              "      <td>-0.01</td>\n",
              "    </tr>\n",
              "    <tr>\n",
              "      <th>1</th>\n",
              "      <td>-0.09</td>\n",
              "      <td>-0.09</td>\n",
              "      <td>0.19</td>\n",
              "      <td>-0.09</td>\n",
              "      <td>-0.09</td>\n",
              "      <td>-0.09</td>\n",
              "      <td>0.37</td>\n",
              "      <td>0.47</td>\n",
              "      <td>0.56</td>\n",
              "      <td>0.19</td>\n",
              "      <td>0.47</td>\n",
              "    </tr>\n",
              "    <tr>\n",
              "      <th>2</th>\n",
              "      <td>-0.16</td>\n",
              "      <td>-0.16</td>\n",
              "      <td>0.52</td>\n",
              "      <td>-0.16</td>\n",
              "      <td>-0.16</td>\n",
              "      <td>-0.29</td>\n",
              "      <td>-0.22</td>\n",
              "      <td>-0.32</td>\n",
              "      <td>0.17</td>\n",
              "      <td>0.52</td>\n",
              "      <td>-0.32</td>\n",
              "    </tr>\n",
              "    <tr>\n",
              "      <th>3</th>\n",
              "      <td>0.00</td>\n",
              "      <td>-0.00</td>\n",
              "      <td>-0.00</td>\n",
              "      <td>0.00</td>\n",
              "      <td>0.00</td>\n",
              "      <td>0.00</td>\n",
              "      <td>-0.00</td>\n",
              "      <td>0.71</td>\n",
              "      <td>-0.00</td>\n",
              "      <td>-0.00</td>\n",
              "      <td>-0.71</td>\n",
              "    </tr>\n",
              "    <tr>\n",
              "      <th>4</th>\n",
              "      <td>-0.04</td>\n",
              "      <td>-0.04</td>\n",
              "      <td>-0.14</td>\n",
              "      <td>-0.04</td>\n",
              "      <td>-0.04</td>\n",
              "      <td>0.58</td>\n",
              "      <td>0.13</td>\n",
              "      <td>-0.33</td>\n",
              "      <td>0.62</td>\n",
              "      <td>-0.14</td>\n",
              "      <td>-0.33</td>\n",
              "    </tr>\n",
              "    <tr>\n",
              "      <th>5</th>\n",
              "      <td>-0.09</td>\n",
              "      <td>-0.09</td>\n",
              "      <td>0.10</td>\n",
              "      <td>-0.09</td>\n",
              "      <td>-0.09</td>\n",
              "      <td>0.51</td>\n",
              "      <td>-0.73</td>\n",
              "      <td>0.27</td>\n",
              "      <td>-0.01</td>\n",
              "      <td>0.10</td>\n",
              "      <td>0.27</td>\n",
              "    </tr>\n",
              "    <tr>\n",
              "      <th>6</th>\n",
              "      <td>-0.57</td>\n",
              "      <td>0.21</td>\n",
              "      <td>0.11</td>\n",
              "      <td>0.33</td>\n",
              "      <td>-0.31</td>\n",
              "      <td>0.34</td>\n",
              "      <td>0.34</td>\n",
              "      <td>0.00</td>\n",
              "      <td>-0.34</td>\n",
              "      <td>0.23</td>\n",
              "      <td>0.00</td>\n",
              "    </tr>\n",
              "    <tr>\n",
              "      <th>7</th>\n",
              "      <td>-0.32</td>\n",
              "      <td>0.47</td>\n",
              "      <td>0.25</td>\n",
              "      <td>-0.63</td>\n",
              "      <td>0.41</td>\n",
              "      <td>0.07</td>\n",
              "      <td>0.07</td>\n",
              "      <td>0.00</td>\n",
              "      <td>-0.07</td>\n",
              "      <td>-0.18</td>\n",
              "      <td>0.00</td>\n",
              "    </tr>\n",
              "    <tr>\n",
              "      <th>8</th>\n",
              "      <td>-0.50</td>\n",
              "      <td>0.29</td>\n",
              "      <td>-0.20</td>\n",
              "      <td>0.41</td>\n",
              "      <td>0.16</td>\n",
              "      <td>-0.37</td>\n",
              "      <td>-0.37</td>\n",
              "      <td>-0.00</td>\n",
              "      <td>0.37</td>\n",
              "      <td>-0.17</td>\n",
              "      <td>0.00</td>\n",
              "    </tr>\n",
              "    <tr>\n",
              "      <th>9</th>\n",
              "      <td>-0.15</td>\n",
              "      <td>-0.15</td>\n",
              "      <td>-0.59</td>\n",
              "      <td>-0.15</td>\n",
              "      <td>0.42</td>\n",
              "      <td>0.04</td>\n",
              "      <td>0.04</td>\n",
              "      <td>-0.00</td>\n",
              "      <td>-0.04</td>\n",
              "      <td>0.63</td>\n",
              "      <td>-0.00</td>\n",
              "    </tr>\n",
              "    <tr>\n",
              "      <th>10</th>\n",
              "      <td>-0.26</td>\n",
              "      <td>-0.62</td>\n",
              "      <td>0.33</td>\n",
              "      <td>0.24</td>\n",
              "      <td>0.54</td>\n",
              "      <td>0.09</td>\n",
              "      <td>0.09</td>\n",
              "      <td>0.00</td>\n",
              "      <td>-0.09</td>\n",
              "      <td>-0.23</td>\n",
              "      <td>-0.00</td>\n",
              "    </tr>\n",
              "  </tbody>\n",
              "</table>\n",
              "</div>"
            ],
            "text/plain": [
              "      0     1     2     3     4     5     6     7     8     9     10\n",
              "0  -0.44 -0.44 -0.31 -0.44 -0.44 -0.20 -0.01 -0.01 -0.08 -0.31 -0.01\n",
              "1  -0.09 -0.09  0.19 -0.09 -0.09 -0.09  0.37  0.47  0.56  0.19  0.47\n",
              "2  -0.16 -0.16  0.52 -0.16 -0.16 -0.29 -0.22 -0.32  0.17  0.52 -0.32\n",
              "3   0.00 -0.00 -0.00  0.00  0.00  0.00 -0.00  0.71 -0.00 -0.00 -0.71\n",
              "4  -0.04 -0.04 -0.14 -0.04 -0.04  0.58  0.13 -0.33  0.62 -0.14 -0.33\n",
              "5  -0.09 -0.09  0.10 -0.09 -0.09  0.51 -0.73  0.27 -0.01  0.10  0.27\n",
              "6  -0.57  0.21  0.11  0.33 -0.31  0.34  0.34  0.00 -0.34  0.23  0.00\n",
              "7  -0.32  0.47  0.25 -0.63  0.41  0.07  0.07  0.00 -0.07 -0.18  0.00\n",
              "8  -0.50  0.29 -0.20  0.41  0.16 -0.37 -0.37 -0.00  0.37 -0.17  0.00\n",
              "9  -0.15 -0.15 -0.59 -0.15  0.42  0.04  0.04 -0.00 -0.04  0.63 -0.00\n",
              "10 -0.26 -0.62  0.33  0.24  0.54  0.09  0.09  0.00 -0.09 -0.23 -0.00"
            ]
          },
          "metadata": {
            "tags": []
          },
          "execution_count": 17
        }
      ]
    },
    {
      "cell_type": "code",
      "metadata": {
        "id": "1xfp-ja3EQ91"
      },
      "source": [
        "err = []\n",
        "for numdim in range(len(s), 0, -1):\n",
        "  S[numdim - 1, numdim - 1] = 0\n",
        "  reconstructed_tdm = U.dot(S).dot(Vt)\n",
        "  err.append(np.sqrt(((reconstructed_tdm - tdm).values.flatten() ** 2).sum() / np.product(tdm.shape)))\n"
      ],
      "execution_count": null,
      "outputs": []
    },
    {
      "cell_type": "code",
      "metadata": {
        "colab": {
          "base_uri": "https://localhost:8080/"
        },
        "id": "J2ZaoC9cpg9G",
        "outputId": "50e64ddf-83e0-4e14-b28b-cabff568532a"
      },
      "source": [
        "np.array(err).round(2)"
      ],
      "execution_count": null,
      "outputs": [
        {
          "output_type": "execute_result",
          "data": {
            "text/plain": [
              "array([0.06, 0.12, 0.17, 0.28, 0.39, 0.55])"
            ]
          },
          "metadata": {
            "tags": []
          },
          "execution_count": 18
        }
      ]
    },
    {
      "cell_type": "code",
      "metadata": {
        "colab": {
          "base_uri": "https://localhost:8080/"
        },
        "id": "MdLvqzP8pktK",
        "outputId": "992ee02d-b93b-4833-d626-79e884ba23e2"
      },
      "source": [
        "tdm.shape"
      ],
      "execution_count": null,
      "outputs": [
        {
          "output_type": "execute_result",
          "data": {
            "text/plain": [
              "(6, 11)"
            ]
          },
          "metadata": {
            "tags": []
          },
          "execution_count": 18
        }
      ]
    },
    {
      "cell_type": "code",
      "metadata": {
        "colab": {
          "base_uri": "https://localhost:8080/"
        },
        "id": "HsDP-w_QOsjh",
        "outputId": "db2a3c40-863d-4e69-fa4d-3abbb0339763"
      },
      "source": [
        "np.product(tdm.shape)"
      ],
      "execution_count": null,
      "outputs": [
        {
          "output_type": "execute_result",
          "data": {
            "text/plain": [
              "66"
            ]
          },
          "metadata": {
            "tags": []
          },
          "execution_count": 19
        }
      ]
    },
    {
      "cell_type": "markdown",
      "metadata": {
        "id": "pE6XRZt6XTqO"
      },
      "source": [
        "# **Principal Component Analysis (PCA) on 3D Vectors**"
      ]
    },
    {
      "cell_type": "code",
      "metadata": {
        "colab": {
          "base_uri": "https://localhost:8080/"
        },
        "id": "hrY2PyuvOw3N",
        "outputId": "5cbc6c8d-0acd-4c26-e378-e6a7ff743881"
      },
      "source": [
        "!pip install nlpia"
      ],
      "execution_count": null,
      "outputs": [
        {
          "output_type": "stream",
          "text": [
            "Collecting nlpia\n",
            "\u001b[?25l  Downloading https://files.pythonhosted.org/packages/89/f6/ab35e962dd0b19f1008e88e788b202d45a90d9cd70b9bbf0ac26489ee260/nlpia-0.5.2-py2.py3-none-any.whl (32.0MB)\n",
            "\u001b[K     |████████████████████████████████| 32.0MB 167kB/s \n",
            "\u001b[?25hCollecting pypandoc\n",
            "  Downloading https://files.pythonhosted.org/packages/d6/b7/5050dc1769c8a93d3ec7c4bd55be161991c94b8b235f88bf7c764449e708/pypandoc-1.5.tar.gz\n",
            "Requirement already satisfied: future in /usr/local/lib/python3.6/dist-packages (from nlpia) (0.16.0)\n",
            "Requirement already satisfied: lxml in /usr/local/lib/python3.6/dist-packages (from nlpia) (4.2.6)\n",
            "Requirement already satisfied: tensorflow in /usr/local/lib/python3.6/dist-packages (from nlpia) (2.3.0)\n",
            "Collecting pugnlp\n",
            "\u001b[?25l  Downloading https://files.pythonhosted.org/packages/f7/20/a9f0b1f45c074c63da716fc1b301916cc3b64c11d5cbf7cb305eafaf158a/pugnlp-0.2.6-py2.py3-none-any.whl (706kB)\n",
            "\u001b[K     |████████████████████████████████| 716kB 42.5MB/s \n",
            "\u001b[?25hRequirement already satisfied: h5py in /usr/local/lib/python3.6/dist-packages (from nlpia) (2.10.0)\n",
            "Requirement already satisfied: matplotlib in /usr/local/lib/python3.6/dist-packages (from nlpia) (3.2.2)\n",
            "Requirement already satisfied: plotly in /usr/local/lib/python3.6/dist-packages (from nlpia) (4.4.1)\n",
            "Requirement already satisfied: regex in /usr/local/lib/python3.6/dist-packages (from nlpia) (2019.12.20)\n",
            "Collecting python-Levenshtein\n",
            "\u001b[?25l  Downloading https://files.pythonhosted.org/packages/42/a9/d1785c85ebf9b7dfacd08938dd028209c34a0ea3b1bcdb895208bd40a67d/python-Levenshtein-0.12.0.tar.gz (48kB)\n",
            "\u001b[K     |████████████████████████████████| 51kB 5.7MB/s \n",
            "\u001b[?25hRequirement already satisfied: spacy in /usr/local/lib/python3.6/dist-packages (from nlpia) (2.2.4)\n",
            "Requirement already satisfied: pandas-datareader in /usr/local/lib/python3.6/dist-packages (from nlpia) (0.9.0)\n",
            "Requirement already satisfied: nltk in /usr/local/lib/python3.6/dist-packages (from nlpia) (3.2.5)\n",
            "Requirement already satisfied: keras in /usr/local/lib/python3.6/dist-packages (from nlpia) (2.4.3)\n",
            "Requirement already satisfied: scikit-learn in /usr/local/lib/python3.6/dist-packages (from nlpia) (0.22.2.post1)\n",
            "Requirement already satisfied: tqdm in /usr/local/lib/python3.6/dist-packages (from nlpia) (4.41.1)\n",
            "Requirement already satisfied: jupyter in /usr/local/lib/python3.6/dist-packages (from nlpia) (1.0.0)\n",
            "Requirement already satisfied: gensim in /usr/local/lib/python3.6/dist-packages (from nlpia) (3.6.0)\n",
            "Requirement already satisfied: pandas in /usr/local/lib/python3.6/dist-packages (from nlpia) (1.1.4)\n",
            "Requirement already satisfied: html5lib in /usr/local/lib/python3.6/dist-packages (from nlpia) (1.0.1)\n",
            "Requirement already satisfied: seaborn in /usr/local/lib/python3.6/dist-packages (from nlpia) (0.11.0)\n",
            "Collecting html2text\n",
            "  Downloading https://files.pythonhosted.org/packages/ae/88/14655f727f66b3e3199f4467bafcc88283e6c31b562686bf606264e09181/html2text-2020.1.16-py3-none-any.whl\n",
            "Requirement already satisfied: setuptools in /usr/local/lib/python3.6/dist-packages (from pypandoc->nlpia) (50.3.2)\n",
            "Requirement already satisfied: pip>=8.1.0 in /usr/local/lib/python3.6/dist-packages (from pypandoc->nlpia) (19.3.1)\n",
            "Requirement already satisfied: wheel>=0.25.0 in /usr/local/lib/python3.6/dist-packages (from pypandoc->nlpia) (0.35.1)\n",
            "Requirement already satisfied: opt-einsum>=2.3.2 in /usr/local/lib/python3.6/dist-packages (from tensorflow->nlpia) (3.3.0)\n",
            "Requirement already satisfied: gast==0.3.3 in /usr/local/lib/python3.6/dist-packages (from tensorflow->nlpia) (0.3.3)\n",
            "Requirement already satisfied: six>=1.12.0 in /usr/local/lib/python3.6/dist-packages (from tensorflow->nlpia) (1.15.0)\n",
            "Requirement already satisfied: grpcio>=1.8.6 in /usr/local/lib/python3.6/dist-packages (from tensorflow->nlpia) (1.33.2)\n",
            "Requirement already satisfied: absl-py>=0.7.0 in /usr/local/lib/python3.6/dist-packages (from tensorflow->nlpia) (0.10.0)\n",
            "Requirement already satisfied: termcolor>=1.1.0 in /usr/local/lib/python3.6/dist-packages (from tensorflow->nlpia) (1.1.0)\n",
            "Requirement already satisfied: wrapt>=1.11.1 in /usr/local/lib/python3.6/dist-packages (from tensorflow->nlpia) (1.12.1)\n",
            "Requirement already satisfied: protobuf>=3.9.2 in /usr/local/lib/python3.6/dist-packages (from tensorflow->nlpia) (3.12.4)\n",
            "Requirement already satisfied: tensorboard<3,>=2.3.0 in /usr/local/lib/python3.6/dist-packages (from tensorflow->nlpia) (2.3.0)\n",
            "Requirement already satisfied: google-pasta>=0.1.8 in /usr/local/lib/python3.6/dist-packages (from tensorflow->nlpia) (0.2.0)\n",
            "Requirement already satisfied: keras-preprocessing<1.2,>=1.1.1 in /usr/local/lib/python3.6/dist-packages (from tensorflow->nlpia) (1.1.2)\n",
            "Requirement already satisfied: astunparse==1.6.3 in /usr/local/lib/python3.6/dist-packages (from tensorflow->nlpia) (1.6.3)\n",
            "Requirement already satisfied: tensorflow-estimator<2.4.0,>=2.3.0 in /usr/local/lib/python3.6/dist-packages (from tensorflow->nlpia) (2.3.0)\n",
            "Requirement already satisfied: numpy<1.19.0,>=1.16.0 in /usr/local/lib/python3.6/dist-packages (from tensorflow->nlpia) (1.18.5)\n",
            "Requirement already satisfied: scipy==1.4.1 in /usr/local/lib/python3.6/dist-packages (from tensorflow->nlpia) (1.4.1)\n",
            "Collecting fuzzywuzzy\n",
            "  Downloading https://files.pythonhosted.org/packages/43/ff/74f23998ad2f93b945c0309f825be92e04e0348e062026998b5eefef4c33/fuzzywuzzy-0.18.0-py2.py3-none-any.whl\n",
            "Requirement already satisfied: coverage in /usr/local/lib/python3.6/dist-packages (from pugnlp->nlpia) (3.7.1)\n",
            "Requirement already satisfied: python-slugify in /usr/local/lib/python3.6/dist-packages (from pugnlp->nlpia) (4.0.1)\n",
            "Requirement already satisfied: pyparsing!=2.0.4,!=2.1.2,!=2.1.6,>=2.0.1 in /usr/local/lib/python3.6/dist-packages (from matplotlib->nlpia) (2.4.7)\n",
            "Requirement already satisfied: cycler>=0.10 in /usr/local/lib/python3.6/dist-packages (from matplotlib->nlpia) (0.10.0)\n",
            "Requirement already satisfied: kiwisolver>=1.0.1 in /usr/local/lib/python3.6/dist-packages (from matplotlib->nlpia) (1.3.1)\n",
            "Requirement already satisfied: python-dateutil>=2.1 in /usr/local/lib/python3.6/dist-packages (from matplotlib->nlpia) (2.8.1)\n",
            "Requirement already satisfied: retrying>=1.3.3 in /usr/local/lib/python3.6/dist-packages (from plotly->nlpia) (1.3.3)\n",
            "Requirement already satisfied: cymem<2.1.0,>=2.0.2 in /usr/local/lib/python3.6/dist-packages (from spacy->nlpia) (2.0.4)\n",
            "Requirement already satisfied: preshed<3.1.0,>=3.0.2 in /usr/local/lib/python3.6/dist-packages (from spacy->nlpia) (3.0.4)\n",
            "Requirement already satisfied: plac<1.2.0,>=0.9.6 in /usr/local/lib/python3.6/dist-packages (from spacy->nlpia) (1.1.3)\n",
            "Requirement already satisfied: blis<0.5.0,>=0.4.0 in /usr/local/lib/python3.6/dist-packages (from spacy->nlpia) (0.4.1)\n",
            "Requirement already satisfied: requests<3.0.0,>=2.13.0 in /usr/local/lib/python3.6/dist-packages (from spacy->nlpia) (2.23.0)\n",
            "Requirement already satisfied: srsly<1.1.0,>=1.0.2 in /usr/local/lib/python3.6/dist-packages (from spacy->nlpia) (1.0.4)\n",
            "Requirement already satisfied: catalogue<1.1.0,>=0.0.7 in /usr/local/lib/python3.6/dist-packages (from spacy->nlpia) (1.0.0)\n",
            "Requirement already satisfied: murmurhash<1.1.0,>=0.28.0 in /usr/local/lib/python3.6/dist-packages (from spacy->nlpia) (1.0.4)\n",
            "Requirement already satisfied: wasabi<1.1.0,>=0.4.0 in /usr/local/lib/python3.6/dist-packages (from spacy->nlpia) (0.8.0)\n",
            "Requirement already satisfied: thinc==7.4.0 in /usr/local/lib/python3.6/dist-packages (from spacy->nlpia) (7.4.0)\n",
            "Requirement already satisfied: pyyaml in /usr/local/lib/python3.6/dist-packages (from keras->nlpia) (3.13)\n",
            "Requirement already satisfied: joblib>=0.11 in /usr/local/lib/python3.6/dist-packages (from scikit-learn->nlpia) (0.17.0)\n",
            "Requirement already satisfied: notebook in /usr/local/lib/python3.6/dist-packages (from jupyter->nlpia) (5.3.1)\n",
            "Requirement already satisfied: ipykernel in /usr/local/lib/python3.6/dist-packages (from jupyter->nlpia) (4.10.1)\n",
            "Requirement already satisfied: nbconvert in /usr/local/lib/python3.6/dist-packages (from jupyter->nlpia) (5.6.1)\n",
            "Requirement already satisfied: qtconsole in /usr/local/lib/python3.6/dist-packages (from jupyter->nlpia) (4.7.7)\n",
            "Requirement already satisfied: jupyter-console in /usr/local/lib/python3.6/dist-packages (from jupyter->nlpia) (5.2.0)\n",
            "Requirement already satisfied: ipywidgets in /usr/local/lib/python3.6/dist-packages (from jupyter->nlpia) (7.5.1)\n",
            "Requirement already satisfied: smart-open>=1.2.1 in /usr/local/lib/python3.6/dist-packages (from gensim->nlpia) (3.0.0)\n",
            "Requirement already satisfied: pytz>=2017.2 in /usr/local/lib/python3.6/dist-packages (from pandas->nlpia) (2018.9)\n",
            "Requirement already satisfied: webencodings in /usr/local/lib/python3.6/dist-packages (from html5lib->nlpia) (0.5.1)\n",
            "Requirement already satisfied: google-auth-oauthlib<0.5,>=0.4.1 in /usr/local/lib/python3.6/dist-packages (from tensorboard<3,>=2.3.0->tensorflow->nlpia) (0.4.2)\n",
            "Requirement already satisfied: tensorboard-plugin-wit>=1.6.0 in /usr/local/lib/python3.6/dist-packages (from tensorboard<3,>=2.3.0->tensorflow->nlpia) (1.7.0)\n",
            "Requirement already satisfied: markdown>=2.6.8 in /usr/local/lib/python3.6/dist-packages (from tensorboard<3,>=2.3.0->tensorflow->nlpia) (3.3.3)\n",
            "Requirement already satisfied: google-auth<2,>=1.6.3 in /usr/local/lib/python3.6/dist-packages (from tensorboard<3,>=2.3.0->tensorflow->nlpia) (1.17.2)\n",
            "Requirement already satisfied: werkzeug>=0.11.15 in /usr/local/lib/python3.6/dist-packages (from tensorboard<3,>=2.3.0->tensorflow->nlpia) (1.0.1)\n",
            "Requirement already satisfied: text-unidecode>=1.3 in /usr/local/lib/python3.6/dist-packages (from python-slugify->pugnlp->nlpia) (1.3)\n",
            "Requirement already satisfied: certifi>=2017.4.17 in /usr/local/lib/python3.6/dist-packages (from requests<3.0.0,>=2.13.0->spacy->nlpia) (2020.11.8)\n",
            "Requirement already satisfied: chardet<4,>=3.0.2 in /usr/local/lib/python3.6/dist-packages (from requests<3.0.0,>=2.13.0->spacy->nlpia) (3.0.4)\n",
            "Requirement already satisfied: urllib3!=1.25.0,!=1.25.1,<1.26,>=1.21.1 in /usr/local/lib/python3.6/dist-packages (from requests<3.0.0,>=2.13.0->spacy->nlpia) (1.24.3)\n",
            "Requirement already satisfied: idna<3,>=2.5 in /usr/local/lib/python3.6/dist-packages (from requests<3.0.0,>=2.13.0->spacy->nlpia) (2.10)\n",
            "Requirement already satisfied: importlib-metadata>=0.20; python_version < \"3.8\" in /usr/local/lib/python3.6/dist-packages (from catalogue<1.1.0,>=0.0.7->spacy->nlpia) (2.0.0)\n",
            "Requirement already satisfied: jinja2 in /usr/local/lib/python3.6/dist-packages (from notebook->jupyter->nlpia) (2.11.2)\n",
            "Requirement already satisfied: Send2Trash in /usr/local/lib/python3.6/dist-packages (from notebook->jupyter->nlpia) (1.5.0)\n",
            "Requirement already satisfied: jupyter-core>=4.4.0 in /usr/local/lib/python3.6/dist-packages (from notebook->jupyter->nlpia) (4.7.0)\n",
            "Requirement already satisfied: jupyter-client>=5.2.0 in /usr/local/lib/python3.6/dist-packages (from notebook->jupyter->nlpia) (5.3.5)\n",
            "Requirement already satisfied: ipython-genutils in /usr/local/lib/python3.6/dist-packages (from notebook->jupyter->nlpia) (0.2.0)\n",
            "Requirement already satisfied: nbformat in /usr/local/lib/python3.6/dist-packages (from notebook->jupyter->nlpia) (5.0.8)\n",
            "Requirement already satisfied: traitlets>=4.2.1 in /usr/local/lib/python3.6/dist-packages (from notebook->jupyter->nlpia) (4.3.3)\n",
            "Requirement already satisfied: terminado>=0.8.1 in /usr/local/lib/python3.6/dist-packages (from notebook->jupyter->nlpia) (0.9.1)\n",
            "Requirement already satisfied: tornado>=4 in /usr/local/lib/python3.6/dist-packages (from notebook->jupyter->nlpia) (5.1.1)\n",
            "Requirement already satisfied: ipython>=4.0.0 in /usr/local/lib/python3.6/dist-packages (from ipykernel->jupyter->nlpia) (5.5.0)\n",
            "Requirement already satisfied: pandocfilters>=1.4.1 in /usr/local/lib/python3.6/dist-packages (from nbconvert->jupyter->nlpia) (1.4.3)\n",
            "Requirement already satisfied: defusedxml in /usr/local/lib/python3.6/dist-packages (from nbconvert->jupyter->nlpia) (0.6.0)\n",
            "Requirement already satisfied: bleach in /usr/local/lib/python3.6/dist-packages (from nbconvert->jupyter->nlpia) (3.2.1)\n",
            "Requirement already satisfied: entrypoints>=0.2.2 in /usr/local/lib/python3.6/dist-packages (from nbconvert->jupyter->nlpia) (0.3)\n",
            "Requirement already satisfied: pygments in /usr/local/lib/python3.6/dist-packages (from nbconvert->jupyter->nlpia) (2.6.1)\n",
            "Requirement already satisfied: testpath in /usr/local/lib/python3.6/dist-packages (from nbconvert->jupyter->nlpia) (0.4.4)\n",
            "Requirement already satisfied: mistune<2,>=0.8.1 in /usr/local/lib/python3.6/dist-packages (from nbconvert->jupyter->nlpia) (0.8.4)\n",
            "Requirement already satisfied: pyzmq>=17.1 in /usr/local/lib/python3.6/dist-packages (from qtconsole->jupyter->nlpia) (20.0.0)\n",
            "Requirement already satisfied: qtpy in /usr/local/lib/python3.6/dist-packages (from qtconsole->jupyter->nlpia) (1.9.0)\n",
            "Requirement already satisfied: prompt-toolkit<2.0.0,>=1.0.0 in /usr/local/lib/python3.6/dist-packages (from jupyter-console->jupyter->nlpia) (1.0.18)\n",
            "Requirement already satisfied: widgetsnbextension~=3.5.0 in /usr/local/lib/python3.6/dist-packages (from ipywidgets->jupyter->nlpia) (3.5.1)\n",
            "Requirement already satisfied: requests-oauthlib>=0.7.0 in /usr/local/lib/python3.6/dist-packages (from google-auth-oauthlib<0.5,>=0.4.1->tensorboard<3,>=2.3.0->tensorflow->nlpia) (1.3.0)\n",
            "Requirement already satisfied: pyasn1-modules>=0.2.1 in /usr/local/lib/python3.6/dist-packages (from google-auth<2,>=1.6.3->tensorboard<3,>=2.3.0->tensorflow->nlpia) (0.2.8)\n",
            "Requirement already satisfied: rsa<5,>=3.1.4; python_version >= \"3\" in /usr/local/lib/python3.6/dist-packages (from google-auth<2,>=1.6.3->tensorboard<3,>=2.3.0->tensorflow->nlpia) (4.6)\n",
            "Requirement already satisfied: cachetools<5.0,>=2.0.0 in /usr/local/lib/python3.6/dist-packages (from google-auth<2,>=1.6.3->tensorboard<3,>=2.3.0->tensorflow->nlpia) (4.1.1)\n",
            "Requirement already satisfied: zipp>=0.5 in /usr/local/lib/python3.6/dist-packages (from importlib-metadata>=0.20; python_version < \"3.8\"->catalogue<1.1.0,>=0.0.7->spacy->nlpia) (3.4.0)\n",
            "Requirement already satisfied: MarkupSafe>=0.23 in /usr/local/lib/python3.6/dist-packages (from jinja2->notebook->jupyter->nlpia) (1.1.1)\n",
            "Requirement already satisfied: jsonschema!=2.5.0,>=2.4 in /usr/local/lib/python3.6/dist-packages (from nbformat->notebook->jupyter->nlpia) (2.6.0)\n",
            "Requirement already satisfied: decorator in /usr/local/lib/python3.6/dist-packages (from traitlets>=4.2.1->notebook->jupyter->nlpia) (4.4.2)\n",
            "Requirement already satisfied: ptyprocess; os_name != \"nt\" in /usr/local/lib/python3.6/dist-packages (from terminado>=0.8.1->notebook->jupyter->nlpia) (0.6.0)\n",
            "Requirement already satisfied: simplegeneric>0.8 in /usr/local/lib/python3.6/dist-packages (from ipython>=4.0.0->ipykernel->jupyter->nlpia) (0.8.1)\n",
            "Requirement already satisfied: pickleshare in /usr/local/lib/python3.6/dist-packages (from ipython>=4.0.0->ipykernel->jupyter->nlpia) (0.7.5)\n",
            "Requirement already satisfied: pexpect; sys_platform != \"win32\" in /usr/local/lib/python3.6/dist-packages (from ipython>=4.0.0->ipykernel->jupyter->nlpia) (4.8.0)\n",
            "Requirement already satisfied: packaging in /usr/local/lib/python3.6/dist-packages (from bleach->nbconvert->jupyter->nlpia) (20.4)\n",
            "Requirement already satisfied: wcwidth in /usr/local/lib/python3.6/dist-packages (from prompt-toolkit<2.0.0,>=1.0.0->jupyter-console->jupyter->nlpia) (0.2.5)\n",
            "Requirement already satisfied: oauthlib>=3.0.0 in /usr/local/lib/python3.6/dist-packages (from requests-oauthlib>=0.7.0->google-auth-oauthlib<0.5,>=0.4.1->tensorboard<3,>=2.3.0->tensorflow->nlpia) (3.1.0)\n",
            "Requirement already satisfied: pyasn1<0.5.0,>=0.4.6 in /usr/local/lib/python3.6/dist-packages (from pyasn1-modules>=0.2.1->google-auth<2,>=1.6.3->tensorboard<3,>=2.3.0->tensorflow->nlpia) (0.4.8)\n",
            "Building wheels for collected packages: pypandoc, python-Levenshtein\n",
            "  Building wheel for pypandoc (setup.py) ... \u001b[?25l\u001b[?25hdone\n",
            "  Created wheel for pypandoc: filename=pypandoc-1.5-cp36-none-any.whl size=17038 sha256=e05398ac4732da4607f46b931a9cca5bfdbd8a7db4fc6fee970d58f14f11b24e\n",
            "  Stored in directory: /root/.cache/pip/wheels/bb/7d/d6/2f9af55e800d37e42e546106bcbd36a86e24e725e303d17e04\n",
            "  Building wheel for python-Levenshtein (setup.py) ... \u001b[?25l\u001b[?25hdone\n",
            "  Created wheel for python-Levenshtein: filename=python_Levenshtein-0.12.0-cp36-cp36m-linux_x86_64.whl size=144792 sha256=26786d7b4dc05d2ba161c3f16c6281ec4da66bbb179557273a2d7401a98774da\n",
            "  Stored in directory: /root/.cache/pip/wheels/de/c2/93/660fd5f7559049268ad2dc6d81c4e39e9e36518766eaf7e342\n",
            "Successfully built pypandoc python-Levenshtein\n",
            "Installing collected packages: pypandoc, fuzzywuzzy, python-Levenshtein, pugnlp, html2text, nlpia\n",
            "Successfully installed fuzzywuzzy-0.18.0 html2text-2020.1.16 nlpia-0.5.2 pugnlp-0.2.6 pypandoc-1.5 python-Levenshtein-0.12.0\n"
          ],
          "name": "stdout"
        }
      ]
    },
    {
      "cell_type": "code",
      "metadata": {
        "colab": {
          "background_save": true
        },
        "id": "R82rtFBiXnMv"
      },
      "source": [
        "import pandas as pd"
      ],
      "execution_count": null,
      "outputs": []
    },
    {
      "cell_type": "code",
      "metadata": {
        "colab": {
          "background_save": true
        },
        "id": "u5KYxmajX1CM",
        "outputId": "52418a95-da0a-4ca5-c979-745a33376ca9"
      },
      "source": [
        "pd.set_option('display.max_columns', 6)\n",
        "from sklearn.decomposition import PCA \n",
        "import seaborn\n",
        "from matplotlib import pyplot as plt\n",
        "from nlpia.data.loaders import get_data"
      ],
      "execution_count": null,
      "outputs": [
        {
          "output_type": "stream",
          "text": [
            "/usr/local/lib/python3.6/dist-packages/pugnlp/constants.py:158: FutureWarning: The pandas.datetime class is deprecated and will be removed from pandas in a future version. Import from datetime instead.\n",
            "  MIN_TIMESTAMP = pd.Timestamp(pd.datetime(1677, 9, 22, 0, 12, 44), tz='utc')\n"
          ],
          "name": "stderr"
        }
      ]
    },
    {
      "cell_type": "code",
      "metadata": {
        "colab": {
          "background_save": true
        },
        "id": "0corLf6qYQkK",
        "outputId": "acfb1f31-221f-4f88-8d52-c782d6bda5e8"
      },
      "source": [
        "df = get_data('pointcloud').sample(1000)\n",
        "pca = PCA(n_components=2)\n",
        "df2d = pd.DataFrame(pca.fit_transform(df), columns=list('xy'))\n",
        "df2d.plot(kind='scatter', x='x', y='y')\n",
        "plt.show()"
      ],
      "execution_count": null,
      "outputs": [
        {
          "output_type": "display_data",
          "data": {
            "image/png": "[encoded data removed]",
            "text/plain": [
              "<Figure size 432x288 with 1 Axes>"
            ]
          },
          "metadata": {
            "tags": []
          }
        }
      ]
    },
    {
      "cell_type": "code",
      "metadata": {
        "colab": {
          "background_save": true
        },
        "id": "auCFNn4BYxKq",
        "outputId": "ea1bfd8b-e7f0-4530-e1f9-330e943f4c96"
      },
      "source": [
        "list('xy')"
      ],
      "execution_count": null,
      "outputs": [
        {
          "output_type": "execute_result",
          "data": {
            "text/plain": [
              "['x', 'y']"
            ]
          },
          "metadata": {
            "tags": []
          },
          "execution_count": 0
        }
      ]
    },
    {
      "cell_type": "markdown",
      "metadata": {
        "id": "tFUaOdwImr23"
      },
      "source": [
        "## **Principal Component Analysis (PCA) for NLP**"
      ]
    },
    {
      "cell_type": "code",
      "metadata": {
        "colab": {
          "background_save": true
        },
        "id": "Le0ypUUGZPj4"
      },
      "source": [
        "import pandas as pd"
      ],
      "execution_count": null,
      "outputs": []
    },
    {
      "cell_type": "code",
      "metadata": {
        "colab": {
          "background_save": true
        },
        "id": "r1BoPYFWm3dg"
      },
      "source": [
        "from nlpia.data.loaders import get_data"
      ],
      "execution_count": null,
      "outputs": []
    },
    {
      "cell_type": "code",
      "metadata": {
        "colab": {
          "background_save": true
        },
        "id": "qUSmfDeqm-8_"
      },
      "source": [
        "pd.options.display.width = 120"
      ],
      "execution_count": null,
      "outputs": []
    },
    {
      "cell_type": "code",
      "metadata": {
        "colab": {
          "background_save": true
        },
        "id": "N_i6vjmMnI3u"
      },
      "source": [
        "sms = get_data('sms-spam')"
      ],
      "execution_count": null,
      "outputs": []
    },
    {
      "cell_type": "code",
      "metadata": {
        "colab": {
          "background_save": true
        },
        "id": "g6jL01W0nWXv"
      },
      "source": [
        "index = ['sms{}{}'.format(i, '!'*j) for (i, j) in zip(range(len(sms)), sms.spam)]"
      ],
      "execution_count": null,
      "outputs": []
    },
    {
      "cell_type": "code",
      "metadata": {
        "colab": {
          "background_save": true
        },
        "id": "9cXHjw4IokxP",
        "outputId": "013b7ed6-c84c-45c1-fa5e-fb2c32351d58"
      },
      "source": [
        "index[:10]"
      ],
      "execution_count": null,
      "outputs": [
        {
          "output_type": "execute_result",
          "data": {
            "text/plain": [
              "['sms0',\n",
              " 'sms1',\n",
              " 'sms2!',\n",
              " 'sms3',\n",
              " 'sms4',\n",
              " 'sms5!',\n",
              " 'sms6',\n",
              " 'sms7',\n",
              " 'sms8!',\n",
              " 'sms9!']"
            ]
          },
          "metadata": {
            "tags": []
          },
          "execution_count": 0
        }
      ]
    },
    {
      "cell_type": "code",
      "metadata": {
        "colab": {
          "background_save": true
        },
        "id": "2kSDEgufooR7"
      },
      "source": [
        "sms.index = index"
      ],
      "execution_count": null,
      "outputs": []
    },
    {
      "cell_type": "code",
      "metadata": {
        "colab": {
          "background_save": true
        },
        "id": "MT9xWrx4oxRr",
        "outputId": "85cf95de-ae44-4e0f-c9b0-e73a8643f4ee"
      },
      "source": [
        "sms.head(6)"
      ],
      "execution_count": null,
      "outputs": [
        {
          "output_type": "execute_result",
          "data": {
            "text/html": [
              "<div>\n",
              "<style scoped>\n",
              "    .dataframe tbody tr th:only-of-type {\n",
              "        vertical-align: middle;\n",
              "    }\n",
              "\n",
              "    .dataframe tbody tr th {\n",
              "        vertical-align: top;\n",
              "    }\n",
              "\n",
              "    .dataframe thead th {\n",
              "        text-align: right;\n",
              "    }\n",
              "</style>\n",
              "<table border=\"1\" class=\"dataframe\">\n",
              "  <thead>\n",
              "    <tr style=\"text-align: right;\">\n",
              "      <th></th>\n",
              "      <th>spam</th>\n",
              "      <th>text</th>\n",
              "    </tr>\n",
              "  </thead>\n",
              "  <tbody>\n",
              "    <tr>\n",
              "      <th>sms0</th>\n",
              "      <td>0</td>\n",
              "      <td>Go until jurong point, crazy.. Available only ...</td>\n",
              "    </tr>\n",
              "    <tr>\n",
              "      <th>sms1</th>\n",
              "      <td>0</td>\n",
              "      <td>Ok lar... Joking wif u oni...</td>\n",
              "    </tr>\n",
              "    <tr>\n",
              "      <th>sms2!</th>\n",
              "      <td>1</td>\n",
              "      <td>Free entry in 2 a wkly comp to win FA Cup fina...</td>\n",
              "    </tr>\n",
              "    <tr>\n",
              "      <th>sms3</th>\n",
              "      <td>0</td>\n",
              "      <td>U dun say so early hor... U c already then say...</td>\n",
              "    </tr>\n",
              "    <tr>\n",
              "      <th>sms4</th>\n",
              "      <td>0</td>\n",
              "      <td>Nah I don't think he goes to usf, he lives aro...</td>\n",
              "    </tr>\n",
              "    <tr>\n",
              "      <th>sms5!</th>\n",
              "      <td>1</td>\n",
              "      <td>FreeMsg Hey there darling it's been 3 week's n...</td>\n",
              "    </tr>\n",
              "  </tbody>\n",
              "</table>\n",
              "</div>"
            ],
            "text/plain": [
              "       spam                                               text\n",
              "sms0      0  Go until jurong point, crazy.. Available only ...\n",
              "sms1      0                      Ok lar... Joking wif u oni...\n",
              "sms2!     1  Free entry in 2 a wkly comp to win FA Cup fina...\n",
              "sms3      0  U dun say so early hor... U c already then say...\n",
              "sms4      0  Nah I don't think he goes to usf, he lives aro...\n",
              "sms5!     1  FreeMsg Hey there darling it's been 3 week's n..."
            ]
          },
          "metadata": {
            "tags": []
          },
          "execution_count": 0
        }
      ]
    },
    {
      "cell_type": "code",
      "metadata": {
        "colab": {
          "background_save": true
        },
        "id": "9v4R3ebdozLb"
      },
      "source": [
        "from sklearn.feature_extraction.text import TfidfVectorizer\n",
        "from nltk.tokenize.casual import casual_tokenize"
      ],
      "execution_count": null,
      "outputs": []
    },
    {
      "cell_type": "code",
      "metadata": {
        "colab": {
          "background_save": true
        },
        "id": "iHVB8nhLpU5a"
      },
      "source": [
        "tfidf = TfidfVectorizer(tokenizer=casual_tokenize)\n",
        "tfidf_docs = tfidf.fit_transform(raw_documents=sms.text).toarray()"
      ],
      "execution_count": null,
      "outputs": []
    },
    {
      "cell_type": "code",
      "metadata": {
        "colab": {
          "background_save": true
        },
        "id": "Mktt3CNtqA-4",
        "outputId": "0dc2ff69-df56-440b-c82b-f55607a6625d"
      },
      "source": [
        "tfidf_docs[0:1]"
      ],
      "execution_count": null,
      "outputs": [
        {
          "output_type": "execute_result",
          "data": {
            "text/plain": [
              "array([[0., 0., 0., ..., 0., 0., 0.]])"
            ]
          },
          "metadata": {
            "tags": []
          },
          "execution_count": 0
        }
      ]
    },
    {
      "cell_type": "code",
      "metadata": {
        "colab": {
          "background_save": true
        },
        "id": "nfYXqhj_qKQ4",
        "outputId": "f6d98b37-acd8-4421-f016-ebe664457dc8"
      },
      "source": [
        "len(tfidf.vocabulary_)"
      ],
      "execution_count": null,
      "outputs": [
        {
          "output_type": "execute_result",
          "data": {
            "text/plain": [
              "9232"
            ]
          },
          "metadata": {
            "tags": []
          },
          "execution_count": 0
        }
      ]
    },
    {
      "cell_type": "code",
      "metadata": {
        "colab": {
          "background_save": true
        },
        "id": "VhR20DfbqVM3"
      },
      "source": [
        "tfidf_docs = pd.DataFrame(tfidf_docs)"
      ],
      "execution_count": null,
      "outputs": []
    },
    {
      "cell_type": "code",
      "metadata": {
        "colab": {
          "background_save": true
        },
        "id": "73V71CmHqdaH"
      },
      "source": [
        "tfidf_docs = tfidf_docs - tfidf_docs.mean()"
      ],
      "execution_count": null,
      "outputs": []
    },
    {
      "cell_type": "code",
      "metadata": {
        "colab": {
          "background_save": true
        },
        "id": "X0llqaPtqonY",
        "outputId": "6caa7e41-d349-4cd0-a412-376354e0f504"
      },
      "source": [
        "tfidf_docs.head()"
      ],
      "execution_count": null,
      "outputs": [
        {
          "output_type": "execute_result",
          "data": {
            "text/html": [
              "<div>\n",
              "<style scoped>\n",
              "    .dataframe tbody tr th:only-of-type {\n",
              "        vertical-align: middle;\n",
              "    }\n",
              "\n",
              "    .dataframe tbody tr th {\n",
              "        vertical-align: top;\n",
              "    }\n",
              "\n",
              "    .dataframe thead th {\n",
              "        text-align: right;\n",
              "    }\n",
              "</style>\n",
              "<table border=\"1\" class=\"dataframe\">\n",
              "  <thead>\n",
              "    <tr style=\"text-align: right;\">\n",
              "      <th></th>\n",
              "      <th>0</th>\n",
              "      <th>1</th>\n",
              "      <th>2</th>\n",
              "      <th>...</th>\n",
              "      <th>9229</th>\n",
              "      <th>9230</th>\n",
              "      <th>9231</th>\n",
              "    </tr>\n",
              "  </thead>\n",
              "  <tbody>\n",
              "    <tr>\n",
              "      <th>0</th>\n",
              "      <td>-0.025643</td>\n",
              "      <td>-0.00584</td>\n",
              "      <td>-0.000228</td>\n",
              "      <td>...</td>\n",
              "      <td>-0.000055</td>\n",
              "      <td>-0.000055</td>\n",
              "      <td>-0.000055</td>\n",
              "    </tr>\n",
              "    <tr>\n",
              "      <th>1</th>\n",
              "      <td>-0.025643</td>\n",
              "      <td>-0.00584</td>\n",
              "      <td>-0.000228</td>\n",
              "      <td>...</td>\n",
              "      <td>-0.000055</td>\n",
              "      <td>-0.000055</td>\n",
              "      <td>-0.000055</td>\n",
              "    </tr>\n",
              "    <tr>\n",
              "      <th>2</th>\n",
              "      <td>-0.025643</td>\n",
              "      <td>-0.00584</td>\n",
              "      <td>-0.000228</td>\n",
              "      <td>...</td>\n",
              "      <td>-0.000055</td>\n",
              "      <td>-0.000055</td>\n",
              "      <td>-0.000055</td>\n",
              "    </tr>\n",
              "    <tr>\n",
              "      <th>3</th>\n",
              "      <td>-0.025643</td>\n",
              "      <td>-0.00584</td>\n",
              "      <td>-0.000228</td>\n",
              "      <td>...</td>\n",
              "      <td>-0.000055</td>\n",
              "      <td>-0.000055</td>\n",
              "      <td>-0.000055</td>\n",
              "    </tr>\n",
              "    <tr>\n",
              "      <th>4</th>\n",
              "      <td>-0.025643</td>\n",
              "      <td>-0.00584</td>\n",
              "      <td>-0.000228</td>\n",
              "      <td>...</td>\n",
              "      <td>-0.000055</td>\n",
              "      <td>-0.000055</td>\n",
              "      <td>-0.000055</td>\n",
              "    </tr>\n",
              "  </tbody>\n",
              "</table>\n",
              "<p>5 rows × 9232 columns</p>\n",
              "</div>"
            ],
            "text/plain": [
              "       0        1         2     ...      9229      9230      9231\n",
              "0 -0.025643 -0.00584 -0.000228  ... -0.000055 -0.000055 -0.000055\n",
              "1 -0.025643 -0.00584 -0.000228  ... -0.000055 -0.000055 -0.000055\n",
              "2 -0.025643 -0.00584 -0.000228  ... -0.000055 -0.000055 -0.000055\n",
              "3 -0.025643 -0.00584 -0.000228  ... -0.000055 -0.000055 -0.000055\n",
              "4 -0.025643 -0.00584 -0.000228  ... -0.000055 -0.000055 -0.000055\n",
              "\n",
              "[5 rows x 9232 columns]"
            ]
          },
          "metadata": {
            "tags": []
          },
          "execution_count": 0
        }
      ]
    },
    {
      "cell_type": "code",
      "metadata": {
        "colab": {
          "background_save": true
        },
        "id": "p7Kgl8g-qv-n",
        "outputId": "ace12bcc-e66a-4f5b-83a1-85dbaf28de51"
      },
      "source": [
        "len(tfidf_docs)"
      ],
      "execution_count": null,
      "outputs": [
        {
          "output_type": "execute_result",
          "data": {
            "text/plain": [
              "4837"
            ]
          },
          "metadata": {
            "tags": []
          },
          "execution_count": 0
        }
      ]
    },
    {
      "cell_type": "code",
      "metadata": {
        "colab": {
          "background_save": true
        },
        "id": "iGEtfHT1q4iY",
        "outputId": "559602ea-dfb2-4506-8156-06596b4a590c"
      },
      "source": [
        "tfidf_docs.shape"
      ],
      "execution_count": null,
      "outputs": [
        {
          "output_type": "execute_result",
          "data": {
            "text/plain": [
              "(4837, 9232)"
            ]
          },
          "metadata": {
            "tags": []
          },
          "execution_count": 0
        }
      ]
    },
    {
      "cell_type": "code",
      "metadata": {
        "colab": {
          "background_save": true
        },
        "id": "MqKeLeQwq_k5",
        "outputId": "3b87104e-f45f-41e6-e8b5-411941850167"
      },
      "source": [
        "sms.spam.sum()"
      ],
      "execution_count": null,
      "outputs": [
        {
          "output_type": "execute_result",
          "data": {
            "text/plain": [
              "638"
            ]
          },
          "metadata": {
            "tags": []
          },
          "execution_count": 0
        }
      ]
    },
    {
      "cell_type": "code",
      "metadata": {
        "colab": {
          "background_save": true
        },
        "id": "o0CLp7eyrSoe"
      },
      "source": [
        "from sklearn.decomposition import PCA"
      ],
      "execution_count": null,
      "outputs": []
    },
    {
      "cell_type": "code",
      "metadata": {
        "colab": {
          "background_save": true
        },
        "id": "ww_fMHlLujtR"
      },
      "source": [
        "pca = PCA(n_components=16)"
      ],
      "execution_count": null,
      "outputs": []
    },
    {
      "cell_type": "code",
      "metadata": {
        "colab": {
          "background_save": true
        },
        "id": "WogFLO1NupzA"
      },
      "source": [
        "pca = pca.fit(tfidf_docs)"
      ],
      "execution_count": null,
      "outputs": []
    },
    {
      "cell_type": "code",
      "metadata": {
        "colab": {
          "background_save": true
        },
        "id": "4-dx-NQquvLQ"
      },
      "source": [
        "pca_topic_vectors = pca.transform(tfidf_docs)"
      ],
      "execution_count": null,
      "outputs": []
    },
    {
      "cell_type": "code",
      "metadata": {
        "colab": {
          "background_save": true
        },
        "id": "UBRfiK6Ru59_"
      },
      "source": [
        "columns = ['topic{}'.format(i) for i in range(pca.n_components)]"
      ],
      "execution_count": null,
      "outputs": []
    },
    {
      "cell_type": "code",
      "metadata": {
        "colab": {
          "background_save": true
        },
        "id": "t07uv_U-vMau"
      },
      "source": [
        "pca_topic_vectors = pd.DataFrame(pca_topic_vectors, columns=columns, index=index)"
      ],
      "execution_count": null,
      "outputs": []
    },
    {
      "cell_type": "code",
      "metadata": {
        "colab": {
          "background_save": true
        },
        "id": "CL7FGnttvg4y",
        "outputId": "1540afc3-d84f-4f43-a2bc-645d8ac43157"
      },
      "source": [
        "pca_topic_vectors.round(3).head(6)"
      ],
      "execution_count": null,
      "outputs": [
        {
          "output_type": "execute_result",
          "data": {
            "text/html": [
              "<div>\n",
              "<style scoped>\n",
              "    .dataframe tbody tr th:only-of-type {\n",
              "        vertical-align: middle;\n",
              "    }\n",
              "\n",
              "    .dataframe tbody tr th {\n",
              "        vertical-align: top;\n",
              "    }\n",
              "\n",
              "    .dataframe thead th {\n",
              "        text-align: right;\n",
              "    }\n",
              "</style>\n",
              "<table border=\"1\" class=\"dataframe\">\n",
              "  <thead>\n",
              "    <tr style=\"text-align: right;\">\n",
              "      <th></th>\n",
              "      <th>topic0</th>\n",
              "      <th>topic1</th>\n",
              "      <th>topic2</th>\n",
              "      <th>...</th>\n",
              "      <th>topic13</th>\n",
              "      <th>topic14</th>\n",
              "      <th>topic15</th>\n",
              "    </tr>\n",
              "  </thead>\n",
              "  <tbody>\n",
              "    <tr>\n",
              "      <th>sms0</th>\n",
              "      <td>0.201</td>\n",
              "      <td>0.003</td>\n",
              "      <td>0.037</td>\n",
              "      <td>...</td>\n",
              "      <td>-0.031</td>\n",
              "      <td>-0.011</td>\n",
              "      <td>0.038</td>\n",
              "    </tr>\n",
              "    <tr>\n",
              "      <th>sms1</th>\n",
              "      <td>0.404</td>\n",
              "      <td>-0.094</td>\n",
              "      <td>-0.078</td>\n",
              "      <td>...</td>\n",
              "      <td>0.013</td>\n",
              "      <td>0.054</td>\n",
              "      <td>-0.037</td>\n",
              "    </tr>\n",
              "    <tr>\n",
              "      <th>sms2!</th>\n",
              "      <td>-0.030</td>\n",
              "      <td>-0.048</td>\n",
              "      <td>0.090</td>\n",
              "      <td>...</td>\n",
              "      <td>-0.006</td>\n",
              "      <td>-0.044</td>\n",
              "      <td>0.043</td>\n",
              "    </tr>\n",
              "    <tr>\n",
              "      <th>sms3</th>\n",
              "      <td>0.329</td>\n",
              "      <td>-0.033</td>\n",
              "      <td>-0.035</td>\n",
              "      <td>...</td>\n",
              "      <td>0.006</td>\n",
              "      <td>0.029</td>\n",
              "      <td>-0.056</td>\n",
              "    </tr>\n",
              "    <tr>\n",
              "      <th>sms4</th>\n",
              "      <td>0.002</td>\n",
              "      <td>0.031</td>\n",
              "      <td>0.038</td>\n",
              "      <td>...</td>\n",
              "      <td>0.040</td>\n",
              "      <td>-0.083</td>\n",
              "      <td>-0.024</td>\n",
              "    </tr>\n",
              "    <tr>\n",
              "      <th>sms5!</th>\n",
              "      <td>-0.016</td>\n",
              "      <td>0.059</td>\n",
              "      <td>0.014</td>\n",
              "      <td>...</td>\n",
              "      <td>0.057</td>\n",
              "      <td>0.017</td>\n",
              "      <td>0.042</td>\n",
              "    </tr>\n",
              "  </tbody>\n",
              "</table>\n",
              "<p>6 rows × 16 columns</p>\n",
              "</div>"
            ],
            "text/plain": [
              "       topic0  topic1  topic2  ...  topic13  topic14  topic15\n",
              "sms0    0.201   0.003   0.037  ...   -0.031   -0.011    0.038\n",
              "sms1    0.404  -0.094  -0.078  ...    0.013    0.054   -0.037\n",
              "sms2!  -0.030  -0.048   0.090  ...   -0.006   -0.044    0.043\n",
              "sms3    0.329  -0.033  -0.035  ...    0.006    0.029   -0.056\n",
              "sms4    0.002   0.031   0.038  ...    0.040   -0.083   -0.024\n",
              "sms5!  -0.016   0.059   0.014  ...    0.057    0.017    0.042\n",
              "\n",
              "[6 rows x 16 columns]"
            ]
          },
          "metadata": {
            "tags": []
          },
          "execution_count": 0
        }
      ]
    },
    {
      "cell_type": "code",
      "metadata": {
        "colab": {
          "background_save": true
        },
        "id": "57IZWltqvplO",
        "outputId": "23334d7c-7e5b-422b-a1d3-5a2133b6a1f8"
      },
      "source": [
        "tfidf.vocabulary_"
      ],
      "execution_count": null,
      "outputs": [
        {
          "output_type": "execute_result",
          "data": {
            "text/plain": [
              "{'go': 3807,\n",
              " 'until': 8487,\n",
              " 'jurong': 4675,\n",
              " 'point': 6296,\n",
              " ',': 13,\n",
              " 'crazy': 2549,\n",
              " '..': 21,\n",
              " 'available': 1531,\n",
              " 'only': 5910,\n",
              " 'in': 4396,\n",
              " 'bugis': 1973,\n",
              " 'n': 5594,\n",
              " 'great': 3894,\n",
              " 'world': 8977,\n",
              " 'la': 4811,\n",
              " 'e': 3056,\n",
              " 'buffet': 1971,\n",
              " '...': 25,\n",
              " 'cine': 2277,\n",
              " 'there': 8071,\n",
              " 'got': 3855,\n",
              " 'amore': 1296,\n",
              " 'wat': 8736,\n",
              " 'ok': 5874,\n",
              " 'lar': 4848,\n",
              " 'joking': 4642,\n",
              " 'wif': 8875,\n",
              " 'u': 8395,\n",
              " 'oni': 5906,\n",
              " 'free': 3604,\n",
              " 'entry': 3195,\n",
              " '2': 471,\n",
              " 'a': 1054,\n",
              " 'wkly': 8933,\n",
              " 'comp': 2386,\n",
              " 'to': 8192,\n",
              " 'win': 8890,\n",
              " 'fa': 3328,\n",
              " 'cup': 2608,\n",
              " 'final': 3450,\n",
              " 'tkts': 8180,\n",
              " '21st': 497,\n",
              " 'may': 5272,\n",
              " '2005': 487,\n",
              " '.': 15,\n",
              " 'text': 8020,\n",
              " '87121': 948,\n",
              " 'receive': 6688,\n",
              " 'question': 6574,\n",
              " '(': 9,\n",
              " 'std': 7651,\n",
              " 'txt': 8379,\n",
              " 'rate': 6628,\n",
              " ')': 10,\n",
              " 't': 7889,\n",
              " '&': 7,\n",
              " \"c's\": 2020,\n",
              " 'apply': 1383,\n",
              " '08452810075': 115,\n",
              " 'over': 6003,\n",
              " '18': 438,\n",
              " \"'\": 8,\n",
              " 's': 6959,\n",
              " 'dun': 3041,\n",
              " 'say': 7034,\n",
              " 'so': 7438,\n",
              " 'early': 3069,\n",
              " 'hor': 4207,\n",
              " 'c': 2019,\n",
              " 'already': 1268,\n",
              " 'then': 8065,\n",
              " 'nah': 5606,\n",
              " 'i': 4311,\n",
              " \"don't\": 2948,\n",
              " 'think': 8092,\n",
              " 'he': 4048,\n",
              " 'goes': 3819,\n",
              " 'usf': 8537,\n",
              " 'lives': 5004,\n",
              " 'around': 1435,\n",
              " 'here': 4104,\n",
              " 'though': 8111,\n",
              " 'freemsg': 3613,\n",
              " 'hey': 4116,\n",
              " 'darling': 2666,\n",
              " \"it's\": 4535,\n",
              " 'been': 1693,\n",
              " '3': 591,\n",
              " \"week's\": 8788,\n",
              " 'now': 5784,\n",
              " 'and': 1310,\n",
              " 'no': 5732,\n",
              " 'word': 8967,\n",
              " 'back': 1584,\n",
              " '!': 0,\n",
              " \"i'd\": 4312,\n",
              " 'like': 4954,\n",
              " 'some': 7454,\n",
              " 'fun': 3677,\n",
              " 'you': 9158,\n",
              " 'up': 8489,\n",
              " 'for': 3552,\n",
              " 'it': 4533,\n",
              " 'still': 7674,\n",
              " '?': 1037,\n",
              " 'tb': 7955,\n",
              " 'xxx': 9097,\n",
              " 'chgs': 2230,\n",
              " 'send': 7127,\n",
              " '£': 9216,\n",
              " '1.50': 344,\n",
              " 'rcv': 6641,\n",
              " 'even': 3240,\n",
              " 'my': 5584,\n",
              " 'brother': 1942,\n",
              " 'is': 4519,\n",
              " 'not': 5769,\n",
              " 'speak': 7529,\n",
              " 'with': 8918,\n",
              " 'me': 5281,\n",
              " 'they': 8083,\n",
              " 'treat': 8312,\n",
              " 'aids': 1214,\n",
              " 'patent': 6106,\n",
              " 'as': 1452,\n",
              " 'per': 6148,\n",
              " 'your': 9171,\n",
              " 'request': 6796,\n",
              " 'melle': 5315,\n",
              " 'oru': 5968,\n",
              " 'minnaminunginte': 5386,\n",
              " 'nurungu': 5807,\n",
              " 'vettam': 8599,\n",
              " 'has': 4022,\n",
              " 'set': 7154,\n",
              " 'callertune': 2047,\n",
              " 'all': 1253,\n",
              " 'callers': 2046,\n",
              " 'press': 6418,\n",
              " '*': 11,\n",
              " '9': 982,\n",
              " 'copy': 2489,\n",
              " 'friends': 3634,\n",
              " 'winner': 8900,\n",
              " 'valued': 8569,\n",
              " 'network': 5678,\n",
              " 'customer': 2620,\n",
              " 'have': 4036,\n",
              " 'selected': 7113,\n",
              " 'receivea': 6689,\n",
              " '900': 986,\n",
              " 'prize': 6450,\n",
              " 'reward': 6851,\n",
              " 'claim': 2283,\n",
              " 'call': 2038,\n",
              " '09061701461': 263,\n",
              " 'code': 2344,\n",
              " 'kl341': 4771,\n",
              " 'valid': 8565,\n",
              " '12': 384,\n",
              " 'hours': 4226,\n",
              " 'had': 3965,\n",
              " 'mobile': 5441,\n",
              " '11': 371,\n",
              " 'months': 5484,\n",
              " 'or': 5946,\n",
              " 'more': 5489,\n",
              " 'r': 6590,\n",
              " 'entitled': 3192,\n",
              " 'update': 8495,\n",
              " 'the': 8052,\n",
              " 'latest': 4862,\n",
              " 'colour': 2364,\n",
              " 'mobiles': 5442,\n",
              " 'camera': 2058,\n",
              " 'co': 2333,\n",
              " 'on': 5897,\n",
              " '08002986030': 99,\n",
              " \"i'm\": 4314,\n",
              " 'gonna': 3834,\n",
              " 'be': 1669,\n",
              " 'home': 4176,\n",
              " 'soon': 7483,\n",
              " 'want': 8715,\n",
              " 'talk': 7921,\n",
              " 'about': 1076,\n",
              " 'this': 8100,\n",
              " 'stuff': 7741,\n",
              " 'anymore': 1350,\n",
              " 'tonight': 8235,\n",
              " 'k': 4683,\n",
              " \"i've\": 4316,\n",
              " 'cried': 2566,\n",
              " 'enough': 3182,\n",
              " 'today': 8199,\n",
              " 'six': 7341,\n",
              " 'chances': 2172,\n",
              " 'cash': 2116,\n",
              " 'from': 3652,\n",
              " '100': 354,\n",
              " '20,000': 482,\n",
              " 'pounds': 6357,\n",
              " '>': 1035,\n",
              " 'csh': 2584,\n",
              " '87575': 952,\n",
              " 'cost': 2501,\n",
              " '150p': 415,\n",
              " '/': 27,\n",
              " 'day': 2683,\n",
              " '6days': 827,\n",
              " '16': 431,\n",
              " '+': 12,\n",
              " 'tsandcs': 8344,\n",
              " 'reply': 6788,\n",
              " 'hl': 4148,\n",
              " '4': 659,\n",
              " 'info': 4433,\n",
              " 'urgent': 8513,\n",
              " 'won': 8950,\n",
              " '1': 337,\n",
              " 'week': 8787,\n",
              " 'membership': 5321,\n",
              " 'our': 5980,\n",
              " '100,000': 355,\n",
              " 'jackpot': 4564,\n",
              " ':': 1006,\n",
              " '81010': 900,\n",
              " 'www.dbuk.net': 9039,\n",
              " 'lccltd': 4880,\n",
              " 'pobox': 6286,\n",
              " '4403ldnw1a7rw18': 696,\n",
              " 'searching': 7081,\n",
              " 'right': 6863,\n",
              " 'words': 8968,\n",
              " 'thank': 8037,\n",
              " 'breather': 1912,\n",
              " 'promise': 6487,\n",
              " 'wont': 8958,\n",
              " 'take': 7913,\n",
              " 'help': 4089,\n",
              " 'granted': 3883,\n",
              " 'will': 8887,\n",
              " 'fulfil': 3673,\n",
              " 'wonderful': 8955,\n",
              " 'blessing': 1802,\n",
              " 'at': 1488,\n",
              " 'times': 8158,\n",
              " 'date': 2675,\n",
              " 'sunday': 7805,\n",
              " 'xxxmobilemovieclub': 9098,\n",
              " 'use': 8531,\n",
              " 'credit': 2556,\n",
              " 'click': 2306,\n",
              " 'wap': 8719,\n",
              " 'link': 4977,\n",
              " 'next': 5696,\n",
              " 'message': 5340,\n",
              " 'http://wap': 4259,\n",
              " 'xxxmobilemovieclub.com': 9099,\n",
              " '=': 1031,\n",
              " 'qjkgighjjgcbl': 6566,\n",
              " 'oh': 5869,\n",
              " 'watching': 8743,\n",
              " ':)': 1008,\n",
              " 'eh': 3116,\n",
              " 'remember': 6755,\n",
              " 'how': 4233,\n",
              " 'spell': 7545,\n",
              " 'his': 4139,\n",
              " 'name': 5612,\n",
              " 'yes': 9137,\n",
              " 'did': 2823,\n",
              " 'v': 8553,\n",
              " 'naughty': 5635,\n",
              " 'make': 5193,\n",
              " 'wet': 8828,\n",
              " 'fine': 3458,\n",
              " 'if': 4350,\n",
              " 'that': 8045,\n",
              " '\\x92': 9211,\n",
              " 'way': 8753,\n",
              " 'feel': 3400,\n",
              " 'its': 4546,\n",
              " 'gota': 3856,\n",
              " 'b': 1560,\n",
              " 'england': 3173,\n",
              " 'macedonia': 5156,\n",
              " '-': 14,\n",
              " 'dont': 2952,\n",
              " 'miss': 5402,\n",
              " 'goals': 3812,\n",
              " 'team': 7968,\n",
              " 'news': 5692,\n",
              " 'ur': 8510,\n",
              " 'national': 5629,\n",
              " '87077': 947,\n",
              " 'eg': 3109,\n",
              " 'try': 8340,\n",
              " 'wales': 8695,\n",
              " 'scotland': 7060,\n",
              " '4txt': 737,\n",
              " 'ú1': 9220,\n",
              " '20': 481,\n",
              " 'poboxox': 6287,\n",
              " '36504w45wq': 629,\n",
              " 'seriously': 7147,\n",
              " '‘': 9225,\n",
              " 'm': 5139,\n",
              " 'going': 3823,\n",
              " 'ha': 3961,\n",
              " 'ü': 9221,\n",
              " 'pay': 6119,\n",
              " 'first': 3476,\n",
              " 'when': 8840,\n",
              " 'da': 2639,\n",
              " 'stock': 7678,\n",
              " 'comin': 2376,\n",
              " 'aft': 1182,\n",
              " 'finish': 3462,\n",
              " 'lunch': 5121,\n",
              " 'str': 7702,\n",
              " 'down': 2974,\n",
              " 'lor': 5058,\n",
              " 'ard': 1410,\n",
              " 'smth': 7422,\n",
              " 'ffffffffff': 3420,\n",
              " 'alright': 1269,\n",
              " 'can': 2062,\n",
              " 'meet': 5303,\n",
              " 'sooner': 7485,\n",
              " 'just': 4677,\n",
              " 'forced': 3554,\n",
              " 'myself': 5591,\n",
              " 'eat': 3081,\n",
              " 'slice': 7372,\n",
              " 'really': 6670,\n",
              " 'hungry': 4287,\n",
              " 'tho': 8107,\n",
              " 'sucks': 7778,\n",
              " 'mark': 5230,\n",
              " 'getting': 3767,\n",
              " 'worried': 8981,\n",
              " 'knows': 4782,\n",
              " 'sick': 7289,\n",
              " 'turn': 8362,\n",
              " 'pizza': 6238,\n",
              " 'lol': 5035,\n",
              " 'always': 1279,\n",
              " 'convincing': 2476,\n",
              " 'catch': 2128,\n",
              " 'bus': 1993,\n",
              " 'are': 1411,\n",
              " 'frying': 3660,\n",
              " 'an': 1305,\n",
              " 'egg': 3111,\n",
              " 'tea': 7962,\n",
              " 'eating': 3084,\n",
              " \"mom's\": 5463,\n",
              " 'left': 4901,\n",
              " 'dinner': 2858,\n",
              " 'do': 2909,\n",
              " 'love': 5081,\n",
              " \"we're\": 8760,\n",
              " 'packing': 6032,\n",
              " 'car': 2085,\n",
              " \"i'll\": 4313,\n",
              " 'let': 4923,\n",
              " 'know': 4779,\n",
              " \"there's\": 8074,\n",
              " 'room': 6906,\n",
              " 'ahhh': 1209,\n",
              " 'work': 8970,\n",
              " 'vaguely': 8560,\n",
              " 'what': 8832,\n",
              " 'does': 2923,\n",
              " 'wait': 8689,\n",
              " \"that's\": 8048,\n",
              " 'clear': 2300,\n",
              " 'were': 8817,\n",
              " 'sure': 7832,\n",
              " 'being': 1713,\n",
              " 'sarcastic': 7010,\n",
              " 'why': 8868,\n",
              " 'x': 9076,\n",
              " \"doesn't\": 2926,\n",
              " 'live': 5000,\n",
              " 'us': 8525,\n",
              " 'yeah': 9125,\n",
              " 'was': 8728,\n",
              " 'apologetic': 1371,\n",
              " 'fallen': 3352,\n",
              " 'out': 5983,\n",
              " 'she': 7199,\n",
              " 'actin': 1123,\n",
              " 'spoilt': 7572,\n",
              " 'child': 2238,\n",
              " 'caught': 2132,\n",
              " 'till': 8152,\n",
              " 'but': 1999,\n",
              " 'we': 8757,\n",
              " \"won't\": 8951,\n",
              " 'doing': 2938,\n",
              " 'too': 8242,\n",
              " 'badly': 1589,\n",
              " 'cheers': 2214,\n",
              " 'tell': 7985,\n",
              " 'anything': 1356,\n",
              " 'fear': 3391,\n",
              " 'of': 5847,\n",
              " 'fainting': 3344,\n",
              " 'housework': 4231,\n",
              " 'quick': 6577,\n",
              " 'cuppa': 2610,\n",
              " 'thanks': 8038,\n",
              " 'subscription': 7766,\n",
              " 'ringtone': 6872,\n",
              " 'uk': 8415,\n",
              " 'charged': 2184,\n",
              " '5': 745,\n",
              " 'month': 5479,\n",
              " 'please': 6265,\n",
              " 'confirm': 2431,\n",
              " 'by': 2016,\n",
              " 'replying': 6790,\n",
              " 'yup': 9192,\n",
              " 'look': 5046,\n",
              " 'timings': 8162,\n",
              " 'msg': 5528,\n",
              " 'again': 1190,\n",
              " 'xuhui': 9093,\n",
              " 'learn': 4892,\n",
              " '2nd': 567,\n",
              " 'her': 4099,\n",
              " 'lesson': 4921,\n",
              " '8am': 974,\n",
              " 'oops': 5921,\n",
              " \"roommate's\": 6909,\n",
              " 'done': 2950,\n",
              " 'see': 7098,\n",
              " 'letter': 4926,\n",
              " 'decide': 2711,\n",
              " 'hello': 4084,\n",
              " \"how's\": 4235,\n",
              " 'saturday': 7024,\n",
              " 'texting': 8027,\n",
              " \"you'd\": 9159,\n",
              " 'decided': 2712,\n",
              " 'tomo': 8224,\n",
              " 'trying': 8342,\n",
              " 'invite': 4493,\n",
              " 'pls': 6273,\n",
              " 'ahead': 1208,\n",
              " 'watts': 8751,\n",
              " 'wanted': 8716,\n",
              " 'weekend': 8791,\n",
              " 'abiola': 1072,\n",
              " 'forget': 3560,\n",
              " 'need': 5654,\n",
              " 'crave': 2546,\n",
              " 'most': 5499,\n",
              " 'sweet': 7863,\n",
              " 'arabian': 1407,\n",
              " 'steed': 7658,\n",
              " 'mmmmmm': 5431,\n",
              " 'yummy': 9187,\n",
              " '07732584351': 62,\n",
              " 'rodger': 6895,\n",
              " 'burns': 1990,\n",
              " 'tried': 8321,\n",
              " 're': 6645,\n",
              " 'sms': 7416,\n",
              " 'nokia': 5744,\n",
              " 'camcorder': 2056,\n",
              " '08000930705': 95,\n",
              " 'delivery': 2750,\n",
              " 'tomorrow': 8226,\n",
              " 'who': 8859,\n",
              " 'seeing': 7101,\n",
              " 'hope': 4198,\n",
              " 'man': 5203,\n",
              " 'well': 8807,\n",
              " 'endowed': 3163,\n",
              " 'am': 1281,\n",
              " '<#>': 1024,\n",
              " 'inches': 4401,\n",
              " 'calls': 2053,\n",
              " 'messages': 5344,\n",
              " 'missed': 5405,\n",
              " \"didn't\": 2828,\n",
              " 'get': 3760,\n",
              " 'hep': 4098,\n",
              " 'immunisation': 4379,\n",
              " 'nigeria': 5708,\n",
              " 'fair': 3345,\n",
              " 'hopefully': 4201,\n",
              " 'tyler': 8389,\n",
              " \"can't\": 2063,\n",
              " 'could': 2511,\n",
              " 'maybe': 5274,\n",
              " 'ask': 1463,\n",
              " 'bit': 1779,\n",
              " 'stubborn': 7730,\n",
              " 'hospital': 4214,\n",
              " 'kept': 4730,\n",
              " 'telling': 7986,\n",
              " 'weak': 8762,\n",
              " 'sucker': 7776,\n",
              " 'hospitals': 4215,\n",
              " 'suckers': 7777,\n",
              " 'thinked': 8093,\n",
              " 'time': 8154,\n",
              " 'saw': 7033,\n",
              " 'class': 2292,\n",
              " 'gram': 3875,\n",
              " 'usually': 8543,\n",
              " 'runs': 6949,\n",
              " 'half': 3977,\n",
              " 'eighth': 3119,\n",
              " 'smarter': 7395,\n",
              " 'gets': 3763,\n",
              " 'almost': 1264,\n",
              " 'whole': 8862,\n",
              " 'second': 7085,\n",
              " 'fyi': 3693,\n",
              " 'ride': 6862,\n",
              " 'morning': 5493,\n",
              " \"he's\": 4050,\n",
              " 'crashing': 2545,\n",
              " 'place': 6240,\n",
              " 'wow': 8997,\n",
              " 'never': 5683,\n",
              " 'realized': 6668,\n",
              " 'embarassed': 3144,\n",
              " 'accomodations': 1103,\n",
              " 'thought': 8112,\n",
              " 'liked': 4955,\n",
              " 'since': 7314,\n",
              " 'best': 1733,\n",
              " 'seemed': 7105,\n",
              " 'happy': 4011,\n",
              " '\"': 1,\n",
              " 'cave': 2136,\n",
              " 'sorry': 7494,\n",
              " 'give': 3788,\n",
              " 'offered': 5855,\n",
              " 'embarassing': 3145,\n",
              " 'ac': 1089,\n",
              " 'sptv': 7594,\n",
              " 'new': 5687,\n",
              " 'jersey': 4608,\n",
              " 'devils': 2803,\n",
              " 'detroit': 2797,\n",
              " 'red': 6711,\n",
              " 'wings': 8898,\n",
              " 'play': 6255,\n",
              " 'ice': 4330,\n",
              " 'hockey': 4161,\n",
              " 'correct': 2494,\n",
              " 'incorrect': 4412,\n",
              " 'end': 3158,\n",
              " 'mallika': 5202,\n",
              " 'sherawat': 7208,\n",
              " 'yesterday': 9141,\n",
              " 'find': 3455,\n",
              " '@': 1038,\n",
              " '<url>': 1030,\n",
              " 'congrats': 2437,\n",
              " 'year': 9126,\n",
              " 'special': 7531,\n",
              " 'cinema': 2278,\n",
              " 'pass': 6094,\n",
              " 'yours': 9176,\n",
              " '09061209465': 258,\n",
              " 'suprman': 7830,\n",
              " 'matrix': 5263,\n",
              " 'starwars': 7638,\n",
              " 'etc': 3230,\n",
              " 'bx420': 2014,\n",
              " 'ip4': 4502,\n",
              " '5we': 781,\n",
              " '150pm': 417,\n",
              " 'later': 4861,\n",
              " 'meeting': 5305,\n",
              " 'where': 8846,\n",
              " 'reached': 6652,\n",
              " 'gauti': 3728,\n",
              " 'sehwag': 7110,\n",
              " 'odi': 5846,\n",
              " 'series': 7145,\n",
              " 'pick': 6211,\n",
              " '$': 5,\n",
              " 'burger': 1985,\n",
              " 'yourself': 9177,\n",
              " 'move': 5513,\n",
              " 'pain': 6039,\n",
              " 'killing': 4754,\n",
              " 'good': 3836,\n",
              " 'joke': 4636,\n",
              " 'girls': 3785,\n",
              " 'situation': 7338,\n",
              " 'seekers': 7102,\n",
              " 'part': 6081,\n",
              " 'checking': 2208,\n",
              " 'iq': 4508,\n",
              " 'roommates': 6910,\n",
              " 'took': 8245,\n",
              " 'forever': 3557,\n",
              " 'come': 2371,\n",
              " 'double': 2966,\n",
              " 'check': 2204,\n",
              " 'hair': 3972,\n",
              " 'dresser': 2998,\n",
              " 'said': 6980,\n",
              " 'wun': 9024,\n",
              " 'cut': 2624,\n",
              " 'short': 7248,\n",
              " 'nice': 5701,\n",
              " 'pleased': 6266,\n",
              " 'advise': 1165,\n",
              " 'following': 3534,\n",
              " 'recent': 6692,\n",
              " 'review': 6849,\n",
              " 'mob': 5439,\n",
              " 'awarded': 1549,\n",
              " '1500': 414,\n",
              " 'bonus': 1844,\n",
              " '09066364589': 306,\n",
              " 'song': 7478,\n",
              " 'dedicated': 2722,\n",
              " 'which': 8853,\n",
              " 'dedicate': 2721,\n",
              " 'valuable': 8566,\n",
              " 'frnds': 3643,\n",
              " 'rply': 6925,\n",
              " 'complimentary': 2406,\n",
              " 'trip': 8322,\n",
              " 'eurodisinc': 3234,\n",
              " 'trav': 8304,\n",
              " 'aco': 1119,\n",
              " '41': 679,\n",
              " '1000': 356,\n",
              " 'dis': 2871,\n",
              " '6': 785,\n",
              " 'morefrmmob': 5490,\n",
              " 'shracomorsglsuplt': 7273,\n",
              " '10': 350,\n",
              " 'ls1': 5103,\n",
              " '3aj': 638,\n",
              " 'hear': 4062,\n",
              " 'divorce': 2900,\n",
              " 'barbie': 1620,\n",
              " 'comes': 2373,\n",
              " \"ken's\": 4728,\n",
              " 'plane': 6247,\n",
              " 'wah': 8682,\n",
              " 'lucky': 5114,\n",
              " 'save': 7029,\n",
              " 'money': 5470,\n",
              " 'hee': 4075,\n",
              " 'finished': 3464,\n",
              " 'hi': 4120,\n",
              " 'babe': 1574,\n",
              " 'im': 4368,\n",
              " 'wanna': 8713,\n",
              " 'something': 7464,\n",
              " 'xx': 9094,\n",
              " 'performed': 6155,\n",
              " 'waiting': 8692,\n",
              " 'machan': 5158,\n",
              " 'once': 5901,\n",
              " 'thats': 8051,\n",
              " 'cool': 2481,\n",
              " 'gentleman': 3751,\n",
              " 'dignity': 2848,\n",
              " 'respect': 6816,\n",
              " 'peoples': 6147,\n",
              " 'very': 8598,\n",
              " 'much': 5544,\n",
              " 'shy': 7283,\n",
              " 'pa': 6027,\n",
              " 'operate': 5928,\n",
              " 'after': 1183,\n",
              " 'same': 6996,\n",
              " 'looking': 5050,\n",
              " 'job': 4623,\n",
              " \"ta's\": 7896,\n",
              " 'earn': 3070,\n",
              " 'ah': 1204,\n",
              " 'stop': 7688,\n",
              " 'urgnt': 8517,\n",
              " 'real': 6662,\n",
              " 'yo': 9152,\n",
              " 'tickets': 8142,\n",
              " 'one': 5903,\n",
              " 'jacket': 4563,\n",
              " 'used': 8532,\n",
              " 'multis': 5553,\n",
              " 'started': 7632,\n",
              " 'requests': 6797,\n",
              " 'came': 2057,\n",
              " 'bed': 1686,\n",
              " 'coins': 2350,\n",
              " 'factory': 3335,\n",
              " 'gotta': 3860,\n",
              " 'nitros': 5727,\n",
              " 'ela': 3124,\n",
              " 'kano': 4708,\n",
              " 'il': 4362,\n",
              " 'download': 2975,\n",
              " 'wen': 8811,\n",
              " 'don': 2947,\n",
              " 'stand': 7620,\n",
              " 'close': 2313,\n",
              " 'll': 5008,\n",
              " 'another': 1332,\n",
              " 'night': 5710,\n",
              " 'spent': 7550,\n",
              " 'late': 4858,\n",
              " 'afternoon': 1185,\n",
              " 'casualty': 2126,\n",
              " 'means': 5291,\n",
              " \"haven't\": 4039,\n",
              " 'any': 1346,\n",
              " 'y': 9107,\n",
              " '42moro': 689,\n",
              " 'includes': 4405,\n",
              " 'sheets': 7203,\n",
              " 'smile': 7403,\n",
              " 'pleasure': 6268,\n",
              " 'trouble': 8328,\n",
              " 'pours': 6359,\n",
              " 'rain': 6602,\n",
              " 'sum': 7798,\n",
              " 'hurts': 4297,\n",
              " 'becoz': 1684,\n",
              " 'someone': 7457,\n",
              " 'loves': 5090,\n",
              " 'smiling': 7407,\n",
              " 'service': 7150,\n",
              " 'representative': 6794,\n",
              " '0800 169 6031': 86,\n",
              " 'between': 1741,\n",
              " '10am': 365,\n",
              " '9pm': 1002,\n",
              " 'guaranteed': 3930,\n",
              " '5000': 755,\n",
              " 'havent': 4040,\n",
              " 'planning': 6251,\n",
              " 'buy': 2004,\n",
              " 'lido': 4937,\n",
              " '530': 767,\n",
              " 'show': 7264,\n",
              " 'collected': 2358,\n",
              " 'simply': 7311,\n",
              " 'password': 6102,\n",
              " 'mix': 5421,\n",
              " '85069': 934,\n",
              " 'verify': 8594,\n",
              " 'usher': 8538,\n",
              " 'britney': 1932,\n",
              " 'fml': 3525,\n",
              " 'po': 6284,\n",
              " 'box': 1879,\n",
              " '5249': 764,\n",
              " 'mk17': 5424,\n",
              " '92h': 990,\n",
              " '450ppw': 705,\n",
              " 'telugu': 7991,\n",
              " 'movie': 5516,\n",
              " 'abt': 1084,\n",
              " 'loads': 5014,\n",
              " 'loans': 5016,\n",
              " 'wk': 8928,\n",
              " 'hols': 4174,\n",
              " 'run': 6946,\n",
              " 'forgot': 3565,\n",
              " 'hairdressers': 3974,\n",
              " 'appointment': 1386,\n",
              " 'four': 3584,\n",
              " 'shower': 7266,\n",
              " 'beforehand': 1702,\n",
              " 'cause': 2133,\n",
              " 'prob': 6456,\n",
              " 'coffee': 2345,\n",
              " 'animation': 1319,\n",
              " 'nothing': 5774,\n",
              " 'else': 3138,\n",
              " 'okay': 5877,\n",
              " 'price': 6431,\n",
              " 'long': 5042,\n",
              " 'legal': 4904,\n",
              " 'them': 8061,\n",
              " 'ave': 1536,\n",
              " 'ams': 1301,\n",
              " 'gone': 3832,\n",
              " '4the': 735,\n",
              " 'driving': 3007,\n",
              " 'test': 8014,\n",
              " 'yet': 9142,\n",
              " \"you're\": 9162,\n",
              " 'mean': 5287,\n",
              " 'guess': 3936,\n",
              " 'gave': 3729,\n",
              " 'boston': 1866,\n",
              " 'men': 5326,\n",
              " 'changed': 2174,\n",
              " 'search': 7080,\n",
              " 'location': 5019,\n",
              " 'nyc': 5819,\n",
              " 'cuz': 2631,\n",
              " 'signin': 7299,\n",
              " 'page': 6035,\n",
              " 'says': 7038,\n",
              " 'umma': 8423,\n",
              " 'life': 4940,\n",
              " 'vava': 8580,\n",
              " 'lot': 5066,\n",
              " 'dear': 2699,\n",
              " 'wishes': 8912,\n",
              " 'birthday': 1777,\n",
              " 'making': 5197,\n",
              " 'truly': 8335,\n",
              " 'memorable': 5323,\n",
              " 'aight': 1216,\n",
              " 'hit': 4141,\n",
              " 'would': 8993,\n",
              " 'ip': 4501,\n",
              " 'address': 1141,\n",
              " 'considering': 2449,\n",
              " 'computer': 2412,\n",
              " \"isn't\": 4528,\n",
              " 'minecraft': 5380,\n",
              " 'server': 7149,\n",
              " 'grumpy': 3923,\n",
              " 'old': 5889,\n",
              " 'people': 6146,\n",
              " 'mom': 5462,\n",
              " 'better': 1738,\n",
              " 'lying': 5135,\n",
              " 'jokes': 4640,\n",
              " 'worry': 8983,\n",
              " 'busy': 1998,\n",
              " 'plural': 6277,\n",
              " 'noun': 5781,\n",
              " 'research': 6802,\n",
              " 'dinner.msg': 2859,\n",
              " 'cos': 2499,\n",
              " 'things': 8091,\n",
              " 'scared': 7044,\n",
              " 'mah': 5180,\n",
              " 'loud': 5076,\n",
              " 'gent': 3749,\n",
              " 'contact': 2454,\n",
              " 'last': 4855,\n",
              " 'weekends': 8793,\n",
              " 'draw': 2989,\n",
              " 'shows': 7272,\n",
              " '09064012160': 282,\n",
              " 'k52': 4691,\n",
              " '12hrs': 398,\n",
              " '150ppm': 419,\n",
              " 'wa': 8677,\n",
              " 'openin': 5925,\n",
              " 'sentence': 7138,\n",
              " 'formal': 3569,\n",
              " 'anyway': 1360,\n",
              " 'juz': 4682,\n",
              " 'tt': 8348,\n",
              " 'eatin': 3083,\n",
              " 'puttin': 6554,\n",
              " 'weight': 8798,\n",
              " 'haha': 3968,\n",
              " 'anythin': 1355,\n",
              " 'happened': 4003,\n",
              " 'entered': 3185,\n",
              " 'cabin': 2025,\n",
              " \"b'day\": 1562,\n",
              " 'boss': 1865,\n",
              " 'felt': 3411,\n",
              " 'askd': 1464,\n",
              " 'invited': 4494,\n",
              " 'apartment': 1365,\n",
              " 'went': 8814,\n",
              " 'specially': 7536,\n",
              " 'holiday': 4171,\n",
              " 'flights': 3502,\n",
              " 'inc': 4399,\n",
              " 'operator': 5929,\n",
              " '08712778109': 166,\n",
              " '10p': 368,\n",
              " 'min': 5372,\n",
              " 'goodo': 3846,\n",
              " 'must': 5575,\n",
              " 'friday': 3626,\n",
              " 'egg-potato': 3112,\n",
              " 'ratio': 6631,\n",
              " 'tortilla': 8262,\n",
              " 'needed': 5656,\n",
              " 'hmm': 4153,\n",
              " 'uncle': 8433,\n",
              " 'informed': 4438,\n",
              " 'paying': 6124,\n",
              " 'school': 7050,\n",
              " 'directly': 2865,\n",
              " 'food': 3542,\n",
              " 'private': 6447,\n",
              " '2004': 486,\n",
              " 'account': 1107,\n",
              " 'statement': 7641,\n",
              " '07742676969': 64,\n",
              " '786': 864,\n",
              " 'unredeemed': 8477,\n",
              " 'points': 6297,\n",
              " '08719180248': 213,\n",
              " 'identifier': 4344,\n",
              " '45239': 707,\n",
              " 'expires': 3307,\n",
              " '2000': 484,\n",
              " 'caller': 2045,\n",
              " '5/9': 752,\n",
              " '03': 46,\n",
              " 'landline': 4835,\n",
              " '09064019788': 288,\n",
              " '42wr29c': 690,\n",
              " 'apples': 1381,\n",
              " 'pairs': 6044,\n",
              " 'malarky': 5199,\n",
              " 'todays': 8205,\n",
              " 'voda': 8645,\n",
              " 'numbers': 5804,\n",
              " 'ending': 3160,\n",
              " '7548': 856,\n",
              " '350': 624,\n",
              " 'award': 1548,\n",
              " 'match': 5251,\n",
              " '08712300220': 149,\n",
              " 'quoting': 6589,\n",
              " '4041': 674,\n",
              " 'standard': 7621,\n",
              " 'rates': 6629,\n",
              " 'app': 1375,\n",
              " 'sao': 7004,\n",
              " 'mu': 5542,\n",
              " 'predict': 6392,\n",
              " \"ü'll\": 9222,\n",
              " 'buying': 2007,\n",
              " 'yetunde': 9144,\n",
              " \"hasn't\": 4024,\n",
              " 'sent': 7137,\n",
              " 'bother': 1869,\n",
              " 'sending': 7129,\n",
              " 'involve': 4498,\n",
              " \"shouldn't\": 7259,\n",
              " 'imposed': 4386,\n",
              " 'apologise': 1372,\n",
              " 'girl': 3782,\n",
              " 'del': 2740,\n",
              " 'bak': 1597,\n",
              " 'lucyxx': 5118,\n",
              " 'tmorrow.pls': 8185,\n",
              " 'accomodate': 1102,\n",
              " 'answer': 1335,\n",
              " 'sunshine': 7812,\n",
              " 'quiz': 6584,\n",
              " 'q': 6559,\n",
              " 'top': 8253,\n",
              " 'sony': 7480,\n",
              " 'dvd': 3051,\n",
              " 'player': 6257,\n",
              " 'country': 2518,\n",
              " 'algarve': 1245,\n",
              " 'ansr': 1334,\n",
              " '82277': 907,\n",
              " 'sp': 7516,\n",
              " 'tyrone': 8394,\n",
              " 'laid': 4827,\n",
              " 'dogging': 2932,\n",
              " 'locations': 5020,\n",
              " 'direct': 2864,\n",
              " 'join': 4631,\n",
              " \"uk's\": 8416,\n",
              " 'largest': 4852,\n",
              " 'bt': 1958,\n",
              " 'txting': 8383,\n",
              " 'gravel': 3888,\n",
              " '69888': 822,\n",
              " 'nt': 5791,\n",
              " 'ec2a': 3086,\n",
              " '31p': 611,\n",
              " '@150p': 1039,\n",
              " 'haf': 3967,\n",
              " 'msn': 5534,\n",
              " 'yijue@hotmail.com': 9149,\n",
              " 'him': 4132,\n",
              " 'rooms': 6911,\n",
              " 'befor': 1699,\n",
              " 'activities': 1129,\n",
              " \"you'll\": 9161,\n",
              " 'msgs': 5533,\n",
              " 'chat': 2195,\n",
              " ...}"
            ]
          },
          "metadata": {
            "tags": []
          },
          "execution_count": 0
        }
      ]
    },
    {
      "cell_type": "code",
      "metadata": {
        "colab": {
          "background_save": true
        },
        "id": "QfiHlxfvwjic"
      },
      "source": [
        "column_nums, terms = zip(*sorted(zip(tfidf.vocabulary_.values(), tfidf.vocabulary_.keys())))"
      ],
      "execution_count": null,
      "outputs": []
    },
    {
      "cell_type": "code",
      "metadata": {
        "colab": {
          "background_save": true
        },
        "id": "z8F7piFCxTqL",
        "outputId": "602841e9-2384-4f0c-9938-dcfbbbdbcb9a"
      },
      "source": [
        "column_nums[:5]"
      ],
      "execution_count": null,
      "outputs": [
        {
          "output_type": "execute_result",
          "data": {
            "text/plain": [
              "(0, 1, 2, 3, 4)"
            ]
          },
          "metadata": {
            "tags": []
          },
          "execution_count": 0
        }
      ]
    },
    {
      "cell_type": "code",
      "metadata": {
        "colab": {
          "background_save": true
        },
        "id": "IS3ePVNaxn1a",
        "outputId": "d34159f8-ee75-43ad-d444-04b9adfd58ec"
      },
      "source": [
        "terms[:5]"
      ],
      "execution_count": null,
      "outputs": [
        {
          "output_type": "execute_result",
          "data": {
            "text/plain": [
              "('!', '\"', '#', '#150', '#5000')"
            ]
          },
          "metadata": {
            "tags": []
          },
          "execution_count": 0
        }
      ]
    },
    {
      "cell_type": "code",
      "metadata": {
        "colab": {
          "background_save": true
        },
        "id": "n7-FmIDVxqtq"
      },
      "source": [
        "weights = pd.DataFrame(pca.components_, columns=terms, index=['topic{}'.format(i) for i in range(16)])"
      ],
      "execution_count": null,
      "outputs": []
    },
    {
      "cell_type": "code",
      "metadata": {
        "colab": {
          "background_save": true
        },
        "id": "fSTZoMCRyDhL"
      },
      "source": [
        "pd.options.display.max_columns=8"
      ],
      "execution_count": null,
      "outputs": []
    },
    {
      "cell_type": "code",
      "metadata": {
        "colab": {
          "background_save": true,
          "base_uri": "https://localhost:8080/",
          "height": 202
        },
        "id": "9UB8_rfZyPR4",
        "outputId": "50978ba8-4f66-4370-9f8e-d341cfc945aa"
      },
      "source": [
        "weights.head(4).round(3)"
      ],
      "execution_count": null,
      "outputs": [
        {
          "output_type": "execute_result",
          "data": {
            "text/html": [
              "<div>\n",
              "<style scoped>\n",
              "    .dataframe tbody tr th:only-of-type {\n",
              "        vertical-align: middle;\n",
              "    }\n",
              "\n",
              "    .dataframe tbody tr th {\n",
              "        vertical-align: top;\n",
              "    }\n",
              "\n",
              "    .dataframe thead th {\n",
              "        text-align: right;\n",
              "    }\n",
              "</style>\n",
              "<table border=\"1\" class=\"dataframe\">\n",
              "  <thead>\n",
              "    <tr style=\"text-align: right;\">\n",
              "      <th></th>\n",
              "      <th>!</th>\n",
              "      <th>\"</th>\n",
              "      <th>#</th>\n",
              "      <th>#150</th>\n",
              "      <th>...</th>\n",
              "      <th>…</th>\n",
              "      <th>┾</th>\n",
              "      <th>〨ud</th>\n",
              "      <th>鈥</th>\n",
              "    </tr>\n",
              "  </thead>\n",
              "  <tbody>\n",
              "    <tr>\n",
              "      <th>topic0</th>\n",
              "      <td>-0.071</td>\n",
              "      <td>0.008</td>\n",
              "      <td>-0.001</td>\n",
              "      <td>-0.000</td>\n",
              "      <td>...</td>\n",
              "      <td>-0.002</td>\n",
              "      <td>0.001</td>\n",
              "      <td>0.001</td>\n",
              "      <td>0.001</td>\n",
              "    </tr>\n",
              "    <tr>\n",
              "      <th>topic1</th>\n",
              "      <td>0.064</td>\n",
              "      <td>0.008</td>\n",
              "      <td>0.000</td>\n",
              "      <td>-0.000</td>\n",
              "      <td>...</td>\n",
              "      <td>0.003</td>\n",
              "      <td>0.001</td>\n",
              "      <td>0.001</td>\n",
              "      <td>0.001</td>\n",
              "    </tr>\n",
              "    <tr>\n",
              "      <th>topic2</th>\n",
              "      <td>0.071</td>\n",
              "      <td>0.027</td>\n",
              "      <td>0.000</td>\n",
              "      <td>0.001</td>\n",
              "      <td>...</td>\n",
              "      <td>0.002</td>\n",
              "      <td>-0.001</td>\n",
              "      <td>-0.001</td>\n",
              "      <td>-0.001</td>\n",
              "    </tr>\n",
              "    <tr>\n",
              "      <th>topic3</th>\n",
              "      <td>-0.059</td>\n",
              "      <td>-0.032</td>\n",
              "      <td>-0.001</td>\n",
              "      <td>-0.000</td>\n",
              "      <td>...</td>\n",
              "      <td>0.001</td>\n",
              "      <td>0.001</td>\n",
              "      <td>0.001</td>\n",
              "      <td>0.001</td>\n",
              "    </tr>\n",
              "  </tbody>\n",
              "</table>\n",
              "<p>4 rows × 9232 columns</p>\n",
              "</div>"
            ],
            "text/plain": [
              "            !      \"      #   #150  ...      …      ┾    〨ud      鈥\n",
              "topic0 -0.071  0.008 -0.001 -0.000  ... -0.002  0.001  0.001  0.001\n",
              "topic1  0.064  0.008  0.000 -0.000  ...  0.003  0.001  0.001  0.001\n",
              "topic2  0.071  0.027  0.000  0.001  ...  0.002 -0.001 -0.001 -0.001\n",
              "topic3 -0.059 -0.032 -0.001 -0.000  ...  0.001  0.001  0.001  0.001\n",
              "\n",
              "[4 rows x 9232 columns]"
            ]
          },
          "metadata": {
            "tags": []
          },
          "execution_count": 0
        }
      ]
    },
    {
      "cell_type": "code",
      "metadata": {
        "colab": {
          "background_save": true
        },
        "id": "pR2-LUUeyVQY"
      },
      "source": [
        "pd.options.display.max_columns=12"
      ],
      "execution_count": null,
      "outputs": []
    },
    {
      "cell_type": "code",
      "metadata": {
        "colab": {
          "background_save": true
        },
        "id": "Y7xzBLpP0V6V"
      },
      "source": [
        "deals = weights['! ;) :) half of free crazy deal only $ 80 %'.split()].round(3) * 100"
      ],
      "execution_count": null,
      "outputs": []
    },
    {
      "cell_type": "code",
      "metadata": {
        "colab": {
          "background_save": true,
          "base_uri": "https://localhost:8080/",
          "height": 545
        },
        "id": "kfENNGSM0vlk",
        "outputId": "eb83fc33-dfa6-41b1-afce-a20cf2580330"
      },
      "source": [
        "deals"
      ],
      "execution_count": null,
      "outputs": [
        {
          "output_type": "execute_result",
          "data": {
            "text/html": [
              "<div>\n",
              "<style scoped>\n",
              "    .dataframe tbody tr th:only-of-type {\n",
              "        vertical-align: middle;\n",
              "    }\n",
              "\n",
              "    .dataframe tbody tr th {\n",
              "        vertical-align: top;\n",
              "    }\n",
              "\n",
              "    .dataframe thead th {\n",
              "        text-align: right;\n",
              "    }\n",
              "</style>\n",
              "<table border=\"1\" class=\"dataframe\">\n",
              "  <thead>\n",
              "    <tr style=\"text-align: right;\">\n",
              "      <th></th>\n",
              "      <th>!</th>\n",
              "      <th>;)</th>\n",
              "      <th>:)</th>\n",
              "      <th>half</th>\n",
              "      <th>of</th>\n",
              "      <th>free</th>\n",
              "      <th>crazy</th>\n",
              "      <th>deal</th>\n",
              "      <th>only</th>\n",
              "      <th>$</th>\n",
              "      <th>80</th>\n",
              "      <th>%</th>\n",
              "    </tr>\n",
              "  </thead>\n",
              "  <tbody>\n",
              "    <tr>\n",
              "      <th>topic0</th>\n",
              "      <td>-7.1</td>\n",
              "      <td>0.1</td>\n",
              "      <td>-0.5</td>\n",
              "      <td>-0.0</td>\n",
              "      <td>-2.1</td>\n",
              "      <td>-2.0</td>\n",
              "      <td>-0.0</td>\n",
              "      <td>-0.1</td>\n",
              "      <td>-2.2</td>\n",
              "      <td>0.3</td>\n",
              "      <td>-0.0</td>\n",
              "      <td>-0.0</td>\n",
              "    </tr>\n",
              "    <tr>\n",
              "      <th>topic1</th>\n",
              "      <td>6.4</td>\n",
              "      <td>0.0</td>\n",
              "      <td>7.4</td>\n",
              "      <td>0.1</td>\n",
              "      <td>1.7</td>\n",
              "      <td>-2.3</td>\n",
              "      <td>-0.2</td>\n",
              "      <td>-0.1</td>\n",
              "      <td>-3.8</td>\n",
              "      <td>-0.1</td>\n",
              "      <td>-0.0</td>\n",
              "      <td>-0.2</td>\n",
              "    </tr>\n",
              "    <tr>\n",
              "      <th>topic2</th>\n",
              "      <td>7.1</td>\n",
              "      <td>0.2</td>\n",
              "      <td>-0.1</td>\n",
              "      <td>0.0</td>\n",
              "      <td>-0.6</td>\n",
              "      <td>4.4</td>\n",
              "      <td>0.1</td>\n",
              "      <td>-0.1</td>\n",
              "      <td>0.7</td>\n",
              "      <td>0.0</td>\n",
              "      <td>0.0</td>\n",
              "      <td>0.1</td>\n",
              "    </tr>\n",
              "    <tr>\n",
              "      <th>topic3</th>\n",
              "      <td>-5.9</td>\n",
              "      <td>-0.3</td>\n",
              "      <td>-7.1</td>\n",
              "      <td>0.2</td>\n",
              "      <td>-1.4</td>\n",
              "      <td>-0.2</td>\n",
              "      <td>0.0</td>\n",
              "      <td>0.1</td>\n",
              "      <td>-2.3</td>\n",
              "      <td>0.1</td>\n",
              "      <td>-0.1</td>\n",
              "      <td>-0.3</td>\n",
              "    </tr>\n",
              "    <tr>\n",
              "      <th>topic4</th>\n",
              "      <td>38.1</td>\n",
              "      <td>-0.1</td>\n",
              "      <td>-12.5</td>\n",
              "      <td>-0.1</td>\n",
              "      <td>-0.5</td>\n",
              "      <td>9.9</td>\n",
              "      <td>0.1</td>\n",
              "      <td>-0.2</td>\n",
              "      <td>3.0</td>\n",
              "      <td>0.3</td>\n",
              "      <td>0.1</td>\n",
              "      <td>-0.1</td>\n",
              "    </tr>\n",
              "    <tr>\n",
              "      <th>topic5</th>\n",
              "      <td>-26.5</td>\n",
              "      <td>0.1</td>\n",
              "      <td>-1.5</td>\n",
              "      <td>-0.3</td>\n",
              "      <td>-5.9</td>\n",
              "      <td>-1.3</td>\n",
              "      <td>-0.6</td>\n",
              "      <td>-0.2</td>\n",
              "      <td>-1.8</td>\n",
              "      <td>-0.9</td>\n",
              "      <td>0.0</td>\n",
              "      <td>0.0</td>\n",
              "    </tr>\n",
              "    <tr>\n",
              "      <th>topic6</th>\n",
              "      <td>-10.9</td>\n",
              "      <td>-0.5</td>\n",
              "      <td>19.9</td>\n",
              "      <td>-0.4</td>\n",
              "      <td>-2.0</td>\n",
              "      <td>-0.6</td>\n",
              "      <td>-0.2</td>\n",
              "      <td>-0.1</td>\n",
              "      <td>-1.4</td>\n",
              "      <td>-0.0</td>\n",
              "      <td>-0.0</td>\n",
              "      <td>-0.1</td>\n",
              "    </tr>\n",
              "    <tr>\n",
              "      <th>topic7</th>\n",
              "      <td>16.1</td>\n",
              "      <td>0.1</td>\n",
              "      <td>-17.6</td>\n",
              "      <td>0.8</td>\n",
              "      <td>3.4</td>\n",
              "      <td>-2.9</td>\n",
              "      <td>0.0</td>\n",
              "      <td>0.1</td>\n",
              "      <td>-1.8</td>\n",
              "      <td>-0.3</td>\n",
              "      <td>0.0</td>\n",
              "      <td>-0.1</td>\n",
              "    </tr>\n",
              "    <tr>\n",
              "      <th>topic8</th>\n",
              "      <td>34.4</td>\n",
              "      <td>0.1</td>\n",
              "      <td>5.2</td>\n",
              "      <td>-0.4</td>\n",
              "      <td>-4.6</td>\n",
              "      <td>0.1</td>\n",
              "      <td>-0.4</td>\n",
              "      <td>-0.4</td>\n",
              "      <td>3.3</td>\n",
              "      <td>-0.6</td>\n",
              "      <td>-0.0</td>\n",
              "      <td>-0.2</td>\n",
              "    </tr>\n",
              "    <tr>\n",
              "      <th>topic9</th>\n",
              "      <td>7.8</td>\n",
              "      <td>-0.3</td>\n",
              "      <td>16.0</td>\n",
              "      <td>1.4</td>\n",
              "      <td>-8.4</td>\n",
              "      <td>6.1</td>\n",
              "      <td>-0.5</td>\n",
              "      <td>-0.4</td>\n",
              "      <td>2.9</td>\n",
              "      <td>-0.5</td>\n",
              "      <td>-0.0</td>\n",
              "      <td>0.0</td>\n",
              "    </tr>\n",
              "    <tr>\n",
              "      <th>topic10</th>\n",
              "      <td>-32.3</td>\n",
              "      <td>-0.2</td>\n",
              "      <td>-9.7</td>\n",
              "      <td>0.1</td>\n",
              "      <td>-4.2</td>\n",
              "      <td>12.5</td>\n",
              "      <td>0.1</td>\n",
              "      <td>0.0</td>\n",
              "      <td>0.3</td>\n",
              "      <td>-0.0</td>\n",
              "      <td>-0.1</td>\n",
              "      <td>-0.2</td>\n",
              "    </tr>\n",
              "    <tr>\n",
              "      <th>topic11</th>\n",
              "      <td>-26.5</td>\n",
              "      <td>-0.4</td>\n",
              "      <td>-24.2</td>\n",
              "      <td>-0.4</td>\n",
              "      <td>3.2</td>\n",
              "      <td>5.9</td>\n",
              "      <td>-0.1</td>\n",
              "      <td>-0.1</td>\n",
              "      <td>0.8</td>\n",
              "      <td>0.4</td>\n",
              "      <td>0.0</td>\n",
              "      <td>0.3</td>\n",
              "    </tr>\n",
              "    <tr>\n",
              "      <th>topic12</th>\n",
              "      <td>25.3</td>\n",
              "      <td>0.0</td>\n",
              "      <td>-16.0</td>\n",
              "      <td>0.0</td>\n",
              "      <td>-3.7</td>\n",
              "      <td>7.5</td>\n",
              "      <td>0.7</td>\n",
              "      <td>-0.1</td>\n",
              "      <td>-3.8</td>\n",
              "      <td>-0.6</td>\n",
              "      <td>0.1</td>\n",
              "      <td>-0.5</td>\n",
              "    </tr>\n",
              "    <tr>\n",
              "      <th>topic13</th>\n",
              "      <td>0.4</td>\n",
              "      <td>-0.3</td>\n",
              "      <td>45.4</td>\n",
              "      <td>-0.5</td>\n",
              "      <td>-7.5</td>\n",
              "      <td>3.2</td>\n",
              "      <td>0.1</td>\n",
              "      <td>0.2</td>\n",
              "      <td>0.6</td>\n",
              "      <td>0.0</td>\n",
              "      <td>-0.0</td>\n",
              "      <td>0.1</td>\n",
              "    </tr>\n",
              "    <tr>\n",
              "      <th>topic14</th>\n",
              "      <td>0.9</td>\n",
              "      <td>-0.0</td>\n",
              "      <td>19.4</td>\n",
              "      <td>-0.2</td>\n",
              "      <td>4.8</td>\n",
              "      <td>3.5</td>\n",
              "      <td>0.1</td>\n",
              "      <td>-0.1</td>\n",
              "      <td>3.8</td>\n",
              "      <td>0.1</td>\n",
              "      <td>0.0</td>\n",
              "      <td>-0.3</td>\n",
              "    </tr>\n",
              "    <tr>\n",
              "      <th>topic15</th>\n",
              "      <td>6.2</td>\n",
              "      <td>-0.6</td>\n",
              "      <td>1.5</td>\n",
              "      <td>-0.6</td>\n",
              "      <td>-1.0</td>\n",
              "      <td>-4.3</td>\n",
              "      <td>-0.6</td>\n",
              "      <td>0.5</td>\n",
              "      <td>3.0</td>\n",
              "      <td>-0.5</td>\n",
              "      <td>0.1</td>\n",
              "      <td>-0.1</td>\n",
              "    </tr>\n",
              "  </tbody>\n",
              "</table>\n",
              "</div>"
            ],
            "text/plain": [
              "            !   ;)    :)  half   of  free  crazy  deal  only    $   80    %\n",
              "topic0   -7.1  0.1  -0.5  -0.0 -2.1  -2.0   -0.0  -0.1  -2.2  0.3 -0.0 -0.0\n",
              "topic1    6.4  0.0   7.4   0.1  1.7  -2.3   -0.2  -0.1  -3.8 -0.1 -0.0 -0.2\n",
              "topic2    7.1  0.2  -0.1   0.0 -0.6   4.4    0.1  -0.1   0.7  0.0  0.0  0.1\n",
              "topic3   -5.9 -0.3  -7.1   0.2 -1.4  -0.2    0.0   0.1  -2.3  0.1 -0.1 -0.3\n",
              "topic4   38.1 -0.1 -12.5  -0.1 -0.5   9.9    0.1  -0.2   3.0  0.3  0.1 -0.1\n",
              "topic5  -26.5  0.1  -1.5  -0.3 -5.9  -1.3   -0.6  -0.2  -1.8 -0.9  0.0  0.0\n",
              "topic6  -10.9 -0.5  19.9  -0.4 -2.0  -0.6   -0.2  -0.1  -1.4 -0.0 -0.0 -0.1\n",
              "topic7   16.1  0.1 -17.6   0.8  3.4  -2.9    0.0   0.1  -1.8 -0.3  0.0 -0.1\n",
              "topic8   34.4  0.1   5.2  -0.4 -4.6   0.1   -0.4  -0.4   3.3 -0.6 -0.0 -0.2\n",
              "topic9    7.8 -0.3  16.0   1.4 -8.4   6.1   -0.5  -0.4   2.9 -0.5 -0.0  0.0\n",
              "topic10 -32.3 -0.2  -9.7   0.1 -4.2  12.5    0.1   0.0   0.3 -0.0 -0.1 -0.2\n",
              "topic11 -26.5 -0.4 -24.2  -0.4  3.2   5.9   -0.1  -0.1   0.8  0.4  0.0  0.3\n",
              "topic12  25.3  0.0 -16.0   0.0 -3.7   7.5    0.7  -0.1  -3.8 -0.6  0.1 -0.5\n",
              "topic13   0.4 -0.3  45.4  -0.5 -7.5   3.2    0.1   0.2   0.6  0.0 -0.0  0.1\n",
              "topic14   0.9 -0.0  19.4  -0.2  4.8   3.5    0.1  -0.1   3.8  0.1  0.0 -0.3\n",
              "topic15   6.2 -0.6   1.5  -0.6 -1.0  -4.3   -0.6   0.5   3.0 -0.5  0.1 -0.1"
            ]
          },
          "metadata": {
            "tags": []
          },
          "execution_count": 0
        }
      ]
    },
    {
      "cell_type": "code",
      "metadata": {
        "colab": {
          "background_save": true,
          "base_uri": "https://localhost:8080/"
        },
        "id": "FxsdPlha0wYU",
        "outputId": "46d1deaf-0b89-47a8-d1db-dfbe2bb943cf"
      },
      "source": [
        "deals.T.sum()"
      ],
      "execution_count": null,
      "outputs": [
        {
          "output_type": "execute_result",
          "data": {
            "text/plain": [
              "topic0    -13.6\n",
              "topic1      8.9\n",
              "topic2     11.8\n",
              "topic3    -17.2\n",
              "topic4     38.0\n",
              "topic5    -38.9\n",
              "topic6      3.7\n",
              "topic7     -2.2\n",
              "topic8     36.5\n",
              "topic9     24.1\n",
              "topic10   -33.7\n",
              "topic11   -41.1\n",
              "topic12     8.9\n",
              "topic13    41.7\n",
              "topic14    32.0\n",
              "topic15     3.6\n",
              "dtype: float64"
            ]
          },
          "metadata": {
            "tags": []
          },
          "execution_count": 0
        }
      ]
    },
    {
      "cell_type": "code",
      "metadata": {
        "colab": {
          "background_save": true
        },
        "id": "gu7crnzq030z"
      },
      "source": [
        ""
      ],
      "execution_count": null,
      "outputs": []
    },
    {
      "cell_type": "markdown",
      "metadata": {
        "id": "VWamF8L_2UrE"
      },
      "source": [
        "## **Truncated Singular Value Decomposition (SVD)**"
      ]
    },
    {
      "cell_type": "code",
      "metadata": {
        "colab": {
          "background_save": true
        },
        "id": "YPljzDC52cmA"
      },
      "source": [
        "from sklearn.decomposition import TruncatedSVD"
      ],
      "execution_count": null,
      "outputs": []
    },
    {
      "cell_type": "code",
      "metadata": {
        "colab": {
          "background_save": true
        },
        "id": "GUxRC_i724NJ"
      },
      "source": [
        "svd = TruncatedSVD(n_components=16, n_iter=100)"
      ],
      "execution_count": null,
      "outputs": []
    },
    {
      "cell_type": "code",
      "metadata": {
        "id": "IOqxnIqy3Ct_"
      },
      "source": [
        "svd_topic_vectors = svd.fit_transform(tfidf_docs.values)"
      ],
      "execution_count": null,
      "outputs": []
    },
    {
      "cell_type": "code",
      "metadata": {
        "id": "zyZjB2Cl3OzP"
      },
      "source": [
        "svd_topic_vectors = pd.DataFrame(svd_topic_vectors, columns=columns, index=index)"
      ],
      "execution_count": null,
      "outputs": []
    },
    {
      "cell_type": "code",
      "metadata": {
        "colab": {
          "base_uri": "https://localhost:8080/",
          "height": 264
        },
        "id": "jXkh-1iq4KOA",
        "outputId": "3208913c-7693-4bba-9b0a-a85a2a4c5a24"
      },
      "source": [
        "svd_topic_vectors.round(3).head(6)"
      ],
      "execution_count": null,
      "outputs": [
        {
          "output_type": "execute_result",
          "data": {
            "text/html": [
              "<div>\n",
              "<style scoped>\n",
              "    .dataframe tbody tr th:only-of-type {\n",
              "        vertical-align: middle;\n",
              "    }\n",
              "\n",
              "    .dataframe tbody tr th {\n",
              "        vertical-align: top;\n",
              "    }\n",
              "\n",
              "    .dataframe thead th {\n",
              "        text-align: right;\n",
              "    }\n",
              "</style>\n",
              "<table border=\"1\" class=\"dataframe\">\n",
              "  <thead>\n",
              "    <tr style=\"text-align: right;\">\n",
              "      <th></th>\n",
              "      <th>topic0</th>\n",
              "      <th>topic1</th>\n",
              "      <th>topic2</th>\n",
              "      <th>topic3</th>\n",
              "      <th>topic4</th>\n",
              "      <th>topic5</th>\n",
              "      <th>...</th>\n",
              "      <th>topic10</th>\n",
              "      <th>topic11</th>\n",
              "      <th>topic12</th>\n",
              "      <th>topic13</th>\n",
              "      <th>topic14</th>\n",
              "      <th>topic15</th>\n",
              "    </tr>\n",
              "  </thead>\n",
              "  <tbody>\n",
              "    <tr>\n",
              "      <th>sms0</th>\n",
              "      <td>0.201</td>\n",
              "      <td>0.003</td>\n",
              "      <td>0.037</td>\n",
              "      <td>0.011</td>\n",
              "      <td>-0.019</td>\n",
              "      <td>-0.053</td>\n",
              "      <td>...</td>\n",
              "      <td>0.007</td>\n",
              "      <td>-0.007</td>\n",
              "      <td>0.002</td>\n",
              "      <td>-0.036</td>\n",
              "      <td>-0.014</td>\n",
              "      <td>0.037</td>\n",
              "    </tr>\n",
              "    <tr>\n",
              "      <th>sms1</th>\n",
              "      <td>0.404</td>\n",
              "      <td>-0.094</td>\n",
              "      <td>-0.078</td>\n",
              "      <td>0.051</td>\n",
              "      <td>0.100</td>\n",
              "      <td>0.047</td>\n",
              "      <td>...</td>\n",
              "      <td>-0.004</td>\n",
              "      <td>0.036</td>\n",
              "      <td>0.043</td>\n",
              "      <td>-0.021</td>\n",
              "      <td>0.051</td>\n",
              "      <td>-0.042</td>\n",
              "    </tr>\n",
              "    <tr>\n",
              "      <th>sms2!</th>\n",
              "      <td>-0.030</td>\n",
              "      <td>-0.048</td>\n",
              "      <td>0.090</td>\n",
              "      <td>-0.067</td>\n",
              "      <td>0.091</td>\n",
              "      <td>-0.043</td>\n",
              "      <td>...</td>\n",
              "      <td>0.125</td>\n",
              "      <td>0.023</td>\n",
              "      <td>0.026</td>\n",
              "      <td>-0.020</td>\n",
              "      <td>-0.042</td>\n",
              "      <td>0.052</td>\n",
              "    </tr>\n",
              "    <tr>\n",
              "      <th>sms3</th>\n",
              "      <td>0.329</td>\n",
              "      <td>-0.033</td>\n",
              "      <td>-0.035</td>\n",
              "      <td>-0.016</td>\n",
              "      <td>0.052</td>\n",
              "      <td>0.056</td>\n",
              "      <td>...</td>\n",
              "      <td>0.022</td>\n",
              "      <td>0.023</td>\n",
              "      <td>0.073</td>\n",
              "      <td>-0.046</td>\n",
              "      <td>0.022</td>\n",
              "      <td>-0.070</td>\n",
              "    </tr>\n",
              "    <tr>\n",
              "      <th>sms4</th>\n",
              "      <td>0.002</td>\n",
              "      <td>0.031</td>\n",
              "      <td>0.038</td>\n",
              "      <td>0.034</td>\n",
              "      <td>-0.075</td>\n",
              "      <td>-0.093</td>\n",
              "      <td>...</td>\n",
              "      <td>0.028</td>\n",
              "      <td>-0.009</td>\n",
              "      <td>0.027</td>\n",
              "      <td>0.034</td>\n",
              "      <td>-0.083</td>\n",
              "      <td>-0.021</td>\n",
              "    </tr>\n",
              "    <tr>\n",
              "      <th>sms5!</th>\n",
              "      <td>-0.016</td>\n",
              "      <td>0.059</td>\n",
              "      <td>0.014</td>\n",
              "      <td>-0.006</td>\n",
              "      <td>0.122</td>\n",
              "      <td>-0.040</td>\n",
              "      <td>...</td>\n",
              "      <td>0.041</td>\n",
              "      <td>0.055</td>\n",
              "      <td>-0.037</td>\n",
              "      <td>0.075</td>\n",
              "      <td>-0.001</td>\n",
              "      <td>0.020</td>\n",
              "    </tr>\n",
              "  </tbody>\n",
              "</table>\n",
              "<p>6 rows × 16 columns</p>\n",
              "</div>"
            ],
            "text/plain": [
              "       topic0  topic1  topic2  topic3  topic4  topic5  ...  topic10  topic11  topic12  topic13  topic14  topic15\n",
              "sms0    0.201   0.003   0.037   0.011  -0.019  -0.053  ...    0.007   -0.007    0.002   -0.036   -0.014    0.037\n",
              "sms1    0.404  -0.094  -0.078   0.051   0.100   0.047  ...   -0.004    0.036    0.043   -0.021    0.051   -0.042\n",
              "sms2!  -0.030  -0.048   0.090  -0.067   0.091  -0.043  ...    0.125    0.023    0.026   -0.020   -0.042    0.052\n",
              "sms3    0.329  -0.033  -0.035  -0.016   0.052   0.056  ...    0.022    0.023    0.073   -0.046    0.022   -0.070\n",
              "sms4    0.002   0.031   0.038   0.034  -0.075  -0.093  ...    0.028   -0.009    0.027    0.034   -0.083   -0.021\n",
              "sms5!  -0.016   0.059   0.014  -0.006   0.122  -0.040  ...    0.041    0.055   -0.037    0.075   -0.001    0.020\n",
              "\n",
              "[6 rows x 16 columns]"
            ]
          },
          "metadata": {
            "tags": []
          },
          "execution_count": 47
        }
      ]
    },
    {
      "cell_type": "code",
      "metadata": {
        "id": "MMi1Fk8Y5EbL"
      },
      "source": [
        "import numpy as np"
      ],
      "execution_count": null,
      "outputs": []
    },
    {
      "cell_type": "code",
      "metadata": {
        "id": "dqtZDMNw-r1T"
      },
      "source": [
        "svd_topic_vectors = (svd_topic_vectors.T/np.linalg.norm(svd_topic_vectors, axis=1)).T"
      ],
      "execution_count": null,
      "outputs": []
    },
    {
      "cell_type": "code",
      "metadata": {
        "colab": {
          "base_uri": "https://localhost:8080/",
          "height": 359
        },
        "id": "QJLi5yt0_zJh",
        "outputId": "c5651982-1dcf-4282-9053-6be485ee5682"
      },
      "source": [
        "svd_topic_vectors.iloc[:10].dot(svd_topic_vectors.iloc[:10].T).round(1)"
      ],
      "execution_count": null,
      "outputs": [
        {
          "output_type": "execute_result",
          "data": {
            "text/html": [
              "<div>\n",
              "<style scoped>\n",
              "    .dataframe tbody tr th:only-of-type {\n",
              "        vertical-align: middle;\n",
              "    }\n",
              "\n",
              "    .dataframe tbody tr th {\n",
              "        vertical-align: top;\n",
              "    }\n",
              "\n",
              "    .dataframe thead th {\n",
              "        text-align: right;\n",
              "    }\n",
              "</style>\n",
              "<table border=\"1\" class=\"dataframe\">\n",
              "  <thead>\n",
              "    <tr style=\"text-align: right;\">\n",
              "      <th></th>\n",
              "      <th>sms0</th>\n",
              "      <th>sms1</th>\n",
              "      <th>sms2!</th>\n",
              "      <th>sms3</th>\n",
              "      <th>sms4</th>\n",
              "      <th>sms5!</th>\n",
              "      <th>sms6</th>\n",
              "      <th>sms7</th>\n",
              "      <th>sms8!</th>\n",
              "      <th>sms9!</th>\n",
              "    </tr>\n",
              "  </thead>\n",
              "  <tbody>\n",
              "    <tr>\n",
              "      <th>sms0</th>\n",
              "      <td>1.0</td>\n",
              "      <td>0.6</td>\n",
              "      <td>-0.1</td>\n",
              "      <td>0.6</td>\n",
              "      <td>-0.0</td>\n",
              "      <td>-0.3</td>\n",
              "      <td>-0.3</td>\n",
              "      <td>-0.1</td>\n",
              "      <td>-0.3</td>\n",
              "      <td>-0.3</td>\n",
              "    </tr>\n",
              "    <tr>\n",
              "      <th>sms1</th>\n",
              "      <td>0.6</td>\n",
              "      <td>1.0</td>\n",
              "      <td>-0.2</td>\n",
              "      <td>0.8</td>\n",
              "      <td>-0.2</td>\n",
              "      <td>0.0</td>\n",
              "      <td>-0.2</td>\n",
              "      <td>-0.2</td>\n",
              "      <td>-0.1</td>\n",
              "      <td>-0.1</td>\n",
              "    </tr>\n",
              "    <tr>\n",
              "      <th>sms2!</th>\n",
              "      <td>-0.1</td>\n",
              "      <td>-0.2</td>\n",
              "      <td>1.0</td>\n",
              "      <td>-0.2</td>\n",
              "      <td>0.1</td>\n",
              "      <td>0.4</td>\n",
              "      <td>0.0</td>\n",
              "      <td>0.3</td>\n",
              "      <td>0.5</td>\n",
              "      <td>0.4</td>\n",
              "    </tr>\n",
              "    <tr>\n",
              "      <th>sms3</th>\n",
              "      <td>0.6</td>\n",
              "      <td>0.8</td>\n",
              "      <td>-0.2</td>\n",
              "      <td>1.0</td>\n",
              "      <td>-0.2</td>\n",
              "      <td>-0.3</td>\n",
              "      <td>-0.1</td>\n",
              "      <td>-0.3</td>\n",
              "      <td>-0.2</td>\n",
              "      <td>-0.1</td>\n",
              "    </tr>\n",
              "    <tr>\n",
              "      <th>sms4</th>\n",
              "      <td>-0.0</td>\n",
              "      <td>-0.2</td>\n",
              "      <td>0.1</td>\n",
              "      <td>-0.2</td>\n",
              "      <td>1.0</td>\n",
              "      <td>0.2</td>\n",
              "      <td>0.0</td>\n",
              "      <td>0.1</td>\n",
              "      <td>-0.4</td>\n",
              "      <td>-0.2</td>\n",
              "    </tr>\n",
              "    <tr>\n",
              "      <th>sms5!</th>\n",
              "      <td>-0.3</td>\n",
              "      <td>0.0</td>\n",
              "      <td>0.4</td>\n",
              "      <td>-0.3</td>\n",
              "      <td>0.2</td>\n",
              "      <td>1.0</td>\n",
              "      <td>-0.1</td>\n",
              "      <td>0.1</td>\n",
              "      <td>0.3</td>\n",
              "      <td>0.4</td>\n",
              "    </tr>\n",
              "    <tr>\n",
              "      <th>sms6</th>\n",
              "      <td>-0.3</td>\n",
              "      <td>-0.2</td>\n",
              "      <td>0.0</td>\n",
              "      <td>-0.1</td>\n",
              "      <td>0.0</td>\n",
              "      <td>-0.1</td>\n",
              "      <td>1.0</td>\n",
              "      <td>0.1</td>\n",
              "      <td>-0.2</td>\n",
              "      <td>-0.2</td>\n",
              "    </tr>\n",
              "    <tr>\n",
              "      <th>sms7</th>\n",
              "      <td>-0.1</td>\n",
              "      <td>-0.2</td>\n",
              "      <td>0.3</td>\n",
              "      <td>-0.3</td>\n",
              "      <td>0.1</td>\n",
              "      <td>0.1</td>\n",
              "      <td>0.1</td>\n",
              "      <td>1.0</td>\n",
              "      <td>0.1</td>\n",
              "      <td>0.4</td>\n",
              "    </tr>\n",
              "    <tr>\n",
              "      <th>sms8!</th>\n",
              "      <td>-0.3</td>\n",
              "      <td>-0.1</td>\n",
              "      <td>0.5</td>\n",
              "      <td>-0.2</td>\n",
              "      <td>-0.4</td>\n",
              "      <td>0.3</td>\n",
              "      <td>-0.2</td>\n",
              "      <td>0.1</td>\n",
              "      <td>1.0</td>\n",
              "      <td>0.3</td>\n",
              "    </tr>\n",
              "    <tr>\n",
              "      <th>sms9!</th>\n",
              "      <td>-0.3</td>\n",
              "      <td>-0.1</td>\n",
              "      <td>0.4</td>\n",
              "      <td>-0.1</td>\n",
              "      <td>-0.2</td>\n",
              "      <td>0.4</td>\n",
              "      <td>-0.2</td>\n",
              "      <td>0.4</td>\n",
              "      <td>0.3</td>\n",
              "      <td>1.0</td>\n",
              "    </tr>\n",
              "  </tbody>\n",
              "</table>\n",
              "</div>"
            ],
            "text/plain": [
              "       sms0  sms1  sms2!  sms3  sms4  sms5!  sms6  sms7  sms8!  sms9!\n",
              "sms0    1.0   0.6   -0.1   0.6  -0.0   -0.3  -0.3  -0.1   -0.3   -0.3\n",
              "sms1    0.6   1.0   -0.2   0.8  -0.2    0.0  -0.2  -0.2   -0.1   -0.1\n",
              "sms2!  -0.1  -0.2    1.0  -0.2   0.1    0.4   0.0   0.3    0.5    0.4\n",
              "sms3    0.6   0.8   -0.2   1.0  -0.2   -0.3  -0.1  -0.3   -0.2   -0.1\n",
              "sms4   -0.0  -0.2    0.1  -0.2   1.0    0.2   0.0   0.1   -0.4   -0.2\n",
              "sms5!  -0.3   0.0    0.4  -0.3   0.2    1.0  -0.1   0.1    0.3    0.4\n",
              "sms6   -0.3  -0.2    0.0  -0.1   0.0   -0.1   1.0   0.1   -0.2   -0.2\n",
              "sms7   -0.1  -0.2    0.3  -0.3   0.1    0.1   0.1   1.0    0.1    0.4\n",
              "sms8!  -0.3  -0.1    0.5  -0.2  -0.4    0.3  -0.2   0.1    1.0    0.3\n",
              "sms9!  -0.3  -0.1    0.4  -0.1  -0.2    0.4  -0.2   0.4    0.3    1.0"
            ]
          },
          "metadata": {
            "tags": []
          },
          "execution_count": 50
        }
      ]
    },
    {
      "cell_type": "code",
      "metadata": {
        "id": "xc6RMZjqAEQ_"
      },
      "source": [
        ""
      ],
      "execution_count": null,
      "outputs": []
    },
    {
      "cell_type": "markdown",
      "metadata": {
        "id": "GIpWc_hrSvci"
      },
      "source": [
        "## **Latent Dirichlet Allocation (LDA)**"
      ]
    },
    {
      "cell_type": "code",
      "metadata": {
        "colab": {
          "base_uri": "https://localhost:8080/"
        },
        "id": "XqzFbm1aTD-5",
        "outputId": "d6e467dd-5944-436b-f4ce-906823a0c3ae"
      },
      "source": [
        "sms.text"
      ],
      "execution_count": null,
      "outputs": [
        {
          "output_type": "execute_result",
          "data": {
            "text/plain": [
              "sms0        Go until jurong point, crazy.. Available only ...\n",
              "sms1                            Ok lar... Joking wif u oni...\n",
              "sms2!       Free entry in 2 a wkly comp to win FA Cup fina...\n",
              "sms3        U dun say so early hor... U c already then say...\n",
              "sms4        Nah I don't think he goes to usf, he lives aro...\n",
              "                                  ...                        \n",
              "sms4832!    This is the 2nd time we have tried 2 contact u...\n",
              "sms4833                  Will ü b going to esplanade fr home?\n",
              "sms4834     Pity, * was in mood for that. So...any other s...\n",
              "sms4835     The guy did some bitching but I acted like i'd...\n",
              "sms4836                            Rofl. Its true to its name\n",
              "Name: text, Length: 4837, dtype: object"
            ]
          },
          "metadata": {
            "tags": []
          },
          "execution_count": 51
        }
      ]
    },
    {
      "cell_type": "code",
      "metadata": {
        "id": "ISSlVRnKTFrB"
      },
      "source": [
        "total_corpus_len = 0"
      ],
      "execution_count": null,
      "outputs": []
    },
    {
      "cell_type": "code",
      "metadata": {
        "colab": {
          "base_uri": "https://localhost:8080/"
        },
        "id": "SO-O0cFyTVvi",
        "outputId": "e561e991-981a-4ee0-b08d-26abc9b433c2"
      },
      "source": [
        "for document_text in sms.text:\n",
        "  total_corpus_len = total_corpus_len + len(casual_tokenize(document_text))\n",
        "print(total_corpus_len)"
      ],
      "execution_count": null,
      "outputs": [
        {
          "output_type": "stream",
          "text": [
            "103260\n"
          ],
          "name": "stdout"
        }
      ]
    },
    {
      "cell_type": "code",
      "metadata": {
        "colab": {
          "base_uri": "https://localhost:8080/"
        },
        "id": "03ozsNqSTzkQ",
        "outputId": "f75905a2-b8cf-470a-b241-c194ce42b3cb"
      },
      "source": [
        "len(sms)"
      ],
      "execution_count": null,
      "outputs": [
        {
          "output_type": "execute_result",
          "data": {
            "text/plain": [
              "4837"
            ]
          },
          "metadata": {
            "tags": []
          },
          "execution_count": 54
        }
      ]
    },
    {
      "cell_type": "code",
      "metadata": {
        "id": "84My9ZenT8yg"
      },
      "source": [
        "mean_document_len = total_corpus_len / len(sms)"
      ],
      "execution_count": null,
      "outputs": []
    },
    {
      "cell_type": "code",
      "metadata": {
        "colab": {
          "base_uri": "https://localhost:8080/"
        },
        "id": "Q0NjyhMRUHlA",
        "outputId": "14e86c3e-a0f2-4a35-c4b6-309c96342a68"
      },
      "source": [
        "round(mean_document_len, 2)"
      ],
      "execution_count": null,
      "outputs": [
        {
          "output_type": "execute_result",
          "data": {
            "text/plain": [
              "21.35"
            ]
          },
          "metadata": {
            "tags": []
          },
          "execution_count": 56
        }
      ]
    },
    {
      "cell_type": "code",
      "metadata": {
        "id": "oJD4SQKEqtz7"
      },
      "source": [
        ""
      ],
      "execution_count": null,
      "outputs": []
    },
    {
      "cell_type": "code",
      "metadata": {
        "colab": {
          "base_uri": "https://localhost:8080/"
        },
        "id": "wMmHAHlxULHx",
        "outputId": "a8dc4126-7462-4473-e1d5-0576558b2995"
      },
      "source": [
        "!pip install nlpia"
      ],
      "execution_count": null,
      "outputs": [
        {
          "output_type": "stream",
          "text": [
            "Requirement already satisfied: nlpia in /usr/local/lib/python3.6/dist-packages (0.5.2)\n",
            "Requirement already satisfied: gensim in /usr/local/lib/python3.6/dist-packages (from nlpia) (3.6.0)\n",
            "Requirement already satisfied: spacy in /usr/local/lib/python3.6/dist-packages (from nlpia) (2.2.4)\n",
            "Requirement already satisfied: pugnlp in /usr/local/lib/python3.6/dist-packages (from nlpia) (0.2.6)\n",
            "Requirement already satisfied: h5py in /usr/local/lib/python3.6/dist-packages (from nlpia) (2.10.0)\n",
            "Requirement already satisfied: pandas-datareader in /usr/local/lib/python3.6/dist-packages (from nlpia) (0.9.0)\n",
            "Requirement already satisfied: pypandoc in /usr/local/lib/python3.6/dist-packages (from nlpia) (1.5)\n",
            "Requirement already satisfied: lxml in /usr/local/lib/python3.6/dist-packages (from nlpia) (4.2.6)\n",
            "Requirement already satisfied: future in /usr/local/lib/python3.6/dist-packages (from nlpia) (0.16.0)\n",
            "Requirement already satisfied: plotly in /usr/local/lib/python3.6/dist-packages (from nlpia) (4.4.1)\n",
            "Requirement already satisfied: tqdm in /usr/local/lib/python3.6/dist-packages (from nlpia) (4.41.1)\n",
            "Requirement already satisfied: pandas in /usr/local/lib/python3.6/dist-packages (from nlpia) (1.1.4)\n",
            "Requirement already satisfied: nltk in /usr/local/lib/python3.6/dist-packages (from nlpia) (3.2.5)\n",
            "Requirement already satisfied: matplotlib in /usr/local/lib/python3.6/dist-packages (from nlpia) (3.2.2)\n",
            "Requirement already satisfied: seaborn in /usr/local/lib/python3.6/dist-packages (from nlpia) (0.11.0)\n",
            "Requirement already satisfied: python-Levenshtein in /usr/local/lib/python3.6/dist-packages (from nlpia) (0.12.0)\n",
            "Requirement already satisfied: jupyter in /usr/local/lib/python3.6/dist-packages (from nlpia) (1.0.0)\n",
            "Requirement already satisfied: html2text in /usr/local/lib/python3.6/dist-packages (from nlpia) (2020.1.16)\n",
            "Requirement already satisfied: tensorflow in /usr/local/lib/python3.6/dist-packages (from nlpia) (2.3.0)\n",
            "Requirement already satisfied: scikit-learn in /usr/local/lib/python3.6/dist-packages (from nlpia) (0.22.2.post1)\n",
            "Requirement already satisfied: keras in /usr/local/lib/python3.6/dist-packages (from nlpia) (2.4.3)\n",
            "Requirement already satisfied: regex in /usr/local/lib/python3.6/dist-packages (from nlpia) (2019.12.20)\n",
            "Requirement already satisfied: html5lib in /usr/local/lib/python3.6/dist-packages (from nlpia) (1.0.1)\n",
            "Requirement already satisfied: six>=1.5.0 in /usr/local/lib/python3.6/dist-packages (from gensim->nlpia) (1.15.0)\n",
            "Requirement already satisfied: numpy>=1.11.3 in /usr/local/lib/python3.6/dist-packages (from gensim->nlpia) (1.18.5)\n",
            "Requirement already satisfied: scipy>=0.18.1 in /usr/local/lib/python3.6/dist-packages (from gensim->nlpia) (1.4.1)\n",
            "Requirement already satisfied: smart-open>=1.2.1 in /usr/local/lib/python3.6/dist-packages (from gensim->nlpia) (3.0.0)\n",
            "Requirement already satisfied: setuptools in /usr/local/lib/python3.6/dist-packages (from spacy->nlpia) (50.3.2)\n",
            "Requirement already satisfied: preshed<3.1.0,>=3.0.2 in /usr/local/lib/python3.6/dist-packages (from spacy->nlpia) (3.0.2)\n",
            "Requirement already satisfied: plac<1.2.0,>=0.9.6 in /usr/local/lib/python3.6/dist-packages (from spacy->nlpia) (1.1.3)\n",
            "Requirement already satisfied: catalogue<1.1.0,>=0.0.7 in /usr/local/lib/python3.6/dist-packages (from spacy->nlpia) (1.0.0)\n",
            "Requirement already satisfied: srsly<1.1.0,>=1.0.2 in /usr/local/lib/python3.6/dist-packages (from spacy->nlpia) (1.0.2)\n",
            "Requirement already satisfied: murmurhash<1.1.0,>=0.28.0 in /usr/local/lib/python3.6/dist-packages (from spacy->nlpia) (1.0.3)\n",
            "Requirement already satisfied: cymem<2.1.0,>=2.0.2 in /usr/local/lib/python3.6/dist-packages (from spacy->nlpia) (2.0.4)\n",
            "Requirement already satisfied: requests<3.0.0,>=2.13.0 in /usr/local/lib/python3.6/dist-packages (from spacy->nlpia) (2.23.0)\n",
            "Requirement already satisfied: thinc==7.4.0 in /usr/local/lib/python3.6/dist-packages (from spacy->nlpia) (7.4.0)\n",
            "Requirement already satisfied: wasabi<1.1.0,>=0.4.0 in /usr/local/lib/python3.6/dist-packages (from spacy->nlpia) (0.8.0)\n",
            "Requirement already satisfied: blis<0.5.0,>=0.4.0 in /usr/local/lib/python3.6/dist-packages (from spacy->nlpia) (0.4.1)\n",
            "Requirement already satisfied: fuzzywuzzy in /usr/local/lib/python3.6/dist-packages (from pugnlp->nlpia) (0.18.0)\n",
            "Requirement already satisfied: coverage in /usr/local/lib/python3.6/dist-packages (from pugnlp->nlpia) (3.7.1)\n",
            "Requirement already satisfied: wheel in /usr/local/lib/python3.6/dist-packages (from pugnlp->nlpia) (0.35.1)\n",
            "Requirement already satisfied: python-slugify in /usr/local/lib/python3.6/dist-packages (from pugnlp->nlpia) (4.0.1)\n",
            "Requirement already satisfied: pip in /usr/local/lib/python3.6/dist-packages (from pugnlp->nlpia) (19.3.1)\n",
            "Requirement already satisfied: retrying>=1.3.3 in /usr/local/lib/python3.6/dist-packages (from plotly->nlpia) (1.3.3)\n",
            "Requirement already satisfied: pytz>=2017.2 in /usr/local/lib/python3.6/dist-packages (from pandas->nlpia) (2018.9)\n",
            "Requirement already satisfied: python-dateutil>=2.7.3 in /usr/local/lib/python3.6/dist-packages (from pandas->nlpia) (2.8.1)\n",
            "Requirement already satisfied: cycler>=0.10 in /usr/local/lib/python3.6/dist-packages (from matplotlib->nlpia) (0.10.0)\n",
            "Requirement already satisfied: kiwisolver>=1.0.1 in /usr/local/lib/python3.6/dist-packages (from matplotlib->nlpia) (1.3.1)\n",
            "Requirement already satisfied: pyparsing!=2.0.4,!=2.1.2,!=2.1.6,>=2.0.1 in /usr/local/lib/python3.6/dist-packages (from matplotlib->nlpia) (2.4.7)\n",
            "Requirement already satisfied: qtconsole in /usr/local/lib/python3.6/dist-packages (from jupyter->nlpia) (4.7.7)\n",
            "Requirement already satisfied: nbconvert in /usr/local/lib/python3.6/dist-packages (from jupyter->nlpia) (5.6.1)\n",
            "Requirement already satisfied: notebook in /usr/local/lib/python3.6/dist-packages (from jupyter->nlpia) (5.3.1)\n",
            "Requirement already satisfied: jupyter-console in /usr/local/lib/python3.6/dist-packages (from jupyter->nlpia) (5.2.0)\n",
            "Requirement already satisfied: ipykernel in /usr/local/lib/python3.6/dist-packages (from jupyter->nlpia) (4.10.1)\n",
            "Requirement already satisfied: ipywidgets in /usr/local/lib/python3.6/dist-packages (from jupyter->nlpia) (7.5.1)\n",
            "Requirement already satisfied: wrapt>=1.11.1 in /usr/local/lib/python3.6/dist-packages (from tensorflow->nlpia) (1.12.1)\n",
            "Requirement already satisfied: google-pasta>=0.1.8 in /usr/local/lib/python3.6/dist-packages (from tensorflow->nlpia) (0.2.0)\n",
            "Requirement already satisfied: astunparse==1.6.3 in /usr/local/lib/python3.6/dist-packages (from tensorflow->nlpia) (1.6.3)\n",
            "Requirement already satisfied: gast==0.3.3 in /usr/local/lib/python3.6/dist-packages (from tensorflow->nlpia) (0.3.3)\n",
            "Requirement already satisfied: absl-py>=0.7.0 in /usr/local/lib/python3.6/dist-packages (from tensorflow->nlpia) (0.10.0)\n",
            "Requirement already satisfied: tensorflow-estimator<2.4.0,>=2.3.0 in /usr/local/lib/python3.6/dist-packages (from tensorflow->nlpia) (2.3.0)\n",
            "Requirement already satisfied: opt-einsum>=2.3.2 in /usr/local/lib/python3.6/dist-packages (from tensorflow->nlpia) (3.3.0)\n",
            "Requirement already satisfied: keras-preprocessing<1.2,>=1.1.1 in /usr/local/lib/python3.6/dist-packages (from tensorflow->nlpia) (1.1.2)\n",
            "Requirement already satisfied: termcolor>=1.1.0 in /usr/local/lib/python3.6/dist-packages (from tensorflow->nlpia) (1.1.0)\n",
            "Requirement already satisfied: grpcio>=1.8.6 in /usr/local/lib/python3.6/dist-packages (from tensorflow->nlpia) (1.33.2)\n",
            "Requirement already satisfied: protobuf>=3.9.2 in /usr/local/lib/python3.6/dist-packages (from tensorflow->nlpia) (3.12.4)\n",
            "Requirement already satisfied: tensorboard<3,>=2.3.0 in /usr/local/lib/python3.6/dist-packages (from tensorflow->nlpia) (2.3.0)\n",
            "Requirement already satisfied: joblib>=0.11 in /usr/local/lib/python3.6/dist-packages (from scikit-learn->nlpia) (0.17.0)\n",
            "Requirement already satisfied: pyyaml in /usr/local/lib/python3.6/dist-packages (from keras->nlpia) (3.13)\n",
            "Requirement already satisfied: webencodings in /usr/local/lib/python3.6/dist-packages (from html5lib->nlpia) (0.5.1)\n",
            "Requirement already satisfied: importlib-metadata>=0.20; python_version < \"3.8\" in /usr/local/lib/python3.6/dist-packages (from catalogue<1.1.0,>=0.0.7->spacy->nlpia) (2.0.0)\n",
            "Requirement already satisfied: chardet<4,>=3.0.2 in /usr/local/lib/python3.6/dist-packages (from requests<3.0.0,>=2.13.0->spacy->nlpia) (3.0.4)\n",
            "Requirement already satisfied: certifi>=2017.4.17 in /usr/local/lib/python3.6/dist-packages (from requests<3.0.0,>=2.13.0->spacy->nlpia) (2020.6.20)\n",
            "Requirement already satisfied: idna<3,>=2.5 in /usr/local/lib/python3.6/dist-packages (from requests<3.0.0,>=2.13.0->spacy->nlpia) (2.10)\n",
            "Requirement already satisfied: urllib3!=1.25.0,!=1.25.1,<1.26,>=1.21.1 in /usr/local/lib/python3.6/dist-packages (from requests<3.0.0,>=2.13.0->spacy->nlpia) (1.24.3)\n",
            "Requirement already satisfied: text-unidecode>=1.3 in /usr/local/lib/python3.6/dist-packages (from python-slugify->pugnlp->nlpia) (1.3)\n",
            "Requirement already satisfied: pygments in /usr/local/lib/python3.6/dist-packages (from qtconsole->jupyter->nlpia) (2.6.1)\n",
            "Requirement already satisfied: ipython-genutils in /usr/local/lib/python3.6/dist-packages (from qtconsole->jupyter->nlpia) (0.2.0)\n",
            "Requirement already satisfied: traitlets in /usr/local/lib/python3.6/dist-packages (from qtconsole->jupyter->nlpia) (4.3.3)\n",
            "Requirement already satisfied: jupyter-client>=4.1 in /usr/local/lib/python3.6/dist-packages (from qtconsole->jupyter->nlpia) (5.3.5)\n",
            "Requirement already satisfied: qtpy in /usr/local/lib/python3.6/dist-packages (from qtconsole->jupyter->nlpia) (1.9.0)\n",
            "Requirement already satisfied: pyzmq>=17.1 in /usr/local/lib/python3.6/dist-packages (from qtconsole->jupyter->nlpia) (19.0.2)\n",
            "Requirement already satisfied: jupyter-core in /usr/local/lib/python3.6/dist-packages (from qtconsole->jupyter->nlpia) (4.6.3)\n",
            "Requirement already satisfied: pandocfilters>=1.4.1 in /usr/local/lib/python3.6/dist-packages (from nbconvert->jupyter->nlpia) (1.4.3)\n",
            "Requirement already satisfied: nbformat>=4.4 in /usr/local/lib/python3.6/dist-packages (from nbconvert->jupyter->nlpia) (5.0.8)\n",
            "Requirement already satisfied: bleach in /usr/local/lib/python3.6/dist-packages (from nbconvert->jupyter->nlpia) (3.2.1)\n",
            "Requirement already satisfied: defusedxml in /usr/local/lib/python3.6/dist-packages (from nbconvert->jupyter->nlpia) (0.6.0)\n",
            "Requirement already satisfied: testpath in /usr/local/lib/python3.6/dist-packages (from nbconvert->jupyter->nlpia) (0.4.4)\n",
            "Requirement already satisfied: mistune<2,>=0.8.1 in /usr/local/lib/python3.6/dist-packages (from nbconvert->jupyter->nlpia) (0.8.4)\n",
            "Requirement already satisfied: entrypoints>=0.2.2 in /usr/local/lib/python3.6/dist-packages (from nbconvert->jupyter->nlpia) (0.3)\n",
            "Requirement already satisfied: jinja2>=2.4 in /usr/local/lib/python3.6/dist-packages (from nbconvert->jupyter->nlpia) (2.11.2)\n",
            "Requirement already satisfied: Send2Trash in /usr/local/lib/python3.6/dist-packages (from notebook->jupyter->nlpia) (1.5.0)\n",
            "Requirement already satisfied: terminado>=0.8.1 in /usr/local/lib/python3.6/dist-packages (from notebook->jupyter->nlpia) (0.9.1)\n",
            "Requirement already satisfied: tornado>=4 in /usr/local/lib/python3.6/dist-packages (from notebook->jupyter->nlpia) (5.1.1)\n",
            "Requirement already satisfied: prompt-toolkit<2.0.0,>=1.0.0 in /usr/local/lib/python3.6/dist-packages (from jupyter-console->jupyter->nlpia) (1.0.18)\n",
            "Requirement already satisfied: ipython in /usr/local/lib/python3.6/dist-packages (from jupyter-console->jupyter->nlpia) (5.5.0)\n",
            "Requirement already satisfied: widgetsnbextension~=3.5.0 in /usr/local/lib/python3.6/dist-packages (from ipywidgets->jupyter->nlpia) (3.5.1)\n",
            "Requirement already satisfied: tensorboard-plugin-wit>=1.6.0 in /usr/local/lib/python3.6/dist-packages (from tensorboard<3,>=2.3.0->tensorflow->nlpia) (1.7.0)\n",
            "Requirement already satisfied: google-auth<2,>=1.6.3 in /usr/local/lib/python3.6/dist-packages (from tensorboard<3,>=2.3.0->tensorflow->nlpia) (1.17.2)\n",
            "Requirement already satisfied: werkzeug>=0.11.15 in /usr/local/lib/python3.6/dist-packages (from tensorboard<3,>=2.3.0->tensorflow->nlpia) (1.0.1)\n",
            "Requirement already satisfied: markdown>=2.6.8 in /usr/local/lib/python3.6/dist-packages (from tensorboard<3,>=2.3.0->tensorflow->nlpia) (3.3.3)\n",
            "Requirement already satisfied: google-auth-oauthlib<0.5,>=0.4.1 in /usr/local/lib/python3.6/dist-packages (from tensorboard<3,>=2.3.0->tensorflow->nlpia) (0.4.2)\n",
            "Requirement already satisfied: zipp>=0.5 in /usr/local/lib/python3.6/dist-packages (from importlib-metadata>=0.20; python_version < \"3.8\"->catalogue<1.1.0,>=0.0.7->spacy->nlpia) (3.4.0)\n",
            "Requirement already satisfied: decorator in /usr/local/lib/python3.6/dist-packages (from traitlets->qtconsole->jupyter->nlpia) (4.4.2)\n",
            "Requirement already satisfied: jsonschema!=2.5.0,>=2.4 in /usr/local/lib/python3.6/dist-packages (from nbformat>=4.4->nbconvert->jupyter->nlpia) (2.6.0)\n",
            "Requirement already satisfied: packaging in /usr/local/lib/python3.6/dist-packages (from bleach->nbconvert->jupyter->nlpia) (20.4)\n",
            "Requirement already satisfied: MarkupSafe>=0.23 in /usr/local/lib/python3.6/dist-packages (from jinja2>=2.4->nbconvert->jupyter->nlpia) (1.1.1)\n",
            "Requirement already satisfied: ptyprocess; os_name != \"nt\" in /usr/local/lib/python3.6/dist-packages (from terminado>=0.8.1->notebook->jupyter->nlpia) (0.6.0)\n",
            "Requirement already satisfied: wcwidth in /usr/local/lib/python3.6/dist-packages (from prompt-toolkit<2.0.0,>=1.0.0->jupyter-console->jupyter->nlpia) (0.2.5)\n",
            "Requirement already satisfied: pickleshare in /usr/local/lib/python3.6/dist-packages (from ipython->jupyter-console->jupyter->nlpia) (0.7.5)\n",
            "Requirement already satisfied: pexpect; sys_platform != \"win32\" in /usr/local/lib/python3.6/dist-packages (from ipython->jupyter-console->jupyter->nlpia) (4.8.0)\n",
            "Requirement already satisfied: simplegeneric>0.8 in /usr/local/lib/python3.6/dist-packages (from ipython->jupyter-console->jupyter->nlpia) (0.8.1)\n",
            "Requirement already satisfied: cachetools<5.0,>=2.0.0 in /usr/local/lib/python3.6/dist-packages (from google-auth<2,>=1.6.3->tensorboard<3,>=2.3.0->tensorflow->nlpia) (4.1.1)\n",
            "Requirement already satisfied: pyasn1-modules>=0.2.1 in /usr/local/lib/python3.6/dist-packages (from google-auth<2,>=1.6.3->tensorboard<3,>=2.3.0->tensorflow->nlpia) (0.2.8)\n",
            "Requirement already satisfied: rsa<5,>=3.1.4; python_version >= \"3\" in /usr/local/lib/python3.6/dist-packages (from google-auth<2,>=1.6.3->tensorboard<3,>=2.3.0->tensorflow->nlpia) (4.6)\n",
            "Requirement already satisfied: requests-oauthlib>=0.7.0 in /usr/local/lib/python3.6/dist-packages (from google-auth-oauthlib<0.5,>=0.4.1->tensorboard<3,>=2.3.0->tensorflow->nlpia) (1.3.0)\n",
            "Requirement already satisfied: pyasn1<0.5.0,>=0.4.6 in /usr/local/lib/python3.6/dist-packages (from pyasn1-modules>=0.2.1->google-auth<2,>=1.6.3->tensorboard<3,>=2.3.0->tensorflow->nlpia) (0.4.8)\n",
            "Requirement already satisfied: oauthlib>=3.0.0 in /usr/local/lib/python3.6/dist-packages (from requests-oauthlib>=0.7.0->google-auth-oauthlib<0.5,>=0.4.1->tensorboard<3,>=2.3.0->tensorflow->nlpia) (3.1.0)\n"
          ],
          "name": "stdout"
        }
      ]
    },
    {
      "cell_type": "code",
      "metadata": {
        "id": "d9cMdhQDqv6p"
      },
      "source": [
        "from sklearn.feature_extraction.text import CountVectorizer"
      ],
      "execution_count": null,
      "outputs": []
    },
    {
      "cell_type": "code",
      "metadata": {
        "id": "OkPOzkI5td_f"
      },
      "source": [
        "from nltk.tokenize import casual_tokenize"
      ],
      "execution_count": null,
      "outputs": []
    },
    {
      "cell_type": "code",
      "metadata": {
        "id": "xA5uf2C7tr9G"
      },
      "source": [
        "import numpy as np"
      ],
      "execution_count": null,
      "outputs": []
    },
    {
      "cell_type": "code",
      "metadata": {
        "id": "XpLUQvultn2v"
      },
      "source": [
        "np.random.seed(42)"
      ],
      "execution_count": null,
      "outputs": []
    },
    {
      "cell_type": "code",
      "metadata": {
        "id": "i99qttOjtqav"
      },
      "source": [
        "counter = CountVectorizer(tokenizer=casual_tokenize)"
      ],
      "execution_count": null,
      "outputs": []
    },
    {
      "cell_type": "code",
      "metadata": {
        "id": "ZrRt1noTt2Ce"
      },
      "source": [
        "bow_docs = pd.DataFrame(counter.fit_transform(raw_documents=sms.text).toarray(), index=index)"
      ],
      "execution_count": null,
      "outputs": []
    },
    {
      "cell_type": "code",
      "metadata": {
        "id": "U8g1pQwet_dO"
      },
      "source": [
        "column_nums, terms = zip(*sorted(zip(counter.vocabulary_.values(), counter.vocabulary_.keys())))"
      ],
      "execution_count": null,
      "outputs": []
    },
    {
      "cell_type": "code",
      "metadata": {
        "id": "D7Kpa0OQuiit"
      },
      "source": [
        "bow_docs.columns = terms"
      ],
      "execution_count": null,
      "outputs": []
    },
    {
      "cell_type": "code",
      "metadata": {
        "colab": {
          "base_uri": "https://localhost:8080/",
          "height": 35
        },
        "id": "WqK1Lx6_ux3O",
        "outputId": "08ffa56f-6418-4974-e931-3e051c729f9d"
      },
      "source": [
        "sms.loc['sms0'].text"
      ],
      "execution_count": null,
      "outputs": [
        {
          "output_type": "execute_result",
          "data": {
            "application/vnd.google.colaboratory.intrinsic+json": {
              "type": "string"
            },
            "text/plain": [
              "'Go until jurong point, crazy.. Available only in bugis n great world la e buffet... Cine there got amore wat...'"
            ]
          },
          "metadata": {
            "tags": []
          },
          "execution_count": 66
        }
      ]
    },
    {
      "cell_type": "code",
      "metadata": {
        "colab": {
          "base_uri": "https://localhost:8080/"
        },
        "id": "apibofBxvAQr",
        "outputId": "c558f258-9fd7-45e1-969d-5f091d347978"
      },
      "source": [
        "bow_docs.loc['sms0'][bow_docs.loc['sms0'] > 0].head()"
      ],
      "execution_count": null,
      "outputs": [
        {
          "output_type": "execute_result",
          "data": {
            "text/plain": [
              ",            1\n",
              "..           1\n",
              "...          2\n",
              "amore        1\n",
              "available    1\n",
              "Name: sms0, dtype: int64"
            ]
          },
          "metadata": {
            "tags": []
          },
          "execution_count": 67
        }
      ]
    },
    {
      "cell_type": "code",
      "metadata": {
        "id": "MmwMmtJVvU87"
      },
      "source": [
        "from sklearn.decomposition import LatentDirichletAllocation as LDiA"
      ],
      "execution_count": null,
      "outputs": []
    },
    {
      "cell_type": "code",
      "metadata": {
        "colab": {
          "base_uri": "https://localhost:8080/"
        },
        "id": "4W7vE7Oxv2E6",
        "outputId": "d69fa356-7106-404f-8a31-63901d42f5f4"
      },
      "source": [
        "ldia = LDiA(n_components=16, learning_method='batch')\n",
        "ldia = ldia.fit(bow_docs)\n",
        "ldia.components_.shape"
      ],
      "execution_count": null,
      "outputs": [
        {
          "output_type": "execute_result",
          "data": {
            "text/plain": [
              "(16, 9232)"
            ]
          },
          "metadata": {
            "tags": []
          },
          "execution_count": 69
        }
      ]
    },
    {
      "cell_type": "code",
      "metadata": {
        "colab": {
          "base_uri": "https://localhost:8080/",
          "height": 171
        },
        "id": "7bNOSGCTwNDp",
        "outputId": "b5bc9279-5763-460c-a25e-e262bb69ca12"
      },
      "source": [
        "pd.set_option('display.width', 75)\n",
        "components = pd.DataFrame(ldia.components_.T, index=terms, columns=columns)\n",
        "components.round(2).head(3)"
      ],
      "execution_count": null,
      "outputs": [
        {
          "output_type": "execute_result",
          "data": {
            "text/html": [
              "<div>\n",
              "<style scoped>\n",
              "    .dataframe tbody tr th:only-of-type {\n",
              "        vertical-align: middle;\n",
              "    }\n",
              "\n",
              "    .dataframe tbody tr th {\n",
              "        vertical-align: top;\n",
              "    }\n",
              "\n",
              "    .dataframe thead th {\n",
              "        text-align: right;\n",
              "    }\n",
              "</style>\n",
              "<table border=\"1\" class=\"dataframe\">\n",
              "  <thead>\n",
              "    <tr style=\"text-align: right;\">\n",
              "      <th></th>\n",
              "      <th>topic0</th>\n",
              "      <th>topic1</th>\n",
              "      <th>topic2</th>\n",
              "      <th>topic3</th>\n",
              "      <th>topic4</th>\n",
              "      <th>topic5</th>\n",
              "      <th>...</th>\n",
              "      <th>topic10</th>\n",
              "      <th>topic11</th>\n",
              "      <th>topic12</th>\n",
              "      <th>topic13</th>\n",
              "      <th>topic14</th>\n",
              "      <th>topic15</th>\n",
              "    </tr>\n",
              "  </thead>\n",
              "  <tbody>\n",
              "    <tr>\n",
              "      <th>!</th>\n",
              "      <td>184.03</td>\n",
              "      <td>15.00</td>\n",
              "      <td>72.22</td>\n",
              "      <td>394.95</td>\n",
              "      <td>45.48</td>\n",
              "      <td>36.14</td>\n",
              "      <td>...</td>\n",
              "      <td>37.42</td>\n",
              "      <td>44.18</td>\n",
              "      <td>64.40</td>\n",
              "      <td>297.29</td>\n",
              "      <td>41.16</td>\n",
              "      <td>11.70</td>\n",
              "    </tr>\n",
              "    <tr>\n",
              "      <th>\"</th>\n",
              "      <td>0.68</td>\n",
              "      <td>4.22</td>\n",
              "      <td>2.41</td>\n",
              "      <td>0.06</td>\n",
              "      <td>152.35</td>\n",
              "      <td>0.06</td>\n",
              "      <td>...</td>\n",
              "      <td>8.42</td>\n",
              "      <td>11.42</td>\n",
              "      <td>0.07</td>\n",
              "      <td>62.72</td>\n",
              "      <td>12.27</td>\n",
              "      <td>0.06</td>\n",
              "    </tr>\n",
              "    <tr>\n",
              "      <th>#</th>\n",
              "      <td>0.06</td>\n",
              "      <td>0.06</td>\n",
              "      <td>0.06</td>\n",
              "      <td>0.06</td>\n",
              "      <td>0.06</td>\n",
              "      <td>2.07</td>\n",
              "      <td>...</td>\n",
              "      <td>0.06</td>\n",
              "      <td>0.06</td>\n",
              "      <td>1.07</td>\n",
              "      <td>4.05</td>\n",
              "      <td>0.06</td>\n",
              "      <td>0.06</td>\n",
              "    </tr>\n",
              "  </tbody>\n",
              "</table>\n",
              "<p>3 rows × 16 columns</p>\n",
              "</div>"
            ],
            "text/plain": [
              "   topic0  topic1  topic2  topic3  topic4  topic5  ...  topic10  topic11  \\\n",
              "!  184.03   15.00   72.22  394.95   45.48   36.14  ...    37.42    44.18   \n",
              "\"    0.68    4.22    2.41    0.06  152.35    0.06  ...     8.42    11.42   \n",
              "#    0.06    0.06    0.06    0.06    0.06    2.07  ...     0.06     0.06   \n",
              "\n",
              "   topic12  topic13  topic14  topic15  \n",
              "!    64.40   297.29    41.16    11.70  \n",
              "\"     0.07    62.72    12.27     0.06  \n",
              "#     1.07     4.05     0.06     0.06  \n",
              "\n",
              "[3 rows x 16 columns]"
            ]
          },
          "metadata": {
            "tags": []
          },
          "execution_count": 70
        }
      ]
    },
    {
      "cell_type": "code",
      "metadata": {
        "colab": {
          "base_uri": "https://localhost:8080/"
        },
        "id": "2SnttH1kxJ5h",
        "outputId": "f8281d95-c23c-40e6-e9dc-016ff27ba373"
      },
      "source": [
        "components.topic3.sort_values(ascending=False)[:10]"
      ],
      "execution_count": null,
      "outputs": [
        {
          "output_type": "execute_result",
          "data": {
            "text/plain": [
              "!       394.952246\n",
              ".       218.049724\n",
              "to      119.533134\n",
              "u       118.857546\n",
              "call    111.948541\n",
              "£       107.358914\n",
              ",        96.954384\n",
              "*        90.314783\n",
              "your     90.215961\n",
              "is       75.750037\n",
              "Name: topic3, dtype: float64"
            ]
          },
          "metadata": {
            "tags": []
          },
          "execution_count": 71
        }
      ]
    },
    {
      "cell_type": "code",
      "metadata": {
        "id": "04v3cb99xyun"
      },
      "source": [
        "ldia16_topic_vectors = ldia.transform(bow_docs)"
      ],
      "execution_count": null,
      "outputs": []
    },
    {
      "cell_type": "code",
      "metadata": {
        "id": "n1keKgFsFomG"
      },
      "source": [
        "ldia16_topic_vectors = pd.DataFrame(ldia16_topic_vectors, index=index, columns=columns)"
      ],
      "execution_count": null,
      "outputs": []
    },
    {
      "cell_type": "code",
      "metadata": {
        "colab": {
          "base_uri": "https://localhost:8080/",
          "height": 233
        },
        "id": "t_bi58YcGHWx",
        "outputId": "6bea5ea9-f800-431e-b17a-bd3526504f52"
      },
      "source": [
        "ldia16_topic_vectors.round(2).head()"
      ],
      "execution_count": null,
      "outputs": [
        {
          "output_type": "execute_result",
          "data": {
            "text/html": [
              "<div>\n",
              "<style scoped>\n",
              "    .dataframe tbody tr th:only-of-type {\n",
              "        vertical-align: middle;\n",
              "    }\n",
              "\n",
              "    .dataframe tbody tr th {\n",
              "        vertical-align: top;\n",
              "    }\n",
              "\n",
              "    .dataframe thead th {\n",
              "        text-align: right;\n",
              "    }\n",
              "</style>\n",
              "<table border=\"1\" class=\"dataframe\">\n",
              "  <thead>\n",
              "    <tr style=\"text-align: right;\">\n",
              "      <th></th>\n",
              "      <th>topic0</th>\n",
              "      <th>topic1</th>\n",
              "      <th>topic2</th>\n",
              "      <th>topic3</th>\n",
              "      <th>topic4</th>\n",
              "      <th>topic5</th>\n",
              "      <th>...</th>\n",
              "      <th>topic10</th>\n",
              "      <th>topic11</th>\n",
              "      <th>topic12</th>\n",
              "      <th>topic13</th>\n",
              "      <th>topic14</th>\n",
              "      <th>topic15</th>\n",
              "    </tr>\n",
              "  </thead>\n",
              "  <tbody>\n",
              "    <tr>\n",
              "      <th>sms0</th>\n",
              "      <td>0.00</td>\n",
              "      <td>0.62</td>\n",
              "      <td>0.00</td>\n",
              "      <td>0.00</td>\n",
              "      <td>0.00</td>\n",
              "      <td>0.00</td>\n",
              "      <td>...</td>\n",
              "      <td>0.00</td>\n",
              "      <td>0.00</td>\n",
              "      <td>0.00</td>\n",
              "      <td>0.00</td>\n",
              "      <td>0.00</td>\n",
              "      <td>0.00</td>\n",
              "    </tr>\n",
              "    <tr>\n",
              "      <th>sms1</th>\n",
              "      <td>0.01</td>\n",
              "      <td>0.01</td>\n",
              "      <td>0.01</td>\n",
              "      <td>0.01</td>\n",
              "      <td>0.01</td>\n",
              "      <td>0.01</td>\n",
              "      <td>...</td>\n",
              "      <td>0.01</td>\n",
              "      <td>0.12</td>\n",
              "      <td>0.01</td>\n",
              "      <td>0.01</td>\n",
              "      <td>0.01</td>\n",
              "      <td>0.01</td>\n",
              "    </tr>\n",
              "    <tr>\n",
              "      <th>sms2!</th>\n",
              "      <td>0.00</td>\n",
              "      <td>0.00</td>\n",
              "      <td>0.00</td>\n",
              "      <td>0.00</td>\n",
              "      <td>0.00</td>\n",
              "      <td>0.00</td>\n",
              "      <td>...</td>\n",
              "      <td>0.00</td>\n",
              "      <td>0.00</td>\n",
              "      <td>0.00</td>\n",
              "      <td>0.00</td>\n",
              "      <td>0.00</td>\n",
              "      <td>0.00</td>\n",
              "    </tr>\n",
              "    <tr>\n",
              "      <th>sms3</th>\n",
              "      <td>0.00</td>\n",
              "      <td>0.00</td>\n",
              "      <td>0.00</td>\n",
              "      <td>0.00</td>\n",
              "      <td>0.09</td>\n",
              "      <td>0.00</td>\n",
              "      <td>...</td>\n",
              "      <td>0.00</td>\n",
              "      <td>0.00</td>\n",
              "      <td>0.00</td>\n",
              "      <td>0.00</td>\n",
              "      <td>0.00</td>\n",
              "      <td>0.00</td>\n",
              "    </tr>\n",
              "    <tr>\n",
              "      <th>sms4</th>\n",
              "      <td>0.39</td>\n",
              "      <td>0.00</td>\n",
              "      <td>0.33</td>\n",
              "      <td>0.00</td>\n",
              "      <td>0.00</td>\n",
              "      <td>0.00</td>\n",
              "      <td>...</td>\n",
              "      <td>0.00</td>\n",
              "      <td>0.00</td>\n",
              "      <td>0.09</td>\n",
              "      <td>0.00</td>\n",
              "      <td>0.00</td>\n",
              "      <td>0.00</td>\n",
              "    </tr>\n",
              "  </tbody>\n",
              "</table>\n",
              "<p>5 rows × 16 columns</p>\n",
              "</div>"
            ],
            "text/plain": [
              "       topic0  topic1  topic2  topic3  topic4  topic5  ...  topic10  \\\n",
              "sms0     0.00    0.62    0.00    0.00    0.00    0.00  ...     0.00   \n",
              "sms1     0.01    0.01    0.01    0.01    0.01    0.01  ...     0.01   \n",
              "sms2!    0.00    0.00    0.00    0.00    0.00    0.00  ...     0.00   \n",
              "sms3     0.00    0.00    0.00    0.00    0.09    0.00  ...     0.00   \n",
              "sms4     0.39    0.00    0.33    0.00    0.00    0.00  ...     0.00   \n",
              "\n",
              "       topic11  topic12  topic13  topic14  topic15  \n",
              "sms0      0.00     0.00     0.00     0.00     0.00  \n",
              "sms1      0.12     0.01     0.01     0.01     0.01  \n",
              "sms2!     0.00     0.00     0.00     0.00     0.00  \n",
              "sms3      0.00     0.00     0.00     0.00     0.00  \n",
              "sms4      0.00     0.09     0.00     0.00     0.00  \n",
              "\n",
              "[5 rows x 16 columns]"
            ]
          },
          "metadata": {
            "tags": []
          },
          "execution_count": 74
        }
      ]
    },
    {
      "cell_type": "code",
      "metadata": {
        "id": "c8B6hTmWGL-x"
      },
      "source": [
        "from sklearn.discriminant_analysis import LinearDiscriminantAnalysis as LDA"
      ],
      "execution_count": null,
      "outputs": []
    },
    {
      "cell_type": "code",
      "metadata": {
        "id": "X8g0FCncIptI"
      },
      "source": [
        "from sklearn.model_selection import train_test_split"
      ],
      "execution_count": null,
      "outputs": []
    },
    {
      "cell_type": "code",
      "metadata": {
        "id": "zXAqeOsdIMZN"
      },
      "source": [
        "X_train, X_test, y_train, y_test = train_test_split(ldia16_topic_vectors, sms.spam, test_size=0.5, random_state=271828)"
      ],
      "execution_count": null,
      "outputs": []
    },
    {
      "cell_type": "code",
      "metadata": {
        "id": "QNN9qIIEI6Nr"
      },
      "source": [
        "lda = LDA(n_components=1)"
      ],
      "execution_count": null,
      "outputs": []
    },
    {
      "cell_type": "code",
      "metadata": {
        "id": "3vlcGLgFJB3r"
      },
      "source": [
        "lda = lda.fit(X_train, y_train)"
      ],
      "execution_count": null,
      "outputs": []
    },
    {
      "cell_type": "code",
      "metadata": {
        "id": "-b1jNNz4JIjs"
      },
      "source": [
        "sms['ldia16_spam'] = lda.predict(ldia16_topic_vectors)"
      ],
      "execution_count": null,
      "outputs": []
    },
    {
      "cell_type": "code",
      "metadata": {
        "colab": {
          "base_uri": "https://localhost:8080/"
        },
        "id": "SX0_oxC7JT-L",
        "outputId": "0c7aafd3-5934-4e4d-f4f6-e16e08adcbf5"
      },
      "source": [
        "round(float(lda.score(X_test, y_test)), 2)"
      ],
      "execution_count": null,
      "outputs": [
        {
          "output_type": "execute_result",
          "data": {
            "text/plain": [
              "0.94"
            ]
          },
          "metadata": {
            "tags": []
          },
          "execution_count": 81
        }
      ]
    },
    {
      "cell_type": "code",
      "metadata": {
        "id": "d3Y0zpmLJax7"
      },
      "source": [
        "from sklearn.feature_extraction.text import TfidfVectorizer"
      ],
      "execution_count": null,
      "outputs": []
    },
    {
      "cell_type": "code",
      "metadata": {
        "id": "RGQjiOtDXPdJ"
      },
      "source": [
        "from nltk.tokenize.casual import casual_tokenize"
      ],
      "execution_count": null,
      "outputs": []
    },
    {
      "cell_type": "code",
      "metadata": {
        "id": "cgQhBdl5XVMU"
      },
      "source": [
        "tfidf = TfidfVectorizer(tokenizer=casual_tokenize)"
      ],
      "execution_count": null,
      "outputs": []
    },
    {
      "cell_type": "code",
      "metadata": {
        "id": "6KrRPM7CXkCk"
      },
      "source": [
        "tfidf_docs = tfidf.fit_transform(raw_documents=sms.text).toarray()"
      ],
      "execution_count": null,
      "outputs": []
    },
    {
      "cell_type": "code",
      "metadata": {
        "id": "LTFilhvGXr8j"
      },
      "source": [
        "tfidf_docs = tfidf_docs - tfidf_docs.mean(axis=0)"
      ],
      "execution_count": null,
      "outputs": []
    },
    {
      "cell_type": "code",
      "metadata": {
        "id": "oIgQh9LkYSij"
      },
      "source": [
        "X_train, X_test, y_train, y_test = train_test_split(tfidf_docs, sms.spam.values, test_size=0.5, random_state=271828)"
      ],
      "execution_count": null,
      "outputs": []
    },
    {
      "cell_type": "code",
      "metadata": {
        "id": "uqC2YdVxY3Qc"
      },
      "source": [
        "lda = LDA(n_components=1)"
      ],
      "execution_count": null,
      "outputs": []
    },
    {
      "cell_type": "code",
      "metadata": {
        "id": "eEw7ISojY7Pw"
      },
      "source": [
        "lda = lda.fit(X_train, y_train)"
      ],
      "execution_count": null,
      "outputs": []
    },
    {
      "cell_type": "code",
      "metadata": {
        "colab": {
          "base_uri": "https://localhost:8080/"
        },
        "id": "3o5DgMMOZAKw",
        "outputId": "49d57e0d-e8f3-41db-b2ce-c64222f06624"
      },
      "source": [
        "round(float(lda.score(X_train, y_train)), 3)"
      ],
      "execution_count": null,
      "outputs": [
        {
          "output_type": "execute_result",
          "data": {
            "text/plain": [
              "1.0"
            ]
          },
          "metadata": {
            "tags": []
          },
          "execution_count": 90
        }
      ]
    },
    {
      "cell_type": "code",
      "metadata": {
        "colab": {
          "base_uri": "https://localhost:8080/"
        },
        "id": "00GybM7zZOoP",
        "outputId": "9e8225c1-e114-4b0d-9d95-a3eec3a8d79b"
      },
      "source": [
        "round(float(lda.score(X_test, y_test)), 3)"
      ],
      "execution_count": null,
      "outputs": [
        {
          "output_type": "execute_result",
          "data": {
            "text/plain": [
              "0.748"
            ]
          },
          "metadata": {
            "tags": []
          },
          "execution_count": 91
        }
      ]
    },
    {
      "cell_type": "code",
      "metadata": {
        "id": "beQcuTEQZYlv"
      },
      "source": [
        ""
      ],
      "execution_count": null,
      "outputs": []
    },
    {
      "cell_type": "code",
      "metadata": {
        "id": "E-xAgbhxBQbS"
      },
      "source": [
        "ldia32 = LDiA(n_components=32, learning_method='batch')"
      ],
      "execution_count": null,
      "outputs": []
    },
    {
      "cell_type": "code",
      "metadata": {
        "id": "cveHFjGNBZhA"
      },
      "source": [
        "ldia32 = ldia32.fit(bow_docs)"
      ],
      "execution_count": null,
      "outputs": []
    },
    {
      "cell_type": "code",
      "metadata": {
        "colab": {
          "base_uri": "https://localhost:8080/"
        },
        "id": "fpoLQWnWBgWH",
        "outputId": "b751a9bc-9adb-4317-af02-6ea5c0d3dd91"
      },
      "source": [
        "ldia32.components_.shape"
      ],
      "execution_count": null,
      "outputs": [
        {
          "output_type": "execute_result",
          "data": {
            "text/plain": [
              "(32, 9232)"
            ]
          },
          "metadata": {
            "tags": []
          },
          "execution_count": 94
        }
      ]
    },
    {
      "cell_type": "code",
      "metadata": {
        "id": "6m52HOC1BtjJ"
      },
      "source": [
        "ldia32_topic_vectors = ldia32.transform(bow_docs)"
      ],
      "execution_count": null,
      "outputs": []
    },
    {
      "cell_type": "code",
      "metadata": {
        "id": "tOg5_V2gC8Rz"
      },
      "source": [
        "columns32 = ['topic{}'.format(i) for i in range(ldia32.n_components)]"
      ],
      "execution_count": null,
      "outputs": []
    },
    {
      "cell_type": "code",
      "metadata": {
        "id": "4pD5g6IbDMBD"
      },
      "source": [
        "ldia32_topic_vectors = pd.DataFrame(ldia32_topic_vectors, index=index, columns=columns32)"
      ],
      "execution_count": null,
      "outputs": []
    },
    {
      "cell_type": "code",
      "metadata": {
        "colab": {
          "base_uri": "https://localhost:8080/",
          "height": 233
        },
        "id": "t-hMa6Z4Dluy",
        "outputId": "c0255f43-bc74-423b-bbd8-023964a16911"
      },
      "source": [
        "ldia16_topic_vectors.round(2).head()"
      ],
      "execution_count": null,
      "outputs": [
        {
          "output_type": "execute_result",
          "data": {
            "text/html": [
              "<div>\n",
              "<style scoped>\n",
              "    .dataframe tbody tr th:only-of-type {\n",
              "        vertical-align: middle;\n",
              "    }\n",
              "\n",
              "    .dataframe tbody tr th {\n",
              "        vertical-align: top;\n",
              "    }\n",
              "\n",
              "    .dataframe thead th {\n",
              "        text-align: right;\n",
              "    }\n",
              "</style>\n",
              "<table border=\"1\" class=\"dataframe\">\n",
              "  <thead>\n",
              "    <tr style=\"text-align: right;\">\n",
              "      <th></th>\n",
              "      <th>topic0</th>\n",
              "      <th>topic1</th>\n",
              "      <th>topic2</th>\n",
              "      <th>topic3</th>\n",
              "      <th>topic4</th>\n",
              "      <th>topic5</th>\n",
              "      <th>...</th>\n",
              "      <th>topic10</th>\n",
              "      <th>topic11</th>\n",
              "      <th>topic12</th>\n",
              "      <th>topic13</th>\n",
              "      <th>topic14</th>\n",
              "      <th>topic15</th>\n",
              "    </tr>\n",
              "  </thead>\n",
              "  <tbody>\n",
              "    <tr>\n",
              "      <th>sms0</th>\n",
              "      <td>0.00</td>\n",
              "      <td>0.62</td>\n",
              "      <td>0.00</td>\n",
              "      <td>0.00</td>\n",
              "      <td>0.00</td>\n",
              "      <td>0.00</td>\n",
              "      <td>...</td>\n",
              "      <td>0.00</td>\n",
              "      <td>0.00</td>\n",
              "      <td>0.00</td>\n",
              "      <td>0.00</td>\n",
              "      <td>0.00</td>\n",
              "      <td>0.00</td>\n",
              "    </tr>\n",
              "    <tr>\n",
              "      <th>sms1</th>\n",
              "      <td>0.01</td>\n",
              "      <td>0.01</td>\n",
              "      <td>0.01</td>\n",
              "      <td>0.01</td>\n",
              "      <td>0.01</td>\n",
              "      <td>0.01</td>\n",
              "      <td>...</td>\n",
              "      <td>0.01</td>\n",
              "      <td>0.12</td>\n",
              "      <td>0.01</td>\n",
              "      <td>0.01</td>\n",
              "      <td>0.01</td>\n",
              "      <td>0.01</td>\n",
              "    </tr>\n",
              "    <tr>\n",
              "      <th>sms2!</th>\n",
              "      <td>0.00</td>\n",
              "      <td>0.00</td>\n",
              "      <td>0.00</td>\n",
              "      <td>0.00</td>\n",
              "      <td>0.00</td>\n",
              "      <td>0.00</td>\n",
              "      <td>...</td>\n",
              "      <td>0.00</td>\n",
              "      <td>0.00</td>\n",
              "      <td>0.00</td>\n",
              "      <td>0.00</td>\n",
              "      <td>0.00</td>\n",
              "      <td>0.00</td>\n",
              "    </tr>\n",
              "    <tr>\n",
              "      <th>sms3</th>\n",
              "      <td>0.00</td>\n",
              "      <td>0.00</td>\n",
              "      <td>0.00</td>\n",
              "      <td>0.00</td>\n",
              "      <td>0.09</td>\n",
              "      <td>0.00</td>\n",
              "      <td>...</td>\n",
              "      <td>0.00</td>\n",
              "      <td>0.00</td>\n",
              "      <td>0.00</td>\n",
              "      <td>0.00</td>\n",
              "      <td>0.00</td>\n",
              "      <td>0.00</td>\n",
              "    </tr>\n",
              "    <tr>\n",
              "      <th>sms4</th>\n",
              "      <td>0.39</td>\n",
              "      <td>0.00</td>\n",
              "      <td>0.33</td>\n",
              "      <td>0.00</td>\n",
              "      <td>0.00</td>\n",
              "      <td>0.00</td>\n",
              "      <td>...</td>\n",
              "      <td>0.00</td>\n",
              "      <td>0.00</td>\n",
              "      <td>0.09</td>\n",
              "      <td>0.00</td>\n",
              "      <td>0.00</td>\n",
              "      <td>0.00</td>\n",
              "    </tr>\n",
              "  </tbody>\n",
              "</table>\n",
              "<p>5 rows × 16 columns</p>\n",
              "</div>"
            ],
            "text/plain": [
              "       topic0  topic1  topic2  topic3  topic4  topic5  ...  topic10  \\\n",
              "sms0     0.00    0.62    0.00    0.00    0.00    0.00  ...     0.00   \n",
              "sms1     0.01    0.01    0.01    0.01    0.01    0.01  ...     0.01   \n",
              "sms2!    0.00    0.00    0.00    0.00    0.00    0.00  ...     0.00   \n",
              "sms3     0.00    0.00    0.00    0.00    0.09    0.00  ...     0.00   \n",
              "sms4     0.39    0.00    0.33    0.00    0.00    0.00  ...     0.00   \n",
              "\n",
              "       topic11  topic12  topic13  topic14  topic15  \n",
              "sms0      0.00     0.00     0.00     0.00     0.00  \n",
              "sms1      0.12     0.01     0.01     0.01     0.01  \n",
              "sms2!     0.00     0.00     0.00     0.00     0.00  \n",
              "sms3      0.00     0.00     0.00     0.00     0.00  \n",
              "sms4      0.00     0.09     0.00     0.00     0.00  \n",
              "\n",
              "[5 rows x 16 columns]"
            ]
          },
          "metadata": {
            "tags": []
          },
          "execution_count": 98
        }
      ]
    },
    {
      "cell_type": "code",
      "metadata": {
        "id": "X_34bevHD1hP"
      },
      "source": [
        "X_train, X_test, y_train, y_test = train_test_split(ldia32_topic_vectors, sms.spam, test_size=0.5, random_state=271828)"
      ],
      "execution_count": null,
      "outputs": []
    },
    {
      "cell_type": "code",
      "metadata": {
        "id": "F93ajD70Ej4Q"
      },
      "source": [
        "lda = LDA(n_components=1)"
      ],
      "execution_count": null,
      "outputs": []
    },
    {
      "cell_type": "code",
      "metadata": {
        "id": "iPvlfd0OE0lA"
      },
      "source": [
        "lda = lda.fit(X_train, y_train)"
      ],
      "execution_count": null,
      "outputs": []
    },
    {
      "cell_type": "code",
      "metadata": {
        "id": "tJK27oFFE4wP"
      },
      "source": [
        "sms['ldia32_spam'] = lda.predict(ldia32_topic_vectors)"
      ],
      "execution_count": null,
      "outputs": []
    },
    {
      "cell_type": "code",
      "metadata": {
        "colab": {
          "base_uri": "https://localhost:8080/"
        },
        "id": "K4gBsiH2FCK_",
        "outputId": "0cd17da5-9875-49d0-d5cb-97f4d47c909c"
      },
      "source": [
        "X_train.shape"
      ],
      "execution_count": null,
      "outputs": [
        {
          "output_type": "execute_result",
          "data": {
            "text/plain": [
              "(2418, 32)"
            ]
          },
          "metadata": {
            "tags": []
          },
          "execution_count": 103
        }
      ]
    },
    {
      "cell_type": "code",
      "metadata": {
        "colab": {
          "base_uri": "https://localhost:8080/"
        },
        "id": "Y3_9tqW_FEBA",
        "outputId": "253e7437-a313-4dd3-d728-4a497de0ef2d"
      },
      "source": [
        "round(float(lda.score(X_train, y_train)), 3)"
      ],
      "execution_count": null,
      "outputs": [
        {
          "output_type": "execute_result",
          "data": {
            "text/plain": [
              "0.933"
            ]
          },
          "metadata": {
            "tags": []
          },
          "execution_count": 104
        }
      ]
    },
    {
      "cell_type": "code",
      "metadata": {
        "colab": {
          "base_uri": "https://localhost:8080/"
        },
        "id": "K6nIAbwiFLfg",
        "outputId": "361716e2-50fd-401f-9cd5-6b7ae05f502d"
      },
      "source": [
        "round(float(lda.score(X_test, y_test)), 3)"
      ],
      "execution_count": null,
      "outputs": [
        {
          "output_type": "execute_result",
          "data": {
            "text/plain": [
              "0.936"
            ]
          },
          "metadata": {
            "tags": []
          },
          "execution_count": 105
        }
      ]
    },
    {
      "cell_type": "code",
      "metadata": {
        "id": "xcU9AmixIQzR"
      },
      "source": [
        "import sklearn"
      ],
      "execution_count": null,
      "outputs": []
    },
    {
      "cell_type": "code",
      "metadata": {
        "colab": {
          "base_uri": "https://localhost:8080/",
          "height": 35
        },
        "id": "96wB6BxFFSwf",
        "outputId": "aaa4b90e-8bbe-4313-dc6f-a5add28057ad"
      },
      "source": [
        "sklearn.__file__"
      ],
      "execution_count": null,
      "outputs": [
        {
          "output_type": "execute_result",
          "data": {
            "application/vnd.google.colaboratory.intrinsic+json": {
              "type": "string"
            },
            "text/plain": [
              "'/usr/local/lib/python3.6/dist-packages/sklearn/__init__.py'"
            ]
          },
          "metadata": {
            "tags": []
          },
          "execution_count": 108
        }
      ]
    },
    {
      "cell_type": "code",
      "metadata": {
        "id": "-GHIrTMEIO2t"
      },
      "source": [
        "from sklearn.discriminant_analysis import LinearDiscriminantAnalysis as LDA"
      ],
      "execution_count": null,
      "outputs": []
    },
    {
      "cell_type": "code",
      "metadata": {
        "id": "CCFNJxjUIk2p"
      },
      "source": [
        "LDA??"
      ],
      "execution_count": null,
      "outputs": []
    },
    {
      "cell_type": "code",
      "metadata": {
        "id": "fEw5m_q2parD"
      },
      "source": [
        ""
      ],
      "execution_count": null,
      "outputs": []
    },
    {
      "cell_type": "markdown",
      "metadata": {
        "id": "gvOXEMSkpcSU"
      },
      "source": [
        "## **Linear Discriminant Analysis (LDA)**"
      ]
    },
    {
      "cell_type": "code",
      "metadata": {
        "colab": {
          "base_uri": "https://localhost:8080/"
        },
        "id": "1k3IrFwMbNtU",
        "outputId": "a436a46c-e0a0-4e26-db29-cd33d4511d1b"
      },
      "source": [
        "from nlpia.data.loaders import get_data"
      ],
      "execution_count": null,
      "outputs": [
        {
          "output_type": "stream",
          "text": [
            "/usr/local/lib/python3.6/dist-packages/pugnlp/constants.py:158: FutureWarning: The pandas.datetime class is deprecated and will be removed from pandas in a future version. Import from datetime instead.\n",
            "  MIN_TIMESTAMP = pd.Timestamp(pd.datetime(1677, 9, 22, 0, 12, 44), tz='utc')\n"
          ],
          "name": "stderr"
        }
      ]
    },
    {
      "cell_type": "code",
      "metadata": {
        "id": "Oxv3H0DibOey"
      },
      "source": [
        "sms = get_data('sms-spam')"
      ],
      "execution_count": null,
      "outputs": []
    },
    {
      "cell_type": "code",
      "metadata": {
        "id": "r-B5M56SbOtN"
      },
      "source": [
        "from sklearn.feature_extraction.text import TfidfVectorizer\n",
        "from nltk.tokenize.casual import casual_tokenize"
      ],
      "execution_count": null,
      "outputs": []
    },
    {
      "cell_type": "code",
      "metadata": {
        "id": "mTGRCo-0cMiZ"
      },
      "source": [
        "tfidf = TfidfVectorizer(tokenizer=casual_tokenize)\n",
        "tfidf_docs = tfidf.fit_transform(raw_documents=sms.text).toarray()"
      ],
      "execution_count": null,
      "outputs": []
    },
    {
      "cell_type": "code",
      "metadata": {
        "id": "MuoXqoNkcMs2"
      },
      "source": [
        ""
      ],
      "execution_count": null,
      "outputs": []
    },
    {
      "cell_type": "code",
      "metadata": {
        "id": "fhBafqvpcMpl"
      },
      "source": [
        "from sklearn.discriminant_analysis import LinearDiscriminantAnalysis as LDA"
      ],
      "execution_count": null,
      "outputs": []
    },
    {
      "cell_type": "code",
      "metadata": {
        "id": "2f_cAqwMIncp"
      },
      "source": [
        "lda = LDA(n_components=1)"
      ],
      "execution_count": null,
      "outputs": []
    },
    {
      "cell_type": "code",
      "metadata": {
        "id": "iD_kjx8MDkZR"
      },
      "source": [
        "lda = lda.fit(tfidf_docs, sms.spam)"
      ],
      "execution_count": null,
      "outputs": []
    },
    {
      "cell_type": "code",
      "metadata": {
        "id": "05yVPdk9Dreg"
      },
      "source": [
        "sms['lda_spaminess'] = lda.predict(tfidf_docs)"
      ],
      "execution_count": null,
      "outputs": []
    },
    {
      "cell_type": "code",
      "metadata": {
        "colab": {
          "base_uri": "https://localhost:8080/"
        },
        "id": "VRsBpxECfaJv",
        "outputId": "57413f60-670b-424b-9a89-b0a14e769870"
      },
      "source": [
        "((sms.spam - sms.lda_spaminess) ** 2).sum() ** .5"
      ],
      "execution_count": null,
      "outputs": [
        {
          "output_type": "execute_result",
          "data": {
            "text/plain": [
              "0.0"
            ]
          },
          "metadata": {
            "tags": []
          },
          "execution_count": 12
        }
      ]
    },
    {
      "cell_type": "code",
      "metadata": {
        "colab": {
          "base_uri": "https://localhost:8080/"
        },
        "id": "VPSxZvjwflyS",
        "outputId": "19596c92-4680-4830-ccd1-44ea5e3c4e58"
      },
      "source": [
        "(sms.spam == sms.lda_spaminess).sum() "
      ],
      "execution_count": null,
      "outputs": [
        {
          "output_type": "execute_result",
          "data": {
            "text/plain": [
              "4837"
            ]
          },
          "metadata": {
            "tags": []
          },
          "execution_count": 14
        }
      ]
    },
    {
      "cell_type": "code",
      "metadata": {
        "id": "On2fvFXzfx0B"
      },
      "source": [
        "from sklearn.model_selection import cross_val_score"
      ],
      "execution_count": null,
      "outputs": []
    },
    {
      "cell_type": "code",
      "metadata": {
        "id": "JGtvOPE5gFCw"
      },
      "source": [
        "lda = LDA(n_components=1)"
      ],
      "execution_count": null,
      "outputs": []
    },
    {
      "cell_type": "code",
      "metadata": {
        "id": "qKFZfG5AgLhg"
      },
      "source": [
        "scores = cross_val_score(lda, tfidf_docs, sms.spam, cv=5)"
      ],
      "execution_count": null,
      "outputs": []
    },
    {
      "cell_type": "code",
      "metadata": {
        "colab": {
          "base_uri": "https://localhost:8080/"
        },
        "id": "Qiy3MxSlgcXB",
        "outputId": "0b5aac3c-06b8-45ec-c466-c506c3c03780"
      },
      "source": [
        "print(\"Accuracy: {:.2f} (+/-{:.2f}) \".format(scores.mean(), scores.std() *2))"
      ],
      "execution_count": null,
      "outputs": [
        {
          "output_type": "stream",
          "text": [
            "Accuracy: 0.96 (+/-0.01) \n"
          ],
          "name": "stdout"
        }
      ]
    },
    {
      "cell_type": "code",
      "metadata": {
        "id": "5_tTWkdxlTtO"
      },
      "source": [
        "X_train, X_test, y_train, y_test = train_test_split(tfidf_docs, sms.spam, test_size=0.3, random_state=271828)"
      ],
      "execution_count": null,
      "outputs": []
    },
    {
      "cell_type": "code",
      "metadata": {
        "id": "Pxc7qHNzlT3A"
      },
      "source": [
        "lda = LDA(n_components=1)"
      ],
      "execution_count": null,
      "outputs": []
    },
    {
      "cell_type": "code",
      "metadata": {
        "colab": {
          "base_uri": "https://localhost:8080/"
        },
        "id": "lpWZngSrlUJp",
        "outputId": "5c81d184-e175-4538-8bcb-ea4093aac1fe"
      },
      "source": [
        "lda.fit(X_train, y_train)"
      ],
      "execution_count": null,
      "outputs": [
        {
          "output_type": "execute_result",
          "data": {
            "text/plain": [
              "LinearDiscriminantAnalysis(n_components=1, priors=None, shrinkage=None,\n",
              "                           solver='svd', store_covariance=False, tol=0.0001)"
            ]
          },
          "metadata": {
            "tags": []
          },
          "execution_count": 36
        }
      ]
    },
    {
      "cell_type": "code",
      "metadata": {
        "colab": {
          "base_uri": "https://localhost:8080/"
        },
        "id": "xjMe3RsqlTy7",
        "outputId": "279cbe54-f39b-408f-8f7d-63cbf759fd02"
      },
      "source": [
        "lda.score(X_test, y_test).round(3)"
      ],
      "execution_count": null,
      "outputs": [
        {
          "output_type": "execute_result",
          "data": {
            "text/plain": [
              "0.965"
            ]
          },
          "metadata": {
            "tags": []
          },
          "execution_count": 37
        }
      ]
    },
    {
      "cell_type": "code",
      "metadata": {
        "id": "AcaJhzsviiwc"
      },
      "source": [
        "from sklearn.decomposition import PCA"
      ],
      "execution_count": null,
      "outputs": []
    },
    {
      "cell_type": "code",
      "metadata": {
        "id": "ALR9NqSOii3X"
      },
      "source": [
        "pca = PCA(n_components=16)"
      ],
      "execution_count": null,
      "outputs": []
    },
    {
      "cell_type": "code",
      "metadata": {
        "id": "XYMO0iAdk5Fw"
      },
      "source": [
        ""
      ],
      "execution_count": null,
      "outputs": []
    },
    {
      "cell_type": "code",
      "metadata": {
        "id": "wZcUyo3yivs3"
      },
      "source": [
        "pca = pca.fit(tfidf_docs)"
      ],
      "execution_count": null,
      "outputs": []
    },
    {
      "cell_type": "code",
      "metadata": {
        "id": "99zJMo3niisZ"
      },
      "source": [
        "pca_topic_vectors = pca.transform(tfidf_docs)"
      ],
      "execution_count": null,
      "outputs": []
    },
    {
      "cell_type": "code",
      "metadata": {
        "id": "RhVEw0-qjQL7"
      },
      "source": [
        "from sklearn.model_selection import train_test_split"
      ],
      "execution_count": null,
      "outputs": []
    },
    {
      "cell_type": "code",
      "metadata": {
        "id": "tET8_eDziBVN"
      },
      "source": [
        "X_train, X_test, y_train, y_test = train_test_split(pca_topic_vectors, sms.spam, test_size=0.3, random_state=271828)"
      ],
      "execution_count": null,
      "outputs": []
    },
    {
      "cell_type": "code",
      "metadata": {
        "id": "Cbx47JvzjN8y"
      },
      "source": [
        "lda = LDA(n_components=1)"
      ],
      "execution_count": null,
      "outputs": []
    },
    {
      "cell_type": "code",
      "metadata": {
        "colab": {
          "base_uri": "https://localhost:8080/"
        },
        "id": "HftGFxUCjvEZ",
        "outputId": "57c9e32f-d6eb-4214-e7b2-34f989a5d43d"
      },
      "source": [
        "lda.fit(X_train, y_train)"
      ],
      "execution_count": null,
      "outputs": [
        {
          "output_type": "execute_result",
          "data": {
            "text/plain": [
              "LinearDiscriminantAnalysis(n_components=1, priors=None, shrinkage=None,\n",
              "                           solver='svd', store_covariance=False, tol=0.0001)"
            ]
          },
          "metadata": {
            "tags": []
          },
          "execution_count": 28
        }
      ]
    },
    {
      "cell_type": "code",
      "metadata": {
        "colab": {
          "base_uri": "https://localhost:8080/"
        },
        "id": "PBykuUbAjzs5",
        "outputId": "801ba41b-727c-4358-a558-4adcec907815"
      },
      "source": [
        "lda.score(X_test, y_test).round(3)"
      ],
      "execution_count": null,
      "outputs": [
        {
          "output_type": "execute_result",
          "data": {
            "text/plain": [
              "0.966"
            ]
          },
          "metadata": {
            "tags": []
          },
          "execution_count": 30
        }
      ]
    },
    {
      "cell_type": "code",
      "metadata": {
        "id": "tUMEBFcOj9E6"
      },
      "source": [
        "lda = LDA(n_components=1)"
      ],
      "execution_count": null,
      "outputs": []
    },
    {
      "cell_type": "code",
      "metadata": {
        "id": "MsL3P9sqkG35"
      },
      "source": [
        "scores = cross_val_score(lda, pca_topic_vectors, sms.spam, cv=10)"
      ],
      "execution_count": null,
      "outputs": []
    },
    {
      "cell_type": "code",
      "metadata": {
        "colab": {
          "base_uri": "https://localhost:8080/"
        },
        "id": "_xlQHQd_kQGI",
        "outputId": "c8c04fd3-0cae-4d82-f9e6-0f459695af4a"
      },
      "source": [
        "print(\"Accuracy: {:.2f} (+/-{:.2f}) \".format(scores.mean(), scores.std() *2))"
      ],
      "execution_count": null,
      "outputs": [
        {
          "output_type": "stream",
          "text": [
            "Accuracy: 0.96 (+/-0.02) \n"
          ],
          "name": "stdout"
        }
      ]
    },
    {
      "cell_type": "code",
      "metadata": {
        "id": "GA2jhwlYmbAy"
      },
      "source": [
        ""
      ],
      "execution_count": null,
      "outputs": []
    },
    {
      "cell_type": "markdown",
      "metadata": {
        "id": "F0nV0rC2mbaT"
      },
      "source": [
        "# **Luis Serrano Application of Singular Value Decomposition (SVD)**"
      ]
    },
    {
      "cell_type": "markdown",
      "metadata": {
        "id": "HlI3hIEJ_k_I"
      },
      "source": [
        "## **Image Compression**"
      ]
    },
    {
      "cell_type": "code",
      "metadata": {
        "id": "iILzPqM0khJX"
      },
      "source": [
        "import numpy as np\n",
        "from numpy.linalg import svd\n",
        "import matplotlib.pyplot as plt\n",
        "from matplotlib.pyplot import imshow "
      ],
      "execution_count": null,
      "outputs": []
    },
    {
      "cell_type": "code",
      "metadata": {
        "id": "kfi8s2V0_jdd"
      },
      "source": [
        "vmin = 0\n",
        "vmax = 1\n",
        "image_bias = 1 # sometimes 1\n",
        "\n",
        "def plot_svd(A):\n",
        "  n = len(A)\n",
        "  imshow(image_bias-A, cmap='gray', vmin=vmin, vmax=vmax)\n",
        "  plt.show()\n",
        "  U, S, V = svd(A)\n",
        "\n",
        "  imgs = []\n",
        "  for i in range(n):\n",
        "    imgs.append(S[i] * np.outer(U[:, i], V[i]))\n",
        "\n",
        "  combined_imgs = []\n",
        "  for i in range(n):\n",
        "    imgs.append(S[i] * np.outer(U[:, i], V[i]))\n",
        "\n",
        "  combined_imgs = []\n",
        "  for i in range(n):\n",
        "    img = sum(imgs[:i+1])\n",
        "    combined_imgs.append(img)\n",
        "\n",
        "  fig, axes = plt.subplots(figsize= (n*n,n), nrows=1, ncols=n, sharex=True, sharey=True)\n",
        "  for num, ax in zip(range(n), axes):\n",
        "    ax.imshow(image_bias-imgs[num], cmap='gray', vmin=vmin, vmax=vmax)\n",
        "    ax.set_title(np.round(S[num], 2), fontsize=80)\n",
        "  plt.show()\n",
        "\n",
        "  fig, axes = plt.subplots(figsize=(n*n, n), nrows = 1, ncols = n, sharex=True, sharey=True)\n",
        "  for num, ax in zip(range(n), axes):\n",
        "    ax.imshow(image_bias - combined_imgs[num], cmap='gray', vmin=vmin, vmax=vmax)\n",
        "  plt.show()\n",
        "\n",
        "  return U, S, V"
      ],
      "execution_count": null,
      "outputs": []
    },
    {
      "cell_type": "code",
      "metadata": {
        "colab": {
          "base_uri": "https://localhost:8080/",
          "height": 749
        },
        "id": "2dDDVryKE9eo",
        "outputId": "3000179c-6abb-4965-e10b-04ca30e9af10"
      },
      "source": [
        "D = np.array([[0,1,1,0,1,1,0],\n",
        "              [1,1,1,1,1,1,1],\n",
        "              [1,1,1,1,1,1,1],\n",
        "              [0,1,1,1,1,1,0],\n",
        "              [0,0,1,1,1,0,0],\n",
        "              [0,0,0,1,0,0,0],\n",
        "             ])\n",
        "\n",
        "U, S, V = plot_svd(D)"
      ],
      "execution_count": null,
      "outputs": [
        {
          "output_type": "display_data",
          "data": {
            "image/png": "[encoded data removed]",
            "text/plain": [
              "<Figure size 432x288 with 1 Axes>"
            ]
          },
          "metadata": {
            "tags": [],
            "needs_background": "light"
          }
        },
        {
          "output_type": "display_data",
          "data": {
            "image/png": "[encoded data removed]",
            "text/plain": [
              "<Figure size 2592x432 with 6 Axes>"
            ]
          },
          "metadata": {
            "tags": [],
            "needs_background": "light"
          }
        },
        {
          "output_type": "display_data",
          "data": {
            "image/png": "[encoded data removed]",
            "text/plain": [
              "<Figure size 2592x432 with 6 Axes>"
            ]
          },
          "metadata": {
            "tags": [],
            "needs_background": "light"
          }
        }
      ]
    },
    {
      "cell_type": "code",
      "metadata": {
        "id": "w55y6H1lFPgF"
      },
      "source": [
        ""
      ],
      "execution_count": null,
      "outputs": []
    }
  ]
}