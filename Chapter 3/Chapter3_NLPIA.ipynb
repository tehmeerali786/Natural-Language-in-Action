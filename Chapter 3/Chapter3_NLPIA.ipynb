{
  "nbformat": 4,
  "nbformat_minor": 0,
  "metadata": {
    "colab": {
      "name": "Chapter3 NLPIA.ipynb",
      "provenance": [],
      "collapsed_sections": []
    },
    "kernelspec": {
      "name": "python3",
      "display_name": "Python 3"
    }
  },
  "cells": [
    {
      "cell_type": "code",
      "metadata": {
        "id": "miRYpDH5pnbe"
      },
      "source": [
        "from nltk.tokenize import TreebankWordTokenizer"
      ],
      "execution_count": null,
      "outputs": []
    },
    {
      "cell_type": "code",
      "metadata": {
        "id": "IAm0_3sAqRBX"
      },
      "source": [
        "sentence = \"\"\"The faster Harry got to the store, the faster Harry, the faster, would get home. \"\"\""
      ],
      "execution_count": null,
      "outputs": []
    },
    {
      "cell_type": "code",
      "metadata": {
        "id": "hr6hiXyurD2J"
      },
      "source": [
        "tokenizer = TreebankWordTokenizer()"
      ],
      "execution_count": null,
      "outputs": []
    },
    {
      "cell_type": "code",
      "metadata": {
        "id": "flfdsrpgreRX"
      },
      "source": [
        "tokens = tokenizer.tokenize(sentence.lower())"
      ],
      "execution_count": null,
      "outputs": []
    },
    {
      "cell_type": "code",
      "metadata": {
        "id": "QBlMN_olr7XH",
        "outputId": "d8bcaff6-b1af-4557-9daa-f46897a9ec12",
        "colab": {
          "base_uri": "https://localhost:8080/"
        }
      },
      "source": [
        "tokens"
      ],
      "execution_count": null,
      "outputs": [
        {
          "output_type": "execute_result",
          "data": {
            "text/plain": [
              "['the',\n",
              " 'faster',\n",
              " 'harry',\n",
              " 'got',\n",
              " 'to',\n",
              " 'the',\n",
              " 'store',\n",
              " ',',\n",
              " 'the',\n",
              " 'faster',\n",
              " 'harry',\n",
              " ',',\n",
              " 'the',\n",
              " 'faster',\n",
              " ',',\n",
              " 'would',\n",
              " 'get',\n",
              " 'home',\n",
              " '.']"
            ]
          },
          "metadata": {
            "tags": []
          },
          "execution_count": 5
        }
      ]
    },
    {
      "cell_type": "code",
      "metadata": {
        "id": "igFWHkU1r833"
      },
      "source": [
        "from collections import Counter"
      ],
      "execution_count": null,
      "outputs": []
    },
    {
      "cell_type": "code",
      "metadata": {
        "id": "vtO8N6tKtNf1"
      },
      "source": [
        "bag_of_words = Counter(tokens)"
      ],
      "execution_count": null,
      "outputs": []
    },
    {
      "cell_type": "code",
      "metadata": {
        "id": "mu3-O3NntR8F",
        "outputId": "970fc30c-e6bf-4ee7-b5fd-9bd616d9cc21",
        "colab": {
          "base_uri": "https://localhost:8080/"
        }
      },
      "source": [
        "bag_of_words"
      ],
      "execution_count": null,
      "outputs": [
        {
          "output_type": "execute_result",
          "data": {
            "text/plain": [
              "Counter({',': 3,\n",
              "         '.': 1,\n",
              "         'faster': 3,\n",
              "         'get': 1,\n",
              "         'got': 1,\n",
              "         'harry': 2,\n",
              "         'home': 1,\n",
              "         'store': 1,\n",
              "         'the': 4,\n",
              "         'to': 1,\n",
              "         'would': 1})"
            ]
          },
          "metadata": {
            "tags": []
          },
          "execution_count": 8
        }
      ]
    },
    {
      "cell_type": "code",
      "metadata": {
        "id": "44IUgMtKtT3m",
        "outputId": "b345fad4-d858-4ba0-e778-1894a0bf10c2",
        "colab": {
          "base_uri": "https://localhost:8080/"
        }
      },
      "source": [
        "bag_of_words.most_common(4)"
      ],
      "execution_count": null,
      "outputs": [
        {
          "output_type": "execute_result",
          "data": {
            "text/plain": [
              "[('the', 4), ('faster', 3), (',', 3), ('harry', 2)]"
            ]
          },
          "metadata": {
            "tags": []
          },
          "execution_count": 9
        }
      ]
    },
    {
      "cell_type": "code",
      "metadata": {
        "id": "9SFI8tFsuLsz"
      },
      "source": [
        "times_harry_appears = bag_of_words['harry']"
      ],
      "execution_count": null,
      "outputs": []
    },
    {
      "cell_type": "code",
      "metadata": {
        "id": "Zh4u8WhYu--B"
      },
      "source": [
        "num_unique_words = len(bag_of_words)"
      ],
      "execution_count": null,
      "outputs": []
    },
    {
      "cell_type": "code",
      "metadata": {
        "id": "f45x9q1avEfi"
      },
      "source": [
        "tf = times_harry_appears/num_unique_words"
      ],
      "execution_count": null,
      "outputs": []
    },
    {
      "cell_type": "code",
      "metadata": {
        "id": "QAYDq_p_vJeQ",
        "outputId": "7a2187db-c789-49f9-ea2d-81f7386243d9",
        "colab": {
          "base_uri": "https://localhost:8080/"
        }
      },
      "source": [
        "round(tf, 4)"
      ],
      "execution_count": null,
      "outputs": [
        {
          "output_type": "execute_result",
          "data": {
            "text/plain": [
              "0.1818"
            ]
          },
          "metadata": {
            "tags": []
          },
          "execution_count": 13
        }
      ]
    },
    {
      "cell_type": "code",
      "metadata": {
        "id": "iOuHvIcAvMDg",
        "outputId": "7defd0e0-054f-45e6-f1e6-48cbbbc0f707",
        "colab": {
          "base_uri": "https://localhost:8080/"
        }
      },
      "source": [
        "num_unique_words"
      ],
      "execution_count": null,
      "outputs": [
        {
          "output_type": "execute_result",
          "data": {
            "text/plain": [
              "11"
            ]
          },
          "metadata": {
            "tags": []
          },
          "execution_count": 14
        }
      ]
    },
    {
      "cell_type": "code",
      "metadata": {
        "id": "8GgpyqPsvQWQ",
        "outputId": "ead8c2dd-1e35-4460-ef16-454b9f39a6ef",
        "colab": {
          "base_uri": "https://localhost:8080/"
        }
      },
      "source": [
        "times_harry_appears"
      ],
      "execution_count": null,
      "outputs": [
        {
          "output_type": "execute_result",
          "data": {
            "text/plain": [
              "2"
            ]
          },
          "metadata": {
            "tags": []
          },
          "execution_count": 17
        }
      ]
    },
    {
      "cell_type": "code",
      "metadata": {
        "id": "XkwpzDJyvVSB",
        "outputId": "24c006b0-b80f-4e72-a246-384700c38a58",
        "colab": {
          "base_uri": "https://localhost:8080/"
        }
      },
      "source": [
        "round(2/11, 4)"
      ],
      "execution_count": null,
      "outputs": [
        {
          "output_type": "execute_result",
          "data": {
            "text/plain": [
              "0.1818"
            ]
          },
          "metadata": {
            "tags": []
          },
          "execution_count": 19
        }
      ]
    },
    {
      "cell_type": "code",
      "metadata": {
        "id": "SNpiYZr9veBx",
        "outputId": "43a99c8a-27fe-4464-e32b-9820cddbc6f6",
        "colab": {
          "base_uri": "https://localhost:8080/"
        }
      },
      "source": [
        "!pip install nlpia"
      ],
      "execution_count": null,
      "outputs": [
        {
          "output_type": "stream",
          "text": [
            "Collecting nlpia\n",
            "\u001b[?25l  Downloading https://files.pythonhosted.org/packages/89/f6/ab35e962dd0b19f1008e88e788b202d45a90d9cd70b9bbf0ac26489ee260/nlpia-0.5.2-py2.py3-none-any.whl (32.0MB)\n",
            "\u001b[K     |████████████████████████████████| 32.0MB 92kB/s \n",
            "\u001b[?25hRequirement already satisfied: future in /usr/local/lib/python3.6/dist-packages (from nlpia) (0.16.0)\n",
            "Collecting python-Levenshtein\n",
            "\u001b[?25l  Downloading https://files.pythonhosted.org/packages/42/a9/d1785c85ebf9b7dfacd08938dd028209c34a0ea3b1bcdb895208bd40a67d/python-Levenshtein-0.12.0.tar.gz (48kB)\n",
            "\u001b[K     |████████████████████████████████| 51kB 5.3MB/s \n",
            "\u001b[?25hRequirement already satisfied: tqdm in /usr/local/lib/python3.6/dist-packages (from nlpia) (4.41.1)\n",
            "Requirement already satisfied: gensim in /usr/local/lib/python3.6/dist-packages (from nlpia) (3.6.0)\n",
            "Requirement already satisfied: lxml in /usr/local/lib/python3.6/dist-packages (from nlpia) (4.2.6)\n",
            "Requirement already satisfied: html5lib in /usr/local/lib/python3.6/dist-packages (from nlpia) (1.0.1)\n",
            "Collecting pypandoc\n",
            "  Downloading https://files.pythonhosted.org/packages/d6/b7/5050dc1769c8a93d3ec7c4bd55be161991c94b8b235f88bf7c764449e708/pypandoc-1.5.tar.gz\n",
            "Requirement already satisfied: plotly in /usr/local/lib/python3.6/dist-packages (from nlpia) (4.4.1)\n",
            "Requirement already satisfied: scikit-learn in /usr/local/lib/python3.6/dist-packages (from nlpia) (0.22.2.post1)\n",
            "Requirement already satisfied: jupyter in /usr/local/lib/python3.6/dist-packages (from nlpia) (1.0.0)\n",
            "Requirement already satisfied: pandas-datareader in /usr/local/lib/python3.6/dist-packages (from nlpia) (0.9.0)\n",
            "Requirement already satisfied: regex in /usr/local/lib/python3.6/dist-packages (from nlpia) (2019.12.20)\n",
            "Requirement already satisfied: pandas in /usr/local/lib/python3.6/dist-packages (from nlpia) (1.1.4)\n",
            "Requirement already satisfied: seaborn in /usr/local/lib/python3.6/dist-packages (from nlpia) (0.11.0)\n",
            "Requirement already satisfied: spacy in /usr/local/lib/python3.6/dist-packages (from nlpia) (2.2.4)\n",
            "Collecting pugnlp\n",
            "\u001b[?25l  Downloading https://files.pythonhosted.org/packages/f7/20/a9f0b1f45c074c63da716fc1b301916cc3b64c11d5cbf7cb305eafaf158a/pugnlp-0.2.6-py2.py3-none-any.whl (706kB)\n",
            "\u001b[K     |████████████████████████████████| 716kB 33.6MB/s \n",
            "\u001b[?25hRequirement already satisfied: matplotlib in /usr/local/lib/python3.6/dist-packages (from nlpia) (3.2.2)\n",
            "Requirement already satisfied: h5py in /usr/local/lib/python3.6/dist-packages (from nlpia) (2.10.0)\n",
            "Requirement already satisfied: nltk in /usr/local/lib/python3.6/dist-packages (from nlpia) (3.2.5)\n",
            "Requirement already satisfied: tensorflow in /usr/local/lib/python3.6/dist-packages (from nlpia) (2.3.0)\n",
            "Collecting html2text\n",
            "  Downloading https://files.pythonhosted.org/packages/ae/88/14655f727f66b3e3199f4467bafcc88283e6c31b562686bf606264e09181/html2text-2020.1.16-py3-none-any.whl\n",
            "Requirement already satisfied: keras in /usr/local/lib/python3.6/dist-packages (from nlpia) (2.4.3)\n",
            "Requirement already satisfied: setuptools in /usr/local/lib/python3.6/dist-packages (from python-Levenshtein->nlpia) (50.3.2)\n",
            "Requirement already satisfied: smart-open>=1.2.1 in /usr/local/lib/python3.6/dist-packages (from gensim->nlpia) (3.0.0)\n",
            "Requirement already satisfied: numpy>=1.11.3 in /usr/local/lib/python3.6/dist-packages (from gensim->nlpia) (1.18.5)\n",
            "Requirement already satisfied: scipy>=0.18.1 in /usr/local/lib/python3.6/dist-packages (from gensim->nlpia) (1.4.1)\n",
            "Requirement already satisfied: six>=1.5.0 in /usr/local/lib/python3.6/dist-packages (from gensim->nlpia) (1.15.0)\n",
            "Requirement already satisfied: webencodings in /usr/local/lib/python3.6/dist-packages (from html5lib->nlpia) (0.5.1)\n",
            "Requirement already satisfied: pip>=8.1.0 in /usr/local/lib/python3.6/dist-packages (from pypandoc->nlpia) (19.3.1)\n",
            "Requirement already satisfied: wheel>=0.25.0 in /usr/local/lib/python3.6/dist-packages (from pypandoc->nlpia) (0.35.1)\n",
            "Requirement already satisfied: retrying>=1.3.3 in /usr/local/lib/python3.6/dist-packages (from plotly->nlpia) (1.3.3)\n",
            "Requirement already satisfied: joblib>=0.11 in /usr/local/lib/python3.6/dist-packages (from scikit-learn->nlpia) (0.17.0)\n",
            "Requirement already satisfied: ipywidgets in /usr/local/lib/python3.6/dist-packages (from jupyter->nlpia) (7.5.1)\n",
            "Requirement already satisfied: jupyter-console in /usr/local/lib/python3.6/dist-packages (from jupyter->nlpia) (5.2.0)\n",
            "Requirement already satisfied: notebook in /usr/local/lib/python3.6/dist-packages (from jupyter->nlpia) (5.3.1)\n",
            "Requirement already satisfied: qtconsole in /usr/local/lib/python3.6/dist-packages (from jupyter->nlpia) (4.7.7)\n",
            "Requirement already satisfied: nbconvert in /usr/local/lib/python3.6/dist-packages (from jupyter->nlpia) (5.6.1)\n",
            "Requirement already satisfied: ipykernel in /usr/local/lib/python3.6/dist-packages (from jupyter->nlpia) (4.10.1)\n",
            "Requirement already satisfied: requests>=2.19.0 in /usr/local/lib/python3.6/dist-packages (from pandas-datareader->nlpia) (2.23.0)\n",
            "Requirement already satisfied: pytz>=2017.2 in /usr/local/lib/python3.6/dist-packages (from pandas->nlpia) (2018.9)\n",
            "Requirement already satisfied: python-dateutil>=2.7.3 in /usr/local/lib/python3.6/dist-packages (from pandas->nlpia) (2.8.1)\n",
            "Requirement already satisfied: preshed<3.1.0,>=3.0.2 in /usr/local/lib/python3.6/dist-packages (from spacy->nlpia) (3.0.2)\n",
            "Requirement already satisfied: srsly<1.1.0,>=1.0.2 in /usr/local/lib/python3.6/dist-packages (from spacy->nlpia) (1.0.2)\n",
            "Requirement already satisfied: catalogue<1.1.0,>=0.0.7 in /usr/local/lib/python3.6/dist-packages (from spacy->nlpia) (1.0.0)\n",
            "Requirement already satisfied: wasabi<1.1.0,>=0.4.0 in /usr/local/lib/python3.6/dist-packages (from spacy->nlpia) (0.8.0)\n",
            "Requirement already satisfied: murmurhash<1.1.0,>=0.28.0 in /usr/local/lib/python3.6/dist-packages (from spacy->nlpia) (1.0.3)\n",
            "Requirement already satisfied: cymem<2.1.0,>=2.0.2 in /usr/local/lib/python3.6/dist-packages (from spacy->nlpia) (2.0.4)\n",
            "Requirement already satisfied: plac<1.2.0,>=0.9.6 in /usr/local/lib/python3.6/dist-packages (from spacy->nlpia) (1.1.3)\n",
            "Requirement already satisfied: thinc==7.4.0 in /usr/local/lib/python3.6/dist-packages (from spacy->nlpia) (7.4.0)\n",
            "Requirement already satisfied: blis<0.5.0,>=0.4.0 in /usr/local/lib/python3.6/dist-packages (from spacy->nlpia) (0.4.1)\n",
            "Requirement already satisfied: python-slugify in /usr/local/lib/python3.6/dist-packages (from pugnlp->nlpia) (4.0.1)\n",
            "Requirement already satisfied: coverage in /usr/local/lib/python3.6/dist-packages (from pugnlp->nlpia) (3.7.1)\n",
            "Collecting fuzzywuzzy\n",
            "  Downloading https://files.pythonhosted.org/packages/43/ff/74f23998ad2f93b945c0309f825be92e04e0348e062026998b5eefef4c33/fuzzywuzzy-0.18.0-py2.py3-none-any.whl\n",
            "Requirement already satisfied: pyparsing!=2.0.4,!=2.1.2,!=2.1.6,>=2.0.1 in /usr/local/lib/python3.6/dist-packages (from matplotlib->nlpia) (2.4.7)\n",
            "Requirement already satisfied: kiwisolver>=1.0.1 in /usr/local/lib/python3.6/dist-packages (from matplotlib->nlpia) (1.3.1)\n",
            "Requirement already satisfied: cycler>=0.10 in /usr/local/lib/python3.6/dist-packages (from matplotlib->nlpia) (0.10.0)\n",
            "Requirement already satisfied: tensorboard<3,>=2.3.0 in /usr/local/lib/python3.6/dist-packages (from tensorflow->nlpia) (2.3.0)\n",
            "Requirement already satisfied: protobuf>=3.9.2 in /usr/local/lib/python3.6/dist-packages (from tensorflow->nlpia) (3.12.4)\n",
            "Requirement already satisfied: keras-preprocessing<1.2,>=1.1.1 in /usr/local/lib/python3.6/dist-packages (from tensorflow->nlpia) (1.1.2)\n",
            "Requirement already satisfied: astunparse==1.6.3 in /usr/local/lib/python3.6/dist-packages (from tensorflow->nlpia) (1.6.3)\n",
            "Requirement already satisfied: wrapt>=1.11.1 in /usr/local/lib/python3.6/dist-packages (from tensorflow->nlpia) (1.12.1)\n",
            "Requirement already satisfied: opt-einsum>=2.3.2 in /usr/local/lib/python3.6/dist-packages (from tensorflow->nlpia) (3.3.0)\n",
            "Requirement already satisfied: absl-py>=0.7.0 in /usr/local/lib/python3.6/dist-packages (from tensorflow->nlpia) (0.10.0)\n",
            "Requirement already satisfied: termcolor>=1.1.0 in /usr/local/lib/python3.6/dist-packages (from tensorflow->nlpia) (1.1.0)\n",
            "Requirement already satisfied: gast==0.3.3 in /usr/local/lib/python3.6/dist-packages (from tensorflow->nlpia) (0.3.3)\n",
            "Requirement already satisfied: tensorflow-estimator<2.4.0,>=2.3.0 in /usr/local/lib/python3.6/dist-packages (from tensorflow->nlpia) (2.3.0)\n",
            "Requirement already satisfied: grpcio>=1.8.6 in /usr/local/lib/python3.6/dist-packages (from tensorflow->nlpia) (1.33.2)\n",
            "Requirement already satisfied: google-pasta>=0.1.8 in /usr/local/lib/python3.6/dist-packages (from tensorflow->nlpia) (0.2.0)\n",
            "Requirement already satisfied: pyyaml in /usr/local/lib/python3.6/dist-packages (from keras->nlpia) (3.13)\n",
            "Requirement already satisfied: traitlets>=4.3.1 in /usr/local/lib/python3.6/dist-packages (from ipywidgets->jupyter->nlpia) (4.3.3)\n",
            "Requirement already satisfied: widgetsnbextension~=3.5.0 in /usr/local/lib/python3.6/dist-packages (from ipywidgets->jupyter->nlpia) (3.5.1)\n",
            "Requirement already satisfied: nbformat>=4.2.0 in /usr/local/lib/python3.6/dist-packages (from ipywidgets->jupyter->nlpia) (5.0.8)\n",
            "Requirement already satisfied: ipython>=4.0.0; python_version >= \"3.3\" in /usr/local/lib/python3.6/dist-packages (from ipywidgets->jupyter->nlpia) (5.5.0)\n",
            "Requirement already satisfied: jupyter-client in /usr/local/lib/python3.6/dist-packages (from jupyter-console->jupyter->nlpia) (5.3.5)\n",
            "Requirement already satisfied: pygments in /usr/local/lib/python3.6/dist-packages (from jupyter-console->jupyter->nlpia) (2.6.1)\n",
            "Requirement already satisfied: prompt-toolkit<2.0.0,>=1.0.0 in /usr/local/lib/python3.6/dist-packages (from jupyter-console->jupyter->nlpia) (1.0.18)\n",
            "Requirement already satisfied: tornado>=4 in /usr/local/lib/python3.6/dist-packages (from notebook->jupyter->nlpia) (5.1.1)\n",
            "Requirement already satisfied: jinja2 in /usr/local/lib/python3.6/dist-packages (from notebook->jupyter->nlpia) (2.11.2)\n",
            "Requirement already satisfied: jupyter-core>=4.4.0 in /usr/local/lib/python3.6/dist-packages (from notebook->jupyter->nlpia) (4.6.3)\n",
            "Requirement already satisfied: Send2Trash in /usr/local/lib/python3.6/dist-packages (from notebook->jupyter->nlpia) (1.5.0)\n",
            "Requirement already satisfied: terminado>=0.8.1 in /usr/local/lib/python3.6/dist-packages (from notebook->jupyter->nlpia) (0.9.1)\n",
            "Requirement already satisfied: ipython-genutils in /usr/local/lib/python3.6/dist-packages (from notebook->jupyter->nlpia) (0.2.0)\n",
            "Requirement already satisfied: pyzmq>=17.1 in /usr/local/lib/python3.6/dist-packages (from qtconsole->jupyter->nlpia) (19.0.2)\n",
            "Requirement already satisfied: qtpy in /usr/local/lib/python3.6/dist-packages (from qtconsole->jupyter->nlpia) (1.9.0)\n",
            "Requirement already satisfied: defusedxml in /usr/local/lib/python3.6/dist-packages (from nbconvert->jupyter->nlpia) (0.6.0)\n",
            "Requirement already satisfied: entrypoints>=0.2.2 in /usr/local/lib/python3.6/dist-packages (from nbconvert->jupyter->nlpia) (0.3)\n",
            "Requirement already satisfied: mistune<2,>=0.8.1 in /usr/local/lib/python3.6/dist-packages (from nbconvert->jupyter->nlpia) (0.8.4)\n",
            "Requirement already satisfied: pandocfilters>=1.4.1 in /usr/local/lib/python3.6/dist-packages (from nbconvert->jupyter->nlpia) (1.4.3)\n",
            "Requirement already satisfied: testpath in /usr/local/lib/python3.6/dist-packages (from nbconvert->jupyter->nlpia) (0.4.4)\n",
            "Requirement already satisfied: bleach in /usr/local/lib/python3.6/dist-packages (from nbconvert->jupyter->nlpia) (3.2.1)\n",
            "Requirement already satisfied: chardet<4,>=3.0.2 in /usr/local/lib/python3.6/dist-packages (from requests>=2.19.0->pandas-datareader->nlpia) (3.0.4)\n",
            "Requirement already satisfied: urllib3!=1.25.0,!=1.25.1,<1.26,>=1.21.1 in /usr/local/lib/python3.6/dist-packages (from requests>=2.19.0->pandas-datareader->nlpia) (1.24.3)\n",
            "Requirement already satisfied: idna<3,>=2.5 in /usr/local/lib/python3.6/dist-packages (from requests>=2.19.0->pandas-datareader->nlpia) (2.10)\n",
            "Requirement already satisfied: certifi>=2017.4.17 in /usr/local/lib/python3.6/dist-packages (from requests>=2.19.0->pandas-datareader->nlpia) (2020.6.20)\n",
            "Requirement already satisfied: importlib-metadata>=0.20; python_version < \"3.8\" in /usr/local/lib/python3.6/dist-packages (from catalogue<1.1.0,>=0.0.7->spacy->nlpia) (2.0.0)\n",
            "Requirement already satisfied: text-unidecode>=1.3 in /usr/local/lib/python3.6/dist-packages (from python-slugify->pugnlp->nlpia) (1.3)\n",
            "Requirement already satisfied: werkzeug>=0.11.15 in /usr/local/lib/python3.6/dist-packages (from tensorboard<3,>=2.3.0->tensorflow->nlpia) (1.0.1)\n",
            "Requirement already satisfied: tensorboard-plugin-wit>=1.6.0 in /usr/local/lib/python3.6/dist-packages (from tensorboard<3,>=2.3.0->tensorflow->nlpia) (1.7.0)\n",
            "Requirement already satisfied: google-auth-oauthlib<0.5,>=0.4.1 in /usr/local/lib/python3.6/dist-packages (from tensorboard<3,>=2.3.0->tensorflow->nlpia) (0.4.2)\n",
            "Requirement already satisfied: google-auth<2,>=1.6.3 in /usr/local/lib/python3.6/dist-packages (from tensorboard<3,>=2.3.0->tensorflow->nlpia) (1.17.2)\n",
            "Requirement already satisfied: markdown>=2.6.8 in /usr/local/lib/python3.6/dist-packages (from tensorboard<3,>=2.3.0->tensorflow->nlpia) (3.3.3)\n",
            "Requirement already satisfied: decorator in /usr/local/lib/python3.6/dist-packages (from traitlets>=4.3.1->ipywidgets->jupyter->nlpia) (4.4.2)\n",
            "Requirement already satisfied: jsonschema!=2.5.0,>=2.4 in /usr/local/lib/python3.6/dist-packages (from nbformat>=4.2.0->ipywidgets->jupyter->nlpia) (2.6.0)\n",
            "Requirement already satisfied: pexpect; sys_platform != \"win32\" in /usr/local/lib/python3.6/dist-packages (from ipython>=4.0.0; python_version >= \"3.3\"->ipywidgets->jupyter->nlpia) (4.8.0)\n",
            "Requirement already satisfied: pickleshare in /usr/local/lib/python3.6/dist-packages (from ipython>=4.0.0; python_version >= \"3.3\"->ipywidgets->jupyter->nlpia) (0.7.5)\n",
            "Requirement already satisfied: simplegeneric>0.8 in /usr/local/lib/python3.6/dist-packages (from ipython>=4.0.0; python_version >= \"3.3\"->ipywidgets->jupyter->nlpia) (0.8.1)\n",
            "Requirement already satisfied: wcwidth in /usr/local/lib/python3.6/dist-packages (from prompt-toolkit<2.0.0,>=1.0.0->jupyter-console->jupyter->nlpia) (0.2.5)\n",
            "Requirement already satisfied: MarkupSafe>=0.23 in /usr/local/lib/python3.6/dist-packages (from jinja2->notebook->jupyter->nlpia) (1.1.1)\n",
            "Requirement already satisfied: ptyprocess; os_name != \"nt\" in /usr/local/lib/python3.6/dist-packages (from terminado>=0.8.1->notebook->jupyter->nlpia) (0.6.0)\n",
            "Requirement already satisfied: packaging in /usr/local/lib/python3.6/dist-packages (from bleach->nbconvert->jupyter->nlpia) (20.4)\n",
            "Requirement already satisfied: zipp>=0.5 in /usr/local/lib/python3.6/dist-packages (from importlib-metadata>=0.20; python_version < \"3.8\"->catalogue<1.1.0,>=0.0.7->spacy->nlpia) (3.4.0)\n",
            "Requirement already satisfied: requests-oauthlib>=0.7.0 in /usr/local/lib/python3.6/dist-packages (from google-auth-oauthlib<0.5,>=0.4.1->tensorboard<3,>=2.3.0->tensorflow->nlpia) (1.3.0)\n",
            "Requirement already satisfied: cachetools<5.0,>=2.0.0 in /usr/local/lib/python3.6/dist-packages (from google-auth<2,>=1.6.3->tensorboard<3,>=2.3.0->tensorflow->nlpia) (4.1.1)\n",
            "Requirement already satisfied: pyasn1-modules>=0.2.1 in /usr/local/lib/python3.6/dist-packages (from google-auth<2,>=1.6.3->tensorboard<3,>=2.3.0->tensorflow->nlpia) (0.2.8)\n",
            "Requirement already satisfied: rsa<5,>=3.1.4; python_version >= \"3\" in /usr/local/lib/python3.6/dist-packages (from google-auth<2,>=1.6.3->tensorboard<3,>=2.3.0->tensorflow->nlpia) (4.6)\n",
            "Requirement already satisfied: oauthlib>=3.0.0 in /usr/local/lib/python3.6/dist-packages (from requests-oauthlib>=0.7.0->google-auth-oauthlib<0.5,>=0.4.1->tensorboard<3,>=2.3.0->tensorflow->nlpia) (3.1.0)\n",
            "Requirement already satisfied: pyasn1<0.5.0,>=0.4.6 in /usr/local/lib/python3.6/dist-packages (from pyasn1-modules>=0.2.1->google-auth<2,>=1.6.3->tensorboard<3,>=2.3.0->tensorflow->nlpia) (0.4.8)\n",
            "Building wheels for collected packages: python-Levenshtein, pypandoc\n",
            "  Building wheel for python-Levenshtein (setup.py) ... \u001b[?25l\u001b[?25hdone\n",
            "  Created wheel for python-Levenshtein: filename=python_Levenshtein-0.12.0-cp36-cp36m-linux_x86_64.whl size=144803 sha256=7030f8c508b23f4508e3c59748aaa62eeab5694f287aef545160db695972f7a3\n",
            "  Stored in directory: /root/.cache/pip/wheels/de/c2/93/660fd5f7559049268ad2dc6d81c4e39e9e36518766eaf7e342\n",
            "  Building wheel for pypandoc (setup.py) ... \u001b[?25l\u001b[?25hdone\n",
            "  Created wheel for pypandoc: filename=pypandoc-1.5-cp36-none-any.whl size=17038 sha256=c8b6bfce1846714ef70d01662c2593e1bdbf2853d2a8497e0d68db79bbc4f871\n",
            "  Stored in directory: /root/.cache/pip/wheels/bb/7d/d6/2f9af55e800d37e42e546106bcbd36a86e24e725e303d17e04\n",
            "Successfully built python-Levenshtein pypandoc\n",
            "Installing collected packages: python-Levenshtein, pypandoc, fuzzywuzzy, pugnlp, html2text, nlpia\n",
            "Successfully installed fuzzywuzzy-0.18.0 html2text-2020.1.16 nlpia-0.5.2 pugnlp-0.2.6 pypandoc-1.5 python-Levenshtein-0.12.0\n"
          ],
          "name": "stdout"
        }
      ]
    },
    {
      "cell_type": "code",
      "metadata": {
        "id": "LWl2Mv6syktG"
      },
      "source": [
        "from collections import Counter"
      ],
      "execution_count": null,
      "outputs": []
    },
    {
      "cell_type": "code",
      "metadata": {
        "id": "Jgn6cYh2y1ar"
      },
      "source": [
        "from nltk.tokenize import TreebankWordTokenizer"
      ],
      "execution_count": null,
      "outputs": []
    },
    {
      "cell_type": "code",
      "metadata": {
        "id": "M0Nzc6ipy50K"
      },
      "source": [
        "tokenizer = TreebankWordTokenizer()"
      ],
      "execution_count": null,
      "outputs": []
    },
    {
      "cell_type": "code",
      "metadata": {
        "id": "DHIdSJxuy9oa",
        "outputId": "1749b96a-3065-4774-e371-c4c84734d23f",
        "colab": {
          "base_uri": "https://localhost:8080/"
        }
      },
      "source": [
        "from nlpia.data.loaders import kite_text"
      ],
      "execution_count": null,
      "outputs": [
        {
          "output_type": "stream",
          "text": [
            "/usr/local/lib/python3.6/dist-packages/pugnlp/constants.py:158: FutureWarning: The pandas.datetime class is deprecated and will be removed from pandas in a future version. Import from datetime instead.\n",
            "  MIN_TIMESTAMP = pd.Timestamp(pd.datetime(1677, 9, 22, 0, 12, 44), tz='utc')\n"
          ],
          "name": "stderr"
        }
      ]
    },
    {
      "cell_type": "code",
      "metadata": {
        "id": "2kk-Ty76zQ76"
      },
      "source": [
        "tokens = tokenizer.tokenize(kite_text.lower())"
      ],
      "execution_count": null,
      "outputs": []
    },
    {
      "cell_type": "code",
      "metadata": {
        "id": "q6705aPPzrNJ"
      },
      "source": [
        "token_counts = Counter(tokens)"
      ],
      "execution_count": null,
      "outputs": []
    },
    {
      "cell_type": "code",
      "metadata": {
        "id": "9OTuK0HTzwaJ",
        "outputId": "fd52000c-0cbc-4d4e-d343-55d72723f6b1",
        "colab": {
          "base_uri": "https://localhost:8080/"
        }
      },
      "source": [
        "token_counts"
      ],
      "execution_count": null,
      "outputs": [
        {
          "output_type": "execute_result",
          "data": {
            "text/plain": [
              "Counter({\"'s\": 2,\n",
              "         '(': 1,\n",
              "         ')': 1,\n",
              "         ',': 15,\n",
              "         '.': 2,\n",
              "         ';': 2,\n",
              "         'a': 20,\n",
              "         'above': 1,\n",
              "         'activities': 1,\n",
              "         'aerial': 1,\n",
              "         'against': 1,\n",
              "         'air': 2,\n",
              "         'along': 1,\n",
              "         'also': 3,\n",
              "         'anchor': 1,\n",
              "         'anchors': 1,\n",
              "         'anchors.': 2,\n",
              "         'and': 10,\n",
              "         'angle': 1,\n",
              "         'apply': 1,\n",
              "         'are': 3,\n",
              "         'around': 1,\n",
              "         'art': 1,\n",
              "         'as': 5,\n",
              "         'at': 3,\n",
              "         'attached.': 1,\n",
              "         'ballet': 1,\n",
              "         'balloon': 1,\n",
              "         'be': 5,\n",
              "         'been': 1,\n",
              "         'below': 1,\n",
              "         'boat': 1,\n",
              "         'both': 1,\n",
              "         'bridle': 2,\n",
              "         'buggying': 1,\n",
              "         'by': 2,\n",
              "         'called': 2,\n",
              "         'can': 3,\n",
              "         'competition.': 1,\n",
              "         'components': 1,\n",
              "         'comprising': 1,\n",
              "         'consists': 2,\n",
              "         'correct': 1,\n",
              "         'craft': 2,\n",
              "         'create': 1,\n",
              "         'designed': 2,\n",
              "         'different': 1,\n",
              "         'direction': 1,\n",
              "         'drag': 2,\n",
              "         'drag.': 1,\n",
              "         'e.g.': 1,\n",
              "         'even': 2,\n",
              "         'face': 1,\n",
              "         'festivals': 1,\n",
              "         'fishing': 1,\n",
              "         'fixed': 1,\n",
              "         'flight': 1,\n",
              "         'flow': 1,\n",
              "         'flown': 3,\n",
              "         'flows': 1,\n",
              "         'fluid': 1,\n",
              "         'for': 2,\n",
              "         'force': 2,\n",
              "         'forces': 1,\n",
              "         'free-falling': 1,\n",
              "         'from': 1,\n",
              "         'fugitive': 1,\n",
              "         'generate': 1,\n",
              "         'generated': 1,\n",
              "         'generates': 1,\n",
              "         'guide': 1,\n",
              "         'have': 4,\n",
              "         'heavier-than-air': 1,\n",
              "         'high': 1,\n",
              "         'history': 1,\n",
              "         'horizontal': 1,\n",
              "         'hybrid': 1,\n",
              "         'in': 7,\n",
              "         'individually': 1,\n",
              "         'interaction': 1,\n",
              "         'is': 7,\n",
              "         'it.': 1,\n",
              "         'kite': 16,\n",
              "         'kite.': 1,\n",
              "         'kites': 8,\n",
              "         'kiting': 3,\n",
              "         'kiting.': 1,\n",
              "         'kytoon.': 1,\n",
              "         'landboarding': 1,\n",
              "         'large': 1,\n",
              "         'launch': 1,\n",
              "         'lift': 4,\n",
              "         'lifting': 1,\n",
              "         'lighter-than-air': 1,\n",
              "         'line': 1,\n",
              "         'lines': 1,\n",
              "         'liquids': 1,\n",
              "         'long': 1,\n",
              "         'low': 1,\n",
              "         'made': 1,\n",
              "         'man-lifting': 1,\n",
              "         'many': 1,\n",
              "         'may': 4,\n",
              "         'meets': 1,\n",
              "         'more': 1,\n",
              "         'moving': 2,\n",
              "         'multi-line': 1,\n",
              "         'needed': 1,\n",
              "         'new': 1,\n",
              "         'not': 1,\n",
              "         'of': 10,\n",
              "         'often': 2,\n",
              "         'one': 1,\n",
              "         'opposed': 1,\n",
              "         'or': 6,\n",
              "         'other': 1,\n",
              "         'paragliders': 1,\n",
              "         'parakites': 1,\n",
              "         'part': 1,\n",
              "         'person': 1,\n",
              "         'point': 1,\n",
              "         'point.': 1,\n",
              "         'power': 2,\n",
              "         'practical': 1,\n",
              "         'pressure': 2,\n",
              "         'principles': 1,\n",
              "         'producing': 1,\n",
              "         'react': 1,\n",
              "         'recreation': 1,\n",
              "         'resultant': 1,\n",
              "         'running': 1,\n",
              "         'sailplane': 1,\n",
              "         'same': 1,\n",
              "         'sets': 1,\n",
              "         'single': 1,\n",
              "         'snow': 1,\n",
              "         'so': 3,\n",
              "         'sometimes': 1,\n",
              "         'sport': 1,\n",
              "         'static': 1,\n",
              "         'steerable': 1,\n",
              "         'still': 1,\n",
              "         'such': 1,\n",
              "         'surface': 2,\n",
              "         'surfaces': 1,\n",
              "         'surfing': 1,\n",
              "         'sustains': 1,\n",
              "         'system': 1,\n",
              "         'technical': 2,\n",
              "         'tension': 1,\n",
              "         'tether': 1,\n",
              "         'tether-set-coupled': 1,\n",
              "         'tethered': 2,\n",
              "         'tethers': 2,\n",
              "         'that': 2,\n",
              "         'the': 26,\n",
              "         'though': 1,\n",
              "         'to': 5,\n",
              "         'towing': 1,\n",
              "         'traditionally': 1,\n",
              "         'trend': 1,\n",
              "         'types': 1,\n",
              "         'under': 1,\n",
              "         'untraditionally': 1,\n",
              "         'used': 2,\n",
              "         'uses.': 1,\n",
              "         'varied': 1,\n",
              "         'vector': 1,\n",
              "         'vehicle': 1,\n",
              "         'water.': 1,\n",
              "         'well': 1,\n",
              "         'when': 2,\n",
              "         'which': 2,\n",
              "         'wind': 2,\n",
              "         'wind.': 1,\n",
              "         'wing': 5,\n",
              "         'wings': 1,\n",
              "         'wings.': 1,\n",
              "         'with': 2,\n",
              "         'worldwide.': 1})"
            ]
          },
          "metadata": {
            "tags": []
          },
          "execution_count": 8
        }
      ]
    },
    {
      "cell_type": "code",
      "metadata": {
        "id": "K_0bVKoIz9x4",
        "outputId": "8ad6f87a-e8c3-4e55-b65f-4cad1c93f899",
        "colab": {
          "base_uri": "https://localhost:8080/"
        }
      },
      "source": [
        "tokens"
      ],
      "execution_count": null,
      "outputs": [
        {
          "output_type": "execute_result",
          "data": {
            "text/plain": [
              "['a',\n",
              " 'kite',\n",
              " 'is',\n",
              " 'traditionally',\n",
              " 'a',\n",
              " 'tethered',\n",
              " 'heavier-than-air',\n",
              " 'craft',\n",
              " 'with',\n",
              " 'wing',\n",
              " 'surfaces',\n",
              " 'that',\n",
              " 'react',\n",
              " 'against',\n",
              " 'the',\n",
              " 'air',\n",
              " 'to',\n",
              " 'create',\n",
              " 'lift',\n",
              " 'and',\n",
              " 'drag.',\n",
              " 'a',\n",
              " 'kite',\n",
              " 'consists',\n",
              " 'of',\n",
              " 'wings',\n",
              " ',',\n",
              " 'tethers',\n",
              " ',',\n",
              " 'and',\n",
              " 'anchors.',\n",
              " 'kites',\n",
              " 'often',\n",
              " 'have',\n",
              " 'a',\n",
              " 'bridle',\n",
              " 'to',\n",
              " 'guide',\n",
              " 'the',\n",
              " 'face',\n",
              " 'of',\n",
              " 'the',\n",
              " 'kite',\n",
              " 'at',\n",
              " 'the',\n",
              " 'correct',\n",
              " 'angle',\n",
              " 'so',\n",
              " 'the',\n",
              " 'wind',\n",
              " 'can',\n",
              " 'lift',\n",
              " 'it.',\n",
              " 'a',\n",
              " 'kite',\n",
              " \"'s\",\n",
              " 'wing',\n",
              " 'also',\n",
              " 'may',\n",
              " 'be',\n",
              " 'so',\n",
              " 'designed',\n",
              " 'so',\n",
              " 'a',\n",
              " 'bridle',\n",
              " 'is',\n",
              " 'not',\n",
              " 'needed',\n",
              " ';',\n",
              " 'when',\n",
              " 'kiting',\n",
              " 'a',\n",
              " 'sailplane',\n",
              " 'for',\n",
              " 'launch',\n",
              " ',',\n",
              " 'the',\n",
              " 'tether',\n",
              " 'meets',\n",
              " 'the',\n",
              " 'wing',\n",
              " 'at',\n",
              " 'a',\n",
              " 'single',\n",
              " 'point.',\n",
              " 'a',\n",
              " 'kite',\n",
              " 'may',\n",
              " 'have',\n",
              " 'fixed',\n",
              " 'or',\n",
              " 'moving',\n",
              " 'anchors.',\n",
              " 'untraditionally',\n",
              " 'in',\n",
              " 'technical',\n",
              " 'kiting',\n",
              " ',',\n",
              " 'a',\n",
              " 'kite',\n",
              " 'consists',\n",
              " 'of',\n",
              " 'tether-set-coupled',\n",
              " 'wing',\n",
              " 'sets',\n",
              " ';',\n",
              " 'even',\n",
              " 'in',\n",
              " 'technical',\n",
              " 'kiting',\n",
              " ',',\n",
              " 'though',\n",
              " ',',\n",
              " 'a',\n",
              " 'wing',\n",
              " 'in',\n",
              " 'the',\n",
              " 'system',\n",
              " 'is',\n",
              " 'still',\n",
              " 'often',\n",
              " 'called',\n",
              " 'the',\n",
              " 'kite.',\n",
              " 'the',\n",
              " 'lift',\n",
              " 'that',\n",
              " 'sustains',\n",
              " 'the',\n",
              " 'kite',\n",
              " 'in',\n",
              " 'flight',\n",
              " 'is',\n",
              " 'generated',\n",
              " 'when',\n",
              " 'air',\n",
              " 'flows',\n",
              " 'around',\n",
              " 'the',\n",
              " 'kite',\n",
              " \"'s\",\n",
              " 'surface',\n",
              " ',',\n",
              " 'producing',\n",
              " 'low',\n",
              " 'pressure',\n",
              " 'above',\n",
              " 'and',\n",
              " 'high',\n",
              " 'pressure',\n",
              " 'below',\n",
              " 'the',\n",
              " 'wings.',\n",
              " 'the',\n",
              " 'interaction',\n",
              " 'with',\n",
              " 'the',\n",
              " 'wind',\n",
              " 'also',\n",
              " 'generates',\n",
              " 'horizontal',\n",
              " 'drag',\n",
              " 'along',\n",
              " 'the',\n",
              " 'direction',\n",
              " 'of',\n",
              " 'the',\n",
              " 'wind.',\n",
              " 'the',\n",
              " 'resultant',\n",
              " 'force',\n",
              " 'vector',\n",
              " 'from',\n",
              " 'the',\n",
              " 'lift',\n",
              " 'and',\n",
              " 'drag',\n",
              " 'force',\n",
              " 'components',\n",
              " 'is',\n",
              " 'opposed',\n",
              " 'by',\n",
              " 'the',\n",
              " 'tension',\n",
              " 'of',\n",
              " 'one',\n",
              " 'or',\n",
              " 'more',\n",
              " 'of',\n",
              " 'the',\n",
              " 'lines',\n",
              " 'or',\n",
              " 'tethers',\n",
              " 'to',\n",
              " 'which',\n",
              " 'the',\n",
              " 'kite',\n",
              " 'is',\n",
              " 'attached.',\n",
              " 'the',\n",
              " 'anchor',\n",
              " 'point',\n",
              " 'of',\n",
              " 'the',\n",
              " 'kite',\n",
              " 'line',\n",
              " 'may',\n",
              " 'be',\n",
              " 'static',\n",
              " 'or',\n",
              " 'moving',\n",
              " '(',\n",
              " 'e.g.',\n",
              " ',',\n",
              " 'the',\n",
              " 'towing',\n",
              " 'of',\n",
              " 'a',\n",
              " 'kite',\n",
              " 'by',\n",
              " 'a',\n",
              " 'running',\n",
              " 'person',\n",
              " ',',\n",
              " 'boat',\n",
              " ',',\n",
              " 'free-falling',\n",
              " 'anchors',\n",
              " 'as',\n",
              " 'in',\n",
              " 'paragliders',\n",
              " 'and',\n",
              " 'fugitive',\n",
              " 'parakites',\n",
              " 'or',\n",
              " 'vehicle',\n",
              " ')',\n",
              " '.',\n",
              " 'the',\n",
              " 'same',\n",
              " 'principles',\n",
              " 'of',\n",
              " 'fluid',\n",
              " 'flow',\n",
              " 'apply',\n",
              " 'in',\n",
              " 'liquids',\n",
              " 'and',\n",
              " 'kites',\n",
              " 'are',\n",
              " 'also',\n",
              " 'used',\n",
              " 'under',\n",
              " 'water.',\n",
              " 'a',\n",
              " 'hybrid',\n",
              " 'tethered',\n",
              " 'craft',\n",
              " 'comprising',\n",
              " 'both',\n",
              " 'a',\n",
              " 'lighter-than-air',\n",
              " 'balloon',\n",
              " 'as',\n",
              " 'well',\n",
              " 'as',\n",
              " 'a',\n",
              " 'kite',\n",
              " 'lifting',\n",
              " 'surface',\n",
              " 'is',\n",
              " 'called',\n",
              " 'a',\n",
              " 'kytoon.',\n",
              " 'kites',\n",
              " 'have',\n",
              " 'a',\n",
              " 'long',\n",
              " 'and',\n",
              " 'varied',\n",
              " 'history',\n",
              " 'and',\n",
              " 'many',\n",
              " 'different',\n",
              " 'types',\n",
              " 'are',\n",
              " 'flown',\n",
              " 'individually',\n",
              " 'and',\n",
              " 'at',\n",
              " 'festivals',\n",
              " 'worldwide.',\n",
              " 'kites',\n",
              " 'may',\n",
              " 'be',\n",
              " 'flown',\n",
              " 'for',\n",
              " 'recreation',\n",
              " ',',\n",
              " 'art',\n",
              " 'or',\n",
              " 'other',\n",
              " 'practical',\n",
              " 'uses.',\n",
              " 'sport',\n",
              " 'kites',\n",
              " 'can',\n",
              " 'be',\n",
              " 'flown',\n",
              " 'in',\n",
              " 'aerial',\n",
              " 'ballet',\n",
              " ',',\n",
              " 'sometimes',\n",
              " 'as',\n",
              " 'part',\n",
              " 'of',\n",
              " 'a',\n",
              " 'competition.',\n",
              " 'power',\n",
              " 'kites',\n",
              " 'are',\n",
              " 'multi-line',\n",
              " 'steerable',\n",
              " 'kites',\n",
              " 'designed',\n",
              " 'to',\n",
              " 'generate',\n",
              " 'large',\n",
              " 'forces',\n",
              " 'which',\n",
              " 'can',\n",
              " 'be',\n",
              " 'used',\n",
              " 'to',\n",
              " 'power',\n",
              " 'activities',\n",
              " 'such',\n",
              " 'as',\n",
              " 'kite',\n",
              " 'surfing',\n",
              " ',',\n",
              " 'kite',\n",
              " 'landboarding',\n",
              " ',',\n",
              " 'kite',\n",
              " 'fishing',\n",
              " ',',\n",
              " 'kite',\n",
              " 'buggying',\n",
              " 'and',\n",
              " 'a',\n",
              " 'new',\n",
              " 'trend',\n",
              " 'snow',\n",
              " 'kiting.',\n",
              " 'even',\n",
              " 'man-lifting',\n",
              " 'kites',\n",
              " 'have',\n",
              " 'been',\n",
              " 'made',\n",
              " '.']"
            ]
          },
          "metadata": {
            "tags": []
          },
          "execution_count": 9
        }
      ]
    },
    {
      "cell_type": "code",
      "metadata": {
        "id": "E0J08lpn0Lg4"
      },
      "source": [
        "import nltk"
      ],
      "execution_count": null,
      "outputs": []
    },
    {
      "cell_type": "code",
      "metadata": {
        "id": "CeNaPoZq05jX",
        "outputId": "d320abbc-5d93-4008-cf6e-470c8d3be0ca",
        "colab": {
          "base_uri": "https://localhost:8080/"
        }
      },
      "source": [
        "nltk.download('stopwords', quiet=True)"
      ],
      "execution_count": null,
      "outputs": [
        {
          "output_type": "execute_result",
          "data": {
            "text/plain": [
              "True"
            ]
          },
          "metadata": {
            "tags": []
          },
          "execution_count": 11
        }
      ]
    },
    {
      "cell_type": "code",
      "metadata": {
        "id": "HEbuZtos1Bsm"
      },
      "source": [
        "stopwords = nltk.corpus.stopwords.words('english')"
      ],
      "execution_count": null,
      "outputs": []
    },
    {
      "cell_type": "code",
      "metadata": {
        "id": "cd748ewK1PPW"
      },
      "source": [
        "tokens = [x for x in tokens if x not in stopwords]"
      ],
      "execution_count": null,
      "outputs": []
    },
    {
      "cell_type": "code",
      "metadata": {
        "id": "pfXdRTsh1bkG"
      },
      "source": [
        "kite_counts = Counter(tokens)"
      ],
      "execution_count": null,
      "outputs": []
    },
    {
      "cell_type": "code",
      "metadata": {
        "id": "1FqRRZHe1hb2",
        "outputId": "0ecb38c9-3e1a-4b0e-bc6d-25c7c5e3bf6b",
        "colab": {
          "base_uri": "https://localhost:8080/"
        }
      },
      "source": [
        "kite_counts"
      ],
      "execution_count": null,
      "outputs": [
        {
          "output_type": "execute_result",
          "data": {
            "text/plain": [
              "Counter({\"'s\": 2,\n",
              "         '(': 1,\n",
              "         ')': 1,\n",
              "         ',': 15,\n",
              "         '.': 2,\n",
              "         ';': 2,\n",
              "         'activities': 1,\n",
              "         'aerial': 1,\n",
              "         'air': 2,\n",
              "         'along': 1,\n",
              "         'also': 3,\n",
              "         'anchor': 1,\n",
              "         'anchors': 1,\n",
              "         'anchors.': 2,\n",
              "         'angle': 1,\n",
              "         'apply': 1,\n",
              "         'around': 1,\n",
              "         'art': 1,\n",
              "         'attached.': 1,\n",
              "         'ballet': 1,\n",
              "         'balloon': 1,\n",
              "         'boat': 1,\n",
              "         'bridle': 2,\n",
              "         'buggying': 1,\n",
              "         'called': 2,\n",
              "         'competition.': 1,\n",
              "         'components': 1,\n",
              "         'comprising': 1,\n",
              "         'consists': 2,\n",
              "         'correct': 1,\n",
              "         'craft': 2,\n",
              "         'create': 1,\n",
              "         'designed': 2,\n",
              "         'different': 1,\n",
              "         'direction': 1,\n",
              "         'drag': 2,\n",
              "         'drag.': 1,\n",
              "         'e.g.': 1,\n",
              "         'even': 2,\n",
              "         'face': 1,\n",
              "         'festivals': 1,\n",
              "         'fishing': 1,\n",
              "         'fixed': 1,\n",
              "         'flight': 1,\n",
              "         'flow': 1,\n",
              "         'flown': 3,\n",
              "         'flows': 1,\n",
              "         'fluid': 1,\n",
              "         'force': 2,\n",
              "         'forces': 1,\n",
              "         'free-falling': 1,\n",
              "         'fugitive': 1,\n",
              "         'generate': 1,\n",
              "         'generated': 1,\n",
              "         'generates': 1,\n",
              "         'guide': 1,\n",
              "         'heavier-than-air': 1,\n",
              "         'high': 1,\n",
              "         'history': 1,\n",
              "         'horizontal': 1,\n",
              "         'hybrid': 1,\n",
              "         'individually': 1,\n",
              "         'interaction': 1,\n",
              "         'it.': 1,\n",
              "         'kite': 16,\n",
              "         'kite.': 1,\n",
              "         'kites': 8,\n",
              "         'kiting': 3,\n",
              "         'kiting.': 1,\n",
              "         'kytoon.': 1,\n",
              "         'landboarding': 1,\n",
              "         'large': 1,\n",
              "         'launch': 1,\n",
              "         'lift': 4,\n",
              "         'lifting': 1,\n",
              "         'lighter-than-air': 1,\n",
              "         'line': 1,\n",
              "         'lines': 1,\n",
              "         'liquids': 1,\n",
              "         'long': 1,\n",
              "         'low': 1,\n",
              "         'made': 1,\n",
              "         'man-lifting': 1,\n",
              "         'many': 1,\n",
              "         'may': 4,\n",
              "         'meets': 1,\n",
              "         'moving': 2,\n",
              "         'multi-line': 1,\n",
              "         'needed': 1,\n",
              "         'new': 1,\n",
              "         'often': 2,\n",
              "         'one': 1,\n",
              "         'opposed': 1,\n",
              "         'paragliders': 1,\n",
              "         'parakites': 1,\n",
              "         'part': 1,\n",
              "         'person': 1,\n",
              "         'point': 1,\n",
              "         'point.': 1,\n",
              "         'power': 2,\n",
              "         'practical': 1,\n",
              "         'pressure': 2,\n",
              "         'principles': 1,\n",
              "         'producing': 1,\n",
              "         'react': 1,\n",
              "         'recreation': 1,\n",
              "         'resultant': 1,\n",
              "         'running': 1,\n",
              "         'sailplane': 1,\n",
              "         'sets': 1,\n",
              "         'single': 1,\n",
              "         'snow': 1,\n",
              "         'sometimes': 1,\n",
              "         'sport': 1,\n",
              "         'static': 1,\n",
              "         'steerable': 1,\n",
              "         'still': 1,\n",
              "         'surface': 2,\n",
              "         'surfaces': 1,\n",
              "         'surfing': 1,\n",
              "         'sustains': 1,\n",
              "         'system': 1,\n",
              "         'technical': 2,\n",
              "         'tension': 1,\n",
              "         'tether': 1,\n",
              "         'tether-set-coupled': 1,\n",
              "         'tethered': 2,\n",
              "         'tethers': 2,\n",
              "         'though': 1,\n",
              "         'towing': 1,\n",
              "         'traditionally': 1,\n",
              "         'trend': 1,\n",
              "         'types': 1,\n",
              "         'untraditionally': 1,\n",
              "         'used': 2,\n",
              "         'uses.': 1,\n",
              "         'varied': 1,\n",
              "         'vector': 1,\n",
              "         'vehicle': 1,\n",
              "         'water.': 1,\n",
              "         'well': 1,\n",
              "         'wind': 2,\n",
              "         'wind.': 1,\n",
              "         'wing': 5,\n",
              "         'wings': 1,\n",
              "         'wings.': 1,\n",
              "         'worldwide.': 1})"
            ]
          },
          "metadata": {
            "tags": []
          },
          "execution_count": 15
        }
      ]
    },
    {
      "cell_type": "code",
      "metadata": {
        "id": "YJJ1h9e31kEW",
        "outputId": "c5ac9862-8d28-4828-fb19-6e99ffcc5873",
        "colab": {
          "base_uri": "https://localhost:8080/"
        }
      },
      "source": [
        "kite_counts.most_common(4)"
      ],
      "execution_count": null,
      "outputs": [
        {
          "output_type": "execute_result",
          "data": {
            "text/plain": [
              "[('kite', 16), (',', 15), ('kites', 8), ('wing', 5)]"
            ]
          },
          "metadata": {
            "tags": []
          },
          "execution_count": 16
        }
      ]
    },
    {
      "cell_type": "code",
      "metadata": {
        "id": "7hEHLCXo13m0"
      },
      "source": [
        ""
      ],
      "execution_count": null,
      "outputs": []
    },
    {
      "cell_type": "markdown",
      "metadata": {
        "id": "5J0nDKs46eJT"
      },
      "source": [
        "## **Vectors**"
      ]
    },
    {
      "cell_type": "code",
      "metadata": {
        "id": "7K0-NkQZ6hNt"
      },
      "source": [
        "document_vector = []"
      ],
      "execution_count": 1,
      "outputs": []
    },
    {
      "cell_type": "code",
      "metadata": {
        "id": "o0GMCbS874n9",
        "outputId": "05c5bc48-d796-41d3-e35d-da2d11aca268",
        "colab": {
          "base_uri": "https://localhost:8080/",
          "height": 163
        }
      },
      "source": [
        "doc_length = len(tokens)"
      ],
      "execution_count": 2,
      "outputs": [
        {
          "output_type": "error",
          "ename": "NameError",
          "evalue": "ignored",
          "traceback": [
            "\u001b[0;31m---------------------------------------------------------------------------\u001b[0m",
            "\u001b[0;31mNameError\u001b[0m                                 Traceback (most recent call last)",
            "\u001b[0;32m<ipython-input-2-2e80f6c7717e>\u001b[0m in \u001b[0;36m<module>\u001b[0;34m()\u001b[0m\n\u001b[0;32m----> 1\u001b[0;31m \u001b[0mdoc_length\u001b[0m \u001b[0;34m=\u001b[0m \u001b[0mlen\u001b[0m\u001b[0;34m(\u001b[0m\u001b[0mtokens\u001b[0m\u001b[0;34m)\u001b[0m\u001b[0;34m\u001b[0m\u001b[0;34m\u001b[0m\u001b[0m\n\u001b[0m",
            "\u001b[0;31mNameError\u001b[0m: name 'tokens' is not defined"
          ]
        }
      ]
    },
    {
      "cell_type": "code",
      "metadata": {
        "id": "wU_LIs-B770b"
      },
      "source": [
        "for key, value in kite_counts.most_common():\n",
        "  document_vector.append(value / doc_length)\n",
        "  "
      ],
      "execution_count": null,
      "outputs": []
    },
    {
      "cell_type": "code",
      "metadata": {
        "id": "_w3CvmW98TZK"
      },
      "source": [
        "document_vector"
      ],
      "execution_count": null,
      "outputs": []
    },
    {
      "cell_type": "code",
      "metadata": {
        "id": "NCpdAL5B8WA6"
      },
      "source": [
        "doc_length"
      ],
      "execution_count": null,
      "outputs": []
    },
    {
      "cell_type": "code",
      "metadata": {
        "id": "AlQzhFn88bop",
        "outputId": "042fe834-0a3f-4f5c-efea-4f90eefee3aa",
        "colab": {
          "base_uri": "https://localhost:8080/",
          "height": 299
        }
      },
      "source": [
        "from nlpia.data.loaders import harry_docs as docs"
      ],
      "execution_count": 3,
      "outputs": [
        {
          "output_type": "error",
          "ename": "ModuleNotFoundError",
          "evalue": "ignored",
          "traceback": [
            "\u001b[0;31m---------------------------------------------------------------------------\u001b[0m",
            "\u001b[0;31mModuleNotFoundError\u001b[0m                       Traceback (most recent call last)",
            "\u001b[0;32m<ipython-input-3-a0a971dd9e2f>\u001b[0m in \u001b[0;36m<module>\u001b[0;34m()\u001b[0m\n\u001b[0;32m----> 1\u001b[0;31m \u001b[0;32mfrom\u001b[0m \u001b[0mnlpia\u001b[0m\u001b[0;34m.\u001b[0m\u001b[0mdata\u001b[0m\u001b[0;34m.\u001b[0m\u001b[0mloaders\u001b[0m \u001b[0;32mimport\u001b[0m \u001b[0mharry_docs\u001b[0m \u001b[0;32mas\u001b[0m \u001b[0mdocs\u001b[0m\u001b[0;34m\u001b[0m\u001b[0;34m\u001b[0m\u001b[0m\n\u001b[0m",
            "\u001b[0;31mModuleNotFoundError\u001b[0m: No module named 'nlpia'",
            "",
            "\u001b[0;31m---------------------------------------------------------------------------\u001b[0;32m\nNOTE: If your import is failing due to a missing package, you can\nmanually install dependencies using either !pip or !apt.\n\nTo view examples of installing some common dependencies, click the\n\"Open Examples\" button below.\n\u001b[0;31m---------------------------------------------------------------------------\u001b[0m\n"
          ]
        }
      ]
    },
    {
      "cell_type": "code",
      "metadata": {
        "id": "OWON-xiR-wS6",
        "outputId": "8dde4c12-e448-48b4-9f90-3d9a5f1807db",
        "colab": {
          "base_uri": "https://localhost:8080/",
          "height": 163
        }
      },
      "source": [
        "docs"
      ],
      "execution_count": 4,
      "outputs": [
        {
          "output_type": "error",
          "ename": "NameError",
          "evalue": "ignored",
          "traceback": [
            "\u001b[0;31m---------------------------------------------------------------------------\u001b[0m",
            "\u001b[0;31mNameError\u001b[0m                                 Traceback (most recent call last)",
            "\u001b[0;32m<ipython-input-4-34a3759aa959>\u001b[0m in \u001b[0;36m<module>\u001b[0;34m()\u001b[0m\n\u001b[0;32m----> 1\u001b[0;31m \u001b[0mdocs\u001b[0m\u001b[0;34m\u001b[0m\u001b[0;34m\u001b[0m\u001b[0m\n\u001b[0m",
            "\u001b[0;31mNameError\u001b[0m: name 'docs' is not defined"
          ]
        }
      ]
    },
    {
      "cell_type": "code",
      "metadata": {
        "id": "8fUgPhYQ-xMF"
      },
      "source": [
        "doc_tokens = []"
      ],
      "execution_count": 5,
      "outputs": []
    },
    {
      "cell_type": "code",
      "metadata": {
        "id": "tj0xE7Hk-7M1",
        "outputId": "bb61d654-4cbe-4205-83b1-67a5a747fd8d",
        "colab": {
          "base_uri": "https://localhost:8080/",
          "height": 180
        }
      },
      "source": [
        "for doc in docs:\n",
        "  doc_tokens += [sorted(tokenizer.tokenize(doc.lower()))]"
      ],
      "execution_count": 6,
      "outputs": [
        {
          "output_type": "error",
          "ename": "NameError",
          "evalue": "ignored",
          "traceback": [
            "\u001b[0;31m---------------------------------------------------------------------------\u001b[0m",
            "\u001b[0;31mNameError\u001b[0m                                 Traceback (most recent call last)",
            "\u001b[0;32m<ipython-input-6-654e808ef3c6>\u001b[0m in \u001b[0;36m<module>\u001b[0;34m()\u001b[0m\n\u001b[0;32m----> 1\u001b[0;31m \u001b[0;32mfor\u001b[0m \u001b[0mdoc\u001b[0m \u001b[0;32min\u001b[0m \u001b[0mdocs\u001b[0m\u001b[0;34m:\u001b[0m\u001b[0;34m\u001b[0m\u001b[0;34m\u001b[0m\u001b[0m\n\u001b[0m\u001b[1;32m      2\u001b[0m   \u001b[0mdoc_tokens\u001b[0m \u001b[0;34m+=\u001b[0m \u001b[0;34m[\u001b[0m\u001b[0msorted\u001b[0m\u001b[0;34m(\u001b[0m\u001b[0mtokenizer\u001b[0m\u001b[0;34m.\u001b[0m\u001b[0mtokenize\u001b[0m\u001b[0;34m(\u001b[0m\u001b[0mdoc\u001b[0m\u001b[0;34m.\u001b[0m\u001b[0mlower\u001b[0m\u001b[0;34m(\u001b[0m\u001b[0;34m)\u001b[0m\u001b[0;34m)\u001b[0m\u001b[0;34m)\u001b[0m\u001b[0;34m]\u001b[0m\u001b[0;34m\u001b[0m\u001b[0;34m\u001b[0m\u001b[0m\n",
            "\u001b[0;31mNameError\u001b[0m: name 'docs' is not defined"
          ]
        }
      ]
    },
    {
      "cell_type": "code",
      "metadata": {
        "id": "hkdqwJKB_nFE"
      },
      "source": [
        "len(doc_tokens[0])"
      ],
      "execution_count": null,
      "outputs": []
    },
    {
      "cell_type": "code",
      "metadata": {
        "id": "pcjs9Jrx_rJU",
        "outputId": "b3d5441c-9ff4-4cd8-e254-cfbfb81a81f4",
        "colab": {
          "base_uri": "https://localhost:8080/"
        }
      },
      "source": [
        "doc_tokens"
      ],
      "execution_count": 7,
      "outputs": [
        {
          "output_type": "execute_result",
          "data": {
            "text/plain": [
              "[]"
            ]
          },
          "metadata": {
            "tags": []
          },
          "execution_count": 7
        }
      ]
    },
    {
      "cell_type": "code",
      "metadata": {
        "id": "VX2URxlAAU9z"
      },
      "source": [
        "all_doc_tokens = sum(doc_tokens, [])"
      ],
      "execution_count": 8,
      "outputs": []
    },
    {
      "cell_type": "code",
      "metadata": {
        "id": "998mWICSBpvR",
        "outputId": "760c6d95-ad80-497e-bfcb-ede4d83cdd02",
        "colab": {
          "base_uri": "https://localhost:8080/"
        }
      },
      "source": [
        "all_doc_tokens"
      ],
      "execution_count": 9,
      "outputs": [
        {
          "output_type": "execute_result",
          "data": {
            "text/plain": [
              "[]"
            ]
          },
          "metadata": {
            "tags": []
          },
          "execution_count": 9
        }
      ]
    },
    {
      "cell_type": "code",
      "metadata": {
        "id": "1iTARCgOBsFg",
        "outputId": "b0e47ab4-8292-4e01-c3ef-9a2d48ee1a41",
        "colab": {
          "base_uri": "https://localhost:8080/"
        }
      },
      "source": [
        "len(all_doc_tokens)"
      ],
      "execution_count": 10,
      "outputs": [
        {
          "output_type": "execute_result",
          "data": {
            "text/plain": [
              "0"
            ]
          },
          "metadata": {
            "tags": []
          },
          "execution_count": 10
        }
      ]
    },
    {
      "cell_type": "code",
      "metadata": {
        "id": "jVLoKL0-ByhB"
      },
      "source": [
        "lexicon = sorted(set(all_doc_tokens))"
      ],
      "execution_count": 11,
      "outputs": []
    },
    {
      "cell_type": "code",
      "metadata": {
        "id": "Jij7HWQyB9hQ",
        "outputId": "acdf33e7-14b4-44ba-a32c-a6c51121a154",
        "colab": {
          "base_uri": "https://localhost:8080/"
        }
      },
      "source": [
        "len(lexicon)"
      ],
      "execution_count": 12,
      "outputs": [
        {
          "output_type": "execute_result",
          "data": {
            "text/plain": [
              "0"
            ]
          },
          "metadata": {
            "tags": []
          },
          "execution_count": 12
        }
      ]
    },
    {
      "cell_type": "code",
      "metadata": {
        "id": "XSXnL6nsB_XA",
        "outputId": "e2c74a18-90ec-406c-99f7-4c8c9854955e",
        "colab": {
          "base_uri": "https://localhost:8080/"
        }
      },
      "source": [
        "lexicon"
      ],
      "execution_count": 13,
      "outputs": [
        {
          "output_type": "execute_result",
          "data": {
            "text/plain": [
              "[]"
            ]
          },
          "metadata": {
            "tags": []
          },
          "execution_count": 13
        }
      ]
    },
    {
      "cell_type": "code",
      "metadata": {
        "id": "lTZo6IzVCC0g"
      },
      "source": [
        "from collections import OrderedDict"
      ],
      "execution_count": 14,
      "outputs": []
    },
    {
      "cell_type": "code",
      "metadata": {
        "id": "4wQOsWdpDzey"
      },
      "source": [
        "zero_vector = OrderedDict((token, 0) for token in lexicon)"
      ],
      "execution_count": 15,
      "outputs": []
    },
    {
      "cell_type": "code",
      "metadata": {
        "id": "KsT1JydREBM8",
        "outputId": "d791ebd9-245e-49fd-fdf2-ecc8ba5cac04",
        "colab": {
          "base_uri": "https://localhost:8080/"
        }
      },
      "source": [
        "zero_vector"
      ],
      "execution_count": 16,
      "outputs": [
        {
          "output_type": "execute_result",
          "data": {
            "text/plain": [
              "OrderedDict()"
            ]
          },
          "metadata": {
            "tags": []
          },
          "execution_count": 16
        }
      ]
    },
    {
      "cell_type": "code",
      "metadata": {
        "id": "9APeQmoZEC8d"
      },
      "source": [
        "import copy"
      ],
      "execution_count": 17,
      "outputs": []
    },
    {
      "cell_type": "code",
      "metadata": {
        "id": "4KToGeE5Efx8"
      },
      "source": [
        "doc_vectors = []"
      ],
      "execution_count": 18,
      "outputs": []
    },
    {
      "cell_type": "code",
      "metadata": {
        "id": "p2LukrDFEkns",
        "outputId": "40b68904-b043-47c7-c5e8-e864e92e6264",
        "colab": {
          "base_uri": "https://localhost:8080/",
          "height": 231
        }
      },
      "source": [
        "for doc in docs:\n",
        "  vec = copy.copy(zero_vector)\n",
        "  tokens = tokenizer.tokenize(doc.lower())\n",
        "  token_counts = Counter(tokens)\n",
        "  for key, value in token_counts.items():\n",
        "    vec[key] = value / len(lexicon)\n",
        "  doc_vectors.append(vec)"
      ],
      "execution_count": 19,
      "outputs": [
        {
          "output_type": "error",
          "ename": "NameError",
          "evalue": "ignored",
          "traceback": [
            "\u001b[0;31m---------------------------------------------------------------------------\u001b[0m",
            "\u001b[0;31mNameError\u001b[0m                                 Traceback (most recent call last)",
            "\u001b[0;32m<ipython-input-19-0f87016f8445>\u001b[0m in \u001b[0;36m<module>\u001b[0;34m()\u001b[0m\n\u001b[0;32m----> 1\u001b[0;31m \u001b[0;32mfor\u001b[0m \u001b[0mdoc\u001b[0m \u001b[0;32min\u001b[0m \u001b[0mdocs\u001b[0m\u001b[0;34m:\u001b[0m\u001b[0;34m\u001b[0m\u001b[0;34m\u001b[0m\u001b[0m\n\u001b[0m\u001b[1;32m      2\u001b[0m   \u001b[0mvec\u001b[0m \u001b[0;34m=\u001b[0m \u001b[0mcopy\u001b[0m\u001b[0;34m.\u001b[0m\u001b[0mcopy\u001b[0m\u001b[0;34m(\u001b[0m\u001b[0mzero_vector\u001b[0m\u001b[0;34m)\u001b[0m\u001b[0;34m\u001b[0m\u001b[0;34m\u001b[0m\u001b[0m\n\u001b[1;32m      3\u001b[0m   \u001b[0mtokens\u001b[0m \u001b[0;34m=\u001b[0m \u001b[0mtokenizer\u001b[0m\u001b[0;34m.\u001b[0m\u001b[0mtokenize\u001b[0m\u001b[0;34m(\u001b[0m\u001b[0mdoc\u001b[0m\u001b[0;34m.\u001b[0m\u001b[0mlower\u001b[0m\u001b[0;34m(\u001b[0m\u001b[0;34m)\u001b[0m\u001b[0;34m)\u001b[0m\u001b[0;34m\u001b[0m\u001b[0;34m\u001b[0m\u001b[0m\n\u001b[1;32m      4\u001b[0m   \u001b[0mtoken_counts\u001b[0m \u001b[0;34m=\u001b[0m \u001b[0mCounter\u001b[0m\u001b[0;34m(\u001b[0m\u001b[0mtokens\u001b[0m\u001b[0;34m)\u001b[0m\u001b[0;34m\u001b[0m\u001b[0;34m\u001b[0m\u001b[0m\n\u001b[1;32m      5\u001b[0m   \u001b[0;32mfor\u001b[0m \u001b[0mkey\u001b[0m\u001b[0;34m,\u001b[0m \u001b[0mvalue\u001b[0m \u001b[0;32min\u001b[0m \u001b[0mtoken_counts\u001b[0m\u001b[0;34m.\u001b[0m\u001b[0mitems\u001b[0m\u001b[0;34m(\u001b[0m\u001b[0;34m)\u001b[0m\u001b[0;34m:\u001b[0m\u001b[0;34m\u001b[0m\u001b[0;34m\u001b[0m\u001b[0m\n",
            "\u001b[0;31mNameError\u001b[0m: name 'docs' is not defined"
          ]
        }
      ]
    },
    {
      "cell_type": "code",
      "metadata": {
        "id": "1sVMHc1EFDV7",
        "outputId": "705941c7-b23c-47ce-d7d0-5e1c25aa9945",
        "colab": {
          "base_uri": "https://localhost:8080/"
        }
      },
      "source": [
        "doc_vectors"
      ],
      "execution_count": 20,
      "outputs": [
        {
          "output_type": "execute_result",
          "data": {
            "text/plain": [
              "[]"
            ]
          },
          "metadata": {
            "tags": []
          },
          "execution_count": 20
        }
      ]
    },
    {
      "cell_type": "code",
      "metadata": {
        "id": "H3QWZRMkGC3a",
        "outputId": "54f9d31b-d422-4fcd-981b-996c80e38d0d",
        "colab": {
          "base_uri": "https://localhost:8080/"
        }
      },
      "source": [
        "!pip install nlpia"
      ],
      "execution_count": 21,
      "outputs": [
        {
          "output_type": "stream",
          "text": [
            "Collecting nlpia\n",
            "\u001b[?25l  Downloading https://files.pythonhosted.org/packages/89/f6/ab35e962dd0b19f1008e88e788b202d45a90d9cd70b9bbf0ac26489ee260/nlpia-0.5.2-py2.py3-none-any.whl (32.0MB)\n",
            "\u001b[K     |████████████████████████████████| 32.0MB 157kB/s \n",
            "\u001b[?25hRequirement already satisfied: plotly in /usr/local/lib/python3.6/dist-packages (from nlpia) (4.4.1)\n",
            "Requirement already satisfied: pandas-datareader in /usr/local/lib/python3.6/dist-packages (from nlpia) (0.9.0)\n",
            "Requirement already satisfied: tensorflow in /usr/local/lib/python3.6/dist-packages (from nlpia) (2.3.0)\n",
            "Requirement already satisfied: regex in /usr/local/lib/python3.6/dist-packages (from nlpia) (2019.12.20)\n",
            "Collecting python-Levenshtein\n",
            "\u001b[?25l  Downloading https://files.pythonhosted.org/packages/42/a9/d1785c85ebf9b7dfacd08938dd028209c34a0ea3b1bcdb895208bd40a67d/python-Levenshtein-0.12.0.tar.gz (48kB)\n",
            "\u001b[K     |████████████████████████████████| 51kB 6.6MB/s \n",
            "\u001b[?25hRequirement already satisfied: future in /usr/local/lib/python3.6/dist-packages (from nlpia) (0.16.0)\n",
            "Requirement already satisfied: tqdm in /usr/local/lib/python3.6/dist-packages (from nlpia) (4.41.1)\n",
            "Requirement already satisfied: seaborn in /usr/local/lib/python3.6/dist-packages (from nlpia) (0.11.0)\n",
            "Requirement already satisfied: matplotlib in /usr/local/lib/python3.6/dist-packages (from nlpia) (3.2.2)\n",
            "Requirement already satisfied: html5lib in /usr/local/lib/python3.6/dist-packages (from nlpia) (1.0.1)\n",
            "Requirement already satisfied: pandas in /usr/local/lib/python3.6/dist-packages (from nlpia) (1.1.4)\n",
            "Collecting pugnlp\n",
            "\u001b[?25l  Downloading https://files.pythonhosted.org/packages/f7/20/a9f0b1f45c074c63da716fc1b301916cc3b64c11d5cbf7cb305eafaf158a/pugnlp-0.2.6-py2.py3-none-any.whl (706kB)\n",
            "\u001b[K     |████████████████████████████████| 716kB 45.2MB/s \n",
            "\u001b[?25hRequirement already satisfied: scikit-learn in /usr/local/lib/python3.6/dist-packages (from nlpia) (0.22.2.post1)\n",
            "Requirement already satisfied: gensim in /usr/local/lib/python3.6/dist-packages (from nlpia) (3.6.0)\n",
            "Requirement already satisfied: spacy in /usr/local/lib/python3.6/dist-packages (from nlpia) (2.2.4)\n",
            "Collecting html2text\n",
            "  Downloading https://files.pythonhosted.org/packages/ae/88/14655f727f66b3e3199f4467bafcc88283e6c31b562686bf606264e09181/html2text-2020.1.16-py3-none-any.whl\n",
            "Requirement already satisfied: h5py in /usr/local/lib/python3.6/dist-packages (from nlpia) (2.10.0)\n",
            "Requirement already satisfied: keras in /usr/local/lib/python3.6/dist-packages (from nlpia) (2.4.3)\n",
            "Requirement already satisfied: jupyter in /usr/local/lib/python3.6/dist-packages (from nlpia) (1.0.0)\n",
            "Requirement already satisfied: lxml in /usr/local/lib/python3.6/dist-packages (from nlpia) (4.2.6)\n",
            "Requirement already satisfied: nltk in /usr/local/lib/python3.6/dist-packages (from nlpia) (3.2.5)\n",
            "Collecting pypandoc\n",
            "  Downloading https://files.pythonhosted.org/packages/d6/b7/5050dc1769c8a93d3ec7c4bd55be161991c94b8b235f88bf7c764449e708/pypandoc-1.5.tar.gz\n",
            "Requirement already satisfied: six in /usr/local/lib/python3.6/dist-packages (from plotly->nlpia) (1.15.0)\n",
            "Requirement already satisfied: retrying>=1.3.3 in /usr/local/lib/python3.6/dist-packages (from plotly->nlpia) (1.3.3)\n",
            "Requirement already satisfied: requests>=2.19.0 in /usr/local/lib/python3.6/dist-packages (from pandas-datareader->nlpia) (2.23.0)\n",
            "Requirement already satisfied: opt-einsum>=2.3.2 in /usr/local/lib/python3.6/dist-packages (from tensorflow->nlpia) (3.3.0)\n",
            "Requirement already satisfied: absl-py>=0.7.0 in /usr/local/lib/python3.6/dist-packages (from tensorflow->nlpia) (0.10.0)\n",
            "Requirement already satisfied: wrapt>=1.11.1 in /usr/local/lib/python3.6/dist-packages (from tensorflow->nlpia) (1.12.1)\n",
            "Requirement already satisfied: tensorflow-estimator<2.4.0,>=2.3.0 in /usr/local/lib/python3.6/dist-packages (from tensorflow->nlpia) (2.3.0)\n",
            "Requirement already satisfied: gast==0.3.3 in /usr/local/lib/python3.6/dist-packages (from tensorflow->nlpia) (0.3.3)\n",
            "Requirement already satisfied: wheel>=0.26 in /usr/local/lib/python3.6/dist-packages (from tensorflow->nlpia) (0.35.1)\n",
            "Requirement already satisfied: keras-preprocessing<1.2,>=1.1.1 in /usr/local/lib/python3.6/dist-packages (from tensorflow->nlpia) (1.1.2)\n",
            "Requirement already satisfied: termcolor>=1.1.0 in /usr/local/lib/python3.6/dist-packages (from tensorflow->nlpia) (1.1.0)\n",
            "Requirement already satisfied: google-pasta>=0.1.8 in /usr/local/lib/python3.6/dist-packages (from tensorflow->nlpia) (0.2.0)\n",
            "Requirement already satisfied: astunparse==1.6.3 in /usr/local/lib/python3.6/dist-packages (from tensorflow->nlpia) (1.6.3)\n",
            "Requirement already satisfied: protobuf>=3.9.2 in /usr/local/lib/python3.6/dist-packages (from tensorflow->nlpia) (3.12.4)\n",
            "Requirement already satisfied: numpy<1.19.0,>=1.16.0 in /usr/local/lib/python3.6/dist-packages (from tensorflow->nlpia) (1.18.5)\n",
            "Requirement already satisfied: grpcio>=1.8.6 in /usr/local/lib/python3.6/dist-packages (from tensorflow->nlpia) (1.33.2)\n",
            "Requirement already satisfied: scipy==1.4.1 in /usr/local/lib/python3.6/dist-packages (from tensorflow->nlpia) (1.4.1)\n",
            "Requirement already satisfied: tensorboard<3,>=2.3.0 in /usr/local/lib/python3.6/dist-packages (from tensorflow->nlpia) (2.3.0)\n",
            "Requirement already satisfied: setuptools in /usr/local/lib/python3.6/dist-packages (from python-Levenshtein->nlpia) (50.3.2)\n",
            "Requirement already satisfied: kiwisolver>=1.0.1 in /usr/local/lib/python3.6/dist-packages (from matplotlib->nlpia) (1.3.1)\n",
            "Requirement already satisfied: python-dateutil>=2.1 in /usr/local/lib/python3.6/dist-packages (from matplotlib->nlpia) (2.8.1)\n",
            "Requirement already satisfied: cycler>=0.10 in /usr/local/lib/python3.6/dist-packages (from matplotlib->nlpia) (0.10.0)\n",
            "Requirement already satisfied: pyparsing!=2.0.4,!=2.1.2,!=2.1.6,>=2.0.1 in /usr/local/lib/python3.6/dist-packages (from matplotlib->nlpia) (2.4.7)\n",
            "Requirement already satisfied: webencodings in /usr/local/lib/python3.6/dist-packages (from html5lib->nlpia) (0.5.1)\n",
            "Requirement already satisfied: pytz>=2017.2 in /usr/local/lib/python3.6/dist-packages (from pandas->nlpia) (2018.9)\n",
            "Requirement already satisfied: pip in /usr/local/lib/python3.6/dist-packages (from pugnlp->nlpia) (19.3.1)\n",
            "Requirement already satisfied: python-slugify in /usr/local/lib/python3.6/dist-packages (from pugnlp->nlpia) (4.0.1)\n",
            "Collecting fuzzywuzzy\n",
            "  Downloading https://files.pythonhosted.org/packages/43/ff/74f23998ad2f93b945c0309f825be92e04e0348e062026998b5eefef4c33/fuzzywuzzy-0.18.0-py2.py3-none-any.whl\n",
            "Requirement already satisfied: coverage in /usr/local/lib/python3.6/dist-packages (from pugnlp->nlpia) (3.7.1)\n",
            "Requirement already satisfied: joblib>=0.11 in /usr/local/lib/python3.6/dist-packages (from scikit-learn->nlpia) (0.17.0)\n",
            "Requirement already satisfied: smart-open>=1.2.1 in /usr/local/lib/python3.6/dist-packages (from gensim->nlpia) (3.0.0)\n",
            "Requirement already satisfied: wasabi<1.1.0,>=0.4.0 in /usr/local/lib/python3.6/dist-packages (from spacy->nlpia) (0.8.0)\n",
            "Requirement already satisfied: plac<1.2.0,>=0.9.6 in /usr/local/lib/python3.6/dist-packages (from spacy->nlpia) (1.1.3)\n",
            "Requirement already satisfied: murmurhash<1.1.0,>=0.28.0 in /usr/local/lib/python3.6/dist-packages (from spacy->nlpia) (1.0.3)\n",
            "Requirement already satisfied: blis<0.5.0,>=0.4.0 in /usr/local/lib/python3.6/dist-packages (from spacy->nlpia) (0.4.1)\n",
            "Requirement already satisfied: thinc==7.4.0 in /usr/local/lib/python3.6/dist-packages (from spacy->nlpia) (7.4.0)\n",
            "Requirement already satisfied: srsly<1.1.0,>=1.0.2 in /usr/local/lib/python3.6/dist-packages (from spacy->nlpia) (1.0.2)\n",
            "Requirement already satisfied: cymem<2.1.0,>=2.0.2 in /usr/local/lib/python3.6/dist-packages (from spacy->nlpia) (2.0.4)\n",
            "Requirement already satisfied: catalogue<1.1.0,>=0.0.7 in /usr/local/lib/python3.6/dist-packages (from spacy->nlpia) (1.0.0)\n",
            "Requirement already satisfied: preshed<3.1.0,>=3.0.2 in /usr/local/lib/python3.6/dist-packages (from spacy->nlpia) (3.0.2)\n",
            "Requirement already satisfied: pyyaml in /usr/local/lib/python3.6/dist-packages (from keras->nlpia) (3.13)\n",
            "Requirement already satisfied: ipykernel in /usr/local/lib/python3.6/dist-packages (from jupyter->nlpia) (4.10.1)\n",
            "Requirement already satisfied: notebook in /usr/local/lib/python3.6/dist-packages (from jupyter->nlpia) (5.3.1)\n",
            "Requirement already satisfied: jupyter-console in /usr/local/lib/python3.6/dist-packages (from jupyter->nlpia) (5.2.0)\n",
            "Requirement already satisfied: qtconsole in /usr/local/lib/python3.6/dist-packages (from jupyter->nlpia) (4.7.7)\n",
            "Requirement already satisfied: nbconvert in /usr/local/lib/python3.6/dist-packages (from jupyter->nlpia) (5.6.1)\n",
            "Requirement already satisfied: ipywidgets in /usr/local/lib/python3.6/dist-packages (from jupyter->nlpia) (7.5.1)\n",
            "Requirement already satisfied: urllib3!=1.25.0,!=1.25.1,<1.26,>=1.21.1 in /usr/local/lib/python3.6/dist-packages (from requests>=2.19.0->pandas-datareader->nlpia) (1.24.3)\n",
            "Requirement already satisfied: idna<3,>=2.5 in /usr/local/lib/python3.6/dist-packages (from requests>=2.19.0->pandas-datareader->nlpia) (2.10)\n",
            "Requirement already satisfied: certifi>=2017.4.17 in /usr/local/lib/python3.6/dist-packages (from requests>=2.19.0->pandas-datareader->nlpia) (2020.6.20)\n",
            "Requirement already satisfied: chardet<4,>=3.0.2 in /usr/local/lib/python3.6/dist-packages (from requests>=2.19.0->pandas-datareader->nlpia) (3.0.4)\n",
            "Requirement already satisfied: markdown>=2.6.8 in /usr/local/lib/python3.6/dist-packages (from tensorboard<3,>=2.3.0->tensorflow->nlpia) (3.3.3)\n",
            "Requirement already satisfied: tensorboard-plugin-wit>=1.6.0 in /usr/local/lib/python3.6/dist-packages (from tensorboard<3,>=2.3.0->tensorflow->nlpia) (1.7.0)\n",
            "Requirement already satisfied: werkzeug>=0.11.15 in /usr/local/lib/python3.6/dist-packages (from tensorboard<3,>=2.3.0->tensorflow->nlpia) (1.0.1)\n",
            "Requirement already satisfied: google-auth<2,>=1.6.3 in /usr/local/lib/python3.6/dist-packages (from tensorboard<3,>=2.3.0->tensorflow->nlpia) (1.17.2)\n",
            "Requirement already satisfied: google-auth-oauthlib<0.5,>=0.4.1 in /usr/local/lib/python3.6/dist-packages (from tensorboard<3,>=2.3.0->tensorflow->nlpia) (0.4.2)\n",
            "Requirement already satisfied: text-unidecode>=1.3 in /usr/local/lib/python3.6/dist-packages (from python-slugify->pugnlp->nlpia) (1.3)\n",
            "Requirement already satisfied: importlib-metadata>=0.20; python_version < \"3.8\" in /usr/local/lib/python3.6/dist-packages (from catalogue<1.1.0,>=0.0.7->spacy->nlpia) (2.0.0)\n",
            "Requirement already satisfied: tornado>=4.0 in /usr/local/lib/python3.6/dist-packages (from ipykernel->jupyter->nlpia) (5.1.1)\n",
            "Requirement already satisfied: jupyter-client in /usr/local/lib/python3.6/dist-packages (from ipykernel->jupyter->nlpia) (5.3.5)\n",
            "Requirement already satisfied: ipython>=4.0.0 in /usr/local/lib/python3.6/dist-packages (from ipykernel->jupyter->nlpia) (5.5.0)\n",
            "Requirement already satisfied: traitlets>=4.1.0 in /usr/local/lib/python3.6/dist-packages (from ipykernel->jupyter->nlpia) (4.3.3)\n",
            "Requirement already satisfied: ipython-genutils in /usr/local/lib/python3.6/dist-packages (from notebook->jupyter->nlpia) (0.2.0)\n",
            "Requirement already satisfied: jinja2 in /usr/local/lib/python3.6/dist-packages (from notebook->jupyter->nlpia) (2.11.2)\n",
            "Requirement already satisfied: terminado>=0.8.1 in /usr/local/lib/python3.6/dist-packages (from notebook->jupyter->nlpia) (0.9.1)\n",
            "Requirement already satisfied: jupyter-core>=4.4.0 in /usr/local/lib/python3.6/dist-packages (from notebook->jupyter->nlpia) (4.6.3)\n",
            "Requirement already satisfied: Send2Trash in /usr/local/lib/python3.6/dist-packages (from notebook->jupyter->nlpia) (1.5.0)\n",
            "Requirement already satisfied: nbformat in /usr/local/lib/python3.6/dist-packages (from notebook->jupyter->nlpia) (5.0.8)\n",
            "Requirement already satisfied: prompt-toolkit<2.0.0,>=1.0.0 in /usr/local/lib/python3.6/dist-packages (from jupyter-console->jupyter->nlpia) (1.0.18)\n",
            "Requirement already satisfied: pygments in /usr/local/lib/python3.6/dist-packages (from jupyter-console->jupyter->nlpia) (2.6.1)\n",
            "Requirement already satisfied: qtpy in /usr/local/lib/python3.6/dist-packages (from qtconsole->jupyter->nlpia) (1.9.0)\n",
            "Requirement already satisfied: pyzmq>=17.1 in /usr/local/lib/python3.6/dist-packages (from qtconsole->jupyter->nlpia) (19.0.2)\n",
            "Requirement already satisfied: entrypoints>=0.2.2 in /usr/local/lib/python3.6/dist-packages (from nbconvert->jupyter->nlpia) (0.3)\n",
            "Requirement already satisfied: mistune<2,>=0.8.1 in /usr/local/lib/python3.6/dist-packages (from nbconvert->jupyter->nlpia) (0.8.4)\n",
            "Requirement already satisfied: defusedxml in /usr/local/lib/python3.6/dist-packages (from nbconvert->jupyter->nlpia) (0.6.0)\n",
            "Requirement already satisfied: bleach in /usr/local/lib/python3.6/dist-packages (from nbconvert->jupyter->nlpia) (3.2.1)\n",
            "Requirement already satisfied: pandocfilters>=1.4.1 in /usr/local/lib/python3.6/dist-packages (from nbconvert->jupyter->nlpia) (1.4.3)\n",
            "Requirement already satisfied: testpath in /usr/local/lib/python3.6/dist-packages (from nbconvert->jupyter->nlpia) (0.4.4)\n",
            "Requirement already satisfied: widgetsnbextension~=3.5.0 in /usr/local/lib/python3.6/dist-packages (from ipywidgets->jupyter->nlpia) (3.5.1)\n",
            "Requirement already satisfied: cachetools<5.0,>=2.0.0 in /usr/local/lib/python3.6/dist-packages (from google-auth<2,>=1.6.3->tensorboard<3,>=2.3.0->tensorflow->nlpia) (4.1.1)\n",
            "Requirement already satisfied: pyasn1-modules>=0.2.1 in /usr/local/lib/python3.6/dist-packages (from google-auth<2,>=1.6.3->tensorboard<3,>=2.3.0->tensorflow->nlpia) (0.2.8)\n",
            "Requirement already satisfied: rsa<5,>=3.1.4; python_version >= \"3\" in /usr/local/lib/python3.6/dist-packages (from google-auth<2,>=1.6.3->tensorboard<3,>=2.3.0->tensorflow->nlpia) (4.6)\n",
            "Requirement already satisfied: requests-oauthlib>=0.7.0 in /usr/local/lib/python3.6/dist-packages (from google-auth-oauthlib<0.5,>=0.4.1->tensorboard<3,>=2.3.0->tensorflow->nlpia) (1.3.0)\n",
            "Requirement already satisfied: zipp>=0.5 in /usr/local/lib/python3.6/dist-packages (from importlib-metadata>=0.20; python_version < \"3.8\"->catalogue<1.1.0,>=0.0.7->spacy->nlpia) (3.4.0)\n",
            "Requirement already satisfied: pickleshare in /usr/local/lib/python3.6/dist-packages (from ipython>=4.0.0->ipykernel->jupyter->nlpia) (0.7.5)\n",
            "Requirement already satisfied: pexpect; sys_platform != \"win32\" in /usr/local/lib/python3.6/dist-packages (from ipython>=4.0.0->ipykernel->jupyter->nlpia) (4.8.0)\n",
            "Requirement already satisfied: simplegeneric>0.8 in /usr/local/lib/python3.6/dist-packages (from ipython>=4.0.0->ipykernel->jupyter->nlpia) (0.8.1)\n",
            "Requirement already satisfied: decorator in /usr/local/lib/python3.6/dist-packages (from ipython>=4.0.0->ipykernel->jupyter->nlpia) (4.4.2)\n",
            "Requirement already satisfied: MarkupSafe>=0.23 in /usr/local/lib/python3.6/dist-packages (from jinja2->notebook->jupyter->nlpia) (1.1.1)\n",
            "Requirement already satisfied: ptyprocess; os_name != \"nt\" in /usr/local/lib/python3.6/dist-packages (from terminado>=0.8.1->notebook->jupyter->nlpia) (0.6.0)\n",
            "Requirement already satisfied: jsonschema!=2.5.0,>=2.4 in /usr/local/lib/python3.6/dist-packages (from nbformat->notebook->jupyter->nlpia) (2.6.0)\n",
            "Requirement already satisfied: wcwidth in /usr/local/lib/python3.6/dist-packages (from prompt-toolkit<2.0.0,>=1.0.0->jupyter-console->jupyter->nlpia) (0.2.5)\n",
            "Requirement already satisfied: packaging in /usr/local/lib/python3.6/dist-packages (from bleach->nbconvert->jupyter->nlpia) (20.4)\n",
            "Requirement already satisfied: pyasn1<0.5.0,>=0.4.6 in /usr/local/lib/python3.6/dist-packages (from pyasn1-modules>=0.2.1->google-auth<2,>=1.6.3->tensorboard<3,>=2.3.0->tensorflow->nlpia) (0.4.8)\n",
            "Requirement already satisfied: oauthlib>=3.0.0 in /usr/local/lib/python3.6/dist-packages (from requests-oauthlib>=0.7.0->google-auth-oauthlib<0.5,>=0.4.1->tensorboard<3,>=2.3.0->tensorflow->nlpia) (3.1.0)\n",
            "Building wheels for collected packages: python-Levenshtein, pypandoc\n",
            "  Building wheel for python-Levenshtein (setup.py) ... \u001b[?25l\u001b[?25hdone\n",
            "  Created wheel for python-Levenshtein: filename=python_Levenshtein-0.12.0-cp36-cp36m-linux_x86_64.whl size=144806 sha256=612fe3cce164c4f445008973a64eea3f07b219c873e82b422f5f2e6e81c92fd2\n",
            "  Stored in directory: /root/.cache/pip/wheels/de/c2/93/660fd5f7559049268ad2dc6d81c4e39e9e36518766eaf7e342\n",
            "  Building wheel for pypandoc (setup.py) ... \u001b[?25l\u001b[?25hdone\n",
            "  Created wheel for pypandoc: filename=pypandoc-1.5-cp36-none-any.whl size=17038 sha256=a763c8f19bdb570dec5eabd156eddf843d7dd1f32af4d2021be8cc0ecbd0fe02\n",
            "  Stored in directory: /root/.cache/pip/wheels/bb/7d/d6/2f9af55e800d37e42e546106bcbd36a86e24e725e303d17e04\n",
            "Successfully built python-Levenshtein pypandoc\n",
            "Installing collected packages: python-Levenshtein, fuzzywuzzy, pypandoc, pugnlp, html2text, nlpia\n",
            "Successfully installed fuzzywuzzy-0.18.0 html2text-2020.1.16 nlpia-0.5.2 pugnlp-0.2.6 pypandoc-1.5 python-Levenshtein-0.12.0\n"
          ],
          "name": "stdout"
        }
      ]
    },
    {
      "cell_type": "code",
      "metadata": {
        "id": "-FcII3lmsiPz"
      },
      "source": [
        "import nltk"
      ],
      "execution_count": 22,
      "outputs": []
    },
    {
      "cell_type": "code",
      "metadata": {
        "id": "bpP-h3wtssv8",
        "outputId": "72254821-2017-4541-95dc-b1a2c3b33988",
        "colab": {
          "base_uri": "https://localhost:8080/"
        }
      },
      "source": [
        "nltk.download('brown')"
      ],
      "execution_count": 23,
      "outputs": [
        {
          "output_type": "stream",
          "text": [
            "[nltk_data] Downloading package brown to /root/nltk_data...\n",
            "[nltk_data]   Unzipping corpora/brown.zip.\n"
          ],
          "name": "stdout"
        },
        {
          "output_type": "execute_result",
          "data": {
            "text/plain": [
              "True"
            ]
          },
          "metadata": {
            "tags": []
          },
          "execution_count": 23
        }
      ]
    },
    {
      "cell_type": "code",
      "metadata": {
        "id": "NnGoMDiwsxH8"
      },
      "source": [
        "from nltk.corpus import brown"
      ],
      "execution_count": null,
      "outputs": []
    },
    {
      "cell_type": "code",
      "metadata": {
        "id": "A8-8HifHs4tL",
        "outputId": "b98a56ea-043e-49f1-f8a1-19d3834a0a2b",
        "colab": {
          "base_uri": "https://localhost:8080/"
        }
      },
      "source": [
        "brown.words()[:10]"
      ],
      "execution_count": null,
      "outputs": [
        {
          "output_type": "execute_result",
          "data": {
            "text/plain": [
              "['The',\n",
              " 'Fulton',\n",
              " 'County',\n",
              " 'Grand',\n",
              " 'Jury',\n",
              " 'said',\n",
              " 'Friday',\n",
              " 'an',\n",
              " 'investigation',\n",
              " 'of']"
            ]
          },
          "metadata": {
            "tags": []
          },
          "execution_count": 5
        }
      ]
    },
    {
      "cell_type": "code",
      "metadata": {
        "id": "e9P7yQKBtVS7",
        "outputId": "a49dd562-164a-4815-98d6-9a02dd893639",
        "colab": {
          "base_uri": "https://localhost:8080/"
        }
      },
      "source": [
        "brown.tagged_words()[:5]"
      ],
      "execution_count": null,
      "outputs": [
        {
          "output_type": "execute_result",
          "data": {
            "text/plain": [
              "[('The', 'AT'),\n",
              " ('Fulton', 'NP-TL'),\n",
              " ('County', 'NN-TL'),\n",
              " ('Grand', 'JJ-TL'),\n",
              " ('Jury', 'NN-TL')]"
            ]
          },
          "metadata": {
            "tags": []
          },
          "execution_count": 6
        }
      ]
    },
    {
      "cell_type": "code",
      "metadata": {
        "id": "qQ6EkykUtfrL"
      },
      "source": [
        "from collections import Counter"
      ],
      "execution_count": null,
      "outputs": []
    },
    {
      "cell_type": "code",
      "metadata": {
        "id": "pThIC7-xt3Sq"
      },
      "source": [
        "puncs = set((',', '.', '--', '-', '!', '?', ':', ';', '``', \"''\", '(', ')', '[', ']'))"
      ],
      "execution_count": null,
      "outputs": []
    },
    {
      "cell_type": "code",
      "metadata": {
        "id": "1rj-0XnTur0Z",
        "outputId": "7d4fc6d8-10c0-4648-f740-09469005d591",
        "colab": {
          "base_uri": "https://localhost:8080/"
        }
      },
      "source": [
        "puncs"
      ],
      "execution_count": null,
      "outputs": [
        {
          "output_type": "execute_result",
          "data": {
            "text/plain": [
              "{'!', \"''\", '(', ')', ',', '-', '--', '.', ':', ';', '?', '[', ']', '``'}"
            ]
          },
          "metadata": {
            "tags": []
          },
          "execution_count": 65
        }
      ]
    },
    {
      "cell_type": "code",
      "metadata": {
        "id": "D7r10CxTusl6"
      },
      "source": [
        "word_generator = (x.lower() for x in brown.words() if x not in puncs and '_' not in x and ' ' not in x)"
      ],
      "execution_count": null,
      "outputs": []
    },
    {
      "cell_type": "code",
      "metadata": {
        "id": "navLXUlkw4UJ",
        "outputId": "6ce3ddba-819c-473f-9264-6118d5b06b7a",
        "colab": {
          "base_uri": "https://localhost:8080/"
        }
      },
      "source": [
        "word_generator"
      ],
      "execution_count": null,
      "outputs": [
        {
          "output_type": "execute_result",
          "data": {
            "text/plain": [
              "<generator object <genexpr> at 0x7f9f637af3b8>"
            ]
          },
          "metadata": {
            "tags": []
          },
          "execution_count": 67
        }
      ]
    },
    {
      "cell_type": "code",
      "metadata": {
        "id": "oaxnpXo02EqU"
      },
      "source": [
        "token_counts = Counter(word_generator)"
      ],
      "execution_count": null,
      "outputs": []
    },
    {
      "cell_type": "code",
      "metadata": {
        "id": "KVrfJMq52EyU",
        "outputId": "15f7fccc-454d-4e83-d9c4-94cc96a2ed98",
        "colab": {
          "base_uri": "https://localhost:8080/"
        }
      },
      "source": [
        "token_counts.most_common(20)"
      ],
      "execution_count": null,
      "outputs": [
        {
          "output_type": "execute_result",
          "data": {
            "text/plain": [
              "[('the', 69971),\n",
              " ('of', 36412),\n",
              " ('and', 28853),\n",
              " ('to', 26158),\n",
              " ('a', 23195),\n",
              " ('in', 21337),\n",
              " ('that', 10594),\n",
              " ('is', 10109),\n",
              " ('was', 9815),\n",
              " ('he', 9548),\n",
              " ('for', 9489),\n",
              " ('it', 8760),\n",
              " ('with', 7289),\n",
              " ('as', 7253),\n",
              " ('his', 6996),\n",
              " ('on', 6741),\n",
              " ('be', 6377),\n",
              " ('at', 5372),\n",
              " ('by', 5306),\n",
              " ('i', 5164)]"
            ]
          },
          "metadata": {
            "tags": []
          },
          "execution_count": 69
        }
      ]
    },
    {
      "cell_type": "code",
      "metadata": {
        "id": "BM65mMyJ22WZ"
      },
      "source": [
        "import math"
      ],
      "execution_count": null,
      "outputs": []
    },
    {
      "cell_type": "code",
      "metadata": {
        "id": "j5uswCvZ2Yp5",
        "outputId": "e2b3eaf4-b95d-468d-e76e-27d4656d789a",
        "colab": {
          "base_uri": "https://localhost:8080/"
        }
      },
      "source": [
        "69971 * .50"
      ],
      "execution_count": null,
      "outputs": [
        {
          "output_type": "execute_result",
          "data": {
            "text/plain": [
              "34985.5"
            ]
          },
          "metadata": {
            "tags": []
          },
          "execution_count": 80
        }
      ]
    },
    {
      "cell_type": "code",
      "metadata": {
        "id": "7RzVqy2OyPoc"
      },
      "source": [
        "import pandas as pd"
      ],
      "execution_count": null,
      "outputs": []
    },
    {
      "cell_type": "code",
      "metadata": {
        "id": "3n9uDGZ_3yc2"
      },
      "source": [
        "puncs = set((',', '.', '--', '-', '!', '?', ':', ';', '``', \"''\", '(', ')', '[', ']'))"
      ],
      "execution_count": null,
      "outputs": []
    },
    {
      "cell_type": "code",
      "metadata": {
        "id": "_VTw2M783ylp"
      },
      "source": [
        "word_generator = (x.lower() for x in brown.words() if x not in puncs and '_' not in x and ' ' not in x)"
      ],
      "execution_count": null,
      "outputs": []
    },
    {
      "cell_type": "code",
      "metadata": {
        "id": "3AU7tPNu29A0"
      },
      "source": [
        ""
      ],
      "execution_count": null,
      "outputs": []
    },
    {
      "cell_type": "code",
      "metadata": {
        "id": "Tc-8nTHQw-Vk"
      },
      "source": [
        "tokens_counts = pd.DataFrame(((w, c) for (w, c) in Counter(word_generator).items()if c > 10), columns=['Token', 'Token Count'])"
      ],
      "execution_count": null,
      "outputs": []
    },
    {
      "cell_type": "code",
      "metadata": {
        "id": "a8dt_915xE4U",
        "outputId": "eda6a304-6b9f-409d-8a9f-183fb1ca3f2a",
        "colab": {
          "base_uri": "https://localhost:8080/",
          "height": 204
        }
      },
      "source": [
        "tokens_counts.head()"
      ],
      "execution_count": null,
      "outputs": [
        {
          "output_type": "execute_result",
          "data": {
            "text/html": [
              "<div>\n",
              "<style scoped>\n",
              "    .dataframe tbody tr th:only-of-type {\n",
              "        vertical-align: middle;\n",
              "    }\n",
              "\n",
              "    .dataframe tbody tr th {\n",
              "        vertical-align: top;\n",
              "    }\n",
              "\n",
              "    .dataframe thead th {\n",
              "        text-align: right;\n",
              "    }\n",
              "</style>\n",
              "<table border=\"1\" class=\"dataframe\">\n",
              "  <thead>\n",
              "    <tr style=\"text-align: right;\">\n",
              "      <th></th>\n",
              "      <th>Token</th>\n",
              "      <th>Token Count</th>\n",
              "    </tr>\n",
              "  </thead>\n",
              "  <tbody>\n",
              "    <tr>\n",
              "      <th>0</th>\n",
              "      <td>the</td>\n",
              "      <td>69971</td>\n",
              "    </tr>\n",
              "    <tr>\n",
              "      <th>1</th>\n",
              "      <td>fulton</td>\n",
              "      <td>17</td>\n",
              "    </tr>\n",
              "    <tr>\n",
              "      <th>2</th>\n",
              "      <td>county</td>\n",
              "      <td>155</td>\n",
              "    </tr>\n",
              "    <tr>\n",
              "      <th>3</th>\n",
              "      <td>grand</td>\n",
              "      <td>48</td>\n",
              "    </tr>\n",
              "    <tr>\n",
              "      <th>4</th>\n",
              "      <td>jury</td>\n",
              "      <td>67</td>\n",
              "    </tr>\n",
              "  </tbody>\n",
              "</table>\n",
              "</div>"
            ],
            "text/plain": [
              "    Token  Token Count\n",
              "0     the        69971\n",
              "1  fulton           17\n",
              "2  county          155\n",
              "3   grand           48\n",
              "4    jury           67"
            ]
          },
          "metadata": {
            "tags": []
          },
          "execution_count": 94
        }
      ]
    },
    {
      "cell_type": "code",
      "metadata": {
        "id": "53zFlqDwxzXy",
        "outputId": "bb3bcdb0-192b-4530-a89a-5c45f46bb899",
        "colab": {
          "base_uri": "https://localhost:8080/",
          "height": 419
        }
      },
      "source": [
        "tokens_counts.sort_values('Token Count', ascending=False)"
      ],
      "execution_count": null,
      "outputs": [
        {
          "output_type": "execute_result",
          "data": {
            "text/html": [
              "<div>\n",
              "<style scoped>\n",
              "    .dataframe tbody tr th:only-of-type {\n",
              "        vertical-align: middle;\n",
              "    }\n",
              "\n",
              "    .dataframe tbody tr th {\n",
              "        vertical-align: top;\n",
              "    }\n",
              "\n",
              "    .dataframe thead th {\n",
              "        text-align: right;\n",
              "    }\n",
              "</style>\n",
              "<table border=\"1\" class=\"dataframe\">\n",
              "  <thead>\n",
              "    <tr style=\"text-align: right;\">\n",
              "      <th></th>\n",
              "      <th>Token</th>\n",
              "      <th>Token Count</th>\n",
              "    </tr>\n",
              "  </thead>\n",
              "  <tbody>\n",
              "    <tr>\n",
              "      <th>0</th>\n",
              "      <td>the</td>\n",
              "      <td>69971</td>\n",
              "    </tr>\n",
              "    <tr>\n",
              "      <th>9</th>\n",
              "      <td>of</td>\n",
              "      <td>36412</td>\n",
              "    </tr>\n",
              "    <tr>\n",
              "      <th>31</th>\n",
              "      <td>and</td>\n",
              "      <td>28853</td>\n",
              "    </tr>\n",
              "    <tr>\n",
              "      <th>45</th>\n",
              "      <td>to</td>\n",
              "      <td>26158</td>\n",
              "    </tr>\n",
              "    <tr>\n",
              "      <th>53</th>\n",
              "      <td>a</td>\n",
              "      <td>23195</td>\n",
              "    </tr>\n",
              "    <tr>\n",
              "      <th>...</th>\n",
              "      <td>...</td>\n",
              "      <td>...</td>\n",
              "    </tr>\n",
              "    <tr>\n",
              "      <th>6570</th>\n",
              "      <td>convincing</td>\n",
              "      <td>11</td>\n",
              "    </tr>\n",
              "    <tr>\n",
              "      <th>4916</th>\n",
              "      <td>violin</td>\n",
              "      <td>11</td>\n",
              "    </tr>\n",
              "    <tr>\n",
              "      <th>5659</th>\n",
              "      <td>quo</td>\n",
              "      <td>11</td>\n",
              "    </tr>\n",
              "    <tr>\n",
              "      <th>7102</th>\n",
              "      <td>cursed</td>\n",
              "      <td>11</td>\n",
              "    </tr>\n",
              "    <tr>\n",
              "      <th>6315</th>\n",
              "      <td>distorted</td>\n",
              "      <td>11</td>\n",
              "    </tr>\n",
              "  </tbody>\n",
              "</table>\n",
              "<p>7925 rows × 2 columns</p>\n",
              "</div>"
            ],
            "text/plain": [
              "           Token  Token Count\n",
              "0            the        69971\n",
              "9             of        36412\n",
              "31           and        28853\n",
              "45            to        26158\n",
              "53             a        23195\n",
              "...          ...          ...\n",
              "6570  convincing           11\n",
              "4916      violin           11\n",
              "5659         quo           11\n",
              "7102      cursed           11\n",
              "6315   distorted           11\n",
              "\n",
              "[7925 rows x 2 columns]"
            ]
          },
          "metadata": {
            "tags": []
          },
          "execution_count": 96
        }
      ]
    },
    {
      "cell_type": "code",
      "metadata": {
        "id": "FdBsBjpVykIB",
        "outputId": "deb013a3-8cae-4a12-f4f4-17999e48974c",
        "colab": {
          "base_uri": "https://localhost:8080/",
          "height": 290
        }
      },
      "source": [
        "tokens_counts[['Token Count']].plot(style='+', logx=True, logy=True)"
      ],
      "execution_count": null,
      "outputs": [
        {
          "output_type": "execute_result",
          "data": {
            "text/plain": [
              "<matplotlib.axes._subplots.AxesSubplot at 0x7f9f44c854a8>"
            ]
          },
          "metadata": {
            "tags": []
          },
          "execution_count": 138
        },
        {
          "output_type": "display_data",
          "data": {
            "image/png": "[encoded data removed]",
            "text/plain": [
              "<Figure size 432x288 with 1 Axes>"
            ]
          },
          "metadata": {
            "tags": [],
            "needs_background": "light"
          }
        }
      ]
    },
    {
      "cell_type": "code",
      "metadata": {
        "id": "zN89U3w-zk8Q",
        "outputId": "a2e93b72-14ac-4b58-c2ac-ffb5fa277bc4",
        "colab": {
          "base_uri": "https://localhost:8080/",
          "height": 282
        }
      },
      "source": [
        "tokens_counts[['Token Count']].plot(style='+')"
      ],
      "execution_count": null,
      "outputs": [
        {
          "output_type": "execute_result",
          "data": {
            "text/plain": [
              "<matplotlib.axes._subplots.AxesSubplot at 0x7f9f607c2358>"
            ]
          },
          "metadata": {
            "tags": []
          },
          "execution_count": 100
        },
        {
          "output_type": "display_data",
          "data": {
            "image/png": "[encoded data removed]",
            "text/plain": [
              "<Figure size 432x288 with 1 Axes>"
            ]
          },
          "metadata": {
            "tags": [],
            "needs_background": "light"
          }
        }
      ]
    },
    {
      "cell_type": "code",
      "metadata": {
        "id": "d-xn9lLZzoxP"
      },
      "source": [
        "from tqdm import tqdm"
      ],
      "execution_count": null,
      "outputs": []
    },
    {
      "cell_type": "code",
      "metadata": {
        "id": "8Y0l8-zc13m8",
        "outputId": "f5506fc0-ba59-44a2-e462-f2244dd6511f",
        "colab": {
          "base_uri": "https://localhost:8080/"
        }
      },
      "source": [
        "taggedparas = tuple(((fid, tuple(brown.tagged_paras(fid))) for fid in tqdm(brown.fileids())))"
      ],
      "execution_count": null,
      "outputs": [
        {
          "output_type": "stream",
          "text": [
            "100%|██████████| 500/500 [00:04<00:00, 112.71it/s]\n"
          ],
          "name": "stderr"
        }
      ]
    },
    {
      "cell_type": "code",
      "metadata": {
        "id": "kdmk6sqV8qHX"
      },
      "source": [
        "flattened = []"
      ],
      "execution_count": null,
      "outputs": []
    },
    {
      "cell_type": "code",
      "metadata": {
        "id": "RNqcF4P3-fOu"
      },
      "source": [
        "for filenum, (fid, doc) in enumerate(taggedparas):\n",
        "  for paranum, para in enumerate(doc):\n",
        "    for sentnum, sent in enumerate(para):\n",
        "      flattened.append((fid, filenum, paranum, sentnum, sent, Counter(list(zip(*sent))[0]), Counter(list(zip(*sent))[1]), Counter(sent)))"
      ],
      "execution_count": null,
      "outputs": []
    },
    {
      "cell_type": "code",
      "metadata": {
        "id": "MkUkOr_V_pUz",
        "outputId": "49d4f2f9-b363-4077-dba5-05e3529667c9",
        "colab": {
          "base_uri": "https://localhost:8080/"
        }
      },
      "source": [
        "flattened[0]"
      ],
      "execution_count": null,
      "outputs": [
        {
          "output_type": "execute_result",
          "data": {
            "text/plain": [
              "('ca01',\n",
              " 0,\n",
              " 0,\n",
              " 0,\n",
              " [('The', 'AT'),\n",
              "  ('Fulton', 'NP-TL'),\n",
              "  ('County', 'NN-TL'),\n",
              "  ('Grand', 'JJ-TL'),\n",
              "  ('Jury', 'NN-TL'),\n",
              "  ('said', 'VBD'),\n",
              "  ('Friday', 'NR'),\n",
              "  ('an', 'AT'),\n",
              "  ('investigation', 'NN'),\n",
              "  ('of', 'IN'),\n",
              "  (\"Atlanta's\", 'NP$'),\n",
              "  ('recent', 'JJ'),\n",
              "  ('primary', 'NN'),\n",
              "  ('election', 'NN'),\n",
              "  ('produced', 'VBD'),\n",
              "  ('``', '``'),\n",
              "  ('no', 'AT'),\n",
              "  ('evidence', 'NN'),\n",
              "  (\"''\", \"''\"),\n",
              "  ('that', 'CS'),\n",
              "  ('any', 'DTI'),\n",
              "  ('irregularities', 'NNS'),\n",
              "  ('took', 'VBD'),\n",
              "  ('place', 'NN'),\n",
              "  ('.', '.')],\n",
              " Counter({\"''\": 1,\n",
              "          '.': 1,\n",
              "          \"Atlanta's\": 1,\n",
              "          'County': 1,\n",
              "          'Friday': 1,\n",
              "          'Fulton': 1,\n",
              "          'Grand': 1,\n",
              "          'Jury': 1,\n",
              "          'The': 1,\n",
              "          '``': 1,\n",
              "          'an': 1,\n",
              "          'any': 1,\n",
              "          'election': 1,\n",
              "          'evidence': 1,\n",
              "          'investigation': 1,\n",
              "          'irregularities': 1,\n",
              "          'no': 1,\n",
              "          'of': 1,\n",
              "          'place': 1,\n",
              "          'primary': 1,\n",
              "          'produced': 1,\n",
              "          'recent': 1,\n",
              "          'said': 1,\n",
              "          'that': 1,\n",
              "          'took': 1}),\n",
              " Counter({\"''\": 1,\n",
              "          '.': 1,\n",
              "          'AT': 3,\n",
              "          'CS': 1,\n",
              "          'DTI': 1,\n",
              "          'IN': 1,\n",
              "          'JJ': 1,\n",
              "          'JJ-TL': 1,\n",
              "          'NN': 5,\n",
              "          'NN-TL': 2,\n",
              "          'NNS': 1,\n",
              "          'NP$': 1,\n",
              "          'NP-TL': 1,\n",
              "          'NR': 1,\n",
              "          'VBD': 3,\n",
              "          '``': 1}),\n",
              " Counter({(\"''\", \"''\"): 1,\n",
              "          ('.', '.'): 1,\n",
              "          (\"Atlanta's\", 'NP$'): 1,\n",
              "          ('County', 'NN-TL'): 1,\n",
              "          ('Friday', 'NR'): 1,\n",
              "          ('Fulton', 'NP-TL'): 1,\n",
              "          ('Grand', 'JJ-TL'): 1,\n",
              "          ('Jury', 'NN-TL'): 1,\n",
              "          ('The', 'AT'): 1,\n",
              "          ('``', '``'): 1,\n",
              "          ('an', 'AT'): 1,\n",
              "          ('any', 'DTI'): 1,\n",
              "          ('election', 'NN'): 1,\n",
              "          ('evidence', 'NN'): 1,\n",
              "          ('investigation', 'NN'): 1,\n",
              "          ('irregularities', 'NNS'): 1,\n",
              "          ('no', 'AT'): 1,\n",
              "          ('of', 'IN'): 1,\n",
              "          ('place', 'NN'): 1,\n",
              "          ('primary', 'NN'): 1,\n",
              "          ('produced', 'VBD'): 1,\n",
              "          ('recent', 'JJ'): 1,\n",
              "          ('said', 'VBD'): 1,\n",
              "          ('that', 'CS'): 1,\n",
              "          ('took', 'VBD'): 1}))"
            ]
          },
          "metadata": {
            "tags": []
          },
          "execution_count": 108
        }
      ]
    },
    {
      "cell_type": "code",
      "metadata": {
        "id": "nzzlX3DU_0Eo"
      },
      "source": [
        "sentbows = pd.DataFrame(flattened, columns='fileid filenum paranum sentnum tagged_sent bow bag_word_tags bag_tagged_words'.split())"
      ],
      "execution_count": null,
      "outputs": []
    },
    {
      "cell_type": "code",
      "metadata": {
        "id": "-RWOd0siAA8G",
        "outputId": "d3e6affa-7fce-4915-a7fd-56a2109a9333",
        "colab": {
          "base_uri": "https://localhost:8080/",
          "height": 204
        }
      },
      "source": [
        "sentbows.head()"
      ],
      "execution_count": null,
      "outputs": [
        {
          "output_type": "execute_result",
          "data": {
            "text/html": [
              "<div>\n",
              "<style scoped>\n",
              "    .dataframe tbody tr th:only-of-type {\n",
              "        vertical-align: middle;\n",
              "    }\n",
              "\n",
              "    .dataframe tbody tr th {\n",
              "        vertical-align: top;\n",
              "    }\n",
              "\n",
              "    .dataframe thead th {\n",
              "        text-align: right;\n",
              "    }\n",
              "</style>\n",
              "<table border=\"1\" class=\"dataframe\">\n",
              "  <thead>\n",
              "    <tr style=\"text-align: right;\">\n",
              "      <th></th>\n",
              "      <th>fileid</th>\n",
              "      <th>filenum</th>\n",
              "      <th>paranum</th>\n",
              "      <th>sentnum</th>\n",
              "      <th>tagged_sent</th>\n",
              "      <th>bow</th>\n",
              "      <th>bag_word_tags</th>\n",
              "      <th>bag_tagged_words</th>\n",
              "    </tr>\n",
              "  </thead>\n",
              "  <tbody>\n",
              "    <tr>\n",
              "      <th>0</th>\n",
              "      <td>ca01</td>\n",
              "      <td>0</td>\n",
              "      <td>0</td>\n",
              "      <td>0</td>\n",
              "      <td>[(The, AT), (Fulton, NP-TL), (County, NN-TL), ...</td>\n",
              "      <td>{'The': 1, 'Fulton': 1, 'County': 1, 'Grand': ...</td>\n",
              "      <td>{'AT': 3, 'NP-TL': 1, 'NN-TL': 2, 'JJ-TL': 1, ...</td>\n",
              "      <td>{('The', 'AT'): 1, ('Fulton', 'NP-TL'): 1, ('C...</td>\n",
              "    </tr>\n",
              "    <tr>\n",
              "      <th>1</th>\n",
              "      <td>ca01</td>\n",
              "      <td>0</td>\n",
              "      <td>1</td>\n",
              "      <td>0</td>\n",
              "      <td>[(The, AT), (jury, NN), (further, RBR), (said,...</td>\n",
              "      <td>{'The': 1, 'jury': 1, 'further': 1, 'said': 1,...</td>\n",
              "      <td>{'AT': 7, 'NN': 7, 'RBR': 1, 'VBD': 1, 'IN': 5...</td>\n",
              "      <td>{('The', 'AT'): 1, ('jury', 'NN'): 1, ('furthe...</td>\n",
              "    </tr>\n",
              "    <tr>\n",
              "      <th>2</th>\n",
              "      <td>ca01</td>\n",
              "      <td>0</td>\n",
              "      <td>2</td>\n",
              "      <td>0</td>\n",
              "      <td>[(The, AT), (September-October, NP), (term, NN...</td>\n",
              "      <td>{'The': 1, 'September-October': 1, 'term': 1, ...</td>\n",
              "      <td>{'AT': 2, 'NP': 6, 'NN': 3, 'HVD': 1, 'BEN': 1...</td>\n",
              "      <td>{('The', 'AT'): 1, ('September-October', 'NP')...</td>\n",
              "    </tr>\n",
              "    <tr>\n",
              "      <th>3</th>\n",
              "      <td>ca01</td>\n",
              "      <td>0</td>\n",
              "      <td>3</td>\n",
              "      <td>0</td>\n",
              "      <td>[(``, ``), (Only, RB), (a, AT), (relative, JJ)...</td>\n",
              "      <td>{'``': 2, 'Only': 1, 'a': 1, 'relative': 1, 'h...</td>\n",
              "      <td>{'``': 2, 'RB': 1, 'AT': 6, 'JJ': 3, 'NN': 7, ...</td>\n",
              "      <td>{('``', '``'): 2, ('Only', 'RB'): 1, ('a', 'AT...</td>\n",
              "    </tr>\n",
              "    <tr>\n",
              "      <th>4</th>\n",
              "      <td>ca01</td>\n",
              "      <td>0</td>\n",
              "      <td>4</td>\n",
              "      <td>0</td>\n",
              "      <td>[(The, AT), (jury, NN), (said, VBD), (it, PPS)...</td>\n",
              "      <td>{'The': 1, 'jury': 1, 'said': 1, 'it': 1, 'did...</td>\n",
              "      <td>{'AT': 1, 'NN': 3, 'VBD': 1, 'PPS': 1, 'DOD': ...</td>\n",
              "      <td>{('The', 'AT'): 1, ('jury', 'NN'): 1, ('said',...</td>\n",
              "    </tr>\n",
              "  </tbody>\n",
              "</table>\n",
              "</div>"
            ],
            "text/plain": [
              "  fileid  ...                                   bag_tagged_words\n",
              "0   ca01  ...  {('The', 'AT'): 1, ('Fulton', 'NP-TL'): 1, ('C...\n",
              "1   ca01  ...  {('The', 'AT'): 1, ('jury', 'NN'): 1, ('furthe...\n",
              "2   ca01  ...  {('The', 'AT'): 1, ('September-October', 'NP')...\n",
              "3   ca01  ...  {('``', '``'): 2, ('Only', 'RB'): 1, ('a', 'AT...\n",
              "4   ca01  ...  {('The', 'AT'): 1, ('jury', 'NN'): 1, ('said',...\n",
              "\n",
              "[5 rows x 8 columns]"
            ]
          },
          "metadata": {
            "tags": []
          },
          "execution_count": 110
        }
      ]
    },
    {
      "cell_type": "code",
      "metadata": {
        "id": "lyyOw7_DAEEn"
      },
      "source": [
        "import seaborn"
      ],
      "execution_count": null,
      "outputs": []
    },
    {
      "cell_type": "code",
      "metadata": {
        "id": "12Dcv_sDAYJm"
      },
      "source": [
        "from matplotlib import pyplot as plt"
      ],
      "execution_count": null,
      "outputs": []
    },
    {
      "cell_type": "code",
      "metadata": {
        "id": "zST3Ls9sAgM2"
      },
      "source": [
        "from nlpia.loaders import clean_columns"
      ],
      "execution_count": null,
      "outputs": []
    },
    {
      "cell_type": "code",
      "metadata": {
        "id": "X33MDz34Amzl"
      },
      "source": [
        "dfs = pd.read_html('https://en.wikipedia.org/wiki/List_of_United_States_cities_by_population', header=0)"
      ],
      "execution_count": null,
      "outputs": []
    },
    {
      "cell_type": "code",
      "metadata": {
        "id": "pyjleETBArZl",
        "outputId": "2a08a69d-3173-45c0-e6e2-f31c9c47c2a4",
        "colab": {
          "base_uri": "https://localhost:8080/",
          "height": 80
        }
      },
      "source": [
        "dfs[0]"
      ],
      "execution_count": null,
      "outputs": [
        {
          "output_type": "execute_result",
          "data": {
            "text/html": [
              "<div>\n",
              "<style scoped>\n",
              "    .dataframe tbody tr th:only-of-type {\n",
              "        vertical-align: middle;\n",
              "    }\n",
              "\n",
              "    .dataframe tbody tr th {\n",
              "        vertical-align: top;\n",
              "    }\n",
              "\n",
              "    .dataframe thead th {\n",
              "        text-align: right;\n",
              "    }\n",
              "</style>\n",
              "<table border=\"1\" class=\"dataframe\">\n",
              "  <thead>\n",
              "    <tr style=\"text-align: right;\">\n",
              "      <th></th>\n",
              "      <th>Map all coordinates using: OpenStreetMap</th>\n",
              "    </tr>\n",
              "  </thead>\n",
              "  <tbody>\n",
              "    <tr>\n",
              "      <th>0</th>\n",
              "      <td>Download coordinates as: KML · GPX</td>\n",
              "    </tr>\n",
              "  </tbody>\n",
              "</table>\n",
              "</div>"
            ],
            "text/plain": [
              "  Map all coordinates using: OpenStreetMap\n",
              "0       Download coordinates as: KML · GPX"
            ]
          },
          "metadata": {
            "tags": []
          },
          "execution_count": 117
        }
      ]
    },
    {
      "cell_type": "code",
      "metadata": {
        "id": "geaoDoASAtwV",
        "outputId": "307aa433-de81-48b8-975f-413e6770fd2f",
        "colab": {
          "base_uri": "https://localhost:8080/",
          "height": 555
        }
      },
      "source": [
        "dfs[4]"
      ],
      "execution_count": null,
      "outputs": [
        {
          "output_type": "execute_result",
          "data": {
            "text/html": [
              "<div>\n",
              "<style scoped>\n",
              "    .dataframe tbody tr th:only-of-type {\n",
              "        vertical-align: middle;\n",
              "    }\n",
              "\n",
              "    .dataframe tbody tr th {\n",
              "        vertical-align: top;\n",
              "    }\n",
              "\n",
              "    .dataframe thead th {\n",
              "        text-align: right;\n",
              "    }\n",
              "</style>\n",
              "<table border=\"1\" class=\"dataframe\">\n",
              "  <thead>\n",
              "    <tr style=\"text-align: right;\">\n",
              "      <th></th>\n",
              "      <th>2019rank</th>\n",
              "      <th>City</th>\n",
              "      <th>State[c]</th>\n",
              "      <th>2019estimate</th>\n",
              "      <th>2010Census</th>\n",
              "      <th>Change</th>\n",
              "      <th>2016 land area</th>\n",
              "      <th>2016 land area.1</th>\n",
              "      <th>2016 population density</th>\n",
              "      <th>2016 population density.1</th>\n",
              "      <th>Location</th>\n",
              "    </tr>\n",
              "  </thead>\n",
              "  <tbody>\n",
              "    <tr>\n",
              "      <th>0</th>\n",
              "      <td>1</td>\n",
              "      <td>New York City[d]</td>\n",
              "      <td>New York</td>\n",
              "      <td>8336817</td>\n",
              "      <td>8175133</td>\n",
              "      <td>+1.98%</td>\n",
              "      <td>301.5 sq mi</td>\n",
              "      <td>780.9 km2</td>\n",
              "      <td>28,317/sq mi</td>\n",
              "      <td>10,933/km2</td>\n",
              "      <td>40°39′49″N 73°56′19″W﻿ / ﻿40.6635°N 73.9387°W</td>\n",
              "    </tr>\n",
              "    <tr>\n",
              "      <th>1</th>\n",
              "      <td>2</td>\n",
              "      <td>Los Angeles</td>\n",
              "      <td>California</td>\n",
              "      <td>3979576</td>\n",
              "      <td>3792621</td>\n",
              "      <td>+4.93%</td>\n",
              "      <td>468.7 sq mi</td>\n",
              "      <td>1,213.9 km2</td>\n",
              "      <td>8,484/sq mi</td>\n",
              "      <td>3,276/km2</td>\n",
              "      <td>34°01′10″N 118°24′39″W﻿ / ﻿34.0194°N 118.4108°W</td>\n",
              "    </tr>\n",
              "    <tr>\n",
              "      <th>2</th>\n",
              "      <td>3</td>\n",
              "      <td>Chicago</td>\n",
              "      <td>Illinois</td>\n",
              "      <td>2693976</td>\n",
              "      <td>2695598</td>\n",
              "      <td>−0.06%</td>\n",
              "      <td>227.3 sq mi</td>\n",
              "      <td>588.7 km2</td>\n",
              "      <td>11,900/sq mi</td>\n",
              "      <td>4,600/km2</td>\n",
              "      <td>41°50′15″N 87°40′54″W﻿ / ﻿41.8376°N 87.6818°W</td>\n",
              "    </tr>\n",
              "    <tr>\n",
              "      <th>3</th>\n",
              "      <td>4</td>\n",
              "      <td>Houston[3]</td>\n",
              "      <td>Texas</td>\n",
              "      <td>2320268</td>\n",
              "      <td>2100263</td>\n",
              "      <td>+10.48%</td>\n",
              "      <td>637.5 sq mi</td>\n",
              "      <td>1,651.1 km2</td>\n",
              "      <td>3,613/sq mi</td>\n",
              "      <td>1,395/km2</td>\n",
              "      <td>29°47′12″N 95°23′27″W﻿ / ﻿29.7866°N 95.3909°W</td>\n",
              "    </tr>\n",
              "    <tr>\n",
              "      <th>4</th>\n",
              "      <td>5</td>\n",
              "      <td>Phoenix</td>\n",
              "      <td>Arizona</td>\n",
              "      <td>1680992</td>\n",
              "      <td>1445632</td>\n",
              "      <td>+16.28%</td>\n",
              "      <td>517.6 sq mi</td>\n",
              "      <td>1,340.6 km2</td>\n",
              "      <td>3,120/sq mi</td>\n",
              "      <td>1,200/km2</td>\n",
              "      <td>33°34′20″N 112°05′24″W﻿ / ﻿33.5722°N 112.0901°W</td>\n",
              "    </tr>\n",
              "    <tr>\n",
              "      <th>...</th>\n",
              "      <td>...</td>\n",
              "      <td>...</td>\n",
              "      <td>...</td>\n",
              "      <td>...</td>\n",
              "      <td>...</td>\n",
              "      <td>...</td>\n",
              "      <td>...</td>\n",
              "      <td>...</td>\n",
              "      <td>...</td>\n",
              "      <td>...</td>\n",
              "      <td>...</td>\n",
              "    </tr>\n",
              "    <tr>\n",
              "      <th>312</th>\n",
              "      <td>313</td>\n",
              "      <td>San Angelo</td>\n",
              "      <td>Texas</td>\n",
              "      <td>101004</td>\n",
              "      <td>93200</td>\n",
              "      <td>+8.37%</td>\n",
              "      <td>59.9 sq mi</td>\n",
              "      <td>155.1 km2</td>\n",
              "      <td>1,681/sq mi</td>\n",
              "      <td>649/km2</td>\n",
              "      <td>31°26′28″N 100°27′02″W﻿ / ﻿31.4411°N 100.4505°W</td>\n",
              "    </tr>\n",
              "    <tr>\n",
              "      <th>313</th>\n",
              "      <td>314</td>\n",
              "      <td>Vacaville</td>\n",
              "      <td>California</td>\n",
              "      <td>100670</td>\n",
              "      <td>92428</td>\n",
              "      <td>+8.92%</td>\n",
              "      <td>29.0 sq mi</td>\n",
              "      <td>75.1 km2</td>\n",
              "      <td>3,449/sq mi</td>\n",
              "      <td>1,332/km2</td>\n",
              "      <td>38°21′14″N 121°58′22″W﻿ / ﻿38.3539°N 121.9728°W</td>\n",
              "    </tr>\n",
              "    <tr>\n",
              "      <th>314</th>\n",
              "      <td>315</td>\n",
              "      <td>Clinton[ae]</td>\n",
              "      <td>Michigan</td>\n",
              "      <td>100471</td>\n",
              "      <td>96796</td>\n",
              "      <td>+3.80%</td>\n",
              "      <td>28.1 sq mi</td>\n",
              "      <td>72.8 km2</td>\n",
              "      <td>3,573/sq mi</td>\n",
              "      <td>1,380/km2</td>\n",
              "      <td>42°35′25″N 82°55′01″W﻿ / ﻿42.5903°N 82.9170°W</td>\n",
              "    </tr>\n",
              "    <tr>\n",
              "      <th>315</th>\n",
              "      <td>316</td>\n",
              "      <td>Bend</td>\n",
              "      <td>Oregon</td>\n",
              "      <td>100421</td>\n",
              "      <td>76639</td>\n",
              "      <td>+31.03%</td>\n",
              "      <td>33.1 sq mi</td>\n",
              "      <td>85.7 km2</td>\n",
              "      <td>3,034/sq mi</td>\n",
              "      <td>1,171/km2</td>\n",
              "      <td>44°03′00″N 121°18′00″W﻿ / ﻿44.0500°N 121.3000°W</td>\n",
              "    </tr>\n",
              "    <tr>\n",
              "      <th>316</th>\n",
              "      <td>317</td>\n",
              "      <td>Woodbridge[ad]</td>\n",
              "      <td>New Jersey</td>\n",
              "      <td>100145</td>\n",
              "      <td>99585</td>\n",
              "      <td>+0.56%</td>\n",
              "      <td>23.3 sq mi</td>\n",
              "      <td>60.3 km2</td>\n",
              "      <td>4,351/sq mi</td>\n",
              "      <td>1,680/km2</td>\n",
              "      <td>40°33′39″N 74°17′34″W﻿ / ﻿40.5607°N 74.2927°W</td>\n",
              "    </tr>\n",
              "  </tbody>\n",
              "</table>\n",
              "<p>317 rows × 11 columns</p>\n",
              "</div>"
            ],
            "text/plain": [
              "     2019rank  ...                                         Location\n",
              "0           1  ...    40°39′49″N 73°56′19″W﻿ / ﻿40.6635°N 73.9387°W\n",
              "1           2  ...  34°01′10″N 118°24′39″W﻿ / ﻿34.0194°N 118.4108°W\n",
              "2           3  ...    41°50′15″N 87°40′54″W﻿ / ﻿41.8376°N 87.6818°W\n",
              "3           4  ...    29°47′12″N 95°23′27″W﻿ / ﻿29.7866°N 95.3909°W\n",
              "4           5  ...  33°34′20″N 112°05′24″W﻿ / ﻿33.5722°N 112.0901°W\n",
              "..        ...  ...                                              ...\n",
              "312       313  ...  31°26′28″N 100°27′02″W﻿ / ﻿31.4411°N 100.4505°W\n",
              "313       314  ...  38°21′14″N 121°58′22″W﻿ / ﻿38.3539°N 121.9728°W\n",
              "314       315  ...    42°35′25″N 82°55′01″W﻿ / ﻿42.5903°N 82.9170°W\n",
              "315       316  ...  44°03′00″N 121°18′00″W﻿ / ﻿44.0500°N 121.3000°W\n",
              "316       317  ...    40°33′39″N 74°17′34″W﻿ / ﻿40.5607°N 74.2927°W\n",
              "\n",
              "[317 rows x 11 columns]"
            ]
          },
          "metadata": {
            "tags": []
          },
          "execution_count": 118
        }
      ]
    },
    {
      "cell_type": "code",
      "metadata": {
        "id": "gFODCNWMA3uF"
      },
      "source": [
        "df = dfs[4]"
      ],
      "execution_count": null,
      "outputs": []
    },
    {
      "cell_type": "code",
      "metadata": {
        "id": "z6yIwxrwA8Tm",
        "outputId": "10561bf1-d2a6-48bf-9179-2fc04acfa575",
        "colab": {
          "base_uri": "https://localhost:8080/"
        }
      },
      "source": [
        "df.to_csv"
      ],
      "execution_count": null,
      "outputs": [
        {
          "output_type": "execute_result",
          "data": {
            "text/plain": [
              "<bound method NDFrame.to_csv of      2019rank  ...                                         Location\n",
              "0           1  ...    40°39′49″N 73°56′19″W﻿ / ﻿40.6635°N 73.9387°W\n",
              "1           2  ...  34°01′10″N 118°24′39″W﻿ / ﻿34.0194°N 118.4108°W\n",
              "2           3  ...    41°50′15″N 87°40′54″W﻿ / ﻿41.8376°N 87.6818°W\n",
              "3           4  ...    29°47′12″N 95°23′27″W﻿ / ﻿29.7866°N 95.3909°W\n",
              "4           5  ...  33°34′20″N 112°05′24″W﻿ / ﻿33.5722°N 112.0901°W\n",
              "..        ...  ...                                              ...\n",
              "312       313  ...  31°26′28″N 100°27′02″W﻿ / ﻿31.4411°N 100.4505°W\n",
              "313       314  ...  38°21′14″N 121°58′22″W﻿ / ﻿38.3539°N 121.9728°W\n",
              "314       315  ...    42°35′25″N 82°55′01″W﻿ / ﻿42.5903°N 82.9170°W\n",
              "315       316  ...  44°03′00″N 121°18′00″W﻿ / ﻿44.0500°N 121.3000°W\n",
              "316       317  ...    40°33′39″N 74°17′34″W﻿ / ﻿40.5607°N 74.2927°W\n",
              "\n",
              "[317 rows x 11 columns]>"
            ]
          },
          "metadata": {
            "tags": []
          },
          "execution_count": 120
        }
      ]
    },
    {
      "cell_type": "code",
      "metadata": {
        "id": "dxh6p10CA-Yl",
        "outputId": "8d09ec8c-6307-4b0a-8f84-35f98c60c566",
        "colab": {
          "base_uri": "https://localhost:8080/"
        }
      },
      "source": [
        "df.columns = clean_columns(df.columns)"
      ],
      "execution_count": null,
      "outputs": [
        {
          "output_type": "stream",
          "text": [
            "/usr/local/lib/python3.6/dist-packages/pugnlp/util.py:125: FutureWarning: The pandas.np module is deprecated and will be removed from pandas in a future version. Import numpy directly instead\n",
            "  columns = np.array(columns) if rettype is None else rettype(columns[0])\n"
          ],
          "name": "stderr"
        }
      ]
    },
    {
      "cell_type": "code",
      "metadata": {
        "id": "9g9qHGGZBP-k",
        "outputId": "055b4605-3e4c-4032-a383-929f4581b5c8",
        "colab": {
          "base_uri": "https://localhost:8080/"
        }
      },
      "source": [
        "df.columns"
      ],
      "execution_count": null,
      "outputs": [
        {
          "output_type": "execute_result",
          "data": {
            "text/plain": [
              "Index(['2019rank', 'city', 'statec', '2019estimate', '2010census', 'change',\n",
              "       '2016_land_area', '2016_land_area1', '2016_population_density',\n",
              "       '2016_population_density1', 'location'],\n",
              "      dtype='object')"
            ]
          },
          "metadata": {
            "tags": []
          },
          "execution_count": 122
        }
      ]
    },
    {
      "cell_type": "code",
      "metadata": {
        "id": "ynHOvmb_BSLV"
      },
      "source": [
        "rank_col = next(c for c in df.columns if 'rank' in c)"
      ],
      "execution_count": null,
      "outputs": []
    },
    {
      "cell_type": "code",
      "metadata": {
        "id": "ohRFWXZbBj_U"
      },
      "source": [
        "rank = df[rank_col]"
      ],
      "execution_count": null,
      "outputs": []
    },
    {
      "cell_type": "code",
      "metadata": {
        "id": "ZYP5faMGB6Qj"
      },
      "source": [
        "pop_col = next(c for c in df.columns if 'est' in c)"
      ],
      "execution_count": null,
      "outputs": []
    },
    {
      "cell_type": "code",
      "metadata": {
        "id": "b5Wd9XPLCGUT"
      },
      "source": [
        "population = df[pop_col]"
      ],
      "execution_count": null,
      "outputs": []
    },
    {
      "cell_type": "code",
      "metadata": {
        "id": "9V0TIpjLCShi",
        "outputId": "91fdf797-6f25-402d-b5ae-f9c92902b3fd",
        "colab": {
          "base_uri": "https://localhost:8080/"
        }
      },
      "source": [
        "rank.head()"
      ],
      "execution_count": null,
      "outputs": [
        {
          "output_type": "execute_result",
          "data": {
            "text/plain": [
              "0    1\n",
              "1    2\n",
              "2    3\n",
              "3    4\n",
              "4    5\n",
              "Name: 2019rank, dtype: int64"
            ]
          },
          "metadata": {
            "tags": []
          },
          "execution_count": 127
        }
      ]
    },
    {
      "cell_type": "code",
      "metadata": {
        "id": "RDW8HgaXCZaz",
        "outputId": "46358212-53c7-463d-b179-2d752f434fc6",
        "colab": {
          "base_uri": "https://localhost:8080/"
        }
      },
      "source": [
        "population.head()"
      ],
      "execution_count": null,
      "outputs": [
        {
          "output_type": "execute_result",
          "data": {
            "text/plain": [
              "0    8336817\n",
              "1    3979576\n",
              "2    2693976\n",
              "3    2320268\n",
              "4    1680992\n",
              "Name: 2019estimate, dtype: int64"
            ]
          },
          "metadata": {
            "tags": []
          },
          "execution_count": 128
        }
      ]
    },
    {
      "cell_type": "code",
      "metadata": {
        "id": "Bc5nkUmmCbji"
      },
      "source": [
        "rankpop = pd.DataFrame(population)"
      ],
      "execution_count": null,
      "outputs": []
    },
    {
      "cell_type": "code",
      "metadata": {
        "id": "buukg6HzCkKC"
      },
      "source": [
        "rankpop.index = rank"
      ],
      "execution_count": null,
      "outputs": []
    },
    {
      "cell_type": "code",
      "metadata": {
        "id": "KB6gYrNeCpiC"
      },
      "source": [
        "rankpop.columns = ['Population']"
      ],
      "execution_count": null,
      "outputs": []
    },
    {
      "cell_type": "code",
      "metadata": {
        "id": "-eCM7CS0CvGi",
        "outputId": "9bb8ab8f-772a-40d3-e85b-bedd641cf6f9",
        "colab": {
          "base_uri": "https://localhost:8080/",
          "height": 34
        }
      },
      "source": [
        "fig = plt.figure()"
      ],
      "execution_count": null,
      "outputs": [
        {
          "output_type": "display_data",
          "data": {
            "text/plain": [
              "<Figure size 432x288 with 0 Axes>"
            ]
          },
          "metadata": {
            "tags": []
          }
        }
      ]
    },
    {
      "cell_type": "code",
      "metadata": {
        "id": "zZxG3mYUCyTS"
      },
      "source": [
        ""
      ],
      "execution_count": null,
      "outputs": []
    },
    {
      "cell_type": "code",
      "metadata": {
        "id": "vvibQ1IYC4eC",
        "outputId": "53e26a70-76ee-49ad-c573-a1c9bbbf1708",
        "colab": {
          "base_uri": "https://localhost:8080/"
        }
      },
      "source": [
        ""
      ],
      "execution_count": null,
      "outputs": [
        {
          "output_type": "execute_result",
          "data": {
            "text/plain": [
              "<matplotlib.axes._subplots.AxesSubplot at 0x7f9f452804a8>"
            ]
          },
          "metadata": {
            "tags": []
          },
          "execution_count": 134
        }
      ]
    },
    {
      "cell_type": "code",
      "metadata": {
        "id": "DXMyKw3uDLrh",
        "outputId": "72c0fdd4-6262-404c-e9bf-2921d39f4730",
        "colab": {
          "base_uri": "https://localhost:8080/",
          "height": 287
        }
      },
      "source": [
        "fig = plt.figure()\n",
        "ax = fig.add_subplot(111)\n",
        "rankpop.plot(style='o', logx=True, logy=True, ax=ax)\n",
        "xlabel = plt.xlabel('Rank')\n",
        "ylabel = plt.ylabel('US City Population')\n",
        "plt.show(block=False)"
      ],
      "execution_count": null,
      "outputs": [
        {
          "output_type": "display_data",
          "data": {
            "image/png": "[encoded data removed]",
            "text/plain": [
              "<Figure size 432x288 with 1 Axes>"
            ]
          },
          "metadata": {
            "tags": [],
            "needs_background": "light"
          }
        }
      ]
    },
    {
      "cell_type": "code",
      "metadata": {
        "id": "9a5ZGO4EDZkg"
      },
      "source": [
        ""
      ],
      "execution_count": null,
      "outputs": []
    },
    {
      "cell_type": "markdown",
      "metadata": {
        "id": "JTcPm9sRNTG5"
      },
      "source": [
        "# **Topic Modeling**"
      ]
    },
    {
      "cell_type": "code",
      "metadata": {
        "id": "3VqhC7-0NRkB",
        "outputId": "0366f78b-77d6-403d-f827-d3d441f9d27a",
        "colab": {
          "base_uri": "https://localhost:8080/"
        }
      },
      "source": [
        "!pip install nlpia"
      ],
      "execution_count": null,
      "outputs": [
        {
          "output_type": "stream",
          "text": [
            "Collecting nlpia\n",
            "\u001b[?25l  Downloading https://files.pythonhosted.org/packages/89/f6/ab35e962dd0b19f1008e88e788b202d45a90d9cd70b9bbf0ac26489ee260/nlpia-0.5.2-py2.py3-none-any.whl (32.0MB)\n",
            "\u001b[K     |████████████████████████████████| 32.0MB 147kB/s \n",
            "\u001b[?25hRequirement already satisfied: scikit-learn in /usr/local/lib/python3.6/dist-packages (from nlpia) (0.22.2.post1)\n",
            "Requirement already satisfied: lxml in /usr/local/lib/python3.6/dist-packages (from nlpia) (4.2.6)\n",
            "Collecting pugnlp\n",
            "\u001b[?25l  Downloading https://files.pythonhosted.org/packages/f7/20/a9f0b1f45c074c63da716fc1b301916cc3b64c11d5cbf7cb305eafaf158a/pugnlp-0.2.6-py2.py3-none-any.whl (706kB)\n",
            "\u001b[K     |████████████████████████████████| 716kB 38.1MB/s \n",
            "\u001b[?25hRequirement already satisfied: spacy in /usr/local/lib/python3.6/dist-packages (from nlpia) (2.2.4)\n",
            "Requirement already satisfied: pandas in /usr/local/lib/python3.6/dist-packages (from nlpia) (1.1.4)\n",
            "Requirement already satisfied: jupyter in /usr/local/lib/python3.6/dist-packages (from nlpia) (1.0.0)\n",
            "Requirement already satisfied: seaborn in /usr/local/lib/python3.6/dist-packages (from nlpia) (0.11.0)\n",
            "Requirement already satisfied: matplotlib in /usr/local/lib/python3.6/dist-packages (from nlpia) (3.2.2)\n",
            "Requirement already satisfied: nltk in /usr/local/lib/python3.6/dist-packages (from nlpia) (3.2.5)\n",
            "Requirement already satisfied: tensorflow in /usr/local/lib/python3.6/dist-packages (from nlpia) (2.3.0)\n",
            "Collecting html2text\n",
            "  Downloading https://files.pythonhosted.org/packages/ae/88/14655f727f66b3e3199f4467bafcc88283e6c31b562686bf606264e09181/html2text-2020.1.16-py3-none-any.whl\n",
            "Requirement already satisfied: gensim in /usr/local/lib/python3.6/dist-packages (from nlpia) (3.6.0)\n",
            "Requirement already satisfied: plotly in /usr/local/lib/python3.6/dist-packages (from nlpia) (4.4.1)\n",
            "Collecting python-Levenshtein\n",
            "\u001b[?25l  Downloading https://files.pythonhosted.org/packages/42/a9/d1785c85ebf9b7dfacd08938dd028209c34a0ea3b1bcdb895208bd40a67d/python-Levenshtein-0.12.0.tar.gz (48kB)\n",
            "\u001b[K     |████████████████████████████████| 51kB 5.8MB/s \n",
            "\u001b[?25hRequirement already satisfied: html5lib in /usr/local/lib/python3.6/dist-packages (from nlpia) (1.0.1)\n",
            "Requirement already satisfied: pandas-datareader in /usr/local/lib/python3.6/dist-packages (from nlpia) (0.9.0)\n",
            "Requirement already satisfied: keras in /usr/local/lib/python3.6/dist-packages (from nlpia) (2.4.3)\n",
            "Requirement already satisfied: future in /usr/local/lib/python3.6/dist-packages (from nlpia) (0.16.0)\n",
            "Requirement already satisfied: tqdm in /usr/local/lib/python3.6/dist-packages (from nlpia) (4.41.1)\n",
            "Collecting pypandoc\n",
            "  Downloading https://files.pythonhosted.org/packages/d6/b7/5050dc1769c8a93d3ec7c4bd55be161991c94b8b235f88bf7c764449e708/pypandoc-1.5.tar.gz\n",
            "Requirement already satisfied: h5py in /usr/local/lib/python3.6/dist-packages (from nlpia) (2.10.0)\n",
            "Requirement already satisfied: regex in /usr/local/lib/python3.6/dist-packages (from nlpia) (2019.12.20)\n",
            "Requirement already satisfied: scipy>=0.17.0 in /usr/local/lib/python3.6/dist-packages (from scikit-learn->nlpia) (1.4.1)\n",
            "Requirement already satisfied: numpy>=1.11.0 in /usr/local/lib/python3.6/dist-packages (from scikit-learn->nlpia) (1.18.5)\n",
            "Requirement already satisfied: joblib>=0.11 in /usr/local/lib/python3.6/dist-packages (from scikit-learn->nlpia) (0.17.0)\n",
            "Collecting fuzzywuzzy\n",
            "  Downloading https://files.pythonhosted.org/packages/43/ff/74f23998ad2f93b945c0309f825be92e04e0348e062026998b5eefef4c33/fuzzywuzzy-0.18.0-py2.py3-none-any.whl\n",
            "Requirement already satisfied: pip in /usr/local/lib/python3.6/dist-packages (from pugnlp->nlpia) (19.3.1)\n",
            "Requirement already satisfied: coverage in /usr/local/lib/python3.6/dist-packages (from pugnlp->nlpia) (3.7.1)\n",
            "Requirement already satisfied: wheel in /usr/local/lib/python3.6/dist-packages (from pugnlp->nlpia) (0.35.1)\n",
            "Requirement already satisfied: python-slugify in /usr/local/lib/python3.6/dist-packages (from pugnlp->nlpia) (4.0.1)\n",
            "Requirement already satisfied: thinc==7.4.0 in /usr/local/lib/python3.6/dist-packages (from spacy->nlpia) (7.4.0)\n",
            "Requirement already satisfied: catalogue<1.1.0,>=0.0.7 in /usr/local/lib/python3.6/dist-packages (from spacy->nlpia) (1.0.0)\n",
            "Requirement already satisfied: blis<0.5.0,>=0.4.0 in /usr/local/lib/python3.6/dist-packages (from spacy->nlpia) (0.4.1)\n",
            "Requirement already satisfied: srsly<1.1.0,>=1.0.2 in /usr/local/lib/python3.6/dist-packages (from spacy->nlpia) (1.0.2)\n",
            "Requirement already satisfied: plac<1.2.0,>=0.9.6 in /usr/local/lib/python3.6/dist-packages (from spacy->nlpia) (1.1.3)\n",
            "Requirement already satisfied: wasabi<1.1.0,>=0.4.0 in /usr/local/lib/python3.6/dist-packages (from spacy->nlpia) (0.8.0)\n",
            "Requirement already satisfied: murmurhash<1.1.0,>=0.28.0 in /usr/local/lib/python3.6/dist-packages (from spacy->nlpia) (1.0.3)\n",
            "Requirement already satisfied: cymem<2.1.0,>=2.0.2 in /usr/local/lib/python3.6/dist-packages (from spacy->nlpia) (2.0.4)\n",
            "Requirement already satisfied: setuptools in /usr/local/lib/python3.6/dist-packages (from spacy->nlpia) (50.3.2)\n",
            "Requirement already satisfied: preshed<3.1.0,>=3.0.2 in /usr/local/lib/python3.6/dist-packages (from spacy->nlpia) (3.0.2)\n",
            "Requirement already satisfied: requests<3.0.0,>=2.13.0 in /usr/local/lib/python3.6/dist-packages (from spacy->nlpia) (2.23.0)\n",
            "Requirement already satisfied: pytz>=2017.2 in /usr/local/lib/python3.6/dist-packages (from pandas->nlpia) (2018.9)\n",
            "Requirement already satisfied: python-dateutil>=2.7.3 in /usr/local/lib/python3.6/dist-packages (from pandas->nlpia) (2.8.1)\n",
            "Requirement already satisfied: notebook in /usr/local/lib/python3.6/dist-packages (from jupyter->nlpia) (5.3.1)\n",
            "Requirement already satisfied: qtconsole in /usr/local/lib/python3.6/dist-packages (from jupyter->nlpia) (4.7.7)\n",
            "Requirement already satisfied: ipywidgets in /usr/local/lib/python3.6/dist-packages (from jupyter->nlpia) (7.5.1)\n",
            "Requirement already satisfied: nbconvert in /usr/local/lib/python3.6/dist-packages (from jupyter->nlpia) (5.6.1)\n",
            "Requirement already satisfied: ipykernel in /usr/local/lib/python3.6/dist-packages (from jupyter->nlpia) (4.10.1)\n",
            "Requirement already satisfied: jupyter-console in /usr/local/lib/python3.6/dist-packages (from jupyter->nlpia) (5.2.0)\n",
            "Requirement already satisfied: cycler>=0.10 in /usr/local/lib/python3.6/dist-packages (from matplotlib->nlpia) (0.10.0)\n",
            "Requirement already satisfied: pyparsing!=2.0.4,!=2.1.2,!=2.1.6,>=2.0.1 in /usr/local/lib/python3.6/dist-packages (from matplotlib->nlpia) (2.4.7)\n",
            "Requirement already satisfied: kiwisolver>=1.0.1 in /usr/local/lib/python3.6/dist-packages (from matplotlib->nlpia) (1.3.1)\n",
            "Requirement already satisfied: six in /usr/local/lib/python3.6/dist-packages (from nltk->nlpia) (1.15.0)\n",
            "Requirement already satisfied: tensorboard<3,>=2.3.0 in /usr/local/lib/python3.6/dist-packages (from tensorflow->nlpia) (2.3.0)\n",
            "Requirement already satisfied: termcolor>=1.1.0 in /usr/local/lib/python3.6/dist-packages (from tensorflow->nlpia) (1.1.0)\n",
            "Requirement already satisfied: astunparse==1.6.3 in /usr/local/lib/python3.6/dist-packages (from tensorflow->nlpia) (1.6.3)\n",
            "Requirement already satisfied: opt-einsum>=2.3.2 in /usr/local/lib/python3.6/dist-packages (from tensorflow->nlpia) (3.3.0)\n",
            "Requirement already satisfied: protobuf>=3.9.2 in /usr/local/lib/python3.6/dist-packages (from tensorflow->nlpia) (3.12.4)\n",
            "Requirement already satisfied: wrapt>=1.11.1 in /usr/local/lib/python3.6/dist-packages (from tensorflow->nlpia) (1.12.1)\n",
            "Requirement already satisfied: tensorflow-estimator<2.4.0,>=2.3.0 in /usr/local/lib/python3.6/dist-packages (from tensorflow->nlpia) (2.3.0)\n",
            "Requirement already satisfied: grpcio>=1.8.6 in /usr/local/lib/python3.6/dist-packages (from tensorflow->nlpia) (1.33.2)\n",
            "Requirement already satisfied: gast==0.3.3 in /usr/local/lib/python3.6/dist-packages (from tensorflow->nlpia) (0.3.3)\n",
            "Requirement already satisfied: google-pasta>=0.1.8 in /usr/local/lib/python3.6/dist-packages (from tensorflow->nlpia) (0.2.0)\n",
            "Requirement already satisfied: keras-preprocessing<1.2,>=1.1.1 in /usr/local/lib/python3.6/dist-packages (from tensorflow->nlpia) (1.1.2)\n",
            "Requirement already satisfied: absl-py>=0.7.0 in /usr/local/lib/python3.6/dist-packages (from tensorflow->nlpia) (0.10.0)\n",
            "Requirement already satisfied: smart-open>=1.2.1 in /usr/local/lib/python3.6/dist-packages (from gensim->nlpia) (3.0.0)\n",
            "Requirement already satisfied: retrying>=1.3.3 in /usr/local/lib/python3.6/dist-packages (from plotly->nlpia) (1.3.3)\n",
            "Requirement already satisfied: webencodings in /usr/local/lib/python3.6/dist-packages (from html5lib->nlpia) (0.5.1)\n",
            "Requirement already satisfied: pyyaml in /usr/local/lib/python3.6/dist-packages (from keras->nlpia) (3.13)\n",
            "Requirement already satisfied: text-unidecode>=1.3 in /usr/local/lib/python3.6/dist-packages (from python-slugify->pugnlp->nlpia) (1.3)\n",
            "Requirement already satisfied: importlib-metadata>=0.20; python_version < \"3.8\" in /usr/local/lib/python3.6/dist-packages (from catalogue<1.1.0,>=0.0.7->spacy->nlpia) (2.0.0)\n",
            "Requirement already satisfied: chardet<4,>=3.0.2 in /usr/local/lib/python3.6/dist-packages (from requests<3.0.0,>=2.13.0->spacy->nlpia) (3.0.4)\n",
            "Requirement already satisfied: idna<3,>=2.5 in /usr/local/lib/python3.6/dist-packages (from requests<3.0.0,>=2.13.0->spacy->nlpia) (2.10)\n",
            "Requirement already satisfied: urllib3!=1.25.0,!=1.25.1,<1.26,>=1.21.1 in /usr/local/lib/python3.6/dist-packages (from requests<3.0.0,>=2.13.0->spacy->nlpia) (1.24.3)\n",
            "Requirement already satisfied: certifi>=2017.4.17 in /usr/local/lib/python3.6/dist-packages (from requests<3.0.0,>=2.13.0->spacy->nlpia) (2020.6.20)\n",
            "Requirement already satisfied: Send2Trash in /usr/local/lib/python3.6/dist-packages (from notebook->jupyter->nlpia) (1.5.0)\n",
            "Requirement already satisfied: jupyter-core>=4.4.0 in /usr/local/lib/python3.6/dist-packages (from notebook->jupyter->nlpia) (4.6.3)\n",
            "Requirement already satisfied: nbformat in /usr/local/lib/python3.6/dist-packages (from notebook->jupyter->nlpia) (5.0.8)\n",
            "Requirement already satisfied: traitlets>=4.2.1 in /usr/local/lib/python3.6/dist-packages (from notebook->jupyter->nlpia) (4.3.3)\n",
            "Requirement already satisfied: tornado>=4 in /usr/local/lib/python3.6/dist-packages (from notebook->jupyter->nlpia) (5.1.1)\n",
            "Requirement already satisfied: jinja2 in /usr/local/lib/python3.6/dist-packages (from notebook->jupyter->nlpia) (2.11.2)\n",
            "Requirement already satisfied: ipython-genutils in /usr/local/lib/python3.6/dist-packages (from notebook->jupyter->nlpia) (0.2.0)\n",
            "Requirement already satisfied: terminado>=0.8.1 in /usr/local/lib/python3.6/dist-packages (from notebook->jupyter->nlpia) (0.9.1)\n",
            "Requirement already satisfied: jupyter-client>=5.2.0 in /usr/local/lib/python3.6/dist-packages (from notebook->jupyter->nlpia) (5.3.5)\n",
            "Requirement already satisfied: pyzmq>=17.1 in /usr/local/lib/python3.6/dist-packages (from qtconsole->jupyter->nlpia) (19.0.2)\n",
            "Requirement already satisfied: pygments in /usr/local/lib/python3.6/dist-packages (from qtconsole->jupyter->nlpia) (2.6.1)\n",
            "Requirement already satisfied: qtpy in /usr/local/lib/python3.6/dist-packages (from qtconsole->jupyter->nlpia) (1.9.0)\n",
            "Requirement already satisfied: widgetsnbextension~=3.5.0 in /usr/local/lib/python3.6/dist-packages (from ipywidgets->jupyter->nlpia) (3.5.1)\n",
            "Requirement already satisfied: ipython>=4.0.0; python_version >= \"3.3\" in /usr/local/lib/python3.6/dist-packages (from ipywidgets->jupyter->nlpia) (5.5.0)\n",
            "Requirement already satisfied: pandocfilters>=1.4.1 in /usr/local/lib/python3.6/dist-packages (from nbconvert->jupyter->nlpia) (1.4.3)\n",
            "Requirement already satisfied: entrypoints>=0.2.2 in /usr/local/lib/python3.6/dist-packages (from nbconvert->jupyter->nlpia) (0.3)\n",
            "Requirement already satisfied: testpath in /usr/local/lib/python3.6/dist-packages (from nbconvert->jupyter->nlpia) (0.4.4)\n",
            "Requirement already satisfied: bleach in /usr/local/lib/python3.6/dist-packages (from nbconvert->jupyter->nlpia) (3.2.1)\n",
            "Requirement already satisfied: defusedxml in /usr/local/lib/python3.6/dist-packages (from nbconvert->jupyter->nlpia) (0.6.0)\n",
            "Requirement already satisfied: mistune<2,>=0.8.1 in /usr/local/lib/python3.6/dist-packages (from nbconvert->jupyter->nlpia) (0.8.4)\n",
            "Requirement already satisfied: prompt-toolkit<2.0.0,>=1.0.0 in /usr/local/lib/python3.6/dist-packages (from jupyter-console->jupyter->nlpia) (1.0.18)\n",
            "Requirement already satisfied: google-auth<2,>=1.6.3 in /usr/local/lib/python3.6/dist-packages (from tensorboard<3,>=2.3.0->tensorflow->nlpia) (1.17.2)\n",
            "Requirement already satisfied: markdown>=2.6.8 in /usr/local/lib/python3.6/dist-packages (from tensorboard<3,>=2.3.0->tensorflow->nlpia) (3.3.3)\n",
            "Requirement already satisfied: werkzeug>=0.11.15 in /usr/local/lib/python3.6/dist-packages (from tensorboard<3,>=2.3.0->tensorflow->nlpia) (1.0.1)\n",
            "Requirement already satisfied: google-auth-oauthlib<0.5,>=0.4.1 in /usr/local/lib/python3.6/dist-packages (from tensorboard<3,>=2.3.0->tensorflow->nlpia) (0.4.2)\n",
            "Requirement already satisfied: tensorboard-plugin-wit>=1.6.0 in /usr/local/lib/python3.6/dist-packages (from tensorboard<3,>=2.3.0->tensorflow->nlpia) (1.7.0)\n",
            "Requirement already satisfied: zipp>=0.5 in /usr/local/lib/python3.6/dist-packages (from importlib-metadata>=0.20; python_version < \"3.8\"->catalogue<1.1.0,>=0.0.7->spacy->nlpia) (3.4.0)\n",
            "Requirement already satisfied: jsonschema!=2.5.0,>=2.4 in /usr/local/lib/python3.6/dist-packages (from nbformat->notebook->jupyter->nlpia) (2.6.0)\n",
            "Requirement already satisfied: decorator in /usr/local/lib/python3.6/dist-packages (from traitlets>=4.2.1->notebook->jupyter->nlpia) (4.4.2)\n",
            "Requirement already satisfied: MarkupSafe>=0.23 in /usr/local/lib/python3.6/dist-packages (from jinja2->notebook->jupyter->nlpia) (1.1.1)\n",
            "Requirement already satisfied: ptyprocess; os_name != \"nt\" in /usr/local/lib/python3.6/dist-packages (from terminado>=0.8.1->notebook->jupyter->nlpia) (0.6.0)\n",
            "Requirement already satisfied: pexpect; sys_platform != \"win32\" in /usr/local/lib/python3.6/dist-packages (from ipython>=4.0.0; python_version >= \"3.3\"->ipywidgets->jupyter->nlpia) (4.8.0)\n",
            "Requirement already satisfied: pickleshare in /usr/local/lib/python3.6/dist-packages (from ipython>=4.0.0; python_version >= \"3.3\"->ipywidgets->jupyter->nlpia) (0.7.5)\n",
            "Requirement already satisfied: simplegeneric>0.8 in /usr/local/lib/python3.6/dist-packages (from ipython>=4.0.0; python_version >= \"3.3\"->ipywidgets->jupyter->nlpia) (0.8.1)\n",
            "Requirement already satisfied: packaging in /usr/local/lib/python3.6/dist-packages (from bleach->nbconvert->jupyter->nlpia) (20.4)\n",
            "Requirement already satisfied: wcwidth in /usr/local/lib/python3.6/dist-packages (from prompt-toolkit<2.0.0,>=1.0.0->jupyter-console->jupyter->nlpia) (0.2.5)\n",
            "Requirement already satisfied: cachetools<5.0,>=2.0.0 in /usr/local/lib/python3.6/dist-packages (from google-auth<2,>=1.6.3->tensorboard<3,>=2.3.0->tensorflow->nlpia) (4.1.1)\n",
            "Requirement already satisfied: rsa<5,>=3.1.4; python_version >= \"3\" in /usr/local/lib/python3.6/dist-packages (from google-auth<2,>=1.6.3->tensorboard<3,>=2.3.0->tensorflow->nlpia) (4.6)\n",
            "Requirement already satisfied: pyasn1-modules>=0.2.1 in /usr/local/lib/python3.6/dist-packages (from google-auth<2,>=1.6.3->tensorboard<3,>=2.3.0->tensorflow->nlpia) (0.2.8)\n",
            "Requirement already satisfied: requests-oauthlib>=0.7.0 in /usr/local/lib/python3.6/dist-packages (from google-auth-oauthlib<0.5,>=0.4.1->tensorboard<3,>=2.3.0->tensorflow->nlpia) (1.3.0)\n",
            "Requirement already satisfied: pyasn1>=0.1.3 in /usr/local/lib/python3.6/dist-packages (from rsa<5,>=3.1.4; python_version >= \"3\"->google-auth<2,>=1.6.3->tensorboard<3,>=2.3.0->tensorflow->nlpia) (0.4.8)\n",
            "Requirement already satisfied: oauthlib>=3.0.0 in /usr/local/lib/python3.6/dist-packages (from requests-oauthlib>=0.7.0->google-auth-oauthlib<0.5,>=0.4.1->tensorboard<3,>=2.3.0->tensorflow->nlpia) (3.1.0)\n",
            "Building wheels for collected packages: python-Levenshtein, pypandoc\n",
            "  Building wheel for python-Levenshtein (setup.py) ... \u001b[?25l\u001b[?25hdone\n",
            "  Created wheel for python-Levenshtein: filename=python_Levenshtein-0.12.0-cp36-cp36m-linux_x86_64.whl size=144792 sha256=092c4cceee39cbcc7f97c302aed0d0e5b792f9fe76e4960781b7b852c93f5b01\n",
            "  Stored in directory: /root/.cache/pip/wheels/de/c2/93/660fd5f7559049268ad2dc6d81c4e39e9e36518766eaf7e342\n",
            "  Building wheel for pypandoc (setup.py) ... \u001b[?25l\u001b[?25hdone\n",
            "  Created wheel for pypandoc: filename=pypandoc-1.5-cp36-none-any.whl size=17038 sha256=ebb492cba3230a1971a27cea61fbdb73a2b58a5d7a865fceadad4e42bbab974b\n",
            "  Stored in directory: /root/.cache/pip/wheels/bb/7d/d6/2f9af55e800d37e42e546106bcbd36a86e24e725e303d17e04\n",
            "Successfully built python-Levenshtein pypandoc\n",
            "Installing collected packages: fuzzywuzzy, pypandoc, python-Levenshtein, pugnlp, html2text, nlpia\n",
            "Successfully installed fuzzywuzzy-0.18.0 html2text-2020.1.16 nlpia-0.5.2 pugnlp-0.2.6 pypandoc-1.5 python-Levenshtein-0.12.0\n"
          ],
          "name": "stdout"
        }
      ]
    },
    {
      "cell_type": "code",
      "metadata": {
        "id": "8cu0wEbgN2av",
        "outputId": "11df15a5-7ca9-422a-b9f9-df829ebaf591",
        "colab": {
          "base_uri": "https://localhost:8080/"
        }
      },
      "source": [
        "from nlpia.data.loaders import kite_text, kite_history"
      ],
      "execution_count": null,
      "outputs": [
        {
          "output_type": "stream",
          "text": [
            "/usr/local/lib/python3.6/dist-packages/pugnlp/constants.py:158: FutureWarning: The pandas.datetime class is deprecated and will be removed from pandas in a future version. Import from datetime instead.\n",
            "  MIN_TIMESTAMP = pd.Timestamp(pd.datetime(1677, 9, 22, 0, 12, 44), tz='utc')\n"
          ],
          "name": "stderr"
        }
      ]
    },
    {
      "cell_type": "code",
      "metadata": {
        "id": "YlSEx96XNwYk"
      },
      "source": [
        "kite_intro = kite_text.lower()"
      ],
      "execution_count": null,
      "outputs": []
    },
    {
      "cell_type": "code",
      "metadata": {
        "id": "IXPql2iaPfiN"
      },
      "source": [
        "from nltk.tokenize import TreebankWordTokenizer\n"
      ],
      "execution_count": null,
      "outputs": []
    },
    {
      "cell_type": "code",
      "metadata": {
        "id": "MGkDVOB-PsFW"
      },
      "source": [
        "tokenizer = TreebankWordTokenizer()"
      ],
      "execution_count": null,
      "outputs": []
    },
    {
      "cell_type": "code",
      "metadata": {
        "id": "gkQk_Ms5Ot15"
      },
      "source": [
        "intro_tokens = tokenizer.tokenize(kite_intro)"
      ],
      "execution_count": null,
      "outputs": []
    },
    {
      "cell_type": "code",
      "metadata": {
        "id": "zqsiT_cGO1CJ"
      },
      "source": [
        "kite_history = kite_history.lower()"
      ],
      "execution_count": null,
      "outputs": []
    },
    {
      "cell_type": "code",
      "metadata": {
        "id": "gkE77pOoP-X2"
      },
      "source": [
        "history_tokens = tokenizer.tokenize(kite_history)"
      ],
      "execution_count": null,
      "outputs": []
    },
    {
      "cell_type": "code",
      "metadata": {
        "id": "8ziDGWocQHqG"
      },
      "source": [
        "intro_total = len(intro_tokens)"
      ],
      "execution_count": null,
      "outputs": []
    },
    {
      "cell_type": "code",
      "metadata": {
        "id": "6S8OBt28Qjfl",
        "outputId": "add2d6d2-ec9d-44ea-e7e6-eab2f8c4e597",
        "colab": {
          "base_uri": "https://localhost:8080/"
        }
      },
      "source": [
        "intro_total"
      ],
      "execution_count": null,
      "outputs": [
        {
          "output_type": "execute_result",
          "data": {
            "text/plain": [
              "363"
            ]
          },
          "metadata": {
            "tags": []
          },
          "execution_count": 10
        }
      ]
    },
    {
      "cell_type": "code",
      "metadata": {
        "id": "NX7jhjAhQl4V"
      },
      "source": [
        "history_total = len(history_tokens)"
      ],
      "execution_count": null,
      "outputs": []
    },
    {
      "cell_type": "code",
      "metadata": {
        "id": "Evni8ns-Qpg7",
        "outputId": "40366778-0204-4c44-da14-a2c90b84b570",
        "colab": {
          "base_uri": "https://localhost:8080/"
        }
      },
      "source": [
        "history_total"
      ],
      "execution_count": null,
      "outputs": [
        {
          "output_type": "execute_result",
          "data": {
            "text/plain": [
              "297"
            ]
          },
          "metadata": {
            "tags": []
          },
          "execution_count": 12
        }
      ]
    },
    {
      "cell_type": "code",
      "metadata": {
        "id": "Edt_MZmXQseF"
      },
      "source": [
        "intro_tf = {}"
      ],
      "execution_count": null,
      "outputs": []
    },
    {
      "cell_type": "code",
      "metadata": {
        "id": "-Dd2P5QT57UD"
      },
      "source": [
        "history_tf = {}"
      ],
      "execution_count": null,
      "outputs": []
    },
    {
      "cell_type": "code",
      "metadata": {
        "id": "Z8LIgoaH_MMs"
      },
      "source": [
        "from collections import Counter"
      ],
      "execution_count": null,
      "outputs": []
    },
    {
      "cell_type": "code",
      "metadata": {
        "id": "AJlkfXK858ky"
      },
      "source": [
        "intro_counts = Counter(intro_tokens)"
      ],
      "execution_count": null,
      "outputs": []
    },
    {
      "cell_type": "code",
      "metadata": {
        "id": "zzzFFLlG_E2e"
      },
      "source": [
        "intro_tf['kite'] = intro_counts['kite'] / intro_total"
      ],
      "execution_count": null,
      "outputs": []
    },
    {
      "cell_type": "code",
      "metadata": {
        "id": "pSG4gLy5_nDY",
        "outputId": "fafa886b-5023-45a6-cbd3-8a63b39d5738",
        "colab": {
          "base_uri": "https://localhost:8080/"
        }
      },
      "source": [
        "print('Term frequency of \"kite\" in intro is {:4f}'.format(intro_tf['kite']))"
      ],
      "execution_count": null,
      "outputs": [
        {
          "output_type": "stream",
          "text": [
            "Term frequency of \"kite\" in intro is 0.044077\n"
          ],
          "name": "stdout"
        }
      ]
    },
    {
      "cell_type": "code",
      "metadata": {
        "id": "UaBMtfjqKCga"
      },
      "source": [
        "history_counts = Counter(history_tokens)"
      ],
      "execution_count": null,
      "outputs": []
    },
    {
      "cell_type": "code",
      "metadata": {
        "id": "1TKEucNIMKlL"
      },
      "source": [
        "history_tf['kite'] = history_counts['kite']/history_total"
      ],
      "execution_count": null,
      "outputs": []
    },
    {
      "cell_type": "code",
      "metadata": {
        "id": "LniRsCoAMbQk",
        "outputId": "52d01b9b-fde2-4a51-a292-cca82e147c0d",
        "colab": {
          "base_uri": "https://localhost:8080/"
        }
      },
      "source": [
        "print('Term frequency of \"kite\" in history is {:4f}'.format(history_tf['kite']))"
      ],
      "execution_count": null,
      "outputs": [
        {
          "output_type": "stream",
          "text": [
            "Term frequency of \"kite\" in history is 0.020202\n"
          ],
          "name": "stdout"
        }
      ]
    },
    {
      "cell_type": "code",
      "metadata": {
        "id": "mzrDA_PzNac5"
      },
      "source": [
        "intro_tf['and'] = intro_counts['and'] / intro_total"
      ],
      "execution_count": null,
      "outputs": []
    },
    {
      "cell_type": "code",
      "metadata": {
        "id": "FAZNB2xeOrAz"
      },
      "source": [
        "history_tf['and'] = history_counts['and'] / history_total"
      ],
      "execution_count": null,
      "outputs": []
    },
    {
      "cell_type": "code",
      "metadata": {
        "id": "k98zY1HVZZX_",
        "outputId": "2d783d93-f355-41c5-816d-4ed1d8af1993",
        "colab": {
          "base_uri": "https://localhost:8080/"
        }
      },
      "source": [
        "print('Term Frequency of \"and\" in intro as: {:.4f}'.format(intro_tf['and']))"
      ],
      "execution_count": null,
      "outputs": [
        {
          "output_type": "stream",
          "text": [
            "Term Frequency of \"and\" in intro as: 0.0275\n"
          ],
          "name": "stdout"
        }
      ]
    },
    {
      "cell_type": "code",
      "metadata": {
        "id": "7-q6qwBaZoTb",
        "outputId": "676fe315-0beb-4fb3-99dd-2a50cbb7d5fb",
        "colab": {
          "base_uri": "https://localhost:8080/"
        }
      },
      "source": [
        "print('Term Frequency of \"and\" in history as: {:.4f}'.format(history_tf['and']))"
      ],
      "execution_count": null,
      "outputs": [
        {
          "output_type": "stream",
          "text": [
            "Term Frequency of \"and\" in history as: 0.0303\n"
          ],
          "name": "stdout"
        }
      ]
    },
    {
      "cell_type": "code",
      "metadata": {
        "id": "OGs-5Zo3ZsHL"
      },
      "source": [
        "intro_tf['china'] = intro_counts['china'] / intro_total"
      ],
      "execution_count": null,
      "outputs": []
    },
    {
      "cell_type": "code",
      "metadata": {
        "id": "e-0nvTG-dBVK",
        "outputId": "2791ae9e-667e-46ad-88e3-ba3c7b3bd2bd",
        "colab": {
          "base_uri": "https://localhost:8080/"
        }
      },
      "source": [
        "print('Term Frequency of \"China\" in intro as: {:.4f}'.format(intro_tf['china']))"
      ],
      "execution_count": null,
      "outputs": [
        {
          "output_type": "stream",
          "text": [
            "Term Frequency of \"China\" in intro as: 0.0000\n"
          ],
          "name": "stdout"
        }
      ]
    },
    {
      "cell_type": "code",
      "metadata": {
        "id": "gDU7lFOoc5dL"
      },
      "source": [
        "history_tf['china'] = history_counts['china'] / history_total"
      ],
      "execution_count": null,
      "outputs": []
    },
    {
      "cell_type": "code",
      "metadata": {
        "id": "wuU_u2sVdSOu",
        "outputId": "23701262-a029-4a8d-ec42-45b2474b5d28",
        "colab": {
          "base_uri": "https://localhost:8080/"
        }
      },
      "source": [
        "print('Term Frequency of \"China\" in history as: {:.4f}'.format(history_tf['china']))"
      ],
      "execution_count": null,
      "outputs": [
        {
          "output_type": "stream",
          "text": [
            "Term Frequency of \"China\" in history as: 0.0101\n"
          ],
          "name": "stdout"
        }
      ]
    },
    {
      "cell_type": "code",
      "metadata": {
        "id": "rNMBPGsadbAU"
      },
      "source": [
        "num_docs_containing_kite = 0"
      ],
      "execution_count": null,
      "outputs": []
    },
    {
      "cell_type": "code",
      "metadata": {
        "id": "yA4k7Ik2dbF9"
      },
      "source": [
        "for doc in [intro_tokens, history_tokens]:\n",
        "  if 'kite' in doc:\n",
        "    num_docs_containing_kite += 1"
      ],
      "execution_count": null,
      "outputs": []
    },
    {
      "cell_type": "code",
      "metadata": {
        "id": "o1FVAedj-SPZ",
        "outputId": "e9b59cfa-d8c6-45e0-f449-8fc7c8da6682",
        "colab": {
          "base_uri": "https://localhost:8080/"
        }
      },
      "source": [
        "num_docs_containing_kite"
      ],
      "execution_count": null,
      "outputs": [
        {
          "output_type": "execute_result",
          "data": {
            "text/plain": [
              "2"
            ]
          },
          "metadata": {
            "tags": []
          },
          "execution_count": 73
        }
      ]
    },
    {
      "cell_type": "code",
      "metadata": {
        "id": "agpNKosW-zMv",
        "outputId": "10f3f675-bca6-4a88-c1bb-7509615a0758",
        "colab": {
          "base_uri": "https://localhost:8080/"
        }
      },
      "source": [
        "for doc in [intro_tokens]:\n",
        "  if 'kite' in doc:\n",
        "    print('kite')"
      ],
      "execution_count": null,
      "outputs": [
        {
          "output_type": "stream",
          "text": [
            "kite\n"
          ],
          "name": "stdout"
        }
      ]
    },
    {
      "cell_type": "code",
      "metadata": {
        "id": "YefaeVDtdbLR"
      },
      "source": [
        "num_docs_containing_and = 0\n",
        "for doc in [intro_tokens, history_tokens]:\n",
        "  if 'and' in doc:\n",
        "    num_docs_containing_and += 1"
      ],
      "execution_count": null,
      "outputs": []
    },
    {
      "cell_type": "code",
      "metadata": {
        "id": "213iGXIN_1oR",
        "outputId": "22080448-1bfd-4e13-cf17-5dcbdb879300",
        "colab": {
          "base_uri": "https://localhost:8080/"
        }
      },
      "source": [
        "num_of_docs_containing_and"
      ],
      "execution_count": null,
      "outputs": [
        {
          "output_type": "execute_result",
          "data": {
            "text/plain": [
              "2"
            ]
          },
          "metadata": {
            "tags": []
          },
          "execution_count": 69
        }
      ]
    },
    {
      "cell_type": "code",
      "metadata": {
        "id": "uJAQg7J8dbVq"
      },
      "source": [
        "num_docs_containing_china = 0\n",
        "for doc in [intro_tokens, history_tokens]:\n",
        "  if 'china' in doc:\n",
        "    num_docs_containing_china += 1"
      ],
      "execution_count": null,
      "outputs": []
    },
    {
      "cell_type": "code",
      "metadata": {
        "id": "V5IXuW2Q_5oJ",
        "outputId": "1df127aa-cb6a-4192-c60d-86dc7c55d2a0",
        "colab": {
          "base_uri": "https://localhost:8080/"
        }
      },
      "source": [
        "num_docs_containing_china"
      ],
      "execution_count": null,
      "outputs": [
        {
          "output_type": "execute_result",
          "data": {
            "text/plain": [
              "1"
            ]
          },
          "metadata": {
            "tags": []
          },
          "execution_count": 67
        }
      ]
    },
    {
      "cell_type": "code",
      "metadata": {
        "id": "xx87gsfubjPL",
        "outputId": "58e650e3-b33d-43ee-c998-ff3eca4f5ef2",
        "colab": {
          "base_uri": "https://localhost:8080/"
        }
      },
      "source": [
        "intro_counts['kite']"
      ],
      "execution_count": null,
      "outputs": [
        {
          "output_type": "execute_result",
          "data": {
            "text/plain": [
              "16"
            ]
          },
          "metadata": {
            "tags": []
          },
          "execution_count": 37
        }
      ]
    },
    {
      "cell_type": "code",
      "metadata": {
        "id": "k2P0pfErbmOX",
        "outputId": "dc74e62f-f20b-45cf-c4f3-d9325135c287",
        "colab": {
          "base_uri": "https://localhost:8080/"
        }
      },
      "source": [
        "history_counts['kite']"
      ],
      "execution_count": null,
      "outputs": [
        {
          "output_type": "execute_result",
          "data": {
            "text/plain": [
              "6"
            ]
          },
          "metadata": {
            "tags": []
          },
          "execution_count": 38
        }
      ]
    },
    {
      "cell_type": "code",
      "metadata": {
        "id": "YBUqkFH4bpgH"
      },
      "source": [
        "num_docs = 2"
      ],
      "execution_count": null,
      "outputs": []
    },
    {
      "cell_type": "code",
      "metadata": {
        "id": "S1brji9fb8C6"
      },
      "source": [
        "intro_idf = {}"
      ],
      "execution_count": null,
      "outputs": []
    },
    {
      "cell_type": "code",
      "metadata": {
        "id": "kUDmtX5sb-vG"
      },
      "source": [
        "history_idf = {}"
      ],
      "execution_count": null,
      "outputs": []
    },
    {
      "cell_type": "code",
      "metadata": {
        "id": "qZLKbeodcASG"
      },
      "source": [
        "intro_idf['kite'] = num_docs/num_docs_containing_kite\n",
        "history_idf['kite'] = num_docs/num_docs_containing_kite"
      ],
      "execution_count": null,
      "outputs": []
    },
    {
      "cell_type": "code",
      "metadata": {
        "id": "R1xYDYvV98bj",
        "outputId": "e6eaf49d-6f3c-4c67-a7b9-c29d7c8f9484",
        "colab": {
          "base_uri": "https://localhost:8080/"
        }
      },
      "source": [
        "intro_idf['kite']"
      ],
      "execution_count": null,
      "outputs": [
        {
          "output_type": "execute_result",
          "data": {
            "text/plain": [
              "1.0"
            ]
          },
          "metadata": {
            "tags": []
          },
          "execution_count": 91
        }
      ]
    },
    {
      "cell_type": "code",
      "metadata": {
        "id": "2YJEwtwYEwcR",
        "outputId": "7e300c02-febc-4ed5-feff-359e68b7c31c",
        "colab": {
          "base_uri": "https://localhost:8080/"
        }
      },
      "source": [
        "history_idf['kite']"
      ],
      "execution_count": null,
      "outputs": [
        {
          "output_type": "execute_result",
          "data": {
            "text/plain": [
              "1.0"
            ]
          },
          "metadata": {
            "tags": []
          },
          "execution_count": 92
        }
      ]
    },
    {
      "cell_type": "code",
      "metadata": {
        "id": "DivnkAp2Ak94"
      },
      "source": [
        "intro_idf['and'] = num_docs/num_docs_containing_and\n",
        "history_idf['and'] = num_docs/num_docs_containing_and"
      ],
      "execution_count": null,
      "outputs": []
    },
    {
      "cell_type": "code",
      "metadata": {
        "id": "q7ISWfbPBEhp",
        "outputId": "2f43d315-42c0-4ab6-8006-33d491d97b2b",
        "colab": {
          "base_uri": "https://localhost:8080/"
        }
      },
      "source": [
        "intro_idf['and']"
      ],
      "execution_count": null,
      "outputs": [
        {
          "output_type": "execute_result",
          "data": {
            "text/plain": [
              "1.0"
            ]
          },
          "metadata": {
            "tags": []
          },
          "execution_count": 94
        }
      ]
    },
    {
      "cell_type": "code",
      "metadata": {
        "id": "prUarfqtE4Fy",
        "outputId": "bdbf36cc-6dc8-4db7-a768-5e489b3ff5b6",
        "colab": {
          "base_uri": "https://localhost:8080/"
        }
      },
      "source": [
        "history_idf['and']"
      ],
      "execution_count": null,
      "outputs": [
        {
          "output_type": "execute_result",
          "data": {
            "text/plain": [
              "1.0"
            ]
          },
          "metadata": {
            "tags": []
          },
          "execution_count": 95
        }
      ]
    },
    {
      "cell_type": "code",
      "metadata": {
        "id": "fg8JPyAvBHL2"
      },
      "source": [
        "intro_idf['china'] = num_docs/num_docs_containing_china\n",
        "history_idf['china'] = num_docs/num_docs_containing_china"
      ],
      "execution_count": null,
      "outputs": []
    },
    {
      "cell_type": "code",
      "metadata": {
        "id": "D70JmxWIFEQC",
        "outputId": "372b396b-b53e-4c04-ab85-0e9e90be9b37",
        "colab": {
          "base_uri": "https://localhost:8080/"
        }
      },
      "source": [
        "intro_idf['china']"
      ],
      "execution_count": null,
      "outputs": [
        {
          "output_type": "execute_result",
          "data": {
            "text/plain": [
              "2.0"
            ]
          },
          "metadata": {
            "tags": []
          },
          "execution_count": 97
        }
      ]
    },
    {
      "cell_type": "code",
      "metadata": {
        "id": "a0kzw4jBFEWA",
        "outputId": "02fbc31c-be42-4cb2-c71e-0aa2e343f962",
        "colab": {
          "base_uri": "https://localhost:8080/"
        }
      },
      "source": [
        "history_idf['china']"
      ],
      "execution_count": null,
      "outputs": [
        {
          "output_type": "execute_result",
          "data": {
            "text/plain": [
              "2.0"
            ]
          },
          "metadata": {
            "tags": []
          },
          "execution_count": 98
        }
      ]
    },
    {
      "cell_type": "code",
      "metadata": {
        "id": "0R11f0vyBNMW",
        "outputId": "f10e54a5-8155-47a6-86b2-19d25d31ef0d",
        "colab": {
          "base_uri": "https://localhost:8080/"
        }
      },
      "source": [
        "intro_tfidf = {}\n",
        "intro_tfidf['kite'] = intro_tf['kite'] * intro_idf['kite']\n",
        "intro_tfidf['and'] = intro_tf['and'] * intro_idf['and']\n",
        "intro_tfidf['china'] = intro_tf['china'] * intro_idf['china']\n",
        "intro_tfidf"
      ],
      "execution_count": null,
      "outputs": [
        {
          "output_type": "execute_result",
          "data": {
            "text/plain": [
              "{'and': 0.027548209366391185, 'china': 0.0, 'kite': 0.0440771349862259}"
            ]
          },
          "metadata": {
            "tags": []
          },
          "execution_count": 100
        }
      ]
    },
    {
      "cell_type": "code",
      "metadata": {
        "id": "uteKXOhCBVmm",
        "outputId": "ad7b33ca-716b-4257-acd4-481a93808566",
        "colab": {
          "base_uri": "https://localhost:8080/"
        }
      },
      "source": [
        "history_tfidf = {}\n",
        "history_tfidf['kite'] = history_tf['kite'] * history_idf['kite']\n",
        "history_tfidf['and'] = history_tf['and'] * history_idf['and']\n",
        "history_tfidf['china'] = history_tf['china'] * history_idf['china']\n",
        "history_tfidf"
      ],
      "execution_count": null,
      "outputs": [
        {
          "output_type": "execute_result",
          "data": {
            "text/plain": [
              "{'and': 0.030303030303030304,\n",
              " 'china': 0.020202020202020204,\n",
              " 'kite': 0.020202020202020204}"
            ]
          },
          "metadata": {
            "tags": []
          },
          "execution_count": 99
        }
      ]
    },
    {
      "cell_type": "code",
      "metadata": {
        "id": "ckbreEr0BX57",
        "outputId": "73de0ee8-da65-45a4-9c0a-3497d1a0ea9f",
        "colab": {
          "base_uri": "https://localhost:8080/"
        }
      },
      "source": [
        "history_tf['kite']"
      ],
      "execution_count": null,
      "outputs": [
        {
          "output_type": "execute_result",
          "data": {
            "text/plain": [
              "0.020202020202020204"
            ]
          },
          "metadata": {
            "tags": []
          },
          "execution_count": 84
        }
      ]
    },
    {
      "cell_type": "code",
      "metadata": {
        "id": "ViliaNFaEMWi",
        "outputId": "e4102528-4082-4e1a-fc62-89de883d08c5",
        "colab": {
          "base_uri": "https://localhost:8080/"
        }
      },
      "source": [
        "history_idf"
      ],
      "execution_count": null,
      "outputs": [
        {
          "output_type": "execute_result",
          "data": {
            "text/plain": [
              "{}"
            ]
          },
          "metadata": {
            "tags": []
          },
          "execution_count": 86
        }
      ]
    },
    {
      "cell_type": "code",
      "metadata": {
        "id": "ofmM1CMhEOvQ"
      },
      "source": [
        ""
      ],
      "execution_count": null,
      "outputs": []
    },
    {
      "cell_type": "markdown",
      "metadata": {
        "id": "91avuMp9S1c0"
      },
      "source": [
        "# **Relevance Ranking**"
      ]
    },
    {
      "cell_type": "code",
      "metadata": {
        "id": "oBwLCvF8S4bv"
      },
      "source": [
        "from nltk.tokenize import TreebankWordTokenizer"
      ],
      "execution_count": 24,
      "outputs": []
    },
    {
      "cell_type": "code",
      "metadata": {
        "id": "SF22Ol3iTCpr",
        "outputId": "7f9dfcc3-31f2-4127-b890-7f5879921e93",
        "colab": {
          "base_uri": "https://localhost:8080/"
        }
      },
      "source": [
        "sentence = \"The faster Harry got to the store, the faster Harry, the faster, would get home.\"\n",
        "tokenizer = TreebankWordTokenizer()\n",
        "token_sequence = tokenizer.tokenize(sentence.lower())\n",
        "print(token_sequence)"
      ],
      "execution_count": 25,
      "outputs": [
        {
          "output_type": "stream",
          "text": [
            "['the', 'faster', 'harry', 'got', 'to', 'the', 'store', ',', 'the', 'faster', 'harry', ',', 'the', 'faster', ',', 'would', 'get', 'home', '.']\n"
          ],
          "name": "stdout"
        }
      ]
    },
    {
      "cell_type": "code",
      "metadata": {
        "id": "VY1TByj7TV1m",
        "outputId": "bc01b97f-be9e-4295-9870-d5918cdd466d",
        "colab": {
          "base_uri": "https://localhost:8080/"
        }
      },
      "source": [
        "from collections import Counter\n",
        "bag_of_words = Counter(token_sequence)\n",
        "print(bag_of_words)"
      ],
      "execution_count": 26,
      "outputs": [
        {
          "output_type": "stream",
          "text": [
            "Counter({'the': 4, 'faster': 3, ',': 3, 'harry': 2, 'got': 1, 'to': 1, 'store': 1, 'would': 1, 'get': 1, 'home': 1, '.': 1})\n"
          ],
          "name": "stdout"
        }
      ]
    },
    {
      "cell_type": "code",
      "metadata": {
        "id": "SCoExz-2TbzG"
      },
      "source": [
        "word_list = bag_of_words.most_common()"
      ],
      "execution_count": 27,
      "outputs": []
    },
    {
      "cell_type": "code",
      "metadata": {
        "id": "h2rS3fzWTj9f",
        "outputId": "3ab6c12d-42fb-455e-c3c9-f2986ec2d50c",
        "colab": {
          "base_uri": "https://localhost:8080/"
        }
      },
      "source": [
        "print(word_list)"
      ],
      "execution_count": 28,
      "outputs": [
        {
          "output_type": "stream",
          "text": [
            "[('the', 4), ('faster', 3), (',', 3), ('harry', 2), ('got', 1), ('to', 1), ('store', 1), ('would', 1), ('get', 1), ('home', 1), ('.', 1)]\n"
          ],
          "name": "stdout"
        }
      ]
    },
    {
      "cell_type": "code",
      "metadata": {
        "id": "X_JNcx9LTo3G"
      },
      "source": [
        "times_harry_appears = bag_of_words['harry']"
      ],
      "execution_count": 29,
      "outputs": []
    },
    {
      "cell_type": "code",
      "metadata": {
        "id": "PjLqQziET7U2",
        "outputId": "4b5410a9-2ab6-44a4-af69-9472ed126eb2",
        "colab": {
          "base_uri": "https://localhost:8080/"
        }
      },
      "source": [
        "times_harry_appears"
      ],
      "execution_count": 30,
      "outputs": [
        {
          "output_type": "execute_result",
          "data": {
            "text/plain": [
              "2"
            ]
          },
          "metadata": {
            "tags": []
          },
          "execution_count": 30
        }
      ]
    },
    {
      "cell_type": "code",
      "metadata": {
        "id": "eXmcEhilUC2F"
      },
      "source": [
        "total_words = len(word_list)"
      ],
      "execution_count": 31,
      "outputs": []
    },
    {
      "cell_type": "code",
      "metadata": {
        "id": "l05aBomAVYZD",
        "outputId": "503c291b-2a71-4dda-c3bd-02a12b0a0e86",
        "colab": {
          "base_uri": "https://localhost:8080/"
        }
      },
      "source": [
        "total_words"
      ],
      "execution_count": 32,
      "outputs": [
        {
          "output_type": "execute_result",
          "data": {
            "text/plain": [
              "11"
            ]
          },
          "metadata": {
            "tags": []
          },
          "execution_count": 32
        }
      ]
    },
    {
      "cell_type": "code",
      "metadata": {
        "id": "rcqboDH4Veti",
        "outputId": "093b7f82-c843-4bd5-d87c-57eaedb985a1",
        "colab": {
          "base_uri": "https://localhost:8080/"
        }
      },
      "source": [
        "tf = times_harry_appears/total_words\n",
        "print(tf)"
      ],
      "execution_count": 33,
      "outputs": [
        {
          "output_type": "stream",
          "text": [
            "0.18181818181818182\n"
          ],
          "name": "stdout"
        }
      ]
    },
    {
      "cell_type": "code",
      "metadata": {
        "id": "33g6WB4tVohS"
      },
      "source": [
        "doc_0 = \"The faster Harry got to the store, the faster Harry, the faster, would get home.\"\n",
        "doc_1 = \"Harry is hairy and faster than Jill.\"\n",
        "doc_2 = \"Jill is not as hairy as Harry.\""
      ],
      "execution_count": 34,
      "outputs": []
    },
    {
      "cell_type": "code",
      "metadata": {
        "id": "NcF8at8WVzNj",
        "outputId": "770d05d4-4c18-4662-ad06-3613907decaf",
        "colab": {
          "base_uri": "https://localhost:8080/"
        }
      },
      "source": [
        "tokens_0 = tokenizer.tokenize(doc_0.lower())\n",
        "tokens_1 = tokenizer.tokenize(doc_1.lower())\n",
        "tokens_2 = tokenizer.tokenize(doc_2.lower())\n",
        "lexicon = set(tokens_0 + tokens_1 + tokens_2)\n",
        "\n",
        "print(lexicon)"
      ],
      "execution_count": 35,
      "outputs": [
        {
          "output_type": "stream",
          "text": [
            "{'jill', 'would', 'get', ',', 'than', 'got', 'faster', '.', 'hairy', 'not', 'as', 'home', 'store', 'to', 'and', 'the', 'is', 'harry'}\n"
          ],
          "name": "stdout"
        }
      ]
    },
    {
      "cell_type": "code",
      "metadata": {
        "id": "sXzCCweuWV3x",
        "outputId": "4dd53989-f3d8-44e4-a039-14ddba988677",
        "colab": {
          "base_uri": "https://localhost:8080/"
        }
      },
      "source": [
        "print(len(lexicon))"
      ],
      "execution_count": 36,
      "outputs": [
        {
          "output_type": "stream",
          "text": [
            "18\n"
          ],
          "name": "stdout"
        }
      ]
    },
    {
      "cell_type": "code",
      "metadata": {
        "id": "wpLMNKA4WZei"
      },
      "source": [
        "from collections import OrderedDict"
      ],
      "execution_count": 37,
      "outputs": []
    },
    {
      "cell_type": "code",
      "metadata": {
        "id": "5cJMkAVhW2mx",
        "outputId": "a7bf45bd-242c-42e7-8fa3-01a243e11387",
        "colab": {
          "base_uri": "https://localhost:8080/"
        }
      },
      "source": [
        "zero_vector = OrderedDict((token, 0) for token in lexicon)\n",
        "print(zero_vector)"
      ],
      "execution_count": 38,
      "outputs": [
        {
          "output_type": "stream",
          "text": [
            "OrderedDict([('jill', 0), ('would', 0), ('get', 0), (',', 0), ('than', 0), ('got', 0), ('faster', 0), ('.', 0), ('hairy', 0), ('not', 0), ('as', 0), ('home', 0), ('store', 0), ('to', 0), ('and', 0), ('the', 0), ('is', 0), ('harry', 0)])\n"
          ],
          "name": "stdout"
        }
      ]
    },
    {
      "cell_type": "code",
      "metadata": {
        "id": "R7_X7-d9YHda"
      },
      "source": [
        "import copy\n",
        "\n",
        "document_tfidf_vectors = []\n",
        "docs = [doc_0, doc_1, doc_2]\n",
        "for doc in docs:\n",
        "  vec = copy.copy(zero_vector)\n",
        "  tokens = tokenizer.tokenize(doc.lower())\n",
        "  token_counts = Counter(tokens)\n",
        "\n",
        "  for key, value in token_counts.items():\n",
        "    docs_containing_key = 0\n",
        "    for _doc in docs:\n",
        "      if key in _doc:\n",
        "        docs_containing_key = docs_containing_key + 1\n",
        "    tf = value/ len(lexicon)\n",
        "    if docs_containing_key:\n",
        "      idf = len(docs) / docs_containing_key\n",
        "    else:\n",
        "      idf = 0\n",
        "    vec[key] = tf * idf \n",
        "  document_tfidf_vectors.append(vec)"
      ],
      "execution_count": 39,
      "outputs": []
    },
    {
      "cell_type": "code",
      "metadata": {
        "id": "5wlASLZ2ZBR8",
        "outputId": "18fce7db-58f2-4465-abd5-f0c02330d3be",
        "colab": {
          "base_uri": "https://localhost:8080/"
        }
      },
      "source": [
        "document_tfidf_vectors"
      ],
      "execution_count": 40,
      "outputs": [
        {
          "output_type": "execute_result",
          "data": {
            "text/plain": [
              "[OrderedDict([('jill', 0),\n",
              "              ('would', 0.16666666666666666),\n",
              "              ('get', 0.16666666666666666),\n",
              "              (',', 0.5),\n",
              "              ('than', 0),\n",
              "              ('got', 0.16666666666666666),\n",
              "              ('faster', 0.25),\n",
              "              ('.', 0.05555555555555555),\n",
              "              ('hairy', 0),\n",
              "              ('not', 0),\n",
              "              ('as', 0),\n",
              "              ('home', 0.16666666666666666),\n",
              "              ('store', 0.16666666666666666),\n",
              "              ('to', 0.16666666666666666),\n",
              "              ('and', 0),\n",
              "              ('the', 0.6666666666666666),\n",
              "              ('is', 0),\n",
              "              ('harry', 0.0)]),\n",
              " OrderedDict([('jill', 0.0),\n",
              "              ('would', 0),\n",
              "              ('get', 0),\n",
              "              (',', 0),\n",
              "              ('than', 0.16666666666666666),\n",
              "              ('got', 0),\n",
              "              ('faster', 0.08333333333333333),\n",
              "              ('.', 0.05555555555555555),\n",
              "              ('hairy', 0.08333333333333333),\n",
              "              ('not', 0),\n",
              "              ('as', 0),\n",
              "              ('home', 0),\n",
              "              ('store', 0),\n",
              "              ('to', 0),\n",
              "              ('and', 0.16666666666666666),\n",
              "              ('the', 0),\n",
              "              ('is', 0.08333333333333333),\n",
              "              ('harry', 0.0)]),\n",
              " OrderedDict([('jill', 0.0),\n",
              "              ('would', 0),\n",
              "              ('get', 0),\n",
              "              (',', 0),\n",
              "              ('than', 0),\n",
              "              ('got', 0),\n",
              "              ('faster', 0),\n",
              "              ('.', 0.05555555555555555),\n",
              "              ('hairy', 0.08333333333333333),\n",
              "              ('not', 0.16666666666666666),\n",
              "              ('as', 0.1111111111111111),\n",
              "              ('home', 0),\n",
              "              ('store', 0),\n",
              "              ('to', 0),\n",
              "              ('and', 0),\n",
              "              ('the', 0),\n",
              "              ('is', 0.08333333333333333),\n",
              "              ('harry', 0.0)])]"
            ]
          },
          "metadata": {
            "tags": []
          },
          "execution_count": 40
        }
      ]
    },
    {
      "cell_type": "code",
      "metadata": {
        "id": "rd5YLMtZ9eZS"
      },
      "source": [
        "query = \"How long does it take to get to the store?\"\n",
        "query_vec = copy.copy(zero_vector)\n"
      ],
      "execution_count": 46,
      "outputs": []
    },
    {
      "cell_type": "code",
      "metadata": {
        "id": "WaWTVFoYtGgF"
      },
      "source": [
        "import math\n",
        "\n",
        "def cosine_sim(vec1, vec2):\n",
        "\n",
        "  '''\n",
        "     Since vectors are dictionaries, lets convert them to lists for easier math.\n",
        "\n",
        "  '''\n",
        "\n",
        "  vec1 = [val for val in vec1.values()]\n",
        "  vec2 = [val for val in vec2.values()]\n",
        "\n",
        "  dot_prod = 0\n",
        "\n",
        "  for i, v in enumerate(vec1):\n",
        "    dot_prod = dot_prod + (v * vec2[i])\n",
        "  \n",
        "  mag_1 = math.sqrt(sum([x**2 for x in vec1]))\n",
        "  mag_2 = math.sqrt(sum([x**2 for x in vec2]))\n",
        "\n",
        "  return dot_prod / (mag_1 * mag_2)\n",
        "\n",
        "\n",
        "\n"
      ],
      "execution_count": 43,
      "outputs": []
    },
    {
      "cell_type": "code",
      "metadata": {
        "id": "TCkV2X3BqTJP"
      },
      "source": [
        "tokens = tokenizer.tokenize(query.lower())\n",
        "token_counts = Counter(tokens)\n",
        "\n",
        "for key, value in token_counts.items():\n",
        "  docs_containing_key = 0\n",
        "  for _doc in docs:\n",
        "    if key in _doc.lower():\n",
        "      docs_containing_key = docs_containing_key + 1\n",
        "  if docs_containing_key == 0:\n",
        "    continue\n",
        "  tf = value / len(tokens)\n",
        "  idf = len(docs) / docs_containing_key\n",
        "  query_vec[key] = tf * idf \n",
        "\n"
      ],
      "execution_count": 47,
      "outputs": []
    },
    {
      "cell_type": "code",
      "metadata": {
        "id": "NQEdxhSqvPIs",
        "outputId": "f6eb4f51-34b7-4523-a878-69362ba389dc",
        "colab": {
          "base_uri": "https://localhost:8080/"
        }
      },
      "source": [
        "print(cosine_sim(query_vec, document_tfidf_vectors[0]))"
      ],
      "execution_count": 48,
      "outputs": [
        {
          "output_type": "stream",
          "text": [
            "0.5235048549676834\n"
          ],
          "name": "stdout"
        }
      ]
    },
    {
      "cell_type": "code",
      "metadata": {
        "id": "ZdUZjGk5vgHl",
        "outputId": "b9e955e4-3d98-4adf-e65a-0055b828db0b",
        "colab": {
          "base_uri": "https://localhost:8080/"
        }
      },
      "source": [
        "print(cosine_sim(query_vec, document_tfidf_vectors[1]))"
      ],
      "execution_count": 49,
      "outputs": [
        {
          "output_type": "stream",
          "text": [
            "0.0\n"
          ],
          "name": "stdout"
        }
      ]
    },
    {
      "cell_type": "code",
      "metadata": {
        "id": "qTputG72vjMa",
        "outputId": "4a1f411b-fb0c-4334-c755-1238a4c5b8d7",
        "colab": {
          "base_uri": "https://localhost:8080/"
        }
      },
      "source": [
        "print(cosine_sim(query_vec, document_tfidf_vectors[2]))"
      ],
      "execution_count": 50,
      "outputs": [
        {
          "output_type": "stream",
          "text": [
            "0.0\n"
          ],
          "name": "stdout"
        }
      ]
    },
    {
      "cell_type": "code",
      "metadata": {
        "id": "gH9zM6LbvqqZ",
        "outputId": "003ad2a1-4693-4ffd-9a8e-6bf00ee26e22",
        "colab": {
          "base_uri": "https://localhost:8080/"
        }
      },
      "source": [
        "query_vec"
      ],
      "execution_count": 51,
      "outputs": [
        {
          "output_type": "execute_result",
          "data": {
            "text/plain": [
              "OrderedDict([('jill', 0),\n",
              "             ('would', 0),\n",
              "             ('get', 0.2727272727272727),\n",
              "             (',', 0),\n",
              "             ('than', 0),\n",
              "             ('got', 0),\n",
              "             ('faster', 0),\n",
              "             ('.', 0),\n",
              "             ('hairy', 0),\n",
              "             ('not', 0),\n",
              "             ('as', 0),\n",
              "             ('home', 0),\n",
              "             ('store', 0.2727272727272727),\n",
              "             ('to', 0.5454545454545454),\n",
              "             ('and', 0),\n",
              "             ('the', 0.2727272727272727),\n",
              "             ('is', 0),\n",
              "             ('harry', 0)])"
            ]
          },
          "metadata": {
            "tags": []
          },
          "execution_count": 51
        }
      ]
    },
    {
      "cell_type": "code",
      "metadata": {
        "id": "HjiFeTj5vkRk",
        "outputId": "42531793-77ec-4331-cae6-1b76807b4769",
        "colab": {
          "base_uri": "https://localhost:8080/"
        }
      },
      "source": [
        "document_tfidf_vectors[0]"
      ],
      "execution_count": 52,
      "outputs": [
        {
          "output_type": "execute_result",
          "data": {
            "text/plain": [
              "OrderedDict([('jill', 0),\n",
              "             ('would', 0.16666666666666666),\n",
              "             ('get', 0.16666666666666666),\n",
              "             (',', 0.5),\n",
              "             ('than', 0),\n",
              "             ('got', 0.16666666666666666),\n",
              "             ('faster', 0.25),\n",
              "             ('.', 0.05555555555555555),\n",
              "             ('hairy', 0),\n",
              "             ('not', 0),\n",
              "             ('as', 0),\n",
              "             ('home', 0.16666666666666666),\n",
              "             ('store', 0.16666666666666666),\n",
              "             ('to', 0.16666666666666666),\n",
              "             ('and', 0),\n",
              "             ('the', 0.6666666666666666),\n",
              "             ('is', 0),\n",
              "             ('harry', 0.0)])"
            ]
          },
          "metadata": {
            "tags": []
          },
          "execution_count": 52
        }
      ]
    },
    {
      "cell_type": "code",
      "metadata": {
        "id": "1BNSjSmx4Xzs",
        "outputId": "9a8b6aab-ea84-46db-c5e9-cfb5130d0c3b",
        "colab": {
          "base_uri": "https://localhost:8080/"
        }
      },
      "source": [
        "document_tfidf_vectors[1]"
      ],
      "execution_count": 57,
      "outputs": [
        {
          "output_type": "execute_result",
          "data": {
            "text/plain": [
              "OrderedDict([('jill', 0.0),\n",
              "             ('would', 0),\n",
              "             ('get', 0),\n",
              "             (',', 0),\n",
              "             ('than', 0.16666666666666666),\n",
              "             ('got', 0),\n",
              "             ('faster', 0.08333333333333333),\n",
              "             ('.', 0.05555555555555555),\n",
              "             ('hairy', 0.08333333333333333),\n",
              "             ('not', 0),\n",
              "             ('as', 0),\n",
              "             ('home', 0),\n",
              "             ('store', 0),\n",
              "             ('to', 0),\n",
              "             ('and', 0.16666666666666666),\n",
              "             ('the', 0),\n",
              "             ('is', 0.08333333333333333),\n",
              "             ('harry', 0.0)])"
            ]
          },
          "metadata": {
            "tags": []
          },
          "execution_count": 57
        }
      ]
    },
    {
      "cell_type": "code",
      "metadata": {
        "id": "89E_7cS7vsUU",
        "outputId": "a350d38c-bbfe-42d2-e4df-615887125363",
        "colab": {
          "base_uri": "https://localhost:8080/"
        }
      },
      "source": [
        "from sklearn.feature_extraction.text import TfidfVectorizer\n",
        "\n",
        "\n",
        "vectorizer = TfidfVectorizer(min_df=1)\n",
        "model = vectorizer.fit_transform(docs)\n",
        "# The model becomes a sparse numpy matrix, as in a large corpus there would be mostly zeros to deal with.  todense() brings it back to a regular numpy matrix for our viewing pleasure.\n",
        "print(model.todense().round(2))"
      ],
      "execution_count": 55,
      "outputs": [
        {
          "output_type": "stream",
          "text": [
            "[[0.   0.   0.43 0.19 0.19 0.   0.22 0.19 0.   0.   0.   0.19 0.   0.75\n",
            "  0.19 0.19]\n",
            " [0.46 0.   0.35 0.   0.   0.35 0.27 0.   0.35 0.35 0.   0.   0.46 0.\n",
            "  0.   0.  ]\n",
            " [0.   0.75 0.   0.   0.   0.29 0.22 0.   0.29 0.29 0.38 0.   0.   0.\n",
            "  0.   0.  ]]\n"
          ],
          "name": "stdout"
        }
      ]
    },
    {
      "cell_type": "code",
      "metadata": {
        "id": "OTd878Bd3d2c",
        "outputId": "b43a610a-0a0f-4641-db21-f36519b4aad0",
        "colab": {
          "base_uri": "https://localhost:8080/"
        }
      },
      "source": [
        "docs"
      ],
      "execution_count": 58,
      "outputs": [
        {
          "output_type": "execute_result",
          "data": {
            "text/plain": [
              "['The faster Harry got to the store, the faster Harry, the faster, would get home.',\n",
              " 'Harry is hairy and faster than Jill.',\n",
              " 'Jill is not as hairy as Harry.']"
            ]
          },
          "metadata": {
            "tags": []
          },
          "execution_count": 58
        }
      ]
    },
    {
      "cell_type": "code",
      "metadata": {
        "id": "VVyjVDKn4ji2"
      },
      "source": [
        ""
      ],
      "execution_count": null,
      "outputs": []
    }
  ]
}