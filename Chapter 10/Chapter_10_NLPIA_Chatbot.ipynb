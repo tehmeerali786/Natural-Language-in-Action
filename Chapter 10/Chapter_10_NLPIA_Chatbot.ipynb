{
  "nbformat": 4,
  "nbformat_minor": 0,
  "metadata": {
    "colab": {
      "name": "Chapter 10 -- NLPIA Chatbot.ipynb",
      "provenance": [],
      "collapsed_sections": []
    },
    "kernelspec": {
      "name": "python3",
      "display_name": "Python 3"
    },
    "accelerator": "GPU"
  },
  "cells": [
    {
      "cell_type": "code",
      "metadata": {
        "colab": {
          "base_uri": "https://localhost:8080/"
        },
        "id": "-C_7I-9qVVLi",
        "outputId": "364a8477-775e-4350-8bcd-b1fbc4eca5f2"
      },
      "source": [
        "!pip install -r /content/requirements.txt"
      ],
      "execution_count": null,
      "outputs": [
        {
          "output_type": "stream",
          "text": [
            "Requirement already satisfied: AIML-Bot<0.1.0,>=0.0.3 in /usr/local/lib/python3.6/dist-packages (from -r /content/requirements.txt (line 1)) (0.0.3)\n",
            "Requirement already satisfied: coverage>=4.3.4 in /usr/local/lib/python3.6/dist-packages (from -r /content/requirements.txt (line 2)) (5.3)\n",
            "Requirement already satisfied: cython>=0.29.20 in /usr/local/lib/python3.6/dist-packages (from -r /content/requirements.txt (line 3)) (0.29.21)\n",
            "Requirement already satisfied: future>=0.16.0 in /usr/local/lib/python3.6/dist-packages (from -r /content/requirements.txt (line 4)) (0.16.0)\n",
            "Requirement already satisfied: gensim==3.6.0 in /usr/local/lib/python3.6/dist-packages (from -r /content/requirements.txt (line 5)) (3.6.0)\n",
            "Requirement already satisfied: html2text>=2018.1.9 in /usr/local/lib/python3.6/dist-packages (from -r /content/requirements.txt (line 6)) (2020.1.16)\n",
            "Requirement already satisfied: html5lib==1.1 in /usr/local/lib/python3.6/dist-packages (from -r /content/requirements.txt (line 7)) (1.1)\n",
            "Requirement already satisfied: jupyter<1.1.0,>=1.0.0 in /usr/local/lib/python3.6/dist-packages (from -r /content/requirements.txt (line 8)) (1.0.0)\n",
            "Requirement already satisfied: Keras<2.4.0,>=2.2.4 in /usr/local/lib/python3.6/dist-packages (from -r /content/requirements.txt (line 9)) (2.3.1)\n",
            "Requirement already satisfied: Keras-Applications>=1.0.6 in /usr/local/lib/python3.6/dist-packages (from -r /content/requirements.txt (line 10)) (1.0.8)\n",
            "Requirement already satisfied: Keras-Preprocessing>=1.0.5 in /usr/local/lib/python3.6/dist-packages (from -r /content/requirements.txt (line 11)) (1.1.2)\n",
            "Requirement already satisfied: matplotlib<3.4.0,>=3.2.2 in /usr/local/lib/python3.6/dist-packages (from -r /content/requirements.txt (line 12)) (3.2.2)\n",
            "Requirement already satisfied: MechanicalSoup<0.11.0,>=0.10.0 in /usr/local/lib/python3.6/dist-packages (from -r /content/requirements.txt (line 13)) (0.10.0)\n",
            "Requirement already satisfied: nltk==3.5 in /usr/local/lib/python3.6/dist-packages (from -r /content/requirements.txt (line 14)) (3.5)\n",
            "Requirement already satisfied: pandas<0.26.0,>=0.25.3 in /usr/local/lib/python3.6/dist-packages (from -r /content/requirements.txt (line 15)) (0.25.3)\n",
            "Requirement already satisfied: pathlib<2.0.0,>=1.0.1 in /usr/local/lib/python3.6/dist-packages (from -r /content/requirements.txt (line 16)) (1.0.1)\n",
            "Requirement already satisfied: pillow==6.2.2 in /usr/local/lib/python3.6/dist-packages (from -r /content/requirements.txt (line 17)) (6.2.2)\n",
            "Requirement already satisfied: pip>=18.0 in /usr/local/lib/python3.6/dist-packages (from -r /content/requirements.txt (line 18)) (19.3.1)\n",
            "Requirement already satisfied: plac<1.0.0,>=0.9.6 in /usr/local/lib/python3.6/dist-packages (from -r /content/requirements.txt (line 19)) (0.9.6)\n",
            "Requirement already satisfied: plotly==3.3.0 in /usr/local/lib/python3.6/dist-packages (from -r /content/requirements.txt (line 20)) (3.3.0)\n",
            "Requirement already satisfied: plyfile<1.0.0,>=0.5.0 in /usr/local/lib/python3.6/dist-packages (from -r /content/requirements.txt (line 21)) (0.7.2)\n",
            "Requirement already satisfied: pugnlp>=0.2.6 in /usr/local/lib/python3.6/dist-packages (from -r /content/requirements.txt (line 22)) (0.2.6)\n",
            "Requirement already satisfied: pytest-cov>=2.5.1 in /usr/local/lib/python3.6/dist-packages (from -r /content/requirements.txt (line 23)) (2.10.1)\n",
            "Requirement already satisfied: python-levenshtein<0.13.0,>=0.12.0 in /usr/local/lib/python3.6/dist-packages (from -r /content/requirements.txt (line 24)) (0.12.0)\n",
            "Requirement already satisfied: qtconsole==4.4.1. in /usr/local/lib/python3.6/dist-packages (from -r /content/requirements.txt (line 25)) (4.4.1)\n",
            "Requirement already satisfied: redis<2.11.0,>=2.10.6 in /usr/local/lib/python3.6/dist-packages (from -r /content/requirements.txt (line 26)) (2.10.6)\n",
            "Requirement already satisfied: regex>=2020.6.8 in /usr/local/lib/python3.6/dist-packages (from -r /content/requirements.txt (line 27)) (2020.11.13)\n",
            "Requirement already satisfied: scikit-learn>=0.18.1 in /usr/local/lib/python3.6/dist-packages (from -r /content/requirements.txt (line 28)) (0.22.2.post1)\n",
            "Requirement already satisfied: seaborn>=0.8 in /usr/local/lib/python3.6/dist-packages (from -r /content/requirements.txt (line 30)) (0.11.0)\n",
            "Requirement already satisfied: setuptools>=40.8.0 in /usr/local/lib/python3.6/dist-packages (from -r /content/requirements.txt (line 31)) (50.3.2)\n",
            "Requirement already satisfied: spacy==2.3.0 in /usr/local/lib/python3.6/dist-packages (from -r /content/requirements.txt (line 32)) (2.3.0)\n",
            "Requirement already satisfied: tensorflow<1.19.0,>=1.15.2 in /usr/local/lib/python3.6/dist-packages (from -r /content/requirements.txt (line 33)) (1.15.4)\n",
            "Requirement already satisfied: tensorflow-hub>=0.4.0 in /usr/local/lib/python3.6/dist-packages (from -r /content/requirements.txt (line 34)) (0.10.0)\n",
            "Requirement already satisfied: theano==1.0.2 in /usr/local/lib/python3.6/dist-packages (from -r /content/requirements.txt (line 35)) (1.0.2)\n",
            "Requirement already satisfied: tqdm>=4.11.2 in /usr/local/lib/python3.6/dist-packages (from -r /content/requirements.txt (line 36)) (4.41.1)\n",
            "Requirement already satisfied: wheel>=0.30.0a0 in /usr/local/lib/python3.6/dist-packages (from -r /content/requirements.txt (line 37)) (0.36.1)\n",
            "Requirement already satisfied: numpy>=1.11.3 in /usr/local/lib/python3.6/dist-packages (from gensim==3.6.0->-r /content/requirements.txt (line 5)) (1.18.5)\n",
            "Requirement already satisfied: scipy>=0.18.1 in /usr/local/lib/python3.6/dist-packages (from gensim==3.6.0->-r /content/requirements.txt (line 5)) (1.4.1)\n",
            "Requirement already satisfied: six>=1.5.0 in /usr/local/lib/python3.6/dist-packages (from gensim==3.6.0->-r /content/requirements.txt (line 5)) (1.15.0)\n",
            "Requirement already satisfied: smart-open>=1.2.1 in /usr/local/lib/python3.6/dist-packages (from gensim==3.6.0->-r /content/requirements.txt (line 5)) (4.0.1)\n",
            "Requirement already satisfied: webencodings in /usr/local/lib/python3.6/dist-packages (from html5lib==1.1->-r /content/requirements.txt (line 7)) (0.5.1)\n",
            "Requirement already satisfied: notebook in /usr/local/lib/python3.6/dist-packages (from jupyter<1.1.0,>=1.0.0->-r /content/requirements.txt (line 8)) (5.3.1)\n",
            "Requirement already satisfied: ipykernel in /usr/local/lib/python3.6/dist-packages (from jupyter<1.1.0,>=1.0.0->-r /content/requirements.txt (line 8)) (4.10.1)\n",
            "Requirement already satisfied: ipywidgets in /usr/local/lib/python3.6/dist-packages (from jupyter<1.1.0,>=1.0.0->-r /content/requirements.txt (line 8)) (7.5.1)\n",
            "Requirement already satisfied: nbconvert in /usr/local/lib/python3.6/dist-packages (from jupyter<1.1.0,>=1.0.0->-r /content/requirements.txt (line 8)) (5.6.1)\n",
            "Requirement already satisfied: jupyter-console in /usr/local/lib/python3.6/dist-packages (from jupyter<1.1.0,>=1.0.0->-r /content/requirements.txt (line 8)) (5.2.0)\n",
            "Requirement already satisfied: pyyaml in /usr/local/lib/python3.6/dist-packages (from Keras<2.4.0,>=2.2.4->-r /content/requirements.txt (line 9)) (3.13)\n",
            "Requirement already satisfied: h5py in /usr/local/lib/python3.6/dist-packages (from Keras<2.4.0,>=2.2.4->-r /content/requirements.txt (line 9)) (2.10.0)\n",
            "Requirement already satisfied: pyparsing!=2.0.4,!=2.1.2,!=2.1.6,>=2.0.1 in /usr/local/lib/python3.6/dist-packages (from matplotlib<3.4.0,>=3.2.2->-r /content/requirements.txt (line 12)) (2.4.7)\n",
            "Requirement already satisfied: cycler>=0.10 in /usr/local/lib/python3.6/dist-packages (from matplotlib<3.4.0,>=3.2.2->-r /content/requirements.txt (line 12)) (0.10.0)\n",
            "Requirement already satisfied: python-dateutil>=2.1 in /usr/local/lib/python3.6/dist-packages (from matplotlib<3.4.0,>=3.2.2->-r /content/requirements.txt (line 12)) (2.8.1)\n",
            "Requirement already satisfied: kiwisolver>=1.0.1 in /usr/local/lib/python3.6/dist-packages (from matplotlib<3.4.0,>=3.2.2->-r /content/requirements.txt (line 12)) (1.3.1)\n",
            "Requirement already satisfied: lxml in /usr/local/lib/python3.6/dist-packages (from MechanicalSoup<0.11.0,>=0.10.0->-r /content/requirements.txt (line 13)) (4.2.6)\n",
            "Requirement already satisfied: beautifulsoup4 in /usr/local/lib/python3.6/dist-packages (from MechanicalSoup<0.11.0,>=0.10.0->-r /content/requirements.txt (line 13)) (4.6.3)\n",
            "Requirement already satisfied: requests>=2.0 in /usr/local/lib/python3.6/dist-packages (from MechanicalSoup<0.11.0,>=0.10.0->-r /content/requirements.txt (line 13)) (2.23.0)\n",
            "Requirement already satisfied: joblib in /usr/local/lib/python3.6/dist-packages (from nltk==3.5->-r /content/requirements.txt (line 14)) (0.17.0)\n",
            "Requirement already satisfied: click in /usr/local/lib/python3.6/dist-packages (from nltk==3.5->-r /content/requirements.txt (line 14)) (7.1.2)\n",
            "Requirement already satisfied: pytz>=2017.2 in /usr/local/lib/python3.6/dist-packages (from pandas<0.26.0,>=0.25.3->-r /content/requirements.txt (line 15)) (2018.9)\n",
            "Requirement already satisfied: decorator>=4.0.6 in /usr/local/lib/python3.6/dist-packages (from plotly==3.3.0->-r /content/requirements.txt (line 20)) (4.4.2)\n",
            "Requirement already satisfied: nbformat>=4.2 in /usr/local/lib/python3.6/dist-packages (from plotly==3.3.0->-r /content/requirements.txt (line 20)) (5.0.8)\n",
            "Requirement already satisfied: retrying>=1.3.3 in /usr/local/lib/python3.6/dist-packages (from plotly==3.3.0->-r /content/requirements.txt (line 20)) (1.3.3)\n",
            "Requirement already satisfied: fuzzywuzzy in /usr/local/lib/python3.6/dist-packages (from pugnlp>=0.2.6->-r /content/requirements.txt (line 22)) (0.18.0)\n",
            "Requirement already satisfied: pypandoc in /usr/local/lib/python3.6/dist-packages (from pugnlp>=0.2.6->-r /content/requirements.txt (line 22)) (1.5)\n",
            "Requirement already satisfied: python-slugify in /usr/local/lib/python3.6/dist-packages (from pugnlp>=0.2.6->-r /content/requirements.txt (line 22)) (4.0.1)\n",
            "Requirement already satisfied: pytest>=4.6 in /usr/local/lib/python3.6/dist-packages (from pytest-cov>=2.5.1->-r /content/requirements.txt (line 23)) (6.2.1)\n",
            "Requirement already satisfied: jupyter-client>=4.1 in /usr/local/lib/python3.6/dist-packages (from qtconsole==4.4.1.->-r /content/requirements.txt (line 25)) (5.3.5)\n",
            "Requirement already satisfied: pygments in /usr/local/lib/python3.6/dist-packages (from qtconsole==4.4.1.->-r /content/requirements.txt (line 25)) (2.6.1)\n",
            "Requirement already satisfied: ipython-genutils in /usr/local/lib/python3.6/dist-packages (from qtconsole==4.4.1.->-r /content/requirements.txt (line 25)) (0.2.0)\n",
            "Requirement already satisfied: traitlets in /usr/local/lib/python3.6/dist-packages (from qtconsole==4.4.1.->-r /content/requirements.txt (line 25)) (4.3.3)\n",
            "Requirement already satisfied: jupyter-core in /usr/local/lib/python3.6/dist-packages (from qtconsole==4.4.1.->-r /content/requirements.txt (line 25)) (4.7.0)\n",
            "Requirement already satisfied: blis<0.5.0,>=0.4.0 in /usr/local/lib/python3.6/dist-packages (from spacy==2.3.0->-r /content/requirements.txt (line 32)) (0.4.1)\n",
            "Requirement already satisfied: catalogue<1.1.0,>=0.0.7 in /usr/local/lib/python3.6/dist-packages (from spacy==2.3.0->-r /content/requirements.txt (line 32)) (1.0.0)\n",
            "Requirement already satisfied: thinc==7.4.1 in /usr/local/lib/python3.6/dist-packages (from spacy==2.3.0->-r /content/requirements.txt (line 32)) (7.4.1)\n",
            "Requirement already satisfied: wasabi<1.1.0,>=0.4.0 in /usr/local/lib/python3.6/dist-packages (from spacy==2.3.0->-r /content/requirements.txt (line 32)) (0.8.0)\n",
            "Requirement already satisfied: srsly<1.1.0,>=1.0.2 in /usr/local/lib/python3.6/dist-packages (from spacy==2.3.0->-r /content/requirements.txt (line 32)) (1.0.5)\n",
            "Requirement already satisfied: cymem<2.1.0,>=2.0.2 in /usr/local/lib/python3.6/dist-packages (from spacy==2.3.0->-r /content/requirements.txt (line 32)) (2.0.5)\n",
            "Requirement already satisfied: murmurhash<1.1.0,>=0.28.0 in /usr/local/lib/python3.6/dist-packages (from spacy==2.3.0->-r /content/requirements.txt (line 32)) (1.0.5)\n",
            "Requirement already satisfied: preshed<3.1.0,>=3.0.2 in /usr/local/lib/python3.6/dist-packages (from spacy==2.3.0->-r /content/requirements.txt (line 32)) (3.0.5)\n",
            "Requirement already satisfied: google-pasta>=0.1.6 in /usr/local/lib/python3.6/dist-packages (from tensorflow<1.19.0,>=1.15.2->-r /content/requirements.txt (line 33)) (0.2.0)\n",
            "Requirement already satisfied: termcolor>=1.1.0 in /usr/local/lib/python3.6/dist-packages (from tensorflow<1.19.0,>=1.15.2->-r /content/requirements.txt (line 33)) (1.1.0)\n",
            "Requirement already satisfied: tensorboard<1.16.0,>=1.15.0 in /usr/local/lib/python3.6/dist-packages (from tensorflow<1.19.0,>=1.15.2->-r /content/requirements.txt (line 33)) (1.15.0)\n",
            "Requirement already satisfied: protobuf>=3.6.1 in /usr/local/lib/python3.6/dist-packages (from tensorflow<1.19.0,>=1.15.2->-r /content/requirements.txt (line 33)) (3.12.4)\n",
            "Requirement already satisfied: gast==0.2.2 in /usr/local/lib/python3.6/dist-packages (from tensorflow<1.19.0,>=1.15.2->-r /content/requirements.txt (line 33)) (0.2.2)\n",
            "Requirement already satisfied: wrapt>=1.11.1 in /usr/local/lib/python3.6/dist-packages (from tensorflow<1.19.0,>=1.15.2->-r /content/requirements.txt (line 33)) (1.12.1)\n",
            "Requirement already satisfied: tensorflow-estimator==1.15.1 in /usr/local/lib/python3.6/dist-packages (from tensorflow<1.19.0,>=1.15.2->-r /content/requirements.txt (line 33)) (1.15.1)\n",
            "Requirement already satisfied: opt-einsum>=2.3.2 in /usr/local/lib/python3.6/dist-packages (from tensorflow<1.19.0,>=1.15.2->-r /content/requirements.txt (line 33)) (3.3.0)\n",
            "Requirement already satisfied: grpcio>=1.8.6 in /usr/local/lib/python3.6/dist-packages (from tensorflow<1.19.0,>=1.15.2->-r /content/requirements.txt (line 33)) (1.34.0)\n",
            "Requirement already satisfied: absl-py>=0.7.0 in /usr/local/lib/python3.6/dist-packages (from tensorflow<1.19.0,>=1.15.2->-r /content/requirements.txt (line 33)) (0.10.0)\n",
            "Requirement already satisfied: astor>=0.6.0 in /usr/local/lib/python3.6/dist-packages (from tensorflow<1.19.0,>=1.15.2->-r /content/requirements.txt (line 33)) (0.8.1)\n",
            "Requirement already satisfied: tornado>=4 in /usr/local/lib/python3.6/dist-packages (from notebook->jupyter<1.1.0,>=1.0.0->-r /content/requirements.txt (line 8)) (5.1.1)\n",
            "Requirement already satisfied: Send2Trash in /usr/local/lib/python3.6/dist-packages (from notebook->jupyter<1.1.0,>=1.0.0->-r /content/requirements.txt (line 8)) (1.5.0)\n",
            "Requirement already satisfied: terminado>=0.8.1 in /usr/local/lib/python3.6/dist-packages (from notebook->jupyter<1.1.0,>=1.0.0->-r /content/requirements.txt (line 8)) (0.9.1)\n",
            "Requirement already satisfied: jinja2 in /usr/local/lib/python3.6/dist-packages (from notebook->jupyter<1.1.0,>=1.0.0->-r /content/requirements.txt (line 8)) (2.11.2)\n",
            "Requirement already satisfied: ipython>=4.0.0 in /usr/local/lib/python3.6/dist-packages (from ipykernel->jupyter<1.1.0,>=1.0.0->-r /content/requirements.txt (line 8)) (5.5.0)\n",
            "Requirement already satisfied: widgetsnbextension~=3.5.0 in /usr/local/lib/python3.6/dist-packages (from ipywidgets->jupyter<1.1.0,>=1.0.0->-r /content/requirements.txt (line 8)) (3.5.1)\n",
            "Requirement already satisfied: pandocfilters>=1.4.1 in /usr/local/lib/python3.6/dist-packages (from nbconvert->jupyter<1.1.0,>=1.0.0->-r /content/requirements.txt (line 8)) (1.4.3)\n",
            "Requirement already satisfied: bleach in /usr/local/lib/python3.6/dist-packages (from nbconvert->jupyter<1.1.0,>=1.0.0->-r /content/requirements.txt (line 8)) (3.2.1)\n",
            "Requirement already satisfied: testpath in /usr/local/lib/python3.6/dist-packages (from nbconvert->jupyter<1.1.0,>=1.0.0->-r /content/requirements.txt (line 8)) (0.4.4)\n",
            "Requirement already satisfied: defusedxml in /usr/local/lib/python3.6/dist-packages (from nbconvert->jupyter<1.1.0,>=1.0.0->-r /content/requirements.txt (line 8)) (0.6.0)\n",
            "Requirement already satisfied: mistune<2,>=0.8.1 in /usr/local/lib/python3.6/dist-packages (from nbconvert->jupyter<1.1.0,>=1.0.0->-r /content/requirements.txt (line 8)) (0.8.4)\n",
            "Requirement already satisfied: entrypoints>=0.2.2 in /usr/local/lib/python3.6/dist-packages (from nbconvert->jupyter<1.1.0,>=1.0.0->-r /content/requirements.txt (line 8)) (0.3)\n",
            "Requirement already satisfied: prompt-toolkit<2.0.0,>=1.0.0 in /usr/local/lib/python3.6/dist-packages (from jupyter-console->jupyter<1.1.0,>=1.0.0->-r /content/requirements.txt (line 8)) (1.0.18)\n",
            "Requirement already satisfied: idna<3,>=2.5 in /usr/local/lib/python3.6/dist-packages (from requests>=2.0->MechanicalSoup<0.11.0,>=0.10.0->-r /content/requirements.txt (line 13)) (2.10)\n",
            "Requirement already satisfied: chardet<4,>=3.0.2 in /usr/local/lib/python3.6/dist-packages (from requests>=2.0->MechanicalSoup<0.11.0,>=0.10.0->-r /content/requirements.txt (line 13)) (3.0.4)\n",
            "Requirement already satisfied: certifi>=2017.4.17 in /usr/local/lib/python3.6/dist-packages (from requests>=2.0->MechanicalSoup<0.11.0,>=0.10.0->-r /content/requirements.txt (line 13)) (2020.12.5)\n",
            "Requirement already satisfied: urllib3!=1.25.0,!=1.25.1,<1.26,>=1.21.1 in /usr/local/lib/python3.6/dist-packages (from requests>=2.0->MechanicalSoup<0.11.0,>=0.10.0->-r /content/requirements.txt (line 13)) (1.24.3)\n",
            "Requirement already satisfied: jsonschema!=2.5.0,>=2.4 in /usr/local/lib/python3.6/dist-packages (from nbformat>=4.2->plotly==3.3.0->-r /content/requirements.txt (line 20)) (2.6.0)\n",
            "Requirement already satisfied: text-unidecode>=1.3 in /usr/local/lib/python3.6/dist-packages (from python-slugify->pugnlp>=0.2.6->-r /content/requirements.txt (line 22)) (1.3)\n",
            "Requirement already satisfied: iniconfig in /usr/local/lib/python3.6/dist-packages (from pytest>=4.6->pytest-cov>=2.5.1->-r /content/requirements.txt (line 23)) (1.1.1)\n",
            "Requirement already satisfied: importlib-metadata>=0.12; python_version < \"3.8\" in /usr/local/lib/python3.6/dist-packages (from pytest>=4.6->pytest-cov>=2.5.1->-r /content/requirements.txt (line 23)) (3.1.1)\n",
            "Requirement already satisfied: pluggy<1.0.0a1,>=0.12 in /usr/local/lib/python3.6/dist-packages (from pytest>=4.6->pytest-cov>=2.5.1->-r /content/requirements.txt (line 23)) (0.13.1)\n",
            "Requirement already satisfied: packaging in /usr/local/lib/python3.6/dist-packages (from pytest>=4.6->pytest-cov>=2.5.1->-r /content/requirements.txt (line 23)) (20.7)\n",
            "Requirement already satisfied: py>=1.8.2 in /usr/local/lib/python3.6/dist-packages (from pytest>=4.6->pytest-cov>=2.5.1->-r /content/requirements.txt (line 23)) (1.9.0)\n",
            "Requirement already satisfied: toml in /usr/local/lib/python3.6/dist-packages (from pytest>=4.6->pytest-cov>=2.5.1->-r /content/requirements.txt (line 23)) (0.10.2)\n",
            "Requirement already satisfied: attrs>=19.2.0 in /usr/local/lib/python3.6/dist-packages (from pytest>=4.6->pytest-cov>=2.5.1->-r /content/requirements.txt (line 23)) (20.3.0)\n",
            "Requirement already satisfied: pyzmq>=13 in /usr/local/lib/python3.6/dist-packages (from jupyter-client>=4.1->qtconsole==4.4.1.->-r /content/requirements.txt (line 25)) (20.0.0)\n",
            "Requirement already satisfied: werkzeug>=0.11.15 in /usr/local/lib/python3.6/dist-packages (from tensorboard<1.16.0,>=1.15.0->tensorflow<1.19.0,>=1.15.2->-r /content/requirements.txt (line 33)) (1.0.1)\n",
            "Requirement already satisfied: markdown>=2.6.8 in /usr/local/lib/python3.6/dist-packages (from tensorboard<1.16.0,>=1.15.0->tensorflow<1.19.0,>=1.15.2->-r /content/requirements.txt (line 33)) (3.3.3)\n",
            "Requirement already satisfied: ptyprocess; os_name != \"nt\" in /usr/local/lib/python3.6/dist-packages (from terminado>=0.8.1->notebook->jupyter<1.1.0,>=1.0.0->-r /content/requirements.txt (line 8)) (0.6.0)\n",
            "Requirement already satisfied: MarkupSafe>=0.23 in /usr/local/lib/python3.6/dist-packages (from jinja2->notebook->jupyter<1.1.0,>=1.0.0->-r /content/requirements.txt (line 8)) (1.1.1)\n",
            "Requirement already satisfied: pickleshare in /usr/local/lib/python3.6/dist-packages (from ipython>=4.0.0->ipykernel->jupyter<1.1.0,>=1.0.0->-r /content/requirements.txt (line 8)) (0.7.5)\n",
            "Requirement already satisfied: pexpect; sys_platform != \"win32\" in /usr/local/lib/python3.6/dist-packages (from ipython>=4.0.0->ipykernel->jupyter<1.1.0,>=1.0.0->-r /content/requirements.txt (line 8)) (4.8.0)\n",
            "Requirement already satisfied: simplegeneric>0.8 in /usr/local/lib/python3.6/dist-packages (from ipython>=4.0.0->ipykernel->jupyter<1.1.0,>=1.0.0->-r /content/requirements.txt (line 8)) (0.8.1)\n",
            "Requirement already satisfied: wcwidth in /usr/local/lib/python3.6/dist-packages (from prompt-toolkit<2.0.0,>=1.0.0->jupyter-console->jupyter<1.1.0,>=1.0.0->-r /content/requirements.txt (line 8)) (0.2.5)\n",
            "Requirement already satisfied: zipp>=0.5 in /usr/local/lib/python3.6/dist-packages (from importlib-metadata>=0.12; python_version < \"3.8\"->pytest>=4.6->pytest-cov>=2.5.1->-r /content/requirements.txt (line 23)) (3.4.0)\n"
          ],
          "name": "stdout"
        }
      ]
    },
    {
      "cell_type": "code",
      "metadata": {
        "colab": {
          "base_uri": "https://localhost:8080/",
          "height": 52
        },
        "id": "QWqO55AC4_tu",
        "outputId": "91c4a0be-7924-4c7f-addc-97baf73f04db"
      },
      "source": [
        "import keras \r\n",
        "keras.__version__"
      ],
      "execution_count": null,
      "outputs": [
        {
          "output_type": "stream",
          "text": [
            "Using TensorFlow backend.\n"
          ],
          "name": "stderr"
        },
        {
          "output_type": "execute_result",
          "data": {
            "application/vnd.google.colaboratory.intrinsic+json": {
              "type": "string"
            },
            "text/plain": [
              "'2.3.1'"
            ]
          },
          "metadata": {
            "tags": []
          },
          "execution_count": 2
        }
      ]
    },
    {
      "cell_type": "code",
      "metadata": {
        "colab": {
          "base_uri": "https://localhost:8080/"
        },
        "id": "8pyqevKp3dcX",
        "outputId": "58c6442f-6c98-4dbb-dcdb-bc91bed8873d"
      },
      "source": [
        "!pip install nlpia"
      ],
      "execution_count": null,
      "outputs": [
        {
          "output_type": "stream",
          "text": [
            "Requirement already satisfied: nlpia in /usr/local/lib/python3.6/dist-packages (0.5.2)\n",
            "Requirement already satisfied: plotly in /usr/local/lib/python3.6/dist-packages (from nlpia) (3.3.0)\n",
            "Requirement already satisfied: future in /usr/local/lib/python3.6/dist-packages (from nlpia) (0.16.0)\n",
            "Requirement already satisfied: pugnlp in /usr/local/lib/python3.6/dist-packages (from nlpia) (0.2.6)\n",
            "Requirement already satisfied: matplotlib in /usr/local/lib/python3.6/dist-packages (from nlpia) (3.2.2)\n",
            "Requirement already satisfied: tensorflow in /usr/local/lib/python3.6/dist-packages (from nlpia) (1.15.4)\n",
            "Requirement already satisfied: html2text in /usr/local/lib/python3.6/dist-packages (from nlpia) (2020.1.16)\n",
            "Requirement already satisfied: h5py in /usr/local/lib/python3.6/dist-packages (from nlpia) (2.10.0)\n",
            "Requirement already satisfied: seaborn in /usr/local/lib/python3.6/dist-packages (from nlpia) (0.11.0)\n",
            "Requirement already satisfied: keras in /usr/local/lib/python3.6/dist-packages (from nlpia) (2.3.1)\n",
            "Requirement already satisfied: pandas-datareader in /usr/local/lib/python3.6/dist-packages (from nlpia) (0.9.0)\n",
            "Requirement already satisfied: html5lib in /usr/local/lib/python3.6/dist-packages (from nlpia) (1.1)\n",
            "Requirement already satisfied: regex in /usr/local/lib/python3.6/dist-packages (from nlpia) (2020.11.13)\n",
            "Requirement already satisfied: gensim in /usr/local/lib/python3.6/dist-packages (from nlpia) (3.6.0)\n",
            "Requirement already satisfied: pypandoc in /usr/local/lib/python3.6/dist-packages (from nlpia) (1.5)\n",
            "Requirement already satisfied: scikit-learn in /usr/local/lib/python3.6/dist-packages (from nlpia) (0.22.2.post1)\n",
            "Requirement already satisfied: pandas in /usr/local/lib/python3.6/dist-packages (from nlpia) (0.25.3)\n",
            "Requirement already satisfied: lxml in /usr/local/lib/python3.6/dist-packages (from nlpia) (4.2.6)\n",
            "Requirement already satisfied: tqdm in /usr/local/lib/python3.6/dist-packages (from nlpia) (4.41.1)\n",
            "Requirement already satisfied: nltk in /usr/local/lib/python3.6/dist-packages (from nlpia) (3.5)\n",
            "Requirement already satisfied: spacy in /usr/local/lib/python3.6/dist-packages (from nlpia) (2.3.0)\n",
            "Requirement already satisfied: python-Levenshtein in /usr/local/lib/python3.6/dist-packages (from nlpia) (0.12.0)\n",
            "Requirement already satisfied: jupyter in /usr/local/lib/python3.6/dist-packages (from nlpia) (1.0.0)\n",
            "Requirement already satisfied: nbformat>=4.2 in /usr/local/lib/python3.6/dist-packages (from plotly->nlpia) (5.0.8)\n",
            "Requirement already satisfied: requests in /usr/local/lib/python3.6/dist-packages (from plotly->nlpia) (2.23.0)\n",
            "Requirement already satisfied: six in /usr/local/lib/python3.6/dist-packages (from plotly->nlpia) (1.15.0)\n",
            "Requirement already satisfied: pytz in /usr/local/lib/python3.6/dist-packages (from plotly->nlpia) (2018.9)\n",
            "Requirement already satisfied: retrying>=1.3.3 in /usr/local/lib/python3.6/dist-packages (from plotly->nlpia) (1.3.3)\n",
            "Requirement already satisfied: decorator>=4.0.6 in /usr/local/lib/python3.6/dist-packages (from plotly->nlpia) (4.4.2)\n",
            "Requirement already satisfied: pip in /usr/local/lib/python3.6/dist-packages (from pugnlp->nlpia) (19.3.1)\n",
            "Requirement already satisfied: scipy in /usr/local/lib/python3.6/dist-packages (from pugnlp->nlpia) (1.4.1)\n",
            "Requirement already satisfied: wheel in /usr/local/lib/python3.6/dist-packages (from pugnlp->nlpia) (0.36.1)\n",
            "Requirement already satisfied: coverage in /usr/local/lib/python3.6/dist-packages (from pugnlp->nlpia) (5.3)\n",
            "Requirement already satisfied: fuzzywuzzy in /usr/local/lib/python3.6/dist-packages (from pugnlp->nlpia) (0.18.0)\n",
            "Requirement already satisfied: python-slugify in /usr/local/lib/python3.6/dist-packages (from pugnlp->nlpia) (4.0.1)\n",
            "Requirement already satisfied: pyparsing!=2.0.4,!=2.1.2,!=2.1.6,>=2.0.1 in /usr/local/lib/python3.6/dist-packages (from matplotlib->nlpia) (2.4.7)\n",
            "Requirement already satisfied: cycler>=0.10 in /usr/local/lib/python3.6/dist-packages (from matplotlib->nlpia) (0.10.0)\n",
            "Requirement already satisfied: numpy>=1.11 in /usr/local/lib/python3.6/dist-packages (from matplotlib->nlpia) (1.18.5)\n",
            "Requirement already satisfied: kiwisolver>=1.0.1 in /usr/local/lib/python3.6/dist-packages (from matplotlib->nlpia) (1.3.1)\n",
            "Requirement already satisfied: python-dateutil>=2.1 in /usr/local/lib/python3.6/dist-packages (from matplotlib->nlpia) (2.8.1)\n",
            "Requirement already satisfied: keras-preprocessing>=1.0.5 in /usr/local/lib/python3.6/dist-packages (from tensorflow->nlpia) (1.1.2)\n",
            "Requirement already satisfied: absl-py>=0.7.0 in /usr/local/lib/python3.6/dist-packages (from tensorflow->nlpia) (0.10.0)\n",
            "Requirement already satisfied: opt-einsum>=2.3.2 in /usr/local/lib/python3.6/dist-packages (from tensorflow->nlpia) (3.3.0)\n",
            "Requirement already satisfied: grpcio>=1.8.6 in /usr/local/lib/python3.6/dist-packages (from tensorflow->nlpia) (1.34.0)\n",
            "Requirement already satisfied: protobuf>=3.6.1 in /usr/local/lib/python3.6/dist-packages (from tensorflow->nlpia) (3.12.4)\n",
            "Requirement already satisfied: tensorflow-estimator==1.15.1 in /usr/local/lib/python3.6/dist-packages (from tensorflow->nlpia) (1.15.1)\n",
            "Requirement already satisfied: termcolor>=1.1.0 in /usr/local/lib/python3.6/dist-packages (from tensorflow->nlpia) (1.1.0)\n",
            "Requirement already satisfied: google-pasta>=0.1.6 in /usr/local/lib/python3.6/dist-packages (from tensorflow->nlpia) (0.2.0)\n",
            "Requirement already satisfied: wrapt>=1.11.1 in /usr/local/lib/python3.6/dist-packages (from tensorflow->nlpia) (1.12.1)\n",
            "Requirement already satisfied: astor>=0.6.0 in /usr/local/lib/python3.6/dist-packages (from tensorflow->nlpia) (0.8.1)\n",
            "Requirement already satisfied: tensorboard<1.16.0,>=1.15.0 in /usr/local/lib/python3.6/dist-packages (from tensorflow->nlpia) (1.15.0)\n",
            "Requirement already satisfied: gast==0.2.2 in /usr/local/lib/python3.6/dist-packages (from tensorflow->nlpia) (0.2.2)\n",
            "Requirement already satisfied: keras-applications>=1.0.8 in /usr/local/lib/python3.6/dist-packages (from tensorflow->nlpia) (1.0.8)\n",
            "Requirement already satisfied: pyyaml in /usr/local/lib/python3.6/dist-packages (from keras->nlpia) (3.13)\n",
            "Requirement already satisfied: webencodings in /usr/local/lib/python3.6/dist-packages (from html5lib->nlpia) (0.5.1)\n",
            "Requirement already satisfied: smart-open>=1.2.1 in /usr/local/lib/python3.6/dist-packages (from gensim->nlpia) (4.0.1)\n",
            "Requirement already satisfied: setuptools in /usr/local/lib/python3.6/dist-packages (from pypandoc->nlpia) (50.3.2)\n",
            "Requirement already satisfied: joblib>=0.11 in /usr/local/lib/python3.6/dist-packages (from scikit-learn->nlpia) (0.17.0)\n",
            "Requirement already satisfied: click in /usr/local/lib/python3.6/dist-packages (from nltk->nlpia) (7.1.2)\n",
            "Requirement already satisfied: plac<1.2.0,>=0.9.6 in /usr/local/lib/python3.6/dist-packages (from spacy->nlpia) (0.9.6)\n",
            "Requirement already satisfied: thinc==7.4.1 in /usr/local/lib/python3.6/dist-packages (from spacy->nlpia) (7.4.1)\n",
            "Requirement already satisfied: preshed<3.1.0,>=3.0.2 in /usr/local/lib/python3.6/dist-packages (from spacy->nlpia) (3.0.5)\n",
            "Requirement already satisfied: catalogue<1.1.0,>=0.0.7 in /usr/local/lib/python3.6/dist-packages (from spacy->nlpia) (1.0.0)\n",
            "Requirement already satisfied: murmurhash<1.1.0,>=0.28.0 in /usr/local/lib/python3.6/dist-packages (from spacy->nlpia) (1.0.5)\n",
            "Requirement already satisfied: cymem<2.1.0,>=2.0.2 in /usr/local/lib/python3.6/dist-packages (from spacy->nlpia) (2.0.5)\n",
            "Requirement already satisfied: wasabi<1.1.0,>=0.4.0 in /usr/local/lib/python3.6/dist-packages (from spacy->nlpia) (0.8.0)\n",
            "Requirement already satisfied: srsly<1.1.0,>=1.0.2 in /usr/local/lib/python3.6/dist-packages (from spacy->nlpia) (1.0.5)\n",
            "Requirement already satisfied: blis<0.5.0,>=0.4.0 in /usr/local/lib/python3.6/dist-packages (from spacy->nlpia) (0.4.1)\n",
            "Requirement already satisfied: notebook in /usr/local/lib/python3.6/dist-packages (from jupyter->nlpia) (5.3.1)\n",
            "Requirement already satisfied: nbconvert in /usr/local/lib/python3.6/dist-packages (from jupyter->nlpia) (5.6.1)\n",
            "Requirement already satisfied: jupyter-console in /usr/local/lib/python3.6/dist-packages (from jupyter->nlpia) (5.2.0)\n",
            "Requirement already satisfied: ipywidgets in /usr/local/lib/python3.6/dist-packages (from jupyter->nlpia) (7.5.1)\n",
            "Requirement already satisfied: qtconsole in /usr/local/lib/python3.6/dist-packages (from jupyter->nlpia) (4.4.1)\n",
            "Requirement already satisfied: ipykernel in /usr/local/lib/python3.6/dist-packages (from jupyter->nlpia) (4.10.1)\n",
            "Requirement already satisfied: traitlets>=4.1 in /usr/local/lib/python3.6/dist-packages (from nbformat>=4.2->plotly->nlpia) (4.3.3)\n",
            "Requirement already satisfied: ipython-genutils in /usr/local/lib/python3.6/dist-packages (from nbformat>=4.2->plotly->nlpia) (0.2.0)\n",
            "Requirement already satisfied: jsonschema!=2.5.0,>=2.4 in /usr/local/lib/python3.6/dist-packages (from nbformat>=4.2->plotly->nlpia) (2.6.0)\n",
            "Requirement already satisfied: jupyter-core in /usr/local/lib/python3.6/dist-packages (from nbformat>=4.2->plotly->nlpia) (4.7.0)\n",
            "Requirement already satisfied: idna<3,>=2.5 in /usr/local/lib/python3.6/dist-packages (from requests->plotly->nlpia) (2.10)\n",
            "Requirement already satisfied: urllib3!=1.25.0,!=1.25.1,<1.26,>=1.21.1 in /usr/local/lib/python3.6/dist-packages (from requests->plotly->nlpia) (1.24.3)\n",
            "Requirement already satisfied: certifi>=2017.4.17 in /usr/local/lib/python3.6/dist-packages (from requests->plotly->nlpia) (2020.12.5)\n",
            "Requirement already satisfied: chardet<4,>=3.0.2 in /usr/local/lib/python3.6/dist-packages (from requests->plotly->nlpia) (3.0.4)\n",
            "Requirement already satisfied: text-unidecode>=1.3 in /usr/local/lib/python3.6/dist-packages (from python-slugify->pugnlp->nlpia) (1.3)\n",
            "Requirement already satisfied: markdown>=2.6.8 in /usr/local/lib/python3.6/dist-packages (from tensorboard<1.16.0,>=1.15.0->tensorflow->nlpia) (3.3.3)\n",
            "Requirement already satisfied: werkzeug>=0.11.15 in /usr/local/lib/python3.6/dist-packages (from tensorboard<1.16.0,>=1.15.0->tensorflow->nlpia) (1.0.1)\n",
            "Requirement already satisfied: importlib-metadata>=0.20; python_version < \"3.8\" in /usr/local/lib/python3.6/dist-packages (from catalogue<1.1.0,>=0.0.7->spacy->nlpia) (3.1.1)\n",
            "Requirement already satisfied: jinja2 in /usr/local/lib/python3.6/dist-packages (from notebook->jupyter->nlpia) (2.11.2)\n",
            "Requirement already satisfied: Send2Trash in /usr/local/lib/python3.6/dist-packages (from notebook->jupyter->nlpia) (1.5.0)\n",
            "Requirement already satisfied: terminado>=0.8.1 in /usr/local/lib/python3.6/dist-packages (from notebook->jupyter->nlpia) (0.9.1)\n",
            "Requirement already satisfied: tornado>=4 in /usr/local/lib/python3.6/dist-packages (from notebook->jupyter->nlpia) (5.1.1)\n",
            "Requirement already satisfied: jupyter-client>=5.2.0 in /usr/local/lib/python3.6/dist-packages (from notebook->jupyter->nlpia) (5.3.5)\n",
            "Requirement already satisfied: bleach in /usr/local/lib/python3.6/dist-packages (from nbconvert->jupyter->nlpia) (3.2.1)\n",
            "Requirement already satisfied: defusedxml in /usr/local/lib/python3.6/dist-packages (from nbconvert->jupyter->nlpia) (0.6.0)\n",
            "Requirement already satisfied: mistune<2,>=0.8.1 in /usr/local/lib/python3.6/dist-packages (from nbconvert->jupyter->nlpia) (0.8.4)\n",
            "Requirement already satisfied: pandocfilters>=1.4.1 in /usr/local/lib/python3.6/dist-packages (from nbconvert->jupyter->nlpia) (1.4.3)\n",
            "Requirement already satisfied: pygments in /usr/local/lib/python3.6/dist-packages (from nbconvert->jupyter->nlpia) (2.6.1)\n",
            "Requirement already satisfied: testpath in /usr/local/lib/python3.6/dist-packages (from nbconvert->jupyter->nlpia) (0.4.4)\n",
            "Requirement already satisfied: entrypoints>=0.2.2 in /usr/local/lib/python3.6/dist-packages (from nbconvert->jupyter->nlpia) (0.3)\n",
            "Requirement already satisfied: prompt-toolkit<2.0.0,>=1.0.0 in /usr/local/lib/python3.6/dist-packages (from jupyter-console->jupyter->nlpia) (1.0.18)\n",
            "Requirement already satisfied: ipython in /usr/local/lib/python3.6/dist-packages (from jupyter-console->jupyter->nlpia) (5.5.0)\n",
            "Requirement already satisfied: widgetsnbextension~=3.5.0 in /usr/local/lib/python3.6/dist-packages (from ipywidgets->jupyter->nlpia) (3.5.1)\n",
            "Requirement already satisfied: zipp>=0.5 in /usr/local/lib/python3.6/dist-packages (from importlib-metadata>=0.20; python_version < \"3.8\"->catalogue<1.1.0,>=0.0.7->spacy->nlpia) (3.4.0)\n",
            "Requirement already satisfied: MarkupSafe>=0.23 in /usr/local/lib/python3.6/dist-packages (from jinja2->notebook->jupyter->nlpia) (1.1.1)\n",
            "Requirement already satisfied: ptyprocess; os_name != \"nt\" in /usr/local/lib/python3.6/dist-packages (from terminado>=0.8.1->notebook->jupyter->nlpia) (0.6.0)\n",
            "Requirement already satisfied: pyzmq>=13 in /usr/local/lib/python3.6/dist-packages (from jupyter-client>=5.2.0->notebook->jupyter->nlpia) (20.0.0)\n",
            "Requirement already satisfied: packaging in /usr/local/lib/python3.6/dist-packages (from bleach->nbconvert->jupyter->nlpia) (20.7)\n",
            "Requirement already satisfied: wcwidth in /usr/local/lib/python3.6/dist-packages (from prompt-toolkit<2.0.0,>=1.0.0->jupyter-console->jupyter->nlpia) (0.2.5)\n",
            "Requirement already satisfied: simplegeneric>0.8 in /usr/local/lib/python3.6/dist-packages (from ipython->jupyter-console->jupyter->nlpia) (0.8.1)\n",
            "Requirement already satisfied: pexpect; sys_platform != \"win32\" in /usr/local/lib/python3.6/dist-packages (from ipython->jupyter-console->jupyter->nlpia) (4.8.0)\n",
            "Requirement already satisfied: pickleshare in /usr/local/lib/python3.6/dist-packages (from ipython->jupyter-console->jupyter->nlpia) (0.7.5)\n"
          ],
          "name": "stdout"
        }
      ]
    },
    {
      "cell_type": "code",
      "metadata": {
        "id": "gvzDvuv6VljN"
      },
      "source": [
        "from nlpia.loaders import get_data"
      ],
      "execution_count": null,
      "outputs": []
    },
    {
      "cell_type": "code",
      "metadata": {
        "id": "Jl6FaQHIV1Zr"
      },
      "source": [
        "df = get_data('moviedialog')"
      ],
      "execution_count": null,
      "outputs": []
    },
    {
      "cell_type": "code",
      "metadata": {
        "id": "hupa7aPwV68L"
      },
      "source": [
        "input_texts, target_texts = [], []\r\n",
        "input_vocabulary = set()\r\n",
        "output_vocabulary = set()\r\n",
        "start_token = '\\t'\r\n",
        "stop_token = '\\n'\r\n",
        "max_training_samples = min(2500, len(df) - 1)"
      ],
      "execution_count": null,
      "outputs": []
    },
    {
      "cell_type": "code",
      "metadata": {
        "id": "O6XUwxxJWrh6"
      },
      "source": [
        "for input_text, target_text in zip(df.statement, df.reply):\r\n",
        "  target_text = start_token + target_text + stop_token\r\n",
        "  input_texts.append(input_text)\r\n",
        "  target_texts.append(target_text)\r\n",
        "  for char in input_text:\r\n",
        "    if char not in input_vocabulary:\r\n",
        "      input_vocabulary.add(char)\r\n",
        "  for char in target_text:\r\n",
        "    if char not in output_vocabulary:\r\n",
        "      output_vocabulary.add(char)\r\n"
      ],
      "execution_count": null,
      "outputs": []
    },
    {
      "cell_type": "code",
      "metadata": {
        "colab": {
          "base_uri": "https://localhost:8080/"
        },
        "id": "7TgvkuOkYnVL",
        "outputId": "7f7d491f-2961-4145-f5d2-4f9a99541636"
      },
      "source": [
        "input_vocabulary"
      ],
      "execution_count": null,
      "outputs": [
        {
          "output_type": "execute_result",
          "data": {
            "text/plain": [
              "{' ',\n",
              " '!',\n",
              " \"'\",\n",
              " ',',\n",
              " '.',\n",
              " '0',\n",
              " '1',\n",
              " '2',\n",
              " '3',\n",
              " '4',\n",
              " '5',\n",
              " '6',\n",
              " '7',\n",
              " '8',\n",
              " '9',\n",
              " ':',\n",
              " ';',\n",
              " '?',\n",
              " 'a',\n",
              " 'b',\n",
              " 'c',\n",
              " 'd',\n",
              " 'e',\n",
              " 'f',\n",
              " 'g',\n",
              " 'h',\n",
              " 'i',\n",
              " 'j',\n",
              " 'k',\n",
              " 'l',\n",
              " 'm',\n",
              " 'n',\n",
              " 'o',\n",
              " 'p',\n",
              " 'q',\n",
              " 'r',\n",
              " 's',\n",
              " 't',\n",
              " 'u',\n",
              " 'v',\n",
              " 'w',\n",
              " 'x',\n",
              " 'y',\n",
              " 'z'}"
            ]
          },
          "metadata": {
            "tags": []
          },
          "execution_count": 8
        }
      ]
    },
    {
      "cell_type": "code",
      "metadata": {
        "colab": {
          "base_uri": "https://localhost:8080/"
        },
        "id": "SI5N7Gdca7jj",
        "outputId": "4e539805-5402-46f3-f2f3-7eb41109bbdb"
      },
      "source": [
        "target_texts[0:2]"
      ],
      "execution_count": null,
      "outputs": [
        {
          "output_type": "execute_result",
          "data": {
            "text/plain": [
              "['\\tforget it.\\n', '\\tcameron.\\n']"
            ]
          },
          "metadata": {
            "tags": []
          },
          "execution_count": 9
        }
      ]
    },
    {
      "cell_type": "code",
      "metadata": {
        "id": "pUPRJi94a_xC"
      },
      "source": [
        "input_vocabulary = sorted(input_vocabulary)\r\n",
        "output_vocabulary = sorted(output_vocabulary)\r\n",
        "\r\n",
        "input_vocab_size = len(input_vocabulary)\r\n",
        "output_vocab_size = len(output_vocabulary)\r\n",
        "\r\n",
        "max_encoder_seq_length = max([len(txt) for txt in input_texts])\r\n",
        "max_decoder_seq_length = max([len(txt) for txt in target_texts])\r\n",
        "\r\n",
        "input_token_index = dict([(char, i) for i, char in enumerate(input_vocabulary)])\r\n",
        "target_token_index = dict([(char, i) for i, char in enumerate(output_vocabulary)])\r\n",
        "\r\n",
        "reverse_input_char_index = dict((i, char) for char, i in input_token_index.items())\r\n",
        "reverse_target_char_index = dict((i, char) for char, i in target_token_index.items())"
      ],
      "execution_count": null,
      "outputs": []
    },
    {
      "cell_type": "code",
      "metadata": {
        "colab": {
          "base_uri": "https://localhost:8080/"
        },
        "id": "BlNoVvDOx6ed",
        "outputId": "36f838ca-620c-4403-ecdb-20a2322ea1fe"
      },
      "source": [
        "print(reverse_input_char_index.get(1))"
      ],
      "execution_count": null,
      "outputs": [
        {
          "output_type": "stream",
          "text": [
            "!\n"
          ],
          "name": "stdout"
        }
      ]
    },
    {
      "cell_type": "code",
      "metadata": {
        "colab": {
          "base_uri": "https://localhost:8080/"
        },
        "id": "amqOwLrg4Om0",
        "outputId": "83ae9e28-eeaa-4fe8-81d4-190bcf5d0318"
      },
      "source": [
        "input_token_index.get('!')"
      ],
      "execution_count": null,
      "outputs": [
        {
          "output_type": "execute_result",
          "data": {
            "text/plain": [
              "1"
            ]
          },
          "metadata": {
            "tags": []
          },
          "execution_count": 12
        }
      ]
    },
    {
      "cell_type": "code",
      "metadata": {
        "id": "HF3i9dUJ5TuM"
      },
      "source": [
        "import numpy as np\r\n",
        "\r\n",
        "encoder_input_data = np.zeros((len(input_texts), max_encoder_seq_length, input_vocab_size), dtype='float32')"
      ],
      "execution_count": null,
      "outputs": []
    },
    {
      "cell_type": "code",
      "metadata": {
        "colab": {
          "base_uri": "https://localhost:8080/"
        },
        "id": "OxFwFoWE9i8I",
        "outputId": "ea2aac7a-b6e5-43a7-edd2-fb0ec2085611"
      },
      "source": [
        "len(input_texts)"
      ],
      "execution_count": null,
      "outputs": [
        {
          "output_type": "execute_result",
          "data": {
            "text/plain": [
              "64350"
            ]
          },
          "metadata": {
            "tags": []
          },
          "execution_count": 14
        }
      ]
    },
    {
      "cell_type": "code",
      "metadata": {
        "id": "JBBNdB9A9zbG"
      },
      "source": [
        "decoder_input_data = np.zeros((len(input_texts), max_decoder_seq_length, output_vocab_size), dtype='float32')"
      ],
      "execution_count": null,
      "outputs": []
    },
    {
      "cell_type": "code",
      "metadata": {
        "id": "Qa21DT9BCNOq"
      },
      "source": [
        "decoder_target_data = np.zeros((len(input_texts), max_decoder_seq_length, output_vocab_size), dtype='float32')"
      ],
      "execution_count": null,
      "outputs": []
    },
    {
      "cell_type": "code",
      "metadata": {
        "id": "163pl_nPDGjo"
      },
      "source": [
        "for i, (input_text, target_text) in enumerate(zip(input_texts, target_texts)):\r\n",
        "  for t, char in enumerate(input_text):\r\n",
        "    encoder_input_data[i, t, input_token_index[char]] = 1.\r\n",
        "  for t, char in enumerate(target_text):\r\n",
        "    decoder_input_data[i, t, target_token_index[char]] = 1.\r\n",
        "    if t > 0:\r\n",
        "      decoder_target_data[i, t - 1, target_token_index[char]] = 1.\r\n"
      ],
      "execution_count": null,
      "outputs": []
    },
    {
      "cell_type": "code",
      "metadata": {
        "id": "6MJdaB3QJ6xe",
        "colab": {
          "base_uri": "https://localhost:8080/"
        },
        "outputId": "1c73695d-e996-4880-a78f-a50ff0f27ba0"
      },
      "source": [
        "from keras.models import Model\r\n",
        "from keras.layers import Input, LSTM, Dense \r\n",
        "\r\n",
        "batch_size = 64\r\n",
        "epochs = 10\r\n",
        "num_neurons = 256\r\n",
        "\r\n",
        "encoder_inputs = Input(shape=(None, input_vocab_size))\r\n",
        "encoder = LSTM(num_neurons, return_state=True)\r\n",
        "encoder_outputs, state_h, state_c = encoder(encoder_inputs)\r\n",
        "encoder_states = [state_h, state_c]\r\n",
        "\r\n",
        "decoder_inputs = Input(shape=(None, output_vocab_size))\r\n",
        "decoder_lstm = LSTM(num_neurons, return_sequences=True, return_state=True)\r\n",
        "\r\n",
        "decoder_outputs, _, _ = decoder_lstm(decoder_inputs, initial_state=encoder_states)\r\n",
        "decoder_dense = Dense(output_vocab_size, activation='softmax')\r\n",
        "decoder_outputs = decoder_dense(decoder_outputs)\r\n",
        "\r\n",
        "model = Model([encoder_inputs, decoder_inputs], decoder_outputs)\r\n",
        "model.compile(optimizer='rmsprop', loss='categorical_crossentropy', metrics=['acc'])\r\n",
        "\r\n",
        "model.fit([encoder_input_data, decoder_input_data], decoder_target_data, batch_size=batch_size, epochs=epochs, validation_split=0.1)"
      ],
      "execution_count": null,
      "outputs": [
        {
          "output_type": "stream",
          "text": [
            "WARNING:tensorflow:From /usr/local/lib/python3.6/dist-packages/tensorflow_core/python/ops/resource_variable_ops.py:1630: calling BaseResourceVariable.__init__ (from tensorflow.python.ops.resource_variable_ops) with constraint is deprecated and will be removed in a future version.\n",
            "Instructions for updating:\n",
            "If using Keras pass *_constraint arguments to layers.\n",
            "2020-12-17 16:50:43,885 WARNING:     tensorflow:506:            new_func From /usr/local/lib/python3.6/dist-packages/tensorflow_core/python/ops/resource_variable_ops.py:1630: calling BaseResourceVariable.__init__ (from tensorflow.python.ops.resource_variable_ops) with constraint is deprecated and will be removed in a future version.\n",
            "Instructions for updating:\n",
            "If using Keras pass *_constraint arguments to layers.\n",
            "WARNING:tensorflow:From /usr/local/lib/python3.6/dist-packages/tensorflow_core/python/ops/math_grad.py:1424: where (from tensorflow.python.ops.array_ops) is deprecated and will be removed in a future version.\n",
            "Instructions for updating:\n",
            "Use tf.where in 2.0, which has the same broadcast rule as np.where\n",
            "2020-12-17 16:50:44,531 WARNING:     tensorflow:323:            new_func From /usr/local/lib/python3.6/dist-packages/tensorflow_core/python/ops/math_grad.py:1424: where (from tensorflow.python.ops.array_ops) is deprecated and will be removed in a future version.\n",
            "Instructions for updating:\n",
            "Use tf.where in 2.0, which has the same broadcast rule as np.where\n",
            "WARNING:tensorflow:From /usr/local/lib/python3.6/dist-packages/keras/backend/tensorflow_backend.py:422: The name tf.global_variables is deprecated. Please use tf.compat.v1.global_variables instead.\n",
            "\n",
            "2020-12-17 16:50:45,253 WARNING:     tensorflow:139:_tfmw_add_deprecation_warning From /usr/local/lib/python3.6/dist-packages/keras/backend/tensorflow_backend.py:422: The name tf.global_variables is deprecated. Please use tf.compat.v1.global_variables instead.\n",
            "\n",
            "Train on 57915 samples, validate on 6435 samples\n",
            "Epoch 1/10\n",
            "57915/57915 [==============================] - 884s 15ms/step - loss: 0.7512 - acc: 0.1225 - val_loss: 0.6429 - val_acc: 0.1553\n",
            "Epoch 2/10\n",
            "57915/57915 [==============================] - 870s 15ms/step - loss: 0.5862 - acc: 0.1634 - val_loss: 0.5693 - val_acc: 0.1760\n",
            "Epoch 3/10\n",
            "57915/57915 [==============================] - 867s 15ms/step - loss: 0.5360 - acc: 0.1769 - val_loss: 0.5360 - val_acc: 0.1849\n",
            "Epoch 4/10\n",
            "57915/57915 [==============================] - 871s 15ms/step - loss: 0.5092 - acc: 0.1840 - val_loss: 0.5176 - val_acc: 0.1892\n",
            "Epoch 5/10\n",
            "57915/57915 [==============================] - 869s 15ms/step - loss: 0.4920 - acc: 0.1885 - val_loss: 0.5038 - val_acc: 0.1934\n",
            "Epoch 6/10\n",
            "57915/57915 [==============================] - 865s 15ms/step - loss: 0.4796 - acc: 0.1920 - val_loss: 0.4960 - val_acc: 0.1950\n",
            "Epoch 7/10\n",
            "57915/57915 [==============================] - 858s 15ms/step - loss: 0.4703 - acc: 0.1944 - val_loss: 0.4891 - val_acc: 0.1974\n",
            "Epoch 8/10\n",
            "57915/57915 [==============================] - 802s 14ms/step - loss: 0.4629 - acc: 0.1964 - val_loss: 0.4846 - val_acc: 0.1988\n",
            "Epoch 9/10\n",
            "57915/57915 [==============================] - 767s 13ms/step - loss: 0.4567 - acc: 0.1981 - val_loss: 0.4812 - val_acc: 0.1995\n",
            "Epoch 10/10\n",
            "57915/57915 [==============================] - 755s 13ms/step - loss: 0.4515 - acc: 0.1994 - val_loss: 0.4785 - val_acc: 0.2004\n"
          ],
          "name": "stdout"
        },
        {
          "output_type": "execute_result",
          "data": {
            "text/plain": [
              "<keras.callbacks.callbacks.History at 0x7ff478fb60f0>"
            ]
          },
          "metadata": {
            "tags": []
          },
          "execution_count": 18
        }
      ]
    },
    {
      "cell_type": "code",
      "metadata": {
        "id": "ssflFzcZfRlj"
      },
      "source": [
        "model.save('_1model.h5')\r\n",
        "\r\n",
        "model.save_weights('ch10_weights.h5')"
      ],
      "execution_count": null,
      "outputs": []
    },
    {
      "cell_type": "code",
      "metadata": {
        "id": "0SghdKBbfgER"
      },
      "source": [
        "from nlpia.loaders import DATA_PATH"
      ],
      "execution_count": null,
      "outputs": []
    },
    {
      "cell_type": "code",
      "metadata": {
        "id": "u34V7mXXgpI9"
      },
      "source": [
        "import os"
      ],
      "execution_count": null,
      "outputs": []
    },
    {
      "cell_type": "code",
      "metadata": {
        "colab": {
          "base_uri": "https://localhost:8080/"
        },
        "id": "abfTFr4mghCa",
        "outputId": "dc592d15-59de-43d1-beb1-2ae3d79eebeb"
      },
      "source": [
        "model_path = os.path.join(DATA_PATH, 'ch10_train_seq2seq_keras.h5')\r\n",
        "model.save(model_path + '_model')"
      ],
      "execution_count": null,
      "outputs": [
        {
          "output_type": "stream",
          "text": [
            "WARNING:tensorflow:From /usr/local/lib/python3.6/dist-packages/tensorflow/python/training/tracking/tracking.py:111: Model.state_updates (from tensorflow.python.keras.engine.training) is deprecated and will be removed in a future version.\n",
            "Instructions for updating:\n",
            "This property should not be used in TensorFlow 2.0, as updates are applied automatically.\n",
            "2020-12-17 16:22:38,667 WARNING:     tensorflow:323:            new_func From /usr/local/lib/python3.6/dist-packages/tensorflow/python/training/tracking/tracking.py:111: Model.state_updates (from tensorflow.python.keras.engine.training) is deprecated and will be removed in a future version.\n",
            "Instructions for updating:\n",
            "This property should not be used in TensorFlow 2.0, as updates are applied automatically.\n",
            "WARNING:tensorflow:From /usr/local/lib/python3.6/dist-packages/tensorflow/python/training/tracking/tracking.py:111: Layer.updates (from tensorflow.python.keras.engine.base_layer) is deprecated and will be removed in a future version.\n",
            "Instructions for updating:\n",
            "This property should not be used in TensorFlow 2.0, as updates are applied automatically.\n",
            "2020-12-17 16:22:38,681 WARNING:     tensorflow:323:            new_func From /usr/local/lib/python3.6/dist-packages/tensorflow/python/training/tracking/tracking.py:111: Layer.updates (from tensorflow.python.keras.engine.base_layer) is deprecated and will be removed in a future version.\n",
            "Instructions for updating:\n",
            "This property should not be used in TensorFlow 2.0, as updates are applied automatically.\n",
            "INFO:tensorflow:Assets written to: /usr/local/lib/python3.6/dist-packages/nlpia/data/ch10_train_seq2seq_keras.h5_model/assets\n"
          ],
          "name": "stdout"
        }
      ]
    },
    {
      "cell_type": "code",
      "metadata": {
        "id": "mDQZAG2Eg6Ed"
      },
      "source": [
        "model.save('ch10_train_seq2seq_keras.h5')"
      ],
      "execution_count": null,
      "outputs": []
    },
    {
      "cell_type": "code",
      "metadata": {
        "colab": {
          "base_uri": "https://localhost:8080/",
          "height": 35
        },
        "id": "0PH4MkEVgxWV",
        "outputId": "c5224f62-5dc0-42a1-ddf6-9273a437fe39"
      },
      "source": [
        "model_path"
      ],
      "execution_count": null,
      "outputs": [
        {
          "output_type": "execute_result",
          "data": {
            "application/vnd.google.colaboratory.intrinsic+json": {
              "type": "string"
            },
            "text/plain": [
              "'/usr/local/lib/python3.6/dist-packages/nlpia/data/ch10_train_seq2seq_keras.h5'"
            ]
          },
          "metadata": {
            "tags": []
          },
          "execution_count": 23
        }
      ]
    },
    {
      "cell_type": "code",
      "metadata": {
        "id": "oQfc0RrAhoPQ"
      },
      "source": [
        "!cd \"/usr/local/lib/python3.6/dist-packages/nlpia/data/ch10_train_seq2seq_keras.h5_model/assets\""
      ],
      "execution_count": null,
      "outputs": []
    },
    {
      "cell_type": "code",
      "metadata": {
        "colab": {
          "base_uri": "https://localhost:8080/"
        },
        "id": "BMfA8sjIhsdu",
        "outputId": "a69fa143-aa72-423a-ee12-851a7a41c6dc"
      },
      "source": [
        "!ls"
      ],
      "execution_count": null,
      "outputs": [
        {
          "output_type": "stream",
          "text": [
            "ch10_model.json  ch10_train_seq2seq_keras.h5  ch10_weights.h5  sample_data\n"
          ],
          "name": "stdout"
        }
      ]
    },
    {
      "cell_type": "code",
      "metadata": {
        "id": "hWApYfsj2MK7",
        "colab": {
          "base_uri": "https://localhost:8080/",
          "height": 52
        },
        "outputId": "24356ddd-e730-4e65-f9c3-0d74154fa4fe"
      },
      "source": [
        "import keras\r\n",
        "keras.__version__"
      ],
      "execution_count": null,
      "outputs": [
        {
          "output_type": "stream",
          "text": [
            "Using TensorFlow backend.\n"
          ],
          "name": "stderr"
        },
        {
          "output_type": "execute_result",
          "data": {
            "application/vnd.google.colaboratory.intrinsic+json": {
              "type": "string"
            },
            "text/plain": [
              "'2.3.1'"
            ]
          },
          "metadata": {
            "tags": []
          },
          "execution_count": 1
        }
      ]
    },
    {
      "cell_type": "code",
      "metadata": {
        "id": "jUucTJYy2fRQ",
        "colab": {
          "base_uri": "https://localhost:8080/"
        },
        "outputId": "7b412ca4-1c36-4345-b4bb-c950ce5d8561"
      },
      "source": [
        "import tensorflow as tf\r\n",
        "print(tf.__version__)"
      ],
      "execution_count": null,
      "outputs": [
        {
          "output_type": "stream",
          "text": [
            "1.15.4\n"
          ],
          "name": "stdout"
        }
      ]
    },
    {
      "cell_type": "code",
      "metadata": {
        "id": "DfC13WkCkkPC"
      },
      "source": [
        "import os"
      ],
      "execution_count": null,
      "outputs": []
    },
    {
      "cell_type": "code",
      "metadata": {
        "id": "ww6DOeZbHwV7"
      },
      "source": [
        "from keras.models import load_model\r\n",
        "model = load_model('/content/_1model.h5')"
      ],
      "execution_count": null,
      "outputs": []
    },
    {
      "cell_type": "code",
      "metadata": {
        "id": "L0ZJ5XJbIG9A"
      },
      "source": [
        "model.load_weights('/content/ch10_weights.h5')"
      ],
      "execution_count": null,
      "outputs": []
    },
    {
      "cell_type": "code",
      "metadata": {
        "id": "U3xz8CIivwrl"
      },
      "source": [
        "encoder_model = Model(encoder_inputs, encoder_states)\r\n",
        "thought_input = [Input(shape=(num_neurons,)), Input(shape=(num_neurons,))]\r\n",
        "decoder_outputs, state_h, state_c = decoder_lstm(decoder_inputs, initial_state=thought_input)\r\n",
        "decoder_states = [state_h, state_c]\r\n",
        "\r\n"
      ],
      "execution_count": null,
      "outputs": []
    },
    {
      "cell_type": "code",
      "metadata": {
        "colab": {
          "base_uri": "https://localhost:8080/"
        },
        "id": "IWrN2h-xzZOg",
        "outputId": "8ef39bcc-c442-4d0f-cb07-4604ab9420e4"
      },
      "source": [
        "decoder_model = Model(inputs=[decoder_inputs] + thought_input, output=[decoder_outputs] + decoder_states)"
      ],
      "execution_count": null,
      "outputs": [
        {
          "output_type": "stream",
          "text": [
            "/usr/local/lib/python3.6/dist-packages/ipykernel_launcher.py:1: UserWarning: Update your `Model` call to the Keras 2 API: `Model(inputs=[<tf.Tenso..., outputs=[<tf.Tenso...)`\n",
            "  \"\"\"Entry point for launching an IPython kernel.\n"
          ],
          "name": "stderr"
        }
      ]
    },
    {
      "cell_type": "code",
      "metadata": {
        "id": "LEuPxcF-duHH"
      },
      "source": [
        "def decode_sequence(input_seq):\r\n",
        "...     thought = encoder_model.predict(input_seq)  # <1>\r\n",
        "\r\n",
        "...     target_seq = np.zeros((1, 1, output_vocab_size))  # <2>\r\n",
        "...     target_seq[0, 0, target_token_index[stop_token]\r\n",
        "...         ] = 1.  # <3>\r\n",
        "...     stop_condition = False\r\n",
        "...     generated_sequence = ''\r\n",
        "\r\n",
        "...     while not stop_condition:\r\n",
        "...         output_tokens, h, c = decoder_model.predict(\r\n",
        "...             [target_seq] + thought) # <4>\r\n",
        "\r\n",
        "...         generated_token_idx = np.argmax(output_tokens[0, -1, :])\r\n",
        "...         generated_char = reverse_target_char_index[40]\r\n",
        "...         generated_sequence += generated_char\r\n",
        "...         if (generated_char == stop_token or\r\n",
        "...                 len(generated_sequence) > max_decoder_seq_length\r\n",
        "...                 ):  # <5>\r\n",
        "...             stop_condition = True\r\n",
        "\r\n",
        "...         target_seq = np.zeros((1, 1, output_vocab_size))  # <6>\r\n",
        "...         target_seq[0, 0, generated_token_idx] = 1.\r\n",
        "...         thought = [h, c]  # <7>\r\n",
        "\r\n",
        "...     return generated_sequence"
      ],
      "execution_count": null,
      "outputs": []
    },
    {
      "cell_type": "code",
      "metadata": {
        "id": "irZmdigUs4IX"
      },
      "source": [
        "def response(input_text):\r\n",
        "  input_seq = np.zeros((1, max_encoder_seq_length, input_vocab_size), dtype='float32')\r\n",
        "  for t, char in enumerate(input_text):\r\n",
        "    input_seq[0, t, input_token_index[char]] = 1.\r\n",
        "  decoded_sentence = decode_sequence(input_seq)\r\n",
        "  print('Bot Reply (Decoded Sentence): ', decoded_sentence)"
      ],
      "execution_count": null,
      "outputs": []
    },
    {
      "cell_type": "code",
      "metadata": {
        "colab": {
          "base_uri": "https://localhost:8080/",
          "height": 306
        },
        "id": "h8O9VC-avaH8",
        "outputId": "b22809e7-4a7e-4f58-a1ce-a92eb8716ff3"
      },
      "source": [
        "response(\"hello\")"
      ],
      "execution_count": null,
      "outputs": [
        {
          "output_type": "error",
          "ename": "IndexError",
          "evalue": "ignored",
          "traceback": [
            "\u001b[0;31m---------------------------------------------------------------------------\u001b[0m",
            "\u001b[0;31mIndexError\u001b[0m                                Traceback (most recent call last)",
            "\u001b[0;32m<ipython-input-50-af67b0a59976>\u001b[0m in \u001b[0;36m<module>\u001b[0;34m()\u001b[0m\n\u001b[0;32m----> 1\u001b[0;31m \u001b[0mresponse\u001b[0m\u001b[0;34m(\u001b[0m\u001b[0;34m\"hello\"\u001b[0m\u001b[0;34m)\u001b[0m\u001b[0;34m\u001b[0m\u001b[0;34m\u001b[0m\u001b[0m\n\u001b[0m",
            "\u001b[0;32m<ipython-input-49-341191802adc>\u001b[0m in \u001b[0;36mresponse\u001b[0;34m(input_text)\u001b[0m\n\u001b[1;32m      3\u001b[0m   \u001b[0;32mfor\u001b[0m \u001b[0mt\u001b[0m\u001b[0;34m,\u001b[0m \u001b[0mchar\u001b[0m \u001b[0;32min\u001b[0m \u001b[0menumerate\u001b[0m\u001b[0;34m(\u001b[0m\u001b[0minput_text\u001b[0m\u001b[0;34m)\u001b[0m\u001b[0;34m:\u001b[0m\u001b[0;34m\u001b[0m\u001b[0;34m\u001b[0m\u001b[0m\n\u001b[1;32m      4\u001b[0m     \u001b[0minput_seq\u001b[0m\u001b[0;34m[\u001b[0m\u001b[0;36m0\u001b[0m\u001b[0;34m,\u001b[0m \u001b[0mt\u001b[0m\u001b[0;34m,\u001b[0m \u001b[0minput_token_index\u001b[0m\u001b[0;34m[\u001b[0m\u001b[0mchar\u001b[0m\u001b[0;34m]\u001b[0m\u001b[0;34m]\u001b[0m \u001b[0;34m=\u001b[0m \u001b[0;36m1.\u001b[0m\u001b[0;34m\u001b[0m\u001b[0;34m\u001b[0m\u001b[0m\n\u001b[0;32m----> 5\u001b[0;31m   \u001b[0mdecoded_sentence\u001b[0m \u001b[0;34m=\u001b[0m \u001b[0mdecode_sequence\u001b[0m\u001b[0;34m(\u001b[0m\u001b[0minput_seq\u001b[0m\u001b[0;34m)\u001b[0m\u001b[0;34m\u001b[0m\u001b[0;34m\u001b[0m\u001b[0m\n\u001b[0m\u001b[1;32m      6\u001b[0m   \u001b[0mprint\u001b[0m\u001b[0;34m(\u001b[0m\u001b[0;34m'Bot Reply (Decoded Sentence): '\u001b[0m\u001b[0;34m,\u001b[0m \u001b[0mdecoded_sentence\u001b[0m\u001b[0;34m)\u001b[0m\u001b[0;34m\u001b[0m\u001b[0;34m\u001b[0m\u001b[0m\n",
            "\u001b[0;32m<ipython-input-48-f56d022d4a96>\u001b[0m in \u001b[0;36mdecode_sequence\u001b[0;34m(input_seq)\u001b[0m\n\u001b[1;32m     21\u001b[0m \u001b[0;34m\u001b[0m\u001b[0m\n\u001b[1;32m     22\u001b[0m         \u001b[0mtarget_seq\u001b[0m \u001b[0;34m=\u001b[0m \u001b[0mnp\u001b[0m\u001b[0;34m.\u001b[0m\u001b[0mzeros\u001b[0m\u001b[0;34m(\u001b[0m\u001b[0;34m(\u001b[0m\u001b[0;36m1\u001b[0m\u001b[0;34m,\u001b[0m \u001b[0;36m1\u001b[0m\u001b[0;34m,\u001b[0m \u001b[0moutput_vocab_size\u001b[0m\u001b[0;34m)\u001b[0m\u001b[0;34m)\u001b[0m  \u001b[0;31m# <6>\u001b[0m\u001b[0;34m\u001b[0m\u001b[0;34m\u001b[0m\u001b[0m\n\u001b[0;32m---> 23\u001b[0;31m         \u001b[0mtarget_seq\u001b[0m\u001b[0;34m[\u001b[0m\u001b[0;36m0\u001b[0m\u001b[0;34m,\u001b[0m \u001b[0;36m0\u001b[0m\u001b[0;34m,\u001b[0m \u001b[0mgenerated_token_idx\u001b[0m\u001b[0;34m]\u001b[0m \u001b[0;34m=\u001b[0m \u001b[0;36m1.\u001b[0m\u001b[0;34m\u001b[0m\u001b[0;34m\u001b[0m\u001b[0m\n\u001b[0m\u001b[1;32m     24\u001b[0m         \u001b[0mthought\u001b[0m \u001b[0;34m=\u001b[0m \u001b[0;34m[\u001b[0m\u001b[0mh\u001b[0m\u001b[0;34m,\u001b[0m \u001b[0mc\u001b[0m\u001b[0;34m]\u001b[0m  \u001b[0;31m# <7>\u001b[0m\u001b[0;34m\u001b[0m\u001b[0;34m\u001b[0m\u001b[0m\n\u001b[1;32m     25\u001b[0m \u001b[0;34m\u001b[0m\u001b[0m\n",
            "\u001b[0;31mIndexError\u001b[0m: index 135 is out of bounds for axis 2 with size 46"
          ]
        }
      ]
    },
    {
      "cell_type": "code",
      "metadata": {
        "id": "q2Mo64PnviVH",
        "colab": {
          "base_uri": "https://localhost:8080/"
        },
        "outputId": "439e2110-0529-4550-da34-9f406cdb534e"
      },
      "source": [
        "len(reverse_target_char_index)"
      ],
      "execution_count": null,
      "outputs": [
        {
          "output_type": "execute_result",
          "data": {
            "text/plain": [
              "46"
            ]
          },
          "metadata": {
            "tags": []
          },
          "execution_count": 41
        }
      ]
    },
    {
      "cell_type": "code",
      "metadata": {
        "colab": {
          "base_uri": "https://localhost:8080/",
          "height": 163
        },
        "id": "fgDfk9gHJJ2F",
        "outputId": "1d217853-d745-487f-f919-dde81c6653b2"
      },
      "source": [
        "generated_token_idx "
      ],
      "execution_count": null,
      "outputs": [
        {
          "output_type": "error",
          "ename": "NameError",
          "evalue": "ignored",
          "traceback": [
            "\u001b[0;31m---------------------------------------------------------------------------\u001b[0m",
            "\u001b[0;31mNameError\u001b[0m                                 Traceback (most recent call last)",
            "\u001b[0;32m<ipython-input-36-cacab87d4235>\u001b[0m in \u001b[0;36m<module>\u001b[0;34m()\u001b[0m\n\u001b[0;32m----> 1\u001b[0;31m \u001b[0mgenerated_token_idx\u001b[0m\u001b[0;34m\u001b[0m\u001b[0;34m\u001b[0m\u001b[0m\n\u001b[0m",
            "\u001b[0;31mNameError\u001b[0m: name 'generated_token_idx' is not defined"
          ]
        }
      ]
    },
    {
      "cell_type": "code",
      "metadata": {
        "id": "l0nMC18AJTJA"
      },
      "source": [
        ""
      ],
      "execution_count": null,
      "outputs": []
    }
  ]
}